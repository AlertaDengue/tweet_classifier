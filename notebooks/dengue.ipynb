{
 "cells": [
  {
   "cell_type": "code",
   "execution_count": 47,
   "metadata": {},
   "outputs": [],
   "source": [
    "import pandas as pd\n",
    "import numpy as np\n",
    "import pickle\n",
    "from collections import Counter\n",
    "import math\n",
    "import nltk\n",
    "import requests\n",
    "import html\n",
    "import datetime\n",
    "from datetime import timedelta, date\n",
    "import string\n",
    "import json\n",
    "import matplotlib.pyplot as plt\n",
    "import seaborn as sns\n",
    "from sklearn.feature_extraction.text import TfidfVectorizer\n",
    "from sklearn.model_selection import cross_val_score\n",
    "\n",
    "import statsmodels as sm\n",
    "\n",
    "%matplotlib inline"
   ]
  },
  {
   "cell_type": "code",
   "execution_count": 2,
   "metadata": {},
   "outputs": [],
   "source": [
    "data = pd.read_csv(\"../../dados/resultado.csv\", header = None) "
   ]
  },
  {
   "cell_type": "markdown",
   "metadata": {},
   "source": [
    "* Data da mensagem\n",
    "* Usuário que postou a mensagem\n",
    "* Texto da mensagem\n",
    "* Pontuação para  classe=paródia\n",
    "* Pontuação para  classe=opinião\n",
    "* Pontuação para  classe=campanha\n",
    "* Pontuação para  classe=experiência pessoal\n",
    "* Pontuação para  classe=informação\n",
    "* Resultado (qual a classe foi escolhida pela maior pontuação)\n",
    "* Informação (JSON) sobre a localização"
   ]
  },
  {
   "cell_type": "code",
   "execution_count": 3,
   "metadata": {},
   "outputs": [],
   "source": [
    "data.columns = [\"date\", \"user\", \"message\", \"0\", \"1\", \"2\", \"3\", \"4\", \"class\", \"location\"]"
   ]
  },
  {
   "cell_type": "code",
   "execution_count": 4,
   "metadata": {},
   "outputs": [],
   "source": [
    "data['date'] = pd.to_datetime(data['date'])"
   ]
  },
  {
   "cell_type": "code",
   "execution_count": 5,
   "metadata": {},
   "outputs": [
    {
     "data": {
      "text/plain": [
       "date        datetime64[ns]\n",
       "user                object\n",
       "message             object\n",
       "0                  float64\n",
       "1                  float64\n",
       "2                  float64\n",
       "3                  float64\n",
       "4                  float64\n",
       "class                int64\n",
       "location            object\n",
       "dtype: object"
      ]
     },
     "execution_count": 5,
     "metadata": {},
     "output_type": "execute_result"
    }
   ],
   "source": [
    "data.dtypes"
   ]
  },
  {
   "cell_type": "code",
   "execution_count": 6,
   "metadata": {},
   "outputs": [],
   "source": [
    "data = data[data['date'] < '2011-09-30 23:59:59']"
   ]
  },
  {
   "cell_type": "markdown",
   "metadata": {},
   "source": [
    "# save pickle of filtered data"
   ]
  },
  {
   "cell_type": "raw",
   "metadata": {},
   "source": [
    "with open('../../resultado.pkl', 'wb') as f:\n",
    "    pickle.dump(data, f)"
   ]
  },
  {
   "cell_type": "markdown",
   "metadata": {},
   "source": [
    "# load pickle"
   ]
  },
  {
   "cell_type": "code",
   "execution_count": 314,
   "metadata": {},
   "outputs": [],
   "source": [
    "with open('../../resultado.pkl', 'rb') as f:\n",
    "    data = pickle.load(f)"
   ]
  },
  {
   "cell_type": "raw",
   "metadata": {},
   "source": [
    "data_filtered = data2[['message_nostopwords', 'se']]"
   ]
  },
  {
   "cell_type": "code",
   "execution_count": 315,
   "metadata": {},
   "outputs": [],
   "source": [
    "data = data[data['date'] < '2011-09-30 23:59:59']"
   ]
  },
  {
   "cell_type": "code",
   "execution_count": 316,
   "metadata": {},
   "outputs": [],
   "source": [
    "data['date'] = data['date'].dt.strftime(\"%Y-%m-%d\")"
   ]
  },
  {
   "cell_type": "code",
   "execution_count": 317,
   "metadata": {},
   "outputs": [],
   "source": [
    "data['date'] = pd.to_datetime(data['date'])"
   ]
  },
  {
   "cell_type": "code",
   "execution_count": 318,
   "metadata": {},
   "outputs": [
    {
     "data": {
      "text/html": [
       "<div>\n",
       "<style scoped>\n",
       "    .dataframe tbody tr th:only-of-type {\n",
       "        vertical-align: middle;\n",
       "    }\n",
       "\n",
       "    .dataframe tbody tr th {\n",
       "        vertical-align: top;\n",
       "    }\n",
       "\n",
       "    .dataframe thead th {\n",
       "        text-align: right;\n",
       "    }\n",
       "</style>\n",
       "<table border=\"1\" class=\"dataframe\">\n",
       "  <thead>\n",
       "    <tr style=\"text-align: right;\">\n",
       "      <th></th>\n",
       "      <th>date</th>\n",
       "      <th>user</th>\n",
       "      <th>message</th>\n",
       "      <th>0</th>\n",
       "      <th>1</th>\n",
       "      <th>2</th>\n",
       "      <th>3</th>\n",
       "      <th>4</th>\n",
       "      <th>class</th>\n",
       "      <th>location</th>\n",
       "    </tr>\n",
       "  </thead>\n",
       "  <tbody>\n",
       "    <tr>\n",
       "      <th>738140</th>\n",
       "      <td>2011-09-12</td>\n",
       "      <td>claricereis91</td>\n",
       "      <td>@berntfinal Dengue num dá dor na garganta, vc ...</td>\n",
       "      <td>0.147137</td>\n",
       "      <td>0.066065</td>\n",
       "      <td>0.069753</td>\n",
       "      <td>0.544475</td>\n",
       "      <td>0.172570</td>\n",
       "      <td>0</td>\n",
       "      <td>{u'd': 1460387911967, u'v': 1}</td>\n",
       "    </tr>\n",
       "    <tr>\n",
       "      <th>738141</th>\n",
       "      <td>2011-09-12</td>\n",
       "      <td>guinisinmypants</td>\n",
       "      <td>@DearDany Todos os sintomas de dengue.. Até do...</td>\n",
       "      <td>0.130242</td>\n",
       "      <td>0.059683</td>\n",
       "      <td>0.119528</td>\n",
       "      <td>0.488431</td>\n",
       "      <td>0.202117</td>\n",
       "      <td>0</td>\n",
       "      <td>{u'd': 1460387911968, u'v': 1}</td>\n",
       "    </tr>\n",
       "    <tr>\n",
       "      <th>738142</th>\n",
       "      <td>2011-09-12</td>\n",
       "      <td>eu_plfl</td>\n",
       "      <td>a @pqjade_  tem problemas e dengue no #cerebro</td>\n",
       "      <td>0.295350</td>\n",
       "      <td>0.144311</td>\n",
       "      <td>0.110989</td>\n",
       "      <td>0.201095</td>\n",
       "      <td>0.248256</td>\n",
       "      <td>1</td>\n",
       "      <td>{u'city': u'Sao Jose dos Pinhais', u'country':...</td>\n",
       "    </tr>\n",
       "    <tr>\n",
       "      <th>738143</th>\n",
       "      <td>2011-09-12</td>\n",
       "      <td>Pathy_Aleixo</td>\n",
       "      <td>@ronaldoarreios Tô com dengue.... Meu corpo da...</td>\n",
       "      <td>0.084619</td>\n",
       "      <td>0.036423</td>\n",
       "      <td>0.048278</td>\n",
       "      <td>0.739830</td>\n",
       "      <td>0.090849</td>\n",
       "      <td>0</td>\n",
       "      <td>{u'd': 1460387912416, u'v': 1}</td>\n",
       "    </tr>\n",
       "    <tr>\n",
       "      <th>738144</th>\n",
       "      <td>2011-09-12</td>\n",
       "      <td>_rachelmarques</td>\n",
       "      <td>Minha ta mais parada do que foco de mosquito d...</td>\n",
       "      <td>0.500673</td>\n",
       "      <td>0.088380</td>\n",
       "      <td>0.053413</td>\n",
       "      <td>0.200705</td>\n",
       "      <td>0.156830</td>\n",
       "      <td>1</td>\n",
       "      <td>{u'city': u'Rio de Janeiro', u'country': u'Bra...</td>\n",
       "    </tr>\n",
       "  </tbody>\n",
       "</table>\n",
       "</div>"
      ],
      "text/plain": [
       "             date             user  \\\n",
       "738140 2011-09-12    claricereis91   \n",
       "738141 2011-09-12  guinisinmypants   \n",
       "738142 2011-09-12          eu_plfl   \n",
       "738143 2011-09-12     Pathy_Aleixo   \n",
       "738144 2011-09-12   _rachelmarques   \n",
       "\n",
       "                                                  message         0         1  \\\n",
       "738140  @berntfinal Dengue num dá dor na garganta, vc ...  0.147137  0.066065   \n",
       "738141  @DearDany Todos os sintomas de dengue.. Até do...  0.130242  0.059683   \n",
       "738142     a @pqjade_  tem problemas e dengue no #cerebro  0.295350  0.144311   \n",
       "738143  @ronaldoarreios Tô com dengue.... Meu corpo da...  0.084619  0.036423   \n",
       "738144  Minha ta mais parada do que foco de mosquito d...  0.500673  0.088380   \n",
       "\n",
       "               2         3         4  class  \\\n",
       "738140  0.069753  0.544475  0.172570      0   \n",
       "738141  0.119528  0.488431  0.202117      0   \n",
       "738142  0.110989  0.201095  0.248256      1   \n",
       "738143  0.048278  0.739830  0.090849      0   \n",
       "738144  0.053413  0.200705  0.156830      1   \n",
       "\n",
       "                                                 location  \n",
       "738140                     {u'd': 1460387911967, u'v': 1}  \n",
       "738141                     {u'd': 1460387911968, u'v': 1}  \n",
       "738142  {u'city': u'Sao Jose dos Pinhais', u'country':...  \n",
       "738143                     {u'd': 1460387912416, u'v': 1}  \n",
       "738144  {u'city': u'Rio de Janeiro', u'country': u'Bra...  "
      ]
     },
     "execution_count": 318,
     "metadata": {},
     "output_type": "execute_result"
    }
   ],
   "source": [
    "data.tail()"
   ]
  },
  {
   "cell_type": "code",
   "execution_count": 319,
   "metadata": {},
   "outputs": [
    {
     "data": {
      "text/plain": [
       "(603588, 10)"
      ]
     },
     "execution_count": 319,
     "metadata": {},
     "output_type": "execute_result"
    }
   ],
   "source": [
    "data.shape"
   ]
  },
  {
   "cell_type": "markdown",
   "metadata": {},
   "source": [
    "# stopwords"
   ]
  },
  {
   "cell_type": "code",
   "execution_count": 320,
   "metadata": {},
   "outputs": [],
   "source": [
    "stopwords = nltk.corpus.stopwords.words('portuguese')\n",
    "stopwords = list(set(stopwords))"
   ]
  },
  {
   "cell_type": "code",
   "execution_count": 321,
   "metadata": {},
   "outputs": [],
   "source": [
    "try: stopwords.remove('não')\n",
    "except: pass"
   ]
  },
  {
   "cell_type": "code",
   "execution_count": 322,
   "metadata": {},
   "outputs": [],
   "source": [
    "#algumas pontuaçoes podem ser irrelevantes\n",
    "some_punctuation = '-.,'"
   ]
  },
  {
   "cell_type": "code",
   "execution_count": 323,
   "metadata": {},
   "outputs": [],
   "source": [
    "def remove_stopwords(text):\n",
    "    new_text = \"\"\n",
    "    for word in text.lower().split():\n",
    "        if word not in stopwords and len(word)>1:\n",
    "            word = word.strip(some_punctuation)\n",
    "            new_text = new_text + ' ' + word\n",
    "    return new_text"
   ]
  },
  {
   "cell_type": "markdown",
   "metadata": {},
   "source": [
    "new column: text without stopwords"
   ]
  },
  {
   "cell_type": "code",
   "execution_count": 324,
   "metadata": {},
   "outputs": [],
   "source": [
    "data['message_nostopwords'] = data['message'].apply(remove_stopwords)"
   ]
  },
  {
   "cell_type": "markdown",
   "metadata": {},
   "source": [
    "# build epidemiologic weeks\n",
    "* Week one of every year is the first week with 4 days or more.\n",
    "* Timestamp of the study comprises: 21/11/2010-30/09/2011"
   ]
  },
  {
   "cell_type": "code",
   "execution_count": 325,
   "metadata": {},
   "outputs": [],
   "source": [
    "def daterange(date1, date2):\n",
    "    for n in range(int ((date2 - date1).days)+1):\n",
    "        yield date1 + timedelta(n)\n",
    "\n",
    "start_dt = date(2010, 1, 1)\n",
    "end_dt = date(2011, 10, 30)\n",
    "dates = []\n",
    "for dt in daterange(start_dt, end_dt):\n",
    "    dates.append(dt.strftime(\"%Y-%m-%d\"))"
   ]
  },
  {
   "cell_type": "code",
   "execution_count": 326,
   "metadata": {},
   "outputs": [],
   "source": [
    "dates_2010 = dates[:365]\n",
    "dates_2011 = dates[365:]"
   ]
  },
  {
   "cell_type": "code",
   "execution_count": 327,
   "metadata": {},
   "outputs": [],
   "source": [
    "ep_week_lst = []\n",
    "count = 0\n",
    "epidemic_week = 1\n",
    "ep_week_lst.extend([201000]*2)\n",
    "for d in dates_2010[2:]:\n",
    "    if count == 7:\n",
    "        epidemic_week += 1\n",
    "        count = 0\n",
    "    count += 1\n",
    "    str_week = str(epidemic_week)\n",
    "    if len(str_week) == 1: str_week = '0'+str_week\n",
    "    year_week = '2010'+str_week\n",
    "    ep_week_lst.append(year_week)\n",
    "    \n",
    "count = 0\n",
    "epidemic_week = 1\n",
    "ep_week_lst.append(201100)\n",
    "for d in dates_2011[1:]:\n",
    "    if count == 7:\n",
    "        epidemic_week += 1\n",
    "        count = 0\n",
    "    count += 1\n",
    "    str_week = str(epidemic_week)\n",
    "    if len(str_week) == 1: str_week = '0'+str_week\n",
    "    year_week = '2011'+str_week\n",
    "    ep_week_lst.append(year_week)"
   ]
  },
  {
   "cell_type": "raw",
   "metadata": {},
   "source": [
    "#research on 2010 comprises only the 41 last days\n",
    "days_2010 = 365-41 \n",
    "ep_week_lst = ep_week_lst[days_2010:]"
   ]
  },
  {
   "cell_type": "code",
   "execution_count": 328,
   "metadata": {},
   "outputs": [
    {
     "data": {
      "text/plain": [
       "'2008-12-21'"
      ]
     },
     "execution_count": 328,
     "metadata": {},
     "output_type": "execute_result"
    }
   ],
   "source": [
    "datetime.datetime.strptime(\"21/12/2008 20:04:44\", \"%d/%m/%Y %H:%M:%S\").strftime(\"%Y-%m-%d\")"
   ]
  },
  {
   "cell_type": "code",
   "execution_count": 329,
   "metadata": {},
   "outputs": [
    {
     "data": {
      "text/plain": [
       "date                   datetime64[ns]\n",
       "user                           object\n",
       "message                        object\n",
       "0                             float64\n",
       "1                             float64\n",
       "2                             float64\n",
       "3                             float64\n",
       "4                             float64\n",
       "class                           int64\n",
       "location                       object\n",
       "message_nostopwords            object\n",
       "dtype: object"
      ]
     },
     "execution_count": 329,
     "metadata": {},
     "output_type": "execute_result"
    }
   ],
   "source": [
    "data.dtypes"
   ]
  },
  {
   "cell_type": "code",
   "execution_count": 330,
   "metadata": {},
   "outputs": [],
   "source": [
    "def date_to_epweek(row):\n",
    "    #print(type(row))\n",
    "    #print(row)\n",
    "    row = row.strftime(\"%Y-%m-%d\")\n",
    "    date_index = dates.index(row)\n",
    "    year_week = ep_week_lst[date_index]\n",
    "    return year_week\n",
    "data['se'] = data['date'].apply(date_to_epweek) #se = epidemiologic week"
   ]
  },
  {
   "cell_type": "code",
   "execution_count": 331,
   "metadata": {
    "scrolled": true
   },
   "outputs": [
    {
     "data": {
      "text/html": [
       "<div>\n",
       "<style scoped>\n",
       "    .dataframe tbody tr th:only-of-type {\n",
       "        vertical-align: middle;\n",
       "    }\n",
       "\n",
       "    .dataframe tbody tr th {\n",
       "        vertical-align: top;\n",
       "    }\n",
       "\n",
       "    .dataframe thead th {\n",
       "        text-align: right;\n",
       "    }\n",
       "</style>\n",
       "<table border=\"1\" class=\"dataframe\">\n",
       "  <thead>\n",
       "    <tr style=\"text-align: right;\">\n",
       "      <th></th>\n",
       "      <th>date</th>\n",
       "      <th>user</th>\n",
       "      <th>message</th>\n",
       "      <th>0</th>\n",
       "      <th>1</th>\n",
       "      <th>2</th>\n",
       "      <th>3</th>\n",
       "      <th>4</th>\n",
       "      <th>class</th>\n",
       "      <th>location</th>\n",
       "      <th>message_nostopwords</th>\n",
       "      <th>se</th>\n",
       "    </tr>\n",
       "  </thead>\n",
       "  <tbody>\n",
       "    <tr>\n",
       "      <th>0</th>\n",
       "      <td>2010-11-19</td>\n",
       "      <td>PauloAfBahia</td>\n",
       "      <td>A dengue mata mas com simples gestos de preven...</td>\n",
       "      <td>0.138010</td>\n",
       "      <td>0.101521</td>\n",
       "      <td>0.254248</td>\n",
       "      <td>0.085880</td>\n",
       "      <td>0.420341</td>\n",
       "      <td>3</td>\n",
       "      <td>{u'd': 1443198862750, u'v': 1}</td>\n",
       "      <td>dengue mata simples gestos prevenção podemos ...</td>\n",
       "      <td>201046</td>\n",
       "    </tr>\n",
       "    <tr>\n",
       "      <th>1</th>\n",
       "      <td>2010-11-19</td>\n",
       "      <td>PortalOuroNegro</td>\n",
       "      <td>Mutirão contra a Dengue começou nesta sexta em...</td>\n",
       "      <td>0.105452</td>\n",
       "      <td>0.056434</td>\n",
       "      <td>0.248333</td>\n",
       "      <td>0.188912</td>\n",
       "      <td>0.400869</td>\n",
       "      <td>3</td>\n",
       "      <td>{u'city': u'Linhares', u'country': u'Brasil', ...</td>\n",
       "      <td>mutirão contra dengue começou nesta sexta lin...</td>\n",
       "      <td>201046</td>\n",
       "    </tr>\n",
       "    <tr>\n",
       "      <th>2</th>\n",
       "      <td>2010-11-19</td>\n",
       "      <td>Kustelaas</td>\n",
       "      <td>@depChicoAlencar amannhã alem do dia da consiê...</td>\n",
       "      <td>0.054194</td>\n",
       "      <td>0.084122</td>\n",
       "      <td>0.213530</td>\n",
       "      <td>0.146927</td>\n",
       "      <td>0.501226</td>\n",
       "      <td>3</td>\n",
       "      <td>{u'country': u'Brasil', u'state': u'MT', u'typ...</td>\n",
       "      <td>@depchicoalencar amannhã alem dia consiência ...</td>\n",
       "      <td>201046</td>\n",
       "    </tr>\n",
       "    <tr>\n",
       "      <th>3</th>\n",
       "      <td>2010-11-19</td>\n",
       "      <td>Raul_Jungmann</td>\n",
       "      <td>Pernambuco tem risco de sofrer epidemia de den...</td>\n",
       "      <td>0.080289</td>\n",
       "      <td>0.106928</td>\n",
       "      <td>0.054929</td>\n",
       "      <td>0.141276</td>\n",
       "      <td>0.616577</td>\n",
       "      <td>3</td>\n",
       "      <td>{u'city': u'Recife', u'country': u'Brasil', u'...</td>\n",
       "      <td>pernambuco risco sofrer epidemia dengue http:...</td>\n",
       "      <td>201046</td>\n",
       "    </tr>\n",
       "    <tr>\n",
       "      <th>4</th>\n",
       "      <td>2010-11-19</td>\n",
       "      <td>laana_mello</td>\n",
       "      <td>Rpz...acho q a Caueira tah com surto de dengue...</td>\n",
       "      <td>0.112013</td>\n",
       "      <td>0.143425</td>\n",
       "      <td>0.094947</td>\n",
       "      <td>0.429626</td>\n",
       "      <td>0.219990</td>\n",
       "      <td>0</td>\n",
       "      <td>{u'country': u'Brasil', u'state': u'MT', u'typ...</td>\n",
       "      <td>rpz...acho caueira tah surto dengue soh pode....</td>\n",
       "      <td>201046</td>\n",
       "    </tr>\n",
       "  </tbody>\n",
       "</table>\n",
       "</div>"
      ],
      "text/plain": [
       "        date             user  \\\n",
       "0 2010-11-19     PauloAfBahia   \n",
       "1 2010-11-19  PortalOuroNegro   \n",
       "2 2010-11-19        Kustelaas   \n",
       "3 2010-11-19    Raul_Jungmann   \n",
       "4 2010-11-19      laana_mello   \n",
       "\n",
       "                                             message         0         1  \\\n",
       "0  A dengue mata mas com simples gestos de preven...  0.138010  0.101521   \n",
       "1  Mutirão contra a Dengue começou nesta sexta em...  0.105452  0.056434   \n",
       "2  @depChicoAlencar amannhã alem do dia da consiê...  0.054194  0.084122   \n",
       "3  Pernambuco tem risco de sofrer epidemia de den...  0.080289  0.106928   \n",
       "4  Rpz...acho q a Caueira tah com surto de dengue...  0.112013  0.143425   \n",
       "\n",
       "          2         3         4  class  \\\n",
       "0  0.254248  0.085880  0.420341      3   \n",
       "1  0.248333  0.188912  0.400869      3   \n",
       "2  0.213530  0.146927  0.501226      3   \n",
       "3  0.054929  0.141276  0.616577      3   \n",
       "4  0.094947  0.429626  0.219990      0   \n",
       "\n",
       "                                            location  \\\n",
       "0                     {u'd': 1443198862750, u'v': 1}   \n",
       "1  {u'city': u'Linhares', u'country': u'Brasil', ...   \n",
       "2  {u'country': u'Brasil', u'state': u'MT', u'typ...   \n",
       "3  {u'city': u'Recife', u'country': u'Brasil', u'...   \n",
       "4  {u'country': u'Brasil', u'state': u'MT', u'typ...   \n",
       "\n",
       "                                 message_nostopwords      se  \n",
       "0   dengue mata simples gestos prevenção podemos ...  201046  \n",
       "1   mutirão contra dengue começou nesta sexta lin...  201046  \n",
       "2   @depchicoalencar amannhã alem dia consiência ...  201046  \n",
       "3   pernambuco risco sofrer epidemia dengue http:...  201046  \n",
       "4   rpz...acho caueira tah surto dengue soh pode....  201046  "
      ]
     },
     "execution_count": 331,
     "metadata": {},
     "output_type": "execute_result"
    }
   ],
   "source": [
    "data.head()"
   ]
  },
  {
   "cell_type": "markdown",
   "metadata": {},
   "source": [
    "# Infodengue\n",
    "The research comprises 12 cities:\n",
    "* Belém, Belo Horizonte, Brasília,Fortaleza, Manaus, Natal, Rio Branco, Rio de Janeiro, São Paulo, Londrina, Niterói, Ribeirão Preto.\n",
    "* Source of geocodes: https://ww2.ibge.gov.br/home/geociencias/geografia/redes_fluxos/gestao_do_territorio_2014/base.shtm\n",
    "* File of the geocodes: Base_de_dados_dos_municipios.xls"
   ]
  },
  {
   "cell_type": "markdown",
   "metadata": {},
   "source": [
    "### geocodes"
   ]
  },
  {
   "cell_type": "code",
   "execution_count": 2,
   "metadata": {},
   "outputs": [],
   "source": [
    "geocodes_BR = pd.read_excel (r'..\\inputs\\Base_de_dados_dos_municipios.xls')\n",
    "geocodes_BR = geocodes_BR[['UF', 'Codmundv', 'NomeMunic']]"
   ]
  },
  {
   "cell_type": "markdown",
   "metadata": {},
   "source": [
    "### infodengue - Rio de Janeiro"
   ]
  },
  {
   "cell_type": "code",
   "execution_count": 3,
   "metadata": {},
   "outputs": [
    {
     "name": "stdout",
     "output_type": "stream",
     "text": [
      "Success!\n"
     ]
    }
   ],
   "source": [
    "municipality= 'Rio de Janeiro'.upper()\n",
    "geocode_row = geocodes_BR.loc[geocodes_BR['NomeMunic'] == municipality]\n",
    "geocode = list(geocode_row.iloc[:,1])[0]\n",
    "url = 'https://info.dengue.mat.br/api/alertcity/?geocode=3304557&disease=dengue&format=csv&ew_start=47&ey_start=2010&ew_end=39&ey_end=2011'\n",
    "r = requests.get(url)\n",
    "if r:\n",
    "    print('Success!')\n",
    "else:\n",
    "    print('An error has occurred.')"
   ]
  },
  {
   "cell_type": "code",
   "execution_count": 4,
   "metadata": {},
   "outputs": [
    {
     "data": {
      "text/plain": [
       "{'Server': 'nginx/1.4.6 (Ubuntu)', 'Date': 'Wed, 08 May 2019 17:27:50 GMT', 'Content-Type': 'text/plain', 'Content-Length': '11546', 'Connection': 'keep-alive', 'X-Frame-Options': 'SAMEORIGIN', 'Vary': 'Accept-Language, Cookie, Accept-Encoding', 'Content-Language': 'pt-br', 'Content-Encoding': 'gzip'}"
      ]
     },
     "execution_count": 4,
     "metadata": {},
     "output_type": "execute_result"
    }
   ],
   "source": [
    "r.headers"
   ]
  },
  {
   "cell_type": "code",
   "execution_count": 5,
   "metadata": {},
   "outputs": [],
   "source": [
    "r = r.text.split('\\n')"
   ]
  },
  {
   "cell_type": "code",
   "execution_count": 6,
   "metadata": {},
   "outputs": [],
   "source": [
    "count = 0\n",
    "for row in r:\n",
    "    split_row = row.split(',')\n",
    "    r[count] = split_row\n",
    "    count += 1\n",
    "headers = r.pop(0)"
   ]
  },
  {
   "cell_type": "code",
   "execution_count": 7,
   "metadata": {},
   "outputs": [
    {
     "data": {
      "text/html": [
       "<div>\n",
       "<style scoped>\n",
       "    .dataframe tbody tr th:only-of-type {\n",
       "        vertical-align: middle;\n",
       "    }\n",
       "\n",
       "    .dataframe tbody tr th {\n",
       "        vertical-align: top;\n",
       "    }\n",
       "\n",
       "    .dataframe thead th {\n",
       "        text-align: right;\n",
       "    }\n",
       "</style>\n",
       "<table border=\"1\" class=\"dataframe\">\n",
       "  <thead>\n",
       "    <tr style=\"text-align: right;\">\n",
       "      <th></th>\n",
       "      <th>se</th>\n",
       "      <th>data</th>\n",
       "      <th>tweets</th>\n",
       "      <th>casos</th>\n",
       "    </tr>\n",
       "  </thead>\n",
       "  <tbody>\n",
       "    <tr>\n",
       "      <th>0</th>\n",
       "      <td>201112</td>\n",
       "      <td>2011-03-20</td>\n",
       "      <td></td>\n",
       "      <td>530</td>\n",
       "    </tr>\n",
       "    <tr>\n",
       "      <th>1</th>\n",
       "      <td>201135</td>\n",
       "      <td>2011-08-28</td>\n",
       "      <td></td>\n",
       "      <td>12</td>\n",
       "    </tr>\n",
       "    <tr>\n",
       "      <th>2</th>\n",
       "      <td>201104</td>\n",
       "      <td>2011-01-23</td>\n",
       "      <td></td>\n",
       "      <td>56</td>\n",
       "    </tr>\n",
       "    <tr>\n",
       "      <th>3</th>\n",
       "      <td>201123</td>\n",
       "      <td>2011-06-05</td>\n",
       "      <td></td>\n",
       "      <td>29</td>\n",
       "    </tr>\n",
       "    <tr>\n",
       "      <th>4</th>\n",
       "      <td>201101</td>\n",
       "      <td>2011-01-02</td>\n",
       "      <td></td>\n",
       "      <td>10</td>\n",
       "    </tr>\n",
       "  </tbody>\n",
       "</table>\n",
       "</div>"
      ],
      "text/plain": [
       "       se        data tweets casos\n",
       "0  201112  2011-03-20          530\n",
       "1  201135  2011-08-28           12\n",
       "2  201104  2011-01-23           56\n",
       "3  201123  2011-06-05           29\n",
       "4  201101  2011-01-02           10"
      ]
     },
     "execution_count": 7,
     "metadata": {},
     "output_type": "execute_result"
    }
   ],
   "source": [
    "infodengue = pd.DataFrame(r, columns=headers)\n",
    "infodengue = infodengue.iloc[:,2:6]\n",
    "infodengue.head()"
   ]
  },
  {
   "cell_type": "code",
   "execution_count": 8,
   "metadata": {},
   "outputs": [
    {
     "data": {
      "text/plain": [
       "(451, 4)"
      ]
     },
     "execution_count": 8,
     "metadata": {},
     "output_type": "execute_result"
    }
   ],
   "source": [
    "infodengue.shape"
   ]
  },
  {
   "cell_type": "code",
   "execution_count": 9,
   "metadata": {},
   "outputs": [],
   "source": [
    "infodengue['casos'] = infodengue['casos'].fillna(0).astype(int)"
   ]
  },
  {
   "cell_type": "code",
   "execution_count": 10,
   "metadata": {},
   "outputs": [],
   "source": [
    "infodengue = infodengue.groupby(['se']).sum()"
   ]
  },
  {
   "cell_type": "code",
   "execution_count": 11,
   "metadata": {},
   "outputs": [
    {
     "data": {
      "text/html": [
       "<div>\n",
       "<style scoped>\n",
       "    .dataframe tbody tr th:only-of-type {\n",
       "        vertical-align: middle;\n",
       "    }\n",
       "\n",
       "    .dataframe tbody tr th {\n",
       "        vertical-align: top;\n",
       "    }\n",
       "\n",
       "    .dataframe thead th {\n",
       "        text-align: right;\n",
       "    }\n",
       "</style>\n",
       "<table border=\"1\" class=\"dataframe\">\n",
       "  <thead>\n",
       "    <tr style=\"text-align: right;\">\n",
       "      <th></th>\n",
       "      <th>casos</th>\n",
       "    </tr>\n",
       "    <tr>\n",
       "      <th>se</th>\n",
       "      <th></th>\n",
       "    </tr>\n",
       "  </thead>\n",
       "  <tbody>\n",
       "    <tr>\n",
       "      <th>201047</th>\n",
       "      <td>74</td>\n",
       "    </tr>\n",
       "    <tr>\n",
       "      <th>201048</th>\n",
       "      <td>93</td>\n",
       "    </tr>\n",
       "    <tr>\n",
       "      <th>201049</th>\n",
       "      <td>149</td>\n",
       "    </tr>\n",
       "    <tr>\n",
       "      <th>201050</th>\n",
       "      <td>195</td>\n",
       "    </tr>\n",
       "    <tr>\n",
       "      <th>201051</th>\n",
       "      <td>155</td>\n",
       "    </tr>\n",
       "  </tbody>\n",
       "</table>\n",
       "</div>"
      ],
      "text/plain": [
       "        casos\n",
       "se           \n",
       "201047     74\n",
       "201048     93\n",
       "201049    149\n",
       "201050    195\n",
       "201051    155"
      ]
     },
     "execution_count": 11,
     "metadata": {},
     "output_type": "execute_result"
    }
   ],
   "source": [
    "infodengue.head()"
   ]
  },
  {
   "cell_type": "markdown",
   "metadata": {},
   "source": [
    "### check epidemiologic week consistency"
   ]
  },
  {
   "cell_type": "code",
   "execution_count": 356,
   "metadata": {},
   "outputs": [],
   "source": [
    "df_week_pairs = list(zip(list(infodengue['se']), list(infodengue['data'])))\n",
    "const_week_pairs = list(zip(ep_week_lst, dates))"
   ]
  },
  {
   "cell_type": "code",
   "execution_count": 357,
   "metadata": {},
   "outputs": [
    {
     "name": "stdout",
     "output_type": "stream",
     "text": [
      "Weeks were correctly built\n"
     ]
    }
   ],
   "source": [
    "consistent = True\n",
    "for i in df_week_pairs: \n",
    "    if i not in const_week_pairs and i != (None, None):\n",
    "        consistent = False\n",
    "        print('Please, check the epidemic weeks construction again')\n",
    "        break\n",
    "if consistent: print('Weeks were correctly built')"
   ]
  },
  {
   "cell_type": "raw",
   "metadata": {},
   "source": [
    "if any(df_week_pairs) in const_week_pairs:\n",
    "    print('epidemic weeks are properly constructed')\n",
    "#else:\n",
    "#    print('Please, check the epidemic weeks construction again')"
   ]
  },
  {
   "cell_type": "markdown",
   "metadata": {},
   "source": [
    "### group tweet data by week, and filter irrelevant columns"
   ]
  },
  {
   "cell_type": "code",
   "execution_count": 332,
   "metadata": {},
   "outputs": [],
   "source": [
    "data = data[['message_nostopwords', 'se']]"
   ]
  },
  {
   "cell_type": "code",
   "execution_count": 333,
   "metadata": {},
   "outputs": [],
   "source": [
    "data = data.groupby(['se'])['message_nostopwords'].apply(lambda x: ' '.join(x))"
   ]
  },
  {
   "cell_type": "code",
   "execution_count": 334,
   "metadata": {},
   "outputs": [],
   "source": [
    "data = pd.DataFrame(data)"
   ]
  },
  {
   "cell_type": "code",
   "execution_count": 335,
   "metadata": {},
   "outputs": [],
   "source": [
    "data_bak = data.copy()"
   ]
  },
  {
   "cell_type": "code",
   "execution_count": 337,
   "metadata": {},
   "outputs": [
    {
     "data": {
      "text/html": [
       "<div>\n",
       "<style scoped>\n",
       "    .dataframe tbody tr th:only-of-type {\n",
       "        vertical-align: middle;\n",
       "    }\n",
       "\n",
       "    .dataframe tbody tr th {\n",
       "        vertical-align: top;\n",
       "    }\n",
       "\n",
       "    .dataframe thead th {\n",
       "        text-align: right;\n",
       "    }\n",
       "</style>\n",
       "<table border=\"1\" class=\"dataframe\">\n",
       "  <thead>\n",
       "    <tr style=\"text-align: right;\">\n",
       "      <th></th>\n",
       "      <th>message_nostopwords</th>\n",
       "    </tr>\n",
       "    <tr>\n",
       "      <th>se</th>\n",
       "      <th></th>\n",
       "    </tr>\n",
       "  </thead>\n",
       "  <tbody>\n",
       "    <tr>\n",
       "      <th>201002</th>\n",
       "      <td>aqui casa repelente estocado deus livre pegar...</td>\n",
       "    </tr>\n",
       "    <tr>\n",
       "      <th>201006</th>\n",
       "      <td>rt @souintelijente: urgente alerta informar m...</td>\n",
       "    </tr>\n",
       "    <tr>\n",
       "      <th>201010</th>\n",
       "      <td>lol rt @dropsbh: @aakkari praga perto dengue ...</td>\n",
       "    </tr>\n",
       "    <tr>\n",
       "      <th>201015</th>\n",
       "      <td>@gehalls xiii dengue!  @felipeazevedo10 to de...</td>\n",
       "    </tr>\n",
       "    <tr>\n",
       "      <th>201019</th>\n",
       "      <td>campanha combate dengue \"tropa\" trocou branco...</td>\n",
       "    </tr>\n",
       "  </tbody>\n",
       "</table>\n",
       "</div>"
      ],
      "text/plain": [
       "                                      message_nostopwords\n",
       "se                                                       \n",
       "201002   aqui casa repelente estocado deus livre pegar...\n",
       "201006   rt @souintelijente: urgente alerta informar m...\n",
       "201010   lol rt @dropsbh: @aakkari praga perto dengue ...\n",
       "201015   @gehalls xiii dengue!  @felipeazevedo10 to de...\n",
       "201019   campanha combate dengue \"tropa\" trocou branco..."
      ]
     },
     "execution_count": 337,
     "metadata": {},
     "output_type": "execute_result"
    }
   ],
   "source": [
    "data_bak.head()"
   ]
  },
  {
   "cell_type": "code",
   "execution_count": 311,
   "metadata": {},
   "outputs": [],
   "source": [
    "data = data_bak"
   ]
  },
  {
   "cell_type": "markdown",
   "metadata": {},
   "source": [
    "# TF-IDF"
   ]
  },
  {
   "cell_type": "markdown",
   "metadata": {},
   "source": [
    "* https://www.kdnuggets.com/2018/08/wtf-tf-idf.html\n",
    "* using elastic search: https://stackoverflow.com/questions/42220764/elasticsearch-getting-the-tf-idf-of-every-term-in-a-given-document"
   ]
  },
  {
   "cell_type": "markdown",
   "metadata": {},
   "source": [
    "limitar por frequencia relativa\n",
    "\n",
    "tf/total de palavras"
   ]
  },
  {
   "cell_type": "code",
   "execution_count": 338,
   "metadata": {},
   "outputs": [],
   "source": [
    "tfidf = TfidfVectorizer(\n",
    "    analyzer='word')  "
   ]
  },
  {
   "cell_type": "code",
   "execution_count": 339,
   "metadata": {},
   "outputs": [
    {
     "data": {
      "text/plain": [
       "TfidfVectorizer(analyzer='word', binary=False, decode_error='strict',\n",
       "        dtype=<class 'numpy.float64'>, encoding='utf-8', input='content',\n",
       "        lowercase=True, max_df=1.0, max_features=None, min_df=1,\n",
       "        ngram_range=(1, 1), norm='l2', preprocessor=None, smooth_idf=True,\n",
       "        stop_words=None, strip_accents=None, sublinear_tf=False,\n",
       "        token_pattern='(?u)\\\\b\\\\w\\\\w+\\\\b', tokenizer=None, use_idf=True,\n",
       "        vocabulary=None)"
      ]
     },
     "execution_count": 339,
     "metadata": {},
     "output_type": "execute_result"
    }
   ],
   "source": [
    "tfidf.fit(data['message_nostopwords'])"
   ]
  },
  {
   "cell_type": "code",
   "execution_count": 340,
   "metadata": {},
   "outputs": [],
   "source": [
    "idf_counter = Counter()\n",
    "for text in data['message_nostopwords']:\n",
    "    words = set(text.lower().split())\n",
    "    idf_counter.update(words)\n",
    "    \n",
    "idf = {\n",
    "  word: math.log(len(data)/df, 2)\n",
    "  for word, df in idf_counter.items()\n",
    "}"
   ]
  },
  {
   "cell_type": "code",
   "execution_count": 341,
   "metadata": {},
   "outputs": [],
   "source": [
    "counter = Counter()\n",
    "for text in data['message_nostopwords']:\n",
    "    words = text.lower().split()\n",
    "    counter.update(words)"
   ]
  },
  {
   "cell_type": "code",
   "execution_count": 597,
   "metadata": {},
   "outputs": [],
   "source": [
    "tf_top = sorted(counter, key=counter.get)[-500:]"
   ]
  },
  {
   "cell_type": "code",
   "execution_count": 419,
   "metadata": {},
   "outputs": [],
   "source": [
    "idf_top = sorted(idf, key=idf.get)[:50]"
   ]
  },
  {
   "cell_type": "code",
   "execution_count": 345,
   "metadata": {},
   "outputs": [],
   "source": [
    "# nao funciona, pq idf foi zerado\n",
    "def tfidf(text, term):\n",
    "    text = text.lower().split()\n",
    "    \n",
    "    tfidf = 0\n",
    "    tf = 0\n",
    "    for word in text:\n",
    "        if word == term:\n",
    "            tf += 1\n",
    "    tfidf = (1 + math.log(tf, 2)) * idf[term]\n",
    "    #tfidf = idf[term]\n",
    "    return tfidf"
   ]
  },
  {
   "cell_type": "code",
   "execution_count": 526,
   "metadata": {},
   "outputs": [],
   "source": [
    "#usando freq absoluta\n",
    "def abs_tf(text, term):\n",
    "    text = text.lower().split()\n",
    "    \n",
    "    tf = 0\n",
    "    for word in text:\n",
    "        if word == term:\n",
    "            tf += 1\n",
    "    return tf"
   ]
  },
  {
   "cell_type": "raw",
   "metadata": {},
   "source": [
    "for term in idf_top:\n",
    "    data[term] = 0\n",
    "    data[term] = data['message_nostopwords'].apply(lambda text: tfidf(text, term))"
   ]
  },
  {
   "cell_type": "code",
   "execution_count": 527,
   "metadata": {},
   "outputs": [],
   "source": [
    "for term in tf_top:\n",
    "    data[term] = 0\n",
    "    data[term] = data['message_nostopwords'].apply(lambda text: abs_tf(text, term))"
   ]
  },
  {
   "cell_type": "markdown",
   "metadata": {},
   "source": [
    "pickle files"
   ]
  },
  {
   "cell_type": "raw",
   "metadata": {},
   "source": [
    "with open('../../resultado_TFs.pkl', 'wb') as f:\n",
    "    pickle.dump(data, f)"
   ]
  },
  {
   "cell_type": "code",
   "execution_count": 12,
   "metadata": {},
   "outputs": [],
   "source": [
    "with open('../../resultado_TFs.pkl', 'rb') as f:\n",
    "    data = pickle.load(f)"
   ]
  },
  {
   "cell_type": "raw",
   "metadata": {},
   "source": [
    "data = data.drop(['y'], axis=1)"
   ]
  },
  {
   "cell_type": "code",
   "execution_count": 13,
   "metadata": {},
   "outputs": [
    {
     "data": {
      "text/plain": [
       "501"
      ]
     },
     "execution_count": 13,
     "metadata": {},
     "output_type": "execute_result"
    }
   ],
   "source": [
    "len(data.columns)"
   ]
  },
  {
   "cell_type": "raw",
   "metadata": {},
   "source": [
    "data['message_nostopwords'].apply(lambda text: abs_tf(text, 'galera'))"
   ]
  },
  {
   "cell_type": "raw",
   "metadata": {},
   "source": [
    "for token in data.iloc[0, 0].split():\n",
    "    if token == 'água': print(token)\n",
    "    if token == 'todos': print(token)"
   ]
  },
  {
   "cell_type": "markdown",
   "metadata": {},
   "source": [
    "# Lasso regression\n",
    "Using Lasso to choose the most relevant terms"
   ]
  },
  {
   "cell_type": "code",
   "execution_count": 25,
   "metadata": {},
   "outputs": [],
   "source": [
    "from sklearn.linear_model import Lasso\n",
    "from sklearn.linear_model import LassoLarsIC"
   ]
  },
  {
   "cell_type": "code",
   "execution_count": 26,
   "metadata": {},
   "outputs": [],
   "source": [
    "infodengue = infodengue.rename(index=str, columns={\"casos\": \"y\"})"
   ]
  },
  {
   "cell_type": "code",
   "execution_count": 27,
   "metadata": {},
   "outputs": [],
   "source": [
    "data = pd.merge(data, infodengue, on='se', how='inner')"
   ]
  },
  {
   "cell_type": "code",
   "execution_count": 28,
   "metadata": {},
   "outputs": [
    {
     "data": {
      "text/plain": [
       "Index(['nao', 'dengue:', 'vida', 'bem', 'dengue!', 'rio', 'parado', 'foco',\n",
       "       'caso', 'gente',\n",
       "       ...\n",
       "       'todos', 'estado', 'cidade', 'virar', 'combater', 'médico', 'epidemia',\n",
       "       'sabe', 'agua', 'tipo'],\n",
       "      dtype='object', length=500)"
      ]
     },
     "execution_count": 28,
     "metadata": {},
     "output_type": "execute_result"
    }
   ],
   "source": [
    "x_variables = data.columns[1:-1]\n",
    "x_variables"
   ]
  },
  {
   "cell_type": "raw",
   "metadata": {},
   "source": [
    "for i in x_variables:\n",
    "    print(i)"
   ]
  },
  {
   "cell_type": "raw",
   "metadata": {},
   "source": [
    "X = pd.merge(X, y, on='se', how='inner')"
   ]
  },
  {
   "cell_type": "code",
   "execution_count": 29,
   "metadata": {},
   "outputs": [],
   "source": [
    "y = data.iloc[:, -1:]"
   ]
  },
  {
   "cell_type": "code",
   "execution_count": 30,
   "metadata": {},
   "outputs": [],
   "source": [
    "X = data.iloc[:, 1:-1]"
   ]
  },
  {
   "cell_type": "code",
   "execution_count": 31,
   "metadata": {},
   "outputs": [
    {
     "data": {
      "text/html": [
       "<div>\n",
       "<style scoped>\n",
       "    .dataframe tbody tr th:only-of-type {\n",
       "        vertical-align: middle;\n",
       "    }\n",
       "\n",
       "    .dataframe tbody tr th {\n",
       "        vertical-align: top;\n",
       "    }\n",
       "\n",
       "    .dataframe thead th {\n",
       "        text-align: right;\n",
       "    }\n",
       "</style>\n",
       "<table border=\"1\" class=\"dataframe\">\n",
       "  <thead>\n",
       "    <tr style=\"text-align: right;\">\n",
       "      <th></th>\n",
       "      <th>nao</th>\n",
       "      <th>dengue:</th>\n",
       "      <th>vida</th>\n",
       "      <th>bem</th>\n",
       "      <th>dengue!</th>\n",
       "      <th>rio</th>\n",
       "      <th>parado</th>\n",
       "      <th>foco</th>\n",
       "      <th>caso</th>\n",
       "      <th>gente</th>\n",
       "      <th>...</th>\n",
       "      <th>todos</th>\n",
       "      <th>estado</th>\n",
       "      <th>cidade</th>\n",
       "      <th>virar</th>\n",
       "      <th>combater</th>\n",
       "      <th>médico</th>\n",
       "      <th>epidemia</th>\n",
       "      <th>sabe</th>\n",
       "      <th>agua</th>\n",
       "      <th>tipo</th>\n",
       "    </tr>\n",
       "    <tr>\n",
       "      <th>se</th>\n",
       "      <th></th>\n",
       "      <th></th>\n",
       "      <th></th>\n",
       "      <th></th>\n",
       "      <th></th>\n",
       "      <th></th>\n",
       "      <th></th>\n",
       "      <th></th>\n",
       "      <th></th>\n",
       "      <th></th>\n",
       "      <th></th>\n",
       "      <th></th>\n",
       "      <th></th>\n",
       "      <th></th>\n",
       "      <th></th>\n",
       "      <th></th>\n",
       "      <th></th>\n",
       "      <th></th>\n",
       "      <th></th>\n",
       "      <th></th>\n",
       "      <th></th>\n",
       "    </tr>\n",
       "  </thead>\n",
       "  <tbody>\n",
       "    <tr>\n",
       "      <th>201047</th>\n",
       "      <td>130</td>\n",
       "      <td>211</td>\n",
       "      <td>41</td>\n",
       "      <td>514</td>\n",
       "      <td>426</td>\n",
       "      <td>1707</td>\n",
       "      <td>216</td>\n",
       "      <td>71</td>\n",
       "      <td>37</td>\n",
       "      <td>100</td>\n",
       "      <td>...</td>\n",
       "      <td>241</td>\n",
       "      <td>90</td>\n",
       "      <td>757</td>\n",
       "      <td>5</td>\n",
       "      <td>86</td>\n",
       "      <td>50</td>\n",
       "      <td>101</td>\n",
       "      <td>270</td>\n",
       "      <td>542</td>\n",
       "      <td>37</td>\n",
       "    </tr>\n",
       "    <tr>\n",
       "      <th>201048</th>\n",
       "      <td>33</td>\n",
       "      <td>48</td>\n",
       "      <td>12</td>\n",
       "      <td>80</td>\n",
       "      <td>73</td>\n",
       "      <td>86</td>\n",
       "      <td>74</td>\n",
       "      <td>35</td>\n",
       "      <td>17</td>\n",
       "      <td>28</td>\n",
       "      <td>...</td>\n",
       "      <td>30</td>\n",
       "      <td>7</td>\n",
       "      <td>17</td>\n",
       "      <td>2</td>\n",
       "      <td>31</td>\n",
       "      <td>14</td>\n",
       "      <td>18</td>\n",
       "      <td>38</td>\n",
       "      <td>77</td>\n",
       "      <td>12</td>\n",
       "    </tr>\n",
       "    <tr>\n",
       "      <th>201050</th>\n",
       "      <td>166</td>\n",
       "      <td>153</td>\n",
       "      <td>35</td>\n",
       "      <td>212</td>\n",
       "      <td>218</td>\n",
       "      <td>113</td>\n",
       "      <td>189</td>\n",
       "      <td>93</td>\n",
       "      <td>73</td>\n",
       "      <td>110</td>\n",
       "      <td>...</td>\n",
       "      <td>138</td>\n",
       "      <td>35</td>\n",
       "      <td>114</td>\n",
       "      <td>10</td>\n",
       "      <td>79</td>\n",
       "      <td>59</td>\n",
       "      <td>100</td>\n",
       "      <td>49</td>\n",
       "      <td>134</td>\n",
       "      <td>28</td>\n",
       "    </tr>\n",
       "    <tr>\n",
       "      <th>201051</th>\n",
       "      <td>78</td>\n",
       "      <td>113</td>\n",
       "      <td>300</td>\n",
       "      <td>102</td>\n",
       "      <td>135</td>\n",
       "      <td>81</td>\n",
       "      <td>101</td>\n",
       "      <td>84</td>\n",
       "      <td>39</td>\n",
       "      <td>1638</td>\n",
       "      <td>...</td>\n",
       "      <td>74</td>\n",
       "      <td>17</td>\n",
       "      <td>41</td>\n",
       "      <td>7</td>\n",
       "      <td>93</td>\n",
       "      <td>31</td>\n",
       "      <td>31</td>\n",
       "      <td>27</td>\n",
       "      <td>91</td>\n",
       "      <td>18</td>\n",
       "    </tr>\n",
       "    <tr>\n",
       "      <th>201101</th>\n",
       "      <td>441</td>\n",
       "      <td>522</td>\n",
       "      <td>232</td>\n",
       "      <td>542</td>\n",
       "      <td>887</td>\n",
       "      <td>681</td>\n",
       "      <td>469</td>\n",
       "      <td>456</td>\n",
       "      <td>389</td>\n",
       "      <td>640</td>\n",
       "      <td>...</td>\n",
       "      <td>291</td>\n",
       "      <td>332</td>\n",
       "      <td>530</td>\n",
       "      <td>89</td>\n",
       "      <td>277</td>\n",
       "      <td>281</td>\n",
       "      <td>191</td>\n",
       "      <td>283</td>\n",
       "      <td>264</td>\n",
       "      <td>136</td>\n",
       "    </tr>\n",
       "  </tbody>\n",
       "</table>\n",
       "<p>5 rows × 500 columns</p>\n",
       "</div>"
      ],
      "text/plain": [
       "        nao  dengue:  vida  bem  dengue!   rio  parado  foco  caso  gente  \\\n",
       "se                                                                          \n",
       "201047  130      211    41  514      426  1707     216    71    37    100   \n",
       "201048   33       48    12   80       73    86      74    35    17     28   \n",
       "201050  166      153    35  212      218   113     189    93    73    110   \n",
       "201051   78      113   300  102      135    81     101    84    39   1638   \n",
       "201101  441      522   232  542      887   681     469   456   389    640   \n",
       "\n",
       "        ...  todos  estado  cidade  virar  combater  médico  epidemia  sabe  \\\n",
       "se      ...                                                                   \n",
       "201047  ...    241      90     757      5        86      50       101   270   \n",
       "201048  ...     30       7      17      2        31      14        18    38   \n",
       "201050  ...    138      35     114     10        79      59       100    49   \n",
       "201051  ...     74      17      41      7        93      31        31    27   \n",
       "201101  ...    291     332     530     89       277     281       191   283   \n",
       "\n",
       "        agua  tipo  \n",
       "se                  \n",
       "201047   542    37  \n",
       "201048    77    12  \n",
       "201050   134    28  \n",
       "201051    91    18  \n",
       "201101   264   136  \n",
       "\n",
       "[5 rows x 500 columns]"
      ]
     },
     "execution_count": 31,
     "metadata": {},
     "output_type": "execute_result"
    }
   ],
   "source": [
    "X.head()"
   ]
  },
  {
   "cell_type": "code",
   "execution_count": 32,
   "metadata": {},
   "outputs": [
    {
     "data": {
      "text/html": [
       "<div>\n",
       "<style scoped>\n",
       "    .dataframe tbody tr th:only-of-type {\n",
       "        vertical-align: middle;\n",
       "    }\n",
       "\n",
       "    .dataframe tbody tr th {\n",
       "        vertical-align: top;\n",
       "    }\n",
       "\n",
       "    .dataframe thead th {\n",
       "        text-align: right;\n",
       "    }\n",
       "</style>\n",
       "<table border=\"1\" class=\"dataframe\">\n",
       "  <thead>\n",
       "    <tr style=\"text-align: right;\">\n",
       "      <th></th>\n",
       "      <th>y</th>\n",
       "    </tr>\n",
       "    <tr>\n",
       "      <th>se</th>\n",
       "      <th></th>\n",
       "    </tr>\n",
       "  </thead>\n",
       "  <tbody>\n",
       "    <tr>\n",
       "      <th>201047</th>\n",
       "      <td>74</td>\n",
       "    </tr>\n",
       "    <tr>\n",
       "      <th>201048</th>\n",
       "      <td>93</td>\n",
       "    </tr>\n",
       "    <tr>\n",
       "      <th>201050</th>\n",
       "      <td>195</td>\n",
       "    </tr>\n",
       "    <tr>\n",
       "      <th>201051</th>\n",
       "      <td>155</td>\n",
       "    </tr>\n",
       "    <tr>\n",
       "      <th>201101</th>\n",
       "      <td>212</td>\n",
       "    </tr>\n",
       "  </tbody>\n",
       "</table>\n",
       "</div>"
      ],
      "text/plain": [
       "          y\n",
       "se         \n",
       "201047   74\n",
       "201048   93\n",
       "201050  195\n",
       "201051  155\n",
       "201101  212"
      ]
     },
     "execution_count": 32,
     "metadata": {},
     "output_type": "execute_result"
    }
   ],
   "source": [
    "y.head()"
   ]
  },
  {
   "cell_type": "code",
   "execution_count": 44,
   "metadata": {},
   "outputs": [],
   "source": [
    "lasso = Lasso(alpha=10, normalize=True)"
   ]
  },
  {
   "cell_type": "markdown",
   "metadata": {},
   "source": [
    "### define variables"
   ]
  },
  {
   "cell_type": "code",
   "execution_count": 38,
   "metadata": {},
   "outputs": [],
   "source": [
    "def retrieve_lasso_alpha(X_, alpha_space):\n",
    "   # for X in Xs:\n",
    "    lasso_scores = []\n",
    "    lasso_scores_std = []\n",
    "    for alpha in alpha_space:\n",
    "    \n",
    "        # Specify the alpha value to use: lasso.alpha\n",
    "        lasso.alpha = alpha\n",
    "        \n",
    "        # Perform 5-fold CV: lasso_cv_scores\n",
    "        lasso_cv_scores = cross_val_score(lasso, X_, y, cv=5)\n",
    "        \n",
    "        # Append the mean of lasso_cv_scores to lasso_scores\n",
    "        lasso_scores.append(np.mean(lasso_cv_scores))\n",
    "        \n",
    "        # Append the std of lasso_cv_scores to lasso_scores_std\n",
    "        lasso_scores_std.append(np.std(lasso_cv_scores))\n",
    "    print(lasso_scores)\n",
    "    best_alpha = alpha_space[lasso_scores.index(max(lasso_scores))]\n",
    "    print(best_alpha)\n",
    "\n",
    "    return best_alpha"
   ]
  },
  {
   "cell_type": "code",
   "execution_count": 39,
   "metadata": {},
   "outputs": [],
   "source": [
    "def plot_lasso_coef(X, y, alpha):\n",
    "    lasso = Lasso(alpha=alpha, normalize=True)\n",
    "    \n",
    "    # Fit the regressor to the data\n",
    "    lasso.fit(X, y)\n",
    "    \n",
    "    # Compute and print the coefficients\n",
    "    lasso_coef = lasso.coef_ \n",
    "    #print('lasso coefficients: \\r\\n', lasso_coef)\n",
    "    \n",
    "    # Plot the coefficients\n",
    "    plt.figure(figsize=(16,5))\n",
    "    plt.plot(range(len(lasso_coef)), lasso_coef)\n",
    "    plt.xticks(rotation=60)\n",
    "    plt.xlabel(\"Variable\")\n",
    "    plt.ylabel(\"Lasso coefficient\")\n",
    "    plt.margins(0.02)\n",
    "    plt.show()\n",
    "    return lasso_coef"
   ]
  },
  {
   "cell_type": "code",
   "execution_count": 40,
   "metadata": {},
   "outputs": [],
   "source": [
    "def print_vars(coefs, threshold):\n",
    "    for coef in coefs:\n",
    "        if abs(coef) > threshold: print(x_variables[list(coefs).index(coef)])"
   ]
  },
  {
   "cell_type": "code",
   "execution_count": 42,
   "metadata": {},
   "outputs": [],
   "source": [
    "alpha_space = np.logspace(-4, 0, 10)\n",
    "alpha_space = np.append(alpha_space,[5,10, 25, 50])"
   ]
  },
  {
   "cell_type": "code",
   "execution_count": 27,
   "metadata": {},
   "outputs": [],
   "source": [
    "Xs = [data.iloc[:, 1:51], data.iloc[:, 1:-1]]"
   ]
  },
  {
   "cell_type": "markdown",
   "metadata": {},
   "source": [
    "### working with 500 features"
   ]
  },
  {
   "cell_type": "markdown",
   "metadata": {},
   "source": [
    "#### lassoIC (AIC)"
   ]
  },
  {
   "cell_type": "code",
   "execution_count": 291,
   "metadata": {},
   "outputs": [],
   "source": [
    "lassoic = LassoLarsIC(criterion='aic')"
   ]
  },
  {
   "cell_type": "code",
   "execution_count": 292,
   "metadata": {},
   "outputs": [],
   "source": [
    "def plot_lassoIC_coef(X, y):\n",
    "    lassoic = LassoLarsIC(criterion='aic')\n",
    "    \n",
    "    # Fit the regressor to the data\n",
    "    lassoic.fit(X, y)\n",
    "    \n",
    "    # Compute and print the coefficients\n",
    "    lasso_coef = lasso.coef_ \n",
    "    #print('lasso coefficients: \\r\\n', lasso_coef)\n",
    "    \n",
    "    # Plot the coefficients\n",
    "    plt.figure(figsize=(16,5))\n",
    "    plt.plot(range(len(lasso_coef)), lasso_coef)\n",
    "    plt.xticks(rotation=60)\n",
    "    plt.xlabel(\"Variable\")\n",
    "    plt.ylabel(\"Lasso coefficient\")\n",
    "    plt.margins(0.02)\n",
    "    plt.show()\n",
    "    return lasso_coef"
   ]
  },
  {
   "cell_type": "code",
   "execution_count": 293,
   "metadata": {},
   "outputs": [
    {
     "name": "stderr",
     "output_type": "stream",
     "text": [
      "D:\\Users\\Marcelo\\Anaconda3\\lib\\site-packages\\sklearn\\utils\\validation.py:761: DataConversionWarning: A column-vector y was passed when a 1d array was expected. Please change the shape of y to (n_samples, ), for example using ravel().\n",
      "  y = column_or_1d(y, warn=True)\n"
     ]
    },
    {
     "data": {
      "text/plain": [
       "LassoLarsIC(copy_X=True, criterion='aic', eps=2.220446049250313e-16,\n",
       "      fit_intercept=True, max_iter=500, normalize=True, positive=False,\n",
       "      precompute='auto', verbose=False)"
      ]
     },
     "execution_count": 293,
     "metadata": {},
     "output_type": "execute_result"
    }
   ],
   "source": [
    "lassoic = LassoLarsIC()\n",
    "lassoic.fit(X, y)"
   ]
  },
  {
   "cell_type": "code",
   "execution_count": 294,
   "metadata": {},
   "outputs": [
    {
     "data": {
      "text/plain": [
       "0.28753851724909407"
      ]
     },
     "execution_count": 294,
     "metadata": {},
     "output_type": "execute_result"
    }
   ],
   "source": [
    "lassoic.score(X,y)"
   ]
  },
  {
   "cell_type": "code",
   "execution_count": 282,
   "metadata": {},
   "outputs": [
    {
     "name": "stdout",
     "output_type": "stream",
     "text": [
      "alpha using LassoLarsIC is: 176.25895643390677\n"
     ]
    }
   ],
   "source": [
    "print('alpha using LassoLarsIC is:', lassoic.alpha_)"
   ]
  },
  {
   "cell_type": "code",
   "execution_count": 283,
   "metadata": {
    "scrolled": false
   },
   "outputs": [
    {
     "name": "stderr",
     "output_type": "stream",
     "text": [
      "D:\\Users\\Marcelo\\Anaconda3\\lib\\site-packages\\sklearn\\utils\\validation.py:761: DataConversionWarning: A column-vector y was passed when a 1d array was expected. Please change the shape of y to (n_samples, ), for example using ravel().\n",
      "  y = column_or_1d(y, warn=True)\n"
     ]
    },
    {
     "data": {
      "image/png": "[encoded data removed]",
      "text/plain": [
       "<Figure size 1152x360 with 1 Axes>"
      ]
     },
     "metadata": {
      "needs_background": "light"
     },
     "output_type": "display_data"
    }
   ],
   "source": [
    "lasso_coef_IC = plot_lassoIC_coef(X,y)"
   ]
  },
  {
   "cell_type": "markdown",
   "metadata": {},
   "source": [
    "#### lassoIC (BIC)"
   ]
  },
  {
   "cell_type": "code",
   "execution_count": 273,
   "metadata": {},
   "outputs": [],
   "source": [
    "lassoic = LassoLarsIC(criterion='bic')"
   ]
  },
  {
   "cell_type": "code",
   "execution_count": 274,
   "metadata": {},
   "outputs": [],
   "source": [
    "def plot_lassoIC_coef(X, y):\n",
    "    lassoic = LassoLarsIC(criterion='bic')\n",
    "    \n",
    "    # Fit the regressor to the data\n",
    "    lassoic.fit(X, y)\n",
    "    \n",
    "    # Compute and print the coefficients\n",
    "    lasso_coef = lasso.coef_ \n",
    "    #print('lasso coefficients: \\r\\n', lasso_coef)\n",
    "    \n",
    "    # Plot the coefficients\n",
    "    plt.figure(figsize=(16,5))\n",
    "    plt.plot(range(len(lasso_coef)), lasso_coef)\n",
    "    plt.xticks(rotation=60)\n",
    "    plt.xlabel(\"Variable\")\n",
    "    plt.ylabel(\"Lasso coefficient\")\n",
    "    plt.margins(0.02)\n",
    "    plt.show()\n",
    "    return lasso_coef"
   ]
  },
  {
   "cell_type": "code",
   "execution_count": 275,
   "metadata": {},
   "outputs": [
    {
     "name": "stderr",
     "output_type": "stream",
     "text": [
      "D:\\Users\\Marcelo\\Anaconda3\\lib\\site-packages\\sklearn\\utils\\validation.py:761: DataConversionWarning: A column-vector y was passed when a 1d array was expected. Please change the shape of y to (n_samples, ), for example using ravel().\n",
      "  y = column_or_1d(y, warn=True)\n"
     ]
    },
    {
     "data": {
      "text/plain": [
       "LassoLarsIC(copy_X=True, criterion='aic', eps=2.220446049250313e-16,\n",
       "      fit_intercept=True, max_iter=500, normalize=True, positive=False,\n",
       "      precompute='auto', verbose=False)"
      ]
     },
     "execution_count": 275,
     "metadata": {},
     "output_type": "execute_result"
    }
   ],
   "source": [
    "lassoic = LassoLarsIC()\n",
    "lassoic.fit(X, y)"
   ]
  },
  {
   "cell_type": "code",
   "execution_count": 276,
   "metadata": {},
   "outputs": [
    {
     "name": "stdout",
     "output_type": "stream",
     "text": [
      "alpha using LassoLarsIC is: 176.25895643390677\n"
     ]
    }
   ],
   "source": [
    "print('alpha using LassoLarsIC is:', lassoic.alpha_)"
   ]
  },
  {
   "cell_type": "code",
   "execution_count": 277,
   "metadata": {
    "scrolled": false
   },
   "outputs": [
    {
     "name": "stderr",
     "output_type": "stream",
     "text": [
      "D:\\Users\\Marcelo\\Anaconda3\\lib\\site-packages\\sklearn\\utils\\validation.py:761: DataConversionWarning: A column-vector y was passed when a 1d array was expected. Please change the shape of y to (n_samples, ), for example using ravel().\n",
      "  y = column_or_1d(y, warn=True)\n"
     ]
    },
    {
     "data": {
      "image/png": "[encoded data removed]",
      "text/plain": [
       "<Figure size 1152x360 with 1 Axes>"
      ]
     },
     "metadata": {
      "needs_background": "light"
     },
     "output_type": "display_data"
    }
   ],
   "source": [
    "lasso_coef_IC = plot_lassoIC_coef(X,y)"
   ]
  },
  {
   "cell_type": "code",
   "execution_count": 278,
   "metadata": {},
   "outputs": [
    {
     "name": "stdout",
     "output_type": "stream",
     "text": [
      ":d\n",
      "mesmo\n",
      "sp\n",
      "paulo\n",
      "sempre\n",
      "natal\n",
      "exame\n"
     ]
    }
   ],
   "source": [
    "print_vars(lasso_coef_IC, 0.8)"
   ]
  },
  {
   "cell_type": "markdown",
   "metadata": {},
   "source": [
    "#### normal lasso"
   ]
  },
  {
   "cell_type": "code",
   "execution_count": 48,
   "metadata": {},
   "outputs": [
    {
     "name": "stderr",
     "output_type": "stream",
     "text": [
      "C:\\Users\\marcelo.old-note\\AppData\\Local\\Continuum\\anaconda3\\lib\\site-packages\\sklearn\\linear_model\\coordinate_descent.py:492: ConvergenceWarning: Objective did not converge. You might want to increase the number of iterations. Fitting data with very small alpha may cause precision problems.\n",
      "  ConvergenceWarning)\n",
      "C:\\Users\\marcelo.old-note\\AppData\\Local\\Continuum\\anaconda3\\lib\\site-packages\\sklearn\\linear_model\\coordinate_descent.py:492: ConvergenceWarning: Objective did not converge. You might want to increase the number of iterations. Fitting data with very small alpha may cause precision problems.\n",
      "  ConvergenceWarning)\n",
      "C:\\Users\\marcelo.old-note\\AppData\\Local\\Continuum\\anaconda3\\lib\\site-packages\\sklearn\\linear_model\\coordinate_descent.py:492: ConvergenceWarning: Objective did not converge. You might want to increase the number of iterations. Fitting data with very small alpha may cause precision problems.\n",
      "  ConvergenceWarning)\n",
      "C:\\Users\\marcelo.old-note\\AppData\\Local\\Continuum\\anaconda3\\lib\\site-packages\\sklearn\\linear_model\\coordinate_descent.py:492: ConvergenceWarning: Objective did not converge. You might want to increase the number of iterations. Fitting data with very small alpha may cause precision problems.\n",
      "  ConvergenceWarning)\n",
      "C:\\Users\\marcelo.old-note\\AppData\\Local\\Continuum\\anaconda3\\lib\\site-packages\\sklearn\\linear_model\\coordinate_descent.py:492: ConvergenceWarning: Objective did not converge. You might want to increase the number of iterations. Fitting data with very small alpha may cause precision problems.\n",
      "  ConvergenceWarning)\n",
      "C:\\Users\\marcelo.old-note\\AppData\\Local\\Continuum\\anaconda3\\lib\\site-packages\\sklearn\\linear_model\\coordinate_descent.py:492: ConvergenceWarning: Objective did not converge. You might want to increase the number of iterations. Fitting data with very small alpha may cause precision problems.\n",
      "  ConvergenceWarning)\n",
      "C:\\Users\\marcelo.old-note\\AppData\\Local\\Continuum\\anaconda3\\lib\\site-packages\\sklearn\\linear_model\\coordinate_descent.py:492: ConvergenceWarning: Objective did not converge. You might want to increase the number of iterations. Fitting data with very small alpha may cause precision problems.\n",
      "  ConvergenceWarning)\n",
      "C:\\Users\\marcelo.old-note\\AppData\\Local\\Continuum\\anaconda3\\lib\\site-packages\\sklearn\\linear_model\\coordinate_descent.py:492: ConvergenceWarning: Objective did not converge. You might want to increase the number of iterations. Fitting data with very small alpha may cause precision problems.\n",
      "  ConvergenceWarning)\n",
      "C:\\Users\\marcelo.old-note\\AppData\\Local\\Continuum\\anaconda3\\lib\\site-packages\\sklearn\\linear_model\\coordinate_descent.py:492: ConvergenceWarning: Objective did not converge. You might want to increase the number of iterations. Fitting data with very small alpha may cause precision problems.\n",
      "  ConvergenceWarning)\n",
      "C:\\Users\\marcelo.old-note\\AppData\\Local\\Continuum\\anaconda3\\lib\\site-packages\\sklearn\\linear_model\\coordinate_descent.py:492: ConvergenceWarning: Objective did not converge. You might want to increase the number of iterations. Fitting data with very small alpha may cause precision problems.\n",
      "  ConvergenceWarning)\n",
      "C:\\Users\\marcelo.old-note\\AppData\\Local\\Continuum\\anaconda3\\lib\\site-packages\\sklearn\\linear_model\\coordinate_descent.py:492: ConvergenceWarning: Objective did not converge. You might want to increase the number of iterations. Fitting data with very small alpha may cause precision problems.\n",
      "  ConvergenceWarning)\n",
      "C:\\Users\\marcelo.old-note\\AppData\\Local\\Continuum\\anaconda3\\lib\\site-packages\\sklearn\\linear_model\\coordinate_descent.py:492: ConvergenceWarning: Objective did not converge. You might want to increase the number of iterations. Fitting data with very small alpha may cause precision problems.\n",
      "  ConvergenceWarning)\n",
      "C:\\Users\\marcelo.old-note\\AppData\\Local\\Continuum\\anaconda3\\lib\\site-packages\\sklearn\\linear_model\\coordinate_descent.py:492: ConvergenceWarning: Objective did not converge. You might want to increase the number of iterations. Fitting data with very small alpha may cause precision problems.\n",
      "  ConvergenceWarning)\n",
      "C:\\Users\\marcelo.old-note\\AppData\\Local\\Continuum\\anaconda3\\lib\\site-packages\\sklearn\\linear_model\\coordinate_descent.py:492: ConvergenceWarning: Objective did not converge. You might want to increase the number of iterations. Fitting data with very small alpha may cause precision problems.\n",
      "  ConvergenceWarning)\n",
      "C:\\Users\\marcelo.old-note\\AppData\\Local\\Continuum\\anaconda3\\lib\\site-packages\\sklearn\\linear_model\\coordinate_descent.py:492: ConvergenceWarning: Objective did not converge. You might want to increase the number of iterations. Fitting data with very small alpha may cause precision problems.\n",
      "  ConvergenceWarning)\n",
      "C:\\Users\\marcelo.old-note\\AppData\\Local\\Continuum\\anaconda3\\lib\\site-packages\\sklearn\\linear_model\\coordinate_descent.py:492: ConvergenceWarning: Objective did not converge. You might want to increase the number of iterations. Fitting data with very small alpha may cause precision problems.\n",
      "  ConvergenceWarning)\n",
      "C:\\Users\\marcelo.old-note\\AppData\\Local\\Continuum\\anaconda3\\lib\\site-packages\\sklearn\\linear_model\\coordinate_descent.py:492: ConvergenceWarning: Objective did not converge. You might want to increase the number of iterations. Fitting data with very small alpha may cause precision problems.\n",
      "  ConvergenceWarning)\n",
      "C:\\Users\\marcelo.old-note\\AppData\\Local\\Continuum\\anaconda3\\lib\\site-packages\\sklearn\\linear_model\\coordinate_descent.py:492: ConvergenceWarning: Objective did not converge. You might want to increase the number of iterations. Fitting data with very small alpha may cause precision problems.\n",
      "  ConvergenceWarning)\n",
      "C:\\Users\\marcelo.old-note\\AppData\\Local\\Continuum\\anaconda3\\lib\\site-packages\\sklearn\\linear_model\\coordinate_descent.py:492: ConvergenceWarning: Objective did not converge. You might want to increase the number of iterations. Fitting data with very small alpha may cause precision problems.\n",
      "  ConvergenceWarning)\n",
      "C:\\Users\\marcelo.old-note\\AppData\\Local\\Continuum\\anaconda3\\lib\\site-packages\\sklearn\\linear_model\\coordinate_descent.py:492: ConvergenceWarning: Objective did not converge. You might want to increase the number of iterations. Fitting data with very small alpha may cause precision problems.\n",
      "  ConvergenceWarning)\n",
      "C:\\Users\\marcelo.old-note\\AppData\\Local\\Continuum\\anaconda3\\lib\\site-packages\\sklearn\\linear_model\\coordinate_descent.py:492: ConvergenceWarning: Objective did not converge. You might want to increase the number of iterations. Fitting data with very small alpha may cause precision problems.\n",
      "  ConvergenceWarning)\n",
      "C:\\Users\\marcelo.old-note\\AppData\\Local\\Continuum\\anaconda3\\lib\\site-packages\\sklearn\\linear_model\\coordinate_descent.py:492: ConvergenceWarning: Objective did not converge. You might want to increase the number of iterations. Fitting data with very small alpha may cause precision problems.\n",
      "  ConvergenceWarning)\n",
      "C:\\Users\\marcelo.old-note\\AppData\\Local\\Continuum\\anaconda3\\lib\\site-packages\\sklearn\\linear_model\\coordinate_descent.py:492: ConvergenceWarning: Objective did not converge. You might want to increase the number of iterations. Fitting data with very small alpha may cause precision problems.\n",
      "  ConvergenceWarning)\n",
      "C:\\Users\\marcelo.old-note\\AppData\\Local\\Continuum\\anaconda3\\lib\\site-packages\\sklearn\\linear_model\\coordinate_descent.py:492: ConvergenceWarning: Objective did not converge. You might want to increase the number of iterations. Fitting data with very small alpha may cause precision problems.\n",
      "  ConvergenceWarning)\n",
      "C:\\Users\\marcelo.old-note\\AppData\\Local\\Continuum\\anaconda3\\lib\\site-packages\\sklearn\\linear_model\\coordinate_descent.py:492: ConvergenceWarning: Objective did not converge. You might want to increase the number of iterations. Fitting data with very small alpha may cause precision problems.\n",
      "  ConvergenceWarning)\n",
      "C:\\Users\\marcelo.old-note\\AppData\\Local\\Continuum\\anaconda3\\lib\\site-packages\\sklearn\\linear_model\\coordinate_descent.py:492: ConvergenceWarning: Objective did not converge. You might want to increase the number of iterations. Fitting data with very small alpha may cause precision problems.\n",
      "  ConvergenceWarning)\n",
      "C:\\Users\\marcelo.old-note\\AppData\\Local\\Continuum\\anaconda3\\lib\\site-packages\\sklearn\\linear_model\\coordinate_descent.py:492: ConvergenceWarning: Objective did not converge. You might want to increase the number of iterations. Fitting data with very small alpha may cause precision problems.\n",
      "  ConvergenceWarning)\n"
     ]
    },
    {
     "name": "stdout",
     "output_type": "stream",
     "text": [
      "[-6089.088500751737, -6089.51253475231, -6090.633018281004, -6093.658295278258, -6111.511293750294, -5333.022950634169, -2674.265535929502, -1348.4546018469925, -891.6315229364915, -135.84750340468503, -118.03740051963094, -116.40804544995206, -129.32365085339256, -134.9404026042976]\n",
      "10.0\n"
     ]
    }
   ],
   "source": [
    "X = data.iloc[:, 1:-1]\n",
    "best_alpha = retrieve_lasso_alpha(X, alpha_space)"
   ]
  },
  {
   "cell_type": "raw",
   "metadata": {},
   "source": [
    "best_alpha = alpha_space[lasso_scores.index(max(lasso_scores))]\n",
    "best_alpha"
   ]
  },
  {
   "cell_type": "code",
   "execution_count": 49,
   "metadata": {
    "scrolled": false
   },
   "outputs": [
    {
     "data": {
      "image/png": "[encoded data removed]",
      "text/plain": [
       "<Figure size 1152x360 with 1 Axes>"
      ]
     },
     "metadata": {
      "needs_background": "light"
     },
     "output_type": "display_data"
    }
   ],
   "source": [
    "lasso_coef = plot_lasso_coef(X,y, best_alpha)"
   ]
  },
  {
   "cell_type": "code",
   "execution_count": 50,
   "metadata": {
    "scrolled": true
   },
   "outputs": [
    {
     "name": "stdout",
     "output_type": "stream",
     "text": [
      "vc\n",
      "pneu\n",
      "feia\n",
      "mi\n",
      "show\n",
      "notificações\n",
      "mato\n",
      "antes\n",
      "usar\n",
      "mesmo\n",
      "três\n",
      "morrer\n",
      "tempo\n",
      "sp\n",
      "paulo\n",
      "natal\n",
      "saber\n",
      "@minsaude:\n",
      "cidades\n"
     ]
    }
   ],
   "source": [
    "print_vars(lasso_coef, 0.8)"
   ]
  },
  {
   "cell_type": "code",
   "execution_count": 288,
   "metadata": {
    "scrolled": false
   },
   "outputs": [
    {
     "data": {
      "image/png": "[encoded data removed]",
      "text/plain": [
       "<Figure size 1152x360 with 1 Axes>"
      ]
     },
     "metadata": {
      "needs_background": "light"
     },
     "output_type": "display_data"
    }
   ],
   "source": [
    "lasso.fit(X, y)\n",
    "y_pred = lasso.predict(X)\n",
    "\n",
    "# Plot the coefficients\n",
    "plt.figure(figsize=(16,5))\n",
    "plt.plot(range(len(y)), y_pred, 'r')\n",
    "plt.plot(range(len(y)), y, 'b')\n",
    "\n",
    "plt.xticks(range(len(X)), list(range(50)), rotation=60)\n",
    "plt.xlabel(\"week\")\n",
    "plt.ylabel(\"y\")\n",
    "plt.margins(0.02)\n",
    "plt.show()"
   ]
  },
  {
   "cell_type": "code",
   "execution_count": 290,
   "metadata": {},
   "outputs": [
    {
     "data": {
      "text/plain": [
       "0.782628786722346"
      ]
     },
     "execution_count": 290,
     "metadata": {},
     "output_type": "execute_result"
    }
   ],
   "source": [
    "lasso.score(X,y)"
   ]
  },
  {
   "cell_type": "markdown",
   "metadata": {},
   "source": [
    "#### add intervalos de confianca for 500 features"
   ]
  },
  {
   "cell_type": "markdown",
   "metadata": {},
   "source": [
    "lasso ja fornece o desvio"
   ]
  },
  {
   "cell_type": "code",
   "execution_count": 38,
   "metadata": {},
   "outputs": [
    {
     "data": {
      "image/png": "[encoded data removed]",
      "text/plain": [
       "<Figure size 1152x360 with 1 Axes>"
      ]
     },
     "metadata": {
      "needs_background": "light"
     },
     "output_type": "display_data"
    }
   ],
   "source": [
    "lasso.fit(X, y)\n",
    "y_pred = lasso.predict(X)\n",
    "std_array = np.array([np.std(y_pred)]*len(y))\n",
    "\n",
    "# Plot the coefficients\n",
    "\n",
    "fig = plt.figure(figsize=(16,5))\n",
    "ax = fig.add_subplot(1,1,1)\n",
    "\n",
    "ax.plot(range(len(y)), y, 'b')\n",
    "ax.fill_between(range(len(y)), y_pred+std_array, y_pred-std_array, color='red', alpha=0.5)\n",
    "\n",
    "\n",
    "#ax.xticks(range(len(X)), list(range(50)), rotation=60)\n",
    "ax.set_xlabel(\"week\")\n",
    "ax.set_ylabel(\"y\")\n",
    "#ax.margins(0.02)\n",
    "plt.show()"
   ]
  },
  {
   "cell_type": "markdown",
   "metadata": {},
   "source": [
    "### working with 50 features"
   ]
  },
  {
   "cell_type": "code",
   "execution_count": 669,
   "metadata": {},
   "outputs": [
    {
     "name": "stderr",
     "output_type": "stream",
     "text": [
      "D:\\Users\\Marcelo\\Anaconda3\\lib\\site-packages\\sklearn\\linear_model\\coordinate_descent.py:492: ConvergenceWarning: Objective did not converge. You might want to increase the number of iterations. Fitting data with very small alpha may cause precision problems.\n",
      "  ConvergenceWarning)\n",
      "D:\\Users\\Marcelo\\Anaconda3\\lib\\site-packages\\sklearn\\linear_model\\coordinate_descent.py:492: ConvergenceWarning: Objective did not converge. You might want to increase the number of iterations. Fitting data with very small alpha may cause precision problems.\n",
      "  ConvergenceWarning)\n",
      "D:\\Users\\Marcelo\\Anaconda3\\lib\\site-packages\\sklearn\\linear_model\\coordinate_descent.py:492: ConvergenceWarning: Objective did not converge. You might want to increase the number of iterations. Fitting data with very small alpha may cause precision problems.\n",
      "  ConvergenceWarning)\n",
      "D:\\Users\\Marcelo\\Anaconda3\\lib\\site-packages\\sklearn\\linear_model\\coordinate_descent.py:492: ConvergenceWarning: Objective did not converge. You might want to increase the number of iterations. Fitting data with very small alpha may cause precision problems.\n",
      "  ConvergenceWarning)\n",
      "D:\\Users\\Marcelo\\Anaconda3\\lib\\site-packages\\sklearn\\linear_model\\coordinate_descent.py:492: ConvergenceWarning: Objective did not converge. You might want to increase the number of iterations. Fitting data with very small alpha may cause precision problems.\n",
      "  ConvergenceWarning)\n",
      "D:\\Users\\Marcelo\\Anaconda3\\lib\\site-packages\\sklearn\\linear_model\\coordinate_descent.py:492: ConvergenceWarning: Objective did not converge. You might want to increase the number of iterations. Fitting data with very small alpha may cause precision problems.\n",
      "  ConvergenceWarning)\n",
      "D:\\Users\\Marcelo\\Anaconda3\\lib\\site-packages\\sklearn\\linear_model\\coordinate_descent.py:492: ConvergenceWarning: Objective did not converge. You might want to increase the number of iterations. Fitting data with very small alpha may cause precision problems.\n",
      "  ConvergenceWarning)\n",
      "D:\\Users\\Marcelo\\Anaconda3\\lib\\site-packages\\sklearn\\linear_model\\coordinate_descent.py:492: ConvergenceWarning: Objective did not converge. You might want to increase the number of iterations. Fitting data with very small alpha may cause precision problems.\n",
      "  ConvergenceWarning)\n",
      "D:\\Users\\Marcelo\\Anaconda3\\lib\\site-packages\\sklearn\\linear_model\\coordinate_descent.py:492: ConvergenceWarning: Objective did not converge. You might want to increase the number of iterations. Fitting data with very small alpha may cause precision problems.\n",
      "  ConvergenceWarning)\n",
      "D:\\Users\\Marcelo\\Anaconda3\\lib\\site-packages\\sklearn\\linear_model\\coordinate_descent.py:492: ConvergenceWarning: Objective did not converge. You might want to increase the number of iterations. Fitting data with very small alpha may cause precision problems.\n",
      "  ConvergenceWarning)\n",
      "D:\\Users\\Marcelo\\Anaconda3\\lib\\site-packages\\sklearn\\linear_model\\coordinate_descent.py:492: ConvergenceWarning: Objective did not converge. You might want to increase the number of iterations. Fitting data with very small alpha may cause precision problems.\n",
      "  ConvergenceWarning)\n",
      "D:\\Users\\Marcelo\\Anaconda3\\lib\\site-packages\\sklearn\\linear_model\\coordinate_descent.py:492: ConvergenceWarning: Objective did not converge. You might want to increase the number of iterations. Fitting data with very small alpha may cause precision problems.\n",
      "  ConvergenceWarning)\n",
      "D:\\Users\\Marcelo\\Anaconda3\\lib\\site-packages\\sklearn\\linear_model\\coordinate_descent.py:492: ConvergenceWarning: Objective did not converge. You might want to increase the number of iterations. Fitting data with very small alpha may cause precision problems.\n",
      "  ConvergenceWarning)\n",
      "D:\\Users\\Marcelo\\Anaconda3\\lib\\site-packages\\sklearn\\linear_model\\coordinate_descent.py:492: ConvergenceWarning: Objective did not converge. You might want to increase the number of iterations. Fitting data with very small alpha may cause precision problems.\n",
      "  ConvergenceWarning)\n",
      "D:\\Users\\Marcelo\\Anaconda3\\lib\\site-packages\\sklearn\\linear_model\\coordinate_descent.py:492: ConvergenceWarning: Objective did not converge. You might want to increase the number of iterations. Fitting data with very small alpha may cause precision problems.\n",
      "  ConvergenceWarning)\n",
      "D:\\Users\\Marcelo\\Anaconda3\\lib\\site-packages\\sklearn\\linear_model\\coordinate_descent.py:492: ConvergenceWarning: Objective did not converge. You might want to increase the number of iterations. Fitting data with very small alpha may cause precision problems.\n",
      "  ConvergenceWarning)\n",
      "D:\\Users\\Marcelo\\Anaconda3\\lib\\site-packages\\sklearn\\linear_model\\coordinate_descent.py:492: ConvergenceWarning: Objective did not converge. You might want to increase the number of iterations. Fitting data with very small alpha may cause precision problems.\n",
      "  ConvergenceWarning)\n",
      "D:\\Users\\Marcelo\\Anaconda3\\lib\\site-packages\\sklearn\\linear_model\\coordinate_descent.py:492: ConvergenceWarning: Objective did not converge. You might want to increase the number of iterations. Fitting data with very small alpha may cause precision problems.\n",
      "  ConvergenceWarning)\n",
      "D:\\Users\\Marcelo\\Anaconda3\\lib\\site-packages\\sklearn\\linear_model\\coordinate_descent.py:492: ConvergenceWarning: Objective did not converge. You might want to increase the number of iterations. Fitting data with very small alpha may cause precision problems.\n",
      "  ConvergenceWarning)\n",
      "D:\\Users\\Marcelo\\Anaconda3\\lib\\site-packages\\sklearn\\linear_model\\coordinate_descent.py:492: ConvergenceWarning: Objective did not converge. You might want to increase the number of iterations. Fitting data with very small alpha may cause precision problems.\n",
      "  ConvergenceWarning)\n",
      "D:\\Users\\Marcelo\\Anaconda3\\lib\\site-packages\\sklearn\\linear_model\\coordinate_descent.py:492: ConvergenceWarning: Objective did not converge. You might want to increase the number of iterations. Fitting data with very small alpha may cause precision problems.\n",
      "  ConvergenceWarning)\n",
      "D:\\Users\\Marcelo\\Anaconda3\\lib\\site-packages\\sklearn\\linear_model\\coordinate_descent.py:492: ConvergenceWarning: Objective did not converge. You might want to increase the number of iterations. Fitting data with very small alpha may cause precision problems.\n",
      "  ConvergenceWarning)\n",
      "D:\\Users\\Marcelo\\Anaconda3\\lib\\site-packages\\sklearn\\linear_model\\coordinate_descent.py:492: ConvergenceWarning: Objective did not converge. You might want to increase the number of iterations. Fitting data with very small alpha may cause precision problems.\n",
      "  ConvergenceWarning)\n",
      "D:\\Users\\Marcelo\\Anaconda3\\lib\\site-packages\\sklearn\\linear_model\\coordinate_descent.py:492: ConvergenceWarning: Objective did not converge. You might want to increase the number of iterations. Fitting data with very small alpha may cause precision problems.\n",
      "  ConvergenceWarning)\n"
     ]
    },
    {
     "name": "stdout",
     "output_type": "stream",
     "text": [
      "[-3113.6674023922174, -3112.4755027237993, -3109.237744363657, -3021.7079609410694, -3027.2548110857015, -3155.9691466194263, -4709.632036265898, -10627.618461855514, -19249.816688312283, -14346.439735793694, -7620.634423313006, -2896.362132902329, -624.0827864254367, -312.228075617057]\n",
      "50.0\n"
     ]
    },
    {
     "name": "stderr",
     "output_type": "stream",
     "text": [
      "D:\\Users\\Marcelo\\Anaconda3\\lib\\site-packages\\sklearn\\linear_model\\coordinate_descent.py:492: ConvergenceWarning: Objective did not converge. You might want to increase the number of iterations. Fitting data with very small alpha may cause precision problems.\n",
      "  ConvergenceWarning)\n",
      "D:\\Users\\Marcelo\\Anaconda3\\lib\\site-packages\\sklearn\\linear_model\\coordinate_descent.py:492: ConvergenceWarning: Objective did not converge. You might want to increase the number of iterations. Fitting data with very small alpha may cause precision problems.\n",
      "  ConvergenceWarning)\n",
      "D:\\Users\\Marcelo\\Anaconda3\\lib\\site-packages\\sklearn\\linear_model\\coordinate_descent.py:492: ConvergenceWarning: Objective did not converge. You might want to increase the number of iterations. Fitting data with very small alpha may cause precision problems.\n",
      "  ConvergenceWarning)\n",
      "D:\\Users\\Marcelo\\Anaconda3\\lib\\site-packages\\sklearn\\linear_model\\coordinate_descent.py:492: ConvergenceWarning: Objective did not converge. You might want to increase the number of iterations. Fitting data with very small alpha may cause precision problems.\n",
      "  ConvergenceWarning)\n",
      "D:\\Users\\Marcelo\\Anaconda3\\lib\\site-packages\\sklearn\\linear_model\\coordinate_descent.py:492: ConvergenceWarning: Objective did not converge. You might want to increase the number of iterations. Fitting data with very small alpha may cause precision problems.\n",
      "  ConvergenceWarning)\n",
      "D:\\Users\\Marcelo\\Anaconda3\\lib\\site-packages\\sklearn\\linear_model\\coordinate_descent.py:492: ConvergenceWarning: Objective did not converge. You might want to increase the number of iterations. Fitting data with very small alpha may cause precision problems.\n",
      "  ConvergenceWarning)\n",
      "D:\\Users\\Marcelo\\Anaconda3\\lib\\site-packages\\sklearn\\linear_model\\coordinate_descent.py:492: ConvergenceWarning: Objective did not converge. You might want to increase the number of iterations. Fitting data with very small alpha may cause precision problems.\n",
      "  ConvergenceWarning)\n",
      "D:\\Users\\Marcelo\\Anaconda3\\lib\\site-packages\\sklearn\\linear_model\\coordinate_descent.py:492: ConvergenceWarning: Objective did not converge. You might want to increase the number of iterations. Fitting data with very small alpha may cause precision problems.\n",
      "  ConvergenceWarning)\n",
      "D:\\Users\\Marcelo\\Anaconda3\\lib\\site-packages\\sklearn\\linear_model\\coordinate_descent.py:492: ConvergenceWarning: Objective did not converge. You might want to increase the number of iterations. Fitting data with very small alpha may cause precision problems.\n",
      "  ConvergenceWarning)\n",
      "D:\\Users\\Marcelo\\Anaconda3\\lib\\site-packages\\sklearn\\linear_model\\coordinate_descent.py:492: ConvergenceWarning: Objective did not converge. You might want to increase the number of iterations. Fitting data with very small alpha may cause precision problems.\n",
      "  ConvergenceWarning)\n"
     ]
    }
   ],
   "source": [
    "X_50 = data.iloc[:, 1:51]\n",
    "best_alpha_50 = retrieve_lasso_alpha(X_50, alpha_space)"
   ]
  },
  {
   "cell_type": "code",
   "execution_count": 673,
   "metadata": {
    "scrolled": true
   },
   "outputs": [
    {
     "data": {
      "image/png": "[encoded data removed]",
      "text/plain": [
       "<Figure size 1152x360 with 1 Axes>"
      ]
     },
     "metadata": {
      "needs_background": "light"
     },
     "output_type": "display_data"
    }
   ],
   "source": [
    "lasso_coef_50 = plot_lasso_coef(X_50,y, best_alpha)"
   ]
  },
  {
   "cell_type": "code",
   "execution_count": 675,
   "metadata": {},
   "outputs": [
    {
     "data": {
      "image/png": "[encoded data removed]",
      "text/plain": [
       "<Figure size 1152x360 with 1 Axes>"
      ]
     },
     "metadata": {
      "needs_background": "light"
     },
     "output_type": "display_data"
    }
   ],
   "source": [
    "lasso.fit(X_50, y)\n",
    "y_pred = lasso.predict(X_50)\n",
    "\n",
    "# Plot the coefficients\n",
    "plt.figure(figsize=(16,5))\n",
    "plt.plot(range(len(y)), y_pred, 'r')\n",
    "plt.plot(range(len(y)), y, 'b')\n",
    "\n",
    "plt.xticks(range(len(X_50)), list(range(50)), rotation=60)\n",
    "plt.xlabel(\"week\")\n",
    "plt.ylabel(\"y\")\n",
    "plt.margins(0.02)\n",
    "plt.show()"
   ]
  },
  {
   "cell_type": "code",
   "execution_count": 245,
   "metadata": {},
   "outputs": [
    {
     "data": {
      "text/plain": [
       "{'alpha': 50.0,\n",
       " 'copy_X': True,\n",
       " 'fit_intercept': True,\n",
       " 'max_iter': 1000,\n",
       " 'normalize': True,\n",
       " 'positive': False,\n",
       " 'precompute': False,\n",
       " 'random_state': None,\n",
       " 'selection': 'cyclic',\n",
       " 'tol': 0.0001,\n",
       " 'warm_start': False}"
      ]
     },
     "execution_count": 245,
     "metadata": {},
     "output_type": "execute_result"
    }
   ],
   "source": [
    "lasso.get_params()"
   ]
  },
  {
   "cell_type": "code",
   "execution_count": 689,
   "metadata": {
    "scrolled": true
   },
   "outputs": [
    {
     "name": "stdout",
     "output_type": "stream",
     "text": [
      "dengue!\n",
      "#dengue\n",
      "casa\n",
      "acho\n",
      "pode\n",
      "hoje\n"
     ]
    }
   ],
   "source": [
    "print_vars(lasso_coef_50, 1)"
   ]
  },
  {
   "cell_type": "markdown",
   "metadata": {},
   "source": [
    "### feature selection of Xs of 500 features"
   ]
  },
  {
   "cell_type": "code",
   "execution_count": 51,
   "metadata": {},
   "outputs": [],
   "source": [
    "def remove_vars(data_features, coefs, threshold):\n",
    "    var_indexes = []\n",
    "    for coef in coefs:\n",
    "        if abs(coef) > threshold: \n",
    "            var_index = list(coefs).index(coef)\n",
    "            var_indexes.append(var_index)\n",
    "    data_features = data_features[data_features.columns[var_indexes]]\n",
    "    return data_features"
   ]
  },
  {
   "cell_type": "code",
   "execution_count": 52,
   "metadata": {},
   "outputs": [],
   "source": [
    "X = remove_vars(X, lasso_coef, 1)"
   ]
  },
  {
   "cell_type": "markdown",
   "metadata": {},
   "source": [
    "# analisar correlacao cruzada, com lag\n",
    "* statsmodel, Cross-correlation\n",
    "* https://www.kaggle.com/dedecu/cross-correlation-time-lag-with-pandas\n",
    "* convolution: https://www.youtube.com/watch?v=hBTGuOe9txE\n",
    "* the lag between signals is given by the argmax of the cross-correlation: https://en.wikipedia.org/wiki/Cross-correlation#Time_delay_analysis\n",
    "* A value of -1 means that in1 is 1 lag behind. A value of 2 means that in1 is 2 lag in advanced. Negaive values mean that in1 precedes/predicts in2."
   ]
  },
  {
   "cell_type": "code",
   "execution_count": 144,
   "metadata": {},
   "outputs": [],
   "source": [
    "from scipy import signal"
   ]
  },
  {
   "cell_type": "code",
   "execution_count": 58,
   "metadata": {},
   "outputs": [
    {
     "data": {
      "text/html": [
       "<div>\n",
       "<style scoped>\n",
       "    .dataframe tbody tr th:only-of-type {\n",
       "        vertical-align: middle;\n",
       "    }\n",
       "\n",
       "    .dataframe tbody tr th {\n",
       "        vertical-align: top;\n",
       "    }\n",
       "\n",
       "    .dataframe thead th {\n",
       "        text-align: right;\n",
       "    }\n",
       "</style>\n",
       "<table border=\"1\" class=\"dataframe\">\n",
       "  <thead>\n",
       "    <tr style=\"text-align: right;\">\n",
       "      <th>se</th>\n",
       "      <th>201047</th>\n",
       "      <th>201048</th>\n",
       "      <th>201050</th>\n",
       "      <th>201051</th>\n",
       "      <th>201101</th>\n",
       "      <th>201102</th>\n",
       "      <th>201103</th>\n",
       "      <th>201104</th>\n",
       "      <th>201105</th>\n",
       "      <th>201106</th>\n",
       "      <th>...</th>\n",
       "      <th>201130</th>\n",
       "      <th>201131</th>\n",
       "      <th>201132</th>\n",
       "      <th>201133</th>\n",
       "      <th>201134</th>\n",
       "      <th>201135</th>\n",
       "      <th>201136</th>\n",
       "      <th>201137</th>\n",
       "      <th>201138</th>\n",
       "      <th>201139</th>\n",
       "    </tr>\n",
       "  </thead>\n",
       "  <tbody>\n",
       "    <tr>\n",
       "      <th>pneu</th>\n",
       "      <td>30</td>\n",
       "      <td>6</td>\n",
       "      <td>24</td>\n",
       "      <td>6</td>\n",
       "      <td>33</td>\n",
       "      <td>23</td>\n",
       "      <td>55</td>\n",
       "      <td>22</td>\n",
       "      <td>169</td>\n",
       "      <td>15</td>\n",
       "      <td>...</td>\n",
       "      <td>12</td>\n",
       "      <td>55</td>\n",
       "      <td>13</td>\n",
       "      <td>29</td>\n",
       "      <td>15</td>\n",
       "      <td>26</td>\n",
       "      <td>49</td>\n",
       "      <td>19</td>\n",
       "      <td>24</td>\n",
       "      <td>27</td>\n",
       "    </tr>\n",
       "    <tr>\n",
       "      <th>feia</th>\n",
       "      <td>2</td>\n",
       "      <td>2</td>\n",
       "      <td>4</td>\n",
       "      <td>1</td>\n",
       "      <td>43</td>\n",
       "      <td>3</td>\n",
       "      <td>5</td>\n",
       "      <td>84</td>\n",
       "      <td>121</td>\n",
       "      <td>6</td>\n",
       "      <td>...</td>\n",
       "      <td>11</td>\n",
       "      <td>185</td>\n",
       "      <td>6</td>\n",
       "      <td>5</td>\n",
       "      <td>12</td>\n",
       "      <td>41</td>\n",
       "      <td>26</td>\n",
       "      <td>52</td>\n",
       "      <td>16</td>\n",
       "      <td>9</td>\n",
       "    </tr>\n",
       "    <tr>\n",
       "      <th>mi</th>\n",
       "      <td>52</td>\n",
       "      <td>13</td>\n",
       "      <td>20</td>\n",
       "      <td>6</td>\n",
       "      <td>19</td>\n",
       "      <td>37</td>\n",
       "      <td>22</td>\n",
       "      <td>13</td>\n",
       "      <td>80</td>\n",
       "      <td>25</td>\n",
       "      <td>...</td>\n",
       "      <td>36</td>\n",
       "      <td>20</td>\n",
       "      <td>97</td>\n",
       "      <td>15</td>\n",
       "      <td>27</td>\n",
       "      <td>33</td>\n",
       "      <td>27</td>\n",
       "      <td>61</td>\n",
       "      <td>41</td>\n",
       "      <td>42</td>\n",
       "    </tr>\n",
       "    <tr>\n",
       "      <th>show</th>\n",
       "      <td>23</td>\n",
       "      <td>2</td>\n",
       "      <td>23</td>\n",
       "      <td>15</td>\n",
       "      <td>31</td>\n",
       "      <td>29</td>\n",
       "      <td>18</td>\n",
       "      <td>9</td>\n",
       "      <td>27</td>\n",
       "      <td>23</td>\n",
       "      <td>...</td>\n",
       "      <td>20</td>\n",
       "      <td>23</td>\n",
       "      <td>15</td>\n",
       "      <td>7</td>\n",
       "      <td>22</td>\n",
       "      <td>11</td>\n",
       "      <td>66</td>\n",
       "      <td>7</td>\n",
       "      <td>160</td>\n",
       "      <td>17</td>\n",
       "    </tr>\n",
       "    <tr>\n",
       "      <th>notificações</th>\n",
       "      <td>4</td>\n",
       "      <td>4</td>\n",
       "      <td>19</td>\n",
       "      <td>0</td>\n",
       "      <td>68</td>\n",
       "      <td>12</td>\n",
       "      <td>21</td>\n",
       "      <td>26</td>\n",
       "      <td>32</td>\n",
       "      <td>27</td>\n",
       "      <td>...</td>\n",
       "      <td>30</td>\n",
       "      <td>38</td>\n",
       "      <td>15</td>\n",
       "      <td>7</td>\n",
       "      <td>9</td>\n",
       "      <td>14</td>\n",
       "      <td>36</td>\n",
       "      <td>4</td>\n",
       "      <td>3</td>\n",
       "      <td>9</td>\n",
       "    </tr>\n",
       "  </tbody>\n",
       "</table>\n",
       "<p>5 rows × 43 columns</p>\n",
       "</div>"
      ],
      "text/plain": [
       "se            201047  201048  201050  201051  201101  201102  201103  201104  \\\n",
       "pneu              30       6      24       6      33      23      55      22   \n",
       "feia               2       2       4       1      43       3       5      84   \n",
       "mi                52      13      20       6      19      37      22      13   \n",
       "show              23       2      23      15      31      29      18       9   \n",
       "notificações       4       4      19       0      68      12      21      26   \n",
       "\n",
       "se            201105  201106  ...  201130  201131  201132  201133  201134  \\\n",
       "pneu             169      15  ...      12      55      13      29      15   \n",
       "feia             121       6  ...      11     185       6       5      12   \n",
       "mi                80      25  ...      36      20      97      15      27   \n",
       "show              27      23  ...      20      23      15       7      22   \n",
       "notificações      32      27  ...      30      38      15       7       9   \n",
       "\n",
       "se            201135  201136  201137  201138  201139  \n",
       "pneu              26      49      19      24      27  \n",
       "feia              41      26      52      16       9  \n",
       "mi                33      27      61      41      42  \n",
       "show              11      66       7     160      17  \n",
       "notificações      14      36       4       3       9  \n",
       "\n",
       "[5 rows x 43 columns]"
      ]
     },
     "execution_count": 58,
     "metadata": {},
     "output_type": "execute_result"
    }
   ],
   "source": [
    "X.T.head()"
   ]
  },
  {
   "cell_type": "code",
   "execution_count": 80,
   "metadata": {},
   "outputs": [],
   "source": [
    "X_array = X.T.values\n",
    "y_array = [list(y.y) for x in range(len(X_array))]"
   ]
  },
  {
   "cell_type": "code",
   "execution_count": 96,
   "metadata": {},
   "outputs": [],
   "source": [
    "corrs = signal.correlate(X_array, y_array, mode='same')"
   ]
  },
  {
   "cell_type": "code",
   "execution_count": 98,
   "metadata": {},
   "outputs": [
    {
     "name": "stdout",
     "output_type": "stream",
     "text": [
      "-1\n",
      "-2\n",
      "-2\n",
      "-2\n",
      "-2\n",
      "-1\n",
      "-1\n",
      "-1\n",
      "-1\n",
      "-1\n",
      "-1\n",
      "-1\n",
      "-1\n",
      "-1\n",
      "-1\n",
      "-1\n",
      "-1\n",
      "-1\n"
     ]
    }
   ],
   "source": [
    "for corr in corrs:\n",
    "    center = int(len(corr)/2)\n",
    "    lag = np.argmax(corr) - center\n",
    "    print(lag)"
   ]
  },
  {
   "cell_type": "code",
   "execution_count": 87,
   "metadata": {},
   "outputs": [],
   "source": [
    "test1 = np.array([0,1,2,3])\n",
    "test3 = np.array([1,2,3,0])\n",
    "test4 = np.array([2,3,0,1])\n",
    "test5 = np.array([3,0,1,2])"
   ]
  },
  {
   "cell_type": "code",
   "execution_count": 88,
   "metadata": {},
   "outputs": [
    {
     "name": "stdout",
     "output_type": "stream",
     "text": [
      "[ 0  3  8 14  8  3  0] 0\n",
      "[ 0  0  3  8 14  8  3] 1\n",
      "[ 3  8 14  8  3  0  0] -1\n",
      "[ 0  1  2  6  8 13  6] 2\n",
      "[ 6 13  8  6  2  1  0] -2\n",
      "[0 2 5 8 6 6 9] 3\n",
      "[9 6 6 8 5 2 0] -3\n"
     ]
    }
   ],
   "source": [
    "signals_test = [test3,test4,test5]\n",
    "corr = signal.correlate(test1, test1)\n",
    "lag = np.argmax(corr) - center\n",
    "print(corr, lag)\n",
    "for test in signals_test:\n",
    "    corr = signal.correlate(test1, test)\n",
    "    lag = np.argmax(corr) - center\n",
    "    print(corr, lag)\n",
    "    corr = signal.correlate(test, test1)\n",
    "    lag = np.argmax(corr) - center\n",
    "    print(corr, lag)"
   ]
  },
  {
   "cell_type": "code",
   "execution_count": null,
   "metadata": {},
   "outputs": [],
   "source": []
  },
  {
   "cell_type": "code",
   "execution_count": null,
   "metadata": {},
   "outputs": [],
   "source": []
  },
  {
   "cell_type": "raw",
   "metadata": {},
   "source": [
    "sm.tsa.stattools.ccf(X['pneu'], np.array(y.iloc[:,0]))"
   ]
  },
  {
   "cell_type": "code",
   "execution_count": 40,
   "metadata": {},
   "outputs": [],
   "source": [
    "def df_derived_by_shift(df,lag=0,NON_DER=[]):\n",
    "    df = df.copy()\n",
    "    if not lag:\n",
    "        return df\n",
    "    cols ={}\n",
    "    for i in range(1,lag+1):\n",
    "        for x in list(df.columns):\n",
    "            if x not in NON_DER:\n",
    "                if not x in cols:\n",
    "                    cols[x] = ['{}_{}'.format(x, i)]\n",
    "                else:\n",
    "                    cols[x].append('{}_{}'.format(x, i))\n",
    "    for k,v in cols.items():\n",
    "        columns = v\n",
    "        dfn = pd.DataFrame(data=None, columns=columns, index=df.index)    \n",
    "        i = 1\n",
    "        for c in columns:\n",
    "            dfn[c] = df[k].shift(periods=i)\n",
    "            i+=1\n",
    "        df = pd.concat([df, dfn], axis=1, join_axes=[df.index])\n",
    "    return df"
   ]
  },
  {
   "cell_type": "code",
   "execution_count": 42,
   "metadata": {},
   "outputs": [],
   "source": [
    "def corr_heatmap(df):\n",
    "    colormap = plt.cm.RdBu\n",
    "    plt.figure(figsize=(15,10))\n",
    "    plt.title(u'0-3 weeks lags', y=1.)\n",
    "    \n",
    "    mask = np.zeros_like(X_sel_shift.corr())\n",
    "    mask[np.triu_indices_from(mask)] = True\n",
    "    \n",
    "    svm = sns.heatmap(X_sel_shift.corr(), mask=mask, linewidths=0.1,vmin=-1.0, vmax=1.0, \n",
    "                square=True, cmap=colormap, linecolor='white', annot=True)"
   ]
  },
  {
   "cell_type": "code",
   "execution_count": 43,
   "metadata": {},
   "outputs": [],
   "source": [
    "NON_DER = ['se',]\n",
    "X_selection = pd.merge(X, y, on='se', how='inner').reset_index()"
   ]
  },
  {
   "cell_type": "code",
   "execution_count": 44,
   "metadata": {},
   "outputs": [
    {
     "data": {
      "text/html": [
       "<div>\n",
       "<style scoped>\n",
       "    .dataframe tbody tr th:only-of-type {\n",
       "        vertical-align: middle;\n",
       "    }\n",
       "\n",
       "    .dataframe tbody tr th {\n",
       "        vertical-align: top;\n",
       "    }\n",
       "\n",
       "    .dataframe thead th {\n",
       "        text-align: right;\n",
       "    }\n",
       "</style>\n",
       "<table border=\"1\" class=\"dataframe\">\n",
       "  <thead>\n",
       "    <tr style=\"text-align: right;\">\n",
       "      <th></th>\n",
       "      <th>@minsaude:</th>\n",
       "      <th>y</th>\n",
       "      <th>@minsaude:_1</th>\n",
       "      <th>@minsaude:_2</th>\n",
       "      <th>@minsaude:_3</th>\n",
       "      <th>y_1</th>\n",
       "      <th>y_2</th>\n",
       "      <th>y_3</th>\n",
       "    </tr>\n",
       "  </thead>\n",
       "  <tbody>\n",
       "    <tr>\n",
       "      <th>@minsaude:</th>\n",
       "      <td>1.000000</td>\n",
       "      <td>-0.018149</td>\n",
       "      <td>0.151455</td>\n",
       "      <td>0.081610</td>\n",
       "      <td>-0.208268</td>\n",
       "      <td>-0.023581</td>\n",
       "      <td>-0.066426</td>\n",
       "      <td>-0.109434</td>\n",
       "    </tr>\n",
       "    <tr>\n",
       "      <th>y</th>\n",
       "      <td>-0.018149</td>\n",
       "      <td>1.000000</td>\n",
       "      <td>-0.043651</td>\n",
       "      <td>-0.021207</td>\n",
       "      <td>-0.029446</td>\n",
       "      <td>0.952267</td>\n",
       "      <td>0.860226</td>\n",
       "      <td>0.749660</td>\n",
       "    </tr>\n",
       "    <tr>\n",
       "      <th>@minsaude:_1</th>\n",
       "      <td>0.151455</td>\n",
       "      <td>-0.043651</td>\n",
       "      <td>1.000000</td>\n",
       "      <td>0.176907</td>\n",
       "      <td>0.101987</td>\n",
       "      <td>-0.008163</td>\n",
       "      <td>-0.012391</td>\n",
       "      <td>-0.054680</td>\n",
       "    </tr>\n",
       "    <tr>\n",
       "      <th>@minsaude:_2</th>\n",
       "      <td>0.081610</td>\n",
       "      <td>-0.021207</td>\n",
       "      <td>0.176907</td>\n",
       "      <td>1.000000</td>\n",
       "      <td>0.203054</td>\n",
       "      <td>-0.021855</td>\n",
       "      <td>0.014503</td>\n",
       "      <td>0.010583</td>\n",
       "    </tr>\n",
       "    <tr>\n",
       "      <th>@minsaude:_3</th>\n",
       "      <td>-0.208268</td>\n",
       "      <td>-0.029446</td>\n",
       "      <td>0.101987</td>\n",
       "      <td>0.203054</td>\n",
       "      <td>1.000000</td>\n",
       "      <td>-0.008152</td>\n",
       "      <td>-0.007545</td>\n",
       "      <td>0.028476</td>\n",
       "    </tr>\n",
       "    <tr>\n",
       "      <th>y_1</th>\n",
       "      <td>-0.023581</td>\n",
       "      <td>0.952267</td>\n",
       "      <td>-0.008163</td>\n",
       "      <td>-0.021855</td>\n",
       "      <td>-0.008152</td>\n",
       "      <td>1.000000</td>\n",
       "      <td>0.952267</td>\n",
       "      <td>0.860278</td>\n",
       "    </tr>\n",
       "    <tr>\n",
       "      <th>y_2</th>\n",
       "      <td>-0.066426</td>\n",
       "      <td>0.860226</td>\n",
       "      <td>-0.012391</td>\n",
       "      <td>0.014503</td>\n",
       "      <td>-0.007545</td>\n",
       "      <td>0.952267</td>\n",
       "      <td>1.000000</td>\n",
       "      <td>0.952334</td>\n",
       "    </tr>\n",
       "    <tr>\n",
       "      <th>y_3</th>\n",
       "      <td>-0.109434</td>\n",
       "      <td>0.749660</td>\n",
       "      <td>-0.054680</td>\n",
       "      <td>0.010583</td>\n",
       "      <td>0.028476</td>\n",
       "      <td>0.860278</td>\n",
       "      <td>0.952334</td>\n",
       "      <td>1.000000</td>\n",
       "    </tr>\n",
       "  </tbody>\n",
       "</table>\n",
       "</div>"
      ],
      "text/plain": [
       "              @minsaude:         y  @minsaude:_1  @minsaude:_2  @minsaude:_3  \\\n",
       "@minsaude:      1.000000 -0.018149      0.151455      0.081610     -0.208268   \n",
       "y              -0.018149  1.000000     -0.043651     -0.021207     -0.029446   \n",
       "@minsaude:_1    0.151455 -0.043651      1.000000      0.176907      0.101987   \n",
       "@minsaude:_2    0.081610 -0.021207      0.176907      1.000000      0.203054   \n",
       "@minsaude:_3   -0.208268 -0.029446      0.101987      0.203054      1.000000   \n",
       "y_1            -0.023581  0.952267     -0.008163     -0.021855     -0.008152   \n",
       "y_2            -0.066426  0.860226     -0.012391      0.014503     -0.007545   \n",
       "y_3            -0.109434  0.749660     -0.054680      0.010583      0.028476   \n",
       "\n",
       "                   y_1       y_2       y_3  \n",
       "@minsaude:   -0.023581 -0.066426 -0.109434  \n",
       "y             0.952267  0.860226  0.749660  \n",
       "@minsaude:_1 -0.008163 -0.012391 -0.054680  \n",
       "@minsaude:_2 -0.021855  0.014503  0.010583  \n",
       "@minsaude:_3 -0.008152 -0.007545  0.028476  \n",
       "y_1           1.000000  0.952267  0.860278  \n",
       "y_2           0.952267  1.000000  0.952334  \n",
       "y_3           0.860278  0.952334  1.000000  "
      ]
     },
     "execution_count": 44,
     "metadata": {},
     "output_type": "execute_result"
    }
   ],
   "source": [
    "fields = ['se','@minsaude:','y']\n",
    "X_sel_shift = X_selection[fields]\n",
    "X_sel_shift = df_derived_by_shift(X_sel_shift, 3, NON_DER)\n",
    "X_sel_shift = X_sel_shift.dropna()\n",
    "X_sel_shift.corr()"
   ]
  },
  {
   "cell_type": "code",
   "execution_count": 138,
   "metadata": {},
   "outputs": [
    {
     "data": {
      "image/png": "[encoded data removed]",
      "text/plain": [
       "<Figure size 1080x720 with 2 Axes>"
      ]
     },
     "metadata": {
      "needs_background": "light"
     },
     "output_type": "display_data"
    }
   ],
   "source": [
    "corr_heatmap(X_sel_shift.corr())"
   ]
  },
  {
   "cell_type": "code",
   "execution_count": 45,
   "metadata": {},
   "outputs": [
    {
     "data": {
      "text/html": [
       "<div>\n",
       "<style scoped>\n",
       "    .dataframe tbody tr th:only-of-type {\n",
       "        vertical-align: middle;\n",
       "    }\n",
       "\n",
       "    .dataframe tbody tr th {\n",
       "        vertical-align: top;\n",
       "    }\n",
       "\n",
       "    .dataframe thead th {\n",
       "        text-align: right;\n",
       "    }\n",
       "</style>\n",
       "<table border=\"1\" class=\"dataframe\">\n",
       "  <thead>\n",
       "    <tr style=\"text-align: right;\">\n",
       "      <th></th>\n",
       "      <th>pneu</th>\n",
       "      <th>y</th>\n",
       "      <th>pneu_1</th>\n",
       "      <th>pneu_2</th>\n",
       "      <th>pneu_3</th>\n",
       "      <th>y_1</th>\n",
       "      <th>y_2</th>\n",
       "      <th>y_3</th>\n",
       "    </tr>\n",
       "  </thead>\n",
       "  <tbody>\n",
       "    <tr>\n",
       "      <th>pneu</th>\n",
       "      <td>1.000000</td>\n",
       "      <td>-0.074536</td>\n",
       "      <td>-0.155927</td>\n",
       "      <td>0.050988</td>\n",
       "      <td>0.048623</td>\n",
       "      <td>-0.059690</td>\n",
       "      <td>-0.054199</td>\n",
       "      <td>-0.062045</td>\n",
       "    </tr>\n",
       "    <tr>\n",
       "      <th>y</th>\n",
       "      <td>-0.074536</td>\n",
       "      <td>1.000000</td>\n",
       "      <td>-0.045311</td>\n",
       "      <td>-0.003855</td>\n",
       "      <td>0.026181</td>\n",
       "      <td>0.952267</td>\n",
       "      <td>0.860226</td>\n",
       "      <td>0.749660</td>\n",
       "    </tr>\n",
       "    <tr>\n",
       "      <th>pneu_1</th>\n",
       "      <td>-0.155927</td>\n",
       "      <td>-0.045311</td>\n",
       "      <td>1.000000</td>\n",
       "      <td>-0.147460</td>\n",
       "      <td>0.048868</td>\n",
       "      <td>-0.072602</td>\n",
       "      <td>-0.057316</td>\n",
       "      <td>-0.051813</td>\n",
       "    </tr>\n",
       "    <tr>\n",
       "      <th>pneu_2</th>\n",
       "      <td>0.050988</td>\n",
       "      <td>-0.003855</td>\n",
       "      <td>-0.147460</td>\n",
       "      <td>1.000000</td>\n",
       "      <td>-0.147089</td>\n",
       "      <td>-0.033647</td>\n",
       "      <td>-0.059514</td>\n",
       "      <td>-0.044268</td>\n",
       "    </tr>\n",
       "    <tr>\n",
       "      <th>pneu_3</th>\n",
       "      <td>0.048623</td>\n",
       "      <td>0.026181</td>\n",
       "      <td>0.048868</td>\n",
       "      <td>-0.147089</td>\n",
       "      <td>1.000000</td>\n",
       "      <td>-0.010799</td>\n",
       "      <td>-0.040615</td>\n",
       "      <td>-0.066623</td>\n",
       "    </tr>\n",
       "    <tr>\n",
       "      <th>y_1</th>\n",
       "      <td>-0.059690</td>\n",
       "      <td>0.952267</td>\n",
       "      <td>-0.072602</td>\n",
       "      <td>-0.033647</td>\n",
       "      <td>-0.010799</td>\n",
       "      <td>1.000000</td>\n",
       "      <td>0.952267</td>\n",
       "      <td>0.860278</td>\n",
       "    </tr>\n",
       "    <tr>\n",
       "      <th>y_2</th>\n",
       "      <td>-0.054199</td>\n",
       "      <td>0.860226</td>\n",
       "      <td>-0.057316</td>\n",
       "      <td>-0.059514</td>\n",
       "      <td>-0.040615</td>\n",
       "      <td>0.952267</td>\n",
       "      <td>1.000000</td>\n",
       "      <td>0.952334</td>\n",
       "    </tr>\n",
       "    <tr>\n",
       "      <th>y_3</th>\n",
       "      <td>-0.062045</td>\n",
       "      <td>0.749660</td>\n",
       "      <td>-0.051813</td>\n",
       "      <td>-0.044268</td>\n",
       "      <td>-0.066623</td>\n",
       "      <td>0.860278</td>\n",
       "      <td>0.952334</td>\n",
       "      <td>1.000000</td>\n",
       "    </tr>\n",
       "  </tbody>\n",
       "</table>\n",
       "</div>"
      ],
      "text/plain": [
       "            pneu         y    pneu_1    pneu_2    pneu_3       y_1       y_2  \\\n",
       "pneu    1.000000 -0.074536 -0.155927  0.050988  0.048623 -0.059690 -0.054199   \n",
       "y      -0.074536  1.000000 -0.045311 -0.003855  0.026181  0.952267  0.860226   \n",
       "pneu_1 -0.155927 -0.045311  1.000000 -0.147460  0.048868 -0.072602 -0.057316   \n",
       "pneu_2  0.050988 -0.003855 -0.147460  1.000000 -0.147089 -0.033647 -0.059514   \n",
       "pneu_3  0.048623  0.026181  0.048868 -0.147089  1.000000 -0.010799 -0.040615   \n",
       "y_1    -0.059690  0.952267 -0.072602 -0.033647 -0.010799  1.000000  0.952267   \n",
       "y_2    -0.054199  0.860226 -0.057316 -0.059514 -0.040615  0.952267  1.000000   \n",
       "y_3    -0.062045  0.749660 -0.051813 -0.044268 -0.066623  0.860278  0.952334   \n",
       "\n",
       "             y_3  \n",
       "pneu   -0.062045  \n",
       "y       0.749660  \n",
       "pneu_1 -0.051813  \n",
       "pneu_2 -0.044268  \n",
       "pneu_3 -0.066623  \n",
       "y_1     0.860278  \n",
       "y_2     0.952334  \n",
       "y_3     1.000000  "
      ]
     },
     "execution_count": 45,
     "metadata": {},
     "output_type": "execute_result"
    }
   ],
   "source": [
    "fields = ['se','pneu','y']\n",
    "X_sel_shift = X_selection[fields]\n",
    "X_sel_shift = df_derived_by_shift(X_sel_shift, 3, NON_DER)\n",
    "X_sel_shift = X_sel_shift.dropna()\n",
    "X_sel_shift.corr()"
   ]
  },
  {
   "cell_type": "code",
   "execution_count": 46,
   "metadata": {},
   "outputs": [
    {
     "data": {
      "image/png": "[encoded data removed]",
      "text/plain": [
       "<Figure size 1080x720 with 2 Axes>"
      ]
     },
     "metadata": {
      "needs_background": "light"
     },
     "output_type": "display_data"
    }
   ],
   "source": [
    "corr_heatmap(X_sel_shift.corr())"
   ]
  },
  {
   "cell_type": "code",
   "execution_count": 47,
   "metadata": {},
   "outputs": [
    {
     "data": {
      "text/html": [
       "<div>\n",
       "<style scoped>\n",
       "    .dataframe tbody tr th:only-of-type {\n",
       "        vertical-align: middle;\n",
       "    }\n",
       "\n",
       "    .dataframe tbody tr th {\n",
       "        vertical-align: top;\n",
       "    }\n",
       "\n",
       "    .dataframe thead th {\n",
       "        text-align: right;\n",
       "    }\n",
       "</style>\n",
       "<table border=\"1\" class=\"dataframe\">\n",
       "  <thead>\n",
       "    <tr style=\"text-align: right;\">\n",
       "      <th></th>\n",
       "      <th>tempo</th>\n",
       "      <th>y</th>\n",
       "      <th>tempo_1</th>\n",
       "      <th>tempo_2</th>\n",
       "      <th>tempo_3</th>\n",
       "      <th>y_1</th>\n",
       "      <th>y_2</th>\n",
       "      <th>y_3</th>\n",
       "    </tr>\n",
       "  </thead>\n",
       "  <tbody>\n",
       "    <tr>\n",
       "      <th>tempo</th>\n",
       "      <td>1.000000</td>\n",
       "      <td>0.713408</td>\n",
       "      <td>0.525858</td>\n",
       "      <td>0.359480</td>\n",
       "      <td>0.380853</td>\n",
       "      <td>0.607105</td>\n",
       "      <td>0.548933</td>\n",
       "      <td>0.511039</td>\n",
       "    </tr>\n",
       "    <tr>\n",
       "      <th>y</th>\n",
       "      <td>0.713408</td>\n",
       "      <td>1.000000</td>\n",
       "      <td>0.747282</td>\n",
       "      <td>0.740763</td>\n",
       "      <td>0.617252</td>\n",
       "      <td>0.952267</td>\n",
       "      <td>0.860226</td>\n",
       "      <td>0.749660</td>\n",
       "    </tr>\n",
       "    <tr>\n",
       "      <th>tempo_1</th>\n",
       "      <td>0.525858</td>\n",
       "      <td>0.747282</td>\n",
       "      <td>1.000000</td>\n",
       "      <td>0.530286</td>\n",
       "      <td>0.356208</td>\n",
       "      <td>0.713526</td>\n",
       "      <td>0.607862</td>\n",
       "      <td>0.549826</td>\n",
       "    </tr>\n",
       "    <tr>\n",
       "      <th>tempo_2</th>\n",
       "      <td>0.359480</td>\n",
       "      <td>0.740763</td>\n",
       "      <td>0.530286</td>\n",
       "      <td>1.000000</td>\n",
       "      <td>0.526454</td>\n",
       "      <td>0.744461</td>\n",
       "      <td>0.712371</td>\n",
       "      <td>0.608620</td>\n",
       "    </tr>\n",
       "    <tr>\n",
       "      <th>tempo_3</th>\n",
       "      <td>0.380853</td>\n",
       "      <td>0.617252</td>\n",
       "      <td>0.356208</td>\n",
       "      <td>0.526454</td>\n",
       "      <td>1.000000</td>\n",
       "      <td>0.739810</td>\n",
       "      <td>0.743546</td>\n",
       "      <td>0.711255</td>\n",
       "    </tr>\n",
       "    <tr>\n",
       "      <th>y_1</th>\n",
       "      <td>0.607105</td>\n",
       "      <td>0.952267</td>\n",
       "      <td>0.713526</td>\n",
       "      <td>0.744461</td>\n",
       "      <td>0.739810</td>\n",
       "      <td>1.000000</td>\n",
       "      <td>0.952267</td>\n",
       "      <td>0.860278</td>\n",
       "    </tr>\n",
       "    <tr>\n",
       "      <th>y_2</th>\n",
       "      <td>0.548933</td>\n",
       "      <td>0.860226</td>\n",
       "      <td>0.607862</td>\n",
       "      <td>0.712371</td>\n",
       "      <td>0.743546</td>\n",
       "      <td>0.952267</td>\n",
       "      <td>1.000000</td>\n",
       "      <td>0.952334</td>\n",
       "    </tr>\n",
       "    <tr>\n",
       "      <th>y_3</th>\n",
       "      <td>0.511039</td>\n",
       "      <td>0.749660</td>\n",
       "      <td>0.549826</td>\n",
       "      <td>0.608620</td>\n",
       "      <td>0.711255</td>\n",
       "      <td>0.860278</td>\n",
       "      <td>0.952334</td>\n",
       "      <td>1.000000</td>\n",
       "    </tr>\n",
       "  </tbody>\n",
       "</table>\n",
       "</div>"
      ],
      "text/plain": [
       "            tempo         y   tempo_1   tempo_2   tempo_3       y_1       y_2  \\\n",
       "tempo    1.000000  0.713408  0.525858  0.359480  0.380853  0.607105  0.548933   \n",
       "y        0.713408  1.000000  0.747282  0.740763  0.617252  0.952267  0.860226   \n",
       "tempo_1  0.525858  0.747282  1.000000  0.530286  0.356208  0.713526  0.607862   \n",
       "tempo_2  0.359480  0.740763  0.530286  1.000000  0.526454  0.744461  0.712371   \n",
       "tempo_3  0.380853  0.617252  0.356208  0.526454  1.000000  0.739810  0.743546   \n",
       "y_1      0.607105  0.952267  0.713526  0.744461  0.739810  1.000000  0.952267   \n",
       "y_2      0.548933  0.860226  0.607862  0.712371  0.743546  0.952267  1.000000   \n",
       "y_3      0.511039  0.749660  0.549826  0.608620  0.711255  0.860278  0.952334   \n",
       "\n",
       "              y_3  \n",
       "tempo    0.511039  \n",
       "y        0.749660  \n",
       "tempo_1  0.549826  \n",
       "tempo_2  0.608620  \n",
       "tempo_3  0.711255  \n",
       "y_1      0.860278  \n",
       "y_2      0.952334  \n",
       "y_3      1.000000  "
      ]
     },
     "execution_count": 47,
     "metadata": {},
     "output_type": "execute_result"
    }
   ],
   "source": [
    "fields = ['se','tempo','y']\n",
    "X_sel_shift = X_selection[fields]\n",
    "X_sel_shift = df_derived_by_shift(X_sel_shift, 3, NON_DER)\n",
    "X_sel_shift = X_sel_shift.dropna()\n",
    "X_sel_shift.corr()"
   ]
  },
  {
   "cell_type": "code",
   "execution_count": 48,
   "metadata": {},
   "outputs": [
    {
     "data": {
      "image/png": "[encoded data removed]",
      "text/plain": [
       "<Figure size 1080x720 with 2 Axes>"
      ]
     },
     "metadata": {
      "needs_background": "light"
     },
     "output_type": "display_data"
    }
   ],
   "source": [
    "corr_heatmap(X_sel_shift.corr())"
   ]
  },
  {
   "cell_type": "markdown",
   "metadata": {},
   "source": [
    "# tentar transformar em modelo multiclasse, 5 modelos\n",
    "usar classes da UFMG como treino"
   ]
  },
  {
   "cell_type": "markdown",
   "metadata": {},
   "source": [
    "# ML model"
   ]
  },
  {
   "cell_type": "code",
   "execution_count": 46,
   "metadata": {},
   "outputs": [],
   "source": [
    "from sklearn.preprocessing import Imputer\n",
    "from sklearn.pipeline import Pipeline\n",
    "from sklearn.metrics import classification_report\n",
    "from sklearn.model_selection import train_test_split\n",
    "#from sklearn.metrics import log_loss\n",
    "from sklearn.metrics import mean_squared_error\n",
    "\n"
   ]
  },
  {
   "cell_type": "markdown",
   "metadata": {},
   "source": [
    "### Create train and test sets"
   ]
  },
  {
   "cell_type": "code",
   "execution_count": 42,
   "metadata": {},
   "outputs": [],
   "source": [
    "X_train, X_test, y_train, y_test = train_test_split(X, y, test_size=0.3, random_state=42)"
   ]
  },
  {
   "cell_type": "code",
   "execution_count": 43,
   "metadata": {},
   "outputs": [
    {
     "data": {
      "text/plain": [
       "13"
      ]
     },
     "execution_count": 43,
     "metadata": {},
     "output_type": "execute_result"
    }
   ],
   "source": [
    "len(X_test)"
   ]
  },
  {
   "cell_type": "code",
   "execution_count": 44,
   "metadata": {},
   "outputs": [
    {
     "data": {
      "text/plain": [
       "30"
      ]
     },
     "execution_count": 44,
     "metadata": {},
     "output_type": "execute_result"
    }
   ],
   "source": [
    "len(X_train)"
   ]
  },
  {
   "cell_type": "markdown",
   "metadata": {},
   "source": [
    "### random forest"
   ]
  },
  {
   "cell_type": "code",
   "execution_count": 161,
   "metadata": {},
   "outputs": [
    {
     "name": "stderr",
     "output_type": "stream",
     "text": [
      "D:\\Users\\Marcelo\\Anaconda3\\lib\\site-packages\\sklearn\\ensemble\\forest.py:246: FutureWarning: The default value of n_estimators will change from 10 in version 0.20 to 100 in 0.22.\n",
      "  \"10 in version 0.20 to 100 in 0.22.\", FutureWarning)\n",
      "D:\\Users\\Marcelo\\Anaconda3\\lib\\site-packages\\sklearn\\pipeline.py:267: DataConversionWarning: A column-vector y was passed when a 1d array was expected. Please change the shape of y to (n_samples,), for example using ravel().\n",
      "  self._final_estimator.fit(Xt, y, **fit_params)\n"
     ]
    }
   ],
   "source": [
    "from sklearn.ensemble import RandomForestClassifier\n",
    "\n",
    "clf_rf = RandomForestClassifier()\n",
    "steps = [('RandomF', clf_rf)]\n",
    "pipeline = Pipeline(steps)\n",
    "\n",
    "# Fit the pipeline to the train set\n",
    "pipeline.fit(X_train, y_train)\n",
    "\n",
    "# Predict the labels of the test set\n",
    "y_pred = pipeline.predict(X_test)\n",
    "\n",
    "# Loss function\n",
    "error_random_forest = mean_squared_error(y_test,y_pred)"
   ]
  },
  {
   "cell_type": "code",
   "execution_count": 167,
   "metadata": {},
   "outputs": [
    {
     "name": "stderr",
     "output_type": "stream",
     "text": [
      "D:\\Users\\Marcelo\\Anaconda3\\lib\\site-packages\\sklearn\\pipeline.py:267: DataConversionWarning: A column-vector y was passed when a 1d array was expected. Please change the shape of y to (n_samples, ), for example using ravel().\n",
      "  self._final_estimator.fit(Xt, y, **fit_params)\n"
     ]
    }
   ],
   "source": [
    "from sklearn.neighbors import KNeighborsClassifier\n",
    "\n",
    "clf_knn = KNeighborsClassifier(n_neighbors = 3)\n",
    "steps = [('KNN', clf_knn)]\n",
    "pipeline = Pipeline(steps)\n",
    "\n",
    "pipeline.fit(X_train, y_train)\n",
    "\n",
    "y_pred = pipeline.predict(X_test)\n",
    "\n",
    "error_knn =  mean_squared_error(y_test,y_pred)"
   ]
  },
  {
   "cell_type": "code",
   "execution_count": 168,
   "metadata": {},
   "outputs": [
    {
     "name": "stderr",
     "output_type": "stream",
     "text": [
      "D:\\Users\\Marcelo\\Anaconda3\\lib\\site-packages\\sklearn\\utils\\validation.py:761: DataConversionWarning: A column-vector y was passed when a 1d array was expected. Please change the shape of y to (n_samples, ), for example using ravel().\n",
      "  y = column_or_1d(y, warn=True)\n",
      "D:\\Users\\Marcelo\\Anaconda3\\lib\\site-packages\\sklearn\\svm\\base.py:196: FutureWarning: The default value of gamma will change from 'auto' to 'scale' in version 0.22 to account better for unscaled features. Set gamma explicitly to 'auto' or 'scale' to avoid this warning.\n",
      "  \"avoid this warning.\", FutureWarning)\n"
     ]
    }
   ],
   "source": [
    "from sklearn.svm import SVC\n",
    "\n",
    "clf_svc = SVC()\n",
    "steps = [('SVC', clf_svc)]\n",
    "pipeline = Pipeline(steps)\n",
    "\n",
    "pipeline.fit(X_train, y_train)\n",
    "\n",
    "y_pred = pipeline.predict(X_test)\n",
    "\n",
    "error_svc =  mean_squared_error(y_test,y_pred)"
   ]
  },
  {
   "cell_type": "code",
   "execution_count": 170,
   "metadata": {
    "scrolled": true
   },
   "outputs": [
    {
     "data": {
      "text/html": [
       "<div>\n",
       "<style scoped>\n",
       "    .dataframe tbody tr th:only-of-type {\n",
       "        vertical-align: middle;\n",
       "    }\n",
       "\n",
       "    .dataframe tbody tr th {\n",
       "        vertical-align: top;\n",
       "    }\n",
       "\n",
       "    .dataframe thead th {\n",
       "        text-align: right;\n",
       "    }\n",
       "</style>\n",
       "<table border=\"1\" class=\"dataframe\">\n",
       "  <thead>\n",
       "    <tr style=\"text-align: right;\">\n",
       "      <th></th>\n",
       "      <th>Model</th>\n",
       "      <th>Error</th>\n",
       "    </tr>\n",
       "  </thead>\n",
       "  <tbody>\n",
       "    <tr>\n",
       "      <th>1</th>\n",
       "      <td>knn</td>\n",
       "      <td>6.620117e+05</td>\n",
       "    </tr>\n",
       "    <tr>\n",
       "      <th>0</th>\n",
       "      <td>randomforest</td>\n",
       "      <td>1.848979e+06</td>\n",
       "    </tr>\n",
       "    <tr>\n",
       "      <th>2</th>\n",
       "      <td>svc</td>\n",
       "      <td>2.177867e+07</td>\n",
       "    </tr>\n",
       "  </tbody>\n",
       "</table>\n",
       "</div>"
      ],
      "text/plain": [
       "          Model         Error\n",
       "1           knn  6.620117e+05\n",
       "0  randomforest  1.848979e+06\n",
       "2           svc  2.177867e+07"
      ]
     },
     "execution_count": 170,
     "metadata": {},
     "output_type": "execute_result"
    }
   ],
   "source": [
    "models = pd.DataFrame({\n",
    "    'Model': ['randomforest', 'knn', 'svc'],\n",
    "    'Error': [error_random_forest, error_knn, error_svc]})\n",
    "models.sort_values(by='Error')"
   ]
  },
  {
   "cell_type": "markdown",
   "metadata": {},
   "source": [
    "### cross validation"
   ]
  },
  {
   "cell_type": "code",
   "execution_count": 181,
   "metadata": {},
   "outputs": [
    {
     "data": {
      "text/plain": [
       "43"
      ]
     },
     "execution_count": 181,
     "metadata": {},
     "output_type": "execute_result"
    }
   ],
   "source": [
    "len(y)"
   ]
  },
  {
   "cell_type": "code",
   "execution_count": 194,
   "metadata": {},
   "outputs": [
    {
     "name": "stderr",
     "output_type": "stream",
     "text": [
      "D:\\Users\\Marcelo\\Anaconda3\\lib\\site-packages\\sklearn\\model_selection\\_split.py:652: Warning: The least populated class in y has only 1 members, which is too few. The minimum number of members in any class cannot be less than n_splits=2.\n",
      "  % (min_groups, self.n_splits)), Warning)\n",
      "D:\\Users\\Marcelo\\Anaconda3\\lib\\site-packages\\sklearn\\ensemble\\forest.py:246: FutureWarning: The default value of n_estimators will change from 10 in version 0.20 to 100 in 0.22.\n",
      "  \"10 in version 0.20 to 100 in 0.22.\", FutureWarning)\n",
      "D:\\Users\\Marcelo\\Anaconda3\\lib\\site-packages\\sklearn\\model_selection\\_validation.py:528: DataConversionWarning: A column-vector y was passed when a 1d array was expected. Please change the shape of y to (n_samples,), for example using ravel().\n",
      "  estimator.fit(X_train, y_train, **fit_params)\n",
      "D:\\Users\\Marcelo\\Anaconda3\\lib\\site-packages\\sklearn\\ensemble\\forest.py:246: FutureWarning: The default value of n_estimators will change from 10 in version 0.20 to 100 in 0.22.\n",
      "  \"10 in version 0.20 to 100 in 0.22.\", FutureWarning)\n",
      "D:\\Users\\Marcelo\\Anaconda3\\lib\\site-packages\\sklearn\\model_selection\\_validation.py:528: DataConversionWarning: A column-vector y was passed when a 1d array was expected. Please change the shape of y to (n_samples,), for example using ravel().\n",
      "  estimator.fit(X_train, y_train, **fit_params)\n"
     ]
    }
   ],
   "source": [
    "from sklearn.ensemble import RandomForestClassifier\n",
    "\n",
    "clf_rf = RandomForestClassifier()\n",
    "\n",
    "random_forest_cv = cross_val_score(clf_rf, X,y, cv=2)"
   ]
  },
  {
   "cell_type": "code",
   "execution_count": 187,
   "metadata": {},
   "outputs": [
    {
     "data": {
      "text/plain": [
       "array([0.02380952, 0.        ])"
      ]
     },
     "execution_count": 187,
     "metadata": {},
     "output_type": "execute_result"
    }
   ],
   "source": [
    "random_forest_cv"
   ]
  },
  {
   "cell_type": "markdown",
   "metadata": {},
   "source": [
    "# draft"
   ]
  },
  {
   "cell_type": "raw",
   "metadata": {},
   "source": []
  },
  {
   "cell_type": "markdown",
   "metadata": {},
   "source": [
    "# notas\n",
    "lassolarsbic, lassolarsaic, comparar alphas\n",
    "\n",
    "lasso get_params\n",
    "\n",
    "use r2 for goodness of fit\n",
    "\n",
    "scipy signal correlate, para automatizar correlacao com lags em vez de plotar na mao. seria mais interessante se eu pegar 24-36 meses em vez de 1 ano (periodo de comparacao do paper)\n",
    "\n",
    "GLM - generalised linear model"
   ]
  },
  {
   "cell_type": "code",
   "execution_count": null,
   "metadata": {},
   "outputs": [],
   "source": []
  }
 ],
 "metadata": {
  "kernelspec": {
   "display_name": "Python 3",
   "language": "python",
   "name": "python3"
  },
  "language_info": {
   "codemirror_mode": {
    "name": "ipython",
    "version": 3
   },
   "file_extension": ".py",
   "mimetype": "text/x-python",
   "name": "python",
   "nbconvert_exporter": "python",
   "pygments_lexer": "ipython3",
   "version": "3.7.3"
  }
 },
 "nbformat": 4,
 "nbformat_minor": 2
}
