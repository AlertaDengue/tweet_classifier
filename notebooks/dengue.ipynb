{
 "cells": [
  {
   "cell_type": "code",
   "execution_count": 2,
   "metadata": {},
   "outputs": [],
   "source": [
    "import pandas as pd\n",
    "import pickle\n",
    "from collections import Counter\n",
    "import math\n",
    "import nltk\n",
    "import requests\n",
    "import html\n",
    "import datetime\n",
    "from datetime import timedelta, date\n",
    "import string\n",
    "import json\n",
    "import matplotlib.pyplot as plt\n",
    "from sklearn.feature_extraction.text import TfidfVectorizer\n",
    "\n",
    "from sklearn.linear_model import Lasso\n",
    "\n",
    "%matplotlib inline"
   ]
  },
  {
   "cell_type": "code",
   "execution_count": 2,
   "metadata": {},
   "outputs": [],
   "source": [
    "data = pd.read_csv(\"../../dados/resultado.csv\", header = None) "
   ]
  },
  {
   "cell_type": "markdown",
   "metadata": {},
   "source": [
    "* Data da mensagem\n",
    "* Usuário que postou a mensagem\n",
    "* Texto da mensagem\n",
    "* Pontuação para  classe=paródia\n",
    "* Pontuação para  classe=opinião\n",
    "* Pontuação para  classe=campanha\n",
    "* Pontuação para  classe=experiência pessoal\n",
    "* Pontuação para  classe=informação\n",
    "* Resultado (qual a classe foi escolhida pela maior pontuação)\n",
    "* Informação (JSON) sobre a localização"
   ]
  },
  {
   "cell_type": "code",
   "execution_count": 3,
   "metadata": {},
   "outputs": [],
   "source": [
    "data.columns = [\"date\", \"user\", \"message\", \"0\", \"1\", \"2\", \"3\", \"4\", \"class\", \"location\"]"
   ]
  },
  {
   "cell_type": "code",
   "execution_count": 4,
   "metadata": {},
   "outputs": [],
   "source": [
    "data['date'] = pd.to_datetime(data['date'])"
   ]
  },
  {
   "cell_type": "code",
   "execution_count": 5,
   "metadata": {},
   "outputs": [
    {
     "data": {
      "text/plain": [
       "date        datetime64[ns]\n",
       "user                object\n",
       "message             object\n",
       "0                  float64\n",
       "1                  float64\n",
       "2                  float64\n",
       "3                  float64\n",
       "4                  float64\n",
       "class                int64\n",
       "location            object\n",
       "dtype: object"
      ]
     },
     "execution_count": 5,
     "metadata": {},
     "output_type": "execute_result"
    }
   ],
   "source": [
    "data.dtypes"
   ]
  },
  {
   "cell_type": "code",
   "execution_count": 6,
   "metadata": {},
   "outputs": [],
   "source": [
    "data = data[data['date'] < '2011-09-30 23:59:59']"
   ]
  },
  {
   "cell_type": "markdown",
   "metadata": {},
   "source": [
    "# save pickle of filtered data"
   ]
  },
  {
   "cell_type": "raw",
   "metadata": {},
   "source": [
    "with open('../../resultado.pkl', 'wb') as f:\n",
    "    pickle.dump(data, f)"
   ]
  },
  {
   "cell_type": "markdown",
   "metadata": {},
   "source": [
    "# load pickle"
   ]
  },
  {
   "cell_type": "code",
   "execution_count": 314,
   "metadata": {},
   "outputs": [],
   "source": [
    "with open('D:/Dropbox/A-Marcelo/education-work/2019-ufmg/resultado.pkl', 'rb') as f:\n",
    "    data = pickle.load(f)"
   ]
  },
  {
   "cell_type": "raw",
   "metadata": {},
   "source": [
    "data_filtered = data2[['message_nostopwords', 'se']]"
   ]
  },
  {
   "cell_type": "code",
   "execution_count": 315,
   "metadata": {},
   "outputs": [],
   "source": [
    "data = data[data['date'] < '2011-09-30 23:59:59']"
   ]
  },
  {
   "cell_type": "code",
   "execution_count": 316,
   "metadata": {},
   "outputs": [],
   "source": [
    "data['date'] = data['date'].dt.strftime(\"%Y-%m-%d\")"
   ]
  },
  {
   "cell_type": "code",
   "execution_count": 317,
   "metadata": {},
   "outputs": [],
   "source": [
    "data['date'] = pd.to_datetime(data['date'])"
   ]
  },
  {
   "cell_type": "code",
   "execution_count": 318,
   "metadata": {},
   "outputs": [
    {
     "data": {
      "text/html": [
       "<div>\n",
       "<style scoped>\n",
       "    .dataframe tbody tr th:only-of-type {\n",
       "        vertical-align: middle;\n",
       "    }\n",
       "\n",
       "    .dataframe tbody tr th {\n",
       "        vertical-align: top;\n",
       "    }\n",
       "\n",
       "    .dataframe thead th {\n",
       "        text-align: right;\n",
       "    }\n",
       "</style>\n",
       "<table border=\"1\" class=\"dataframe\">\n",
       "  <thead>\n",
       "    <tr style=\"text-align: right;\">\n",
       "      <th></th>\n",
       "      <th>date</th>\n",
       "      <th>user</th>\n",
       "      <th>message</th>\n",
       "      <th>0</th>\n",
       "      <th>1</th>\n",
       "      <th>2</th>\n",
       "      <th>3</th>\n",
       "      <th>4</th>\n",
       "      <th>class</th>\n",
       "      <th>location</th>\n",
       "    </tr>\n",
       "  </thead>\n",
       "  <tbody>\n",
       "    <tr>\n",
       "      <th>738140</th>\n",
       "      <td>2011-09-12</td>\n",
       "      <td>claricereis91</td>\n",
       "      <td>@berntfinal Dengue num dá dor na garganta, vc ...</td>\n",
       "      <td>0.147137</td>\n",
       "      <td>0.066065</td>\n",
       "      <td>0.069753</td>\n",
       "      <td>0.544475</td>\n",
       "      <td>0.172570</td>\n",
       "      <td>0</td>\n",
       "      <td>{u'd': 1460387911967, u'v': 1}</td>\n",
       "    </tr>\n",
       "    <tr>\n",
       "      <th>738141</th>\n",
       "      <td>2011-09-12</td>\n",
       "      <td>guinisinmypants</td>\n",
       "      <td>@DearDany Todos os sintomas de dengue.. Até do...</td>\n",
       "      <td>0.130242</td>\n",
       "      <td>0.059683</td>\n",
       "      <td>0.119528</td>\n",
       "      <td>0.488431</td>\n",
       "      <td>0.202117</td>\n",
       "      <td>0</td>\n",
       "      <td>{u'd': 1460387911968, u'v': 1}</td>\n",
       "    </tr>\n",
       "    <tr>\n",
       "      <th>738142</th>\n",
       "      <td>2011-09-12</td>\n",
       "      <td>eu_plfl</td>\n",
       "      <td>a @pqjade_  tem problemas e dengue no #cerebro</td>\n",
       "      <td>0.295350</td>\n",
       "      <td>0.144311</td>\n",
       "      <td>0.110989</td>\n",
       "      <td>0.201095</td>\n",
       "      <td>0.248256</td>\n",
       "      <td>1</td>\n",
       "      <td>{u'city': u'Sao Jose dos Pinhais', u'country':...</td>\n",
       "    </tr>\n",
       "    <tr>\n",
       "      <th>738143</th>\n",
       "      <td>2011-09-12</td>\n",
       "      <td>Pathy_Aleixo</td>\n",
       "      <td>@ronaldoarreios Tô com dengue.... Meu corpo da...</td>\n",
       "      <td>0.084619</td>\n",
       "      <td>0.036423</td>\n",
       "      <td>0.048278</td>\n",
       "      <td>0.739830</td>\n",
       "      <td>0.090849</td>\n",
       "      <td>0</td>\n",
       "      <td>{u'd': 1460387912416, u'v': 1}</td>\n",
       "    </tr>\n",
       "    <tr>\n",
       "      <th>738144</th>\n",
       "      <td>2011-09-12</td>\n",
       "      <td>_rachelmarques</td>\n",
       "      <td>Minha ta mais parada do que foco de mosquito d...</td>\n",
       "      <td>0.500673</td>\n",
       "      <td>0.088380</td>\n",
       "      <td>0.053413</td>\n",
       "      <td>0.200705</td>\n",
       "      <td>0.156830</td>\n",
       "      <td>1</td>\n",
       "      <td>{u'city': u'Rio de Janeiro', u'country': u'Bra...</td>\n",
       "    </tr>\n",
       "  </tbody>\n",
       "</table>\n",
       "</div>"
      ],
      "text/plain": [
       "             date             user  \\\n",
       "738140 2011-09-12    claricereis91   \n",
       "738141 2011-09-12  guinisinmypants   \n",
       "738142 2011-09-12          eu_plfl   \n",
       "738143 2011-09-12     Pathy_Aleixo   \n",
       "738144 2011-09-12   _rachelmarques   \n",
       "\n",
       "                                                  message         0         1  \\\n",
       "738140  @berntfinal Dengue num dá dor na garganta, vc ...  0.147137  0.066065   \n",
       "738141  @DearDany Todos os sintomas de dengue.. Até do...  0.130242  0.059683   \n",
       "738142     a @pqjade_  tem problemas e dengue no #cerebro  0.295350  0.144311   \n",
       "738143  @ronaldoarreios Tô com dengue.... Meu corpo da...  0.084619  0.036423   \n",
       "738144  Minha ta mais parada do que foco de mosquito d...  0.500673  0.088380   \n",
       "\n",
       "               2         3         4  class  \\\n",
       "738140  0.069753  0.544475  0.172570      0   \n",
       "738141  0.119528  0.488431  0.202117      0   \n",
       "738142  0.110989  0.201095  0.248256      1   \n",
       "738143  0.048278  0.739830  0.090849      0   \n",
       "738144  0.053413  0.200705  0.156830      1   \n",
       "\n",
       "                                                 location  \n",
       "738140                     {u'd': 1460387911967, u'v': 1}  \n",
       "738141                     {u'd': 1460387911968, u'v': 1}  \n",
       "738142  {u'city': u'Sao Jose dos Pinhais', u'country':...  \n",
       "738143                     {u'd': 1460387912416, u'v': 1}  \n",
       "738144  {u'city': u'Rio de Janeiro', u'country': u'Bra...  "
      ]
     },
     "execution_count": 318,
     "metadata": {},
     "output_type": "execute_result"
    }
   ],
   "source": [
    "data.tail()"
   ]
  },
  {
   "cell_type": "code",
   "execution_count": 319,
   "metadata": {},
   "outputs": [
    {
     "data": {
      "text/plain": [
       "(603588, 10)"
      ]
     },
     "execution_count": 319,
     "metadata": {},
     "output_type": "execute_result"
    }
   ],
   "source": [
    "data.shape"
   ]
  },
  {
   "cell_type": "markdown",
   "metadata": {},
   "source": [
    "### stopwords"
   ]
  },
  {
   "cell_type": "code",
   "execution_count": 320,
   "metadata": {},
   "outputs": [],
   "source": [
    "stopwords = nltk.corpus.stopwords.words('portuguese')\n",
    "stopwords = list(set(stopwords))"
   ]
  },
  {
   "cell_type": "code",
   "execution_count": 321,
   "metadata": {},
   "outputs": [],
   "source": [
    "try: stopwords.remove('não')\n",
    "except: pass"
   ]
  },
  {
   "cell_type": "code",
   "execution_count": 322,
   "metadata": {},
   "outputs": [],
   "source": [
    "#algumas pontuaçoes podem ser irrelevantes\n",
    "some_punctuation = '-.,'"
   ]
  },
  {
   "cell_type": "code",
   "execution_count": 323,
   "metadata": {},
   "outputs": [],
   "source": [
    "def remove_stopwords(text):\n",
    "    new_text = \"\"\n",
    "    for word in text.lower().split():\n",
    "        if word not in stopwords and len(word)>1:\n",
    "            word = word.strip(some_punctuation)\n",
    "            new_text = new_text + ' ' + word\n",
    "    return new_text"
   ]
  },
  {
   "cell_type": "markdown",
   "metadata": {},
   "source": [
    "new column: text without stopwords"
   ]
  },
  {
   "cell_type": "code",
   "execution_count": 324,
   "metadata": {},
   "outputs": [],
   "source": [
    "data['message_nostopwords'] = data['message'].apply(remove_stopwords)"
   ]
  },
  {
   "cell_type": "markdown",
   "metadata": {},
   "source": [
    "### build epidemiologic weeks\n",
    "* Week one of every year is the first week with 4 days or more.\n",
    "* Timestamp of the study comprises: 21/11/2010-30/09/2011"
   ]
  },
  {
   "cell_type": "code",
   "execution_count": 325,
   "metadata": {},
   "outputs": [],
   "source": [
    "def daterange(date1, date2):\n",
    "    for n in range(int ((date2 - date1).days)+1):\n",
    "        yield date1 + timedelta(n)\n",
    "\n",
    "start_dt = date(2010, 1, 1)\n",
    "end_dt = date(2011, 10, 30)\n",
    "dates = []\n",
    "for dt in daterange(start_dt, end_dt):\n",
    "    dates.append(dt.strftime(\"%Y-%m-%d\"))"
   ]
  },
  {
   "cell_type": "code",
   "execution_count": 326,
   "metadata": {},
   "outputs": [],
   "source": [
    "dates_2010 = dates[:365]\n",
    "dates_2011 = dates[365:]"
   ]
  },
  {
   "cell_type": "code",
   "execution_count": 327,
   "metadata": {},
   "outputs": [],
   "source": [
    "ep_week_lst = []\n",
    "count = 0\n",
    "epidemic_week = 1\n",
    "ep_week_lst.extend([201000]*2)\n",
    "for d in dates_2010[2:]:\n",
    "    if count == 7:\n",
    "        epidemic_week += 1\n",
    "        count = 0\n",
    "    count += 1\n",
    "    str_week = str(epidemic_week)\n",
    "    if len(str_week) == 1: str_week = '0'+str_week\n",
    "    year_week = '2010'+str_week\n",
    "    ep_week_lst.append(year_week)\n",
    "    \n",
    "count = 0\n",
    "epidemic_week = 1\n",
    "ep_week_lst.append(201100)\n",
    "for d in dates_2011[1:]:\n",
    "    if count == 7:\n",
    "        epidemic_week += 1\n",
    "        count = 0\n",
    "    count += 1\n",
    "    str_week = str(epidemic_week)\n",
    "    if len(str_week) == 1: str_week = '0'+str_week\n",
    "    year_week = '2011'+str_week\n",
    "    ep_week_lst.append(year_week)"
   ]
  },
  {
   "cell_type": "raw",
   "metadata": {},
   "source": [
    "#research on 2010 comprises only the 41 last days\n",
    "days_2010 = 365-41 \n",
    "ep_week_lst = ep_week_lst[days_2010:]"
   ]
  },
  {
   "cell_type": "code",
   "execution_count": 328,
   "metadata": {},
   "outputs": [
    {
     "data": {
      "text/plain": [
       "'2008-12-21'"
      ]
     },
     "execution_count": 328,
     "metadata": {},
     "output_type": "execute_result"
    }
   ],
   "source": [
    "datetime.datetime.strptime(\"21/12/2008 20:04:44\", \"%d/%m/%Y %H:%M:%S\").strftime(\"%Y-%m-%d\")"
   ]
  },
  {
   "cell_type": "code",
   "execution_count": 329,
   "metadata": {},
   "outputs": [
    {
     "data": {
      "text/plain": [
       "date                   datetime64[ns]\n",
       "user                           object\n",
       "message                        object\n",
       "0                             float64\n",
       "1                             float64\n",
       "2                             float64\n",
       "3                             float64\n",
       "4                             float64\n",
       "class                           int64\n",
       "location                       object\n",
       "message_nostopwords            object\n",
       "dtype: object"
      ]
     },
     "execution_count": 329,
     "metadata": {},
     "output_type": "execute_result"
    }
   ],
   "source": [
    "data.dtypes"
   ]
  },
  {
   "cell_type": "code",
   "execution_count": 330,
   "metadata": {},
   "outputs": [],
   "source": [
    "def date_to_epweek(row):\n",
    "    #print(type(row))\n",
    "    #print(row)\n",
    "    row = row.strftime(\"%Y-%m-%d\")\n",
    "    date_index = dates.index(row)\n",
    "    year_week = ep_week_lst[date_index]\n",
    "    return year_week\n",
    "data['se'] = data['date'].apply(date_to_epweek) #se = epidemiologic week"
   ]
  },
  {
   "cell_type": "code",
   "execution_count": 331,
   "metadata": {
    "scrolled": true
   },
   "outputs": [
    {
     "data": {
      "text/html": [
       "<div>\n",
       "<style scoped>\n",
       "    .dataframe tbody tr th:only-of-type {\n",
       "        vertical-align: middle;\n",
       "    }\n",
       "\n",
       "    .dataframe tbody tr th {\n",
       "        vertical-align: top;\n",
       "    }\n",
       "\n",
       "    .dataframe thead th {\n",
       "        text-align: right;\n",
       "    }\n",
       "</style>\n",
       "<table border=\"1\" class=\"dataframe\">\n",
       "  <thead>\n",
       "    <tr style=\"text-align: right;\">\n",
       "      <th></th>\n",
       "      <th>date</th>\n",
       "      <th>user</th>\n",
       "      <th>message</th>\n",
       "      <th>0</th>\n",
       "      <th>1</th>\n",
       "      <th>2</th>\n",
       "      <th>3</th>\n",
       "      <th>4</th>\n",
       "      <th>class</th>\n",
       "      <th>location</th>\n",
       "      <th>message_nostopwords</th>\n",
       "      <th>se</th>\n",
       "    </tr>\n",
       "  </thead>\n",
       "  <tbody>\n",
       "    <tr>\n",
       "      <th>0</th>\n",
       "      <td>2010-11-19</td>\n",
       "      <td>PauloAfBahia</td>\n",
       "      <td>A dengue mata mas com simples gestos de preven...</td>\n",
       "      <td>0.138010</td>\n",
       "      <td>0.101521</td>\n",
       "      <td>0.254248</td>\n",
       "      <td>0.085880</td>\n",
       "      <td>0.420341</td>\n",
       "      <td>3</td>\n",
       "      <td>{u'd': 1443198862750, u'v': 1}</td>\n",
       "      <td>dengue mata simples gestos prevenção podemos ...</td>\n",
       "      <td>201046</td>\n",
       "    </tr>\n",
       "    <tr>\n",
       "      <th>1</th>\n",
       "      <td>2010-11-19</td>\n",
       "      <td>PortalOuroNegro</td>\n",
       "      <td>Mutirão contra a Dengue começou nesta sexta em...</td>\n",
       "      <td>0.105452</td>\n",
       "      <td>0.056434</td>\n",
       "      <td>0.248333</td>\n",
       "      <td>0.188912</td>\n",
       "      <td>0.400869</td>\n",
       "      <td>3</td>\n",
       "      <td>{u'city': u'Linhares', u'country': u'Brasil', ...</td>\n",
       "      <td>mutirão contra dengue começou nesta sexta lin...</td>\n",
       "      <td>201046</td>\n",
       "    </tr>\n",
       "    <tr>\n",
       "      <th>2</th>\n",
       "      <td>2010-11-19</td>\n",
       "      <td>Kustelaas</td>\n",
       "      <td>@depChicoAlencar amannhã alem do dia da consiê...</td>\n",
       "      <td>0.054194</td>\n",
       "      <td>0.084122</td>\n",
       "      <td>0.213530</td>\n",
       "      <td>0.146927</td>\n",
       "      <td>0.501226</td>\n",
       "      <td>3</td>\n",
       "      <td>{u'country': u'Brasil', u'state': u'MT', u'typ...</td>\n",
       "      <td>@depchicoalencar amannhã alem dia consiência ...</td>\n",
       "      <td>201046</td>\n",
       "    </tr>\n",
       "    <tr>\n",
       "      <th>3</th>\n",
       "      <td>2010-11-19</td>\n",
       "      <td>Raul_Jungmann</td>\n",
       "      <td>Pernambuco tem risco de sofrer epidemia de den...</td>\n",
       "      <td>0.080289</td>\n",
       "      <td>0.106928</td>\n",
       "      <td>0.054929</td>\n",
       "      <td>0.141276</td>\n",
       "      <td>0.616577</td>\n",
       "      <td>3</td>\n",
       "      <td>{u'city': u'Recife', u'country': u'Brasil', u'...</td>\n",
       "      <td>pernambuco risco sofrer epidemia dengue http:...</td>\n",
       "      <td>201046</td>\n",
       "    </tr>\n",
       "    <tr>\n",
       "      <th>4</th>\n",
       "      <td>2010-11-19</td>\n",
       "      <td>laana_mello</td>\n",
       "      <td>Rpz...acho q a Caueira tah com surto de dengue...</td>\n",
       "      <td>0.112013</td>\n",
       "      <td>0.143425</td>\n",
       "      <td>0.094947</td>\n",
       "      <td>0.429626</td>\n",
       "      <td>0.219990</td>\n",
       "      <td>0</td>\n",
       "      <td>{u'country': u'Brasil', u'state': u'MT', u'typ...</td>\n",
       "      <td>rpz...acho caueira tah surto dengue soh pode....</td>\n",
       "      <td>201046</td>\n",
       "    </tr>\n",
       "  </tbody>\n",
       "</table>\n",
       "</div>"
      ],
      "text/plain": [
       "        date             user  \\\n",
       "0 2010-11-19     PauloAfBahia   \n",
       "1 2010-11-19  PortalOuroNegro   \n",
       "2 2010-11-19        Kustelaas   \n",
       "3 2010-11-19    Raul_Jungmann   \n",
       "4 2010-11-19      laana_mello   \n",
       "\n",
       "                                             message         0         1  \\\n",
       "0  A dengue mata mas com simples gestos de preven...  0.138010  0.101521   \n",
       "1  Mutirão contra a Dengue começou nesta sexta em...  0.105452  0.056434   \n",
       "2  @depChicoAlencar amannhã alem do dia da consiê...  0.054194  0.084122   \n",
       "3  Pernambuco tem risco de sofrer epidemia de den...  0.080289  0.106928   \n",
       "4  Rpz...acho q a Caueira tah com surto de dengue...  0.112013  0.143425   \n",
       "\n",
       "          2         3         4  class  \\\n",
       "0  0.254248  0.085880  0.420341      3   \n",
       "1  0.248333  0.188912  0.400869      3   \n",
       "2  0.213530  0.146927  0.501226      3   \n",
       "3  0.054929  0.141276  0.616577      3   \n",
       "4  0.094947  0.429626  0.219990      0   \n",
       "\n",
       "                                            location  \\\n",
       "0                     {u'd': 1443198862750, u'v': 1}   \n",
       "1  {u'city': u'Linhares', u'country': u'Brasil', ...   \n",
       "2  {u'country': u'Brasil', u'state': u'MT', u'typ...   \n",
       "3  {u'city': u'Recife', u'country': u'Brasil', u'...   \n",
       "4  {u'country': u'Brasil', u'state': u'MT', u'typ...   \n",
       "\n",
       "                                 message_nostopwords      se  \n",
       "0   dengue mata simples gestos prevenção podemos ...  201046  \n",
       "1   mutirão contra dengue começou nesta sexta lin...  201046  \n",
       "2   @depchicoalencar amannhã alem dia consiência ...  201046  \n",
       "3   pernambuco risco sofrer epidemia dengue http:...  201046  \n",
       "4   rpz...acho caueira tah surto dengue soh pode....  201046  "
      ]
     },
     "execution_count": 331,
     "metadata": {},
     "output_type": "execute_result"
    }
   ],
   "source": [
    "data.head()"
   ]
  },
  {
   "cell_type": "markdown",
   "metadata": {},
   "source": [
    "###### Infodengue\n",
    "The research comprises 12 cities:\n",
    "* Belém, Belo Horizonte, Brasília,Fortaleza, Manaus, Natal, Rio Branco, Rio de Janeiro, São Paulo, Londrina, Niterói, Ribeirão Preto.\n",
    "* Source of geocodes: https://ww2.ibge.gov.br/home/geociencias/geografia/redes_fluxos/gestao_do_territorio_2014/base.shtm\n",
    "* File of the geocodes: Base_de_dados_dos_municipios.xls"
   ]
  },
  {
   "cell_type": "markdown",
   "metadata": {},
   "source": [
    "### geocodes"
   ]
  },
  {
   "cell_type": "code",
   "execution_count": 180,
   "metadata": {},
   "outputs": [],
   "source": [
    "geocodes_BR = pd.read_excel (r'..\\inputs\\Base_de_dados_dos_municipios.xls')\n",
    "geocodes_BR = geocodes_BR[['UF', 'Codmundv', 'NomeMunic']]"
   ]
  },
  {
   "cell_type": "markdown",
   "metadata": {},
   "source": [
    "### infodengue - Rio de Janeiro"
   ]
  },
  {
   "cell_type": "code",
   "execution_count": 40,
   "metadata": {},
   "outputs": [
    {
     "name": "stdout",
     "output_type": "stream",
     "text": [
      "Success!\n"
     ]
    }
   ],
   "source": [
    "municipality= 'Rio de Janeiro'.upper()\n",
    "geocode_row = geocodes_BR.loc[geocodes_BR['NomeMunic'] == municipality]\n",
    "geocode = list(geocode_row.iloc[:,1])[0]\n",
    "url = 'https://info.dengue.mat.br/api/alertcity/?geocode=3304557&disease=dengue&format=csv&ew_start=47&ey_start=2010&ew_end=39&ey_end=2011'\n",
    "r = requests.get(url)\n",
    "if r:\n",
    "    print('Success!')\n",
    "else:\n",
    "    print('An error has occurred.')"
   ]
  },
  {
   "cell_type": "code",
   "execution_count": 41,
   "metadata": {},
   "outputs": [
    {
     "data": {
      "text/plain": [
       "{'Server': 'nginx/1.4.6 (Ubuntu)', 'Date': 'Mon, 15 Apr 2019 18:53:19 GMT', 'Content-Type': 'text/plain', 'Content-Length': '11553', 'Connection': 'keep-alive', 'X-Frame-Options': 'SAMEORIGIN', 'Vary': 'Accept-Language, Cookie, Accept-Encoding', 'Content-Language': 'pt-br', 'Content-Encoding': 'gzip'}"
      ]
     },
     "execution_count": 41,
     "metadata": {},
     "output_type": "execute_result"
    }
   ],
   "source": [
    "r.headers"
   ]
  },
  {
   "cell_type": "code",
   "execution_count": 42,
   "metadata": {},
   "outputs": [],
   "source": [
    "r = r.text.split('\\n')"
   ]
  },
  {
   "cell_type": "code",
   "execution_count": 43,
   "metadata": {},
   "outputs": [],
   "source": [
    "count = 0\n",
    "for row in r:\n",
    "    split_row = row.split(',')\n",
    "    r[count] = split_row\n",
    "    count += 1\n",
    "headers = r.pop(0)"
   ]
  },
  {
   "cell_type": "code",
   "execution_count": 352,
   "metadata": {},
   "outputs": [
    {
     "data": {
      "text/html": [
       "<div>\n",
       "<style scoped>\n",
       "    .dataframe tbody tr th:only-of-type {\n",
       "        vertical-align: middle;\n",
       "    }\n",
       "\n",
       "    .dataframe tbody tr th {\n",
       "        vertical-align: top;\n",
       "    }\n",
       "\n",
       "    .dataframe thead th {\n",
       "        text-align: right;\n",
       "    }\n",
       "</style>\n",
       "<table border=\"1\" class=\"dataframe\">\n",
       "  <thead>\n",
       "    <tr style=\"text-align: right;\">\n",
       "      <th></th>\n",
       "      <th>se</th>\n",
       "      <th>data</th>\n",
       "      <th>tweets</th>\n",
       "      <th>casos</th>\n",
       "    </tr>\n",
       "  </thead>\n",
       "  <tbody>\n",
       "    <tr>\n",
       "      <th>0</th>\n",
       "      <td>201135</td>\n",
       "      <td>2011-08-28</td>\n",
       "      <td></td>\n",
       "      <td>12</td>\n",
       "    </tr>\n",
       "    <tr>\n",
       "      <th>1</th>\n",
       "      <td>201112</td>\n",
       "      <td>2011-03-20</td>\n",
       "      <td></td>\n",
       "      <td>530</td>\n",
       "    </tr>\n",
       "    <tr>\n",
       "      <th>2</th>\n",
       "      <td>201104</td>\n",
       "      <td>2011-01-23</td>\n",
       "      <td></td>\n",
       "      <td>56</td>\n",
       "    </tr>\n",
       "    <tr>\n",
       "      <th>3</th>\n",
       "      <td>201123</td>\n",
       "      <td>2011-06-05</td>\n",
       "      <td></td>\n",
       "      <td>29</td>\n",
       "    </tr>\n",
       "    <tr>\n",
       "      <th>4</th>\n",
       "      <td>201049</td>\n",
       "      <td>2010-12-05</td>\n",
       "      <td></td>\n",
       "      <td>6</td>\n",
       "    </tr>\n",
       "  </tbody>\n",
       "</table>\n",
       "</div>"
      ],
      "text/plain": [
       "       se        data tweets casos\n",
       "0  201135  2011-08-28           12\n",
       "1  201112  2011-03-20          530\n",
       "2  201104  2011-01-23           56\n",
       "3  201123  2011-06-05           29\n",
       "4  201049  2010-12-05            6"
      ]
     },
     "execution_count": 352,
     "metadata": {},
     "output_type": "execute_result"
    }
   ],
   "source": [
    "infodengue = pd.DataFrame(r, columns=headers)\n",
    "infodengue = infodengue.iloc[:,2:6]\n",
    "infodengue.head()"
   ]
  },
  {
   "cell_type": "code",
   "execution_count": 353,
   "metadata": {},
   "outputs": [
    {
     "data": {
      "text/plain": [
       "(451, 4)"
      ]
     },
     "execution_count": 353,
     "metadata": {},
     "output_type": "execute_result"
    }
   ],
   "source": [
    "infodengue.shape"
   ]
  },
  {
   "cell_type": "code",
   "execution_count": 354,
   "metadata": {},
   "outputs": [],
   "source": [
    "infodengue['casos'] = infodengue['casos'].fillna(0).astype(int)"
   ]
  },
  {
   "cell_type": "code",
   "execution_count": 366,
   "metadata": {},
   "outputs": [],
   "source": [
    "infodengue = infodengue.groupby(['se']).sum()"
   ]
  },
  {
   "cell_type": "code",
   "execution_count": 368,
   "metadata": {},
   "outputs": [
    {
     "data": {
      "text/html": [
       "<div>\n",
       "<style scoped>\n",
       "    .dataframe tbody tr th:only-of-type {\n",
       "        vertical-align: middle;\n",
       "    }\n",
       "\n",
       "    .dataframe tbody tr th {\n",
       "        vertical-align: top;\n",
       "    }\n",
       "\n",
       "    .dataframe thead th {\n",
       "        text-align: right;\n",
       "    }\n",
       "</style>\n",
       "<table border=\"1\" class=\"dataframe\">\n",
       "  <thead>\n",
       "    <tr style=\"text-align: right;\">\n",
       "      <th></th>\n",
       "      <th>casos</th>\n",
       "    </tr>\n",
       "    <tr>\n",
       "      <th>se</th>\n",
       "      <th></th>\n",
       "    </tr>\n",
       "  </thead>\n",
       "  <tbody>\n",
       "    <tr>\n",
       "      <th>201047</th>\n",
       "      <td>74</td>\n",
       "    </tr>\n",
       "    <tr>\n",
       "      <th>201048</th>\n",
       "      <td>93</td>\n",
       "    </tr>\n",
       "    <tr>\n",
       "      <th>201049</th>\n",
       "      <td>149</td>\n",
       "    </tr>\n",
       "    <tr>\n",
       "      <th>201050</th>\n",
       "      <td>195</td>\n",
       "    </tr>\n",
       "    <tr>\n",
       "      <th>201051</th>\n",
       "      <td>155</td>\n",
       "    </tr>\n",
       "  </tbody>\n",
       "</table>\n",
       "</div>"
      ],
      "text/plain": [
       "        casos\n",
       "se           \n",
       "201047     74\n",
       "201048     93\n",
       "201049    149\n",
       "201050    195\n",
       "201051    155"
      ]
     },
     "execution_count": 368,
     "metadata": {},
     "output_type": "execute_result"
    }
   ],
   "source": [
    "infodengue.head()"
   ]
  },
  {
   "cell_type": "markdown",
   "metadata": {},
   "source": [
    "### check epidemiologic week consistency"
   ]
  },
  {
   "cell_type": "code",
   "execution_count": 356,
   "metadata": {},
   "outputs": [],
   "source": [
    "df_week_pairs = list(zip(list(infodengue['se']), list(infodengue['data'])))\n",
    "const_week_pairs = list(zip(ep_week_lst, dates))"
   ]
  },
  {
   "cell_type": "code",
   "execution_count": 357,
   "metadata": {},
   "outputs": [
    {
     "name": "stdout",
     "output_type": "stream",
     "text": [
      "Weeks were correctly built\n"
     ]
    }
   ],
   "source": [
    "consistent = True\n",
    "for i in df_week_pairs: \n",
    "    if i not in const_week_pairs and i != (None, None):\n",
    "        consistent = False\n",
    "        print('Please, check the epidemic weeks construction again')\n",
    "        break\n",
    "if consistent: print('Weeks were correctly built')"
   ]
  },
  {
   "cell_type": "raw",
   "metadata": {},
   "source": [
    "if any(df_week_pairs) in const_week_pairs:\n",
    "    print('epidemic weeks are properly constructed')\n",
    "#else:\n",
    "#    print('Please, check the epidemic weeks construction again')"
   ]
  },
  {
   "cell_type": "markdown",
   "metadata": {},
   "source": [
    "### group tweet data by week, and filter irrelevant columns"
   ]
  },
  {
   "cell_type": "code",
   "execution_count": 332,
   "metadata": {},
   "outputs": [],
   "source": [
    "data = data[['message_nostopwords', 'se']]"
   ]
  },
  {
   "cell_type": "code",
   "execution_count": 333,
   "metadata": {},
   "outputs": [],
   "source": [
    "data = data.groupby(['se'])['message_nostopwords'].apply(lambda x: ' '.join(x))"
   ]
  },
  {
   "cell_type": "code",
   "execution_count": 334,
   "metadata": {},
   "outputs": [],
   "source": [
    "data = pd.DataFrame(data)"
   ]
  },
  {
   "cell_type": "code",
   "execution_count": 335,
   "metadata": {},
   "outputs": [],
   "source": [
    "data_bak = data.copy()"
   ]
  },
  {
   "cell_type": "code",
   "execution_count": 337,
   "metadata": {},
   "outputs": [
    {
     "data": {
      "text/html": [
       "<div>\n",
       "<style scoped>\n",
       "    .dataframe tbody tr th:only-of-type {\n",
       "        vertical-align: middle;\n",
       "    }\n",
       "\n",
       "    .dataframe tbody tr th {\n",
       "        vertical-align: top;\n",
       "    }\n",
       "\n",
       "    .dataframe thead th {\n",
       "        text-align: right;\n",
       "    }\n",
       "</style>\n",
       "<table border=\"1\" class=\"dataframe\">\n",
       "  <thead>\n",
       "    <tr style=\"text-align: right;\">\n",
       "      <th></th>\n",
       "      <th>message_nostopwords</th>\n",
       "    </tr>\n",
       "    <tr>\n",
       "      <th>se</th>\n",
       "      <th></th>\n",
       "    </tr>\n",
       "  </thead>\n",
       "  <tbody>\n",
       "    <tr>\n",
       "      <th>201002</th>\n",
       "      <td>aqui casa repelente estocado deus livre pegar...</td>\n",
       "    </tr>\n",
       "    <tr>\n",
       "      <th>201006</th>\n",
       "      <td>rt @souintelijente: urgente alerta informar m...</td>\n",
       "    </tr>\n",
       "    <tr>\n",
       "      <th>201010</th>\n",
       "      <td>lol rt @dropsbh: @aakkari praga perto dengue ...</td>\n",
       "    </tr>\n",
       "    <tr>\n",
       "      <th>201015</th>\n",
       "      <td>@gehalls xiii dengue!  @felipeazevedo10 to de...</td>\n",
       "    </tr>\n",
       "    <tr>\n",
       "      <th>201019</th>\n",
       "      <td>campanha combate dengue \"tropa\" trocou branco...</td>\n",
       "    </tr>\n",
       "  </tbody>\n",
       "</table>\n",
       "</div>"
      ],
      "text/plain": [
       "                                      message_nostopwords\n",
       "se                                                       \n",
       "201002   aqui casa repelente estocado deus livre pegar...\n",
       "201006   rt @souintelijente: urgente alerta informar m...\n",
       "201010   lol rt @dropsbh: @aakkari praga perto dengue ...\n",
       "201015   @gehalls xiii dengue!  @felipeazevedo10 to de...\n",
       "201019   campanha combate dengue \"tropa\" trocou branco..."
      ]
     },
     "execution_count": 337,
     "metadata": {},
     "output_type": "execute_result"
    }
   ],
   "source": [
    "data_bak.head()"
   ]
  },
  {
   "cell_type": "code",
   "execution_count": 311,
   "metadata": {},
   "outputs": [],
   "source": [
    "data = data_bak"
   ]
  },
  {
   "cell_type": "markdown",
   "metadata": {},
   "source": [
    "### TF-IDF"
   ]
  },
  {
   "cell_type": "markdown",
   "metadata": {},
   "source": [
    "* https://www.kdnuggets.com/2018/08/wtf-tf-idf.html\n",
    "* using elastic search: https://stackoverflow.com/questions/42220764/elasticsearch-getting-the-tf-idf-of-every-term-in-a-given-document"
   ]
  },
  {
   "cell_type": "markdown",
   "metadata": {},
   "source": [
    "limitar por frequencia relativa\n",
    "\n",
    "tf/total de palavras"
   ]
  },
  {
   "cell_type": "code",
   "execution_count": 338,
   "metadata": {},
   "outputs": [],
   "source": [
    "tfidf = TfidfVectorizer(\n",
    "    analyzer='word')  "
   ]
  },
  {
   "cell_type": "code",
   "execution_count": 339,
   "metadata": {},
   "outputs": [
    {
     "data": {
      "text/plain": [
       "TfidfVectorizer(analyzer='word', binary=False, decode_error='strict',\n",
       "        dtype=<class 'numpy.float64'>, encoding='utf-8', input='content',\n",
       "        lowercase=True, max_df=1.0, max_features=None, min_df=1,\n",
       "        ngram_range=(1, 1), norm='l2', preprocessor=None, smooth_idf=True,\n",
       "        stop_words=None, strip_accents=None, sublinear_tf=False,\n",
       "        token_pattern='(?u)\\\\b\\\\w\\\\w+\\\\b', tokenizer=None, use_idf=True,\n",
       "        vocabulary=None)"
      ]
     },
     "execution_count": 339,
     "metadata": {},
     "output_type": "execute_result"
    }
   ],
   "source": [
    "tfidf.fit(data['message_nostopwords'])"
   ]
  },
  {
   "cell_type": "code",
   "execution_count": 340,
   "metadata": {},
   "outputs": [],
   "source": [
    "idf_counter = Counter()\n",
    "for text in data['message_nostopwords']:\n",
    "    words = set(text.lower().split())\n",
    "    idf_counter.update(words)\n",
    "    \n",
    "idf = {\n",
    "  word: math.log(len(data)/df, 2)\n",
    "  for word, df in idf_counter.items()\n",
    "}"
   ]
  },
  {
   "cell_type": "code",
   "execution_count": 341,
   "metadata": {},
   "outputs": [],
   "source": [
    "counter = Counter()\n",
    "for text in data['message_nostopwords']:\n",
    "    words = text.lower().split()\n",
    "    counter.update(words)"
   ]
  },
  {
   "cell_type": "code",
   "execution_count": 418,
   "metadata": {},
   "outputs": [],
   "source": [
    "tf_top = sorted(counter, key=counter.get)[-50:]"
   ]
  },
  {
   "cell_type": "code",
   "execution_count": 419,
   "metadata": {},
   "outputs": [],
   "source": [
    "idf_top = sorted(idf, key=idf.get)[:50]"
   ]
  },
  {
   "cell_type": "code",
   "execution_count": 345,
   "metadata": {},
   "outputs": [],
   "source": [
    "# nao funciona, pq idf foi zerado\n",
    "def tfidf(text, term):\n",
    "    text = text.lower().split()\n",
    "    \n",
    "    tfidf = 0\n",
    "    tf = 0\n",
    "    for word in text:\n",
    "        if word == term:\n",
    "            tf += 1\n",
    "    tfidf = (1 + math.log(tf, 2)) * idf[term]\n",
    "    #tfidf = idf[term]\n",
    "    return tfidf"
   ]
  },
  {
   "cell_type": "code",
   "execution_count": 420,
   "metadata": {},
   "outputs": [],
   "source": [
    "#usando freq absoluta\n",
    "def abs_tf(text, term):\n",
    "    text = text.lower().split()\n",
    "    \n",
    "    tf = 0\n",
    "    for word in text:\n",
    "        if word == term:\n",
    "            tf += 1\n",
    "    return tf"
   ]
  },
  {
   "cell_type": "raw",
   "metadata": {},
   "source": [
    "for term in idf_top:\n",
    "    data[term] = 0\n",
    "    data[term] = data['message_nostopwords'].apply(lambda text: tfidf(text, term))"
   ]
  },
  {
   "cell_type": "code",
   "execution_count": 421,
   "metadata": {},
   "outputs": [],
   "source": [
    "for term in tf_top:\n",
    "    data[term] = 0\n",
    "    data[term] = data['message_nostopwords'].apply(lambda text: abs_tf(text, term))"
   ]
  },
  {
   "cell_type": "raw",
   "metadata": {},
   "source": [
    "tf_top"
   ]
  },
  {
   "cell_type": "raw",
   "metadata": {},
   "source": [
    "data['message_nostopwords'].apply(lambda text: abs_tf(text, 'galera'))"
   ]
  },
  {
   "cell_type": "code",
   "execution_count": 305,
   "metadata": {},
   "outputs": [
    {
     "data": {
      "text/plain": [
       "['amigos,ja', 'dengue:]', 'http:\\\\/\\\\/t.co\\\\/af6s5vgi', 'america?']"
      ]
     },
     "execution_count": 305,
     "metadata": {},
     "output_type": "execute_result"
    }
   ],
   "source": [
    "sorted(idf, key=idf.get)[-4:]"
   ]
  },
  {
   "cell_type": "raw",
   "metadata": {},
   "source": [
    "for token in data.iloc[0, 0].split():\n",
    "    if token == 'água': print(token)\n",
    "    if token == 'todos': print(token)"
   ]
  },
  {
   "cell_type": "markdown",
   "metadata": {},
   "source": [
    "# To do"
   ]
  },
  {
   "cell_type": "markdown",
   "metadata": {},
   "source": [
    "### Lasso regression\n",
    "Using Lasso to choose the most relevant terms"
   ]
  },
  {
   "cell_type": "code",
   "execution_count": 390,
   "metadata": {},
   "outputs": [],
   "source": [
    "infodengue = infodengue.rename(index=str, columns={\"casos\": \"y\"})"
   ]
  },
  {
   "cell_type": "code",
   "execution_count": 426,
   "metadata": {},
   "outputs": [],
   "source": [
    "data = pd.merge(data, infodengue, on='se', how='inner')"
   ]
  },
  {
   "cell_type": "raw",
   "metadata": {},
   "source": [
    "del data['y']"
   ]
  },
  {
   "cell_type": "code",
   "execution_count": 453,
   "metadata": {},
   "outputs": [
    {
     "data": {
      "text/plain": [
       "Index(['nao', 'dengue:', 'vida', 'bem', 'dengue!', 'rio', 'parado', 'foco',\n",
       "       'caso', 'gente', 'tá', 'vai', 'dia', 'tão', 'ser', '#dengue', 'saúde',\n",
       "       'combate', 'suspeita', 'água', 'ta', 'parada', 'to', 'pra', 'contra',\n",
       "       'casos', 'mosquito', 'não', 'rt', 'dengue', 'vem', 'dengue\"', 'nunca',\n",
       "       'casa', 'ministério', 'medicamento', 'pneus', 'ai', 'aedes', 'dengue?',\n",
       "       'dor', 'agora', 'sobre', 'vou', 'acho', 'pode', 'hoje', 'todo', 'aqui',\n",
       "       'vc'],\n",
       "      dtype='object')"
      ]
     },
     "execution_count": 453,
     "metadata": {},
     "output_type": "execute_result"
    }
   ],
   "source": [
    "x_variables = data.columns[1:-1]\n",
    "x_variables"
   ]
  },
  {
   "cell_type": "raw",
   "metadata": {},
   "source": [
    "X = pd.merge(X, y, on='se', how='inner')"
   ]
  },
  {
   "cell_type": "code",
   "execution_count": 498,
   "metadata": {},
   "outputs": [],
   "source": [
    "def plot_lasso_coef(X, y):\n",
    "    lasso = Lasso(alpha=10, normalize=True)\n",
    "    \n",
    "    # Fit the regressor to the data\n",
    "    lasso.fit(X, y)\n",
    "    \n",
    "    # Compute and print the coefficients\n",
    "    lasso_coef = lasso.coef_ \n",
    "    print('lasso coefficients: \\r\\n', lasso_coef)\n",
    "    \n",
    "    # Plot the coefficients\n",
    "    plt.figure(figsize=(16,5))\n",
    "    plt.plot(range(len(lasso_coef)), lasso_coef)\n",
    "    plt.xticks(range(len(X)), list(range(50)), rotation=60)\n",
    "    plt.xlabel(\"Variable\")\n",
    "    plt.ylabel(\"Lasso coefficient\")\n",
    "    plt.margins(0.02)\n",
    "    plt.show()\n",
    "    return lasso_coef"
   ]
  },
  {
   "cell_type": "code",
   "execution_count": 514,
   "metadata": {},
   "outputs": [],
   "source": [
    "def print_vars(coefs):\n",
    "    for coef in coefs:\n",
    "        if abs(coef) > 1: print(x_variables[list(coefs).index(coef)])"
   ]
  },
  {
   "cell_type": "code",
   "execution_count": 492,
   "metadata": {},
   "outputs": [],
   "source": [
    "y = data.iloc[:, -1:]"
   ]
  },
  {
   "cell_type": "code",
   "execution_count": 499,
   "metadata": {},
   "outputs": [
    {
     "name": "stdout",
     "output_type": "stream",
     "text": [
      "lasso coefficients: \r\n",
      " [ 0.         -0.          0.         -0.         -2.22376255  0.\n",
      " -0.45449908  0.          0.52818774 -0.         -0.         -0.\n",
      "  0.          0.         -0.08886193 -1.03085518 -0.         -0.\n",
      " -0.         -0.29880118  0.          0.          0.         -0.\n",
      " -0.         -0.          0.         -0.         -0.          0.\n",
      "  0.21391668 -0.65796224 -0.          3.38475464 -0.         -0.\n",
      " -0.         -0.         -0.          0.         -0.          0.\n",
      " -0.         -0.          5.55992369  1.78802328  1.06131893  0.\n",
      " -0.          0.55606035]\n"
     ]
    },
    {
     "data": {
      "image/png": "[encoded data removed]",
      "text/plain": [
       "<Figure size 1152x360 with 1 Axes>"
      ]
     },
     "metadata": {
      "needs_background": "light"
     },
     "output_type": "display_data"
    }
   ],
   "source": [
    "X_50 = data.iloc[:, 1:-1]\n",
    "lasso_coef_50 = plot_lasso_coef(X_50,y)"
   ]
  },
  {
   "cell_type": "code",
   "execution_count": 515,
   "metadata": {},
   "outputs": [
    {
     "name": "stdout",
     "output_type": "stream",
     "text": [
      "dengue!\n",
      "#dengue\n",
      "casa\n",
      "acho\n",
      "pode\n",
      "hoje\n"
     ]
    }
   ],
   "source": [
    "print_vars(lasso_coef_50)"
   ]
  },
  {
   "cell_type": "code",
   "execution_count": 512,
   "metadata": {},
   "outputs": [
    {
     "name": "stdout",
     "output_type": "stream",
     "text": [
      "lasso coefficients: \r\n",
      " [ 0.10000708  0.          0.         -0.05302793 -1.53976277  0.\n",
      " -0.61074742  0.70225398  0.2723492  -0.          0.         -0.25756975\n",
      "  0.         -0.         -0.         -0.         -0.          0.\n",
      " -0.026278   -0.52378596  0.          0.          2.41729681 -0.03392091\n",
      " -0.         -0.          0.19600019 -0.         -0.          0.09791373]\n"
     ]
    },
    {
     "data": {
      "image/png": "[encoded data removed]",
      "text/plain": [
       "<Figure size 1152x360 with 1 Axes>"
      ]
     },
     "metadata": {
      "needs_background": "light"
     },
     "output_type": "display_data"
    }
   ],
   "source": [
    "X_30 = data.iloc[:, 1:31]\n",
    "lasso_coef_30 = plot_lasso_coef(X_30,y)"
   ]
  },
  {
   "cell_type": "code",
   "execution_count": 516,
   "metadata": {},
   "outputs": [
    {
     "name": "stdout",
     "output_type": "stream",
     "text": [
      "dengue!\n",
      "to\n"
     ]
    }
   ],
   "source": [
    "print_vars(lasso_coef_30)"
   ]
  },
  {
   "cell_type": "markdown",
   "metadata": {},
   "source": [
    "# draft"
   ]
  },
  {
   "cell_type": "code",
   "execution_count": null,
   "metadata": {},
   "outputs": [],
   "source": [
    "text_test = [['this', 'is', 'a', 'sample'], ['this', 'is', 'another', 'example']]"
   ]
  },
  {
   "cell_type": "raw",
   "metadata": {},
   "source": []
  },
  {
   "cell_type": "code",
   "execution_count": null,
   "metadata": {},
   "outputs": [],
   "source": []
  }
 ],
 "metadata": {
  "kernelspec": {
   "display_name": "Python 3",
   "language": "python",
   "name": "python3"
  },
  "language_info": {
   "codemirror_mode": {
    "name": "ipython",
    "version": 3
   },
   "file_extension": ".py",
   "mimetype": "text/x-python",
   "name": "python",
   "nbconvert_exporter": "python",
   "pygments_lexer": "ipython3",
   "version": "3.7.1"
  }
 },
 "nbformat": 4,
 "nbformat_minor": 2
}
