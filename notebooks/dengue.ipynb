{
 "cells": [
  {
   "cell_type": "code",
   "execution_count": 1,
   "metadata": {},
   "outputs": [],
   "source": [
    "import pandas as pd\n",
    "import numpy as np\n",
    "import pickle\n",
    "from collections import Counter\n",
    "import math\n",
    "import nltk\n",
    "import requests\n",
    "import html\n",
    "import datetime\n",
    "from datetime import timedelta, date\n",
    "import string\n",
    "import json\n",
    "import matplotlib.pyplot as plt\n",
    "import seaborn as sns\n",
    "from sklearn.feature_extraction.text import TfidfVectorizer\n",
    "from sklearn.model_selection import cross_val_score\n",
    "\n",
    "import statsmodels as sm\n",
    "\n",
    "%matplotlib inline"
   ]
  },
  {
   "cell_type": "code",
   "execution_count": 2,
   "metadata": {},
   "outputs": [],
   "source": [
    "data = pd.read_csv(\"../../dados/resultado.csv\", header = None) "
   ]
  },
  {
   "cell_type": "markdown",
   "metadata": {},
   "source": [
    "* Data da mensagem\n",
    "* Usuário que postou a mensagem\n",
    "* Texto da mensagem\n",
    "* Pontuação para  classe=paródia\n",
    "* Pontuação para  classe=opinião\n",
    "* Pontuação para  classe=campanha\n",
    "* Pontuação para  classe=experiência pessoal\n",
    "* Pontuação para  classe=informação\n",
    "* Resultado (qual a classe foi escolhida pela maior pontuação)\n",
    "* Informação (JSON) sobre a localização"
   ]
  },
  {
   "cell_type": "code",
   "execution_count": 3,
   "metadata": {},
   "outputs": [],
   "source": [
    "data.columns = [\"date\", \"user\", \"message\", \"0\", \"1\", \"2\", \"3\", \"4\", \"class\", \"location\"]"
   ]
  },
  {
   "cell_type": "code",
   "execution_count": 4,
   "metadata": {},
   "outputs": [],
   "source": [
    "data['date'] = pd.to_datetime(data['date'])"
   ]
  },
  {
   "cell_type": "code",
   "execution_count": 5,
   "metadata": {},
   "outputs": [
    {
     "data": {
      "text/plain": [
       "date        datetime64[ns]\n",
       "user                object\n",
       "message             object\n",
       "0                  float64\n",
       "1                  float64\n",
       "2                  float64\n",
       "3                  float64\n",
       "4                  float64\n",
       "class                int64\n",
       "location            object\n",
       "dtype: object"
      ]
     },
     "execution_count": 5,
     "metadata": {},
     "output_type": "execute_result"
    }
   ],
   "source": [
    "data.dtypes"
   ]
  },
  {
   "cell_type": "code",
   "execution_count": 6,
   "metadata": {},
   "outputs": [],
   "source": [
    "data = data[data['date'] < '2011-09-30 23:59:59']"
   ]
  },
  {
   "cell_type": "markdown",
   "metadata": {},
   "source": [
    "# save pickle of filtered data"
   ]
  },
  {
   "cell_type": "raw",
   "metadata": {},
   "source": [
    "with open('../../inputs/resultado.pkl', 'wb') as f:\n",
    "    pickle.dump(data, f)"
   ]
  },
  {
   "cell_type": "markdown",
   "metadata": {},
   "source": [
    "# load pickle"
   ]
  },
  {
   "cell_type": "code",
   "execution_count": 314,
   "metadata": {},
   "outputs": [],
   "source": [
    "with open('../../inputs/resultado.pkl', 'rb') as f:\n",
    "    data = pickle.load(f)"
   ]
  },
  {
   "cell_type": "raw",
   "metadata": {},
   "source": [
    "data_filtered = data2[['message_nostopwords', 'se']]"
   ]
  },
  {
   "cell_type": "code",
   "execution_count": 315,
   "metadata": {},
   "outputs": [],
   "source": [
    "data = data[data['date'] < '2011-09-30 23:59:59']"
   ]
  },
  {
   "cell_type": "code",
   "execution_count": 316,
   "metadata": {},
   "outputs": [],
   "source": [
    "data['date'] = data['date'].dt.strftime(\"%Y-%m-%d\")"
   ]
  },
  {
   "cell_type": "code",
   "execution_count": 317,
   "metadata": {},
   "outputs": [],
   "source": [
    "data['date'] = pd.to_datetime(data['date'])"
   ]
  },
  {
   "cell_type": "code",
   "execution_count": 318,
   "metadata": {},
   "outputs": [
    {
     "data": {
      "text/html": [
       "<div>\n",
       "<style scoped>\n",
       "    .dataframe tbody tr th:only-of-type {\n",
       "        vertical-align: middle;\n",
       "    }\n",
       "\n",
       "    .dataframe tbody tr th {\n",
       "        vertical-align: top;\n",
       "    }\n",
       "\n",
       "    .dataframe thead th {\n",
       "        text-align: right;\n",
       "    }\n",
       "</style>\n",
       "<table border=\"1\" class=\"dataframe\">\n",
       "  <thead>\n",
       "    <tr style=\"text-align: right;\">\n",
       "      <th></th>\n",
       "      <th>date</th>\n",
       "      <th>user</th>\n",
       "      <th>message</th>\n",
       "      <th>0</th>\n",
       "      <th>1</th>\n",
       "      <th>2</th>\n",
       "      <th>3</th>\n",
       "      <th>4</th>\n",
       "      <th>class</th>\n",
       "      <th>location</th>\n",
       "    </tr>\n",
       "  </thead>\n",
       "  <tbody>\n",
       "    <tr>\n",
       "      <th>738140</th>\n",
       "      <td>2011-09-12</td>\n",
       "      <td>claricereis91</td>\n",
       "      <td>@berntfinal Dengue num dá dor na garganta, vc ...</td>\n",
       "      <td>0.147137</td>\n",
       "      <td>0.066065</td>\n",
       "      <td>0.069753</td>\n",
       "      <td>0.544475</td>\n",
       "      <td>0.172570</td>\n",
       "      <td>0</td>\n",
       "      <td>{u'd': 1460387911967, u'v': 1}</td>\n",
       "    </tr>\n",
       "    <tr>\n",
       "      <th>738141</th>\n",
       "      <td>2011-09-12</td>\n",
       "      <td>guinisinmypants</td>\n",
       "      <td>@DearDany Todos os sintomas de dengue.. Até do...</td>\n",
       "      <td>0.130242</td>\n",
       "      <td>0.059683</td>\n",
       "      <td>0.119528</td>\n",
       "      <td>0.488431</td>\n",
       "      <td>0.202117</td>\n",
       "      <td>0</td>\n",
       "      <td>{u'd': 1460387911968, u'v': 1}</td>\n",
       "    </tr>\n",
       "    <tr>\n",
       "      <th>738142</th>\n",
       "      <td>2011-09-12</td>\n",
       "      <td>eu_plfl</td>\n",
       "      <td>a @pqjade_  tem problemas e dengue no #cerebro</td>\n",
       "      <td>0.295350</td>\n",
       "      <td>0.144311</td>\n",
       "      <td>0.110989</td>\n",
       "      <td>0.201095</td>\n",
       "      <td>0.248256</td>\n",
       "      <td>1</td>\n",
       "      <td>{u'city': u'Sao Jose dos Pinhais', u'country':...</td>\n",
       "    </tr>\n",
       "    <tr>\n",
       "      <th>738143</th>\n",
       "      <td>2011-09-12</td>\n",
       "      <td>Pathy_Aleixo</td>\n",
       "      <td>@ronaldoarreios Tô com dengue.... Meu corpo da...</td>\n",
       "      <td>0.084619</td>\n",
       "      <td>0.036423</td>\n",
       "      <td>0.048278</td>\n",
       "      <td>0.739830</td>\n",
       "      <td>0.090849</td>\n",
       "      <td>0</td>\n",
       "      <td>{u'd': 1460387912416, u'v': 1}</td>\n",
       "    </tr>\n",
       "    <tr>\n",
       "      <th>738144</th>\n",
       "      <td>2011-09-12</td>\n",
       "      <td>_rachelmarques</td>\n",
       "      <td>Minha ta mais parada do que foco de mosquito d...</td>\n",
       "      <td>0.500673</td>\n",
       "      <td>0.088380</td>\n",
       "      <td>0.053413</td>\n",
       "      <td>0.200705</td>\n",
       "      <td>0.156830</td>\n",
       "      <td>1</td>\n",
       "      <td>{u'city': u'Rio de Janeiro', u'country': u'Bra...</td>\n",
       "    </tr>\n",
       "  </tbody>\n",
       "</table>\n",
       "</div>"
      ],
      "text/plain": [
       "             date             user  \\\n",
       "738140 2011-09-12    claricereis91   \n",
       "738141 2011-09-12  guinisinmypants   \n",
       "738142 2011-09-12          eu_plfl   \n",
       "738143 2011-09-12     Pathy_Aleixo   \n",
       "738144 2011-09-12   _rachelmarques   \n",
       "\n",
       "                                                  message         0         1  \\\n",
       "738140  @berntfinal Dengue num dá dor na garganta, vc ...  0.147137  0.066065   \n",
       "738141  @DearDany Todos os sintomas de dengue.. Até do...  0.130242  0.059683   \n",
       "738142     a @pqjade_  tem problemas e dengue no #cerebro  0.295350  0.144311   \n",
       "738143  @ronaldoarreios Tô com dengue.... Meu corpo da...  0.084619  0.036423   \n",
       "738144  Minha ta mais parada do que foco de mosquito d...  0.500673  0.088380   \n",
       "\n",
       "               2         3         4  class  \\\n",
       "738140  0.069753  0.544475  0.172570      0   \n",
       "738141  0.119528  0.488431  0.202117      0   \n",
       "738142  0.110989  0.201095  0.248256      1   \n",
       "738143  0.048278  0.739830  0.090849      0   \n",
       "738144  0.053413  0.200705  0.156830      1   \n",
       "\n",
       "                                                 location  \n",
       "738140                     {u'd': 1460387911967, u'v': 1}  \n",
       "738141                     {u'd': 1460387911968, u'v': 1}  \n",
       "738142  {u'city': u'Sao Jose dos Pinhais', u'country':...  \n",
       "738143                     {u'd': 1460387912416, u'v': 1}  \n",
       "738144  {u'city': u'Rio de Janeiro', u'country': u'Bra...  "
      ]
     },
     "execution_count": 318,
     "metadata": {},
     "output_type": "execute_result"
    }
   ],
   "source": [
    "data.tail()"
   ]
  },
  {
   "cell_type": "code",
   "execution_count": 319,
   "metadata": {},
   "outputs": [
    {
     "data": {
      "text/plain": [
       "(603588, 10)"
      ]
     },
     "execution_count": 319,
     "metadata": {},
     "output_type": "execute_result"
    }
   ],
   "source": [
    "data.shape"
   ]
  },
  {
   "cell_type": "markdown",
   "metadata": {},
   "source": [
    "# stopwords"
   ]
  },
  {
   "cell_type": "code",
   "execution_count": 320,
   "metadata": {},
   "outputs": [],
   "source": [
    "stopwords = nltk.corpus.stopwords.words('portuguese')\n",
    "stopwords = list(set(stopwords))"
   ]
  },
  {
   "cell_type": "code",
   "execution_count": 321,
   "metadata": {},
   "outputs": [],
   "source": [
    "try: stopwords.remove('não')\n",
    "except: pass"
   ]
  },
  {
   "cell_type": "code",
   "execution_count": 322,
   "metadata": {},
   "outputs": [],
   "source": [
    "#algumas pontuaçoes podem ser irrelevantes\n",
    "some_punctuation = '-.,'"
   ]
  },
  {
   "cell_type": "code",
   "execution_count": 323,
   "metadata": {},
   "outputs": [],
   "source": [
    "def remove_stopwords(text):\n",
    "    new_text = \"\"\n",
    "    for word in text.lower().split():\n",
    "        if word not in stopwords and len(word)>1:\n",
    "            word = word.strip(some_punctuation)\n",
    "            new_text = new_text + ' ' + word\n",
    "    return new_text"
   ]
  },
  {
   "cell_type": "markdown",
   "metadata": {},
   "source": [
    "new column: text without stopwords"
   ]
  },
  {
   "cell_type": "code",
   "execution_count": 324,
   "metadata": {},
   "outputs": [],
   "source": [
    "data['message_nostopwords'] = data['message'].apply(remove_stopwords)"
   ]
  },
  {
   "cell_type": "markdown",
   "metadata": {},
   "source": [
    "# build epidemiologic weeks\n",
    "* Week one of every year is the first week with 4 days or more.\n",
    "* Timestamp of the study comprises: 21/11/2010-30/09/2011"
   ]
  },
  {
   "cell_type": "code",
   "execution_count": 325,
   "metadata": {},
   "outputs": [],
   "source": [
    "def daterange(date1, date2):\n",
    "    for n in range(int ((date2 - date1).days)+1):\n",
    "        yield date1 + timedelta(n)\n",
    "\n",
    "start_dt = date(2010, 1, 1)\n",
    "end_dt = date(2011, 10, 30)\n",
    "dates = []\n",
    "for dt in daterange(start_dt, end_dt):\n",
    "    dates.append(dt.strftime(\"%Y-%m-%d\"))"
   ]
  },
  {
   "cell_type": "code",
   "execution_count": 326,
   "metadata": {},
   "outputs": [],
   "source": [
    "dates_2010 = dates[:365]\n",
    "dates_2011 = dates[365:]"
   ]
  },
  {
   "cell_type": "code",
   "execution_count": 327,
   "metadata": {},
   "outputs": [],
   "source": [
    "ep_week_lst = []\n",
    "count = 0\n",
    "epidemic_week = 1\n",
    "ep_week_lst.extend([201000]*2)\n",
    "for d in dates_2010[2:]:\n",
    "    if count == 7:\n",
    "        epidemic_week += 1\n",
    "        count = 0\n",
    "    count += 1\n",
    "    str_week = str(epidemic_week)\n",
    "    if len(str_week) == 1: str_week = '0'+str_week\n",
    "    year_week = '2010'+str_week\n",
    "    ep_week_lst.append(year_week)\n",
    "    \n",
    "count = 0\n",
    "epidemic_week = 1\n",
    "ep_week_lst.append(201100)\n",
    "for d in dates_2011[1:]:\n",
    "    if count == 7:\n",
    "        epidemic_week += 1\n",
    "        count = 0\n",
    "    count += 1\n",
    "    str_week = str(epidemic_week)\n",
    "    if len(str_week) == 1: str_week = '0'+str_week\n",
    "    year_week = '2011'+str_week\n",
    "    ep_week_lst.append(year_week)"
   ]
  },
  {
   "cell_type": "raw",
   "metadata": {},
   "source": [
    "#research on 2010 comprises only the 41 last days\n",
    "days_2010 = 365-41 \n",
    "ep_week_lst = ep_week_lst[days_2010:]"
   ]
  },
  {
   "cell_type": "code",
   "execution_count": 328,
   "metadata": {},
   "outputs": [
    {
     "data": {
      "text/plain": [
       "'2008-12-21'"
      ]
     },
     "execution_count": 328,
     "metadata": {},
     "output_type": "execute_result"
    }
   ],
   "source": [
    "datetime.datetime.strptime(\"21/12/2008 20:04:44\", \"%d/%m/%Y %H:%M:%S\").strftime(\"%Y-%m-%d\")"
   ]
  },
  {
   "cell_type": "code",
   "execution_count": 329,
   "metadata": {},
   "outputs": [
    {
     "data": {
      "text/plain": [
       "date                   datetime64[ns]\n",
       "user                           object\n",
       "message                        object\n",
       "0                             float64\n",
       "1                             float64\n",
       "2                             float64\n",
       "3                             float64\n",
       "4                             float64\n",
       "class                           int64\n",
       "location                       object\n",
       "message_nostopwords            object\n",
       "dtype: object"
      ]
     },
     "execution_count": 329,
     "metadata": {},
     "output_type": "execute_result"
    }
   ],
   "source": [
    "data.dtypes"
   ]
  },
  {
   "cell_type": "code",
   "execution_count": 330,
   "metadata": {},
   "outputs": [],
   "source": [
    "def date_to_epweek(row):\n",
    "    #print(type(row))\n",
    "    #print(row)\n",
    "    row = row.strftime(\"%Y-%m-%d\")\n",
    "    date_index = dates.index(row)\n",
    "    year_week = ep_week_lst[date_index]\n",
    "    return year_week\n",
    "data['se'] = data['date'].apply(date_to_epweek) #se = epidemiologic week"
   ]
  },
  {
   "cell_type": "code",
   "execution_count": 331,
   "metadata": {
    "scrolled": true
   },
   "outputs": [
    {
     "data": {
      "text/html": [
       "<div>\n",
       "<style scoped>\n",
       "    .dataframe tbody tr th:only-of-type {\n",
       "        vertical-align: middle;\n",
       "    }\n",
       "\n",
       "    .dataframe tbody tr th {\n",
       "        vertical-align: top;\n",
       "    }\n",
       "\n",
       "    .dataframe thead th {\n",
       "        text-align: right;\n",
       "    }\n",
       "</style>\n",
       "<table border=\"1\" class=\"dataframe\">\n",
       "  <thead>\n",
       "    <tr style=\"text-align: right;\">\n",
       "      <th></th>\n",
       "      <th>date</th>\n",
       "      <th>user</th>\n",
       "      <th>message</th>\n",
       "      <th>0</th>\n",
       "      <th>1</th>\n",
       "      <th>2</th>\n",
       "      <th>3</th>\n",
       "      <th>4</th>\n",
       "      <th>class</th>\n",
       "      <th>location</th>\n",
       "      <th>message_nostopwords</th>\n",
       "      <th>se</th>\n",
       "    </tr>\n",
       "  </thead>\n",
       "  <tbody>\n",
       "    <tr>\n",
       "      <th>0</th>\n",
       "      <td>2010-11-19</td>\n",
       "      <td>PauloAfBahia</td>\n",
       "      <td>A dengue mata mas com simples gestos de preven...</td>\n",
       "      <td>0.138010</td>\n",
       "      <td>0.101521</td>\n",
       "      <td>0.254248</td>\n",
       "      <td>0.085880</td>\n",
       "      <td>0.420341</td>\n",
       "      <td>3</td>\n",
       "      <td>{u'd': 1443198862750, u'v': 1}</td>\n",
       "      <td>dengue mata simples gestos prevenção podemos ...</td>\n",
       "      <td>201046</td>\n",
       "    </tr>\n",
       "    <tr>\n",
       "      <th>1</th>\n",
       "      <td>2010-11-19</td>\n",
       "      <td>PortalOuroNegro</td>\n",
       "      <td>Mutirão contra a Dengue começou nesta sexta em...</td>\n",
       "      <td>0.105452</td>\n",
       "      <td>0.056434</td>\n",
       "      <td>0.248333</td>\n",
       "      <td>0.188912</td>\n",
       "      <td>0.400869</td>\n",
       "      <td>3</td>\n",
       "      <td>{u'city': u'Linhares', u'country': u'Brasil', ...</td>\n",
       "      <td>mutirão contra dengue começou nesta sexta lin...</td>\n",
       "      <td>201046</td>\n",
       "    </tr>\n",
       "    <tr>\n",
       "      <th>2</th>\n",
       "      <td>2010-11-19</td>\n",
       "      <td>Kustelaas</td>\n",
       "      <td>@depChicoAlencar amannhã alem do dia da consiê...</td>\n",
       "      <td>0.054194</td>\n",
       "      <td>0.084122</td>\n",
       "      <td>0.213530</td>\n",
       "      <td>0.146927</td>\n",
       "      <td>0.501226</td>\n",
       "      <td>3</td>\n",
       "      <td>{u'country': u'Brasil', u'state': u'MT', u'typ...</td>\n",
       "      <td>@depchicoalencar amannhã alem dia consiência ...</td>\n",
       "      <td>201046</td>\n",
       "    </tr>\n",
       "    <tr>\n",
       "      <th>3</th>\n",
       "      <td>2010-11-19</td>\n",
       "      <td>Raul_Jungmann</td>\n",
       "      <td>Pernambuco tem risco de sofrer epidemia de den...</td>\n",
       "      <td>0.080289</td>\n",
       "      <td>0.106928</td>\n",
       "      <td>0.054929</td>\n",
       "      <td>0.141276</td>\n",
       "      <td>0.616577</td>\n",
       "      <td>3</td>\n",
       "      <td>{u'city': u'Recife', u'country': u'Brasil', u'...</td>\n",
       "      <td>pernambuco risco sofrer epidemia dengue http:...</td>\n",
       "      <td>201046</td>\n",
       "    </tr>\n",
       "    <tr>\n",
       "      <th>4</th>\n",
       "      <td>2010-11-19</td>\n",
       "      <td>laana_mello</td>\n",
       "      <td>Rpz...acho q a Caueira tah com surto de dengue...</td>\n",
       "      <td>0.112013</td>\n",
       "      <td>0.143425</td>\n",
       "      <td>0.094947</td>\n",
       "      <td>0.429626</td>\n",
       "      <td>0.219990</td>\n",
       "      <td>0</td>\n",
       "      <td>{u'country': u'Brasil', u'state': u'MT', u'typ...</td>\n",
       "      <td>rpz...acho caueira tah surto dengue soh pode....</td>\n",
       "      <td>201046</td>\n",
       "    </tr>\n",
       "  </tbody>\n",
       "</table>\n",
       "</div>"
      ],
      "text/plain": [
       "        date             user  \\\n",
       "0 2010-11-19     PauloAfBahia   \n",
       "1 2010-11-19  PortalOuroNegro   \n",
       "2 2010-11-19        Kustelaas   \n",
       "3 2010-11-19    Raul_Jungmann   \n",
       "4 2010-11-19      laana_mello   \n",
       "\n",
       "                                             message         0         1  \\\n",
       "0  A dengue mata mas com simples gestos de preven...  0.138010  0.101521   \n",
       "1  Mutirão contra a Dengue começou nesta sexta em...  0.105452  0.056434   \n",
       "2  @depChicoAlencar amannhã alem do dia da consiê...  0.054194  0.084122   \n",
       "3  Pernambuco tem risco de sofrer epidemia de den...  0.080289  0.106928   \n",
       "4  Rpz...acho q a Caueira tah com surto de dengue...  0.112013  0.143425   \n",
       "\n",
       "          2         3         4  class  \\\n",
       "0  0.254248  0.085880  0.420341      3   \n",
       "1  0.248333  0.188912  0.400869      3   \n",
       "2  0.213530  0.146927  0.501226      3   \n",
       "3  0.054929  0.141276  0.616577      3   \n",
       "4  0.094947  0.429626  0.219990      0   \n",
       "\n",
       "                                            location  \\\n",
       "0                     {u'd': 1443198862750, u'v': 1}   \n",
       "1  {u'city': u'Linhares', u'country': u'Brasil', ...   \n",
       "2  {u'country': u'Brasil', u'state': u'MT', u'typ...   \n",
       "3  {u'city': u'Recife', u'country': u'Brasil', u'...   \n",
       "4  {u'country': u'Brasil', u'state': u'MT', u'typ...   \n",
       "\n",
       "                                 message_nostopwords      se  \n",
       "0   dengue mata simples gestos prevenção podemos ...  201046  \n",
       "1   mutirão contra dengue começou nesta sexta lin...  201046  \n",
       "2   @depchicoalencar amannhã alem dia consiência ...  201046  \n",
       "3   pernambuco risco sofrer epidemia dengue http:...  201046  \n",
       "4   rpz...acho caueira tah surto dengue soh pode....  201046  "
      ]
     },
     "execution_count": 331,
     "metadata": {},
     "output_type": "execute_result"
    }
   ],
   "source": [
    "data.head()"
   ]
  },
  {
   "cell_type": "markdown",
   "metadata": {},
   "source": [
    "# Infodengue\n",
    "The research comprises 12 cities:\n",
    "* Belém, Belo Horizonte, Brasília,Fortaleza, Manaus, Natal, Rio Branco, Rio de Janeiro, São Paulo, Londrina, Niterói, Ribeirão Preto.\n",
    "* Source of geocodes: https://ww2.ibge.gov.br/home/geociencias/geografia/redes_fluxos/gestao_do_territorio_2014/base.shtm\n",
    "* File of the geocodes: Base_de_dados_dos_municipios.xls"
   ]
  },
  {
   "cell_type": "markdown",
   "metadata": {},
   "source": [
    "### geocodes"
   ]
  },
  {
   "cell_type": "code",
   "execution_count": 33,
   "metadata": {},
   "outputs": [],
   "source": [
    "geocodes_BR = pd.read_excel (r'..\\inputs\\Base_de_dados_dos_municipios.xls')\n",
    "geocodes_BR = geocodes_BR[['UF', 'Codmundv', 'NomeMunic']]"
   ]
  },
  {
   "cell_type": "markdown",
   "metadata": {},
   "source": [
    "### infodengue - Rio de Janeiro"
   ]
  },
  {
   "cell_type": "code",
   "execution_count": 3,
   "metadata": {},
   "outputs": [
    {
     "name": "stdout",
     "output_type": "stream",
     "text": [
      "Success!\n"
     ]
    }
   ],
   "source": [
    "municipality= 'Rio de Janeiro'.upper()\n",
    "geocode_row = geocodes_BR.loc[geocodes_BR['NomeMunic'] == municipality]\n",
    "geocode = list(geocode_row.iloc[:,1])[0]\n",
    "url = 'https://info.dengue.mat.br/api/alertcity/?geocode=3304557&disease=dengue&format=csv&ew_start=47&ey_start=2010&ew_end=39&ey_end=2011'\n",
    "r = requests.get(url)\n",
    "if r:\n",
    "    print('Success!')\n",
    "else:\n",
    "    print('An error has occurred.')"
   ]
  },
  {
   "cell_type": "code",
   "execution_count": 4,
   "metadata": {},
   "outputs": [
    {
     "data": {
      "text/plain": [
       "{'Server': 'nginx/1.4.6 (Ubuntu)', 'Date': 'Wed, 08 May 2019 21:25:08 GMT', 'Content-Type': 'text/plain', 'Content-Length': '11546', 'Connection': 'keep-alive', 'X-Frame-Options': 'SAMEORIGIN', 'Vary': 'Accept-Language, Cookie, Accept-Encoding', 'Content-Language': 'pt-br', 'Content-Encoding': 'gzip'}"
      ]
     },
     "execution_count": 4,
     "metadata": {},
     "output_type": "execute_result"
    }
   ],
   "source": [
    "r.headers"
   ]
  },
  {
   "cell_type": "code",
   "execution_count": 5,
   "metadata": {},
   "outputs": [],
   "source": [
    "r = r.text.split('\\n')"
   ]
  },
  {
   "cell_type": "code",
   "execution_count": 6,
   "metadata": {},
   "outputs": [],
   "source": [
    "count = 0\n",
    "for row in r:\n",
    "    split_row = row.split(',')\n",
    "    r[count] = split_row\n",
    "    count += 1\n",
    "headers = r.pop(0)"
   ]
  },
  {
   "cell_type": "code",
   "execution_count": 7,
   "metadata": {},
   "outputs": [
    {
     "data": {
      "text/html": [
       "<div>\n",
       "<style scoped>\n",
       "    .dataframe tbody tr th:only-of-type {\n",
       "        vertical-align: middle;\n",
       "    }\n",
       "\n",
       "    .dataframe tbody tr th {\n",
       "        vertical-align: top;\n",
       "    }\n",
       "\n",
       "    .dataframe thead th {\n",
       "        text-align: right;\n",
       "    }\n",
       "</style>\n",
       "<table border=\"1\" class=\"dataframe\">\n",
       "  <thead>\n",
       "    <tr style=\"text-align: right;\">\n",
       "      <th></th>\n",
       "      <th>se</th>\n",
       "      <th>data</th>\n",
       "      <th>tweets</th>\n",
       "      <th>casos</th>\n",
       "    </tr>\n",
       "  </thead>\n",
       "  <tbody>\n",
       "    <tr>\n",
       "      <th>0</th>\n",
       "      <td>201112</td>\n",
       "      <td>2011-03-20</td>\n",
       "      <td></td>\n",
       "      <td>530</td>\n",
       "    </tr>\n",
       "    <tr>\n",
       "      <th>1</th>\n",
       "      <td>201135</td>\n",
       "      <td>2011-08-28</td>\n",
       "      <td></td>\n",
       "      <td>12</td>\n",
       "    </tr>\n",
       "    <tr>\n",
       "      <th>2</th>\n",
       "      <td>201104</td>\n",
       "      <td>2011-01-23</td>\n",
       "      <td></td>\n",
       "      <td>56</td>\n",
       "    </tr>\n",
       "    <tr>\n",
       "      <th>3</th>\n",
       "      <td>201123</td>\n",
       "      <td>2011-06-05</td>\n",
       "      <td></td>\n",
       "      <td>29</td>\n",
       "    </tr>\n",
       "    <tr>\n",
       "      <th>4</th>\n",
       "      <td>201101</td>\n",
       "      <td>2011-01-02</td>\n",
       "      <td></td>\n",
       "      <td>10</td>\n",
       "    </tr>\n",
       "  </tbody>\n",
       "</table>\n",
       "</div>"
      ],
      "text/plain": [
       "       se        data tweets casos\n",
       "0  201112  2011-03-20          530\n",
       "1  201135  2011-08-28           12\n",
       "2  201104  2011-01-23           56\n",
       "3  201123  2011-06-05           29\n",
       "4  201101  2011-01-02           10"
      ]
     },
     "execution_count": 7,
     "metadata": {},
     "output_type": "execute_result"
    }
   ],
   "source": [
    "infodengue = pd.DataFrame(r, columns=headers)\n",
    "infodengue = infodengue.iloc[:,2:6]\n",
    "infodengue.head()"
   ]
  },
  {
   "cell_type": "code",
   "execution_count": 8,
   "metadata": {},
   "outputs": [
    {
     "data": {
      "text/plain": [
       "(451, 4)"
      ]
     },
     "execution_count": 8,
     "metadata": {},
     "output_type": "execute_result"
    }
   ],
   "source": [
    "infodengue.shape"
   ]
  },
  {
   "cell_type": "code",
   "execution_count": 9,
   "metadata": {},
   "outputs": [],
   "source": [
    "infodengue['casos'] = infodengue['casos'].fillna(0).astype(int)"
   ]
  },
  {
   "cell_type": "code",
   "execution_count": 10,
   "metadata": {},
   "outputs": [],
   "source": [
    "infodengue = infodengue.groupby(['se']).sum()"
   ]
  },
  {
   "cell_type": "code",
   "execution_count": 11,
   "metadata": {},
   "outputs": [
    {
     "data": {
      "text/html": [
       "<div>\n",
       "<style scoped>\n",
       "    .dataframe tbody tr th:only-of-type {\n",
       "        vertical-align: middle;\n",
       "    }\n",
       "\n",
       "    .dataframe tbody tr th {\n",
       "        vertical-align: top;\n",
       "    }\n",
       "\n",
       "    .dataframe thead th {\n",
       "        text-align: right;\n",
       "    }\n",
       "</style>\n",
       "<table border=\"1\" class=\"dataframe\">\n",
       "  <thead>\n",
       "    <tr style=\"text-align: right;\">\n",
       "      <th></th>\n",
       "      <th>casos</th>\n",
       "    </tr>\n",
       "    <tr>\n",
       "      <th>se</th>\n",
       "      <th></th>\n",
       "    </tr>\n",
       "  </thead>\n",
       "  <tbody>\n",
       "    <tr>\n",
       "      <th>201047</th>\n",
       "      <td>74</td>\n",
       "    </tr>\n",
       "    <tr>\n",
       "      <th>201048</th>\n",
       "      <td>93</td>\n",
       "    </tr>\n",
       "    <tr>\n",
       "      <th>201049</th>\n",
       "      <td>149</td>\n",
       "    </tr>\n",
       "    <tr>\n",
       "      <th>201050</th>\n",
       "      <td>195</td>\n",
       "    </tr>\n",
       "    <tr>\n",
       "      <th>201051</th>\n",
       "      <td>155</td>\n",
       "    </tr>\n",
       "  </tbody>\n",
       "</table>\n",
       "</div>"
      ],
      "text/plain": [
       "        casos\n",
       "se           \n",
       "201047     74\n",
       "201048     93\n",
       "201049    149\n",
       "201050    195\n",
       "201051    155"
      ]
     },
     "execution_count": 11,
     "metadata": {},
     "output_type": "execute_result"
    }
   ],
   "source": [
    "infodengue.head()"
   ]
  },
  {
   "cell_type": "markdown",
   "metadata": {},
   "source": [
    "### check epidemiologic week consistency"
   ]
  },
  {
   "cell_type": "code",
   "execution_count": 356,
   "metadata": {},
   "outputs": [],
   "source": [
    "df_week_pairs = list(zip(list(infodengue['se']), list(infodengue['data'])))\n",
    "const_week_pairs = list(zip(ep_week_lst, dates))"
   ]
  },
  {
   "cell_type": "code",
   "execution_count": 357,
   "metadata": {},
   "outputs": [
    {
     "name": "stdout",
     "output_type": "stream",
     "text": [
      "Weeks were correctly built\n"
     ]
    }
   ],
   "source": [
    "consistent = True\n",
    "for i in df_week_pairs: \n",
    "    if i not in const_week_pairs and i != (None, None):\n",
    "        consistent = False\n",
    "        print('Please, check the epidemic weeks construction again')\n",
    "        break\n",
    "if consistent: print('Weeks were correctly built')"
   ]
  },
  {
   "cell_type": "raw",
   "metadata": {},
   "source": [
    "if any(df_week_pairs) in const_week_pairs:\n",
    "    print('epidemic weeks are properly constructed')\n",
    "#else:\n",
    "#    print('Please, check the epidemic weeks construction again')"
   ]
  },
  {
   "cell_type": "markdown",
   "metadata": {},
   "source": [
    "### group tweet data by week, and filter irrelevant columns"
   ]
  },
  {
   "cell_type": "code",
   "execution_count": 332,
   "metadata": {},
   "outputs": [],
   "source": [
    "data = data[['message_nostopwords', 'se']]"
   ]
  },
  {
   "cell_type": "code",
   "execution_count": 333,
   "metadata": {},
   "outputs": [],
   "source": [
    "data = data.groupby(['se'])['message_nostopwords'].apply(lambda x: ' '.join(x))"
   ]
  },
  {
   "cell_type": "code",
   "execution_count": 334,
   "metadata": {},
   "outputs": [],
   "source": [
    "data = pd.DataFrame(data)"
   ]
  },
  {
   "cell_type": "code",
   "execution_count": 335,
   "metadata": {},
   "outputs": [],
   "source": [
    "data_bak = data.copy()"
   ]
  },
  {
   "cell_type": "code",
   "execution_count": 337,
   "metadata": {},
   "outputs": [
    {
     "data": {
      "text/html": [
       "<div>\n",
       "<style scoped>\n",
       "    .dataframe tbody tr th:only-of-type {\n",
       "        vertical-align: middle;\n",
       "    }\n",
       "\n",
       "    .dataframe tbody tr th {\n",
       "        vertical-align: top;\n",
       "    }\n",
       "\n",
       "    .dataframe thead th {\n",
       "        text-align: right;\n",
       "    }\n",
       "</style>\n",
       "<table border=\"1\" class=\"dataframe\">\n",
       "  <thead>\n",
       "    <tr style=\"text-align: right;\">\n",
       "      <th></th>\n",
       "      <th>message_nostopwords</th>\n",
       "    </tr>\n",
       "    <tr>\n",
       "      <th>se</th>\n",
       "      <th></th>\n",
       "    </tr>\n",
       "  </thead>\n",
       "  <tbody>\n",
       "    <tr>\n",
       "      <th>201002</th>\n",
       "      <td>aqui casa repelente estocado deus livre pegar...</td>\n",
       "    </tr>\n",
       "    <tr>\n",
       "      <th>201006</th>\n",
       "      <td>rt @souintelijente: urgente alerta informar m...</td>\n",
       "    </tr>\n",
       "    <tr>\n",
       "      <th>201010</th>\n",
       "      <td>lol rt @dropsbh: @aakkari praga perto dengue ...</td>\n",
       "    </tr>\n",
       "    <tr>\n",
       "      <th>201015</th>\n",
       "      <td>@gehalls xiii dengue!  @felipeazevedo10 to de...</td>\n",
       "    </tr>\n",
       "    <tr>\n",
       "      <th>201019</th>\n",
       "      <td>campanha combate dengue \"tropa\" trocou branco...</td>\n",
       "    </tr>\n",
       "  </tbody>\n",
       "</table>\n",
       "</div>"
      ],
      "text/plain": [
       "                                      message_nostopwords\n",
       "se                                                       \n",
       "201002   aqui casa repelente estocado deus livre pegar...\n",
       "201006   rt @souintelijente: urgente alerta informar m...\n",
       "201010   lol rt @dropsbh: @aakkari praga perto dengue ...\n",
       "201015   @gehalls xiii dengue!  @felipeazevedo10 to de...\n",
       "201019   campanha combate dengue \"tropa\" trocou branco..."
      ]
     },
     "execution_count": 337,
     "metadata": {},
     "output_type": "execute_result"
    }
   ],
   "source": [
    "data_bak.head()"
   ]
  },
  {
   "cell_type": "code",
   "execution_count": 311,
   "metadata": {},
   "outputs": [],
   "source": [
    "data = data_bak"
   ]
  },
  {
   "cell_type": "markdown",
   "metadata": {},
   "source": [
    "# TF-IDF"
   ]
  },
  {
   "cell_type": "markdown",
   "metadata": {},
   "source": [
    "* https://www.kdnuggets.com/2018/08/wtf-tf-idf.html\n",
    "* using elastic search: https://stackoverflow.com/questions/42220764/elasticsearch-getting-the-tf-idf-of-every-term-in-a-given-document"
   ]
  },
  {
   "cell_type": "markdown",
   "metadata": {},
   "source": [
    "limitar por frequencia relativa\n",
    "\n",
    "tf/total de palavras"
   ]
  },
  {
   "cell_type": "code",
   "execution_count": 338,
   "metadata": {},
   "outputs": [],
   "source": [
    "tfidf = TfidfVectorizer(\n",
    "    analyzer='word')  "
   ]
  },
  {
   "cell_type": "code",
   "execution_count": 339,
   "metadata": {},
   "outputs": [
    {
     "data": {
      "text/plain": [
       "TfidfVectorizer(analyzer='word', binary=False, decode_error='strict',\n",
       "        dtype=<class 'numpy.float64'>, encoding='utf-8', input='content',\n",
       "        lowercase=True, max_df=1.0, max_features=None, min_df=1,\n",
       "        ngram_range=(1, 1), norm='l2', preprocessor=None, smooth_idf=True,\n",
       "        stop_words=None, strip_accents=None, sublinear_tf=False,\n",
       "        token_pattern='(?u)\\\\b\\\\w\\\\w+\\\\b', tokenizer=None, use_idf=True,\n",
       "        vocabulary=None)"
      ]
     },
     "execution_count": 339,
     "metadata": {},
     "output_type": "execute_result"
    }
   ],
   "source": [
    "tfidf.fit(data['message_nostopwords'])"
   ]
  },
  {
   "cell_type": "code",
   "execution_count": 340,
   "metadata": {},
   "outputs": [],
   "source": [
    "idf_counter = Counter()\n",
    "for text in data['message_nostopwords']:\n",
    "    words = set(text.lower().split())\n",
    "    idf_counter.update(words)\n",
    "    \n",
    "idf = {\n",
    "  word: math.log(len(data)/df, 2)\n",
    "  for word, df in idf_counter.items()\n",
    "}"
   ]
  },
  {
   "cell_type": "code",
   "execution_count": 341,
   "metadata": {},
   "outputs": [],
   "source": [
    "counter = Counter()\n",
    "for text in data['message_nostopwords']:\n",
    "    words = text.lower().split()\n",
    "    counter.update(words)"
   ]
  },
  {
   "cell_type": "code",
   "execution_count": 597,
   "metadata": {},
   "outputs": [],
   "source": [
    "tf_top = sorted(counter, key=counter.get)[-500:]"
   ]
  },
  {
   "cell_type": "code",
   "execution_count": 419,
   "metadata": {},
   "outputs": [],
   "source": [
    "idf_top = sorted(idf, key=idf.get)[:50]"
   ]
  },
  {
   "cell_type": "code",
   "execution_count": 345,
   "metadata": {},
   "outputs": [],
   "source": [
    "# nao funciona, pq idf foi zerado\n",
    "def tfidf(text, term):\n",
    "    text = text.lower().split()\n",
    "    \n",
    "    tfidf = 0\n",
    "    tf = 0\n",
    "    for word in text:\n",
    "        if word == term:\n",
    "            tf += 1\n",
    "    tfidf = (1 + math.log(tf, 2)) * idf[term]\n",
    "    #tfidf = idf[term]\n",
    "    return tfidf"
   ]
  },
  {
   "cell_type": "code",
   "execution_count": 526,
   "metadata": {},
   "outputs": [],
   "source": [
    "#usando freq absoluta\n",
    "def abs_tf(text, term):\n",
    "    text = text.lower().split()\n",
    "    \n",
    "    tf = 0\n",
    "    for word in text:\n",
    "        if word == term:\n",
    "            tf += 1\n",
    "    return tf"
   ]
  },
  {
   "cell_type": "raw",
   "metadata": {},
   "source": [
    "for term in idf_top:\n",
    "    data[term] = 0\n",
    "    data[term] = data['message_nostopwords'].apply(lambda text: tfidf(text, term))"
   ]
  },
  {
   "cell_type": "code",
   "execution_count": 527,
   "metadata": {},
   "outputs": [],
   "source": [
    "for term in tf_top:\n",
    "    data[term] = 0\n",
    "    data[term] = data['message_nostopwords'].apply(lambda text: abs_tf(text, term))"
   ]
  },
  {
   "cell_type": "markdown",
   "metadata": {},
   "source": [
    "pickle files"
   ]
  },
  {
   "cell_type": "raw",
   "metadata": {},
   "source": [
    "with open('../../resultado_TFs.pkl', 'wb') as f:\n",
    "    pickle.dump(data, f)"
   ]
  },
  {
   "cell_type": "code",
   "execution_count": 12,
   "metadata": {},
   "outputs": [],
   "source": [
    "with open('../../resultado_TFs.pkl', 'rb') as f:\n",
    "    data = pickle.load(f)"
   ]
  },
  {
   "cell_type": "raw",
   "metadata": {},
   "source": [
    "data = data.drop(['y'], axis=1)"
   ]
  },
  {
   "cell_type": "code",
   "execution_count": 13,
   "metadata": {},
   "outputs": [
    {
     "data": {
      "text/plain": [
       "501"
      ]
     },
     "execution_count": 13,
     "metadata": {},
     "output_type": "execute_result"
    }
   ],
   "source": [
    "len(data.columns)"
   ]
  },
  {
   "cell_type": "raw",
   "metadata": {},
   "source": [
    "data['message_nostopwords'].apply(lambda text: abs_tf(text, 'galera'))"
   ]
  },
  {
   "cell_type": "raw",
   "metadata": {},
   "source": [
    "for token in data.iloc[0, 0].split():\n",
    "    if token == 'água': print(token)\n",
    "    if token == 'todos': print(token)"
   ]
  },
  {
   "cell_type": "markdown",
   "metadata": {},
   "source": [
    "# Lasso regression\n",
    "Using Lasso to choose the most relevant terms"
   ]
  },
  {
   "cell_type": "code",
   "execution_count": 14,
   "metadata": {},
   "outputs": [],
   "source": [
    "from sklearn.linear_model import Lasso\n",
    "from sklearn.linear_model import LassoLarsIC"
   ]
  },
  {
   "cell_type": "code",
   "execution_count": 15,
   "metadata": {},
   "outputs": [],
   "source": [
    "infodengue = infodengue.rename(index=str, columns={\"casos\": \"y\"})"
   ]
  },
  {
   "cell_type": "code",
   "execution_count": 16,
   "metadata": {},
   "outputs": [],
   "source": [
    "data = pd.merge(data, infodengue, on='se', how='inner')"
   ]
  },
  {
   "cell_type": "code",
   "execution_count": 17,
   "metadata": {},
   "outputs": [
    {
     "data": {
      "text/plain": [
       "Index(['nao', 'dengue:', 'vida', 'bem', 'dengue!', 'rio', 'parado', 'foco',\n",
       "       'caso', 'gente',\n",
       "       ...\n",
       "       'todos', 'estado', 'cidade', 'virar', 'combater', 'médico', 'epidemia',\n",
       "       'sabe', 'agua', 'tipo'],\n",
       "      dtype='object', length=500)"
      ]
     },
     "execution_count": 17,
     "metadata": {},
     "output_type": "execute_result"
    }
   ],
   "source": [
    "x_variables = data.columns[1:-1]\n",
    "x_variables"
   ]
  },
  {
   "cell_type": "raw",
   "metadata": {},
   "source": [
    "for i in x_variables:\n",
    "    print(i)"
   ]
  },
  {
   "cell_type": "raw",
   "metadata": {},
   "source": [
    "X = pd.merge(X, y, on='se', how='inner')"
   ]
  },
  {
   "cell_type": "code",
   "execution_count": 69,
   "metadata": {},
   "outputs": [],
   "source": [
    "y = data.iloc[:, -1:]"
   ]
  },
  {
   "cell_type": "code",
   "execution_count": 19,
   "metadata": {},
   "outputs": [],
   "source": [
    "X = data.iloc[:, 1:-1]"
   ]
  },
  {
   "cell_type": "code",
   "execution_count": 20,
   "metadata": {},
   "outputs": [
    {
     "data": {
      "text/html": [
       "<div>\n",
       "<style scoped>\n",
       "    .dataframe tbody tr th:only-of-type {\n",
       "        vertical-align: middle;\n",
       "    }\n",
       "\n",
       "    .dataframe tbody tr th {\n",
       "        vertical-align: top;\n",
       "    }\n",
       "\n",
       "    .dataframe thead th {\n",
       "        text-align: right;\n",
       "    }\n",
       "</style>\n",
       "<table border=\"1\" class=\"dataframe\">\n",
       "  <thead>\n",
       "    <tr style=\"text-align: right;\">\n",
       "      <th></th>\n",
       "      <th>nao</th>\n",
       "      <th>dengue:</th>\n",
       "      <th>vida</th>\n",
       "      <th>bem</th>\n",
       "      <th>dengue!</th>\n",
       "      <th>rio</th>\n",
       "      <th>parado</th>\n",
       "      <th>foco</th>\n",
       "      <th>caso</th>\n",
       "      <th>gente</th>\n",
       "      <th>...</th>\n",
       "      <th>todos</th>\n",
       "      <th>estado</th>\n",
       "      <th>cidade</th>\n",
       "      <th>virar</th>\n",
       "      <th>combater</th>\n",
       "      <th>médico</th>\n",
       "      <th>epidemia</th>\n",
       "      <th>sabe</th>\n",
       "      <th>agua</th>\n",
       "      <th>tipo</th>\n",
       "    </tr>\n",
       "    <tr>\n",
       "      <th>se</th>\n",
       "      <th></th>\n",
       "      <th></th>\n",
       "      <th></th>\n",
       "      <th></th>\n",
       "      <th></th>\n",
       "      <th></th>\n",
       "      <th></th>\n",
       "      <th></th>\n",
       "      <th></th>\n",
       "      <th></th>\n",
       "      <th></th>\n",
       "      <th></th>\n",
       "      <th></th>\n",
       "      <th></th>\n",
       "      <th></th>\n",
       "      <th></th>\n",
       "      <th></th>\n",
       "      <th></th>\n",
       "      <th></th>\n",
       "      <th></th>\n",
       "      <th></th>\n",
       "    </tr>\n",
       "  </thead>\n",
       "  <tbody>\n",
       "    <tr>\n",
       "      <th>201047</th>\n",
       "      <td>130</td>\n",
       "      <td>211</td>\n",
       "      <td>41</td>\n",
       "      <td>514</td>\n",
       "      <td>426</td>\n",
       "      <td>1707</td>\n",
       "      <td>216</td>\n",
       "      <td>71</td>\n",
       "      <td>37</td>\n",
       "      <td>100</td>\n",
       "      <td>...</td>\n",
       "      <td>241</td>\n",
       "      <td>90</td>\n",
       "      <td>757</td>\n",
       "      <td>5</td>\n",
       "      <td>86</td>\n",
       "      <td>50</td>\n",
       "      <td>101</td>\n",
       "      <td>270</td>\n",
       "      <td>542</td>\n",
       "      <td>37</td>\n",
       "    </tr>\n",
       "    <tr>\n",
       "      <th>201048</th>\n",
       "      <td>33</td>\n",
       "      <td>48</td>\n",
       "      <td>12</td>\n",
       "      <td>80</td>\n",
       "      <td>73</td>\n",
       "      <td>86</td>\n",
       "      <td>74</td>\n",
       "      <td>35</td>\n",
       "      <td>17</td>\n",
       "      <td>28</td>\n",
       "      <td>...</td>\n",
       "      <td>30</td>\n",
       "      <td>7</td>\n",
       "      <td>17</td>\n",
       "      <td>2</td>\n",
       "      <td>31</td>\n",
       "      <td>14</td>\n",
       "      <td>18</td>\n",
       "      <td>38</td>\n",
       "      <td>77</td>\n",
       "      <td>12</td>\n",
       "    </tr>\n",
       "    <tr>\n",
       "      <th>201050</th>\n",
       "      <td>166</td>\n",
       "      <td>153</td>\n",
       "      <td>35</td>\n",
       "      <td>212</td>\n",
       "      <td>218</td>\n",
       "      <td>113</td>\n",
       "      <td>189</td>\n",
       "      <td>93</td>\n",
       "      <td>73</td>\n",
       "      <td>110</td>\n",
       "      <td>...</td>\n",
       "      <td>138</td>\n",
       "      <td>35</td>\n",
       "      <td>114</td>\n",
       "      <td>10</td>\n",
       "      <td>79</td>\n",
       "      <td>59</td>\n",
       "      <td>100</td>\n",
       "      <td>49</td>\n",
       "      <td>134</td>\n",
       "      <td>28</td>\n",
       "    </tr>\n",
       "    <tr>\n",
       "      <th>201051</th>\n",
       "      <td>78</td>\n",
       "      <td>113</td>\n",
       "      <td>300</td>\n",
       "      <td>102</td>\n",
       "      <td>135</td>\n",
       "      <td>81</td>\n",
       "      <td>101</td>\n",
       "      <td>84</td>\n",
       "      <td>39</td>\n",
       "      <td>1638</td>\n",
       "      <td>...</td>\n",
       "      <td>74</td>\n",
       "      <td>17</td>\n",
       "      <td>41</td>\n",
       "      <td>7</td>\n",
       "      <td>93</td>\n",
       "      <td>31</td>\n",
       "      <td>31</td>\n",
       "      <td>27</td>\n",
       "      <td>91</td>\n",
       "      <td>18</td>\n",
       "    </tr>\n",
       "    <tr>\n",
       "      <th>201101</th>\n",
       "      <td>441</td>\n",
       "      <td>522</td>\n",
       "      <td>232</td>\n",
       "      <td>542</td>\n",
       "      <td>887</td>\n",
       "      <td>681</td>\n",
       "      <td>469</td>\n",
       "      <td>456</td>\n",
       "      <td>389</td>\n",
       "      <td>640</td>\n",
       "      <td>...</td>\n",
       "      <td>291</td>\n",
       "      <td>332</td>\n",
       "      <td>530</td>\n",
       "      <td>89</td>\n",
       "      <td>277</td>\n",
       "      <td>281</td>\n",
       "      <td>191</td>\n",
       "      <td>283</td>\n",
       "      <td>264</td>\n",
       "      <td>136</td>\n",
       "    </tr>\n",
       "  </tbody>\n",
       "</table>\n",
       "<p>5 rows × 500 columns</p>\n",
       "</div>"
      ],
      "text/plain": [
       "        nao  dengue:  vida  bem  dengue!   rio  parado  foco  caso  gente  \\\n",
       "se                                                                          \n",
       "201047  130      211    41  514      426  1707     216    71    37    100   \n",
       "201048   33       48    12   80       73    86      74    35    17     28   \n",
       "201050  166      153    35  212      218   113     189    93    73    110   \n",
       "201051   78      113   300  102      135    81     101    84    39   1638   \n",
       "201101  441      522   232  542      887   681     469   456   389    640   \n",
       "\n",
       "        ...   todos  estado  cidade  virar  combater  médico  epidemia  sabe  \\\n",
       "se      ...                                                                    \n",
       "201047  ...     241      90     757      5        86      50       101   270   \n",
       "201048  ...      30       7      17      2        31      14        18    38   \n",
       "201050  ...     138      35     114     10        79      59       100    49   \n",
       "201051  ...      74      17      41      7        93      31        31    27   \n",
       "201101  ...     291     332     530     89       277     281       191   283   \n",
       "\n",
       "        agua  tipo  \n",
       "se                  \n",
       "201047   542    37  \n",
       "201048    77    12  \n",
       "201050   134    28  \n",
       "201051    91    18  \n",
       "201101   264   136  \n",
       "\n",
       "[5 rows x 500 columns]"
      ]
     },
     "execution_count": 20,
     "metadata": {},
     "output_type": "execute_result"
    }
   ],
   "source": [
    "X.head()"
   ]
  },
  {
   "cell_type": "code",
   "execution_count": 21,
   "metadata": {},
   "outputs": [
    {
     "data": {
      "text/html": [
       "<div>\n",
       "<style scoped>\n",
       "    .dataframe tbody tr th:only-of-type {\n",
       "        vertical-align: middle;\n",
       "    }\n",
       "\n",
       "    .dataframe tbody tr th {\n",
       "        vertical-align: top;\n",
       "    }\n",
       "\n",
       "    .dataframe thead th {\n",
       "        text-align: right;\n",
       "    }\n",
       "</style>\n",
       "<table border=\"1\" class=\"dataframe\">\n",
       "  <thead>\n",
       "    <tr style=\"text-align: right;\">\n",
       "      <th></th>\n",
       "      <th>y</th>\n",
       "    </tr>\n",
       "    <tr>\n",
       "      <th>se</th>\n",
       "      <th></th>\n",
       "    </tr>\n",
       "  </thead>\n",
       "  <tbody>\n",
       "    <tr>\n",
       "      <th>201047</th>\n",
       "      <td>74</td>\n",
       "    </tr>\n",
       "    <tr>\n",
       "      <th>201048</th>\n",
       "      <td>93</td>\n",
       "    </tr>\n",
       "    <tr>\n",
       "      <th>201050</th>\n",
       "      <td>195</td>\n",
       "    </tr>\n",
       "    <tr>\n",
       "      <th>201051</th>\n",
       "      <td>155</td>\n",
       "    </tr>\n",
       "    <tr>\n",
       "      <th>201101</th>\n",
       "      <td>212</td>\n",
       "    </tr>\n",
       "  </tbody>\n",
       "</table>\n",
       "</div>"
      ],
      "text/plain": [
       "          y\n",
       "se         \n",
       "201047   74\n",
       "201048   93\n",
       "201050  195\n",
       "201051  155\n",
       "201101  212"
      ]
     },
     "execution_count": 21,
     "metadata": {},
     "output_type": "execute_result"
    }
   ],
   "source": [
    "y.head()"
   ]
  },
  {
   "cell_type": "code",
   "execution_count": 22,
   "metadata": {},
   "outputs": [],
   "source": [
    "lasso = Lasso(alpha=10, normalize=True)"
   ]
  },
  {
   "cell_type": "markdown",
   "metadata": {},
   "source": [
    "### define variables"
   ]
  },
  {
   "cell_type": "code",
   "execution_count": 23,
   "metadata": {},
   "outputs": [],
   "source": [
    "def retrieve_lasso_alpha(X_, alpha_space):\n",
    "   # for X in Xs:\n",
    "    lasso_scores = []\n",
    "    lasso_scores_std = []\n",
    "    for alpha in alpha_space:\n",
    "    \n",
    "        # Specify the alpha value to use: lasso.alpha\n",
    "        lasso.alpha = alpha\n",
    "        \n",
    "        # Perform 5-fold CV: lasso_cv_scores\n",
    "        lasso_cv_scores = cross_val_score(lasso, X_, y, cv=5)\n",
    "        \n",
    "        # Append the mean of lasso_cv_scores to lasso_scores\n",
    "        lasso_scores.append(np.mean(lasso_cv_scores))\n",
    "        \n",
    "        # Append the std of lasso_cv_scores to lasso_scores_std\n",
    "        lasso_scores_std.append(np.std(lasso_cv_scores))\n",
    "    print(lasso_scores)\n",
    "    best_alpha = alpha_space[lasso_scores.index(max(lasso_scores))]\n",
    "    print(best_alpha)\n",
    "\n",
    "    return best_alpha"
   ]
  },
  {
   "cell_type": "code",
   "execution_count": 24,
   "metadata": {},
   "outputs": [],
   "source": [
    "def plot_lasso_coef(X, y, alpha):\n",
    "    lasso = Lasso(alpha=alpha, normalize=True)\n",
    "    \n",
    "    # Fit the regressor to the data\n",
    "    lasso.fit(X, y)\n",
    "    \n",
    "    # Compute and print the coefficients\n",
    "    lasso_coef = lasso.coef_ \n",
    "    #print('lasso coefficients: \\r\\n', lasso_coef)\n",
    "    \n",
    "    # Plot the coefficients\n",
    "    plt.figure(figsize=(16,5))\n",
    "    plt.plot(range(len(lasso_coef)), lasso_coef)\n",
    "    plt.xticks(rotation=60)\n",
    "    plt.xlabel(\"Variable\")\n",
    "    plt.ylabel(\"Lasso coefficient\")\n",
    "    plt.margins(0.02)\n",
    "    plt.show()\n",
    "    return lasso_coef"
   ]
  },
  {
   "cell_type": "code",
   "execution_count": 25,
   "metadata": {},
   "outputs": [],
   "source": [
    "def print_vars(coefs, threshold):\n",
    "    for coef in coefs:\n",
    "        if abs(coef) > threshold: print(x_variables[list(coefs).index(coef)])"
   ]
  },
  {
   "cell_type": "code",
   "execution_count": 26,
   "metadata": {},
   "outputs": [],
   "source": [
    "alpha_space = np.logspace(-4, 0, 10)\n",
    "alpha_space = np.append(alpha_space,[5,10, 25, 50])"
   ]
  },
  {
   "cell_type": "code",
   "execution_count": 27,
   "metadata": {},
   "outputs": [],
   "source": [
    "Xs = [data.iloc[:, 1:51], data.iloc[:, 1:-1]]"
   ]
  },
  {
   "cell_type": "markdown",
   "metadata": {},
   "source": [
    "### working with 500 features"
   ]
  },
  {
   "cell_type": "markdown",
   "metadata": {},
   "source": [
    "#### lassoIC (AIC)"
   ]
  },
  {
   "cell_type": "code",
   "execution_count": 291,
   "metadata": {},
   "outputs": [],
   "source": [
    "lassoic = LassoLarsIC(criterion='aic')"
   ]
  },
  {
   "cell_type": "code",
   "execution_count": 292,
   "metadata": {},
   "outputs": [],
   "source": [
    "def plot_lassoIC_coef(X, y):\n",
    "    lassoic = LassoLarsIC(criterion='aic')\n",
    "    \n",
    "    # Fit the regressor to the data\n",
    "    lassoic.fit(X, y)\n",
    "    \n",
    "    # Compute and print the coefficients\n",
    "    lasso_coef = lasso.coef_ \n",
    "    #print('lasso coefficients: \\r\\n', lasso_coef)\n",
    "    \n",
    "    # Plot the coefficients\n",
    "    plt.figure(figsize=(16,5))\n",
    "    plt.plot(range(len(lasso_coef)), lasso_coef)\n",
    "    plt.xticks(rotation=60)\n",
    "    plt.xlabel(\"Variable\")\n",
    "    plt.ylabel(\"Lasso coefficient\")\n",
    "    plt.margins(0.02)\n",
    "    plt.show()\n",
    "    return lasso_coef"
   ]
  },
  {
   "cell_type": "code",
   "execution_count": 293,
   "metadata": {},
   "outputs": [
    {
     "name": "stderr",
     "output_type": "stream",
     "text": [
      "D:\\Users\\Marcelo\\Anaconda3\\lib\\site-packages\\sklearn\\utils\\validation.py:761: DataConversionWarning: A column-vector y was passed when a 1d array was expected. Please change the shape of y to (n_samples, ), for example using ravel().\n",
      "  y = column_or_1d(y, warn=True)\n"
     ]
    },
    {
     "data": {
      "text/plain": [
       "LassoLarsIC(copy_X=True, criterion='aic', eps=2.220446049250313e-16,\n",
       "      fit_intercept=True, max_iter=500, normalize=True, positive=False,\n",
       "      precompute='auto', verbose=False)"
      ]
     },
     "execution_count": 293,
     "metadata": {},
     "output_type": "execute_result"
    }
   ],
   "source": [
    "lassoic = LassoLarsIC()\n",
    "lassoic.fit(X, y)"
   ]
  },
  {
   "cell_type": "code",
   "execution_count": 294,
   "metadata": {},
   "outputs": [
    {
     "data": {
      "text/plain": [
       "0.28753851724909407"
      ]
     },
     "execution_count": 294,
     "metadata": {},
     "output_type": "execute_result"
    }
   ],
   "source": [
    "lassoic.score(X,y)"
   ]
  },
  {
   "cell_type": "code",
   "execution_count": 282,
   "metadata": {},
   "outputs": [
    {
     "name": "stdout",
     "output_type": "stream",
     "text": [
      "alpha using LassoLarsIC is: 176.25895643390677\n"
     ]
    }
   ],
   "source": [
    "print('alpha using LassoLarsIC is:', lassoic.alpha_)"
   ]
  },
  {
   "cell_type": "code",
   "execution_count": 283,
   "metadata": {
    "scrolled": false
   },
   "outputs": [
    {
     "name": "stderr",
     "output_type": "stream",
     "text": [
      "D:\\Users\\Marcelo\\Anaconda3\\lib\\site-packages\\sklearn\\utils\\validation.py:761: DataConversionWarning: A column-vector y was passed when a 1d array was expected. Please change the shape of y to (n_samples, ), for example using ravel().\n",
      "  y = column_or_1d(y, warn=True)\n"
     ]
    },
    {
     "data": {
      "image/png": "[encoded data removed]",
      "text/plain": [
       "<Figure size 1152x360 with 1 Axes>"
      ]
     },
     "metadata": {
      "needs_background": "light"
     },
     "output_type": "display_data"
    }
   ],
   "source": [
    "lasso_coef_IC = plot_lassoIC_coef(X,y)"
   ]
  },
  {
   "cell_type": "markdown",
   "metadata": {},
   "source": [
    "#### lassoIC (BIC)"
   ]
  },
  {
   "cell_type": "code",
   "execution_count": 82,
   "metadata": {},
   "outputs": [],
   "source": [
    "lassoic = LassoLarsIC(criterion='bic')"
   ]
  },
  {
   "cell_type": "code",
   "execution_count": 83,
   "metadata": {},
   "outputs": [],
   "source": [
    "def plot_lassoIC_coef(X, y):\n",
    "    lassoic = LassoLarsIC(criterion='bic')\n",
    "    \n",
    "    # Fit the regressor to the data\n",
    "    lassoic.fit(X, y)\n",
    "    \n",
    "    # Compute and print the coefficients\n",
    "    lasso_coef = lasso.coef_ \n",
    "    #print('lasso coefficients: \\r\\n', lasso_coef)\n",
    "    \n",
    "    # Plot the coefficients\n",
    "    plt.figure(figsize=(16,5))\n",
    "    plt.plot(range(len(lasso_coef)), lasso_coef)\n",
    "    plt.xticks(rotation=60)\n",
    "    plt.xlabel(\"Variable\")\n",
    "    plt.ylabel(\"Lasso coefficient\")\n",
    "    plt.margins(0.02)\n",
    "    plt.show()\n",
    "    return lasso_coef"
   ]
  },
  {
   "cell_type": "code",
   "execution_count": 84,
   "metadata": {},
   "outputs": [
    {
     "name": "stderr",
     "output_type": "stream",
     "text": [
      "D:\\Users\\Marcelo\\Anaconda3\\lib\\site-packages\\sklearn\\utils\\validation.py:761: DataConversionWarning: A column-vector y was passed when a 1d array was expected. Please change the shape of y to (n_samples, ), for example using ravel().\n",
      "  y = column_or_1d(y, warn=True)\n"
     ]
    },
    {
     "data": {
      "text/plain": [
       "LassoLarsIC(copy_X=True, criterion='aic', eps=2.220446049250313e-16,\n",
       "      fit_intercept=True, max_iter=500, normalize=True, positive=False,\n",
       "      precompute='auto', verbose=False)"
      ]
     },
     "execution_count": 84,
     "metadata": {},
     "output_type": "execute_result"
    }
   ],
   "source": [
    "lassoic = LassoLarsIC()\n",
    "lassoic.fit(X, y)"
   ]
  },
  {
   "cell_type": "code",
   "execution_count": 85,
   "metadata": {},
   "outputs": [
    {
     "data": {
      "text/plain": [
       "0.28753851724909407"
      ]
     },
     "execution_count": 85,
     "metadata": {},
     "output_type": "execute_result"
    }
   ],
   "source": [
    "lassoic.score(X,y)"
   ]
  },
  {
   "cell_type": "code",
   "execution_count": 95,
   "metadata": {},
   "outputs": [
    {
     "name": "stdout",
     "output_type": "stream",
     "text": [
      "alpha using LassoLarsIC is: 176.25895643390677\n"
     ]
    }
   ],
   "source": [
    "print('alpha using LassoLarsIC is:', lassoic.alpha_)"
   ]
  },
  {
   "cell_type": "code",
   "execution_count": 87,
   "metadata": {
    "scrolled": false
   },
   "outputs": [
    {
     "name": "stderr",
     "output_type": "stream",
     "text": [
      "D:\\Users\\Marcelo\\Anaconda3\\lib\\site-packages\\sklearn\\utils\\validation.py:761: DataConversionWarning: A column-vector y was passed when a 1d array was expected. Please change the shape of y to (n_samples, ), for example using ravel().\n",
      "  y = column_or_1d(y, warn=True)\n"
     ]
    },
    {
     "data": {
      "image/png": "[encoded data removed]",
      "text/plain": [
       "<Figure size 1152x360 with 1 Axes>"
      ]
     },
     "metadata": {
      "needs_background": "light"
     },
     "output_type": "display_data"
    }
   ],
   "source": [
    "lasso_coef_IC = plot_lassoIC_coef(X,y)"
   ]
  },
  {
   "cell_type": "code",
   "execution_count": 88,
   "metadata": {},
   "outputs": [
    {
     "name": "stdout",
     "output_type": "stream",
     "text": [
      ":d\n",
      "mesmo\n",
      "sp\n",
      "paulo\n",
      "sempre\n",
      "natal\n",
      "exame\n"
     ]
    }
   ],
   "source": [
    "print_vars(lasso_coef_IC, 0.8)"
   ]
  },
  {
   "cell_type": "markdown",
   "metadata": {},
   "source": [
    "#### Plot information criteria"
   ]
  },
  {
   "cell_type": "code",
   "execution_count": 70,
   "metadata": {},
   "outputs": [],
   "source": [
    "X = data.iloc[:, 1:-1]\n",
    "X = remove_vars(X, lasso_coef, 1)"
   ]
  },
  {
   "cell_type": "code",
   "execution_count": 100,
   "metadata": {},
   "outputs": [
    {
     "data": {
      "text/plain": [
       "1.0"
      ]
     },
     "execution_count": 100,
     "metadata": {},
     "output_type": "execute_result"
    }
   ],
   "source": [
    "-np.log10(0.1)"
   ]
  },
  {
   "cell_type": "code",
   "execution_count": 104,
   "metadata": {},
   "outputs": [
    {
     "data": {
      "text/plain": [
       "array([ 43.        ,  43.9457133 ,  38.97565077,  40.20089184,\n",
       "        40.86614714,  41.128114  ,  40.45555578,  41.77027357,\n",
       "        43.451452  ,  44.20991975,  47.7231728 ,  50.08577015,\n",
       "        52.6490178 ,  55.09134005,  57.15053853,  58.57599551,\n",
       "        58.54335374,  56.43962768,  54.37757196,  54.195117  ,\n",
       "        55.74569362,  57.33378899,  58.17110142,  57.95293634,\n",
       "        57.76979655,  59.77615456,  61.77445429,  64.04468577,\n",
       "        66.43020866,  68.99238213,  71.66385434,  73.84129471,\n",
       "        73.87452559,  73.61913087,  72.05790494,  69.21952021,\n",
       "        71.08403268,  71.07355995,  70.86466892,  72.64488271,\n",
       "        74.59562074,  76.56952446,  78.49892663,  78.49805449,\n",
       "        78.50280811,  80.60003676,  82.62613342,  82.79963876,\n",
       "        80.83118686,  80.86157086,  82.88883329,  84.91542897,\n",
       "        87.23892975,  89.24622097,  91.31703619,  93.56369559,\n",
       "        95.60956036,  93.85130475,  95.99913546,  98.16761335,\n",
       "       100.18987435, 100.33712525, 100.37214694, 100.56963952,\n",
       "       100.6528402 , 100.74423298, 100.82969682, 103.00556619,\n",
       "       105.35041254, 107.39063896, 109.3885136 , 107.36307583,\n",
       "       107.22348998, 106.76957329, 107.44097998, 107.41413116,\n",
       "       107.18569664, 107.17790105, 106.11511584, 106.03173003,\n",
       "       105.53625971, 105.53314723, 105.53643599, 105.54045669,\n",
       "       107.65306622])"
      ]
     },
     "execution_count": 104,
     "metadata": {},
     "output_type": "execute_result"
    }
   ],
   "source": [
    "lassoic.criterion_"
   ]
  },
  {
   "cell_type": "code",
   "execution_count": 98,
   "metadata": {},
   "outputs": [
    {
     "name": "stdout",
     "output_type": "stream",
     "text": [
      "Automatically created module for IPython interactive environment\n",
      "Computing regularization path using the coordinate descent lasso...\n"
     ]
    },
    {
     "name": "stderr",
     "output_type": "stream",
     "text": [
      "D:\\Users\\Marcelo\\Anaconda3\\lib\\site-packages\\sklearn\\utils\\validation.py:761: DataConversionWarning: A column-vector y was passed when a 1d array was expected. Please change the shape of y to (n_samples, ), for example using ravel().\n",
      "  y = column_or_1d(y, warn=True)\n",
      "D:\\Users\\Marcelo\\Anaconda3\\lib\\site-packages\\sklearn\\linear_model\\least_angle.py:311: ConvergenceWarning: Regressors in active set degenerate. Dropping a regressor, after 51 iterations, i.e. alpha=7.786e+00, with an active set of 31 regressors, and the smallest cholesky pivot element being 2.107e-08. Reduce max_iter or increase eps parameters.\n",
      "  ConvergenceWarning)\n",
      "D:\\Users\\Marcelo\\Anaconda3\\lib\\site-packages\\sklearn\\linear_model\\least_angle.py:311: ConvergenceWarning: Regressors in active set degenerate. Dropping a regressor, after 51 iterations, i.e. alpha=7.786e+00, with an active set of 31 regressors, and the smallest cholesky pivot element being 1.490e-08. Reduce max_iter or increase eps parameters.\n",
      "  ConvergenceWarning)\n",
      "D:\\Users\\Marcelo\\Anaconda3\\lib\\site-packages\\sklearn\\linear_model\\least_angle.py:311: ConvergenceWarning: Regressors in active set degenerate. Dropping a regressor, after 62 iterations, i.e. alpha=3.893e+00, with an active set of 38 regressors, and the smallest cholesky pivot element being 2.107e-08. Reduce max_iter or increase eps parameters.\n",
      "  ConvergenceWarning)\n",
      "D:\\Users\\Marcelo\\Anaconda3\\lib\\site-packages\\sklearn\\linear_model\\least_angle.py:311: ConvergenceWarning: Regressors in active set degenerate. Dropping a regressor, after 62 iterations, i.e. alpha=3.893e+00, with an active set of 38 regressors, and the smallest cholesky pivot element being 2.107e-08. Reduce max_iter or increase eps parameters.\n",
      "  ConvergenceWarning)\n",
      "D:\\Users\\Marcelo\\Anaconda3\\lib\\site-packages\\sklearn\\linear_model\\least_angle.py:311: ConvergenceWarning: Regressors in active set degenerate. Dropping a regressor, after 62 iterations, i.e. alpha=3.893e+00, with an active set of 38 regressors, and the smallest cholesky pivot element being 2.356e-08. Reduce max_iter or increase eps parameters.\n",
      "  ConvergenceWarning)\n",
      "D:\\Users\\Marcelo\\Anaconda3\\lib\\site-packages\\sklearn\\linear_model\\least_angle.py:311: ConvergenceWarning: Regressors in active set degenerate. Dropping a regressor, after 62 iterations, i.e. alpha=3.893e+00, with an active set of 38 regressors, and the smallest cholesky pivot element being 2.107e-08. Reduce max_iter or increase eps parameters.\n",
      "  ConvergenceWarning)\n",
      "D:\\Users\\Marcelo\\Anaconda3\\lib\\site-packages\\sklearn\\linear_model\\least_angle.py:311: ConvergenceWarning: Regressors in active set degenerate. Dropping a regressor, after 62 iterations, i.e. alpha=3.893e+00, with an active set of 38 regressors, and the smallest cholesky pivot element being 2.107e-08. Reduce max_iter or increase eps parameters.\n",
      "  ConvergenceWarning)\n",
      "D:\\Users\\Marcelo\\Anaconda3\\lib\\site-packages\\sklearn\\linear_model\\least_angle.py:311: ConvergenceWarning: Regressors in active set degenerate. Dropping a regressor, after 110 iterations, i.e. alpha=2.297e+00, with an active set of 42 regressors, and the smallest cholesky pivot element being 2.788e-08. Reduce max_iter or increase eps parameters.\n",
      "  ConvergenceWarning)\n",
      "D:\\Users\\Marcelo\\Anaconda3\\lib\\site-packages\\sklearn\\linear_model\\least_angle.py:311: ConvergenceWarning: Regressors in active set degenerate. Dropping a regressor, after 110 iterations, i.e. alpha=2.297e+00, with an active set of 42 regressors, and the smallest cholesky pivot element being 1.490e-08. Reduce max_iter or increase eps parameters.\n",
      "  ConvergenceWarning)\n",
      "D:\\Users\\Marcelo\\Anaconda3\\lib\\site-packages\\sklearn\\linear_model\\least_angle.py:311: ConvergenceWarning: Regressors in active set degenerate. Dropping a regressor, after 110 iterations, i.e. alpha=2.297e+00, with an active set of 42 regressors, and the smallest cholesky pivot element being 1.490e-08. Reduce max_iter or increase eps parameters.\n",
      "  ConvergenceWarning)\n",
      "D:\\Users\\Marcelo\\Anaconda3\\lib\\site-packages\\sklearn\\linear_model\\least_angle.py:311: ConvergenceWarning: Regressors in active set degenerate. Dropping a regressor, after 110 iterations, i.e. alpha=2.280e+00, with an active set of 42 regressors, and the smallest cholesky pivot element being 4.470e-08. Reduce max_iter or increase eps parameters.\n",
      "  ConvergenceWarning)\n",
      "D:\\Users\\Marcelo\\Anaconda3\\lib\\site-packages\\sklearn\\linear_model\\least_angle.py:337: ConvergenceWarning: Early stopping the lars path, as the residues are small and the current value of alpha is no longer well controlled. 111 iterations, alpha=2.297e+00, previous alpha=2.274e+00, with an active set of 42 regressors.\n",
      "  ConvergenceWarning)\n",
      "D:\\Users\\Marcelo\\Anaconda3\\lib\\site-packages\\sklearn\\utils\\validation.py:761: DataConversionWarning: A column-vector y was passed when a 1d array was expected. Please change the shape of y to (n_samples, ), for example using ravel().\n",
      "  y = column_or_1d(y, warn=True)\n",
      "D:\\Users\\Marcelo\\Anaconda3\\lib\\site-packages\\sklearn\\linear_model\\least_angle.py:311: ConvergenceWarning: Regressors in active set degenerate. Dropping a regressor, after 51 iterations, i.e. alpha=7.786e+00, with an active set of 31 regressors, and the smallest cholesky pivot element being 2.107e-08. Reduce max_iter or increase eps parameters.\n",
      "  ConvergenceWarning)\n",
      "D:\\Users\\Marcelo\\Anaconda3\\lib\\site-packages\\sklearn\\linear_model\\least_angle.py:311: ConvergenceWarning: Regressors in active set degenerate. Dropping a regressor, after 51 iterations, i.e. alpha=7.786e+00, with an active set of 31 regressors, and the smallest cholesky pivot element being 1.490e-08. Reduce max_iter or increase eps parameters.\n",
      "  ConvergenceWarning)\n",
      "D:\\Users\\Marcelo\\Anaconda3\\lib\\site-packages\\sklearn\\linear_model\\least_angle.py:311: ConvergenceWarning: Regressors in active set degenerate. Dropping a regressor, after 62 iterations, i.e. alpha=3.893e+00, with an active set of 38 regressors, and the smallest cholesky pivot element being 2.107e-08. Reduce max_iter or increase eps parameters.\n",
      "  ConvergenceWarning)\n",
      "D:\\Users\\Marcelo\\Anaconda3\\lib\\site-packages\\sklearn\\linear_model\\least_angle.py:311: ConvergenceWarning: Regressors in active set degenerate. Dropping a regressor, after 62 iterations, i.e. alpha=3.893e+00, with an active set of 38 regressors, and the smallest cholesky pivot element being 2.107e-08. Reduce max_iter or increase eps parameters.\n",
      "  ConvergenceWarning)\n",
      "D:\\Users\\Marcelo\\Anaconda3\\lib\\site-packages\\sklearn\\linear_model\\least_angle.py:311: ConvergenceWarning: Regressors in active set degenerate. Dropping a regressor, after 62 iterations, i.e. alpha=3.893e+00, with an active set of 38 regressors, and the smallest cholesky pivot element being 2.356e-08. Reduce max_iter or increase eps parameters.\n",
      "  ConvergenceWarning)\n",
      "D:\\Users\\Marcelo\\Anaconda3\\lib\\site-packages\\sklearn\\linear_model\\least_angle.py:311: ConvergenceWarning: Regressors in active set degenerate. Dropping a regressor, after 62 iterations, i.e. alpha=3.893e+00, with an active set of 38 regressors, and the smallest cholesky pivot element being 2.107e-08. Reduce max_iter or increase eps parameters.\n",
      "  ConvergenceWarning)\n",
      "D:\\Users\\Marcelo\\Anaconda3\\lib\\site-packages\\sklearn\\linear_model\\least_angle.py:311: ConvergenceWarning: Regressors in active set degenerate. Dropping a regressor, after 62 iterations, i.e. alpha=3.893e+00, with an active set of 38 regressors, and the smallest cholesky pivot element being 2.107e-08. Reduce max_iter or increase eps parameters.\n",
      "  ConvergenceWarning)\n",
      "D:\\Users\\Marcelo\\Anaconda3\\lib\\site-packages\\sklearn\\linear_model\\least_angle.py:311: ConvergenceWarning: Regressors in active set degenerate. Dropping a regressor, after 110 iterations, i.e. alpha=2.297e+00, with an active set of 42 regressors, and the smallest cholesky pivot element being 2.788e-08. Reduce max_iter or increase eps parameters.\n",
      "  ConvergenceWarning)\n",
      "D:\\Users\\Marcelo\\Anaconda3\\lib\\site-packages\\sklearn\\linear_model\\least_angle.py:311: ConvergenceWarning: Regressors in active set degenerate. Dropping a regressor, after 110 iterations, i.e. alpha=2.297e+00, with an active set of 42 regressors, and the smallest cholesky pivot element being 1.490e-08. Reduce max_iter or increase eps parameters.\n",
      "  ConvergenceWarning)\n",
      "D:\\Users\\Marcelo\\Anaconda3\\lib\\site-packages\\sklearn\\linear_model\\least_angle.py:311: ConvergenceWarning: Regressors in active set degenerate. Dropping a regressor, after 110 iterations, i.e. alpha=2.297e+00, with an active set of 42 regressors, and the smallest cholesky pivot element being 1.490e-08. Reduce max_iter or increase eps parameters.\n",
      "  ConvergenceWarning)\n",
      "D:\\Users\\Marcelo\\Anaconda3\\lib\\site-packages\\sklearn\\linear_model\\least_angle.py:311: ConvergenceWarning: Regressors in active set degenerate. Dropping a regressor, after 110 iterations, i.e. alpha=2.280e+00, with an active set of 42 regressors, and the smallest cholesky pivot element being 4.470e-08. Reduce max_iter or increase eps parameters.\n",
      "  ConvergenceWarning)\n",
      "D:\\Users\\Marcelo\\Anaconda3\\lib\\site-packages\\sklearn\\linear_model\\least_angle.py:337: ConvergenceWarning: Early stopping the lars path, as the residues are small and the current value of alpha is no longer well controlled. 111 iterations, alpha=2.297e+00, previous alpha=2.274e+00, with an active set of 42 regressors.\n",
      "  ConvergenceWarning)\n",
      "D:\\Users\\Marcelo\\Anaconda3\\lib\\site-packages\\sklearn\\linear_model\\coordinate_descent.py:1109: DataConversionWarning: A column-vector y was passed when a 1d array was expected. Please change the shape of y to (n_samples, ), for example using ravel().\n",
      "  y = column_or_1d(y, warn=True)\n"
     ]
    },
    {
     "name": "stderr",
     "output_type": "stream",
     "text": [
      "D:\\Users\\Marcelo\\Anaconda3\\lib\\site-packages\\sklearn\\linear_model\\coordinate_descent.py:492: ConvergenceWarning: Objective did not converge. You might want to increase the number of iterations. Fitting data with very small alpha may cause precision problems.\n",
      "  ConvergenceWarning)\n",
      "D:\\Users\\Marcelo\\Anaconda3\\lib\\site-packages\\sklearn\\utils\\validation.py:761: DataConversionWarning: A column-vector y was passed when a 1d array was expected. Please change the shape of y to (n_samples, ), for example using ravel().\n",
      "  y = column_or_1d(y, warn=True)\n",
      "D:\\Users\\Marcelo\\Anaconda3\\lib\\site-packages\\sklearn\\linear_model\\least_angle.py:311: ConvergenceWarning: Regressors in active set degenerate. Dropping a regressor, after 46 iterations, i.e. alpha=9.001e+00, with an active set of 28 regressors, and the smallest cholesky pivot element being 2.356e-08. Reduce max_iter or increase eps parameters.\n",
      "  ConvergenceWarning)\n",
      "D:\\Users\\Marcelo\\Anaconda3\\lib\\site-packages\\sklearn\\linear_model\\least_angle.py:311: ConvergenceWarning: Regressors in active set degenerate. Dropping a regressor, after 93 iterations, i.e. alpha=4.044e+00, with an active set of 39 regressors, and the smallest cholesky pivot element being 7.885e-08. Reduce max_iter or increase eps parameters.\n",
      "  ConvergenceWarning)\n",
      "D:\\Users\\Marcelo\\Anaconda3\\lib\\site-packages\\sklearn\\linear_model\\least_angle.py:311: ConvergenceWarning: Regressors in active set degenerate. Dropping a regressor, after 93 iterations, i.e. alpha=4.044e+00, with an active set of 39 regressors, and the smallest cholesky pivot element being 1.490e-08. Reduce max_iter or increase eps parameters.\n",
      "  ConvergenceWarning)\n",
      "D:\\Users\\Marcelo\\Anaconda3\\lib\\site-packages\\sklearn\\linear_model\\least_angle.py:311: ConvergenceWarning: Regressors in active set degenerate. Dropping a regressor, after 93 iterations, i.e. alpha=4.044e+00, with an active set of 39 regressors, and the smallest cholesky pivot element being 1.490e-08. Reduce max_iter or increase eps parameters.\n",
      "  ConvergenceWarning)\n",
      "D:\\Users\\Marcelo\\Anaconda3\\lib\\site-packages\\sklearn\\linear_model\\least_angle.py:311: ConvergenceWarning: Regressors in active set degenerate. Dropping a regressor, after 93 iterations, i.e. alpha=4.044e+00, with an active set of 39 regressors, and the smallest cholesky pivot element being 2.107e-08. Reduce max_iter or increase eps parameters.\n",
      "  ConvergenceWarning)\n",
      "D:\\Users\\Marcelo\\Anaconda3\\lib\\site-packages\\sklearn\\linear_model\\least_angle.py:311: ConvergenceWarning: Regressors in active set degenerate. Dropping a regressor, after 93 iterations, i.e. alpha=4.017e+00, with an active set of 39 regressors, and the smallest cholesky pivot element being 5.960e-08. Reduce max_iter or increase eps parameters.\n",
      "  ConvergenceWarning)\n",
      "D:\\Users\\Marcelo\\Anaconda3\\lib\\site-packages\\sklearn\\linear_model\\least_angle.py:337: ConvergenceWarning: Early stopping the lars path, as the residues are small and the current value of alpha is no longer well controlled. 94 iterations, alpha=4.044e+00, previous alpha=4.014e+00, with an active set of 39 regressors.\n",
      "  ConvergenceWarning)\n",
      "D:\\Users\\Marcelo\\Anaconda3\\lib\\site-packages\\sklearn\\linear_model\\least_angle.py:311: ConvergenceWarning: Regressors in active set degenerate. Dropping a regressor, after 66 iterations, i.e. alpha=1.609e+00, with an active set of 38 regressors, and the smallest cholesky pivot element being 2.107e-08. Reduce max_iter or increase eps parameters.\n",
      "  ConvergenceWarning)\n",
      "D:\\Users\\Marcelo\\Anaconda3\\lib\\site-packages\\sklearn\\linear_model\\least_angle.py:311: ConvergenceWarning: Regressors in active set degenerate. Dropping a regressor, after 66 iterations, i.e. alpha=1.609e+00, with an active set of 38 regressors, and the smallest cholesky pivot element being 2.107e-08. Reduce max_iter or increase eps parameters.\n",
      "  ConvergenceWarning)\n",
      "D:\\Users\\Marcelo\\Anaconda3\\lib\\site-packages\\sklearn\\linear_model\\least_angle.py:311: ConvergenceWarning: Regressors in active set degenerate. Dropping a regressor, after 71 iterations, i.e. alpha=8.548e-01, with an active set of 37 regressors, and the smallest cholesky pivot element being 2.107e-08. Reduce max_iter or increase eps parameters.\n",
      "  ConvergenceWarning)\n",
      "D:\\Users\\Marcelo\\Anaconda3\\lib\\site-packages\\sklearn\\linear_model\\least_angle.py:311: ConvergenceWarning: Regressors in active set degenerate. Dropping a regressor, after 72 iterations, i.e. alpha=8.425e-01, with an active set of 38 regressors, and the smallest cholesky pivot element being 2.107e-08. Reduce max_iter or increase eps parameters.\n",
      "  ConvergenceWarning)\n",
      "D:\\Users\\Marcelo\\Anaconda3\\lib\\site-packages\\sklearn\\linear_model\\least_angle.py:337: ConvergenceWarning: Early stopping the lars path, as the residues are small and the current value of alpha is no longer well controlled. 73 iterations, alpha=8.412e-01, previous alpha=8.398e-01, with an active set of 38 regressors.\n",
      "  ConvergenceWarning)\n",
      "D:\\Users\\Marcelo\\Anaconda3\\lib\\site-packages\\sklearn\\linear_model\\least_angle.py:311: ConvergenceWarning: Regressors in active set degenerate. Dropping a regressor, after 21 iterations, i.e. alpha=3.478e+01, with an active set of 19 regressors, and the smallest cholesky pivot element being 2.220e-16. Reduce max_iter or increase eps parameters.\n",
      "  ConvergenceWarning)\n",
      "D:\\Users\\Marcelo\\Anaconda3\\lib\\site-packages\\sklearn\\linear_model\\least_angle.py:311: ConvergenceWarning: Regressors in active set degenerate. Dropping a regressor, after 67 iterations, i.e. alpha=1.167e+01, with an active set of 33 regressors, and the smallest cholesky pivot element being 2.980e-08. Reduce max_iter or increase eps parameters.\n",
      "  ConvergenceWarning)\n",
      "D:\\Users\\Marcelo\\Anaconda3\\lib\\site-packages\\sklearn\\linear_model\\least_angle.py:311: ConvergenceWarning: Regressors in active set degenerate. Dropping a regressor, after 112 iterations, i.e. alpha=1.012e+01, with an active set of 34 regressors, and the smallest cholesky pivot element being 2.107e-08. Reduce max_iter or increase eps parameters.\n",
      "  ConvergenceWarning)\n",
      "D:\\Users\\Marcelo\\Anaconda3\\lib\\site-packages\\sklearn\\linear_model\\least_angle.py:311: ConvergenceWarning: Regressors in active set degenerate. Dropping a regressor, after 112 iterations, i.e. alpha=1.012e+01, with an active set of 34 regressors, and the smallest cholesky pivot element being 2.107e-08. Reduce max_iter or increase eps parameters.\n",
      "  ConvergenceWarning)\n",
      "D:\\Users\\Marcelo\\Anaconda3\\lib\\site-packages\\sklearn\\linear_model\\least_angle.py:311: ConvergenceWarning: Regressors in active set degenerate. Dropping a regressor, after 112 iterations, i.e. alpha=1.012e+01, with an active set of 34 regressors, and the smallest cholesky pivot element being 2.980e-08. Reduce max_iter or increase eps parameters.\n",
      "  ConvergenceWarning)\n",
      "D:\\Users\\Marcelo\\Anaconda3\\lib\\site-packages\\sklearn\\linear_model\\least_angle.py:311: ConvergenceWarning: Regressors in active set degenerate. Dropping a regressor, after 112 iterations, i.e. alpha=1.012e+01, with an active set of 34 regressors, and the smallest cholesky pivot element being 2.107e-08. Reduce max_iter or increase eps parameters.\n",
      "  ConvergenceWarning)\n",
      "D:\\Users\\Marcelo\\Anaconda3\\lib\\site-packages\\sklearn\\linear_model\\least_angle.py:311: ConvergenceWarning: Regressors in active set degenerate. Dropping a regressor, after 112 iterations, i.e. alpha=1.012e+01, with an active set of 34 regressors, and the smallest cholesky pivot element being 2.107e-08. Reduce max_iter or increase eps parameters.\n",
      "  ConvergenceWarning)\n",
      "D:\\Users\\Marcelo\\Anaconda3\\lib\\site-packages\\sklearn\\linear_model\\least_angle.py:311: ConvergenceWarning: Regressors in active set degenerate. Dropping a regressor, after 112 iterations, i.e. alpha=1.012e+01, with an active set of 34 regressors, and the smallest cholesky pivot element being 2.581e-08. Reduce max_iter or increase eps parameters.\n",
      "  ConvergenceWarning)\n",
      "D:\\Users\\Marcelo\\Anaconda3\\lib\\site-packages\\sklearn\\linear_model\\least_angle.py:311: ConvergenceWarning: Regressors in active set degenerate. Dropping a regressor, after 112 iterations, i.e. alpha=1.012e+01, with an active set of 34 regressors, and the smallest cholesky pivot element being 2.581e-08. Reduce max_iter or increase eps parameters.\n",
      "  ConvergenceWarning)\n",
      "D:\\Users\\Marcelo\\Anaconda3\\lib\\site-packages\\sklearn\\linear_model\\least_angle.py:311: ConvergenceWarning: Regressors in active set degenerate. Dropping a regressor, after 112 iterations, i.e. alpha=1.012e+01, with an active set of 34 regressors, and the smallest cholesky pivot element being 2.220e-16. Reduce max_iter or increase eps parameters.\n",
      "  ConvergenceWarning)\n",
      "D:\\Users\\Marcelo\\Anaconda3\\lib\\site-packages\\sklearn\\linear_model\\least_angle.py:311: ConvergenceWarning: Regressors in active set degenerate. Dropping a regressor, after 112 iterations, i.e. alpha=1.012e+01, with an active set of 34 regressors, and the smallest cholesky pivot element being 2.220e-16. Reduce max_iter or increase eps parameters.\n",
      "  ConvergenceWarning)\n",
      "D:\\Users\\Marcelo\\Anaconda3\\lib\\site-packages\\sklearn\\linear_model\\least_angle.py:311: ConvergenceWarning: Regressors in active set degenerate. Dropping a regressor, after 136 iterations, i.e. alpha=9.839e+00, with an active set of 34 regressors, and the smallest cholesky pivot element being 2.107e-08. Reduce max_iter or increase eps parameters.\n",
      "  ConvergenceWarning)\n",
      "D:\\Users\\Marcelo\\Anaconda3\\lib\\site-packages\\sklearn\\linear_model\\least_angle.py:311: ConvergenceWarning: Regressors in active set degenerate. Dropping a regressor, after 139 iterations, i.e. alpha=9.724e+00, with an active set of 35 regressors, and the smallest cholesky pivot element being 2.980e-08. Reduce max_iter or increase eps parameters.\n",
      "  ConvergenceWarning)\n",
      "D:\\Users\\Marcelo\\Anaconda3\\lib\\site-packages\\sklearn\\linear_model\\least_angle.py:311: ConvergenceWarning: Regressors in active set degenerate. Dropping a regressor, after 153 iterations, i.e. alpha=9.500e+00, with an active set of 33 regressors, and the smallest cholesky pivot element being 1.490e-08. Reduce max_iter or increase eps parameters.\n",
      "  ConvergenceWarning)\n",
      "D:\\Users\\Marcelo\\Anaconda3\\lib\\site-packages\\sklearn\\linear_model\\least_angle.py:311: ConvergenceWarning: Regressors in active set degenerate. Dropping a regressor, after 153 iterations, i.e. alpha=9.500e+00, with an active set of 33 regressors, and the smallest cholesky pivot element being 3.650e-08. Reduce max_iter or increase eps parameters.\n",
      "  ConvergenceWarning)\n",
      "D:\\Users\\Marcelo\\Anaconda3\\lib\\site-packages\\sklearn\\linear_model\\least_angle.py:311: ConvergenceWarning: Regressors in active set degenerate. Dropping a regressor, after 153 iterations, i.e. alpha=9.500e+00, with an active set of 33 regressors, and the smallest cholesky pivot element being 3.650e-08. Reduce max_iter or increase eps parameters.\n",
      "  ConvergenceWarning)\n",
      "D:\\Users\\Marcelo\\Anaconda3\\lib\\site-packages\\sklearn\\linear_model\\least_angle.py:311: ConvergenceWarning: Regressors in active set degenerate. Dropping a regressor, after 153 iterations, i.e. alpha=9.361e+00, with an active set of 33 regressors, and the smallest cholesky pivot element being 3.650e-08. Reduce max_iter or increase eps parameters.\n",
      "  ConvergenceWarning)\n",
      "D:\\Users\\Marcelo\\Anaconda3\\lib\\site-packages\\sklearn\\linear_model\\least_angle.py:337: ConvergenceWarning: Early stopping the lars path, as the residues are small and the current value of alpha is no longer well controlled. 161 iterations, alpha=9.411e+00, previous alpha=9.235e+00, with an active set of 36 regressors.\n",
      "  ConvergenceWarning)\n",
      "D:\\Users\\Marcelo\\Anaconda3\\lib\\site-packages\\sklearn\\linear_model\\least_angle.py:311: ConvergenceWarning: Regressors in active set degenerate. Dropping a regressor, after 30 iterations, i.e. alpha=2.438e+01, with an active set of 22 regressors, and the smallest cholesky pivot element being 3.332e-08. Reduce max_iter or increase eps parameters.\n",
      "  ConvergenceWarning)\n",
      "D:\\Users\\Marcelo\\Anaconda3\\lib\\site-packages\\sklearn\\linear_model\\least_angle.py:311: ConvergenceWarning: Regressors in active set degenerate. Dropping a regressor, after 30 iterations, i.e. alpha=2.438e+01, with an active set of 22 regressors, and the smallest cholesky pivot element being 3.332e-08. Reduce max_iter or increase eps parameters.\n",
      "  ConvergenceWarning)\n",
      "D:\\Users\\Marcelo\\Anaconda3\\lib\\site-packages\\sklearn\\linear_model\\least_angle.py:311: ConvergenceWarning: Regressors in active set degenerate. Dropping a regressor, after 35 iterations, i.e. alpha=2.036e+01, with an active set of 25 regressors, and the smallest cholesky pivot element being 2.107e-08. Reduce max_iter or increase eps parameters.\n",
      "  ConvergenceWarning)\n",
      "D:\\Users\\Marcelo\\Anaconda3\\lib\\site-packages\\sklearn\\linear_model\\least_angle.py:311: ConvergenceWarning: Regressors in active set degenerate. Dropping a regressor, after 35 iterations, i.e. alpha=2.036e+01, with an active set of 25 regressors, and the smallest cholesky pivot element being 1.490e-08. Reduce max_iter or increase eps parameters.\n",
      "  ConvergenceWarning)\n",
      "D:\\Users\\Marcelo\\Anaconda3\\lib\\site-packages\\sklearn\\linear_model\\least_angle.py:311: ConvergenceWarning: Regressors in active set degenerate. Dropping a regressor, after 35 iterations, i.e. alpha=2.036e+01, with an active set of 25 regressors, and the smallest cholesky pivot element being 1.054e-08. Reduce max_iter or increase eps parameters.\n",
      "  ConvergenceWarning)\n",
      "D:\\Users\\Marcelo\\Anaconda3\\lib\\site-packages\\sklearn\\linear_model\\least_angle.py:311: ConvergenceWarning: Regressors in active set degenerate. Dropping a regressor, after 48 iterations, i.e. alpha=1.219e+01, with an active set of 28 regressors, and the smallest cholesky pivot element being 2.980e-08. Reduce max_iter or increase eps parameters.\n",
      "  ConvergenceWarning)\n",
      "D:\\Users\\Marcelo\\Anaconda3\\lib\\site-packages\\sklearn\\linear_model\\least_angle.py:311: ConvergenceWarning: Regressors in active set degenerate. Dropping a regressor, after 56 iterations, i.e. alpha=1.015e+01, with an active set of 32 regressors, and the smallest cholesky pivot element being 1.490e-08. Reduce max_iter or increase eps parameters.\n",
      "  ConvergenceWarning)\n",
      "D:\\Users\\Marcelo\\Anaconda3\\lib\\site-packages\\sklearn\\linear_model\\least_angle.py:311: ConvergenceWarning: Regressors in active set degenerate. Dropping a regressor, after 56 iterations, i.e. alpha=1.015e+01, with an active set of 32 regressors, and the smallest cholesky pivot element being 1.054e-08. Reduce max_iter or increase eps parameters.\n",
      "  ConvergenceWarning)\n",
      "D:\\Users\\Marcelo\\Anaconda3\\lib\\site-packages\\sklearn\\linear_model\\least_angle.py:311: ConvergenceWarning: Regressors in active set degenerate. Dropping a regressor, after 56 iterations, i.e. alpha=1.015e+01, with an active set of 32 regressors, and the smallest cholesky pivot element being 1.054e-08. Reduce max_iter or increase eps parameters.\n",
      "  ConvergenceWarning)\n",
      "D:\\Users\\Marcelo\\Anaconda3\\lib\\site-packages\\sklearn\\linear_model\\least_angle.py:337: ConvergenceWarning: Early stopping the lars path, as the residues are small and the current value of alpha is no longer well controlled. 57 iterations, alpha=1.011e+01, previous alpha=9.996e+00, with an active set of 32 regressors.\n",
      "  ConvergenceWarning)\n",
      "D:\\Users\\Marcelo\\Anaconda3\\lib\\site-packages\\sklearn\\linear_model\\least_angle.py:311: ConvergenceWarning: Regressors in active set degenerate. Dropping a regressor, after 39 iterations, i.e. alpha=1.780e+01, with an active set of 27 regressors, and the smallest cholesky pivot element being 2.980e-08. Reduce max_iter or increase eps parameters.\n",
      "  ConvergenceWarning)\n",
      "D:\\Users\\Marcelo\\Anaconda3\\lib\\site-packages\\sklearn\\linear_model\\least_angle.py:311: ConvergenceWarning: Regressors in active set degenerate. Dropping a regressor, after 39 iterations, i.e. alpha=1.780e+01, with an active set of 27 regressors, and the smallest cholesky pivot element being 2.581e-08. Reduce max_iter or increase eps parameters.\n",
      "  ConvergenceWarning)\n",
      "D:\\Users\\Marcelo\\Anaconda3\\lib\\site-packages\\sklearn\\linear_model\\least_angle.py:311: ConvergenceWarning: Regressors in active set degenerate. Dropping a regressor, after 59 iterations, i.e. alpha=8.899e+00, with an active set of 33 regressors, and the smallest cholesky pivot element being 2.980e-08. Reduce max_iter or increase eps parameters.\n",
      "  ConvergenceWarning)\n",
      "D:\\Users\\Marcelo\\Anaconda3\\lib\\site-packages\\sklearn\\linear_model\\least_angle.py:311: ConvergenceWarning: Regressors in active set degenerate. Dropping a regressor, after 60 iterations, i.e. alpha=8.876e+00, with an active set of 34 regressors, and the smallest cholesky pivot element being 2.980e-08. Reduce max_iter or increase eps parameters.\n",
      "  ConvergenceWarning)\n",
      "D:\\Users\\Marcelo\\Anaconda3\\lib\\site-packages\\sklearn\\linear_model\\least_angle.py:311: ConvergenceWarning: Regressors in active set degenerate. Dropping a regressor, after 60 iterations, i.e. alpha=8.837e+00, with an active set of 34 regressors, and the smallest cholesky pivot element being 2.581e-08. Reduce max_iter or increase eps parameters.\n",
      "  ConvergenceWarning)\n",
      "D:\\Users\\Marcelo\\Anaconda3\\lib\\site-packages\\sklearn\\linear_model\\least_angle.py:337: ConvergenceWarning: Early stopping the lars path, as the residues are small and the current value of alpha is no longer well controlled. 62 iterations, alpha=8.811e+00, previous alpha=8.778e+00, with an active set of 35 regressors.\n",
      "  ConvergenceWarning)\n",
      "D:\\Users\\Marcelo\\Anaconda3\\lib\\site-packages\\sklearn\\linear_model\\least_angle.py:311: ConvergenceWarning: Regressors in active set degenerate. Dropping a regressor, after 57 iterations, i.e. alpha=2.308e+00, with an active set of 37 regressors, and the smallest cholesky pivot element being 1.490e-08. Reduce max_iter or increase eps parameters.\n",
      "  ConvergenceWarning)\n",
      "D:\\Users\\Marcelo\\Anaconda3\\lib\\site-packages\\sklearn\\linear_model\\least_angle.py:311: ConvergenceWarning: Regressors in active set degenerate. Dropping a regressor, after 57 iterations, i.e. alpha=2.308e+00, with an active set of 37 regressors, and the smallest cholesky pivot element being 1.490e-08. Reduce max_iter or increase eps parameters.\n",
      "  ConvergenceWarning)\n",
      "D:\\Users\\Marcelo\\Anaconda3\\lib\\site-packages\\sklearn\\linear_model\\least_angle.py:311: ConvergenceWarning: Regressors in active set degenerate. Dropping a regressor, after 58 iterations, i.e. alpha=2.272e+00, with an active set of 38 regressors, and the smallest cholesky pivot element being 1.490e-08. Reduce max_iter or increase eps parameters.\n",
      "  ConvergenceWarning)\n",
      "D:\\Users\\Marcelo\\Anaconda3\\lib\\site-packages\\sklearn\\linear_model\\least_angle.py:311: ConvergenceWarning: Regressors in active set degenerate. Dropping a regressor, after 58 iterations, i.e. alpha=2.272e+00, with an active set of 38 regressors, and the smallest cholesky pivot element being 1.490e-08. Reduce max_iter or increase eps parameters.\n",
      "  ConvergenceWarning)\n",
      "D:\\Users\\Marcelo\\Anaconda3\\lib\\site-packages\\sklearn\\linear_model\\least_angle.py:311: ConvergenceWarning: Regressors in active set degenerate. Dropping a regressor, after 58 iterations, i.e. alpha=2.272e+00, with an active set of 38 regressors, and the smallest cholesky pivot element being 1.054e-08. Reduce max_iter or increase eps parameters.\n",
      "  ConvergenceWarning)\n",
      "D:\\Users\\Marcelo\\Anaconda3\\lib\\site-packages\\sklearn\\linear_model\\least_angle.py:311: ConvergenceWarning: Regressors in active set degenerate. Dropping a regressor, after 58 iterations, i.e. alpha=2.272e+00, with an active set of 38 regressors, and the smallest cholesky pivot element being 3.650e-08. Reduce max_iter or increase eps parameters.\n",
      "  ConvergenceWarning)\n",
      "D:\\Users\\Marcelo\\Anaconda3\\lib\\site-packages\\sklearn\\linear_model\\least_angle.py:311: ConvergenceWarning: Regressors in active set degenerate. Dropping a regressor, after 58 iterations, i.e. alpha=2.272e+00, with an active set of 38 regressors, and the smallest cholesky pivot element being 3.650e-08. Reduce max_iter or increase eps parameters.\n",
      "  ConvergenceWarning)\n",
      "D:\\Users\\Marcelo\\Anaconda3\\lib\\site-packages\\sklearn\\linear_model\\least_angle.py:311: ConvergenceWarning: Regressors in active set degenerate. Dropping a regressor, after 58 iterations, i.e. alpha=2.272e+00, with an active set of 38 regressors, and the smallest cholesky pivot element being 2.107e-08. Reduce max_iter or increase eps parameters.\n",
      "  ConvergenceWarning)\n",
      "D:\\Users\\Marcelo\\Anaconda3\\lib\\site-packages\\sklearn\\linear_model\\least_angle.py:311: ConvergenceWarning: Regressors in active set degenerate. Dropping a regressor, after 58 iterations, i.e. alpha=2.272e+00, with an active set of 38 regressors, and the smallest cholesky pivot element being 2.220e-16. Reduce max_iter or increase eps parameters.\n",
      "  ConvergenceWarning)\n",
      "D:\\Users\\Marcelo\\Anaconda3\\lib\\site-packages\\sklearn\\linear_model\\least_angle.py:311: ConvergenceWarning: Regressors in active set degenerate. Dropping a regressor, after 64 iterations, i.e. alpha=1.339e+00, with an active set of 40 regressors, and the smallest cholesky pivot element being 4.215e-08. Reduce max_iter or increase eps parameters.\n",
      "  ConvergenceWarning)\n",
      "D:\\Users\\Marcelo\\Anaconda3\\lib\\site-packages\\sklearn\\linear_model\\least_angle.py:311: ConvergenceWarning: Regressors in active set degenerate. Dropping a regressor, after 64 iterations, i.e. alpha=1.335e+00, with an active set of 40 regressors, and the smallest cholesky pivot element being 1.490e-08. Reduce max_iter or increase eps parameters.\n",
      "  ConvergenceWarning)\n",
      "D:\\Users\\Marcelo\\Anaconda3\\lib\\site-packages\\sklearn\\linear_model\\least_angle.py:311: ConvergenceWarning: Regressors in active set degenerate. Dropping a regressor, after 64 iterations, i.e. alpha=1.324e+00, with an active set of 40 regressors, and the smallest cholesky pivot element being 1.490e-08. Reduce max_iter or increase eps parameters.\n",
      "  ConvergenceWarning)\n",
      "D:\\Users\\Marcelo\\Anaconda3\\lib\\site-packages\\sklearn\\linear_model\\least_angle.py:311: ConvergenceWarning: Regressors in active set degenerate. Dropping a regressor, after 64 iterations, i.e. alpha=1.323e+00, with an active set of 40 regressors, and the smallest cholesky pivot element being 1.490e-08. Reduce max_iter or increase eps parameters.\n",
      "  ConvergenceWarning)\n",
      "D:\\Users\\Marcelo\\Anaconda3\\lib\\site-packages\\sklearn\\linear_model\\least_angle.py:311: ConvergenceWarning: Regressors in active set degenerate. Dropping a regressor, after 64 iterations, i.e. alpha=1.321e+00, with an active set of 40 regressors, and the smallest cholesky pivot element being 2.107e-08. Reduce max_iter or increase eps parameters.\n",
      "  ConvergenceWarning)\n",
      "D:\\Users\\Marcelo\\Anaconda3\\lib\\site-packages\\sklearn\\linear_model\\least_angle.py:311: ConvergenceWarning: Regressors in active set degenerate. Dropping a regressor, after 64 iterations, i.e. alpha=1.315e+00, with an active set of 40 regressors, and the smallest cholesky pivot element being 2.581e-08. Reduce max_iter or increase eps parameters.\n",
      "  ConvergenceWarning)\n",
      "D:\\Users\\Marcelo\\Anaconda3\\lib\\site-packages\\sklearn\\linear_model\\least_angle.py:311: ConvergenceWarning: Regressors in active set degenerate. Dropping a regressor, after 64 iterations, i.e. alpha=1.303e+00, with an active set of 40 regressors, and the smallest cholesky pivot element being 2.220e-16. Reduce max_iter or increase eps parameters.\n",
      "  ConvergenceWarning)\n",
      "D:\\Users\\Marcelo\\Anaconda3\\lib\\site-packages\\sklearn\\linear_model\\least_angle.py:311: ConvergenceWarning: Regressors in active set degenerate. Dropping a regressor, after 64 iterations, i.e. alpha=1.297e+00, with an active set of 40 regressors, and the smallest cholesky pivot element being 2.107e-08. Reduce max_iter or increase eps parameters.\n",
      "  ConvergenceWarning)\n",
      "D:\\Users\\Marcelo\\Anaconda3\\lib\\site-packages\\sklearn\\linear_model\\least_angle.py:311: ConvergenceWarning: Regressors in active set degenerate. Dropping a regressor, after 64 iterations, i.e. alpha=1.294e+00, with an active set of 40 regressors, and the smallest cholesky pivot element being 2.220e-16. Reduce max_iter or increase eps parameters.\n",
      "  ConvergenceWarning)\n",
      "D:\\Users\\Marcelo\\Anaconda3\\lib\\site-packages\\sklearn\\linear_model\\least_angle.py:311: ConvergenceWarning: Regressors in active set degenerate. Dropping a regressor, after 64 iterations, i.e. alpha=1.293e+00, with an active set of 40 regressors, and the smallest cholesky pivot element being 1.490e-08. Reduce max_iter or increase eps parameters.\n",
      "  ConvergenceWarning)\n",
      "D:\\Users\\Marcelo\\Anaconda3\\lib\\site-packages\\sklearn\\linear_model\\least_angle.py:311: ConvergenceWarning: Regressors in active set degenerate. Dropping a regressor, after 64 iterations, i.e. alpha=1.284e+00, with an active set of 40 regressors, and the smallest cholesky pivot element being 1.054e-08. Reduce max_iter or increase eps parameters.\n",
      "  ConvergenceWarning)\n",
      "D:\\Users\\Marcelo\\Anaconda3\\lib\\site-packages\\sklearn\\linear_model\\least_angle.py:311: ConvergenceWarning: Regressors in active set degenerate. Dropping a regressor, after 64 iterations, i.e. alpha=1.282e+00, with an active set of 40 regressors, and the smallest cholesky pivot element being 2.220e-16. Reduce max_iter or increase eps parameters.\n",
      "  ConvergenceWarning)\n",
      "D:\\Users\\Marcelo\\Anaconda3\\lib\\site-packages\\sklearn\\linear_model\\least_angle.py:311: ConvergenceWarning: Regressors in active set degenerate. Dropping a regressor, after 64 iterations, i.e. alpha=1.280e+00, with an active set of 40 regressors, and the smallest cholesky pivot element being 4.712e-08. Reduce max_iter or increase eps parameters.\n",
      "  ConvergenceWarning)\n",
      "D:\\Users\\Marcelo\\Anaconda3\\lib\\site-packages\\sklearn\\linear_model\\least_angle.py:311: ConvergenceWarning: Regressors in active set degenerate. Dropping a regressor, after 64 iterations, i.e. alpha=1.277e+00, with an active set of 40 regressors, and the smallest cholesky pivot element being 5.162e-08. Reduce max_iter or increase eps parameters.\n",
      "  ConvergenceWarning)\n",
      "D:\\Users\\Marcelo\\Anaconda3\\lib\\site-packages\\sklearn\\linear_model\\least_angle.py:311: ConvergenceWarning: Regressors in active set degenerate. Dropping a regressor, after 64 iterations, i.e. alpha=1.275e+00, with an active set of 40 regressors, and the smallest cholesky pivot element being 1.490e-08. Reduce max_iter or increase eps parameters.\n",
      "  ConvergenceWarning)\n",
      "D:\\Users\\Marcelo\\Anaconda3\\lib\\site-packages\\sklearn\\linear_model\\least_angle.py:311: ConvergenceWarning: Regressors in active set degenerate. Dropping a regressor, after 64 iterations, i.e. alpha=1.261e+00, with an active set of 40 regressors, and the smallest cholesky pivot element being 2.107e-08. Reduce max_iter or increase eps parameters.\n",
      "  ConvergenceWarning)\n",
      "D:\\Users\\Marcelo\\Anaconda3\\lib\\site-packages\\sklearn\\linear_model\\least_angle.py:311: ConvergenceWarning: Regressors in active set degenerate. Dropping a regressor, after 64 iterations, i.e. alpha=1.259e+00, with an active set of 40 regressors, and the smallest cholesky pivot element being 2.107e-08. Reduce max_iter or increase eps parameters.\n",
      "  ConvergenceWarning)\n",
      "D:\\Users\\Marcelo\\Anaconda3\\lib\\site-packages\\sklearn\\linear_model\\least_angle.py:311: ConvergenceWarning: Regressors in active set degenerate. Dropping a regressor, after 64 iterations, i.e. alpha=1.257e+00, with an active set of 40 regressors, and the smallest cholesky pivot element being 2.107e-08. Reduce max_iter or increase eps parameters.\n",
      "  ConvergenceWarning)\n",
      "D:\\Users\\Marcelo\\Anaconda3\\lib\\site-packages\\sklearn\\linear_model\\least_angle.py:311: ConvergenceWarning: Regressors in active set degenerate. Dropping a regressor, after 64 iterations, i.e. alpha=1.249e+00, with an active set of 40 regressors, and the smallest cholesky pivot element being 1.490e-08. Reduce max_iter or increase eps parameters.\n",
      "  ConvergenceWarning)\n",
      "D:\\Users\\Marcelo\\Anaconda3\\lib\\site-packages\\sklearn\\linear_model\\least_angle.py:311: ConvergenceWarning: Regressors in active set degenerate. Dropping a regressor, after 64 iterations, i.e. alpha=1.238e+00, with an active set of 40 regressors, and the smallest cholesky pivot element being 8.429e-08. Reduce max_iter or increase eps parameters.\n",
      "  ConvergenceWarning)\n",
      "D:\\Users\\Marcelo\\Anaconda3\\lib\\site-packages\\sklearn\\linear_model\\least_angle.py:311: ConvergenceWarning: Regressors in active set degenerate. Dropping a regressor, after 64 iterations, i.e. alpha=1.231e+00, with an active set of 40 regressors, and the smallest cholesky pivot element being 7.068e-08. Reduce max_iter or increase eps parameters.\n",
      "  ConvergenceWarning)\n",
      "D:\\Users\\Marcelo\\Anaconda3\\lib\\site-packages\\sklearn\\linear_model\\least_angle.py:337: ConvergenceWarning: Early stopping the lars path, as the residues are small and the current value of alpha is no longer well controlled. 65 iterations, alpha=1.324e+00, previous alpha=1.229e+00, with an active set of 40 regressors.\n",
      "  ConvergenceWarning)\n",
      "D:\\Users\\Marcelo\\Anaconda3\\lib\\site-packages\\sklearn\\linear_model\\least_angle.py:311: ConvergenceWarning: Regressors in active set degenerate. Dropping a regressor, after 22 iterations, i.e. alpha=2.433e+01, with an active set of 16 regressors, and the smallest cholesky pivot element being 2.107e-08. Reduce max_iter or increase eps parameters.\n",
      "  ConvergenceWarning)\n",
      "D:\\Users\\Marcelo\\Anaconda3\\lib\\site-packages\\sklearn\\linear_model\\least_angle.py:311: ConvergenceWarning: Regressors in active set degenerate. Dropping a regressor, after 26 iterations, i.e. alpha=1.797e+01, with an active set of 20 regressors, and the smallest cholesky pivot element being 2.107e-08. Reduce max_iter or increase eps parameters.\n",
      "  ConvergenceWarning)\n",
      "D:\\Users\\Marcelo\\Anaconda3\\lib\\site-packages\\sklearn\\linear_model\\least_angle.py:311: ConvergenceWarning: Regressors in active set degenerate. Dropping a regressor, after 26 iterations, i.e. alpha=1.797e+01, with an active set of 20 regressors, and the smallest cholesky pivot element being 2.107e-08. Reduce max_iter or increase eps parameters.\n",
      "  ConvergenceWarning)\n",
      "D:\\Users\\Marcelo\\Anaconda3\\lib\\site-packages\\sklearn\\linear_model\\least_angle.py:311: ConvergenceWarning: Regressors in active set degenerate. Dropping a regressor, after 35 iterations, i.e. alpha=1.219e+01, with an active set of 25 regressors, and the smallest cholesky pivot element being 1.054e-08. Reduce max_iter or increase eps parameters.\n",
      "  ConvergenceWarning)\n",
      "D:\\Users\\Marcelo\\Anaconda3\\lib\\site-packages\\sklearn\\linear_model\\least_angle.py:311: ConvergenceWarning: Regressors in active set degenerate. Dropping a regressor, after 35 iterations, i.e. alpha=1.219e+01, with an active set of 25 regressors, and the smallest cholesky pivot element being 1.054e-08. Reduce max_iter or increase eps parameters.\n",
      "  ConvergenceWarning)\n",
      "D:\\Users\\Marcelo\\Anaconda3\\lib\\site-packages\\sklearn\\linear_model\\least_angle.py:311: ConvergenceWarning: Regressors in active set degenerate. Dropping a regressor, after 43 iterations, i.e. alpha=8.949e+00, with an active set of 29 regressors, and the smallest cholesky pivot element being 2.581e-08. Reduce max_iter or increase eps parameters.\n",
      "  ConvergenceWarning)\n",
      "D:\\Users\\Marcelo\\Anaconda3\\lib\\site-packages\\sklearn\\linear_model\\least_angle.py:337: ConvergenceWarning: Early stopping the lars path, as the residues are small and the current value of alpha is no longer well controlled. 49 iterations, alpha=7.004e+00, previous alpha=6.934e+00, with an active set of 34 regressors.\n",
      "  ConvergenceWarning)\n",
      "D:\\Users\\Marcelo\\Anaconda3\\lib\\site-packages\\sklearn\\linear_model\\least_angle.py:311: ConvergenceWarning: Regressors in active set degenerate. Dropping a regressor, after 40 iterations, i.e. alpha=1.624e+01, with an active set of 22 regressors, and the smallest cholesky pivot element being 2.107e-08. Reduce max_iter or increase eps parameters.\n",
      "  ConvergenceWarning)\n",
      "D:\\Users\\Marcelo\\Anaconda3\\lib\\site-packages\\sklearn\\linear_model\\least_angle.py:311: ConvergenceWarning: Regressors in active set degenerate. Dropping a regressor, after 48 iterations, i.e. alpha=7.943e+00, with an active set of 28 regressors, and the smallest cholesky pivot element being 1.490e-08. Reduce max_iter or increase eps parameters.\n",
      "  ConvergenceWarning)\n",
      "D:\\Users\\Marcelo\\Anaconda3\\lib\\site-packages\\sklearn\\linear_model\\least_angle.py:311: ConvergenceWarning: Regressors in active set degenerate. Dropping a regressor, after 48 iterations, i.e. alpha=7.943e+00, with an active set of 28 regressors, and the smallest cholesky pivot element being 2.107e-08. Reduce max_iter or increase eps parameters.\n",
      "  ConvergenceWarning)\n"
     ]
    },
    {
     "name": "stdout",
     "output_type": "stream",
     "text": [
      "Computing regularization path using the Lars lasso...\n"
     ]
    },
    {
     "name": "stderr",
     "output_type": "stream",
     "text": [
      "D:\\Users\\Marcelo\\Anaconda3\\lib\\site-packages\\sklearn\\linear_model\\least_angle.py:337: ConvergenceWarning: Early stopping the lars path, as the residues are small and the current value of alpha is no longer well controlled. 167 iterations, alpha=5.129e+00, previous alpha=5.128e+00, with an active set of 40 regressors.\n",
      "  ConvergenceWarning)\n",
      "D:\\Users\\Marcelo\\Anaconda3\\lib\\site-packages\\sklearn\\linear_model\\least_angle.py:311: ConvergenceWarning: Regressors in active set degenerate. Dropping a regressor, after 39 iterations, i.e. alpha=1.133e+01, with an active set of 29 regressors, and the smallest cholesky pivot element being 2.107e-08. Reduce max_iter or increase eps parameters.\n",
      "  ConvergenceWarning)\n",
      "D:\\Users\\Marcelo\\Anaconda3\\lib\\site-packages\\sklearn\\linear_model\\least_angle.py:311: ConvergenceWarning: Regressors in active set degenerate. Dropping a regressor, after 39 iterations, i.e. alpha=1.133e+01, with an active set of 29 regressors, and the smallest cholesky pivot element being 2.107e-08. Reduce max_iter or increase eps parameters.\n",
      "  ConvergenceWarning)\n",
      "D:\\Users\\Marcelo\\Anaconda3\\lib\\site-packages\\sklearn\\linear_model\\least_angle.py:311: ConvergenceWarning: Regressors in active set degenerate. Dropping a regressor, after 48 iterations, i.e. alpha=5.666e+00, with an active set of 34 regressors, and the smallest cholesky pivot element being 2.107e-08. Reduce max_iter or increase eps parameters.\n",
      "  ConvergenceWarning)\n",
      "D:\\Users\\Marcelo\\Anaconda3\\lib\\site-packages\\sklearn\\linear_model\\least_angle.py:311: ConvergenceWarning: Regressors in active set degenerate. Dropping a regressor, after 48 iterations, i.e. alpha=5.666e+00, with an active set of 34 regressors, and the smallest cholesky pivot element being 2.220e-16. Reduce max_iter or increase eps parameters.\n",
      "  ConvergenceWarning)\n",
      "D:\\Users\\Marcelo\\Anaconda3\\lib\\site-packages\\sklearn\\linear_model\\least_angle.py:311: ConvergenceWarning: Regressors in active set degenerate. Dropping a regressor, after 48 iterations, i.e. alpha=5.666e+00, with an active set of 34 regressors, and the smallest cholesky pivot element being 1.825e-08. Reduce max_iter or increase eps parameters.\n",
      "  ConvergenceWarning)\n",
      "D:\\Users\\Marcelo\\Anaconda3\\lib\\site-packages\\sklearn\\linear_model\\least_angle.py:311: ConvergenceWarning: Regressors in active set degenerate. Dropping a regressor, after 48 iterations, i.e. alpha=5.666e+00, with an active set of 34 regressors, and the smallest cholesky pivot element being 2.220e-16. Reduce max_iter or increase eps parameters.\n",
      "  ConvergenceWarning)\n",
      "D:\\Users\\Marcelo\\Anaconda3\\lib\\site-packages\\sklearn\\linear_model\\least_angle.py:311: ConvergenceWarning: Regressors in active set degenerate. Dropping a regressor, after 48 iterations, i.e. alpha=5.666e+00, with an active set of 34 regressors, and the smallest cholesky pivot element being 2.107e-08. Reduce max_iter or increase eps parameters.\n",
      "  ConvergenceWarning)\n",
      "D:\\Users\\Marcelo\\Anaconda3\\lib\\site-packages\\sklearn\\linear_model\\least_angle.py:337: ConvergenceWarning: Early stopping the lars path, as the residues are small and the current value of alpha is no longer well controlled. 52 iterations, alpha=5.597e+00, previous alpha=5.531e+00, with an active set of 35 regressors.\n",
      "  ConvergenceWarning)\n",
      "D:\\Users\\Marcelo\\Anaconda3\\lib\\site-packages\\sklearn\\linear_model\\least_angle.py:311: ConvergenceWarning: Regressors in active set degenerate. Dropping a regressor, after 43 iterations, i.e. alpha=6.638e+00, with an active set of 29 regressors, and the smallest cholesky pivot element being 2.581e-08. Reduce max_iter or increase eps parameters.\n",
      "  ConvergenceWarning)\n",
      "D:\\Users\\Marcelo\\Anaconda3\\lib\\site-packages\\sklearn\\linear_model\\least_angle.py:311: ConvergenceWarning: Regressors in active set degenerate. Dropping a regressor, after 49 iterations, i.e. alpha=4.275e+00, with an active set of 35 regressors, and the smallest cholesky pivot element being 2.581e-08. Reduce max_iter or increase eps parameters.\n",
      "  ConvergenceWarning)\n",
      "D:\\Users\\Marcelo\\Anaconda3\\lib\\site-packages\\sklearn\\linear_model\\least_angle.py:311: ConvergenceWarning: Regressors in active set degenerate. Dropping a regressor, after 49 iterations, i.e. alpha=4.275e+00, with an active set of 35 regressors, and the smallest cholesky pivot element being 2.107e-08. Reduce max_iter or increase eps parameters.\n",
      "  ConvergenceWarning)\n",
      "D:\\Users\\Marcelo\\Anaconda3\\lib\\site-packages\\sklearn\\linear_model\\least_angle.py:311: ConvergenceWarning: Regressors in active set degenerate. Dropping a regressor, after 49 iterations, i.e. alpha=4.275e+00, with an active set of 35 regressors, and the smallest cholesky pivot element being 2.107e-08. Reduce max_iter or increase eps parameters.\n",
      "  ConvergenceWarning)\n",
      "D:\\Users\\Marcelo\\Anaconda3\\lib\\site-packages\\sklearn\\linear_model\\least_angle.py:311: ConvergenceWarning: Regressors in active set degenerate. Dropping a regressor, after 49 iterations, i.e. alpha=4.275e+00, with an active set of 35 regressors, and the smallest cholesky pivot element being 2.581e-08. Reduce max_iter or increase eps parameters.\n",
      "  ConvergenceWarning)\n",
      "D:\\Users\\Marcelo\\Anaconda3\\lib\\site-packages\\sklearn\\linear_model\\least_angle.py:311: ConvergenceWarning: Regressors in active set degenerate. Dropping a regressor, after 49 iterations, i.e. alpha=4.275e+00, with an active set of 35 regressors, and the smallest cholesky pivot element being 2.581e-08. Reduce max_iter or increase eps parameters.\n",
      "  ConvergenceWarning)\n",
      "D:\\Users\\Marcelo\\Anaconda3\\lib\\site-packages\\sklearn\\linear_model\\least_angle.py:311: ConvergenceWarning: Regressors in active set degenerate. Dropping a regressor, after 49 iterations, i.e. alpha=4.275e+00, with an active set of 35 regressors, and the smallest cholesky pivot element being 2.581e-08. Reduce max_iter or increase eps parameters.\n",
      "  ConvergenceWarning)\n",
      "D:\\Users\\Marcelo\\Anaconda3\\lib\\site-packages\\sklearn\\linear_model\\least_angle.py:311: ConvergenceWarning: Regressors in active set degenerate. Dropping a regressor, after 49 iterations, i.e. alpha=4.275e+00, with an active set of 35 regressors, and the smallest cholesky pivot element being 2.107e-08. Reduce max_iter or increase eps parameters.\n",
      "  ConvergenceWarning)\n",
      "D:\\Users\\Marcelo\\Anaconda3\\lib\\site-packages\\sklearn\\linear_model\\least_angle.py:311: ConvergenceWarning: Regressors in active set degenerate. Dropping a regressor, after 49 iterations, i.e. alpha=4.275e+00, with an active set of 35 regressors, and the smallest cholesky pivot element being 2.107e-08. Reduce max_iter or increase eps parameters.\n",
      "  ConvergenceWarning)\n",
      "D:\\Users\\Marcelo\\Anaconda3\\lib\\site-packages\\sklearn\\linear_model\\least_angle.py:311: ConvergenceWarning: Regressors in active set degenerate. Dropping a regressor, after 49 iterations, i.e. alpha=4.275e+00, with an active set of 35 regressors, and the smallest cholesky pivot element being 1.490e-08. Reduce max_iter or increase eps parameters.\n",
      "  ConvergenceWarning)\n",
      "D:\\Users\\Marcelo\\Anaconda3\\lib\\site-packages\\sklearn\\linear_model\\least_angle.py:311: ConvergenceWarning: Regressors in active set degenerate. Dropping a regressor, after 49 iterations, i.e. alpha=4.275e+00, with an active set of 35 regressors, and the smallest cholesky pivot element being 1.054e-08. Reduce max_iter or increase eps parameters.\n",
      "  ConvergenceWarning)\n",
      "D:\\Users\\Marcelo\\Anaconda3\\lib\\site-packages\\sklearn\\linear_model\\least_angle.py:311: ConvergenceWarning: Regressors in active set degenerate. Dropping a regressor, after 56 iterations, i.e. alpha=3.321e+00, with an active set of 36 regressors, and the smallest cholesky pivot element being 2.220e-16. Reduce max_iter or increase eps parameters.\n",
      "  ConvergenceWarning)\n",
      "D:\\Users\\Marcelo\\Anaconda3\\lib\\site-packages\\sklearn\\linear_model\\least_angle.py:311: ConvergenceWarning: Regressors in active set degenerate. Dropping a regressor, after 56 iterations, i.e. alpha=3.313e+00, with an active set of 36 regressors, and the smallest cholesky pivot element being 2.220e-16. Reduce max_iter or increase eps parameters.\n",
      "  ConvergenceWarning)\n",
      "D:\\Users\\Marcelo\\Anaconda3\\lib\\site-packages\\sklearn\\linear_model\\least_angle.py:311: ConvergenceWarning: Regressors in active set degenerate. Dropping a regressor, after 75 iterations, i.e. alpha=2.137e+00, with an active set of 35 regressors, and the smallest cholesky pivot element being 3.332e-08. Reduce max_iter or increase eps parameters.\n",
      "  ConvergenceWarning)\n",
      "D:\\Users\\Marcelo\\Anaconda3\\lib\\site-packages\\sklearn\\linear_model\\least_angle.py:311: ConvergenceWarning: Regressors in active set degenerate. Dropping a regressor, after 75 iterations, i.e. alpha=2.137e+00, with an active set of 35 regressors, and the smallest cholesky pivot element being 3.332e-08. Reduce max_iter or increase eps parameters.\n",
      "  ConvergenceWarning)\n",
      "D:\\Users\\Marcelo\\Anaconda3\\lib\\site-packages\\sklearn\\linear_model\\least_angle.py:311: ConvergenceWarning: Regressors in active set degenerate. Dropping a regressor, after 75 iterations, i.e. alpha=2.137e+00, with an active set of 35 regressors, and the smallest cholesky pivot element being 2.107e-08. Reduce max_iter or increase eps parameters.\n",
      "  ConvergenceWarning)\n",
      "D:\\Users\\Marcelo\\Anaconda3\\lib\\site-packages\\sklearn\\linear_model\\least_angle.py:311: ConvergenceWarning: Regressors in active set degenerate. Dropping a regressor, after 75 iterations, i.e. alpha=2.137e+00, with an active set of 35 regressors, and the smallest cholesky pivot element being 2.107e-08. Reduce max_iter or increase eps parameters.\n",
      "  ConvergenceWarning)\n",
      "D:\\Users\\Marcelo\\Anaconda3\\lib\\site-packages\\sklearn\\linear_model\\least_angle.py:311: ConvergenceWarning: Regressors in active set degenerate. Dropping a regressor, after 75 iterations, i.e. alpha=2.137e+00, with an active set of 35 regressors, and the smallest cholesky pivot element being 1.490e-08. Reduce max_iter or increase eps parameters.\n",
      "  ConvergenceWarning)\n",
      "D:\\Users\\Marcelo\\Anaconda3\\lib\\site-packages\\sklearn\\linear_model\\least_angle.py:311: ConvergenceWarning: Regressors in active set degenerate. Dropping a regressor, after 75 iterations, i.e. alpha=2.137e+00, with an active set of 35 regressors, and the smallest cholesky pivot element being 2.220e-16. Reduce max_iter or increase eps parameters.\n",
      "  ConvergenceWarning)\n",
      "D:\\Users\\Marcelo\\Anaconda3\\lib\\site-packages\\sklearn\\linear_model\\least_angle.py:311: ConvergenceWarning: Regressors in active set degenerate. Dropping a regressor, after 75 iterations, i.e. alpha=2.137e+00, with an active set of 35 regressors, and the smallest cholesky pivot element being 2.107e-08. Reduce max_iter or increase eps parameters.\n",
      "  ConvergenceWarning)\n",
      "D:\\Users\\Marcelo\\Anaconda3\\lib\\site-packages\\sklearn\\linear_model\\least_angle.py:311: ConvergenceWarning: Regressors in active set degenerate. Dropping a regressor, after 75 iterations, i.e. alpha=2.137e+00, with an active set of 35 regressors, and the smallest cholesky pivot element being 2.107e-08. Reduce max_iter or increase eps parameters.\n",
      "  ConvergenceWarning)\n",
      "D:\\Users\\Marcelo\\Anaconda3\\lib\\site-packages\\sklearn\\linear_model\\least_angle.py:311: ConvergenceWarning: Regressors in active set degenerate. Dropping a regressor, after 76 iterations, i.e. alpha=2.128e+00, with an active set of 36 regressors, and the smallest cholesky pivot element being 2.107e-08. Reduce max_iter or increase eps parameters.\n",
      "  ConvergenceWarning)\n",
      "D:\\Users\\Marcelo\\Anaconda3\\lib\\site-packages\\sklearn\\linear_model\\least_angle.py:337: ConvergenceWarning: Early stopping the lars path, as the residues are small and the current value of alpha is no longer well controlled. 84 iterations, alpha=2.037e+00, previous alpha=2.033e+00, with an active set of 37 regressors.\n",
      "  ConvergenceWarning)\n",
      "D:\\Users\\Marcelo\\Anaconda3\\lib\\site-packages\\sklearn\\linear_model\\least_angle.py:311: ConvergenceWarning: Regressors in active set degenerate. Dropping a regressor, after 27 iterations, i.e. alpha=2.546e+01, with an active set of 17 regressors, and the smallest cholesky pivot element being 1.054e-08. Reduce max_iter or increase eps parameters.\n",
      "  ConvergenceWarning)\n",
      "D:\\Users\\Marcelo\\Anaconda3\\lib\\site-packages\\sklearn\\linear_model\\least_angle.py:311: ConvergenceWarning: Regressors in active set degenerate. Dropping a regressor, after 27 iterations, i.e. alpha=2.546e+01, with an active set of 17 regressors, and the smallest cholesky pivot element being 2.107e-08. Reduce max_iter or increase eps parameters.\n",
      "  ConvergenceWarning)\n",
      "D:\\Users\\Marcelo\\Anaconda3\\lib\\site-packages\\sklearn\\linear_model\\least_angle.py:311: ConvergenceWarning: Regressors in active set degenerate. Dropping a regressor, after 35 iterations, i.e. alpha=1.273e+01, with an active set of 25 regressors, and the smallest cholesky pivot element being 1.054e-08. Reduce max_iter or increase eps parameters.\n",
      "  ConvergenceWarning)\n",
      "D:\\Users\\Marcelo\\Anaconda3\\lib\\site-packages\\sklearn\\linear_model\\least_angle.py:337: ConvergenceWarning: Early stopping the lars path, as the residues are small and the current value of alpha is no longer well controlled. 39 iterations, alpha=1.250e+01, previous alpha=1.225e+01, with an active set of 26 regressors.\n",
      "  ConvergenceWarning)\n",
      "D:\\Users\\Marcelo\\Anaconda3\\lib\\site-packages\\sklearn\\linear_model\\least_angle.py:311: ConvergenceWarning: Regressors in active set degenerate. Dropping a regressor, after 53 iterations, i.e. alpha=7.911e+00, with an active set of 31 regressors, and the smallest cholesky pivot element being 2.107e-08. Reduce max_iter or increase eps parameters.\n",
      "  ConvergenceWarning)\n",
      "D:\\Users\\Marcelo\\Anaconda3\\lib\\site-packages\\sklearn\\linear_model\\least_angle.py:311: ConvergenceWarning: Regressors in active set degenerate. Dropping a regressor, after 53 iterations, i.e. alpha=7.911e+00, with an active set of 31 regressors, and the smallest cholesky pivot element being 2.107e-08. Reduce max_iter or increase eps parameters.\n",
      "  ConvergenceWarning)\n",
      "D:\\Users\\Marcelo\\Anaconda3\\lib\\site-packages\\sklearn\\linear_model\\least_angle.py:311: ConvergenceWarning: Regressors in active set degenerate. Dropping a regressor, after 56 iterations, i.e. alpha=5.760e+00, with an active set of 34 regressors, and the smallest cholesky pivot element being 2.220e-16. Reduce max_iter or increase eps parameters.\n",
      "  ConvergenceWarning)\n",
      "D:\\Users\\Marcelo\\Anaconda3\\lib\\site-packages\\sklearn\\linear_model\\least_angle.py:311: ConvergenceWarning: Regressors in active set degenerate. Dropping a regressor, after 62 iterations, i.e. alpha=4.796e+00, with an active set of 36 regressors, and the smallest cholesky pivot element being 2.220e-16. Reduce max_iter or increase eps parameters.\n",
      "  ConvergenceWarning)\n",
      "D:\\Users\\Marcelo\\Anaconda3\\lib\\site-packages\\sklearn\\linear_model\\least_angle.py:311: ConvergenceWarning: Regressors in active set degenerate. Dropping a regressor, after 62 iterations, i.e. alpha=4.796e+00, with an active set of 36 regressors, and the smallest cholesky pivot element being 2.980e-08. Reduce max_iter or increase eps parameters.\n",
      "  ConvergenceWarning)\n",
      "D:\\Users\\Marcelo\\Anaconda3\\lib\\site-packages\\sklearn\\linear_model\\least_angle.py:311: ConvergenceWarning: Regressors in active set degenerate. Dropping a regressor, after 62 iterations, i.e. alpha=4.796e+00, with an active set of 36 regressors, and the smallest cholesky pivot element being 2.581e-08. Reduce max_iter or increase eps parameters.\n",
      "  ConvergenceWarning)\n",
      "D:\\Users\\Marcelo\\Anaconda3\\lib\\site-packages\\sklearn\\linear_model\\least_angle.py:311: ConvergenceWarning: Regressors in active set degenerate. Dropping a regressor, after 62 iterations, i.e. alpha=4.796e+00, with an active set of 36 regressors, and the smallest cholesky pivot element being 2.581e-08. Reduce max_iter or increase eps parameters.\n",
      "  ConvergenceWarning)\n",
      "D:\\Users\\Marcelo\\Anaconda3\\lib\\site-packages\\sklearn\\linear_model\\least_angle.py:311: ConvergenceWarning: Regressors in active set degenerate. Dropping a regressor, after 62 iterations, i.e. alpha=4.796e+00, with an active set of 36 regressors, and the smallest cholesky pivot element being 2.220e-16. Reduce max_iter or increase eps parameters.\n",
      "  ConvergenceWarning)\n",
      "D:\\Users\\Marcelo\\Anaconda3\\lib\\site-packages\\sklearn\\linear_model\\least_angle.py:311: ConvergenceWarning: Regressors in active set degenerate. Dropping a regressor, after 65 iterations, i.e. alpha=3.956e+00, with an active set of 37 regressors, and the smallest cholesky pivot element being 2.581e-08. Reduce max_iter or increase eps parameters.\n",
      "  ConvergenceWarning)\n",
      "D:\\Users\\Marcelo\\Anaconda3\\lib\\site-packages\\sklearn\\linear_model\\least_angle.py:311: ConvergenceWarning: Regressors in active set degenerate. Dropping a regressor, after 66 iterations, i.e. alpha=3.879e+00, with an active set of 38 regressors, and the smallest cholesky pivot element being 2.581e-08. Reduce max_iter or increase eps parameters.\n",
      "  ConvergenceWarning)\n",
      "D:\\Users\\Marcelo\\Anaconda3\\lib\\site-packages\\sklearn\\linear_model\\least_angle.py:311: ConvergenceWarning: Regressors in active set degenerate. Dropping a regressor, after 69 iterations, i.e. alpha=3.592e+00, with an active set of 37 regressors, and the smallest cholesky pivot element being 1.054e-08. Reduce max_iter or increase eps parameters.\n",
      "  ConvergenceWarning)\n",
      "D:\\Users\\Marcelo\\Anaconda3\\lib\\site-packages\\sklearn\\linear_model\\least_angle.py:311: ConvergenceWarning: Regressors in active set degenerate. Dropping a regressor, after 76 iterations, i.e. alpha=2.398e+00, with an active set of 38 regressors, and the smallest cholesky pivot element being 2.356e-08. Reduce max_iter or increase eps parameters.\n",
      "  ConvergenceWarning)\n",
      "D:\\Users\\Marcelo\\Anaconda3\\lib\\site-packages\\sklearn\\linear_model\\least_angle.py:311: ConvergenceWarning: Regressors in active set degenerate. Dropping a regressor, after 76 iterations, i.e. alpha=2.398e+00, with an active set of 38 regressors, and the smallest cholesky pivot element being 1.054e-08. Reduce max_iter or increase eps parameters.\n",
      "  ConvergenceWarning)\n",
      "D:\\Users\\Marcelo\\Anaconda3\\lib\\site-packages\\sklearn\\linear_model\\least_angle.py:311: ConvergenceWarning: Regressors in active set degenerate. Dropping a regressor, after 76 iterations, i.e. alpha=2.398e+00, with an active set of 38 regressors, and the smallest cholesky pivot element being 1.825e-08. Reduce max_iter or increase eps parameters.\n",
      "  ConvergenceWarning)\n",
      "D:\\Users\\Marcelo\\Anaconda3\\lib\\site-packages\\sklearn\\linear_model\\least_angle.py:311: ConvergenceWarning: Regressors in active set degenerate. Dropping a regressor, after 76 iterations, i.e. alpha=2.398e+00, with an active set of 38 regressors, and the smallest cholesky pivot element being 1.825e-08. Reduce max_iter or increase eps parameters.\n",
      "  ConvergenceWarning)\n",
      "D:\\Users\\Marcelo\\Anaconda3\\lib\\site-packages\\sklearn\\linear_model\\least_angle.py:311: ConvergenceWarning: Regressors in active set degenerate. Dropping a regressor, after 76 iterations, i.e. alpha=2.397e+00, with an active set of 38 regressors, and the smallest cholesky pivot element being 1.825e-08. Reduce max_iter or increase eps parameters.\n",
      "  ConvergenceWarning)\n",
      "D:\\Users\\Marcelo\\Anaconda3\\lib\\site-packages\\sklearn\\linear_model\\least_angle.py:337: ConvergenceWarning: Early stopping the lars path, as the residues are small and the current value of alpha is no longer well controlled. 85 iterations, alpha=2.086e+00, previous alpha=2.072e+00, with an active set of 38 regressors.\n",
      "  ConvergenceWarning)\n",
      "D:\\Users\\Marcelo\\Anaconda3\\lib\\site-packages\\sklearn\\linear_model\\least_angle.py:311: ConvergenceWarning: Regressors in active set degenerate. Dropping a regressor, after 35 iterations, i.e. alpha=1.933e+01, with an active set of 25 regressors, and the smallest cholesky pivot element being 2.107e-08. Reduce max_iter or increase eps parameters.\n",
      "  ConvergenceWarning)\n",
      "D:\\Users\\Marcelo\\Anaconda3\\lib\\site-packages\\sklearn\\linear_model\\least_angle.py:311: ConvergenceWarning: Regressors in active set degenerate. Dropping a regressor, after 48 iterations, i.e. alpha=6.466e+00, with an active set of 32 regressors, and the smallest cholesky pivot element being 2.107e-08. Reduce max_iter or increase eps parameters.\n",
      "  ConvergenceWarning)\n",
      "D:\\Users\\Marcelo\\Anaconda3\\lib\\site-packages\\sklearn\\linear_model\\least_angle.py:311: ConvergenceWarning: Regressors in active set degenerate. Dropping a regressor, after 48 iterations, i.e. alpha=6.466e+00, with an active set of 32 regressors, and the smallest cholesky pivot element being 1.490e-08. Reduce max_iter or increase eps parameters.\n",
      "  ConvergenceWarning)\n",
      "D:\\Users\\Marcelo\\Anaconda3\\lib\\site-packages\\sklearn\\linear_model\\least_angle.py:311: ConvergenceWarning: Regressors in active set degenerate. Dropping a regressor, after 48 iterations, i.e. alpha=6.466e+00, with an active set of 32 regressors, and the smallest cholesky pivot element being 1.490e-08. Reduce max_iter or increase eps parameters.\n",
      "  ConvergenceWarning)\n",
      "D:\\Users\\Marcelo\\Anaconda3\\lib\\site-packages\\sklearn\\linear_model\\least_angle.py:311: ConvergenceWarning: Regressors in active set degenerate. Dropping a regressor, after 48 iterations, i.e. alpha=6.466e+00, with an active set of 32 regressors, and the smallest cholesky pivot element being 2.107e-08. Reduce max_iter or increase eps parameters.\n",
      "  ConvergenceWarning)\n",
      "D:\\Users\\Marcelo\\Anaconda3\\lib\\site-packages\\sklearn\\linear_model\\least_angle.py:311: ConvergenceWarning: Regressors in active set degenerate. Dropping a regressor, after 88 iterations, i.e. alpha=3.233e+00, with an active set of 36 regressors, and the smallest cholesky pivot element being 1.054e-08. Reduce max_iter or increase eps parameters.\n",
      "  ConvergenceWarning)\n",
      "D:\\Users\\Marcelo\\Anaconda3\\lib\\site-packages\\sklearn\\linear_model\\least_angle.py:311: ConvergenceWarning: Regressors in active set degenerate. Dropping a regressor, after 88 iterations, i.e. alpha=3.233e+00, with an active set of 36 regressors, and the smallest cholesky pivot element being 2.107e-08. Reduce max_iter or increase eps parameters.\n",
      "  ConvergenceWarning)\n",
      "D:\\Users\\Marcelo\\Anaconda3\\lib\\site-packages\\sklearn\\linear_model\\least_angle.py:311: ConvergenceWarning: Regressors in active set degenerate. Dropping a regressor, after 88 iterations, i.e. alpha=3.233e+00, with an active set of 36 regressors, and the smallest cholesky pivot element being 1.054e-08. Reduce max_iter or increase eps parameters.\n",
      "  ConvergenceWarning)\n",
      "D:\\Users\\Marcelo\\Anaconda3\\lib\\site-packages\\sklearn\\linear_model\\least_angle.py:337: ConvergenceWarning: Early stopping the lars path, as the residues are small and the current value of alpha is no longer well controlled. 89 iterations, alpha=3.218e+00, previous alpha=3.216e+00, with an active set of 36 regressors.\n",
      "  ConvergenceWarning)\n",
      "D:\\Users\\Marcelo\\Anaconda3\\lib\\site-packages\\sklearn\\linear_model\\least_angle.py:311: ConvergenceWarning: Regressors in active set degenerate. Dropping a regressor, after 18 iterations, i.e. alpha=3.144e+01, with an active set of 12 regressors, and the smallest cholesky pivot element being 2.107e-08. Reduce max_iter or increase eps parameters.\n",
      "  ConvergenceWarning)\n",
      "D:\\Users\\Marcelo\\Anaconda3\\lib\\site-packages\\sklearn\\linear_model\\least_angle.py:311: ConvergenceWarning: Regressors in active set degenerate. Dropping a regressor, after 32 iterations, i.e. alpha=1.924e+01, with an active set of 22 regressors, and the smallest cholesky pivot element being 2.581e-08. Reduce max_iter or increase eps parameters.\n",
      "  ConvergenceWarning)\n",
      "D:\\Users\\Marcelo\\Anaconda3\\lib\\site-packages\\sklearn\\linear_model\\least_angle.py:311: ConvergenceWarning: Regressors in active set degenerate. Dropping a regressor, after 35 iterations, i.e. alpha=1.700e+01, with an active set of 25 regressors, and the smallest cholesky pivot element being 1.825e-08. Reduce max_iter or increase eps parameters.\n",
      "  ConvergenceWarning)\n",
      "D:\\Users\\Marcelo\\Anaconda3\\lib\\site-packages\\sklearn\\linear_model\\least_angle.py:311: ConvergenceWarning: Regressors in active set degenerate. Dropping a regressor, after 44 iterations, i.e. alpha=1.047e+01, with an active set of 28 regressors, and the smallest cholesky pivot element being 2.107e-08. Reduce max_iter or increase eps parameters.\n",
      "  ConvergenceWarning)\n",
      "D:\\Users\\Marcelo\\Anaconda3\\lib\\site-packages\\sklearn\\linear_model\\least_angle.py:311: ConvergenceWarning: Regressors in active set degenerate. Dropping a regressor, after 44 iterations, i.e. alpha=1.047e+01, with an active set of 28 regressors, and the smallest cholesky pivot element being 2.220e-16. Reduce max_iter or increase eps parameters.\n",
      "  ConvergenceWarning)\n",
      "D:\\Users\\Marcelo\\Anaconda3\\lib\\site-packages\\sklearn\\linear_model\\least_angle.py:311: ConvergenceWarning: Regressors in active set degenerate. Dropping a regressor, after 44 iterations, i.e. alpha=1.047e+01, with an active set of 28 regressors, and the smallest cholesky pivot element being 2.107e-08. Reduce max_iter or increase eps parameters.\n",
      "  ConvergenceWarning)\n",
      "D:\\Users\\Marcelo\\Anaconda3\\lib\\site-packages\\sklearn\\linear_model\\least_angle.py:311: ConvergenceWarning: Regressors in active set degenerate. Dropping a regressor, after 51 iterations, i.e. alpha=9.253e+00, with an active set of 31 regressors, and the smallest cholesky pivot element being 1.490e-08. Reduce max_iter or increase eps parameters.\n",
      "  ConvergenceWarning)\n",
      "D:\\Users\\Marcelo\\Anaconda3\\lib\\site-packages\\sklearn\\linear_model\\least_angle.py:311: ConvergenceWarning: Regressors in active set degenerate. Dropping a regressor, after 51 iterations, i.e. alpha=9.253e+00, with an active set of 31 regressors, and the smallest cholesky pivot element being 1.054e-08. Reduce max_iter or increase eps parameters.\n",
      "  ConvergenceWarning)\n",
      "D:\\Users\\Marcelo\\Anaconda3\\lib\\site-packages\\sklearn\\linear_model\\least_angle.py:311: ConvergenceWarning: Regressors in active set degenerate. Dropping a regressor, after 51 iterations, i.e. alpha=9.228e+00, with an active set of 31 regressors, and the smallest cholesky pivot element being 1.490e-08. Reduce max_iter or increase eps parameters.\n",
      "  ConvergenceWarning)\n",
      "D:\\Users\\Marcelo\\Anaconda3\\lib\\site-packages\\sklearn\\linear_model\\least_angle.py:337: ConvergenceWarning: Early stopping the lars path, as the residues are small and the current value of alpha is no longer well controlled. 53 iterations, alpha=9.173e+00, previous alpha=9.163e+00, with an active set of 32 regressors.\n",
      "  ConvergenceWarning)\n",
      "D:\\Users\\Marcelo\\Anaconda3\\lib\\site-packages\\sklearn\\linear_model\\least_angle.py:311: ConvergenceWarning: Regressors in active set degenerate. Dropping a regressor, after 33 iterations, i.e. alpha=1.957e+01, with an active set of 25 regressors, and the smallest cholesky pivot element being 2.581e-08. Reduce max_iter or increase eps parameters.\n",
      "  ConvergenceWarning)\n",
      "D:\\Users\\Marcelo\\Anaconda3\\lib\\site-packages\\sklearn\\linear_model\\least_angle.py:311: ConvergenceWarning: Regressors in active set degenerate. Dropping a regressor, after 43 iterations, i.e. alpha=7.705e+00, with an active set of 33 regressors, and the smallest cholesky pivot element being 2.107e-08. Reduce max_iter or increase eps parameters.\n",
      "  ConvergenceWarning)\n",
      "D:\\Users\\Marcelo\\Anaconda3\\lib\\site-packages\\sklearn\\linear_model\\least_angle.py:311: ConvergenceWarning: Regressors in active set degenerate. Dropping a regressor, after 43 iterations, i.e. alpha=7.705e+00, with an active set of 33 regressors, and the smallest cholesky pivot element being 1.054e-08. Reduce max_iter or increase eps parameters.\n",
      "  ConvergenceWarning)\n",
      "D:\\Users\\Marcelo\\Anaconda3\\lib\\site-packages\\sklearn\\linear_model\\least_angle.py:311: ConvergenceWarning: Regressors in active set degenerate. Dropping a regressor, after 43 iterations, i.e. alpha=7.705e+00, with an active set of 33 regressors, and the smallest cholesky pivot element being 1.054e-08. Reduce max_iter or increase eps parameters.\n",
      "  ConvergenceWarning)\n",
      "D:\\Users\\Marcelo\\Anaconda3\\lib\\site-packages\\sklearn\\linear_model\\least_angle.py:311: ConvergenceWarning: Regressors in active set degenerate. Dropping a regressor, after 43 iterations, i.e. alpha=7.705e+00, with an active set of 33 regressors, and the smallest cholesky pivot element being 2.107e-08. Reduce max_iter or increase eps parameters.\n",
      "  ConvergenceWarning)\n",
      "D:\\Users\\Marcelo\\Anaconda3\\lib\\site-packages\\sklearn\\linear_model\\least_angle.py:311: ConvergenceWarning: Regressors in active set degenerate. Dropping a regressor, after 58 iterations, i.e. alpha=3.835e+00, with an active set of 36 regressors, and the smallest cholesky pivot element being 2.356e-08. Reduce max_iter or increase eps parameters.\n",
      "  ConvergenceWarning)\n",
      "D:\\Users\\Marcelo\\Anaconda3\\lib\\site-packages\\sklearn\\linear_model\\least_angle.py:311: ConvergenceWarning: Regressors in active set degenerate. Dropping a regressor, after 58 iterations, i.e. alpha=3.835e+00, with an active set of 36 regressors, and the smallest cholesky pivot element being 2.356e-08. Reduce max_iter or increase eps parameters.\n",
      "  ConvergenceWarning)\n",
      "D:\\Users\\Marcelo\\Anaconda3\\lib\\site-packages\\sklearn\\linear_model\\least_angle.py:311: ConvergenceWarning: Regressors in active set degenerate. Dropping a regressor, after 58 iterations, i.e. alpha=3.835e+00, with an active set of 36 regressors, and the smallest cholesky pivot element being 1.490e-08. Reduce max_iter or increase eps parameters.\n",
      "  ConvergenceWarning)\n",
      "D:\\Users\\Marcelo\\Anaconda3\\lib\\site-packages\\sklearn\\linear_model\\least_angle.py:311: ConvergenceWarning: Regressors in active set degenerate. Dropping a regressor, after 66 iterations, i.e. alpha=2.960e+00, with an active set of 40 regressors, and the smallest cholesky pivot element being 4.470e-08. Reduce max_iter or increase eps parameters.\n",
      "  ConvergenceWarning)\n",
      "D:\\Users\\Marcelo\\Anaconda3\\lib\\site-packages\\sklearn\\linear_model\\least_angle.py:311: ConvergenceWarning: Regressors in active set degenerate. Dropping a regressor, after 66 iterations, i.e. alpha=2.942e+00, with an active set of 40 regressors, and the smallest cholesky pivot element being 5.373e-08. Reduce max_iter or increase eps parameters.\n",
      "  ConvergenceWarning)\n",
      "D:\\Users\\Marcelo\\Anaconda3\\lib\\site-packages\\sklearn\\linear_model\\least_angle.py:311: ConvergenceWarning: Regressors in active set degenerate. Dropping a regressor, after 66 iterations, i.e. alpha=2.894e+00, with an active set of 40 regressors, and the smallest cholesky pivot element being 5.576e-08. Reduce max_iter or increase eps parameters.\n",
      "  ConvergenceWarning)\n",
      "D:\\Users\\Marcelo\\Anaconda3\\lib\\site-packages\\sklearn\\linear_model\\least_angle.py:311: ConvergenceWarning: Regressors in active set degenerate. Dropping a regressor, after 66 iterations, i.e. alpha=2.882e+00, with an active set of 40 regressors, and the smallest cholesky pivot element being 2.107e-08. Reduce max_iter or increase eps parameters.\n",
      "  ConvergenceWarning)\n",
      "D:\\Users\\Marcelo\\Anaconda3\\lib\\site-packages\\sklearn\\linear_model\\least_angle.py:311: ConvergenceWarning: Regressors in active set degenerate. Dropping a regressor, after 66 iterations, i.e. alpha=2.870e+00, with an active set of 40 regressors, and the smallest cholesky pivot element being 3.161e-08. Reduce max_iter or increase eps parameters.\n",
      "  ConvergenceWarning)\n",
      "D:\\Users\\Marcelo\\Anaconda3\\lib\\site-packages\\sklearn\\linear_model\\least_angle.py:311: ConvergenceWarning: Regressors in active set degenerate. Dropping a regressor, after 66 iterations, i.e. alpha=2.869e+00, with an active set of 40 regressors, and the smallest cholesky pivot element being 1.490e-08. Reduce max_iter or increase eps parameters.\n",
      "  ConvergenceWarning)\n",
      "D:\\Users\\Marcelo\\Anaconda3\\lib\\site-packages\\sklearn\\linear_model\\least_angle.py:311: ConvergenceWarning: Regressors in active set degenerate. Dropping a regressor, after 66 iterations, i.e. alpha=2.830e+00, with an active set of 40 regressors, and the smallest cholesky pivot element being 2.220e-16. Reduce max_iter or increase eps parameters.\n",
      "  ConvergenceWarning)\n",
      "D:\\Users\\Marcelo\\Anaconda3\\lib\\site-packages\\sklearn\\linear_model\\least_angle.py:311: ConvergenceWarning: Regressors in active set degenerate. Dropping a regressor, after 66 iterations, i.e. alpha=2.808e+00, with an active set of 40 regressors, and the smallest cholesky pivot element being 3.332e-08. Reduce max_iter or increase eps parameters.\n",
      "  ConvergenceWarning)\n",
      "D:\\Users\\Marcelo\\Anaconda3\\lib\\site-packages\\sklearn\\linear_model\\least_angle.py:311: ConvergenceWarning: Regressors in active set degenerate. Dropping a regressor, after 66 iterations, i.e. alpha=2.791e+00, with an active set of 40 regressors, and the smallest cholesky pivot element being 4.829e-08. Reduce max_iter or increase eps parameters.\n",
      "  ConvergenceWarning)\n",
      "D:\\Users\\Marcelo\\Anaconda3\\lib\\site-packages\\sklearn\\linear_model\\least_angle.py:337: ConvergenceWarning: Early stopping the lars path, as the residues are small and the current value of alpha is no longer well controlled. 67 iterations, alpha=2.960e+00, previous alpha=2.788e+00, with an active set of 40 regressors.\n",
      "  ConvergenceWarning)\n",
      "D:\\Users\\Marcelo\\Anaconda3\\lib\\site-packages\\sklearn\\linear_model\\least_angle.py:311: ConvergenceWarning: Regressors in active set degenerate. Dropping a regressor, after 55 iterations, i.e. alpha=6.559e+00, with an active set of 31 regressors, and the smallest cholesky pivot element being 2.107e-08. Reduce max_iter or increase eps parameters.\n",
      "  ConvergenceWarning)\n",
      "D:\\Users\\Marcelo\\Anaconda3\\lib\\site-packages\\sklearn\\linear_model\\least_angle.py:311: ConvergenceWarning: Regressors in active set degenerate. Dropping a regressor, after 55 iterations, i.e. alpha=6.559e+00, with an active set of 31 regressors, and the smallest cholesky pivot element being 2.107e-08. Reduce max_iter or increase eps parameters.\n",
      "  ConvergenceWarning)\n",
      "D:\\Users\\Marcelo\\Anaconda3\\lib\\site-packages\\sklearn\\linear_model\\least_angle.py:311: ConvergenceWarning: Regressors in active set degenerate. Dropping a regressor, after 67 iterations, i.e. alpha=3.280e+00, with an active set of 33 regressors, and the smallest cholesky pivot element being 2.107e-08. Reduce max_iter or increase eps parameters.\n",
      "  ConvergenceWarning)\n",
      "D:\\Users\\Marcelo\\Anaconda3\\lib\\site-packages\\sklearn\\linear_model\\least_angle.py:311: ConvergenceWarning: Regressors in active set degenerate. Dropping a regressor, after 67 iterations, i.e. alpha=3.280e+00, with an active set of 33 regressors, and the smallest cholesky pivot element being 2.581e-08. Reduce max_iter or increase eps parameters.\n",
      "  ConvergenceWarning)\n",
      "D:\\Users\\Marcelo\\Anaconda3\\lib\\site-packages\\sklearn\\linear_model\\least_angle.py:311: ConvergenceWarning: Regressors in active set degenerate. Dropping a regressor, after 67 iterations, i.e. alpha=3.280e+00, with an active set of 33 regressors, and the smallest cholesky pivot element being 2.581e-08. Reduce max_iter or increase eps parameters.\n",
      "  ConvergenceWarning)\n",
      "D:\\Users\\Marcelo\\Anaconda3\\lib\\site-packages\\sklearn\\linear_model\\least_angle.py:311: ConvergenceWarning: Regressors in active set degenerate. Dropping a regressor, after 67 iterations, i.e. alpha=3.280e+00, with an active set of 33 regressors, and the smallest cholesky pivot element being 1.490e-08. Reduce max_iter or increase eps parameters.\n",
      "  ConvergenceWarning)\n",
      "D:\\Users\\Marcelo\\Anaconda3\\lib\\site-packages\\sklearn\\linear_model\\least_angle.py:311: ConvergenceWarning: Regressors in active set degenerate. Dropping a regressor, after 67 iterations, i.e. alpha=3.280e+00, with an active set of 33 regressors, and the smallest cholesky pivot element being 2.107e-08. Reduce max_iter or increase eps parameters.\n",
      "  ConvergenceWarning)\n",
      "D:\\Users\\Marcelo\\Anaconda3\\lib\\site-packages\\sklearn\\linear_model\\least_angle.py:337: ConvergenceWarning: Early stopping the lars path, as the residues are small and the current value of alpha is no longer well controlled. 74 iterations, alpha=3.119e+00, previous alpha=3.100e+00, with an active set of 35 regressors.\n",
      "  ConvergenceWarning)\n",
      "D:\\Users\\Marcelo\\Anaconda3\\lib\\site-packages\\sklearn\\linear_model\\least_angle.py:311: ConvergenceWarning: Regressors in active set degenerate. Dropping a regressor, after 29 iterations, i.e. alpha=2.482e+01, with an active set of 21 regressors, and the smallest cholesky pivot element being 2.980e-08. Reduce max_iter or increase eps parameters.\n",
      "  ConvergenceWarning)\n",
      "D:\\Users\\Marcelo\\Anaconda3\\lib\\site-packages\\sklearn\\linear_model\\least_angle.py:311: ConvergenceWarning: Regressors in active set degenerate. Dropping a regressor, after 29 iterations, i.e. alpha=2.482e+01, with an active set of 21 regressors, and the smallest cholesky pivot element being 2.356e-08. Reduce max_iter or increase eps parameters.\n",
      "  ConvergenceWarning)\n",
      "D:\\Users\\Marcelo\\Anaconda3\\lib\\site-packages\\sklearn\\linear_model\\least_angle.py:311: ConvergenceWarning: Regressors in active set degenerate. Dropping a regressor, after 40 iterations, i.e. alpha=1.241e+01, with an active set of 24 regressors, and the smallest cholesky pivot element being 2.356e-08. Reduce max_iter or increase eps parameters.\n",
      "  ConvergenceWarning)\n"
     ]
    },
    {
     "name": "stderr",
     "output_type": "stream",
     "text": [
      "D:\\Users\\Marcelo\\Anaconda3\\lib\\site-packages\\sklearn\\linear_model\\least_angle.py:311: ConvergenceWarning: Regressors in active set degenerate. Dropping a regressor, after 44 iterations, i.e. alpha=1.192e+01, with an active set of 28 regressors, and the smallest cholesky pivot element being 2.356e-08. Reduce max_iter or increase eps parameters.\n",
      "  ConvergenceWarning)\n",
      "D:\\Users\\Marcelo\\Anaconda3\\lib\\site-packages\\sklearn\\linear_model\\least_angle.py:311: ConvergenceWarning: Regressors in active set degenerate. Dropping a regressor, after 44 iterations, i.e. alpha=1.192e+01, with an active set of 28 regressors, and the smallest cholesky pivot element being 2.107e-08. Reduce max_iter or increase eps parameters.\n",
      "  ConvergenceWarning)\n",
      "D:\\Users\\Marcelo\\Anaconda3\\lib\\site-packages\\sklearn\\linear_model\\least_angle.py:311: ConvergenceWarning: Regressors in active set degenerate. Dropping a regressor, after 44 iterations, i.e. alpha=1.192e+01, with an active set of 28 regressors, and the smallest cholesky pivot element being 2.107e-08. Reduce max_iter or increase eps parameters.\n",
      "  ConvergenceWarning)\n",
      "D:\\Users\\Marcelo\\Anaconda3\\lib\\site-packages\\sklearn\\linear_model\\least_angle.py:337: ConvergenceWarning: Early stopping the lars path, as the residues are small and the current value of alpha is no longer well controlled. 45 iterations, alpha=1.188e+01, previous alpha=1.188e+01, with an active set of 28 regressors.\n",
      "  ConvergenceWarning)\n",
      "D:\\Users\\Marcelo\\Anaconda3\\lib\\site-packages\\sklearn\\linear_model\\least_angle.py:311: ConvergenceWarning: Regressors in active set degenerate. Dropping a regressor, after 46 iterations, i.e. alpha=1.022e+01, with an active set of 30 regressors, and the smallest cholesky pivot element being 2.220e-16. Reduce max_iter or increase eps parameters.\n",
      "  ConvergenceWarning)\n",
      "D:\\Users\\Marcelo\\Anaconda3\\lib\\site-packages\\sklearn\\linear_model\\least_angle.py:311: ConvergenceWarning: Regressors in active set degenerate. Dropping a regressor, after 46 iterations, i.e. alpha=1.022e+01, with an active set of 30 regressors, and the smallest cholesky pivot element being 2.581e-08. Reduce max_iter or increase eps parameters.\n",
      "  ConvergenceWarning)\n",
      "D:\\Users\\Marcelo\\Anaconda3\\lib\\site-packages\\sklearn\\linear_model\\least_angle.py:311: ConvergenceWarning: Regressors in active set degenerate. Dropping a regressor, after 54 iterations, i.e. alpha=7.984e+00, with an active set of 32 regressors, and the smallest cholesky pivot element being 2.107e-08. Reduce max_iter or increase eps parameters.\n",
      "  ConvergenceWarning)\n",
      "D:\\Users\\Marcelo\\Anaconda3\\lib\\site-packages\\sklearn\\linear_model\\least_angle.py:311: ConvergenceWarning: Regressors in active set degenerate. Dropping a regressor, after 54 iterations, i.e. alpha=7.984e+00, with an active set of 32 regressors, and the smallest cholesky pivot element being 2.220e-16. Reduce max_iter or increase eps parameters.\n",
      "  ConvergenceWarning)\n",
      "D:\\Users\\Marcelo\\Anaconda3\\lib\\site-packages\\sklearn\\linear_model\\least_angle.py:311: ConvergenceWarning: Regressors in active set degenerate. Dropping a regressor, after 57 iterations, i.e. alpha=5.111e+00, with an active set of 35 regressors, and the smallest cholesky pivot element being 2.220e-16. Reduce max_iter or increase eps parameters.\n",
      "  ConvergenceWarning)\n",
      "D:\\Users\\Marcelo\\Anaconda3\\lib\\site-packages\\sklearn\\linear_model\\least_angle.py:311: ConvergenceWarning: Regressors in active set degenerate. Dropping a regressor, after 57 iterations, i.e. alpha=5.111e+00, with an active set of 35 regressors, and the smallest cholesky pivot element being 2.581e-08. Reduce max_iter or increase eps parameters.\n",
      "  ConvergenceWarning)\n",
      "D:\\Users\\Marcelo\\Anaconda3\\lib\\site-packages\\sklearn\\linear_model\\least_angle.py:311: ConvergenceWarning: Regressors in active set degenerate. Dropping a regressor, after 57 iterations, i.e. alpha=5.111e+00, with an active set of 35 regressors, and the smallest cholesky pivot element being 2.107e-08. Reduce max_iter or increase eps parameters.\n",
      "  ConvergenceWarning)\n",
      "D:\\Users\\Marcelo\\Anaconda3\\lib\\site-packages\\sklearn\\linear_model\\least_angle.py:337: ConvergenceWarning: Early stopping the lars path, as the residues are small and the current value of alpha is no longer well controlled. 59 iterations, alpha=4.836e+00, previous alpha=4.764e+00, with an active set of 36 regressors.\n",
      "  ConvergenceWarning)\n",
      "D:\\Users\\Marcelo\\Anaconda3\\lib\\site-packages\\sklearn\\linear_model\\least_angle.py:311: ConvergenceWarning: Regressors in active set degenerate. Dropping a regressor, after 30 iterations, i.e. alpha=2.238e+01, with an active set of 22 regressors, and the smallest cholesky pivot element being 2.220e-16. Reduce max_iter or increase eps parameters.\n",
      "  ConvergenceWarning)\n",
      "D:\\Users\\Marcelo\\Anaconda3\\lib\\site-packages\\sklearn\\linear_model\\least_angle.py:311: ConvergenceWarning: Regressors in active set degenerate. Dropping a regressor, after 34 iterations, i.e. alpha=1.946e+01, with an active set of 26 regressors, and the smallest cholesky pivot element being 2.107e-08. Reduce max_iter or increase eps parameters.\n",
      "  ConvergenceWarning)\n",
      "D:\\Users\\Marcelo\\Anaconda3\\lib\\site-packages\\sklearn\\linear_model\\least_angle.py:311: ConvergenceWarning: Regressors in active set degenerate. Dropping a regressor, after 34 iterations, i.e. alpha=1.946e+01, with an active set of 26 regressors, and the smallest cholesky pivot element being 2.107e-08. Reduce max_iter or increase eps parameters.\n",
      "  ConvergenceWarning)\n",
      "D:\\Users\\Marcelo\\Anaconda3\\lib\\site-packages\\sklearn\\linear_model\\least_angle.py:311: ConvergenceWarning: Regressors in active set degenerate. Dropping a regressor, after 48 iterations, i.e. alpha=9.730e+00, with an active set of 28 regressors, and the smallest cholesky pivot element being 1.490e-08. Reduce max_iter or increase eps parameters.\n",
      "  ConvergenceWarning)\n",
      "D:\\Users\\Marcelo\\Anaconda3\\lib\\site-packages\\sklearn\\linear_model\\least_angle.py:311: ConvergenceWarning: Regressors in active set degenerate. Dropping a regressor, after 48 iterations, i.e. alpha=9.730e+00, with an active set of 28 regressors, and the smallest cholesky pivot element being 2.980e-08. Reduce max_iter or increase eps parameters.\n",
      "  ConvergenceWarning)\n",
      "D:\\Users\\Marcelo\\Anaconda3\\lib\\site-packages\\sklearn\\linear_model\\least_angle.py:311: ConvergenceWarning: Regressors in active set degenerate. Dropping a regressor, after 51 iterations, i.e. alpha=9.517e+00, with an active set of 31 regressors, and the smallest cholesky pivot element being 2.980e-08. Reduce max_iter or increase eps parameters.\n",
      "  ConvergenceWarning)\n",
      "D:\\Users\\Marcelo\\Anaconda3\\lib\\site-packages\\sklearn\\linear_model\\least_angle.py:337: ConvergenceWarning: Early stopping the lars path, as the residues are small and the current value of alpha is no longer well controlled. 52 iterations, alpha=9.554e+00, previous alpha=9.474e+00, with an active set of 31 regressors.\n",
      "  ConvergenceWarning)\n",
      "D:\\Users\\Marcelo\\Anaconda3\\lib\\site-packages\\sklearn\\linear_model\\least_angle.py:311: ConvergenceWarning: Regressors in active set degenerate. Dropping a regressor, after 58 iterations, i.e. alpha=4.541e+00, with an active set of 36 regressors, and the smallest cholesky pivot element being 1.490e-08. Reduce max_iter or increase eps parameters.\n",
      "  ConvergenceWarning)\n",
      "D:\\Users\\Marcelo\\Anaconda3\\lib\\site-packages\\sklearn\\linear_model\\least_angle.py:311: ConvergenceWarning: Regressors in active set degenerate. Dropping a regressor, after 58 iterations, i.e. alpha=4.541e+00, with an active set of 36 regressors, and the smallest cholesky pivot element being 1.490e-08. Reduce max_iter or increase eps parameters.\n",
      "  ConvergenceWarning)\n",
      "D:\\Users\\Marcelo\\Anaconda3\\lib\\site-packages\\sklearn\\linear_model\\least_angle.py:311: ConvergenceWarning: Regressors in active set degenerate. Dropping a regressor, after 62 iterations, i.e. alpha=2.993e+00, with an active set of 36 regressors, and the smallest cholesky pivot element being 3.650e-08. Reduce max_iter or increase eps parameters.\n",
      "  ConvergenceWarning)\n",
      "D:\\Users\\Marcelo\\Anaconda3\\lib\\site-packages\\sklearn\\linear_model\\least_angle.py:311: ConvergenceWarning: Regressors in active set degenerate. Dropping a regressor, after 63 iterations, i.e. alpha=2.981e+00, with an active set of 37 regressors, and the smallest cholesky pivot element being 3.650e-08. Reduce max_iter or increase eps parameters.\n",
      "  ConvergenceWarning)\n",
      "D:\\Users\\Marcelo\\Anaconda3\\lib\\site-packages\\sklearn\\linear_model\\least_angle.py:311: ConvergenceWarning: Regressors in active set degenerate. Dropping a regressor, after 63 iterations, i.e. alpha=2.981e+00, with an active set of 37 regressors, and the smallest cholesky pivot element being 3.650e-08. Reduce max_iter or increase eps parameters.\n",
      "  ConvergenceWarning)\n",
      "D:\\Users\\Marcelo\\Anaconda3\\lib\\site-packages\\sklearn\\linear_model\\least_angle.py:311: ConvergenceWarning: Regressors in active set degenerate. Dropping a regressor, after 63 iterations, i.e. alpha=2.981e+00, with an active set of 37 regressors, and the smallest cholesky pivot element being 2.107e-08. Reduce max_iter or increase eps parameters.\n",
      "  ConvergenceWarning)\n",
      "D:\\Users\\Marcelo\\Anaconda3\\lib\\site-packages\\sklearn\\linear_model\\least_angle.py:311: ConvergenceWarning: Regressors in active set degenerate. Dropping a regressor, after 63 iterations, i.e. alpha=2.981e+00, with an active set of 37 regressors, and the smallest cholesky pivot element being 1.825e-08. Reduce max_iter or increase eps parameters.\n",
      "  ConvergenceWarning)\n",
      "D:\\Users\\Marcelo\\Anaconda3\\lib\\site-packages\\sklearn\\linear_model\\least_angle.py:311: ConvergenceWarning: Regressors in active set degenerate. Dropping a regressor, after 63 iterations, i.e. alpha=2.981e+00, with an active set of 37 regressors, and the smallest cholesky pivot element being 2.107e-08. Reduce max_iter or increase eps parameters.\n",
      "  ConvergenceWarning)\n",
      "D:\\Users\\Marcelo\\Anaconda3\\lib\\site-packages\\sklearn\\linear_model\\least_angle.py:311: ConvergenceWarning: Regressors in active set degenerate. Dropping a regressor, after 63 iterations, i.e. alpha=2.981e+00, with an active set of 37 regressors, and the smallest cholesky pivot element being 2.581e-08. Reduce max_iter or increase eps parameters.\n",
      "  ConvergenceWarning)\n",
      "D:\\Users\\Marcelo\\Anaconda3\\lib\\site-packages\\sklearn\\linear_model\\least_angle.py:311: ConvergenceWarning: Regressors in active set degenerate. Dropping a regressor, after 63 iterations, i.e. alpha=2.961e+00, with an active set of 37 regressors, and the smallest cholesky pivot element being 2.581e-08. Reduce max_iter or increase eps parameters.\n",
      "  ConvergenceWarning)\n",
      "D:\\Users\\Marcelo\\Anaconda3\\lib\\site-packages\\sklearn\\linear_model\\least_angle.py:337: ConvergenceWarning: Early stopping the lars path, as the residues are small and the current value of alpha is no longer well controlled. 64 iterations, alpha=2.976e+00, previous alpha=2.902e+00, with an active set of 37 regressors.\n",
      "  ConvergenceWarning)\n"
     ]
    },
    {
     "data": {
      "image/png": "[encoded data removed]",
      "text/plain": [
       "<Figure size 432x288 with 1 Axes>"
      ]
     },
     "metadata": {
      "needs_background": "light"
     },
     "output_type": "display_data"
    },
    {
     "data": {
      "image/png": "[encoded data removed]",
      "text/plain": [
       "<Figure size 432x288 with 1 Axes>"
      ]
     },
     "metadata": {
      "needs_background": "light"
     },
     "output_type": "display_data"
    },
    {
     "data": {
      "image/png": "[encoded data removed]",
      "text/plain": [
       "<Figure size 432x288 with 1 Axes>"
      ]
     },
     "metadata": {
      "needs_background": "light"
     },
     "output_type": "display_data"
    }
   ],
   "source": [
    "print(__doc__)\n",
    "\n",
    "# Author: Olivier Grisel, Gael Varoquaux, Alexandre Gramfort\n",
    "# License: BSD 3 clause\n",
    "\n",
    "import time\n",
    "\n",
    "import numpy as np\n",
    "import matplotlib.pyplot as plt\n",
    "\n",
    "from sklearn.linear_model import LassoCV, LassoLarsCV, LassoLarsIC\n",
    "from sklearn import datasets\n",
    "\n",
    "#diabetes = datasets.load_diabetes()\n",
    "#X = diabetes.data\n",
    "#y = diabetes.target\n",
    "\n",
    "rng = np.random.RandomState(42)\n",
    "X = np.c_[X, rng.randn(X.shape[0], 14)]  # add some bad features\n",
    "\n",
    "# normalize data as done by Lars to allow for comparison\n",
    "X /= np.sqrt(np.sum(X ** 2, axis=0))\n",
    "\n",
    "# #############################################################################\n",
    "# LassoLarsIC: least angle regression with BIC/AIC criterion\n",
    "\n",
    "model_bic = LassoLarsIC(criterion='bic')\n",
    "t1 = time.time()\n",
    "model_bic.fit(X, y)\n",
    "t_bic = time.time() - t1\n",
    "alpha_bic_ = model_bic.alpha_\n",
    "\n",
    "model_aic = LassoLarsIC(criterion='aic')\n",
    "model_aic.fit(X, y)\n",
    "alpha_aic_ = model_aic.alpha_\n",
    "\n",
    "\n",
    "def plot_ic_criterion(model, name, color):\n",
    "    alpha_ = model.alpha_\n",
    "    alphas_ = model.alphas_\n",
    "    #print('alphas_', alphas_) #print test\n",
    "    criterion_ = model.criterion_\n",
    "    plt.plot(-np.log10(alphas_), criterion_, '--', color=color,\n",
    "             linewidth=3, label='%s criterion' % name)\n",
    "    plt.axvline(-np.log10(alpha_), color=color, linewidth=3,\n",
    "                label='alpha: %s estimate' % name)\n",
    "    plt.xlabel('-log(alpha)')\n",
    "    plt.ylabel('criterion')\n",
    "\n",
    "plt.figure()\n",
    "plot_ic_criterion(model_aic, 'AIC', 'b')\n",
    "plot_ic_criterion(model_bic, 'BIC', 'r')\n",
    "plt.legend()\n",
    "plt.title('Information-criterion for model selection (training time %.3fs)'\n",
    "          % t_bic)\n",
    "\n",
    "# #############################################################################\n",
    "# LassoCV: coordinate descent\n",
    "\n",
    "# Compute paths\n",
    "print(\"Computing regularization path using the coordinate descent lasso...\")\n",
    "t1 = time.time()\n",
    "model = LassoCV(cv=20).fit(X, y)\n",
    "t_lasso_cv = time.time() - t1\n",
    "\n",
    "# Display results\n",
    "m_log_alphas = -np.log10(model.alphas_)\n",
    "\n",
    "plt.figure()\n",
    "ymin, ymax = 2300, 3800\n",
    "plt.plot(m_log_alphas, model.mse_path_, ':')\n",
    "plt.plot(m_log_alphas, model.mse_path_.mean(axis=-1), 'k',\n",
    "         label='Average across the folds', linewidth=2)\n",
    "plt.axvline(-np.log10(model.alpha_), linestyle='--', color='k',\n",
    "            label='alpha: CV estimate')\n",
    "\n",
    "plt.legend()\n",
    "\n",
    "plt.xlabel('-log(alpha)')\n",
    "plt.ylabel('Mean square error')\n",
    "plt.title('Mean square error on each fold: coordinate descent '\n",
    "          '(train time: %.2fs)' % t_lasso_cv)\n",
    "plt.axis('tight')\n",
    "plt.ylim(ymin, ymax)\n",
    "\n",
    "# #############################################################################\n",
    "# LassoLarsCV: least angle regression\n",
    "\n",
    "# Compute paths\n",
    "print(\"Computing regularization path using the Lars lasso...\")\n",
    "t1 = time.time()\n",
    "model = LassoLarsCV(cv=20).fit(X, y)\n",
    "t_lasso_lars_cv = time.time() - t1\n",
    "\n",
    "# Display results\n",
    "m_log_alphas = -np.log10(model.cv_alphas_)\n",
    "\n",
    "plt.figure()\n",
    "plt.plot(m_log_alphas, model.mse_path_, ':')\n",
    "plt.plot(m_log_alphas, model.mse_path_.mean(axis=-1), 'k',\n",
    "         label='Average across the folds', linewidth=2)\n",
    "plt.axvline(-np.log10(model.alpha_), linestyle='--', color='k',\n",
    "            label='alpha CV')\n",
    "plt.legend()\n",
    "\n",
    "plt.xlabel('-log(alpha)')\n",
    "plt.ylabel('Mean square error')\n",
    "plt.title('Mean square error on each fold: Lars (train time: %.2fs)'\n",
    "          % t_lasso_lars_cv)\n",
    "plt.axis('tight')\n",
    "plt.ylim(ymin, ymax)\n",
    "\n",
    "plt.show()"
   ]
  },
  {
   "cell_type": "markdown",
   "metadata": {},
   "source": [
    "#### normal lasso"
   ]
  },
  {
   "cell_type": "code",
   "execution_count": 74,
   "metadata": {},
   "outputs": [
    {
     "name": "stderr",
     "output_type": "stream",
     "text": [
      "D:\\Users\\Marcelo\\Anaconda3\\lib\\site-packages\\sklearn\\linear_model\\coordinate_descent.py:492: ConvergenceWarning: Objective did not converge. You might want to increase the number of iterations. Fitting data with very small alpha may cause precision problems.\n",
      "  ConvergenceWarning)\n",
      "D:\\Users\\Marcelo\\Anaconda3\\lib\\site-packages\\sklearn\\linear_model\\coordinate_descent.py:492: ConvergenceWarning: Objective did not converge. You might want to increase the number of iterations. Fitting data with very small alpha may cause precision problems.\n",
      "  ConvergenceWarning)\n",
      "D:\\Users\\Marcelo\\Anaconda3\\lib\\site-packages\\sklearn\\linear_model\\coordinate_descent.py:492: ConvergenceWarning: Objective did not converge. You might want to increase the number of iterations. Fitting data with very small alpha may cause precision problems.\n",
      "  ConvergenceWarning)\n",
      "D:\\Users\\Marcelo\\Anaconda3\\lib\\site-packages\\sklearn\\linear_model\\coordinate_descent.py:492: ConvergenceWarning: Objective did not converge. You might want to increase the number of iterations. Fitting data with very small alpha may cause precision problems.\n",
      "  ConvergenceWarning)\n",
      "D:\\Users\\Marcelo\\Anaconda3\\lib\\site-packages\\sklearn\\linear_model\\coordinate_descent.py:492: ConvergenceWarning: Objective did not converge. You might want to increase the number of iterations. Fitting data with very small alpha may cause precision problems.\n",
      "  ConvergenceWarning)\n",
      "D:\\Users\\Marcelo\\Anaconda3\\lib\\site-packages\\sklearn\\linear_model\\coordinate_descent.py:492: ConvergenceWarning: Objective did not converge. You might want to increase the number of iterations. Fitting data with very small alpha may cause precision problems.\n",
      "  ConvergenceWarning)\n",
      "D:\\Users\\Marcelo\\Anaconda3\\lib\\site-packages\\sklearn\\linear_model\\coordinate_descent.py:492: ConvergenceWarning: Objective did not converge. You might want to increase the number of iterations. Fitting data with very small alpha may cause precision problems.\n",
      "  ConvergenceWarning)\n",
      "D:\\Users\\Marcelo\\Anaconda3\\lib\\site-packages\\sklearn\\linear_model\\coordinate_descent.py:492: ConvergenceWarning: Objective did not converge. You might want to increase the number of iterations. Fitting data with very small alpha may cause precision problems.\n",
      "  ConvergenceWarning)\n",
      "D:\\Users\\Marcelo\\Anaconda3\\lib\\site-packages\\sklearn\\linear_model\\coordinate_descent.py:492: ConvergenceWarning: Objective did not converge. You might want to increase the number of iterations. Fitting data with very small alpha may cause precision problems.\n",
      "  ConvergenceWarning)\n",
      "D:\\Users\\Marcelo\\Anaconda3\\lib\\site-packages\\sklearn\\linear_model\\coordinate_descent.py:492: ConvergenceWarning: Objective did not converge. You might want to increase the number of iterations. Fitting data with very small alpha may cause precision problems.\n",
      "  ConvergenceWarning)\n",
      "D:\\Users\\Marcelo\\Anaconda3\\lib\\site-packages\\sklearn\\linear_model\\coordinate_descent.py:492: ConvergenceWarning: Objective did not converge. You might want to increase the number of iterations. Fitting data with very small alpha may cause precision problems.\n",
      "  ConvergenceWarning)\n",
      "D:\\Users\\Marcelo\\Anaconda3\\lib\\site-packages\\sklearn\\linear_model\\coordinate_descent.py:492: ConvergenceWarning: Objective did not converge. You might want to increase the number of iterations. Fitting data with very small alpha may cause precision problems.\n",
      "  ConvergenceWarning)\n",
      "D:\\Users\\Marcelo\\Anaconda3\\lib\\site-packages\\sklearn\\linear_model\\coordinate_descent.py:492: ConvergenceWarning: Objective did not converge. You might want to increase the number of iterations. Fitting data with very small alpha may cause precision problems.\n",
      "  ConvergenceWarning)\n",
      "D:\\Users\\Marcelo\\Anaconda3\\lib\\site-packages\\sklearn\\linear_model\\coordinate_descent.py:492: ConvergenceWarning: Objective did not converge. You might want to increase the number of iterations. Fitting data with very small alpha may cause precision problems.\n",
      "  ConvergenceWarning)\n",
      "D:\\Users\\Marcelo\\Anaconda3\\lib\\site-packages\\sklearn\\linear_model\\coordinate_descent.py:492: ConvergenceWarning: Objective did not converge. You might want to increase the number of iterations. Fitting data with very small alpha may cause precision problems.\n",
      "  ConvergenceWarning)\n",
      "D:\\Users\\Marcelo\\Anaconda3\\lib\\site-packages\\sklearn\\linear_model\\coordinate_descent.py:492: ConvergenceWarning: Objective did not converge. You might want to increase the number of iterations. Fitting data with very small alpha may cause precision problems.\n",
      "  ConvergenceWarning)\n",
      "D:\\Users\\Marcelo\\Anaconda3\\lib\\site-packages\\sklearn\\linear_model\\coordinate_descent.py:492: ConvergenceWarning: Objective did not converge. You might want to increase the number of iterations. Fitting data with very small alpha may cause precision problems.\n",
      "  ConvergenceWarning)\n",
      "D:\\Users\\Marcelo\\Anaconda3\\lib\\site-packages\\sklearn\\linear_model\\coordinate_descent.py:492: ConvergenceWarning: Objective did not converge. You might want to increase the number of iterations. Fitting data with very small alpha may cause precision problems.\n",
      "  ConvergenceWarning)\n",
      "D:\\Users\\Marcelo\\Anaconda3\\lib\\site-packages\\sklearn\\linear_model\\coordinate_descent.py:492: ConvergenceWarning: Objective did not converge. You might want to increase the number of iterations. Fitting data with very small alpha may cause precision problems.\n",
      "  ConvergenceWarning)\n",
      "D:\\Users\\Marcelo\\Anaconda3\\lib\\site-packages\\sklearn\\linear_model\\coordinate_descent.py:492: ConvergenceWarning: Objective did not converge. You might want to increase the number of iterations. Fitting data with very small alpha may cause precision problems.\n",
      "  ConvergenceWarning)\n",
      "D:\\Users\\Marcelo\\Anaconda3\\lib\\site-packages\\sklearn\\linear_model\\coordinate_descent.py:492: ConvergenceWarning: Objective did not converge. You might want to increase the number of iterations. Fitting data with very small alpha may cause precision problems.\n",
      "  ConvergenceWarning)\n",
      "D:\\Users\\Marcelo\\Anaconda3\\lib\\site-packages\\sklearn\\linear_model\\coordinate_descent.py:492: ConvergenceWarning: Objective did not converge. You might want to increase the number of iterations. Fitting data with very small alpha may cause precision problems.\n",
      "  ConvergenceWarning)\n",
      "D:\\Users\\Marcelo\\Anaconda3\\lib\\site-packages\\sklearn\\linear_model\\coordinate_descent.py:492: ConvergenceWarning: Objective did not converge. You might want to increase the number of iterations. Fitting data with very small alpha may cause precision problems.\n",
      "  ConvergenceWarning)\n",
      "D:\\Users\\Marcelo\\Anaconda3\\lib\\site-packages\\sklearn\\linear_model\\coordinate_descent.py:492: ConvergenceWarning: Objective did not converge. You might want to increase the number of iterations. Fitting data with very small alpha may cause precision problems.\n",
      "  ConvergenceWarning)\n",
      "D:\\Users\\Marcelo\\Anaconda3\\lib\\site-packages\\sklearn\\linear_model\\coordinate_descent.py:492: ConvergenceWarning: Objective did not converge. You might want to increase the number of iterations. Fitting data with very small alpha may cause precision problems.\n",
      "  ConvergenceWarning)\n",
      "D:\\Users\\Marcelo\\Anaconda3\\lib\\site-packages\\sklearn\\linear_model\\coordinate_descent.py:492: ConvergenceWarning: Objective did not converge. You might want to increase the number of iterations. Fitting data with very small alpha may cause precision problems.\n",
      "  ConvergenceWarning)\n",
      "D:\\Users\\Marcelo\\Anaconda3\\lib\\site-packages\\sklearn\\linear_model\\coordinate_descent.py:492: ConvergenceWarning: Objective did not converge. You might want to increase the number of iterations. Fitting data with very small alpha may cause precision problems.\n",
      "  ConvergenceWarning)\n"
     ]
    },
    {
     "name": "stdout",
     "output_type": "stream",
     "text": [
      "[-6089.0885007517445, -6089.512534752319, -6090.633018281007, -6093.658295278253, -6111.5112937502945, -5333.022950634172, -2674.265535929502, -1348.4546018469923, -891.631522936492, -135.84750340468497, -118.0374005196309, -116.40804544995208, -129.3236508533925, -134.94040260429756]\n",
      "10.0\n"
     ]
    }
   ],
   "source": [
    "X = data.iloc[:, 1:-1]\n",
    "best_alpha = retrieve_lasso_alpha(X, alpha_space)"
   ]
  },
  {
   "cell_type": "raw",
   "metadata": {},
   "source": [
    "best_alpha = alpha_space[lasso_scores.index(max(lasso_scores))]\n",
    "best_alpha"
   ]
  },
  {
   "cell_type": "code",
   "execution_count": 75,
   "metadata": {
    "scrolled": false
   },
   "outputs": [
    {
     "data": {
      "image/png": "[encoded data removed]",
      "text/plain": [
       "<Figure size 1152x360 with 1 Axes>"
      ]
     },
     "metadata": {
      "needs_background": "light"
     },
     "output_type": "display_data"
    }
   ],
   "source": [
    "lasso_coef = plot_lasso_coef(X,y, best_alpha)"
   ]
  },
  {
   "cell_type": "code",
   "execution_count": 76,
   "metadata": {
    "scrolled": true
   },
   "outputs": [
    {
     "name": "stdout",
     "output_type": "stream",
     "text": [
      "vc\n",
      "pneu\n",
      "feia\n",
      "mi\n",
      "show\n",
      "notificações\n",
      "mato\n",
      "antes\n",
      "usar\n",
      "mesmo\n",
      "três\n",
      "morrer\n",
      "tempo\n",
      "sp\n",
      "paulo\n",
      "natal\n",
      "saber\n",
      "@minsaude:\n",
      "cidades\n"
     ]
    }
   ],
   "source": [
    "print_vars(lasso_coef, 0.8)"
   ]
  },
  {
   "cell_type": "code",
   "execution_count": 77,
   "metadata": {
    "scrolled": false
   },
   "outputs": [
    {
     "data": {
      "image/png": "[encoded data removed]",
      "text/plain": [
       "<Figure size 1152x360 with 1 Axes>"
      ]
     },
     "metadata": {
      "needs_background": "light"
     },
     "output_type": "display_data"
    }
   ],
   "source": [
    "lasso.fit(X, y)\n",
    "y_pred = lasso.predict(X)\n",
    "\n",
    "# Plot the coefficients\n",
    "plt.figure(figsize=(16,5))\n",
    "plt.plot(range(len(y)), y_pred, 'r')\n",
    "plt.plot(range(len(y)), y, 'b')\n",
    "\n",
    "plt.xticks(range(len(X)), list(range(50)), rotation=60)\n",
    "plt.xlabel(\"week\")\n",
    "plt.ylabel(\"y\")\n",
    "plt.margins(0.02)\n",
    "plt.show()"
   ]
  },
  {
   "cell_type": "code",
   "execution_count": 78,
   "metadata": {},
   "outputs": [
    {
     "data": {
      "text/plain": [
       "0.782628786722346"
      ]
     },
     "execution_count": 78,
     "metadata": {},
     "output_type": "execute_result"
    }
   ],
   "source": [
    "lasso.score(X,y)"
   ]
  },
  {
   "cell_type": "markdown",
   "metadata": {},
   "source": [
    "### working with 50 features"
   ]
  },
  {
   "cell_type": "code",
   "execution_count": 669,
   "metadata": {},
   "outputs": [
    {
     "name": "stderr",
     "output_type": "stream",
     "text": [
      "D:\\Users\\Marcelo\\Anaconda3\\lib\\site-packages\\sklearn\\linear_model\\coordinate_descent.py:492: ConvergenceWarning: Objective did not converge. You might want to increase the number of iterations. Fitting data with very small alpha may cause precision problems.\n",
      "  ConvergenceWarning)\n",
      "D:\\Users\\Marcelo\\Anaconda3\\lib\\site-packages\\sklearn\\linear_model\\coordinate_descent.py:492: ConvergenceWarning: Objective did not converge. You might want to increase the number of iterations. Fitting data with very small alpha may cause precision problems.\n",
      "  ConvergenceWarning)\n",
      "D:\\Users\\Marcelo\\Anaconda3\\lib\\site-packages\\sklearn\\linear_model\\coordinate_descent.py:492: ConvergenceWarning: Objective did not converge. You might want to increase the number of iterations. Fitting data with very small alpha may cause precision problems.\n",
      "  ConvergenceWarning)\n",
      "D:\\Users\\Marcelo\\Anaconda3\\lib\\site-packages\\sklearn\\linear_model\\coordinate_descent.py:492: ConvergenceWarning: Objective did not converge. You might want to increase the number of iterations. Fitting data with very small alpha may cause precision problems.\n",
      "  ConvergenceWarning)\n",
      "D:\\Users\\Marcelo\\Anaconda3\\lib\\site-packages\\sklearn\\linear_model\\coordinate_descent.py:492: ConvergenceWarning: Objective did not converge. You might want to increase the number of iterations. Fitting data with very small alpha may cause precision problems.\n",
      "  ConvergenceWarning)\n",
      "D:\\Users\\Marcelo\\Anaconda3\\lib\\site-packages\\sklearn\\linear_model\\coordinate_descent.py:492: ConvergenceWarning: Objective did not converge. You might want to increase the number of iterations. Fitting data with very small alpha may cause precision problems.\n",
      "  ConvergenceWarning)\n",
      "D:\\Users\\Marcelo\\Anaconda3\\lib\\site-packages\\sklearn\\linear_model\\coordinate_descent.py:492: ConvergenceWarning: Objective did not converge. You might want to increase the number of iterations. Fitting data with very small alpha may cause precision problems.\n",
      "  ConvergenceWarning)\n",
      "D:\\Users\\Marcelo\\Anaconda3\\lib\\site-packages\\sklearn\\linear_model\\coordinate_descent.py:492: ConvergenceWarning: Objective did not converge. You might want to increase the number of iterations. Fitting data with very small alpha may cause precision problems.\n",
      "  ConvergenceWarning)\n",
      "D:\\Users\\Marcelo\\Anaconda3\\lib\\site-packages\\sklearn\\linear_model\\coordinate_descent.py:492: ConvergenceWarning: Objective did not converge. You might want to increase the number of iterations. Fitting data with very small alpha may cause precision problems.\n",
      "  ConvergenceWarning)\n",
      "D:\\Users\\Marcelo\\Anaconda3\\lib\\site-packages\\sklearn\\linear_model\\coordinate_descent.py:492: ConvergenceWarning: Objective did not converge. You might want to increase the number of iterations. Fitting data with very small alpha may cause precision problems.\n",
      "  ConvergenceWarning)\n",
      "D:\\Users\\Marcelo\\Anaconda3\\lib\\site-packages\\sklearn\\linear_model\\coordinate_descent.py:492: ConvergenceWarning: Objective did not converge. You might want to increase the number of iterations. Fitting data with very small alpha may cause precision problems.\n",
      "  ConvergenceWarning)\n",
      "D:\\Users\\Marcelo\\Anaconda3\\lib\\site-packages\\sklearn\\linear_model\\coordinate_descent.py:492: ConvergenceWarning: Objective did not converge. You might want to increase the number of iterations. Fitting data with very small alpha may cause precision problems.\n",
      "  ConvergenceWarning)\n",
      "D:\\Users\\Marcelo\\Anaconda3\\lib\\site-packages\\sklearn\\linear_model\\coordinate_descent.py:492: ConvergenceWarning: Objective did not converge. You might want to increase the number of iterations. Fitting data with very small alpha may cause precision problems.\n",
      "  ConvergenceWarning)\n",
      "D:\\Users\\Marcelo\\Anaconda3\\lib\\site-packages\\sklearn\\linear_model\\coordinate_descent.py:492: ConvergenceWarning: Objective did not converge. You might want to increase the number of iterations. Fitting data with very small alpha may cause precision problems.\n",
      "  ConvergenceWarning)\n",
      "D:\\Users\\Marcelo\\Anaconda3\\lib\\site-packages\\sklearn\\linear_model\\coordinate_descent.py:492: ConvergenceWarning: Objective did not converge. You might want to increase the number of iterations. Fitting data with very small alpha may cause precision problems.\n",
      "  ConvergenceWarning)\n",
      "D:\\Users\\Marcelo\\Anaconda3\\lib\\site-packages\\sklearn\\linear_model\\coordinate_descent.py:492: ConvergenceWarning: Objective did not converge. You might want to increase the number of iterations. Fitting data with very small alpha may cause precision problems.\n",
      "  ConvergenceWarning)\n",
      "D:\\Users\\Marcelo\\Anaconda3\\lib\\site-packages\\sklearn\\linear_model\\coordinate_descent.py:492: ConvergenceWarning: Objective did not converge. You might want to increase the number of iterations. Fitting data with very small alpha may cause precision problems.\n",
      "  ConvergenceWarning)\n",
      "D:\\Users\\Marcelo\\Anaconda3\\lib\\site-packages\\sklearn\\linear_model\\coordinate_descent.py:492: ConvergenceWarning: Objective did not converge. You might want to increase the number of iterations. Fitting data with very small alpha may cause precision problems.\n",
      "  ConvergenceWarning)\n",
      "D:\\Users\\Marcelo\\Anaconda3\\lib\\site-packages\\sklearn\\linear_model\\coordinate_descent.py:492: ConvergenceWarning: Objective did not converge. You might want to increase the number of iterations. Fitting data with very small alpha may cause precision problems.\n",
      "  ConvergenceWarning)\n",
      "D:\\Users\\Marcelo\\Anaconda3\\lib\\site-packages\\sklearn\\linear_model\\coordinate_descent.py:492: ConvergenceWarning: Objective did not converge. You might want to increase the number of iterations. Fitting data with very small alpha may cause precision problems.\n",
      "  ConvergenceWarning)\n",
      "D:\\Users\\Marcelo\\Anaconda3\\lib\\site-packages\\sklearn\\linear_model\\coordinate_descent.py:492: ConvergenceWarning: Objective did not converge. You might want to increase the number of iterations. Fitting data with very small alpha may cause precision problems.\n",
      "  ConvergenceWarning)\n",
      "D:\\Users\\Marcelo\\Anaconda3\\lib\\site-packages\\sklearn\\linear_model\\coordinate_descent.py:492: ConvergenceWarning: Objective did not converge. You might want to increase the number of iterations. Fitting data with very small alpha may cause precision problems.\n",
      "  ConvergenceWarning)\n",
      "D:\\Users\\Marcelo\\Anaconda3\\lib\\site-packages\\sklearn\\linear_model\\coordinate_descent.py:492: ConvergenceWarning: Objective did not converge. You might want to increase the number of iterations. Fitting data with very small alpha may cause precision problems.\n",
      "  ConvergenceWarning)\n",
      "D:\\Users\\Marcelo\\Anaconda3\\lib\\site-packages\\sklearn\\linear_model\\coordinate_descent.py:492: ConvergenceWarning: Objective did not converge. You might want to increase the number of iterations. Fitting data with very small alpha may cause precision problems.\n",
      "  ConvergenceWarning)\n"
     ]
    },
    {
     "name": "stdout",
     "output_type": "stream",
     "text": [
      "[-3113.6674023922174, -3112.4755027237993, -3109.237744363657, -3021.7079609410694, -3027.2548110857015, -3155.9691466194263, -4709.632036265898, -10627.618461855514, -19249.816688312283, -14346.439735793694, -7620.634423313006, -2896.362132902329, -624.0827864254367, -312.228075617057]\n",
      "50.0\n"
     ]
    },
    {
     "name": "stderr",
     "output_type": "stream",
     "text": [
      "D:\\Users\\Marcelo\\Anaconda3\\lib\\site-packages\\sklearn\\linear_model\\coordinate_descent.py:492: ConvergenceWarning: Objective did not converge. You might want to increase the number of iterations. Fitting data with very small alpha may cause precision problems.\n",
      "  ConvergenceWarning)\n",
      "D:\\Users\\Marcelo\\Anaconda3\\lib\\site-packages\\sklearn\\linear_model\\coordinate_descent.py:492: ConvergenceWarning: Objective did not converge. You might want to increase the number of iterations. Fitting data with very small alpha may cause precision problems.\n",
      "  ConvergenceWarning)\n",
      "D:\\Users\\Marcelo\\Anaconda3\\lib\\site-packages\\sklearn\\linear_model\\coordinate_descent.py:492: ConvergenceWarning: Objective did not converge. You might want to increase the number of iterations. Fitting data with very small alpha may cause precision problems.\n",
      "  ConvergenceWarning)\n",
      "D:\\Users\\Marcelo\\Anaconda3\\lib\\site-packages\\sklearn\\linear_model\\coordinate_descent.py:492: ConvergenceWarning: Objective did not converge. You might want to increase the number of iterations. Fitting data with very small alpha may cause precision problems.\n",
      "  ConvergenceWarning)\n",
      "D:\\Users\\Marcelo\\Anaconda3\\lib\\site-packages\\sklearn\\linear_model\\coordinate_descent.py:492: ConvergenceWarning: Objective did not converge. You might want to increase the number of iterations. Fitting data with very small alpha may cause precision problems.\n",
      "  ConvergenceWarning)\n",
      "D:\\Users\\Marcelo\\Anaconda3\\lib\\site-packages\\sklearn\\linear_model\\coordinate_descent.py:492: ConvergenceWarning: Objective did not converge. You might want to increase the number of iterations. Fitting data with very small alpha may cause precision problems.\n",
      "  ConvergenceWarning)\n",
      "D:\\Users\\Marcelo\\Anaconda3\\lib\\site-packages\\sklearn\\linear_model\\coordinate_descent.py:492: ConvergenceWarning: Objective did not converge. You might want to increase the number of iterations. Fitting data with very small alpha may cause precision problems.\n",
      "  ConvergenceWarning)\n",
      "D:\\Users\\Marcelo\\Anaconda3\\lib\\site-packages\\sklearn\\linear_model\\coordinate_descent.py:492: ConvergenceWarning: Objective did not converge. You might want to increase the number of iterations. Fitting data with very small alpha may cause precision problems.\n",
      "  ConvergenceWarning)\n",
      "D:\\Users\\Marcelo\\Anaconda3\\lib\\site-packages\\sklearn\\linear_model\\coordinate_descent.py:492: ConvergenceWarning: Objective did not converge. You might want to increase the number of iterations. Fitting data with very small alpha may cause precision problems.\n",
      "  ConvergenceWarning)\n",
      "D:\\Users\\Marcelo\\Anaconda3\\lib\\site-packages\\sklearn\\linear_model\\coordinate_descent.py:492: ConvergenceWarning: Objective did not converge. You might want to increase the number of iterations. Fitting data with very small alpha may cause precision problems.\n",
      "  ConvergenceWarning)\n"
     ]
    }
   ],
   "source": [
    "X_50 = data.iloc[:, 1:51]\n",
    "best_alpha_50 = retrieve_lasso_alpha(X_50, alpha_space)"
   ]
  },
  {
   "cell_type": "code",
   "execution_count": 673,
   "metadata": {
    "scrolled": true
   },
   "outputs": [
    {
     "data": {
      "image/png": "[encoded data removed]",
      "text/plain": [
       "<Figure size 1152x360 with 1 Axes>"
      ]
     },
     "metadata": {
      "needs_background": "light"
     },
     "output_type": "display_data"
    }
   ],
   "source": [
    "lasso_coef_50 = plot_lasso_coef(X_50,y, best_alpha)"
   ]
  },
  {
   "cell_type": "code",
   "execution_count": 675,
   "metadata": {},
   "outputs": [
    {
     "data": {
      "image/png": "[encoded data removed]",
      "text/plain": [
       "<Figure size 1152x360 with 1 Axes>"
      ]
     },
     "metadata": {
      "needs_background": "light"
     },
     "output_type": "display_data"
    }
   ],
   "source": [
    "lasso.fit(X_50, y)\n",
    "y_pred = lasso.predict(X_50)\n",
    "\n",
    "# Plot the coefficients\n",
    "plt.figure(figsize=(16,5))\n",
    "plt.plot(range(len(y)), y_pred, 'r')\n",
    "plt.plot(range(len(y)), y, 'b')\n",
    "\n",
    "plt.xticks(range(len(X_50)), list(range(50)), rotation=60)\n",
    "plt.xlabel(\"week\")\n",
    "plt.ylabel(\"y\")\n",
    "plt.margins(0.02)\n",
    "plt.show()"
   ]
  },
  {
   "cell_type": "code",
   "execution_count": 245,
   "metadata": {},
   "outputs": [
    {
     "data": {
      "text/plain": [
       "{'alpha': 50.0,\n",
       " 'copy_X': True,\n",
       " 'fit_intercept': True,\n",
       " 'max_iter': 1000,\n",
       " 'normalize': True,\n",
       " 'positive': False,\n",
       " 'precompute': False,\n",
       " 'random_state': None,\n",
       " 'selection': 'cyclic',\n",
       " 'tol': 0.0001,\n",
       " 'warm_start': False}"
      ]
     },
     "execution_count": 245,
     "metadata": {},
     "output_type": "execute_result"
    }
   ],
   "source": [
    "lasso.get_params()"
   ]
  },
  {
   "cell_type": "code",
   "execution_count": 689,
   "metadata": {
    "scrolled": true
   },
   "outputs": [
    {
     "name": "stdout",
     "output_type": "stream",
     "text": [
      "dengue!\n",
      "#dengue\n",
      "casa\n",
      "acho\n",
      "pode\n",
      "hoje\n"
     ]
    }
   ],
   "source": [
    "print_vars(lasso_coef_50, 1)"
   ]
  },
  {
   "cell_type": "markdown",
   "metadata": {},
   "source": [
    "### feature selection of Xs of 500 features"
   ]
  },
  {
   "cell_type": "code",
   "execution_count": 48,
   "metadata": {},
   "outputs": [],
   "source": [
    "def remove_vars(data_features, coefs, threshold):\n",
    "    var_indexes = []\n",
    "    for coef in coefs:\n",
    "        if abs(coef) > threshold: \n",
    "            var_index = list(coefs).index(coef)\n",
    "            var_indexes.append(var_index)\n",
    "    data_features = data_features[data_features.columns[var_indexes]]\n",
    "    return data_features"
   ]
  },
  {
   "cell_type": "code",
   "execution_count": 54,
   "metadata": {},
   "outputs": [],
   "source": [
    "X = remove_vars(X, lasso_coef, 1)"
   ]
  },
  {
   "cell_type": "markdown",
   "metadata": {},
   "source": [
    "# Linear regression - Baseline"
   ]
  },
  {
   "cell_type": "code",
   "execution_count": 55,
   "metadata": {},
   "outputs": [],
   "source": [
    "from sklearn.linear_model import LinearRegression"
   ]
  },
  {
   "cell_type": "code",
   "execution_count": 61,
   "metadata": {},
   "outputs": [],
   "source": [
    "X_full = data.iloc[:, 1:-1]"
   ]
  },
  {
   "cell_type": "code",
   "execution_count": 56,
   "metadata": {},
   "outputs": [],
   "source": [
    "linear = LinearRegression(normalize = True)"
   ]
  },
  {
   "cell_type": "markdown",
   "metadata": {},
   "source": [
    "Ao usar linear regression com features selecionadas pelo lasso, por acaso degenerei o modelo?? confirmar com flavio"
   ]
  },
  {
   "cell_type": "code",
   "execution_count": 58,
   "metadata": {
    "scrolled": true
   },
   "outputs": [
    {
     "data": {
      "image/png": "[encoded data removed]",
      "text/plain": [
       "<Figure size 1152x360 with 1 Axes>"
      ]
     },
     "metadata": {
      "needs_background": "light"
     },
     "output_type": "display_data"
    }
   ],
   "source": [
    "linear.fit(X, y)\n",
    "y_pred = linear.predict(X)\n",
    "\n",
    "# Plot the coefficients\n",
    "plt.figure(figsize=(16,5))\n",
    "plt.plot(range(len(y)), y_pred, 'r')\n",
    "plt.plot(range(len(y)), y, 'b')\n",
    "\n",
    "plt.xticks(range(len(X)), list(range(50)), rotation=60)\n",
    "plt.xlabel(\"week\")\n",
    "plt.ylabel(\"y\")\n",
    "plt.margins(0.02)\n",
    "plt.show()"
   ]
  },
  {
   "cell_type": "code",
   "execution_count": 59,
   "metadata": {},
   "outputs": [
    {
     "data": {
      "text/plain": [
       "0.9845939441444382"
      ]
     },
     "execution_count": 59,
     "metadata": {},
     "output_type": "execute_result"
    }
   ],
   "source": [
    "linear.score(X,y)"
   ]
  },
  {
   "cell_type": "markdown",
   "metadata": {},
   "source": [
    "If I use the full set of features, it overfits!!!!"
   ]
  },
  {
   "cell_type": "code",
   "execution_count": 62,
   "metadata": {},
   "outputs": [
    {
     "data": {
      "image/png": "[encoded data removed]",
      "text/plain": [
       "<Figure size 1152x360 with 1 Axes>"
      ]
     },
     "metadata": {
      "needs_background": "light"
     },
     "output_type": "display_data"
    }
   ],
   "source": [
    "linear.fit(X_full, y)\n",
    "y_pred = linear.predict(X_full)\n",
    "\n",
    "# Plot the coefficients\n",
    "plt.figure(figsize=(16,5))\n",
    "plt.plot(range(len(y)), y_pred, 'r')\n",
    "plt.plot(range(len(y)), y, 'b')\n",
    "\n",
    "plt.xticks(range(len(X)), list(range(50)), rotation=60)\n",
    "plt.xlabel(\"week\")\n",
    "plt.ylabel(\"y\")\n",
    "plt.margins(0.02)\n",
    "plt.show()"
   ]
  },
  {
   "cell_type": "code",
   "execution_count": 64,
   "metadata": {},
   "outputs": [
    {
     "data": {
      "text/plain": [
       "1.0"
      ]
     },
     "execution_count": 64,
     "metadata": {},
     "output_type": "execute_result"
    }
   ],
   "source": [
    "linear.score(X_full,y)"
   ]
  },
  {
   "cell_type": "markdown",
   "metadata": {},
   "source": [
    "# analisar correlacao cruzada, com lag\n",
    "* using heatmaps: https://www.kaggle.com/dedecu/cross-correlation-time-lag-with-pandas\n",
    "* convolution: https://www.youtube.com/watch?v=hBTGuOe9txE\n",
    "* the lag between signals is given by the argmax of the cross-correlation: https://en.wikipedia.org/wiki/Cross-correlation#Time_delay_analysis\n",
    "* A value of -1 means that in1 is 1 lag behind. A value of 2 means that in1 is 2 lag in advanced. Negative values mean that in1 precedes/predicts in2."
   ]
  },
  {
   "cell_type": "code",
   "execution_count": 80,
   "metadata": {},
   "outputs": [],
   "source": [
    "from scipy import signal\n",
    "\n",
    "X_array = X.T.values\n",
    "y_array = [list(y.y) for x in range(len(X_array))]\n",
    "corrs = signal.correlate(X_array, y_array, mode='same')"
   ]
  },
  {
   "cell_type": "code",
   "execution_count": 103,
   "metadata": {},
   "outputs": [
    {
     "name": "stdout",
     "output_type": "stream",
     "text": [
      "feature:  pneu ; lag:  -1\n",
      "feature:  feia ; lag:  -2\n",
      "feature:  mi ; lag:  -2\n",
      "feature:  show ; lag:  -2\n",
      "feature:  notificações ; lag:  -2\n",
      "feature:  mato ; lag:  -1\n",
      "feature:  antes ; lag:  -1\n",
      "feature:  usar ; lag:  -1\n",
      "feature:  mesmo ; lag:  -1\n",
      "feature:  três ; lag:  -1\n",
      "feature:  morrer ; lag:  -1\n",
      "feature:  tempo ; lag:  -1\n",
      "feature:  sp ; lag:  -1\n",
      "feature:  paulo ; lag:  -1\n",
      "feature:  natal ; lag:  -1\n",
      "feature:  saber ; lag:  -1\n",
      "feature:  @minsaude: ; lag:  -1\n",
      "feature:  cidades ; lag:  -1\n"
     ]
    }
   ],
   "source": [
    "count = 0\n",
    "for corr in corrs:\n",
    "    center = int(len(corr)/2)\n",
    "    lag = np.argmax(corr) - center\n",
    "    print('feature: ', X.columns[count], '; lag: ', lag)\n",
    "    count += 1"
   ]
  },
  {
   "cell_type": "markdown",
   "metadata": {},
   "source": [
    "# ML model"
   ]
  },
  {
   "cell_type": "code",
   "execution_count": 46,
   "metadata": {},
   "outputs": [],
   "source": [
    "from sklearn.preprocessing import Imputer\n",
    "from sklearn.pipeline import Pipeline\n",
    "from sklearn.metrics import classification_report\n",
    "from sklearn.model_selection import train_test_split\n",
    "from sklearn.metrics import mean_squared_error"
   ]
  },
  {
   "cell_type": "markdown",
   "metadata": {},
   "source": [
    "### Create train and test sets"
   ]
  },
  {
   "cell_type": "code",
   "execution_count": 42,
   "metadata": {},
   "outputs": [],
   "source": [
    "X_train, X_test, y_train, y_test = train_test_split(X, y, test_size=0.3, random_state=42)"
   ]
  },
  {
   "cell_type": "code",
   "execution_count": 43,
   "metadata": {},
   "outputs": [
    {
     "data": {
      "text/plain": [
       "13"
      ]
     },
     "execution_count": 43,
     "metadata": {},
     "output_type": "execute_result"
    }
   ],
   "source": [
    "len(X_test)"
   ]
  },
  {
   "cell_type": "code",
   "execution_count": 44,
   "metadata": {},
   "outputs": [
    {
     "data": {
      "text/plain": [
       "30"
      ]
     },
     "execution_count": 44,
     "metadata": {},
     "output_type": "execute_result"
    }
   ],
   "source": [
    "len(X_train)"
   ]
  },
  {
   "cell_type": "markdown",
   "metadata": {},
   "source": [
    "### random forest"
   ]
  },
  {
   "cell_type": "code",
   "execution_count": 161,
   "metadata": {},
   "outputs": [
    {
     "name": "stderr",
     "output_type": "stream",
     "text": [
      "D:\\Users\\Marcelo\\Anaconda3\\lib\\site-packages\\sklearn\\ensemble\\forest.py:246: FutureWarning: The default value of n_estimators will change from 10 in version 0.20 to 100 in 0.22.\n",
      "  \"10 in version 0.20 to 100 in 0.22.\", FutureWarning)\n",
      "D:\\Users\\Marcelo\\Anaconda3\\lib\\site-packages\\sklearn\\pipeline.py:267: DataConversionWarning: A column-vector y was passed when a 1d array was expected. Please change the shape of y to (n_samples,), for example using ravel().\n",
      "  self._final_estimator.fit(Xt, y, **fit_params)\n"
     ]
    }
   ],
   "source": [
    "from sklearn.ensemble import RandomForestClassifier\n",
    "\n",
    "clf_rf = RandomForestClassifier()\n",
    "steps = [('RandomF', clf_rf)]\n",
    "pipeline = Pipeline(steps)\n",
    "\n",
    "# Fit the pipeline to the train set\n",
    "pipeline.fit(X_train, y_train)\n",
    "\n",
    "# Predict the labels of the test set\n",
    "y_pred = pipeline.predict(X_test)\n",
    "\n",
    "# Loss function\n",
    "error_random_forest = mean_squared_error(y_test,y_pred)"
   ]
  },
  {
   "cell_type": "code",
   "execution_count": 167,
   "metadata": {},
   "outputs": [
    {
     "name": "stderr",
     "output_type": "stream",
     "text": [
      "D:\\Users\\Marcelo\\Anaconda3\\lib\\site-packages\\sklearn\\pipeline.py:267: DataConversionWarning: A column-vector y was passed when a 1d array was expected. Please change the shape of y to (n_samples, ), for example using ravel().\n",
      "  self._final_estimator.fit(Xt, y, **fit_params)\n"
     ]
    }
   ],
   "source": [
    "from sklearn.neighbors import KNeighborsClassifier\n",
    "\n",
    "clf_knn = KNeighborsClassifier(n_neighbors = 3)\n",
    "steps = [('KNN', clf_knn)]\n",
    "pipeline = Pipeline(steps)\n",
    "\n",
    "pipeline.fit(X_train, y_train)\n",
    "\n",
    "y_pred = pipeline.predict(X_test)\n",
    "\n",
    "error_knn =  mean_squared_error(y_test,y_pred)"
   ]
  },
  {
   "cell_type": "code",
   "execution_count": 168,
   "metadata": {},
   "outputs": [
    {
     "name": "stderr",
     "output_type": "stream",
     "text": [
      "D:\\Users\\Marcelo\\Anaconda3\\lib\\site-packages\\sklearn\\utils\\validation.py:761: DataConversionWarning: A column-vector y was passed when a 1d array was expected. Please change the shape of y to (n_samples, ), for example using ravel().\n",
      "  y = column_or_1d(y, warn=True)\n",
      "D:\\Users\\Marcelo\\Anaconda3\\lib\\site-packages\\sklearn\\svm\\base.py:196: FutureWarning: The default value of gamma will change from 'auto' to 'scale' in version 0.22 to account better for unscaled features. Set gamma explicitly to 'auto' or 'scale' to avoid this warning.\n",
      "  \"avoid this warning.\", FutureWarning)\n"
     ]
    }
   ],
   "source": [
    "from sklearn.svm import SVC\n",
    "\n",
    "clf_svc = SVC()\n",
    "steps = [('SVC', clf_svc)]\n",
    "pipeline = Pipeline(steps)\n",
    "\n",
    "pipeline.fit(X_train, y_train)\n",
    "\n",
    "y_pred = pipeline.predict(X_test)\n",
    "\n",
    "error_svc =  mean_squared_error(y_test,y_pred)"
   ]
  },
  {
   "cell_type": "code",
   "execution_count": 170,
   "metadata": {
    "scrolled": true
   },
   "outputs": [
    {
     "data": {
      "text/html": [
       "<div>\n",
       "<style scoped>\n",
       "    .dataframe tbody tr th:only-of-type {\n",
       "        vertical-align: middle;\n",
       "    }\n",
       "\n",
       "    .dataframe tbody tr th {\n",
       "        vertical-align: top;\n",
       "    }\n",
       "\n",
       "    .dataframe thead th {\n",
       "        text-align: right;\n",
       "    }\n",
       "</style>\n",
       "<table border=\"1\" class=\"dataframe\">\n",
       "  <thead>\n",
       "    <tr style=\"text-align: right;\">\n",
       "      <th></th>\n",
       "      <th>Model</th>\n",
       "      <th>Error</th>\n",
       "    </tr>\n",
       "  </thead>\n",
       "  <tbody>\n",
       "    <tr>\n",
       "      <th>1</th>\n",
       "      <td>knn</td>\n",
       "      <td>6.620117e+05</td>\n",
       "    </tr>\n",
       "    <tr>\n",
       "      <th>0</th>\n",
       "      <td>randomforest</td>\n",
       "      <td>1.848979e+06</td>\n",
       "    </tr>\n",
       "    <tr>\n",
       "      <th>2</th>\n",
       "      <td>svc</td>\n",
       "      <td>2.177867e+07</td>\n",
       "    </tr>\n",
       "  </tbody>\n",
       "</table>\n",
       "</div>"
      ],
      "text/plain": [
       "          Model         Error\n",
       "1           knn  6.620117e+05\n",
       "0  randomforest  1.848979e+06\n",
       "2           svc  2.177867e+07"
      ]
     },
     "execution_count": 170,
     "metadata": {},
     "output_type": "execute_result"
    }
   ],
   "source": [
    "models = pd.DataFrame({\n",
    "    'Model': ['randomforest', 'knn', 'svc'],\n",
    "    'Error': [error_random_forest, error_knn, error_svc]})\n",
    "models.sort_values(by='Error')"
   ]
  },
  {
   "cell_type": "markdown",
   "metadata": {},
   "source": [
    "### cross validation"
   ]
  },
  {
   "cell_type": "code",
   "execution_count": 181,
   "metadata": {},
   "outputs": [
    {
     "data": {
      "text/plain": [
       "43"
      ]
     },
     "execution_count": 181,
     "metadata": {},
     "output_type": "execute_result"
    }
   ],
   "source": [
    "len(y)"
   ]
  },
  {
   "cell_type": "code",
   "execution_count": 194,
   "metadata": {},
   "outputs": [
    {
     "name": "stderr",
     "output_type": "stream",
     "text": [
      "D:\\Users\\Marcelo\\Anaconda3\\lib\\site-packages\\sklearn\\model_selection\\_split.py:652: Warning: The least populated class in y has only 1 members, which is too few. The minimum number of members in any class cannot be less than n_splits=2.\n",
      "  % (min_groups, self.n_splits)), Warning)\n",
      "D:\\Users\\Marcelo\\Anaconda3\\lib\\site-packages\\sklearn\\ensemble\\forest.py:246: FutureWarning: The default value of n_estimators will change from 10 in version 0.20 to 100 in 0.22.\n",
      "  \"10 in version 0.20 to 100 in 0.22.\", FutureWarning)\n",
      "D:\\Users\\Marcelo\\Anaconda3\\lib\\site-packages\\sklearn\\model_selection\\_validation.py:528: DataConversionWarning: A column-vector y was passed when a 1d array was expected. Please change the shape of y to (n_samples,), for example using ravel().\n",
      "  estimator.fit(X_train, y_train, **fit_params)\n",
      "D:\\Users\\Marcelo\\Anaconda3\\lib\\site-packages\\sklearn\\ensemble\\forest.py:246: FutureWarning: The default value of n_estimators will change from 10 in version 0.20 to 100 in 0.22.\n",
      "  \"10 in version 0.20 to 100 in 0.22.\", FutureWarning)\n",
      "D:\\Users\\Marcelo\\Anaconda3\\lib\\site-packages\\sklearn\\model_selection\\_validation.py:528: DataConversionWarning: A column-vector y was passed when a 1d array was expected. Please change the shape of y to (n_samples,), for example using ravel().\n",
      "  estimator.fit(X_train, y_train, **fit_params)\n"
     ]
    }
   ],
   "source": [
    "from sklearn.ensemble import RandomForestClassifier\n",
    "\n",
    "clf_rf = RandomForestClassifier()\n",
    "\n",
    "random_forest_cv = cross_val_score(clf_rf, X,y, cv=2)"
   ]
  },
  {
   "cell_type": "code",
   "execution_count": 187,
   "metadata": {},
   "outputs": [
    {
     "data": {
      "text/plain": [
       "array([0.02380952, 0.        ])"
      ]
     },
     "execution_count": 187,
     "metadata": {},
     "output_type": "execute_result"
    }
   ],
   "source": [
    "random_forest_cv"
   ]
  },
  {
   "cell_type": "markdown",
   "metadata": {},
   "source": [
    "# draft"
   ]
  },
  {
   "cell_type": "raw",
   "metadata": {},
   "source": []
  },
  {
   "cell_type": "markdown",
   "metadata": {},
   "source": [
    "# notas\n",
    "scipy signal correlate, para automatizar correlacao com lags em vez de plotar na mao. seria mais interessante se eu pegar 24-36 meses em vez de 1 ano (periodo de comparacao do paper)\n",
    "\n",
    "GLM - generalised linear model\n",
    "\n",
    "usar linear regression como baseline"
   ]
  },
  {
   "cell_type": "code",
   "execution_count": null,
   "metadata": {},
   "outputs": [],
   "source": []
  }
 ],
 "metadata": {
  "kernelspec": {
   "display_name": "Python 3",
   "language": "python",
   "name": "python3"
  },
  "language_info": {
   "codemirror_mode": {
    "name": "ipython",
    "version": 3
   },
   "file_extension": ".py",
   "mimetype": "text/x-python",
   "name": "python",
   "nbconvert_exporter": "python",
   "pygments_lexer": "ipython3",
   "version": "3.7.1"
  }
 },
 "nbformat": 4,
 "nbformat_minor": 2
}
