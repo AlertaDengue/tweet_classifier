{
 "cells": [
  {
   "cell_type": "code",
   "execution_count": 80,
   "metadata": {},
   "outputs": [],
   "source": [
    "import pandas as pd\n",
    "import pickle\n",
    "from collections import Counter\n",
    "import math\n",
    "import nltk\n",
    "import matplotlib.pyplot as plt\n",
    "from sklearn.feature_extraction.text import TfidfVectorizer\n",
    "\n",
    "from sklearn.linear_model import Lasso\n",
    "\n",
    "%matplotlib inline"
   ]
  },
  {
   "cell_type": "code",
   "execution_count": 6,
   "metadata": {},
   "outputs": [],
   "source": [
    "data = pd.read_csv(\"../../dados/resultado.csv\", header = None) "
   ]
  },
  {
   "cell_type": "markdown",
   "metadata": {},
   "source": [
    "* Data da mensagem\n",
    "* Usuário que postou a mensagem\n",
    "* Texto da mensagem\n",
    "* Pontuação para  classe=paródia\n",
    "* Pontuação para  classe=opinião\n",
    "* Pontuação para  classe=campanha\n",
    "* Pontuação para  classe=experiência pessoal\n",
    "* Pontuação para  classe=informação\n",
    "* Resultado (qual a classe foi escolhida pela maior pontuação)\n",
    "* Informação (JSON) sobre a localização"
   ]
  },
  {
   "cell_type": "code",
   "execution_count": 7,
   "metadata": {},
   "outputs": [],
   "source": [
    "data.columns = [\"date\", \"user\", \"message\", \"0\", \"1\", \"2\", \"3\", \"4\", \"class\", \"location\"]"
   ]
  },
  {
   "cell_type": "code",
   "execution_count": 8,
   "metadata": {},
   "outputs": [
    {
     "data": {
      "text/html": [
       "<div>\n",
       "<style scoped>\n",
       "    .dataframe tbody tr th:only-of-type {\n",
       "        vertical-align: middle;\n",
       "    }\n",
       "\n",
       "    .dataframe tbody tr th {\n",
       "        vertical-align: top;\n",
       "    }\n",
       "\n",
       "    .dataframe thead th {\n",
       "        text-align: right;\n",
       "    }\n",
       "</style>\n",
       "<table border=\"1\" class=\"dataframe\">\n",
       "  <thead>\n",
       "    <tr style=\"text-align: right;\">\n",
       "      <th></th>\n",
       "      <th>date</th>\n",
       "      <th>user</th>\n",
       "      <th>message</th>\n",
       "      <th>0</th>\n",
       "      <th>1</th>\n",
       "      <th>2</th>\n",
       "      <th>3</th>\n",
       "      <th>4</th>\n",
       "      <th>class</th>\n",
       "      <th>location</th>\n",
       "    </tr>\n",
       "  </thead>\n",
       "  <tbody>\n",
       "    <tr>\n",
       "      <th>0</th>\n",
       "      <td>19/11/2010 20:04:44</td>\n",
       "      <td>PauloAfBahia</td>\n",
       "      <td>A dengue mata mas com simples gestos de preven...</td>\n",
       "      <td>0.138010</td>\n",
       "      <td>0.101521</td>\n",
       "      <td>0.254248</td>\n",
       "      <td>0.085880</td>\n",
       "      <td>0.420341</td>\n",
       "      <td>3</td>\n",
       "      <td>{u'd': 1443198862750, u'v': 1}</td>\n",
       "    </tr>\n",
       "    <tr>\n",
       "      <th>1</th>\n",
       "      <td>19/11/2010 20:05:05</td>\n",
       "      <td>PortalOuroNegro</td>\n",
       "      <td>Mutirão contra a Dengue começou nesta sexta em...</td>\n",
       "      <td>0.105452</td>\n",
       "      <td>0.056434</td>\n",
       "      <td>0.248333</td>\n",
       "      <td>0.188912</td>\n",
       "      <td>0.400869</td>\n",
       "      <td>3</td>\n",
       "      <td>{u'city': u'Linhares', u'country': u'Brasil', ...</td>\n",
       "    </tr>\n",
       "    <tr>\n",
       "      <th>2</th>\n",
       "      <td>19/11/2010 20:05:30</td>\n",
       "      <td>Kustelaas</td>\n",
       "      <td>@depChicoAlencar amannhã alem do dia da consiê...</td>\n",
       "      <td>0.054194</td>\n",
       "      <td>0.084122</td>\n",
       "      <td>0.213530</td>\n",
       "      <td>0.146927</td>\n",
       "      <td>0.501226</td>\n",
       "      <td>3</td>\n",
       "      <td>{u'country': u'Brasil', u'state': u'MT', u'typ...</td>\n",
       "    </tr>\n",
       "    <tr>\n",
       "      <th>3</th>\n",
       "      <td>19/11/2010 20:05:58</td>\n",
       "      <td>Raul_Jungmann</td>\n",
       "      <td>Pernambuco tem risco de sofrer epidemia de den...</td>\n",
       "      <td>0.080289</td>\n",
       "      <td>0.106928</td>\n",
       "      <td>0.054929</td>\n",
       "      <td>0.141276</td>\n",
       "      <td>0.616577</td>\n",
       "      <td>3</td>\n",
       "      <td>{u'city': u'Recife', u'country': u'Brasil', u'...</td>\n",
       "    </tr>\n",
       "    <tr>\n",
       "      <th>4</th>\n",
       "      <td>19/11/2010 20:06:18</td>\n",
       "      <td>laana_mello</td>\n",
       "      <td>Rpz...acho q a Caueira tah com surto de dengue...</td>\n",
       "      <td>0.112013</td>\n",
       "      <td>0.143425</td>\n",
       "      <td>0.094947</td>\n",
       "      <td>0.429626</td>\n",
       "      <td>0.219990</td>\n",
       "      <td>0</td>\n",
       "      <td>{u'country': u'Brasil', u'state': u'MT', u'typ...</td>\n",
       "    </tr>\n",
       "  </tbody>\n",
       "</table>\n",
       "</div>"
      ],
      "text/plain": [
       "                  date             user  \\\n",
       "0  19/11/2010 20:04:44     PauloAfBahia   \n",
       "1  19/11/2010 20:05:05  PortalOuroNegro   \n",
       "2  19/11/2010 20:05:30        Kustelaas   \n",
       "3  19/11/2010 20:05:58    Raul_Jungmann   \n",
       "4  19/11/2010 20:06:18      laana_mello   \n",
       "\n",
       "                                             message         0         1  \\\n",
       "0  A dengue mata mas com simples gestos de preven...  0.138010  0.101521   \n",
       "1  Mutirão contra a Dengue começou nesta sexta em...  0.105452  0.056434   \n",
       "2  @depChicoAlencar amannhã alem do dia da consiê...  0.054194  0.084122   \n",
       "3  Pernambuco tem risco de sofrer epidemia de den...  0.080289  0.106928   \n",
       "4  Rpz...acho q a Caueira tah com surto de dengue...  0.112013  0.143425   \n",
       "\n",
       "          2         3         4  class  \\\n",
       "0  0.254248  0.085880  0.420341      3   \n",
       "1  0.248333  0.188912  0.400869      3   \n",
       "2  0.213530  0.146927  0.501226      3   \n",
       "3  0.054929  0.141276  0.616577      3   \n",
       "4  0.094947  0.429626  0.219990      0   \n",
       "\n",
       "                                            location  \n",
       "0                     {u'd': 1443198862750, u'v': 1}  \n",
       "1  {u'city': u'Linhares', u'country': u'Brasil', ...  \n",
       "2  {u'country': u'Brasil', u'state': u'MT', u'typ...  \n",
       "3  {u'city': u'Recife', u'country': u'Brasil', u'...  \n",
       "4  {u'country': u'Brasil', u'state': u'MT', u'typ...  "
      ]
     },
     "execution_count": 8,
     "metadata": {},
     "output_type": "execute_result"
    }
   ],
   "source": [
    "data.head()"
   ]
  },
  {
   "cell_type": "code",
   "execution_count": 9,
   "metadata": {},
   "outputs": [
    {
     "data": {
      "text/plain": [
       "(7503165, 10)"
      ]
     },
     "execution_count": 9,
     "metadata": {},
     "output_type": "execute_result"
    }
   ],
   "source": [
    "data.shape"
   ]
  },
  {
   "cell_type": "code",
   "execution_count": 10,
   "metadata": {},
   "outputs": [],
   "source": [
    "#shrink database\n",
    "data = data[:1000]"
   ]
  },
  {
   "cell_type": "code",
   "execution_count": 11,
   "metadata": {},
   "outputs": [
    {
     "data": {
      "text/plain": [
       "<matplotlib.axes._subplots.AxesSubplot at 0x22fa7617828>"
      ]
     },
     "execution_count": 11,
     "metadata": {},
     "output_type": "execute_result"
    },
    {
     "data": {
      "image/png": "[encoded data removed]",
      "text/plain": [
       "<Figure size 432x288 with 1 Axes>"
      ]
     },
     "metadata": {
      "needs_background": "light"
     },
     "output_type": "display_data"
    }
   ],
   "source": [
    "data['class'].value_counts().plot('bar')"
   ]
  },
  {
   "cell_type": "code",
   "execution_count": 12,
   "metadata": {},
   "outputs": [],
   "source": [
    "text = pd.Series(data['message'].tolist()).astype(str)"
   ]
  },
  {
   "cell_type": "raw",
   "metadata": {},
   "source": [
    "tfidf = TfidfVectorizer(\n",
    "    analyzer='word')  "
   ]
  },
  {
   "cell_type": "raw",
   "metadata": {},
   "source": [
    "tfidf.fit(data['message'])"
   ]
  },
  {
   "cell_type": "markdown",
   "metadata": {},
   "source": [
    "### stopwords"
   ]
  },
  {
   "cell_type": "code",
   "execution_count": 19,
   "metadata": {},
   "outputs": [],
   "source": [
    "stopwords = nltk.corpus.stopwords.words('portuguese')\n",
    "stopwords = list(set(stopwords))"
   ]
  },
  {
   "cell_type": "code",
   "execution_count": 30,
   "metadata": {},
   "outputs": [],
   "source": [
    "try: stopwords.remove('não')\n",
    "except: pass"
   ]
  },
  {
   "cell_type": "code",
   "execution_count": 38,
   "metadata": {},
   "outputs": [],
   "source": [
    "def remove_stopwords(text):\n",
    "    tokens = []\n",
    "    for word in text.lower().split():\n",
    "        if word not in stopwords:\n",
    "            tokens.append(word)\n",
    "    return tokens"
   ]
  },
  {
   "cell_type": "code",
   "execution_count": 39,
   "metadata": {},
   "outputs": [],
   "source": [
    "data['message_nostopwords'] = data['message'].apply(remove_stopwords)"
   ]
  },
  {
   "cell_type": "markdown",
   "metadata": {},
   "source": [
    "### TF-IDF"
   ]
  },
  {
   "cell_type": "markdown",
   "metadata": {},
   "source": [
    "https://www.kdnuggets.com/2018/08/wtf-tf-idf.html"
   ]
  },
  {
   "cell_type": "code",
   "execution_count": 53,
   "metadata": {},
   "outputs": [],
   "source": [
    "idf_counter = Counter()\n",
    "for text in data['message_nostopwords']:\n",
    "    #words = text.lower().split()\n",
    "    #idf_counter.update(words)\n",
    "    idf_counter.update(text)"
   ]
  },
  {
   "cell_type": "code",
   "execution_count": 54,
   "metadata": {},
   "outputs": [],
   "source": [
    "idf = {\n",
    "  word: math.log(len(data)/df, 2)\n",
    "  for word, df in idf_counter.items()\n",
    "}"
   ]
  },
  {
   "cell_type": "code",
   "execution_count": 55,
   "metadata": {},
   "outputs": [],
   "source": [
    "def analyze_row(row):\n",
    "    target_words = row.lower().split()\n",
    "    tfidf =  {\n",
    "        word: (1 + math.log(_tf, 2)) * idf[word]\n",
    "        for word, _tf in Counter(target_words).items()\n",
    "    }\n",
    "    num_words = 20\n",
    "    most_frequent = [\n",
    "        w  for (w, _) in Counter(target_words).most_common(num_words)\n",
    "    ]\n",
    "    sorted_tfidf = [\n",
    "        w  for (w, _) in sorted(tfidf.items(), key=lambda kv: kv[1], reverse=True)\n",
    "    ]\n",
    "    print(row)\n",
    "    print(\"Most frequent: {}\".format(most_frequent))\n",
    "    print(\"Higher TF-IDF: {}\".format(sorted_tfidf[:num_words]))"
   ]
  },
  {
   "cell_type": "raw",
   "metadata": {},
   "source": [
    "#tem que aplicar por linha\n",
    "tfidf =  {\n",
    "    word: (1 + math.log(_tf, 2)) * idf[word]\n",
    "    for word, _tf in idf.items()\n",
    "}"
   ]
  },
  {
   "cell_type": "code",
   "execution_count": 69,
   "metadata": {},
   "outputs": [],
   "source": [
    "idf_top = sorted(idf, key=idf.get)[:30]"
   ]
  },
  {
   "cell_type": "code",
   "execution_count": 72,
   "metadata": {},
   "outputs": [],
   "source": [
    "for term in idf_top:\n",
    "    data[term] = 0"
   ]
  },
  {
   "cell_type": "code",
   "execution_count": 76,
   "metadata": {},
   "outputs": [],
   "source": [
    "def tfidf(text, term):\n",
    "    tfidf = 0\n",
    "    if term in text:\n",
    "        tf = idf_counter[term]\n",
    "        tfidf = (1 + math.log(tf, 2)) * idf[term]\n",
    "        return tfidf\n",
    "    return tfidf"
   ]
  },
  {
   "cell_type": "code",
   "execution_count": 78,
   "metadata": {},
   "outputs": [],
   "source": [
    "for term in idf_top:\n",
    "    data[term] = data['message'].apply(lambda text: tfidf(text, term))"
   ]
  },
  {
   "cell_type": "code",
   "execution_count": 67,
   "metadata": {},
   "outputs": [
    {
     "data": {
      "text/plain": [
       "['lado', 'mercadorama.', 'água,', 'qqqq']"
      ]
     },
     "execution_count": 67,
     "metadata": {},
     "output_type": "execute_result"
    }
   ],
   "source": [
    "sorted(idf, key=idf.get)[-4:]"
   ]
  },
  {
   "cell_type": "code",
   "execution_count": null,
   "metadata": {},
   "outputs": [],
   "source": []
  },
  {
   "cell_type": "code",
   "execution_count": null,
   "metadata": {},
   "outputs": [],
   "source": []
  },
  {
   "cell_type": "markdown",
   "metadata": {},
   "source": [
    "### Lasso regression\n",
    "Using Lasso to choose the most relevant terms"
   ]
  },
  {
   "cell_type": "code",
   "execution_count": 86,
   "metadata": {},
   "outputs": [
    {
     "data": {
      "text/html": [
       "<div>\n",
       "<style scoped>\n",
       "    .dataframe tbody tr th:only-of-type {\n",
       "        vertical-align: middle;\n",
       "    }\n",
       "\n",
       "    .dataframe tbody tr th {\n",
       "        vertical-align: top;\n",
       "    }\n",
       "\n",
       "    .dataframe thead th {\n",
       "        text-align: right;\n",
       "    }\n",
       "</style>\n",
       "<table border=\"1\" class=\"dataframe\">\n",
       "  <thead>\n",
       "    <tr style=\"text-align: right;\">\n",
       "      <th></th>\n",
       "      <th>date</th>\n",
       "      <th>user</th>\n",
       "      <th>message</th>\n",
       "      <th>0</th>\n",
       "      <th>1</th>\n",
       "      <th>2</th>\n",
       "      <th>3</th>\n",
       "      <th>4</th>\n",
       "      <th>class</th>\n",
       "      <th>location</th>\n",
       "      <th>...</th>\n",
       "      <th>q</th>\n",
       "      <th>saúde</th>\n",
       "      <th>to</th>\n",
       "      <th>água</th>\n",
       "      <th>pra</th>\n",
       "      <th>dengue!</th>\n",
       "      <th>parada</th>\n",
       "      <th>combater</th>\n",
       "      <th>-</th>\n",
       "      <th>hoje</th>\n",
       "    </tr>\n",
       "  </thead>\n",
       "  <tbody>\n",
       "    <tr>\n",
       "      <th>0</th>\n",
       "      <td>19/11/2010 20:04:44</td>\n",
       "      <td>PauloAfBahia</td>\n",
       "      <td>A dengue mata mas com simples gestos de preven...</td>\n",
       "      <td>0.138010</td>\n",
       "      <td>0.101521</td>\n",
       "      <td>0.254248</td>\n",
       "      <td>0.085880</td>\n",
       "      <td>0.420341</td>\n",
       "      <td>3</td>\n",
       "      <td>{u'd': 1443198862750, u'v': 1}</td>\n",
       "      <td>...</td>\n",
       "      <td>0.000000</td>\n",
       "      <td>0.0</td>\n",
       "      <td>28.714269</td>\n",
       "      <td>0.0</td>\n",
       "      <td>0.0</td>\n",
       "      <td>0.0</td>\n",
       "      <td>0.0</td>\n",
       "      <td>0.0</td>\n",
       "      <td>0.0</td>\n",
       "      <td>0.0</td>\n",
       "    </tr>\n",
       "    <tr>\n",
       "      <th>1</th>\n",
       "      <td>19/11/2010 20:05:05</td>\n",
       "      <td>PortalOuroNegro</td>\n",
       "      <td>Mutirão contra a Dengue começou nesta sexta em...</td>\n",
       "      <td>0.105452</td>\n",
       "      <td>0.056434</td>\n",
       "      <td>0.248333</td>\n",
       "      <td>0.188912</td>\n",
       "      <td>0.400869</td>\n",
       "      <td>3</td>\n",
       "      <td>{u'city': u'Linhares', u'country': u'Brasil', ...</td>\n",
       "      <td>...</td>\n",
       "      <td>0.000000</td>\n",
       "      <td>0.0</td>\n",
       "      <td>0.000000</td>\n",
       "      <td>0.0</td>\n",
       "      <td>0.0</td>\n",
       "      <td>0.0</td>\n",
       "      <td>0.0</td>\n",
       "      <td>0.0</td>\n",
       "      <td>0.0</td>\n",
       "      <td>0.0</td>\n",
       "    </tr>\n",
       "    <tr>\n",
       "      <th>2</th>\n",
       "      <td>19/11/2010 20:05:30</td>\n",
       "      <td>Kustelaas</td>\n",
       "      <td>@depChicoAlencar amannhã alem do dia da consiê...</td>\n",
       "      <td>0.054194</td>\n",
       "      <td>0.084122</td>\n",
       "      <td>0.213530</td>\n",
       "      <td>0.146927</td>\n",
       "      <td>0.501226</td>\n",
       "      <td>3</td>\n",
       "      <td>{u'country': u'Brasil', u'state': u'MT', u'typ...</td>\n",
       "      <td>...</td>\n",
       "      <td>0.000000</td>\n",
       "      <td>0.0</td>\n",
       "      <td>0.000000</td>\n",
       "      <td>0.0</td>\n",
       "      <td>0.0</td>\n",
       "      <td>0.0</td>\n",
       "      <td>0.0</td>\n",
       "      <td>0.0</td>\n",
       "      <td>0.0</td>\n",
       "      <td>0.0</td>\n",
       "    </tr>\n",
       "    <tr>\n",
       "      <th>3</th>\n",
       "      <td>19/11/2010 20:05:58</td>\n",
       "      <td>Raul_Jungmann</td>\n",
       "      <td>Pernambuco tem risco de sofrer epidemia de den...</td>\n",
       "      <td>0.080289</td>\n",
       "      <td>0.106928</td>\n",
       "      <td>0.054929</td>\n",
       "      <td>0.141276</td>\n",
       "      <td>0.616577</td>\n",
       "      <td>3</td>\n",
       "      <td>{u'city': u'Recife', u'country': u'Brasil', u'...</td>\n",
       "      <td>...</td>\n",
       "      <td>0.000000</td>\n",
       "      <td>0.0</td>\n",
       "      <td>0.000000</td>\n",
       "      <td>0.0</td>\n",
       "      <td>0.0</td>\n",
       "      <td>0.0</td>\n",
       "      <td>0.0</td>\n",
       "      <td>0.0</td>\n",
       "      <td>0.0</td>\n",
       "      <td>0.0</td>\n",
       "    </tr>\n",
       "    <tr>\n",
       "      <th>4</th>\n",
       "      <td>19/11/2010 20:06:18</td>\n",
       "      <td>laana_mello</td>\n",
       "      <td>Rpz...acho q a Caueira tah com surto de dengue...</td>\n",
       "      <td>0.112013</td>\n",
       "      <td>0.143425</td>\n",
       "      <td>0.094947</td>\n",
       "      <td>0.429626</td>\n",
       "      <td>0.219990</td>\n",
       "      <td>0</td>\n",
       "      <td>{u'country': u'Brasil', u'state': u'MT', u'typ...</td>\n",
       "      <td>...</td>\n",
       "      <td>28.714269</td>\n",
       "      <td>0.0</td>\n",
       "      <td>28.714269</td>\n",
       "      <td>0.0</td>\n",
       "      <td>0.0</td>\n",
       "      <td>0.0</td>\n",
       "      <td>0.0</td>\n",
       "      <td>0.0</td>\n",
       "      <td>0.0</td>\n",
       "      <td>0.0</td>\n",
       "    </tr>\n",
       "  </tbody>\n",
       "</table>\n",
       "<p>5 rows × 41 columns</p>\n",
       "</div>"
      ],
      "text/plain": [
       "                  date             user  \\\n",
       "0  19/11/2010 20:04:44     PauloAfBahia   \n",
       "1  19/11/2010 20:05:05  PortalOuroNegro   \n",
       "2  19/11/2010 20:05:30        Kustelaas   \n",
       "3  19/11/2010 20:05:58    Raul_Jungmann   \n",
       "4  19/11/2010 20:06:18      laana_mello   \n",
       "\n",
       "                                             message         0         1  \\\n",
       "0  A dengue mata mas com simples gestos de preven...  0.138010  0.101521   \n",
       "1  Mutirão contra a Dengue começou nesta sexta em...  0.105452  0.056434   \n",
       "2  @depChicoAlencar amannhã alem do dia da consiê...  0.054194  0.084122   \n",
       "3  Pernambuco tem risco de sofrer epidemia de den...  0.080289  0.106928   \n",
       "4  Rpz...acho q a Caueira tah com surto de dengue...  0.112013  0.143425   \n",
       "\n",
       "          2         3         4  class  \\\n",
       "0  0.254248  0.085880  0.420341      3   \n",
       "1  0.248333  0.188912  0.400869      3   \n",
       "2  0.213530  0.146927  0.501226      3   \n",
       "3  0.054929  0.141276  0.616577      3   \n",
       "4  0.094947  0.429626  0.219990      0   \n",
       "\n",
       "                                            location  ...           q  saúde  \\\n",
       "0                     {u'd': 1443198862750, u'v': 1}  ...    0.000000    0.0   \n",
       "1  {u'city': u'Linhares', u'country': u'Brasil', ...  ...    0.000000    0.0   \n",
       "2  {u'country': u'Brasil', u'state': u'MT', u'typ...  ...    0.000000    0.0   \n",
       "3  {u'city': u'Recife', u'country': u'Brasil', u'...  ...    0.000000    0.0   \n",
       "4  {u'country': u'Brasil', u'state': u'MT', u'typ...  ...   28.714269    0.0   \n",
       "\n",
       "          to  água  pra  dengue!  parada  combater    -  hoje  \n",
       "0  28.714269   0.0  0.0      0.0     0.0       0.0  0.0   0.0  \n",
       "1   0.000000   0.0  0.0      0.0     0.0       0.0  0.0   0.0  \n",
       "2   0.000000   0.0  0.0      0.0     0.0       0.0  0.0   0.0  \n",
       "3   0.000000   0.0  0.0      0.0     0.0       0.0  0.0   0.0  \n",
       "4  28.714269   0.0  0.0      0.0     0.0       0.0  0.0   0.0  \n",
       "\n",
       "[5 rows x 41 columns]"
      ]
     },
     "execution_count": 86,
     "metadata": {},
     "output_type": "execute_result"
    }
   ],
   "source": [
    "data.head()"
   ]
  },
  {
   "cell_type": "code",
   "execution_count": 90,
   "metadata": {},
   "outputs": [
    {
     "data": {
      "text/plain": [
       "Index(['dengue', 'rt', 'é', 'combate', 'contra', 'dengue.', 'não', 'dia',\n",
       "       'mosquito', 'casos', 'brasil', 'quase', 'ano', 'registra', 'relação',\n",
       "       'dengue,', 'dobro', 'número', 'ta', 'd', 'q', 'saúde', 'to', 'água',\n",
       "       'pra', 'dengue!', 'parada', 'combater', '-', 'hoje'],\n",
       "      dtype='object')"
      ]
     },
     "execution_count": 90,
     "metadata": {},
     "output_type": "execute_result"
    }
   ],
   "source": [
    "data.columns[11:]"
   ]
  },
  {
   "cell_type": "code",
   "execution_count": 91,
   "metadata": {},
   "outputs": [],
   "source": [
    "X = data.iloc[:,11:]"
   ]
  },
  {
   "cell_type": "code",
   "execution_count": 93,
   "metadata": {},
   "outputs": [
    {
     "data": {
      "text/html": [
       "<div>\n",
       "<style scoped>\n",
       "    .dataframe tbody tr th:only-of-type {\n",
       "        vertical-align: middle;\n",
       "    }\n",
       "\n",
       "    .dataframe tbody tr th {\n",
       "        vertical-align: top;\n",
       "    }\n",
       "\n",
       "    .dataframe thead th {\n",
       "        text-align: right;\n",
       "    }\n",
       "</style>\n",
       "<table border=\"1\" class=\"dataframe\">\n",
       "  <thead>\n",
       "    <tr style=\"text-align: right;\">\n",
       "      <th></th>\n",
       "      <th>dengue</th>\n",
       "      <th>rt</th>\n",
       "      <th>é</th>\n",
       "      <th>combate</th>\n",
       "      <th>contra</th>\n",
       "      <th>dengue.</th>\n",
       "      <th>não</th>\n",
       "      <th>dia</th>\n",
       "      <th>mosquito</th>\n",
       "      <th>casos</th>\n",
       "      <th>...</th>\n",
       "      <th>q</th>\n",
       "      <th>saúde</th>\n",
       "      <th>to</th>\n",
       "      <th>água</th>\n",
       "      <th>pra</th>\n",
       "      <th>dengue!</th>\n",
       "      <th>parada</th>\n",
       "      <th>combater</th>\n",
       "      <th>-</th>\n",
       "      <th>hoje</th>\n",
       "    </tr>\n",
       "  </thead>\n",
       "  <tbody>\n",
       "    <tr>\n",
       "      <th>0</th>\n",
       "      <td>7.906893</td>\n",
       "      <td>0.00000</td>\n",
       "      <td>0.000000</td>\n",
       "      <td>0.0</td>\n",
       "      <td>0.000000</td>\n",
       "      <td>0.0</td>\n",
       "      <td>0.0</td>\n",
       "      <td>0.000000</td>\n",
       "      <td>0.0</td>\n",
       "      <td>0.0</td>\n",
       "      <td>...</td>\n",
       "      <td>0.000000</td>\n",
       "      <td>0.0</td>\n",
       "      <td>28.714269</td>\n",
       "      <td>0.0</td>\n",
       "      <td>0.0</td>\n",
       "      <td>0.0</td>\n",
       "      <td>0.0</td>\n",
       "      <td>0.0</td>\n",
       "      <td>0.0</td>\n",
       "      <td>0.0</td>\n",
       "    </tr>\n",
       "    <tr>\n",
       "      <th>1</th>\n",
       "      <td>0.000000</td>\n",
       "      <td>0.00000</td>\n",
       "      <td>0.000000</td>\n",
       "      <td>0.0</td>\n",
       "      <td>23.840136</td>\n",
       "      <td>0.0</td>\n",
       "      <td>0.0</td>\n",
       "      <td>0.000000</td>\n",
       "      <td>0.0</td>\n",
       "      <td>0.0</td>\n",
       "      <td>...</td>\n",
       "      <td>0.000000</td>\n",
       "      <td>0.0</td>\n",
       "      <td>0.000000</td>\n",
       "      <td>0.0</td>\n",
       "      <td>0.0</td>\n",
       "      <td>0.0</td>\n",
       "      <td>0.0</td>\n",
       "      <td>0.0</td>\n",
       "      <td>0.0</td>\n",
       "      <td>0.0</td>\n",
       "    </tr>\n",
       "    <tr>\n",
       "      <th>2</th>\n",
       "      <td>0.000000</td>\n",
       "      <td>0.00000</td>\n",
       "      <td>21.798437</td>\n",
       "      <td>0.0</td>\n",
       "      <td>0.000000</td>\n",
       "      <td>0.0</td>\n",
       "      <td>0.0</td>\n",
       "      <td>25.643406</td>\n",
       "      <td>0.0</td>\n",
       "      <td>0.0</td>\n",
       "      <td>...</td>\n",
       "      <td>0.000000</td>\n",
       "      <td>0.0</td>\n",
       "      <td>0.000000</td>\n",
       "      <td>0.0</td>\n",
       "      <td>0.0</td>\n",
       "      <td>0.0</td>\n",
       "      <td>0.0</td>\n",
       "      <td>0.0</td>\n",
       "      <td>0.0</td>\n",
       "      <td>0.0</td>\n",
       "    </tr>\n",
       "    <tr>\n",
       "      <th>3</th>\n",
       "      <td>7.906893</td>\n",
       "      <td>0.00000</td>\n",
       "      <td>0.000000</td>\n",
       "      <td>0.0</td>\n",
       "      <td>0.000000</td>\n",
       "      <td>0.0</td>\n",
       "      <td>0.0</td>\n",
       "      <td>0.000000</td>\n",
       "      <td>0.0</td>\n",
       "      <td>0.0</td>\n",
       "      <td>...</td>\n",
       "      <td>0.000000</td>\n",
       "      <td>0.0</td>\n",
       "      <td>0.000000</td>\n",
       "      <td>0.0</td>\n",
       "      <td>0.0</td>\n",
       "      <td>0.0</td>\n",
       "      <td>0.0</td>\n",
       "      <td>0.0</td>\n",
       "      <td>0.0</td>\n",
       "      <td>0.0</td>\n",
       "    </tr>\n",
       "    <tr>\n",
       "      <th>4</th>\n",
       "      <td>7.906893</td>\n",
       "      <td>21.34936</td>\n",
       "      <td>0.000000</td>\n",
       "      <td>0.0</td>\n",
       "      <td>0.000000</td>\n",
       "      <td>0.0</td>\n",
       "      <td>0.0</td>\n",
       "      <td>0.000000</td>\n",
       "      <td>0.0</td>\n",
       "      <td>0.0</td>\n",
       "      <td>...</td>\n",
       "      <td>28.714269</td>\n",
       "      <td>0.0</td>\n",
       "      <td>28.714269</td>\n",
       "      <td>0.0</td>\n",
       "      <td>0.0</td>\n",
       "      <td>0.0</td>\n",
       "      <td>0.0</td>\n",
       "      <td>0.0</td>\n",
       "      <td>0.0</td>\n",
       "      <td>0.0</td>\n",
       "    </tr>\n",
       "  </tbody>\n",
       "</table>\n",
       "<p>5 rows × 30 columns</p>\n",
       "</div>"
      ],
      "text/plain": [
       "     dengue        rt          é  combate     contra  dengue.  não        dia  \\\n",
       "0  7.906893   0.00000   0.000000      0.0   0.000000      0.0  0.0   0.000000   \n",
       "1  0.000000   0.00000   0.000000      0.0  23.840136      0.0  0.0   0.000000   \n",
       "2  0.000000   0.00000  21.798437      0.0   0.000000      0.0  0.0  25.643406   \n",
       "3  7.906893   0.00000   0.000000      0.0   0.000000      0.0  0.0   0.000000   \n",
       "4  7.906893  21.34936   0.000000      0.0   0.000000      0.0  0.0   0.000000   \n",
       "\n",
       "   mosquito  casos  ...           q  saúde         to  água  pra  dengue!  \\\n",
       "0       0.0    0.0  ...    0.000000    0.0  28.714269   0.0  0.0      0.0   \n",
       "1       0.0    0.0  ...    0.000000    0.0   0.000000   0.0  0.0      0.0   \n",
       "2       0.0    0.0  ...    0.000000    0.0   0.000000   0.0  0.0      0.0   \n",
       "3       0.0    0.0  ...    0.000000    0.0   0.000000   0.0  0.0      0.0   \n",
       "4       0.0    0.0  ...   28.714269    0.0  28.714269   0.0  0.0      0.0   \n",
       "\n",
       "   parada  combater    -  hoje  \n",
       "0     0.0       0.0  0.0   0.0  \n",
       "1     0.0       0.0  0.0   0.0  \n",
       "2     0.0       0.0  0.0   0.0  \n",
       "3     0.0       0.0  0.0   0.0  \n",
       "4     0.0       0.0  0.0   0.0  \n",
       "\n",
       "[5 rows x 30 columns]"
      ]
     },
     "execution_count": 93,
     "metadata": {},
     "output_type": "execute_result"
    }
   ],
   "source": [
    "X.head()"
   ]
  },
  {
   "cell_type": "code",
   "execution_count": null,
   "metadata": {},
   "outputs": [],
   "source": [
    "X = data\n",
    "\n",
    "#y = dados da saúde"
   ]
  },
  {
   "cell_type": "code",
   "execution_count": null,
   "metadata": {},
   "outputs": [],
   "source": [
    "lasso = Lasso(alpha=0.4, normalize=True)\n",
    "\n",
    "# Fit the regressor to the data\n",
    "lasso.fit(X, y)\n",
    "\n",
    "# Compute and print the coefficients\n",
    "lasso_coef = lasso.coef_ \n",
    "print(lasso_coef)\n",
    "\n",
    "# Plot the coefficients\n",
    "plt.plot(range(len(X)), lasso_coef)\n",
    "plt.xticks(range(len(X)), ['var 0','var 1','var 2'], rotation=60)\n",
    "plt.margins(0.02)\n",
    "plt.show()\n"
   ]
  },
  {
   "cell_type": "markdown",
   "metadata": {},
   "source": [
    "# draft"
   ]
  },
  {
   "cell_type": "code",
   "execution_count": null,
   "metadata": {},
   "outputs": [],
   "source": [
    "text_test = [['this', 'is', 'a', 'sample'], ['this', 'is', 'another', 'example']]"
   ]
  },
  {
   "cell_type": "code",
   "execution_count": null,
   "metadata": {},
   "outputs": [],
   "source": [
    "\n"
   ]
  },
  {
   "cell_type": "code",
   "execution_count": null,
   "metadata": {},
   "outputs": [],
   "source": []
  }
 ],
 "metadata": {
  "kernelspec": {
   "display_name": "Python 3",
   "language": "python",
   "name": "python3"
  },
  "language_info": {
   "codemirror_mode": {
    "name": "ipython",
    "version": 3
   },
   "file_extension": ".py",
   "mimetype": "text/x-python",
   "name": "python",
   "nbconvert_exporter": "python",
   "pygments_lexer": "ipython3",
   "version": "3.7.1"
  }
 },
 "nbformat": 4,
 "nbformat_minor": 2
}
