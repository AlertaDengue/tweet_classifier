{
 "cells": [
  {
   "cell_type": "code",
   "execution_count": 61,
   "metadata": {},
   "outputs": [],
   "source": [
    "import pandas as pd\n",
    "import pickle\n",
    "from collections import Counter\n",
    "import math\n",
    "import matplotlib.pyplot as plt\n",
    "from sklearn.feature_extraction.text import TfidfVectorizer\n",
    "\n",
    "%matplotlib inline"
   ]
  },
  {
   "cell_type": "code",
   "execution_count": 2,
   "metadata": {},
   "outputs": [],
   "source": [
    "data = pd.read_csv(\"dados/resultado.csv\", header = None) "
   ]
  },
  {
   "cell_type": "markdown",
   "metadata": {},
   "source": [
    "* Data da mensagem\n",
    "* Usuário que postou a mensagem\n",
    "* Texto da mensagem\n",
    "* Pontuação para  classe=paródia\n",
    "* Pontuação para  classe=opinião\n",
    "* Pontuação para  classe=campanha\n",
    "* Pontuação para  classe=experiência pessoal\n",
    "* Pontuação para  classe=informação\n",
    "* Resultado (qual a classe foi escolhida pela maior pontuação)\n",
    "* Informação (JSON) sobre a localização"
   ]
  },
  {
   "cell_type": "code",
   "execution_count": 7,
   "metadata": {},
   "outputs": [],
   "source": [
    "data.columns = [\"date\", \"user\", \"message\", \"0\", \"1\", \"2\", \"3\", \"4\", \"class\", \"location\"]"
   ]
  },
  {
   "cell_type": "code",
   "execution_count": 8,
   "metadata": {},
   "outputs": [
    {
     "data": {
      "text/html": [
       "<div>\n",
       "<style scoped>\n",
       "    .dataframe tbody tr th:only-of-type {\n",
       "        vertical-align: middle;\n",
       "    }\n",
       "\n",
       "    .dataframe tbody tr th {\n",
       "        vertical-align: top;\n",
       "    }\n",
       "\n",
       "    .dataframe thead th {\n",
       "        text-align: right;\n",
       "    }\n",
       "</style>\n",
       "<table border=\"1\" class=\"dataframe\">\n",
       "  <thead>\n",
       "    <tr style=\"text-align: right;\">\n",
       "      <th></th>\n",
       "      <th>date</th>\n",
       "      <th>user</th>\n",
       "      <th>message</th>\n",
       "      <th>0</th>\n",
       "      <th>1</th>\n",
       "      <th>2</th>\n",
       "      <th>3</th>\n",
       "      <th>4</th>\n",
       "      <th>class</th>\n",
       "      <th>location</th>\n",
       "    </tr>\n",
       "  </thead>\n",
       "  <tbody>\n",
       "    <tr>\n",
       "      <th>0</th>\n",
       "      <td>19/11/2010 20:04:44</td>\n",
       "      <td>PauloAfBahia</td>\n",
       "      <td>A dengue mata mas com simples gestos de preven...</td>\n",
       "      <td>0.138010</td>\n",
       "      <td>0.101521</td>\n",
       "      <td>0.254248</td>\n",
       "      <td>0.085880</td>\n",
       "      <td>0.420341</td>\n",
       "      <td>3</td>\n",
       "      <td>{u'd': 1443198862750, u'v': 1}</td>\n",
       "    </tr>\n",
       "    <tr>\n",
       "      <th>1</th>\n",
       "      <td>19/11/2010 20:05:05</td>\n",
       "      <td>PortalOuroNegro</td>\n",
       "      <td>Mutirão contra a Dengue começou nesta sexta em...</td>\n",
       "      <td>0.105452</td>\n",
       "      <td>0.056434</td>\n",
       "      <td>0.248333</td>\n",
       "      <td>0.188912</td>\n",
       "      <td>0.400869</td>\n",
       "      <td>3</td>\n",
       "      <td>{u'city': u'Linhares', u'country': u'Brasil', ...</td>\n",
       "    </tr>\n",
       "    <tr>\n",
       "      <th>2</th>\n",
       "      <td>19/11/2010 20:05:30</td>\n",
       "      <td>Kustelaas</td>\n",
       "      <td>@depChicoAlencar amannhã alem do dia da consiê...</td>\n",
       "      <td>0.054194</td>\n",
       "      <td>0.084122</td>\n",
       "      <td>0.213530</td>\n",
       "      <td>0.146927</td>\n",
       "      <td>0.501226</td>\n",
       "      <td>3</td>\n",
       "      <td>{u'country': u'Brasil', u'state': u'MT', u'typ...</td>\n",
       "    </tr>\n",
       "    <tr>\n",
       "      <th>3</th>\n",
       "      <td>19/11/2010 20:05:58</td>\n",
       "      <td>Raul_Jungmann</td>\n",
       "      <td>Pernambuco tem risco de sofrer epidemia de den...</td>\n",
       "      <td>0.080289</td>\n",
       "      <td>0.106928</td>\n",
       "      <td>0.054929</td>\n",
       "      <td>0.141276</td>\n",
       "      <td>0.616577</td>\n",
       "      <td>3</td>\n",
       "      <td>{u'city': u'Recife', u'country': u'Brasil', u'...</td>\n",
       "    </tr>\n",
       "    <tr>\n",
       "      <th>4</th>\n",
       "      <td>19/11/2010 20:06:18</td>\n",
       "      <td>laana_mello</td>\n",
       "      <td>Rpz...acho q a Caueira tah com surto de dengue...</td>\n",
       "      <td>0.112013</td>\n",
       "      <td>0.143425</td>\n",
       "      <td>0.094947</td>\n",
       "      <td>0.429626</td>\n",
       "      <td>0.219990</td>\n",
       "      <td>0</td>\n",
       "      <td>{u'country': u'Brasil', u'state': u'MT', u'typ...</td>\n",
       "    </tr>\n",
       "  </tbody>\n",
       "</table>\n",
       "</div>"
      ],
      "text/plain": [
       "                  date             user  \\\n",
       "0  19/11/2010 20:04:44     PauloAfBahia   \n",
       "1  19/11/2010 20:05:05  PortalOuroNegro   \n",
       "2  19/11/2010 20:05:30        Kustelaas   \n",
       "3  19/11/2010 20:05:58    Raul_Jungmann   \n",
       "4  19/11/2010 20:06:18      laana_mello   \n",
       "\n",
       "                                             message         0         1  \\\n",
       "0  A dengue mata mas com simples gestos de preven...  0.138010  0.101521   \n",
       "1  Mutirão contra a Dengue começou nesta sexta em...  0.105452  0.056434   \n",
       "2  @depChicoAlencar amannhã alem do dia da consiê...  0.054194  0.084122   \n",
       "3  Pernambuco tem risco de sofrer epidemia de den...  0.080289  0.106928   \n",
       "4  Rpz...acho q a Caueira tah com surto de dengue...  0.112013  0.143425   \n",
       "\n",
       "          2         3         4  class  \\\n",
       "0  0.254248  0.085880  0.420341      3   \n",
       "1  0.248333  0.188912  0.400869      3   \n",
       "2  0.213530  0.146927  0.501226      3   \n",
       "3  0.054929  0.141276  0.616577      3   \n",
       "4  0.094947  0.429626  0.219990      0   \n",
       "\n",
       "                                            location  \n",
       "0                     {u'd': 1443198862750, u'v': 1}  \n",
       "1  {u'city': u'Linhares', u'country': u'Brasil', ...  \n",
       "2  {u'country': u'Brasil', u'state': u'MT', u'typ...  \n",
       "3  {u'city': u'Recife', u'country': u'Brasil', u'...  \n",
       "4  {u'country': u'Brasil', u'state': u'MT', u'typ...  "
      ]
     },
     "execution_count": 8,
     "metadata": {},
     "output_type": "execute_result"
    }
   ],
   "source": [
    "data.head()"
   ]
  },
  {
   "cell_type": "code",
   "execution_count": 5,
   "metadata": {},
   "outputs": [
    {
     "data": {
      "text/plain": [
       "(7503165, 10)"
      ]
     },
     "execution_count": 5,
     "metadata": {},
     "output_type": "execute_result"
    }
   ],
   "source": [
    "data.shape"
   ]
  },
  {
   "cell_type": "markdown",
   "metadata": {},
   "source": [
    "shrink database"
   ]
  },
  {
   "cell_type": "code",
   "execution_count": 18,
   "metadata": {},
   "outputs": [],
   "source": [
    "data = data[:1000]"
   ]
  },
  {
   "cell_type": "code",
   "execution_count": 19,
   "metadata": {},
   "outputs": [
    {
     "data": {
      "text/plain": [
       "<matplotlib.axes._subplots.AxesSubplot at 0x1ae51063470>"
      ]
     },
     "execution_count": 19,
     "metadata": {},
     "output_type": "execute_result"
    },
    {
     "data": {
      "image/png": "[encoded data removed]",
      "text/plain": [
       "<Figure size 432x288 with 1 Axes>"
      ]
     },
     "metadata": {
      "needs_background": "light"
     },
     "output_type": "display_data"
    }
   ],
   "source": [
    "data['class'].value_counts().plot('bar')"
   ]
  },
  {
   "cell_type": "code",
   "execution_count": 20,
   "metadata": {},
   "outputs": [],
   "source": [
    "text = pd.Series(data['message'].tolist()).astype(str)"
   ]
  },
  {
   "cell_type": "raw",
   "metadata": {},
   "source": [
    "tfidf = TfidfVectorizer(\n",
    "    analyzer='word')  "
   ]
  },
  {
   "cell_type": "raw",
   "metadata": {},
   "source": [
    "tfidf.fit(data['message'])"
   ]
  },
  {
   "cell_type": "markdown",
   "metadata": {},
   "source": [
    "https://www.kdnuggets.com/2018/08/wtf-tf-idf.html"
   ]
  },
  {
   "cell_type": "code",
   "execution_count": 76,
   "metadata": {},
   "outputs": [],
   "source": [
    "idf_counter = Counter()"
   ]
  },
  {
   "cell_type": "code",
   "execution_count": 77,
   "metadata": {},
   "outputs": [],
   "source": [
    "for text in data['message']:\n",
    "    words = text.lower().split()\n",
    "    idf_counter.update(words)"
   ]
  },
  {
   "cell_type": "code",
   "execution_count": 78,
   "metadata": {},
   "outputs": [],
   "source": [
    "idf = {\n",
    "  word: math.log(len(data)/df, 2)\n",
    "  for word, df in idf_counter.items()\n",
    "}"
   ]
  },
  {
   "cell_type": "code",
   "execution_count": 91,
   "metadata": {},
   "outputs": [
    {
     "data": {
      "text/plain": [
       "['mobilização',\n",
       " 'ele',\n",
       " 'pelo',\n",
       " 'vai',\n",
       " 'vc',\n",
       " 'muito',\n",
       " 'será',\n",
       " 'mosquit...',\n",
       " 'risco',\n",
       " 'novo',\n",
       " 'te',\n",
       " '?',\n",
       " 'nem',\n",
       " '@g1:',\n",
       " 'vem',\n",
       " 'pneus',\n",
       " 'dengue...',\n",
       " 'casa',\n",
       " '#tweetfor',\n",
       " 'porque']"
      ]
     },
     "execution_count": 91,
     "metadata": {},
     "output_type": "execute_result"
    }
   ],
   "source": [
    "sorted(idf, key=idf.get)[100:120]"
   ]
  },
  {
   "cell_type": "code",
   "execution_count": 93,
   "metadata": {},
   "outputs": [
    {
     "data": {
      "text/plain": [
       "['lado', 'mercadorama.', 'água,', 'qqqq']"
      ]
     },
     "execution_count": 93,
     "metadata": {},
     "output_type": "execute_result"
    }
   ],
   "source": [
    "sorted(idf, key=idf.get)[-4:]"
   ]
  },
  {
   "cell_type": "code",
   "execution_count": null,
   "metadata": {},
   "outputs": [],
   "source": []
  }
 ],
 "metadata": {
  "kernelspec": {
   "display_name": "Python 3",
   "language": "python",
   "name": "python3"
  },
  "language_info": {
   "codemirror_mode": {
    "name": "ipython",
    "version": 3
   },
   "file_extension": ".py",
   "mimetype": "text/x-python",
   "name": "python",
   "nbconvert_exporter": "python",
   "pygments_lexer": "ipython3",
   "version": "3.7.1"
  }
 },
 "nbformat": 4,
 "nbformat_minor": 2
}
