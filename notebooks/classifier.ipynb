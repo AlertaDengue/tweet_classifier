{
 "cells": [
  {
   "cell_type": "markdown",
   "metadata": {},
   "source": [
    "# classifier\n",
    "Classifies each tweet according to the train set, which was classified by collaborators of the Infodengue project. "
   ]
  },
  {
   "cell_type": "markdown",
   "metadata": {},
   "source": [
    "Observations:\n",
    "* Do not use stemming, because of the text content of tweets.\n",
    "* For sklearn, check the text preprocessing\n",
    "* Using tweet tokenizer from nltk\n",
    "* Using only TF for preprocessing\n",
    "* baseline: random forest, logistic, xgboost\n",
    "\n",
    "16/12\n",
    "* usar spacy para fazer marcacao sintatica. variavel part of speech tag dobraria numero de colunas\n",
    "* achou numero de 0.79 de recall e 0.4 de precision muito baixo\n",
    "* usar shap para interpretabilidade de xgboost\n",
    "\n",
    "usar word2vec (notebook separado)\n",
    "* ref: \n",
    "    * https://github.com/fccoelho/text-mining-cientistas-sociais\n",
    "    * kaggle-quora\n",
    "    * SRI"
   ]
  },
  {
   "cell_type": "code",
   "execution_count": 576,
   "metadata": {},
   "outputs": [],
   "source": [
    "import os\n",
    "import pandas as pd\n",
    "import numpy as np\n",
    "#import pickle\n",
    "from collections import Counter\n",
    "#import math\n",
    "import nltk\n",
    "#import requests\n",
    "#import html\n",
    "#from datetime import datetime, timedelta, date\n",
    "import string\n",
    "import json\n",
    "import matplotlib.pyplot as plt\n",
    "import seaborn as sns\n",
    "#from sklearn.feature_extraction.text import TfidfVectorizer\n",
    "#from sklearn.model_selection import cross_val_score\n",
    "#import statsmodels as sm\n",
    "\n",
    "import warnings\n",
    "warnings.filterwarnings('ignore')\n",
    "%matplotlib inline"
   ]
  },
  {
   "cell_type": "code",
   "execution_count": 577,
   "metadata": {},
   "outputs": [],
   "source": [
    "outputs = \"../outputs/\""
   ]
  },
  {
   "cell_type": "code",
   "execution_count": 578,
   "metadata": {},
   "outputs": [],
   "source": [
    "classifications = pd.read_csv(os.path.join('../outputs/from_anvil/', 'classifications_finished.csv'))"
   ]
  },
  {
   "cell_type": "code",
   "execution_count": 579,
   "metadata": {},
   "outputs": [],
   "source": [
    "classifications = classifications.groupby(by='str_id').sum()\n",
    "classifications['class'] = classifications['relevance'].apply(lambda x: 1 if x>=4 else 0)\n",
    "classifications['class_threshold3'] = classifications['relevance'].apply(lambda x: 1 if x>=3 else 0)\n",
    "classifications.reset_index(inplace=True)\n",
    "classifications.rename(columns = {'str_id': 'id'}, inplace=True)"
   ]
  },
  {
   "cell_type": "code",
   "execution_count": 580,
   "metadata": {},
   "outputs": [],
   "source": [
    "anvil_input = pd.read_json(os.path.join(outputs, \"tweets_anvil_input.json\"))"
   ]
  },
  {
   "cell_type": "code",
   "execution_count": 581,
   "metadata": {},
   "outputs": [
    {
     "data": {
      "text/html": [
       "<div>\n",
       "<style scoped>\n",
       "    .dataframe tbody tr th:only-of-type {\n",
       "        vertical-align: middle;\n",
       "    }\n",
       "\n",
       "    .dataframe tbody tr th {\n",
       "        vertical-align: top;\n",
       "    }\n",
       "\n",
       "    .dataframe thead th {\n",
       "        text-align: right;\n",
       "    }\n",
       "</style>\n",
       "<table border=\"1\" class=\"dataframe\">\n",
       "  <thead>\n",
       "    <tr style=\"text-align: right;\">\n",
       "      <th></th>\n",
       "      <th>id</th>\n",
       "      <th>relevance</th>\n",
       "      <th>class</th>\n",
       "      <th>class_threshold3</th>\n",
       "      <th>message</th>\n",
       "    </tr>\n",
       "  </thead>\n",
       "  <tbody>\n",
       "    <tr>\n",
       "      <td>0</td>\n",
       "      <td>699069305468551169</td>\n",
       "      <td>2</td>\n",
       "      <td>0</td>\n",
       "      <td>0</td>\n",
       "      <td>Brasil tera 55 mil militares nas ruas para com...</td>\n",
       "    </tr>\n",
       "    <tr>\n",
       "      <td>1</td>\n",
       "      <td>699164279472263170</td>\n",
       "      <td>3</td>\n",
       "      <td>0</td>\n",
       "      <td>1</td>\n",
       "      <td>Depois do exercito abandonar o combate aos foc...</td>\n",
       "    </tr>\n",
       "    <tr>\n",
       "      <td>2</td>\n",
       "      <td>699266282646994944</td>\n",
       "      <td>3</td>\n",
       "      <td>0</td>\n",
       "      <td>1</td>\n",
       "      <td>Farmaceuticos recebem treinamento sobre dengue...</td>\n",
       "    </tr>\n",
       "    <tr>\n",
       "      <td>3</td>\n",
       "      <td>699317409254133760</td>\n",
       "      <td>0</td>\n",
       "      <td>0</td>\n",
       "      <td>0</td>\n",
       "      <td>RT @BolsonaroZuero: eu assistindo o pronunciam...</td>\n",
       "    </tr>\n",
       "    <tr>\n",
       "      <td>4</td>\n",
       "      <td>699389002210791429</td>\n",
       "      <td>2</td>\n",
       "      <td>0</td>\n",
       "      <td>0</td>\n",
       "      <td>To com um desconforto no olho que certo que e ...</td>\n",
       "    </tr>\n",
       "    <tr>\n",
       "      <td>...</td>\n",
       "      <td>...</td>\n",
       "      <td>...</td>\n",
       "      <td>...</td>\n",
       "      <td>...</td>\n",
       "      <td>...</td>\n",
       "    </tr>\n",
       "    <tr>\n",
       "      <td>574</td>\n",
       "      <td>1000179821836718083</td>\n",
       "      <td>0</td>\n",
       "      <td>0</td>\n",
       "      <td>0</td>\n",
       "      <td>meu ccat e mais parado que agua da dengue</td>\n",
       "    </tr>\n",
       "    <tr>\n",
       "      <td>575</td>\n",
       "      <td>1000235160485466112</td>\n",
       "      <td>0</td>\n",
       "      <td>0</td>\n",
       "      <td>0</td>\n",
       "      <td>Fala pro Ceis que eu n curto mto ir na igreja ...</td>\n",
       "    </tr>\n",
       "    <tr>\n",
       "      <td>576</td>\n",
       "      <td>1000376954342854656</td>\n",
       "      <td>0</td>\n",
       "      <td>0</td>\n",
       "      <td>0</td>\n",
       "      <td>RT @RGLIMA: @DaniloGentili Inundou? Chama o Ex...</td>\n",
       "    </tr>\n",
       "    <tr>\n",
       "      <td>577</td>\n",
       "      <td>1000527883331358720</td>\n",
       "      <td>4</td>\n",
       "      <td>1</td>\n",
       "      <td>1</td>\n",
       "      <td>Dengue e Chikungunya - O perigo aumentou. E a ...</td>\n",
       "    </tr>\n",
       "    <tr>\n",
       "      <td>578</td>\n",
       "      <td>1000763927146450944</td>\n",
       "      <td>4</td>\n",
       "      <td>1</td>\n",
       "      <td>1</td>\n",
       "      <td>Nao recomendo ninguem a pegar Zika, serio</td>\n",
       "    </tr>\n",
       "  </tbody>\n",
       "</table>\n",
       "<p>579 rows × 5 columns</p>\n",
       "</div>"
      ],
      "text/plain": [
       "                      id  relevance  class  class_threshold3  \\\n",
       "0     699069305468551169          2      0                 0   \n",
       "1     699164279472263170          3      0                 1   \n",
       "2     699266282646994944          3      0                 1   \n",
       "3     699317409254133760          0      0                 0   \n",
       "4     699389002210791429          2      0                 0   \n",
       "..                   ...        ...    ...               ...   \n",
       "574  1000179821836718083          0      0                 0   \n",
       "575  1000235160485466112          0      0                 0   \n",
       "576  1000376954342854656          0      0                 0   \n",
       "577  1000527883331358720          4      1                 1   \n",
       "578  1000763927146450944          4      1                 1   \n",
       "\n",
       "                                               message  \n",
       "0    Brasil tera 55 mil militares nas ruas para com...  \n",
       "1    Depois do exercito abandonar o combate aos foc...  \n",
       "2    Farmaceuticos recebem treinamento sobre dengue...  \n",
       "3    RT @BolsonaroZuero: eu assistindo o pronunciam...  \n",
       "4    To com um desconforto no olho que certo que e ...  \n",
       "..                                                 ...  \n",
       "574          meu ccat e mais parado que agua da dengue  \n",
       "575  Fala pro Ceis que eu n curto mto ir na igreja ...  \n",
       "576  RT @RGLIMA: @DaniloGentili Inundou? Chama o Ex...  \n",
       "577  Dengue e Chikungunya - O perigo aumentou. E a ...  \n",
       "578          Nao recomendo ninguem a pegar Zika, serio  \n",
       "\n",
       "[579 rows x 5 columns]"
      ]
     },
     "execution_count": 581,
     "metadata": {},
     "output_type": "execute_result"
    }
   ],
   "source": [
    "data = pd.merge(classifications, anvil_input, on='id')\n",
    "data.drop(columns=['tid', 'count'], inplace=True)\n",
    "data"
   ]
  },
  {
   "cell_type": "markdown",
   "metadata": {},
   "source": [
    "# basic exploration"
   ]
  },
  {
   "cell_type": "code",
   "execution_count": 582,
   "metadata": {},
   "outputs": [
    {
     "name": "stdout",
     "output_type": "stream",
     "text": [
      "<class 'pandas.core.frame.DataFrame'>\n",
      "Int64Index: 579 entries, 0 to 578\n",
      "Data columns (total 5 columns):\n",
      "id                  579 non-null int64\n",
      "relevance           579 non-null int64\n",
      "class               579 non-null int64\n",
      "class_threshold3    579 non-null int64\n",
      "message             579 non-null object\n",
      "dtypes: int64(4), object(1)\n",
      "memory usage: 27.1+ KB\n"
     ]
    }
   ],
   "source": [
    "data.info()"
   ]
  },
  {
   "cell_type": "code",
   "execution_count": 583,
   "metadata": {
    "scrolled": true
   },
   "outputs": [
    {
     "data": {
      "text/html": [
       "<div>\n",
       "<style scoped>\n",
       "    .dataframe tbody tr th:only-of-type {\n",
       "        vertical-align: middle;\n",
       "    }\n",
       "\n",
       "    .dataframe tbody tr th {\n",
       "        vertical-align: top;\n",
       "    }\n",
       "\n",
       "    .dataframe thead th {\n",
       "        text-align: right;\n",
       "    }\n",
       "</style>\n",
       "<table border=\"1\" class=\"dataframe\">\n",
       "  <thead>\n",
       "    <tr style=\"text-align: right;\">\n",
       "      <th></th>\n",
       "      <th>id</th>\n",
       "      <th>relevance</th>\n",
       "      <th>class</th>\n",
       "      <th>class_threshold3</th>\n",
       "    </tr>\n",
       "  </thead>\n",
       "  <tbody>\n",
       "    <tr>\n",
       "      <td>count</td>\n",
       "      <td>5.790000e+02</td>\n",
       "      <td>579.000000</td>\n",
       "      <td>579.000000</td>\n",
       "      <td>579.000000</td>\n",
       "    </tr>\n",
       "    <tr>\n",
       "      <td>mean</td>\n",
       "      <td>8.403494e+17</td>\n",
       "      <td>1.329879</td>\n",
       "      <td>0.155440</td>\n",
       "      <td>0.229706</td>\n",
       "    </tr>\n",
       "    <tr>\n",
       "      <td>std</td>\n",
       "      <td>1.131194e+17</td>\n",
       "      <td>1.700800</td>\n",
       "      <td>0.362637</td>\n",
       "      <td>0.421008</td>\n",
       "    </tr>\n",
       "    <tr>\n",
       "      <td>min</td>\n",
       "      <td>6.990693e+17</td>\n",
       "      <td>0.000000</td>\n",
       "      <td>0.000000</td>\n",
       "      <td>0.000000</td>\n",
       "    </tr>\n",
       "    <tr>\n",
       "      <td>25%</td>\n",
       "      <td>7.093156e+17</td>\n",
       "      <td>0.000000</td>\n",
       "      <td>0.000000</td>\n",
       "      <td>0.000000</td>\n",
       "    </tr>\n",
       "    <tr>\n",
       "      <td>50%</td>\n",
       "      <td>8.461445e+17</td>\n",
       "      <td>1.000000</td>\n",
       "      <td>0.000000</td>\n",
       "      <td>0.000000</td>\n",
       "    </tr>\n",
       "    <tr>\n",
       "      <td>75%</td>\n",
       "      <td>9.828123e+17</td>\n",
       "      <td>2.000000</td>\n",
       "      <td>0.000000</td>\n",
       "      <td>0.000000</td>\n",
       "    </tr>\n",
       "    <tr>\n",
       "      <td>max</td>\n",
       "      <td>1.000764e+18</td>\n",
       "      <td>6.000000</td>\n",
       "      <td>1.000000</td>\n",
       "      <td>1.000000</td>\n",
       "    </tr>\n",
       "  </tbody>\n",
       "</table>\n",
       "</div>"
      ],
      "text/plain": [
       "                 id   relevance       class  class_threshold3\n",
       "count  5.790000e+02  579.000000  579.000000        579.000000\n",
       "mean   8.403494e+17    1.329879    0.155440          0.229706\n",
       "std    1.131194e+17    1.700800    0.362637          0.421008\n",
       "min    6.990693e+17    0.000000    0.000000          0.000000\n",
       "25%    7.093156e+17    0.000000    0.000000          0.000000\n",
       "50%    8.461445e+17    1.000000    0.000000          0.000000\n",
       "75%    9.828123e+17    2.000000    0.000000          0.000000\n",
       "max    1.000764e+18    6.000000    1.000000          1.000000"
      ]
     },
     "execution_count": 583,
     "metadata": {},
     "output_type": "execute_result"
    }
   ],
   "source": [
    "data.describe()"
   ]
  },
  {
   "cell_type": "markdown",
   "metadata": {},
   "source": [
    "# check if data is unbalanced"
   ]
  },
  {
   "cell_type": "markdown",
   "metadata": {},
   "source": [
    "**Data is unbalanced!**"
   ]
  },
  {
   "cell_type": "markdown",
   "metadata": {},
   "source": [
    "### Threshold 4\n",
    "fazer undersamplig"
   ]
  },
  {
   "cell_type": "code",
   "execution_count": 584,
   "metadata": {},
   "outputs": [
    {
     "data": {
      "image/png": "[encoded data removed]",
      "text/plain": [
       "<Figure size 576x288 with 1 Axes>"
      ]
     },
     "metadata": {
      "needs_background": "light"
     },
     "output_type": "display_data"
    }
   ],
   "source": [
    "color = sns.color_palette()\n",
    "classif = data['class'].value_counts()\n",
    "plt.figure(figsize=(8,4))\n",
    "sns.barplot(classif.index, classif.values, alpha=0.8, color=color[0])\n",
    "plt.ylabel('Number of Occurrences', fontsize=12)\n",
    "plt.xlabel('Relevance', fontsize=12)\n",
    "plt.show()"
   ]
  },
  {
   "cell_type": "code",
   "execution_count": 585,
   "metadata": {},
   "outputs": [
    {
     "data": {
      "text/plain": [
       "0    489\n",
       "1     90\n",
       "Name: class, dtype: int64"
      ]
     },
     "execution_count": 585,
     "metadata": {},
     "output_type": "execute_result"
    }
   ],
   "source": [
    "data['class'].value_counts()"
   ]
  },
  {
   "cell_type": "markdown",
   "metadata": {},
   "source": [
    "### Threshold 3"
   ]
  },
  {
   "cell_type": "code",
   "execution_count": 586,
   "metadata": {},
   "outputs": [
    {
     "data": {
      "image/png": "[encoded data removed]",
      "text/plain": [
       "<Figure size 576x288 with 1 Axes>"
      ]
     },
     "metadata": {
      "needs_background": "light"
     },
     "output_type": "display_data"
    }
   ],
   "source": [
    "color = sns.color_palette()\n",
    "classif = data['class_threshold3'].value_counts()\n",
    "plt.figure(figsize=(8,4))\n",
    "sns.barplot(classif.index, classif.values, alpha=0.8, color=color[0])\n",
    "plt.ylabel('Number of Occurrences', fontsize=12)\n",
    "plt.xlabel('Relevance', fontsize=12)\n",
    "plt.show()"
   ]
  },
  {
   "cell_type": "code",
   "execution_count": 587,
   "metadata": {},
   "outputs": [
    {
     "data": {
      "text/plain": [
       "0    446\n",
       "1    133\n",
       "Name: class_threshold3, dtype: int64"
      ]
     },
     "execution_count": 587,
     "metadata": {},
     "output_type": "execute_result"
    }
   ],
   "source": [
    "data['class_threshold3'].value_counts()"
   ]
  },
  {
   "cell_type": "markdown",
   "metadata": {},
   "source": [
    "# tokenize\n",
    "using TweetTokenizer from nltk. Also gets lowercase text."
   ]
  },
  {
   "cell_type": "code",
   "execution_count": 588,
   "metadata": {},
   "outputs": [],
   "source": [
    "from nltk.tokenize import TweetTokenizer\n",
    "tknzr = TweetTokenizer()"
   ]
  },
  {
   "cell_type": "code",
   "execution_count": 589,
   "metadata": {},
   "outputs": [
    {
     "data": {
      "text/plain": [
       "0    [brasil, tera, 55, mil, militares, nas, ruas, ...\n",
       "1    [depois, do, exercito, abandonar, o, combate, ...\n",
       "2    [farmaceuticos, recebem, treinamento, sobre, d...\n",
       "3    [rt, bolsonarozuero, eu, assistindo, o, pronun...\n",
       "4    [to, com, um, desconforto, no, olho, que, cert...\n",
       "Name: tokens, dtype: object"
      ]
     },
     "execution_count": 589,
     "metadata": {},
     "output_type": "execute_result"
    }
   ],
   "source": [
    "data['tokens'] = data['message'].apply(lambda x: tknzr.tokenize(x.translate(str.maketrans('', '', string.punctuation)).lower()))\n",
    "#data['tokens'] = data['message'].apply(lambda x: tknzr.tokenize(x.lower()))\n",
    "data.head()['tokens']"
   ]
  },
  {
   "cell_type": "code",
   "execution_count": 590,
   "metadata": {},
   "outputs": [],
   "source": [
    "#tfidf = TfidfVectorizer(analyzer='word')\n",
    "counter = Counter()\n",
    "for text in data['tokens']:\n",
    "    counter.update(text)\n",
    "tf_top = sorted(counter, key=counter.get)[-500:]"
   ]
  },
  {
   "cell_type": "code",
   "execution_count": 591,
   "metadata": {},
   "outputs": [
    {
     "data": {
      "text/plain": [
       "['o', 'zika', 'dengue', 'e', 'de']"
      ]
     },
     "execution_count": 591,
     "metadata": {},
     "output_type": "execute_result"
    }
   ],
   "source": [
    "tf_top[-5:]"
   ]
  },
  {
   "cell_type": "code",
   "execution_count": 592,
   "metadata": {},
   "outputs": [],
   "source": [
    "#usando freq absoluta\n",
    "def abs_tf(text, term):\n",
    "    #text = text.lower().split()\n",
    "\n",
    "    tf = 0\n",
    "    for word in text:\n",
    "        if word == term:\n",
    "            tf += 1\n",
    "    return tf"
   ]
  },
  {
   "cell_type": "code",
   "execution_count": 593,
   "metadata": {},
   "outputs": [],
   "source": [
    "for term in tf_top:\n",
    "    data[term] = 0\n",
    "    data[term] = data['tokens'].apply(lambda text: abs_tf(text, term))"
   ]
  },
  {
   "cell_type": "code",
   "execution_count": 594,
   "metadata": {},
   "outputs": [
    {
     "data": {
      "text/html": [
       "<div>\n",
       "<style scoped>\n",
       "    .dataframe tbody tr th:only-of-type {\n",
       "        vertical-align: middle;\n",
       "    }\n",
       "\n",
       "    .dataframe tbody tr th {\n",
       "        vertical-align: top;\n",
       "    }\n",
       "\n",
       "    .dataframe thead th {\n",
       "        text-align: right;\n",
       "    }\n",
       "</style>\n",
       "<table border=\"1\" class=\"dataframe\">\n",
       "  <thead>\n",
       "    <tr style=\"text-align: right;\">\n",
       "      <th></th>\n",
       "      <th>id</th>\n",
       "      <th>relevance</th>\n",
       "      <th>class</th>\n",
       "      <th>class_threshold3</th>\n",
       "      <th>message</th>\n",
       "      <th>tokens</th>\n",
       "      <th>capa</th>\n",
       "      <th>brasileirao</th>\n",
       "      <th>genpaulochagas</th>\n",
       "      <th>viva</th>\n",
       "      <th>...</th>\n",
       "      <th>do</th>\n",
       "      <th>da</th>\n",
       "      <th>rt</th>\n",
       "      <th>que</th>\n",
       "      <th>a</th>\n",
       "      <th>o</th>\n",
       "      <th>zika</th>\n",
       "      <th>dengue</th>\n",
       "      <th>e</th>\n",
       "      <th>de</th>\n",
       "    </tr>\n",
       "  </thead>\n",
       "  <tbody>\n",
       "    <tr>\n",
       "      <td>0</td>\n",
       "      <td>699069305468551169</td>\n",
       "      <td>2</td>\n",
       "      <td>0</td>\n",
       "      <td>0</td>\n",
       "      <td>Brasil tera 55 mil militares nas ruas para com...</td>\n",
       "      <td>[brasil, tera, 55, mil, militares, nas, ruas, ...</td>\n",
       "      <td>0</td>\n",
       "      <td>0</td>\n",
       "      <td>0</td>\n",
       "      <td>0</td>\n",
       "      <td>...</td>\n",
       "      <td>0</td>\n",
       "      <td>0</td>\n",
       "      <td>0</td>\n",
       "      <td>0</td>\n",
       "      <td>1</td>\n",
       "      <td>0</td>\n",
       "      <td>0</td>\n",
       "      <td>0</td>\n",
       "      <td>0</td>\n",
       "      <td>1</td>\n",
       "    </tr>\n",
       "    <tr>\n",
       "      <td>1</td>\n",
       "      <td>699164279472263170</td>\n",
       "      <td>3</td>\n",
       "      <td>0</td>\n",
       "      <td>1</td>\n",
       "      <td>Depois do exercito abandonar o combate aos foc...</td>\n",
       "      <td>[depois, do, exercito, abandonar, o, combate, ...</td>\n",
       "      <td>0</td>\n",
       "      <td>0</td>\n",
       "      <td>0</td>\n",
       "      <td>0</td>\n",
       "      <td>...</td>\n",
       "      <td>1</td>\n",
       "      <td>0</td>\n",
       "      <td>0</td>\n",
       "      <td>2</td>\n",
       "      <td>0</td>\n",
       "      <td>1</td>\n",
       "      <td>1</td>\n",
       "      <td>0</td>\n",
       "      <td>1</td>\n",
       "      <td>1</td>\n",
       "    </tr>\n",
       "    <tr>\n",
       "      <td>2</td>\n",
       "      <td>699266282646994944</td>\n",
       "      <td>3</td>\n",
       "      <td>0</td>\n",
       "      <td>1</td>\n",
       "      <td>Farmaceuticos recebem treinamento sobre dengue...</td>\n",
       "      <td>[farmaceuticos, recebem, treinamento, sobre, d...</td>\n",
       "      <td>0</td>\n",
       "      <td>0</td>\n",
       "      <td>0</td>\n",
       "      <td>0</td>\n",
       "      <td>...</td>\n",
       "      <td>0</td>\n",
       "      <td>0</td>\n",
       "      <td>0</td>\n",
       "      <td>0</td>\n",
       "      <td>0</td>\n",
       "      <td>0</td>\n",
       "      <td>1</td>\n",
       "      <td>1</td>\n",
       "      <td>2</td>\n",
       "      <td>1</td>\n",
       "    </tr>\n",
       "    <tr>\n",
       "      <td>3</td>\n",
       "      <td>699317409254133760</td>\n",
       "      <td>0</td>\n",
       "      <td>0</td>\n",
       "      <td>0</td>\n",
       "      <td>RT @BolsonaroZuero: eu assistindo o pronunciam...</td>\n",
       "      <td>[rt, bolsonarozuero, eu, assistindo, o, pronun...</td>\n",
       "      <td>0</td>\n",
       "      <td>0</td>\n",
       "      <td>0</td>\n",
       "      <td>0</td>\n",
       "      <td>...</td>\n",
       "      <td>0</td>\n",
       "      <td>1</td>\n",
       "      <td>1</td>\n",
       "      <td>0</td>\n",
       "      <td>0</td>\n",
       "      <td>2</td>\n",
       "      <td>1</td>\n",
       "      <td>0</td>\n",
       "      <td>0</td>\n",
       "      <td>0</td>\n",
       "    </tr>\n",
       "    <tr>\n",
       "      <td>4</td>\n",
       "      <td>699389002210791429</td>\n",
       "      <td>2</td>\n",
       "      <td>0</td>\n",
       "      <td>0</td>\n",
       "      <td>To com um desconforto no olho que certo que e ...</td>\n",
       "      <td>[to, com, um, desconforto, no, olho, que, cert...</td>\n",
       "      <td>0</td>\n",
       "      <td>0</td>\n",
       "      <td>0</td>\n",
       "      <td>0</td>\n",
       "      <td>...</td>\n",
       "      <td>0</td>\n",
       "      <td>0</td>\n",
       "      <td>0</td>\n",
       "      <td>2</td>\n",
       "      <td>0</td>\n",
       "      <td>0</td>\n",
       "      <td>1</td>\n",
       "      <td>0</td>\n",
       "      <td>1</td>\n",
       "      <td>0</td>\n",
       "    </tr>\n",
       "  </tbody>\n",
       "</table>\n",
       "<p>5 rows × 506 columns</p>\n",
       "</div>"
      ],
      "text/plain": [
       "                   id  relevance  class  class_threshold3  \\\n",
       "0  699069305468551169          2      0                 0   \n",
       "1  699164279472263170          3      0                 1   \n",
       "2  699266282646994944          3      0                 1   \n",
       "3  699317409254133760          0      0                 0   \n",
       "4  699389002210791429          2      0                 0   \n",
       "\n",
       "                                             message  \\\n",
       "0  Brasil tera 55 mil militares nas ruas para com...   \n",
       "1  Depois do exercito abandonar o combate aos foc...   \n",
       "2  Farmaceuticos recebem treinamento sobre dengue...   \n",
       "3  RT @BolsonaroZuero: eu assistindo o pronunciam...   \n",
       "4  To com um desconforto no olho que certo que e ...   \n",
       "\n",
       "                                              tokens  capa  brasileirao  \\\n",
       "0  [brasil, tera, 55, mil, militares, nas, ruas, ...     0            0   \n",
       "1  [depois, do, exercito, abandonar, o, combate, ...     0            0   \n",
       "2  [farmaceuticos, recebem, treinamento, sobre, d...     0            0   \n",
       "3  [rt, bolsonarozuero, eu, assistindo, o, pronun...     0            0   \n",
       "4  [to, com, um, desconforto, no, olho, que, cert...     0            0   \n",
       "\n",
       "   genpaulochagas  viva  ...  do  da  rt  que  a  o  zika  dengue  e  de  \n",
       "0               0     0  ...   0   0   0    0  1  0     0       0  0   1  \n",
       "1               0     0  ...   1   0   0    2  0  1     1       0  1   1  \n",
       "2               0     0  ...   0   0   0    0  0  0     1       1  2   1  \n",
       "3               0     0  ...   0   1   1    0  0  2     1       0  0   0  \n",
       "4               0     0  ...   0   0   0    2  0  0     1       0  1   0  \n",
       "\n",
       "[5 rows x 506 columns]"
      ]
     },
     "execution_count": 594,
     "metadata": {},
     "output_type": "execute_result"
    }
   ],
   "source": [
    "data.head()"
   ]
  },
  {
   "cell_type": "markdown",
   "metadata": {},
   "source": [
    "# Data split"
   ]
  },
  {
   "cell_type": "code",
   "execution_count": 595,
   "metadata": {},
   "outputs": [],
   "source": [
    "from sklearn.model_selection import train_test_split"
   ]
  },
  {
   "cell_type": "code",
   "execution_count": 596,
   "metadata": {},
   "outputs": [],
   "source": [
    "data = data.rename(columns={\"class\": \"y1\", \"class_threshold3\": \"y2\"})"
   ]
  },
  {
   "cell_type": "code",
   "execution_count": 597,
   "metadata": {},
   "outputs": [
    {
     "data": {
      "text/plain": [
       "Index(['tokens', 'capa', 'brasileirao', 'genpaulochagas', 'viva', 'httpstcol',\n",
       "       'pegou', 'camisa', 'mina', 'legal',\n",
       "       ...\n",
       "       'com', 'do', 'da', 'rt', 'que', 'a', 'o', 'zika', 'dengue', 'e'],\n",
       "      dtype='object', length=500)"
      ]
     },
     "execution_count": 597,
     "metadata": {},
     "output_type": "execute_result"
    }
   ],
   "source": [
    "x_variables = data.columns[5:-1]\n",
    "x_variables"
   ]
  },
  {
   "cell_type": "code",
   "execution_count": 623,
   "metadata": {},
   "outputs": [],
   "source": [
    "#ys = data.iloc[:, 2:4]\n",
    "y = data.loc[:, 'y1']\n",
    "#y = data.iloc[:, 3:4]\n",
    "X = data.iloc[:, 6:]\n",
    "\n",
    "X_train, X_test, y_train, y_test = train_test_split(X, y, test_size = 0.3, random_state=0, shuffle=False)"
   ]
  },
  {
   "cell_type": "code",
   "execution_count": 624,
   "metadata": {
    "scrolled": true
   },
   "outputs": [
    {
     "data": {
      "text/html": [
       "<div>\n",
       "<style scoped>\n",
       "    .dataframe tbody tr th:only-of-type {\n",
       "        vertical-align: middle;\n",
       "    }\n",
       "\n",
       "    .dataframe tbody tr th {\n",
       "        vertical-align: top;\n",
       "    }\n",
       "\n",
       "    .dataframe thead th {\n",
       "        text-align: right;\n",
       "    }\n",
       "</style>\n",
       "<table border=\"1\" class=\"dataframe\">\n",
       "  <thead>\n",
       "    <tr style=\"text-align: right;\">\n",
       "      <th></th>\n",
       "      <th>capa</th>\n",
       "      <th>brasileirao</th>\n",
       "      <th>genpaulochagas</th>\n",
       "      <th>viva</th>\n",
       "      <th>httpstcol</th>\n",
       "      <th>pegou</th>\n",
       "      <th>camisa</th>\n",
       "      <th>mina</th>\n",
       "      <th>legal</th>\n",
       "      <th>copo</th>\n",
       "      <th>...</th>\n",
       "      <th>do</th>\n",
       "      <th>da</th>\n",
       "      <th>rt</th>\n",
       "      <th>que</th>\n",
       "      <th>a</th>\n",
       "      <th>o</th>\n",
       "      <th>zika</th>\n",
       "      <th>dengue</th>\n",
       "      <th>e</th>\n",
       "      <th>de</th>\n",
       "    </tr>\n",
       "  </thead>\n",
       "  <tbody>\n",
       "    <tr>\n",
       "      <td>0</td>\n",
       "      <td>0</td>\n",
       "      <td>0</td>\n",
       "      <td>0</td>\n",
       "      <td>0</td>\n",
       "      <td>0</td>\n",
       "      <td>0</td>\n",
       "      <td>0</td>\n",
       "      <td>0</td>\n",
       "      <td>0</td>\n",
       "      <td>0</td>\n",
       "      <td>...</td>\n",
       "      <td>0</td>\n",
       "      <td>0</td>\n",
       "      <td>0</td>\n",
       "      <td>0</td>\n",
       "      <td>1</td>\n",
       "      <td>0</td>\n",
       "      <td>0</td>\n",
       "      <td>0</td>\n",
       "      <td>0</td>\n",
       "      <td>1</td>\n",
       "    </tr>\n",
       "    <tr>\n",
       "      <td>1</td>\n",
       "      <td>0</td>\n",
       "      <td>0</td>\n",
       "      <td>0</td>\n",
       "      <td>0</td>\n",
       "      <td>0</td>\n",
       "      <td>0</td>\n",
       "      <td>0</td>\n",
       "      <td>0</td>\n",
       "      <td>0</td>\n",
       "      <td>0</td>\n",
       "      <td>...</td>\n",
       "      <td>1</td>\n",
       "      <td>0</td>\n",
       "      <td>0</td>\n",
       "      <td>2</td>\n",
       "      <td>0</td>\n",
       "      <td>1</td>\n",
       "      <td>1</td>\n",
       "      <td>0</td>\n",
       "      <td>1</td>\n",
       "      <td>1</td>\n",
       "    </tr>\n",
       "    <tr>\n",
       "      <td>2</td>\n",
       "      <td>0</td>\n",
       "      <td>0</td>\n",
       "      <td>0</td>\n",
       "      <td>0</td>\n",
       "      <td>0</td>\n",
       "      <td>0</td>\n",
       "      <td>0</td>\n",
       "      <td>0</td>\n",
       "      <td>0</td>\n",
       "      <td>0</td>\n",
       "      <td>...</td>\n",
       "      <td>0</td>\n",
       "      <td>0</td>\n",
       "      <td>0</td>\n",
       "      <td>0</td>\n",
       "      <td>0</td>\n",
       "      <td>0</td>\n",
       "      <td>1</td>\n",
       "      <td>1</td>\n",
       "      <td>2</td>\n",
       "      <td>1</td>\n",
       "    </tr>\n",
       "    <tr>\n",
       "      <td>3</td>\n",
       "      <td>0</td>\n",
       "      <td>0</td>\n",
       "      <td>0</td>\n",
       "      <td>0</td>\n",
       "      <td>0</td>\n",
       "      <td>0</td>\n",
       "      <td>0</td>\n",
       "      <td>0</td>\n",
       "      <td>0</td>\n",
       "      <td>0</td>\n",
       "      <td>...</td>\n",
       "      <td>0</td>\n",
       "      <td>1</td>\n",
       "      <td>1</td>\n",
       "      <td>0</td>\n",
       "      <td>0</td>\n",
       "      <td>2</td>\n",
       "      <td>1</td>\n",
       "      <td>0</td>\n",
       "      <td>0</td>\n",
       "      <td>0</td>\n",
       "    </tr>\n",
       "    <tr>\n",
       "      <td>4</td>\n",
       "      <td>0</td>\n",
       "      <td>0</td>\n",
       "      <td>0</td>\n",
       "      <td>0</td>\n",
       "      <td>0</td>\n",
       "      <td>0</td>\n",
       "      <td>0</td>\n",
       "      <td>0</td>\n",
       "      <td>0</td>\n",
       "      <td>0</td>\n",
       "      <td>...</td>\n",
       "      <td>0</td>\n",
       "      <td>0</td>\n",
       "      <td>0</td>\n",
       "      <td>2</td>\n",
       "      <td>0</td>\n",
       "      <td>0</td>\n",
       "      <td>1</td>\n",
       "      <td>0</td>\n",
       "      <td>1</td>\n",
       "      <td>0</td>\n",
       "    </tr>\n",
       "  </tbody>\n",
       "</table>\n",
       "<p>5 rows × 500 columns</p>\n",
       "</div>"
      ],
      "text/plain": [
       "   capa  brasileirao  genpaulochagas  viva  httpstcol  pegou  camisa  mina  \\\n",
       "0     0            0               0     0          0      0       0     0   \n",
       "1     0            0               0     0          0      0       0     0   \n",
       "2     0            0               0     0          0      0       0     0   \n",
       "3     0            0               0     0          0      0       0     0   \n",
       "4     0            0               0     0          0      0       0     0   \n",
       "\n",
       "   legal  copo  ...  do  da  rt  que  a  o  zika  dengue  e  de  \n",
       "0      0     0  ...   0   0   0    0  1  0     0       0  0   1  \n",
       "1      0     0  ...   1   0   0    2  0  1     1       0  1   1  \n",
       "2      0     0  ...   0   0   0    0  0  0     1       1  2   1  \n",
       "3      0     0  ...   0   1   1    0  0  2     1       0  0   0  \n",
       "4      0     0  ...   0   0   0    2  0  0     1       0  1   0  \n",
       "\n",
       "[5 rows x 500 columns]"
      ]
     },
     "execution_count": 624,
     "metadata": {},
     "output_type": "execute_result"
    }
   ],
   "source": [
    "X_train.head()"
   ]
  },
  {
   "cell_type": "code",
   "execution_count": 625,
   "metadata": {},
   "outputs": [
    {
     "data": {
      "text/plain": [
       "0      0\n",
       "1      0\n",
       "2      0\n",
       "3      0\n",
       "4      0\n",
       "      ..\n",
       "574    0\n",
       "575    0\n",
       "576    0\n",
       "577    1\n",
       "578    1\n",
       "Name: y1, Length: 579, dtype: int64"
      ]
     },
     "execution_count": 625,
     "metadata": {},
     "output_type": "execute_result"
    }
   ],
   "source": [
    "y"
   ]
  },
  {
   "cell_type": "markdown",
   "metadata": {},
   "source": [
    "# ML, Baseline"
   ]
  },
  {
   "cell_type": "code",
   "execution_count": 626,
   "metadata": {},
   "outputs": [],
   "source": [
    "from sklearn.preprocessing import StandardScaler, Imputer\n",
    "from sklearn.pipeline import Pipeline\n",
    "from sklearn.model_selection import GridSearchCV\n",
    "from sklearn.metrics import classification_report, roc_curve, roc_auc_score, confusion_matrix, accuracy_score"
   ]
  },
  {
   "cell_type": "markdown",
   "metadata": {},
   "source": [
    "### Logistic Regression"
   ]
  },
  {
   "cell_type": "code",
   "execution_count": 627,
   "metadata": {},
   "outputs": [],
   "source": [
    "from sklearn.linear_model import LogisticRegression"
   ]
  },
  {
   "cell_type": "code",
   "execution_count": 628,
   "metadata": {},
   "outputs": [
    {
     "data": {
      "text/html": [
       "<div>\n",
       "<style scoped>\n",
       "    .dataframe tbody tr th:only-of-type {\n",
       "        vertical-align: middle;\n",
       "    }\n",
       "\n",
       "    .dataframe tbody tr th {\n",
       "        vertical-align: top;\n",
       "    }\n",
       "\n",
       "    .dataframe thead th {\n",
       "        text-align: right;\n",
       "    }\n",
       "</style>\n",
       "<table border=\"1\" class=\"dataframe\">\n",
       "  <thead>\n",
       "    <tr style=\"text-align: right;\">\n",
       "      <th></th>\n",
       "      <th>capa</th>\n",
       "      <th>brasileirao</th>\n",
       "      <th>genpaulochagas</th>\n",
       "      <th>viva</th>\n",
       "      <th>httpstcol</th>\n",
       "      <th>pegou</th>\n",
       "      <th>camisa</th>\n",
       "      <th>mina</th>\n",
       "      <th>legal</th>\n",
       "      <th>copo</th>\n",
       "      <th>...</th>\n",
       "      <th>do</th>\n",
       "      <th>da</th>\n",
       "      <th>rt</th>\n",
       "      <th>que</th>\n",
       "      <th>a</th>\n",
       "      <th>o</th>\n",
       "      <th>zika</th>\n",
       "      <th>dengue</th>\n",
       "      <th>e</th>\n",
       "      <th>de</th>\n",
       "    </tr>\n",
       "  </thead>\n",
       "  <tbody>\n",
       "    <tr>\n",
       "      <td>0</td>\n",
       "      <td>0</td>\n",
       "      <td>0</td>\n",
       "      <td>0</td>\n",
       "      <td>0</td>\n",
       "      <td>0</td>\n",
       "      <td>0</td>\n",
       "      <td>0</td>\n",
       "      <td>0</td>\n",
       "      <td>0</td>\n",
       "      <td>0</td>\n",
       "      <td>...</td>\n",
       "      <td>0</td>\n",
       "      <td>0</td>\n",
       "      <td>0</td>\n",
       "      <td>0</td>\n",
       "      <td>1</td>\n",
       "      <td>0</td>\n",
       "      <td>0</td>\n",
       "      <td>0</td>\n",
       "      <td>0</td>\n",
       "      <td>1</td>\n",
       "    </tr>\n",
       "    <tr>\n",
       "      <td>1</td>\n",
       "      <td>0</td>\n",
       "      <td>0</td>\n",
       "      <td>0</td>\n",
       "      <td>0</td>\n",
       "      <td>0</td>\n",
       "      <td>0</td>\n",
       "      <td>0</td>\n",
       "      <td>0</td>\n",
       "      <td>0</td>\n",
       "      <td>0</td>\n",
       "      <td>...</td>\n",
       "      <td>1</td>\n",
       "      <td>0</td>\n",
       "      <td>0</td>\n",
       "      <td>2</td>\n",
       "      <td>0</td>\n",
       "      <td>1</td>\n",
       "      <td>1</td>\n",
       "      <td>0</td>\n",
       "      <td>1</td>\n",
       "      <td>1</td>\n",
       "    </tr>\n",
       "    <tr>\n",
       "      <td>2</td>\n",
       "      <td>0</td>\n",
       "      <td>0</td>\n",
       "      <td>0</td>\n",
       "      <td>0</td>\n",
       "      <td>0</td>\n",
       "      <td>0</td>\n",
       "      <td>0</td>\n",
       "      <td>0</td>\n",
       "      <td>0</td>\n",
       "      <td>0</td>\n",
       "      <td>...</td>\n",
       "      <td>0</td>\n",
       "      <td>0</td>\n",
       "      <td>0</td>\n",
       "      <td>0</td>\n",
       "      <td>0</td>\n",
       "      <td>0</td>\n",
       "      <td>1</td>\n",
       "      <td>1</td>\n",
       "      <td>2</td>\n",
       "      <td>1</td>\n",
       "    </tr>\n",
       "    <tr>\n",
       "      <td>3</td>\n",
       "      <td>0</td>\n",
       "      <td>0</td>\n",
       "      <td>0</td>\n",
       "      <td>0</td>\n",
       "      <td>0</td>\n",
       "      <td>0</td>\n",
       "      <td>0</td>\n",
       "      <td>0</td>\n",
       "      <td>0</td>\n",
       "      <td>0</td>\n",
       "      <td>...</td>\n",
       "      <td>0</td>\n",
       "      <td>1</td>\n",
       "      <td>1</td>\n",
       "      <td>0</td>\n",
       "      <td>0</td>\n",
       "      <td>2</td>\n",
       "      <td>1</td>\n",
       "      <td>0</td>\n",
       "      <td>0</td>\n",
       "      <td>0</td>\n",
       "    </tr>\n",
       "    <tr>\n",
       "      <td>4</td>\n",
       "      <td>0</td>\n",
       "      <td>0</td>\n",
       "      <td>0</td>\n",
       "      <td>0</td>\n",
       "      <td>0</td>\n",
       "      <td>0</td>\n",
       "      <td>0</td>\n",
       "      <td>0</td>\n",
       "      <td>0</td>\n",
       "      <td>0</td>\n",
       "      <td>...</td>\n",
       "      <td>0</td>\n",
       "      <td>0</td>\n",
       "      <td>0</td>\n",
       "      <td>2</td>\n",
       "      <td>0</td>\n",
       "      <td>0</td>\n",
       "      <td>1</td>\n",
       "      <td>0</td>\n",
       "      <td>1</td>\n",
       "      <td>0</td>\n",
       "    </tr>\n",
       "    <tr>\n",
       "      <td>...</td>\n",
       "      <td>...</td>\n",
       "      <td>...</td>\n",
       "      <td>...</td>\n",
       "      <td>...</td>\n",
       "      <td>...</td>\n",
       "      <td>...</td>\n",
       "      <td>...</td>\n",
       "      <td>...</td>\n",
       "      <td>...</td>\n",
       "      <td>...</td>\n",
       "      <td>...</td>\n",
       "      <td>...</td>\n",
       "      <td>...</td>\n",
       "      <td>...</td>\n",
       "      <td>...</td>\n",
       "      <td>...</td>\n",
       "      <td>...</td>\n",
       "      <td>...</td>\n",
       "      <td>...</td>\n",
       "      <td>...</td>\n",
       "      <td>...</td>\n",
       "    </tr>\n",
       "    <tr>\n",
       "      <td>400</td>\n",
       "      <td>0</td>\n",
       "      <td>0</td>\n",
       "      <td>0</td>\n",
       "      <td>0</td>\n",
       "      <td>0</td>\n",
       "      <td>0</td>\n",
       "      <td>0</td>\n",
       "      <td>0</td>\n",
       "      <td>0</td>\n",
       "      <td>0</td>\n",
       "      <td>...</td>\n",
       "      <td>0</td>\n",
       "      <td>2</td>\n",
       "      <td>0</td>\n",
       "      <td>1</td>\n",
       "      <td>0</td>\n",
       "      <td>1</td>\n",
       "      <td>0</td>\n",
       "      <td>1</td>\n",
       "      <td>2</td>\n",
       "      <td>0</td>\n",
       "    </tr>\n",
       "    <tr>\n",
       "      <td>401</td>\n",
       "      <td>0</td>\n",
       "      <td>0</td>\n",
       "      <td>0</td>\n",
       "      <td>0</td>\n",
       "      <td>0</td>\n",
       "      <td>0</td>\n",
       "      <td>0</td>\n",
       "      <td>0</td>\n",
       "      <td>0</td>\n",
       "      <td>0</td>\n",
       "      <td>...</td>\n",
       "      <td>0</td>\n",
       "      <td>0</td>\n",
       "      <td>0</td>\n",
       "      <td>0</td>\n",
       "      <td>0</td>\n",
       "      <td>0</td>\n",
       "      <td>1</td>\n",
       "      <td>0</td>\n",
       "      <td>0</td>\n",
       "      <td>0</td>\n",
       "    </tr>\n",
       "    <tr>\n",
       "      <td>402</td>\n",
       "      <td>0</td>\n",
       "      <td>0</td>\n",
       "      <td>0</td>\n",
       "      <td>0</td>\n",
       "      <td>0</td>\n",
       "      <td>0</td>\n",
       "      <td>0</td>\n",
       "      <td>0</td>\n",
       "      <td>0</td>\n",
       "      <td>0</td>\n",
       "      <td>...</td>\n",
       "      <td>0</td>\n",
       "      <td>0</td>\n",
       "      <td>0</td>\n",
       "      <td>0</td>\n",
       "      <td>0</td>\n",
       "      <td>0</td>\n",
       "      <td>0</td>\n",
       "      <td>1</td>\n",
       "      <td>0</td>\n",
       "      <td>0</td>\n",
       "    </tr>\n",
       "    <tr>\n",
       "      <td>403</td>\n",
       "      <td>0</td>\n",
       "      <td>0</td>\n",
       "      <td>0</td>\n",
       "      <td>0</td>\n",
       "      <td>0</td>\n",
       "      <td>0</td>\n",
       "      <td>0</td>\n",
       "      <td>0</td>\n",
       "      <td>0</td>\n",
       "      <td>0</td>\n",
       "      <td>...</td>\n",
       "      <td>1</td>\n",
       "      <td>0</td>\n",
       "      <td>1</td>\n",
       "      <td>0</td>\n",
       "      <td>1</td>\n",
       "      <td>0</td>\n",
       "      <td>0</td>\n",
       "      <td>1</td>\n",
       "      <td>0</td>\n",
       "      <td>0</td>\n",
       "    </tr>\n",
       "    <tr>\n",
       "      <td>404</td>\n",
       "      <td>0</td>\n",
       "      <td>0</td>\n",
       "      <td>0</td>\n",
       "      <td>0</td>\n",
       "      <td>0</td>\n",
       "      <td>0</td>\n",
       "      <td>0</td>\n",
       "      <td>0</td>\n",
       "      <td>0</td>\n",
       "      <td>0</td>\n",
       "      <td>...</td>\n",
       "      <td>0</td>\n",
       "      <td>0</td>\n",
       "      <td>0</td>\n",
       "      <td>0</td>\n",
       "      <td>0</td>\n",
       "      <td>0</td>\n",
       "      <td>0</td>\n",
       "      <td>1</td>\n",
       "      <td>0</td>\n",
       "      <td>0</td>\n",
       "    </tr>\n",
       "  </tbody>\n",
       "</table>\n",
       "<p>405 rows × 500 columns</p>\n",
       "</div>"
      ],
      "text/plain": [
       "     capa  brasileirao  genpaulochagas  viva  httpstcol  pegou  camisa  mina  \\\n",
       "0       0            0               0     0          0      0       0     0   \n",
       "1       0            0               0     0          0      0       0     0   \n",
       "2       0            0               0     0          0      0       0     0   \n",
       "3       0            0               0     0          0      0       0     0   \n",
       "4       0            0               0     0          0      0       0     0   \n",
       "..    ...          ...             ...   ...        ...    ...     ...   ...   \n",
       "400     0            0               0     0          0      0       0     0   \n",
       "401     0            0               0     0          0      0       0     0   \n",
       "402     0            0               0     0          0      0       0     0   \n",
       "403     0            0               0     0          0      0       0     0   \n",
       "404     0            0               0     0          0      0       0     0   \n",
       "\n",
       "     legal  copo  ...  do  da  rt  que  a  o  zika  dengue  e  de  \n",
       "0        0     0  ...   0   0   0    0  1  0     0       0  0   1  \n",
       "1        0     0  ...   1   0   0    2  0  1     1       0  1   1  \n",
       "2        0     0  ...   0   0   0    0  0  0     1       1  2   1  \n",
       "3        0     0  ...   0   1   1    0  0  2     1       0  0   0  \n",
       "4        0     0  ...   0   0   0    2  0  0     1       0  1   0  \n",
       "..     ...   ...  ...  ..  ..  ..  ... .. ..   ...     ... ..  ..  \n",
       "400      0     0  ...   0   2   0    1  0  1     0       1  2   0  \n",
       "401      0     0  ...   0   0   0    0  0  0     1       0  0   0  \n",
       "402      0     0  ...   0   0   0    0  0  0     0       1  0   0  \n",
       "403      0     0  ...   1   0   1    0  1  0     0       1  0   0  \n",
       "404      0     0  ...   0   0   0    0  0  0     0       1  0   0  \n",
       "\n",
       "[405 rows x 500 columns]"
      ]
     },
     "execution_count": 628,
     "metadata": {},
     "output_type": "execute_result"
    }
   ],
   "source": [
    "X_train"
   ]
  },
  {
   "cell_type": "code",
   "execution_count": 629,
   "metadata": {},
   "outputs": [
    {
     "name": "stdout",
     "output_type": "stream",
     "text": [
      "\n",
      "TUNED MODEL PARAMETERS:\n",
      " {'logreg__C': 1e-05, 'logreg__penalty': 'l2', 'logreg__random_state': 42}\n",
      "\n",
      "TUNED RECALL:\n",
      " 0.6074074074074073\n"
     ]
    }
   ],
   "source": [
    "# Setup the pipeline\n",
    "steps = [('scaler', StandardScaler()),\n",
    "         ('logreg', LogisticRegression())]\n",
    "\n",
    "pipeline = Pipeline(steps)\n",
    "\n",
    "#LogisticRegression()\n",
    "\n",
    "# Specify the hyperparameter space\n",
    "c_space = np.logspace(-5, 1, 20)\n",
    "parameters = {'logreg__C': c_space, \n",
    "              'logreg__penalty': ['l1', 'l2'],\n",
    "              'logreg__random_state':[42]}\n",
    "\n",
    "# Instantiate the GridSearchCV object: cv\n",
    "n_fold_cv = int(len(X_train)/4)\n",
    "clf_logreg = GridSearchCV(pipeline,parameters, cv=5, scoring='recall')\n",
    "\n",
    "# Fit to the training set\n",
    "clf_logreg.fit(X_train, y_train)\n",
    "\n",
    "# Compute and print metrics\n",
    "print(\"\\nTUNED MODEL PARAMETERS:\\n {}\".format(clf_logreg.best_params_))\n",
    "print(\"\\nTUNED RECALL:\\n {}\".format(clf_logreg.best_score_))"
   ]
  },
  {
   "cell_type": "markdown",
   "metadata": {},
   "source": [
    "### Random Forest"
   ]
  },
  {
   "cell_type": "code",
   "execution_count": 630,
   "metadata": {},
   "outputs": [],
   "source": [
    "from sklearn.ensemble import RandomForestClassifier"
   ]
  },
  {
   "cell_type": "code",
   "execution_count": 631,
   "metadata": {},
   "outputs": [
    {
     "name": "stdout",
     "output_type": "stream",
     "text": [
      "\n",
      "TUNED MODEL PARAMETERS:\n",
      " {'rfc__max_features': None, 'rfc__n_estimators': 300, 'rfc__random_state': 42}\n",
      "\n",
      "TUNED RECALL:\n",
      " 0.13661646994980328\n"
     ]
    }
   ],
   "source": [
    "# Setup the pipeline\n",
    "steps = [('scaler', StandardScaler()),\n",
    "         ('rfc', RandomForestClassifier())]\n",
    "\n",
    "pipeline = Pipeline(steps)\n",
    "\n",
    "# Specify the hyperparameter space\n",
    "parameters = {'rfc__max_features':[1, 2, \"auto\", \"log2\", None],\n",
    "              'rfc__n_estimators':[300],\n",
    "              'rfc__random_state':[42]}\n",
    "\n",
    "# Instantiate the GridSearchCV object: clf_rforest\n",
    "clf_rforest = GridSearchCV(pipeline,parameters, cv=5, scoring='recall')\n",
    "\n",
    "# Fit to the training set\n",
    "clf_rforest.fit(X_train, y_train)\n",
    "\n",
    "# Compute and print metrics\n",
    "print(\"\\nTUNED MODEL PARAMETERS:\\n {}\".format(clf_rforest.best_params_))\n",
    "print(\"\\nTUNED RECALL:\\n {}\".format(clf_rforest.best_score_))"
   ]
  },
  {
   "cell_type": "markdown",
   "metadata": {},
   "source": [
    "### xgboost"
   ]
  },
  {
   "cell_type": "code",
   "execution_count": 632,
   "metadata": {},
   "outputs": [],
   "source": [
    "import xgboost as xgb"
   ]
  },
  {
   "cell_type": "code",
   "execution_count": 633,
   "metadata": {
    "scrolled": true
   },
   "outputs": [
    {
     "name": "stdout",
     "output_type": "stream",
     "text": [
      "[0]\ttrain-aucpr:0.852701\tvalid-aucpr:0.446907\n",
      "Multiple eval metrics have been passed: 'valid-aucpr' will be used for early stopping.\n",
      "\n",
      "Will train until valid-aucpr hasn't improved in 50 rounds.\n",
      "[10]\ttrain-aucpr:0.877853\tvalid-aucpr:0.45639\n",
      "[20]\ttrain-aucpr:0.921862\tvalid-aucpr:0.492342\n",
      "[30]\ttrain-aucpr:0.934924\tvalid-aucpr:0.467695\n",
      "[40]\ttrain-aucpr:0.965138\tvalid-aucpr:0.426876\n",
      "[50]\ttrain-aucpr:0.9874\tvalid-aucpr:0.459521\n",
      "[60]\ttrain-aucpr:0.996341\tvalid-aucpr:0.482806\n",
      "Stopping. Best iteration:\n",
      "[15]\ttrain-aucpr:0.915935\tvalid-aucpr:0.508641\n",
      "\n"
     ]
    }
   ],
   "source": [
    "# Set our parameters for xgboost\n",
    "params = {}\n",
    "params['objective'] = 'reg:squarederror'\n",
    "params['eval_metric'] = 'aucpr'\n",
    "params['eta'] = 0.02\n",
    "params['max_depth'] = 10\n",
    "\n",
    "d_train = xgb.DMatrix(X_train, label=y_train)\n",
    "d_test = xgb.DMatrix(X_test, label=y_test)\n",
    "\n",
    "watchlist = [(d_train, 'train'), (d_test, 'valid')]\n",
    "\n",
    "bst = xgb.train(params, d_train, 400, watchlist, early_stopping_rounds=50, verbose_eval=10)"
   ]
  },
  {
   "cell_type": "code",
   "execution_count": 634,
   "metadata": {},
   "outputs": [],
   "source": [
    "def use_threshold(value):\n",
    "    if value > 0.2: value = 1\n",
    "    else: value = 0\n",
    "    return value"
   ]
  },
  {
   "cell_type": "code",
   "execution_count": 635,
   "metadata": {},
   "outputs": [],
   "source": [
    "p_test = bst.predict(d_test)\n",
    "y_pred = np.array(list((map(use_threshold, p_test))))"
   ]
  },
  {
   "cell_type": "code",
   "execution_count": 636,
   "metadata": {},
   "outputs": [
    {
     "data": {
      "text/plain": [
       "0.8103448275862069"
      ]
     },
     "execution_count": 636,
     "metadata": {},
     "output_type": "execute_result"
    }
   ],
   "source": [
    "accuracy_score(y_test, y_pred)"
   ]
  },
  {
   "cell_type": "code",
   "execution_count": 637,
   "metadata": {},
   "outputs": [
    {
     "name": "stdout",
     "output_type": "stream",
     "text": [
      "\n",
      "CLASSIFICATION_REPORT:\n",
      "               precision    recall  f1-score   support\n",
      "\n",
      "           0       0.96      0.81      0.88       150\n",
      "           1       0.40      0.79      0.54        24\n",
      "\n",
      "    accuracy                           0.81       174\n",
      "   macro avg       0.68      0.80      0.71       174\n",
      "weighted avg       0.88      0.81      0.83       174\n",
      "\n"
     ]
    }
   ],
   "source": [
    "print(\"\\nCLASSIFICATION_REPORT:\\n\", classification_report(y_test, y_pred))"
   ]
  },
  {
   "cell_type": "markdown",
   "metadata": {},
   "source": [
    "# Plot results"
   ]
  },
  {
   "cell_type": "code",
   "execution_count": 638,
   "metadata": {},
   "outputs": [],
   "source": [
    "dic_results = {}\n",
    "dic_results['logistic regression']= clf_logreg.best_score_\n",
    "dic_results['random forest']= clf_rforest.best_score_"
   ]
  },
  {
   "cell_type": "code",
   "execution_count": 639,
   "metadata": {},
   "outputs": [
    {
     "data": {
      "image/png": "[encoded data removed]",
      "text/plain": [
       "<Figure size 576x144 with 1 Axes>"
      ]
     },
     "metadata": {
      "needs_background": "light"
     },
     "output_type": "display_data"
    }
   ],
   "source": [
    "import operator\n",
    "tup_results = sorted(dic_results.items(), key=operator.itemgetter(1))\n",
    "\n",
    "N = len(dic_results)\n",
    "ind = np.arange(N)  # the x locations for the groups\n",
    "width = 0.40       # the width of the bars\n",
    "\n",
    "fig = plt.figure(figsize=(8,2))\n",
    "ax = fig.add_subplot(111)\n",
    "rects = ax.bar(ind+0.5, list(zip(*tup_results))[1], width,)\n",
    "for rect in rects:\n",
    "    height = rect.get_height()\n",
    "    ax.text(rect.get_x()+rect.get_width()/2., \n",
    "            1.005*height, \n",
    "            '{0:.4f}'.format(height), \n",
    "            ha='center', \n",
    "            va='bottom',)\n",
    "\n",
    "ax.set_ylabel('Score')\n",
    "ax.set_xlabel('ML model')\n",
    "ax.set_ylim(ymin=0.0,ymax = 1)\n",
    "ax.set_title(\"Accuracy Comparison\")\n",
    "ax.set_xticks(ind + width/2.)\n",
    "ax.set_xticklabels(list(zip(*tup_results))[0], rotation=22)\n",
    "\n",
    "plt.show()"
   ]
  },
  {
   "cell_type": "markdown",
   "metadata": {},
   "source": [
    "# calculate final quality with a test set\n",
    "So we see that the best validated model is Logistic Regression. We will now test it on the test set. We could also compare with other models with their respective best params."
   ]
  },
  {
   "cell_type": "markdown",
   "metadata": {},
   "source": [
    "### get best params of regressor\n",
    "this was previously obtained during cross validation step"
   ]
  },
  {
   "cell_type": "code",
   "execution_count": 640,
   "metadata": {},
   "outputs": [
    {
     "data": {
      "text/plain": [
       "{'C': 1e-05, 'penalty': 'l2', 'random_state': 42}"
      ]
     },
     "execution_count": 640,
     "metadata": {},
     "output_type": "execute_result"
    }
   ],
   "source": [
    "params = {}\n",
    "for k,v in clf_logreg.best_params_.items():\n",
    "    k = k[8:]\n",
    "    params[k] = v\n",
    "params"
   ]
  },
  {
   "cell_type": "code",
   "execution_count": 641,
   "metadata": {},
   "outputs": [],
   "source": [
    "#transform X_train\n",
    "scale = StandardScaler().fit(X_train)\n",
    "X_train_scaled = scale.transform(X_train)\n",
    "\n",
    "#transform X_test\n",
    "scale = StandardScaler().fit(X_test)\n",
    "X_test_scaled = scale.transform(X_test)\n",
    "\n",
    "#instantiate regressor with best params\n",
    "clf_logreg_validated = LogisticRegression(C = params['C'], penalty = params['penalty'], random_state = params['random_state'])\n",
    "\n",
    "                    \n",
    "#fit regressor\n",
    "clf_logreg_validated.fit(X_train_scaled, y_train)\n",
    "\n",
    "#do prediction on test set\n",
    "y_pred = clf_logreg_validated.predict(X_test_scaled)"
   ]
  },
  {
   "cell_type": "markdown",
   "metadata": {},
   "source": [
    "### calculate accuracy on test set"
   ]
  },
  {
   "cell_type": "code",
   "execution_count": 642,
   "metadata": {},
   "outputs": [
    {
     "data": {
      "text/plain": [
       "0.8448275862068966"
      ]
     },
     "execution_count": 642,
     "metadata": {},
     "output_type": "execute_result"
    }
   ],
   "source": [
    "accuracy_score(y_test, y_pred)"
   ]
  },
  {
   "cell_type": "markdown",
   "metadata": {},
   "source": [
    "### classification report"
   ]
  },
  {
   "cell_type": "code",
   "execution_count": 643,
   "metadata": {
    "scrolled": false
   },
   "outputs": [
    {
     "name": "stdout",
     "output_type": "stream",
     "text": [
      "\n",
      "CLASSIFICATION_REPORT:\n",
      "               precision    recall  f1-score   support\n",
      "\n",
      "           0       0.94      0.88      0.91       150\n",
      "           1       0.45      0.62      0.53        24\n",
      "\n",
      "    accuracy                           0.84       174\n",
      "   macro avg       0.70      0.75      0.72       174\n",
      "weighted avg       0.87      0.84      0.85       174\n",
      "\n"
     ]
    }
   ],
   "source": [
    "print(\"\\nCLASSIFICATION_REPORT:\\n\", classification_report(y_test, y_pred))"
   ]
  },
  {
   "cell_type": "markdown",
   "metadata": {},
   "source": [
    "### temp test with rfc"
   ]
  },
  {
   "cell_type": "code",
   "execution_count": 570,
   "metadata": {},
   "outputs": [
    {
     "data": {
      "text/plain": [
       "{'max_features': None, 'n_estimators': 300, 'random_state': 42}"
      ]
     },
     "execution_count": 570,
     "metadata": {},
     "output_type": "execute_result"
    }
   ],
   "source": [
    "params = {}\n",
    "for k,v in clf_rforest.best_params_.items():\n",
    "    k = k[5:]\n",
    "    params[k] = v\n",
    "params"
   ]
  },
  {
   "cell_type": "code",
   "execution_count": 571,
   "metadata": {},
   "outputs": [],
   "source": [
    "#transform X_train\n",
    "scale = StandardScaler().fit(X_train)\n",
    "X_train_scaled = scale.transform(X_train)\n",
    "\n",
    "#transform X_test\n",
    "scale = StandardScaler().fit(X_test)\n",
    "X_test_scaled = scale.transform(X_test)\n",
    "\n",
    "#instantiate regressor with best params\n",
    "clf_rfc_validated = RandomForestClassifier(max_features = params['max_features'], n_estimators = params['n_estimators'], random_state = params['random_state'])\n",
    "\n",
    "#fit regressor\n",
    "clf_rfc_validated.fit(X_train_scaled, y_train)\n",
    "\n",
    "#do prediction on test set\n",
    "y_pred = clf_rfc_validated.predict(X_test_scaled)"
   ]
  },
  {
   "cell_type": "markdown",
   "metadata": {},
   "source": [
    "### calculate accuracy on test set"
   ]
  },
  {
   "cell_type": "code",
   "execution_count": 572,
   "metadata": {},
   "outputs": [
    {
     "data": {
      "text/plain": [
       "0.8160919540229885"
      ]
     },
     "execution_count": 572,
     "metadata": {},
     "output_type": "execute_result"
    }
   ],
   "source": [
    "accuracy_score(y_test, y_pred)"
   ]
  },
  {
   "cell_type": "markdown",
   "metadata": {},
   "source": [
    "### classification report"
   ]
  },
  {
   "cell_type": "code",
   "execution_count": 573,
   "metadata": {
    "scrolled": true
   },
   "outputs": [
    {
     "name": "stdout",
     "output_type": "stream",
     "text": [
      "\n",
      "CLASSIFICATION_REPORT:\n",
      "               precision    recall  f1-score   support\n",
      "\n",
      "           0       0.84      0.96      0.90       142\n",
      "           1       0.50      0.16      0.24        32\n",
      "\n",
      "    accuracy                           0.82       174\n",
      "   macro avg       0.67      0.56      0.57       174\n",
      "weighted avg       0.77      0.82      0.77       174\n",
      "\n"
     ]
    }
   ],
   "source": [
    "print(\"\\nCLASSIFICATION_REPORT:\\n\", classification_report(y_test, y_pred))"
   ]
  },
  {
   "cell_type": "code",
   "execution_count": null,
   "metadata": {},
   "outputs": [],
   "source": []
  }
 ],
 "metadata": {
  "kernelspec": {
   "display_name": "Python 3",
   "language": "python",
   "name": "python3"
  },
  "language_info": {
   "codemirror_mode": {
    "name": "ipython",
    "version": 3
   },
   "file_extension": ".py",
   "mimetype": "text/x-python",
   "name": "python",
   "nbconvert_exporter": "python",
   "pygments_lexer": "ipython3",
   "version": "3.7.4"
  }
 },
 "nbformat": 4,
 "nbformat_minor": 2
}
