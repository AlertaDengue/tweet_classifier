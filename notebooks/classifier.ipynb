{
 "cells": [
  {
   "cell_type": "markdown",
   "metadata": {},
   "source": [
    "# classifier\n",
    "Classifies each tweet according to the train set, which was classified by collaborators of the Infodengue project. "
   ]
  },
  {
   "cell_type": "markdown",
   "metadata": {},
   "source": [
    "Observations:\n",
    "* Do not use stemming, because of the text content of tweets.\n",
    "* For sklearn, check the text preprocessing\n",
    "* Using tweet tokenizer from nltk\n",
    "* Using only TF for preprocessing. TF-IDF won't work because observations are too short.\n",
    "* baseline: random forest, logistic\n",
    "\n",
    "16/12\n",
    "* achou numero de 0.79 de recall e 0.4 de precision muito baixo\n",
    "* usar shap para interpretabilidade de xgboost\n",
    "\n",
    "usar word2vec (notebook separado)\n",
    "* ref: \n",
    "    * https://github.com/fccoelho/text-mining-cientistas-sociais"
   ]
  },
  {
   "cell_type": "code",
   "execution_count": 2,
   "metadata": {},
   "outputs": [],
   "source": [
    "import os\n",
    "import pandas as pd\n",
    "import numpy as np\n",
    "import re\n",
    "from collections import Counter\n",
    "import nltk\n",
    "import string\n",
    "import json\n",
    "import matplotlib.pyplot as plt\n",
    "import seaborn as sns\n",
    "\n",
    "#import spacy\n",
    "\n",
    "import warnings\n",
    "warnings.filterwarnings('ignore')\n",
    "%matplotlib inline"
   ]
  },
  {
   "cell_type": "code",
   "execution_count": 3,
   "metadata": {},
   "outputs": [],
   "source": [
    "outputs = \"../outputs/\""
   ]
  },
  {
   "cell_type": "code",
   "execution_count": 4,
   "metadata": {},
   "outputs": [],
   "source": [
    "classifications = pd.read_csv(os.path.join('../outputs/from_anvil/', 'classifications_finished.csv'))"
   ]
  },
  {
   "cell_type": "code",
   "execution_count": 5,
   "metadata": {},
   "outputs": [],
   "source": [
    "classifications = classifications.groupby(by='str_id').sum()\n",
    "classifications['class'] = classifications['relevance'].apply(lambda x: 1 if x>=4 else 0)\n",
    "classifications['class_threshold3'] = classifications['relevance'].apply(lambda x: 1 if x>=3 else 0)\n",
    "classifications.reset_index(inplace=True)\n",
    "classifications.rename(columns = {'str_id': 'id'}, inplace=True)"
   ]
  },
  {
   "cell_type": "markdown",
   "metadata": {},
   "source": [
    "# get text from original database"
   ]
  },
  {
   "cell_type": "code",
   "execution_count": 8,
   "metadata": {},
   "outputs": [],
   "source": [
    "text_data = pd.read_json(os.path.join(outputs, \"tweets_filtered.json\"))\n",
    "text_data.rename(columns = {'_id': 'id'}, inplace=True)"
   ]
  },
  {
   "cell_type": "code",
   "execution_count": 9,
   "metadata": {},
   "outputs": [
    {
     "data": {
      "text/html": [
       "<div>\n",
       "<style scoped>\n",
       "    .dataframe tbody tr th:only-of-type {\n",
       "        vertical-align: middle;\n",
       "    }\n",
       "\n",
       "    .dataframe tbody tr th {\n",
       "        vertical-align: top;\n",
       "    }\n",
       "\n",
       "    .dataframe thead th {\n",
       "        text-align: right;\n",
       "    }\n",
       "</style>\n",
       "<table border=\"1\" class=\"dataframe\">\n",
       "  <thead>\n",
       "    <tr style=\"text-align: right;\">\n",
       "      <th></th>\n",
       "      <th>id</th>\n",
       "      <th>relevance</th>\n",
       "      <th>class</th>\n",
       "      <th>class_threshold3</th>\n",
       "      <th>text</th>\n",
       "      <th>text_original</th>\n",
       "      <th>date</th>\n",
       "    </tr>\n",
       "  </thead>\n",
       "  <tbody>\n",
       "    <tr>\n",
       "      <td>0</td>\n",
       "      <td>699069305468551169</td>\n",
       "      <td>2</td>\n",
       "      <td>0</td>\n",
       "      <td>0</td>\n",
       "      <td>Brasil tera 55 mil militares nas ruas para com...</td>\n",
       "      <td>Brasil terá 55 mil militares nas ruas para com...</td>\n",
       "      <td>2016-02-15</td>\n",
       "    </tr>\n",
       "    <tr>\n",
       "      <td>1</td>\n",
       "      <td>699164279472263170</td>\n",
       "      <td>3</td>\n",
       "      <td>0</td>\n",
       "      <td>1</td>\n",
       "      <td>Depois do exercito abandonar o combate aos foc...</td>\n",
       "      <td>Depois do exército abandonar o combate aos foc...</td>\n",
       "      <td>2016-02-15</td>\n",
       "    </tr>\n",
       "    <tr>\n",
       "      <td>2</td>\n",
       "      <td>699264346304618496</td>\n",
       "      <td>1</td>\n",
       "      <td>0</td>\n",
       "      <td>0</td>\n",
       "      <td>Farmaceuticos recebem treinamento sobre dengue...</td>\n",
       "      <td>Farmacêuticos recebem treinamento sobre dengue...</td>\n",
       "      <td>2016-02-15</td>\n",
       "    </tr>\n",
       "    <tr>\n",
       "      <td>3</td>\n",
       "      <td>699266282646994944</td>\n",
       "      <td>3</td>\n",
       "      <td>0</td>\n",
       "      <td>1</td>\n",
       "      <td>Farmaceuticos recebem treinamento sobre dengue...</td>\n",
       "      <td>Farmacêuticos recebem treinamento sobre dengue...</td>\n",
       "      <td>2016-02-15</td>\n",
       "    </tr>\n",
       "    <tr>\n",
       "      <td>4</td>\n",
       "      <td>699315864122892288</td>\n",
       "      <td>0</td>\n",
       "      <td>0</td>\n",
       "      <td>0</td>\n",
       "      <td>RT @g1: Morador do DF faz 'rap da dengue': 'Ag...</td>\n",
       "      <td>RT @g1: Morador do DF faz 'rap da dengue': 'Ag...</td>\n",
       "      <td>2016-02-15</td>\n",
       "    </tr>\n",
       "    <tr>\n",
       "      <td>...</td>\n",
       "      <td>...</td>\n",
       "      <td>...</td>\n",
       "      <td>...</td>\n",
       "      <td>...</td>\n",
       "      <td>...</td>\n",
       "      <td>...</td>\n",
       "      <td>...</td>\n",
       "    </tr>\n",
       "    <tr>\n",
       "      <td>995</td>\n",
       "      <td>1000740798114222081</td>\n",
       "      <td>0</td>\n",
       "      <td>0</td>\n",
       "      <td>0</td>\n",
       "      <td>RT @EnquetesFutebas: So eu acho que o Diogo Ba...</td>\n",
       "      <td>RT @EnquetesFutebas: Só eu acho que o Diogo Ba...</td>\n",
       "      <td>2018-05-27</td>\n",
       "    </tr>\n",
       "    <tr>\n",
       "      <td>996</td>\n",
       "      <td>1000763927146450944</td>\n",
       "      <td>4</td>\n",
       "      <td>1</td>\n",
       "      <td>1</td>\n",
       "      <td>Nao recomendo ninguem a pegar Zika, serio</td>\n",
       "      <td>Não recomendo ninguém a pegar Zika, serio</td>\n",
       "      <td>2018-05-27</td>\n",
       "    </tr>\n",
       "    <tr>\n",
       "      <td>997</td>\n",
       "      <td>1000764889361780736</td>\n",
       "      <td>0</td>\n",
       "      <td>0</td>\n",
       "      <td>0</td>\n",
       "      <td>@_ThiagoAndrei E deixa minha zika pra traz ???...</td>\n",
       "      <td>@_ThiagoAndrei E deixa minha zika pra traz ???...</td>\n",
       "      <td>2018-05-27</td>\n",
       "    </tr>\n",
       "    <tr>\n",
       "      <td>998</td>\n",
       "      <td>1000841034488778752</td>\n",
       "      <td>0</td>\n",
       "      <td>0</td>\n",
       "      <td>0</td>\n",
       "      <td>kkkkkkkkk ele tem problema mas eu amo https://...</td>\n",
       "      <td>kkkkkkkkk ele tem problema mas eu amo https://...</td>\n",
       "      <td>2018-05-27</td>\n",
       "    </tr>\n",
       "    <tr>\n",
       "      <td>999</td>\n",
       "      <td>1000885773028200449</td>\n",
       "      <td>0</td>\n",
       "      <td>0</td>\n",
       "      <td>0</td>\n",
       "      <td>num falei eu so zika ao q ela esqueceu de colo...</td>\n",
       "      <td>num falei eu sô zika ao q ela esqueceu de colo...</td>\n",
       "      <td>2018-05-27</td>\n",
       "    </tr>\n",
       "  </tbody>\n",
       "</table>\n",
       "<p>1000 rows × 7 columns</p>\n",
       "</div>"
      ],
      "text/plain": [
       "                      id  relevance  class  class_threshold3  \\\n",
       "0     699069305468551169          2      0                 0   \n",
       "1     699164279472263170          3      0                 1   \n",
       "2     699264346304618496          1      0                 0   \n",
       "3     699266282646994944          3      0                 1   \n",
       "4     699315864122892288          0      0                 0   \n",
       "..                   ...        ...    ...               ...   \n",
       "995  1000740798114222081          0      0                 0   \n",
       "996  1000763927146450944          4      1                 1   \n",
       "997  1000764889361780736          0      0                 0   \n",
       "998  1000841034488778752          0      0                 0   \n",
       "999  1000885773028200449          0      0                 0   \n",
       "\n",
       "                                                  text  \\\n",
       "0    Brasil tera 55 mil militares nas ruas para com...   \n",
       "1    Depois do exercito abandonar o combate aos foc...   \n",
       "2    Farmaceuticos recebem treinamento sobre dengue...   \n",
       "3    Farmaceuticos recebem treinamento sobre dengue...   \n",
       "4    RT @g1: Morador do DF faz 'rap da dengue': 'Ag...   \n",
       "..                                                 ...   \n",
       "995  RT @EnquetesFutebas: So eu acho que o Diogo Ba...   \n",
       "996          Nao recomendo ninguem a pegar Zika, serio   \n",
       "997  @_ThiagoAndrei E deixa minha zika pra traz ???...   \n",
       "998  kkkkkkkkk ele tem problema mas eu amo https://...   \n",
       "999  num falei eu so zika ao q ela esqueceu de colo...   \n",
       "\n",
       "                                         text_original       date  \n",
       "0    Brasil terá 55 mil militares nas ruas para com... 2016-02-15  \n",
       "1    Depois do exército abandonar o combate aos foc... 2016-02-15  \n",
       "2    Farmacêuticos recebem treinamento sobre dengue... 2016-02-15  \n",
       "3    Farmacêuticos recebem treinamento sobre dengue... 2016-02-15  \n",
       "4    RT @g1: Morador do DF faz 'rap da dengue': 'Ag... 2016-02-15  \n",
       "..                                                 ...        ...  \n",
       "995  RT @EnquetesFutebas: Só eu acho que o Diogo Ba... 2018-05-27  \n",
       "996          Não recomendo ninguém a pegar Zika, serio 2018-05-27  \n",
       "997  @_ThiagoAndrei E deixa minha zika pra traz ???... 2018-05-27  \n",
       "998  kkkkkkkkk ele tem problema mas eu amo https://... 2018-05-27  \n",
       "999  num falei eu sô zika ao q ela esqueceu de colo... 2018-05-27  \n",
       "\n",
       "[1000 rows x 7 columns]"
      ]
     },
     "execution_count": 9,
     "metadata": {},
     "output_type": "execute_result"
    }
   ],
   "source": [
    "data = pd.merge(classifications, text_data, on='id')\n",
    "data.drop(columns=['tid'], inplace=True)\n",
    "data"
   ]
  },
  {
   "cell_type": "markdown",
   "metadata": {},
   "source": [
    "# basic exploration"
   ]
  },
  {
   "cell_type": "code",
   "execution_count": 10,
   "metadata": {},
   "outputs": [
    {
     "name": "stdout",
     "output_type": "stream",
     "text": [
      "<class 'pandas.core.frame.DataFrame'>\n",
      "Int64Index: 1000 entries, 0 to 999\n",
      "Data columns (total 7 columns):\n",
      "id                  1000 non-null int64\n",
      "relevance           1000 non-null int64\n",
      "class               1000 non-null int64\n",
      "class_threshold3    1000 non-null int64\n",
      "text                1000 non-null object\n",
      "text_original       1000 non-null object\n",
      "date                1000 non-null datetime64[ns]\n",
      "dtypes: datetime64[ns](1), int64(4), object(2)\n",
      "memory usage: 62.5+ KB\n"
     ]
    }
   ],
   "source": [
    "data.info()"
   ]
  },
  {
   "cell_type": "code",
   "execution_count": 11,
   "metadata": {
    "scrolled": true
   },
   "outputs": [
    {
     "data": {
      "text/html": [
       "<div>\n",
       "<style scoped>\n",
       "    .dataframe tbody tr th:only-of-type {\n",
       "        vertical-align: middle;\n",
       "    }\n",
       "\n",
       "    .dataframe tbody tr th {\n",
       "        vertical-align: top;\n",
       "    }\n",
       "\n",
       "    .dataframe thead th {\n",
       "        text-align: right;\n",
       "    }\n",
       "</style>\n",
       "<table border=\"1\" class=\"dataframe\">\n",
       "  <thead>\n",
       "    <tr style=\"text-align: right;\">\n",
       "      <th></th>\n",
       "      <th>id</th>\n",
       "      <th>relevance</th>\n",
       "      <th>class</th>\n",
       "      <th>class_threshold3</th>\n",
       "    </tr>\n",
       "  </thead>\n",
       "  <tbody>\n",
       "    <tr>\n",
       "      <td>count</td>\n",
       "      <td>1.000000e+03</td>\n",
       "      <td>1000.000000</td>\n",
       "      <td>1000.000000</td>\n",
       "      <td>1000.000000</td>\n",
       "    </tr>\n",
       "    <tr>\n",
       "      <td>mean</td>\n",
       "      <td>8.387557e+17</td>\n",
       "      <td>1.166000</td>\n",
       "      <td>0.141000</td>\n",
       "      <td>0.207000</td>\n",
       "    </tr>\n",
       "    <tr>\n",
       "      <td>std</td>\n",
       "      <td>1.140594e+17</td>\n",
       "      <td>1.659276</td>\n",
       "      <td>0.348196</td>\n",
       "      <td>0.405358</td>\n",
       "    </tr>\n",
       "    <tr>\n",
       "      <td>min</td>\n",
       "      <td>6.990693e+17</td>\n",
       "      <td>0.000000</td>\n",
       "      <td>0.000000</td>\n",
       "      <td>0.000000</td>\n",
       "    </tr>\n",
       "    <tr>\n",
       "      <td>25%</td>\n",
       "      <td>7.094149e+17</td>\n",
       "      <td>0.000000</td>\n",
       "      <td>0.000000</td>\n",
       "      <td>0.000000</td>\n",
       "    </tr>\n",
       "    <tr>\n",
       "      <td>50%</td>\n",
       "      <td>8.460180e+17</td>\n",
       "      <td>0.000000</td>\n",
       "      <td>0.000000</td>\n",
       "      <td>0.000000</td>\n",
       "    </tr>\n",
       "    <tr>\n",
       "      <td>75%</td>\n",
       "      <td>9.829813e+17</td>\n",
       "      <td>2.000000</td>\n",
       "      <td>0.000000</td>\n",
       "      <td>0.000000</td>\n",
       "    </tr>\n",
       "    <tr>\n",
       "      <td>max</td>\n",
       "      <td>1.000886e+18</td>\n",
       "      <td>6.000000</td>\n",
       "      <td>1.000000</td>\n",
       "      <td>1.000000</td>\n",
       "    </tr>\n",
       "  </tbody>\n",
       "</table>\n",
       "</div>"
      ],
      "text/plain": [
       "                 id    relevance        class  class_threshold3\n",
       "count  1.000000e+03  1000.000000  1000.000000       1000.000000\n",
       "mean   8.387557e+17     1.166000     0.141000          0.207000\n",
       "std    1.140594e+17     1.659276     0.348196          0.405358\n",
       "min    6.990693e+17     0.000000     0.000000          0.000000\n",
       "25%    7.094149e+17     0.000000     0.000000          0.000000\n",
       "50%    8.460180e+17     0.000000     0.000000          0.000000\n",
       "75%    9.829813e+17     2.000000     0.000000          0.000000\n",
       "max    1.000886e+18     6.000000     1.000000          1.000000"
      ]
     },
     "execution_count": 11,
     "metadata": {},
     "output_type": "execute_result"
    }
   ],
   "source": [
    "data.describe()"
   ]
  },
  {
   "cell_type": "markdown",
   "metadata": {},
   "source": [
    "# check if data is unbalanced"
   ]
  },
  {
   "cell_type": "markdown",
   "metadata": {},
   "source": [
    "**Data is unbalanced!**"
   ]
  },
  {
   "cell_type": "markdown",
   "metadata": {},
   "source": [
    "### Threshold 4\n",
    "fazer undersamplig"
   ]
  },
  {
   "cell_type": "code",
   "execution_count": 12,
   "metadata": {},
   "outputs": [
    {
     "data": {
      "image/png": "[encoded data removed]",
      "text/plain": [
       "<Figure size 576x288 with 1 Axes>"
      ]
     },
     "metadata": {
      "needs_background": "light"
     },
     "output_type": "display_data"
    }
   ],
   "source": [
    "color = sns.color_palette()\n",
    "classif = data['class'].value_counts()\n",
    "plt.figure(figsize=(8,4))\n",
    "sns.barplot(classif.index, classif.values, alpha=0.8, color=color[0])\n",
    "plt.ylabel('Number of Occurrences', fontsize=12)\n",
    "plt.xlabel('Relevance', fontsize=12)\n",
    "plt.show()"
   ]
  },
  {
   "cell_type": "code",
   "execution_count": 13,
   "metadata": {},
   "outputs": [
    {
     "data": {
      "text/plain": [
       "0    859\n",
       "1    141\n",
       "Name: class, dtype: int64"
      ]
     },
     "execution_count": 13,
     "metadata": {},
     "output_type": "execute_result"
    }
   ],
   "source": [
    "data['class'].value_counts()"
   ]
  },
  {
   "cell_type": "markdown",
   "metadata": {},
   "source": [
    "### Threshold 3"
   ]
  },
  {
   "cell_type": "code",
   "execution_count": 14,
   "metadata": {},
   "outputs": [
    {
     "data": {
      "image/png": "[encoded data removed]",
      "text/plain": [
       "<Figure size 576x288 with 1 Axes>"
      ]
     },
     "metadata": {
      "needs_background": "light"
     },
     "output_type": "display_data"
    }
   ],
   "source": [
    "color = sns.color_palette()\n",
    "classif = data['class_threshold3'].value_counts()\n",
    "plt.figure(figsize=(8,4))\n",
    "sns.barplot(classif.index, classif.values, alpha=0.8, color=color[0])\n",
    "plt.ylabel('Number of Occurrences', fontsize=12)\n",
    "plt.xlabel('Relevance', fontsize=12)\n",
    "plt.show()"
   ]
  },
  {
   "cell_type": "code",
   "execution_count": 15,
   "metadata": {},
   "outputs": [
    {
     "data": {
      "text/plain": [
       "0    793\n",
       "1    207\n",
       "Name: class_threshold3, dtype: int64"
      ]
     },
     "execution_count": 15,
     "metadata": {},
     "output_type": "execute_result"
    }
   ],
   "source": [
    "data['class_threshold3'].value_counts()"
   ]
  },
  {
   "cell_type": "markdown",
   "metadata": {},
   "source": [
    "# clear text\n",
    "* use regex to clear repeated vogals.\n",
    "* remove links"
   ]
  },
  {
   "cell_type": "code",
   "execution_count": 16,
   "metadata": {},
   "outputs": [],
   "source": [
    "def clear_text(text):\n",
    "    text = re.sub('a+', 'a', text)\n",
    "    text = re.sub('e+', 'e', text)\n",
    "    text = re.sub('i+', 'i', text)\n",
    "    text = re.sub('o+', 'o', text)\n",
    "    text = re.sub('u+', 'u', text)\n",
    "    return text\n",
    "#clear_text('nao goooosto diiiiisso')"
   ]
  },
  {
   "cell_type": "code",
   "execution_count": 17,
   "metadata": {},
   "outputs": [],
   "source": [
    "data['text'] = data['text'].apply(lambda x: clear_text(x.lower()))"
   ]
  },
  {
   "cell_type": "markdown",
   "metadata": {},
   "source": [
    "# tokenize\n",
    "using TweetTokenizer from nltk. Also gets lowercase text."
   ]
  },
  {
   "cell_type": "code",
   "execution_count": 18,
   "metadata": {},
   "outputs": [],
   "source": [
    "from nltk.tokenize import TweetTokenizer\n",
    "tknzr = TweetTokenizer()"
   ]
  },
  {
   "cell_type": "code",
   "execution_count": 19,
   "metadata": {},
   "outputs": [
    {
     "data": {
      "text/plain": [
       "0    [brasil, tera, 55, mil, militares, nas, ruas, ...\n",
       "1    [depois, do, exercito, abandonar, o, combate, ...\n",
       "2    [farmaceuticos, recebem, treinamento, sobre, d...\n",
       "3    [farmaceuticos, recebem, treinamento, sobre, d...\n",
       "4    [rt, g1, morador, do, df, faz, rap, da, dengue...\n",
       "Name: tokens, dtype: object"
      ]
     },
     "execution_count": 19,
     "metadata": {},
     "output_type": "execute_result"
    }
   ],
   "source": [
    "data['tokens'] = data['text'].apply(lambda x: tknzr.tokenize(x.translate(str.maketrans('', '', string.punctuation)).lower()))\n",
    "data.head()['tokens']"
   ]
  },
  {
   "cell_type": "code",
   "execution_count": 20,
   "metadata": {},
   "outputs": [],
   "source": [
    "#tfidf = TfidfVectorizer(analyzer='word')\n",
    "counter = Counter()\n",
    "for text in data['tokens']:\n",
    "    counter.update(text)\n",
    "tf_top = sorted(counter, key=counter.get)[-500:]"
   ]
  },
  {
   "cell_type": "code",
   "execution_count": 21,
   "metadata": {},
   "outputs": [
    {
     "data": {
      "text/plain": [
       "['o', 'zika', 'dengue', 'e', 'de']"
      ]
     },
     "execution_count": 21,
     "metadata": {},
     "output_type": "execute_result"
    }
   ],
   "source": [
    "tf_top[-5:]"
   ]
  },
  {
   "cell_type": "code",
   "execution_count": 22,
   "metadata": {},
   "outputs": [],
   "source": [
    "#usando freq absoluta\n",
    "def abs_tf(text, term):\n",
    "    #text = text.lower().split()\n",
    "\n",
    "    tf = 0\n",
    "    for word in text:\n",
    "        if word == term:\n",
    "            tf += 1\n",
    "    return tf"
   ]
  },
  {
   "cell_type": "code",
   "execution_count": 23,
   "metadata": {},
   "outputs": [],
   "source": [
    "for term in tf_top:\n",
    "    data[term] = 0\n",
    "    data[term] = data['tokens'].apply(lambda text: abs_tf(text, term))"
   ]
  },
  {
   "cell_type": "code",
   "execution_count": 24,
   "metadata": {},
   "outputs": [
    {
     "data": {
      "text/html": [
       "<div>\n",
       "<style scoped>\n",
       "    .dataframe tbody tr th:only-of-type {\n",
       "        vertical-align: middle;\n",
       "    }\n",
       "\n",
       "    .dataframe tbody tr th {\n",
       "        vertical-align: top;\n",
       "    }\n",
       "\n",
       "    .dataframe thead th {\n",
       "        text-align: right;\n",
       "    }\n",
       "</style>\n",
       "<table border=\"1\" class=\"dataframe\">\n",
       "  <thead>\n",
       "    <tr style=\"text-align: right;\">\n",
       "      <th></th>\n",
       "      <th>id</th>\n",
       "      <th>relevance</th>\n",
       "      <th>class</th>\n",
       "      <th>class_threshold3</th>\n",
       "      <th>text</th>\n",
       "      <th>text_original</th>\n",
       "      <th>date</th>\n",
       "      <th>tokens</th>\n",
       "      <th>municipios</th>\n",
       "      <th>sabado</th>\n",
       "      <th>...</th>\n",
       "      <th>em</th>\n",
       "      <th>da</th>\n",
       "      <th>rt</th>\n",
       "      <th>que</th>\n",
       "      <th>a</th>\n",
       "      <th>o</th>\n",
       "      <th>zika</th>\n",
       "      <th>dengue</th>\n",
       "      <th>e</th>\n",
       "      <th>de</th>\n",
       "    </tr>\n",
       "  </thead>\n",
       "  <tbody>\n",
       "    <tr>\n",
       "      <td>0</td>\n",
       "      <td>699069305468551169</td>\n",
       "      <td>2</td>\n",
       "      <td>0</td>\n",
       "      <td>0</td>\n",
       "      <td>brasil tera 55 mil militares nas ruas para com...</td>\n",
       "      <td>Brasil terá 55 mil militares nas ruas para com...</td>\n",
       "      <td>2016-02-15</td>\n",
       "      <td>[brasil, tera, 55, mil, militares, nas, ruas, ...</td>\n",
       "      <td>0</td>\n",
       "      <td>0</td>\n",
       "      <td>...</td>\n",
       "      <td>0</td>\n",
       "      <td>0</td>\n",
       "      <td>0</td>\n",
       "      <td>0</td>\n",
       "      <td>1</td>\n",
       "      <td>0</td>\n",
       "      <td>0</td>\n",
       "      <td>0</td>\n",
       "      <td>0</td>\n",
       "      <td>1</td>\n",
       "    </tr>\n",
       "    <tr>\n",
       "      <td>1</td>\n",
       "      <td>699164279472263170</td>\n",
       "      <td>3</td>\n",
       "      <td>0</td>\n",
       "      <td>1</td>\n",
       "      <td>depois do exercito abandonar o combate aos foc...</td>\n",
       "      <td>Depois do exército abandonar o combate aos foc...</td>\n",
       "      <td>2016-02-15</td>\n",
       "      <td>[depois, do, exercito, abandonar, o, combate, ...</td>\n",
       "      <td>0</td>\n",
       "      <td>0</td>\n",
       "      <td>...</td>\n",
       "      <td>0</td>\n",
       "      <td>0</td>\n",
       "      <td>0</td>\n",
       "      <td>2</td>\n",
       "      <td>0</td>\n",
       "      <td>1</td>\n",
       "      <td>1</td>\n",
       "      <td>0</td>\n",
       "      <td>1</td>\n",
       "      <td>1</td>\n",
       "    </tr>\n",
       "    <tr>\n",
       "      <td>2</td>\n",
       "      <td>699264346304618496</td>\n",
       "      <td>1</td>\n",
       "      <td>0</td>\n",
       "      <td>0</td>\n",
       "      <td>farmaceuticos recebem treinamento sobre dengue...</td>\n",
       "      <td>Farmacêuticos recebem treinamento sobre dengue...</td>\n",
       "      <td>2016-02-15</td>\n",
       "      <td>[farmaceuticos, recebem, treinamento, sobre, d...</td>\n",
       "      <td>0</td>\n",
       "      <td>0</td>\n",
       "      <td>...</td>\n",
       "      <td>0</td>\n",
       "      <td>0</td>\n",
       "      <td>0</td>\n",
       "      <td>0</td>\n",
       "      <td>0</td>\n",
       "      <td>0</td>\n",
       "      <td>1</td>\n",
       "      <td>1</td>\n",
       "      <td>2</td>\n",
       "      <td>1</td>\n",
       "    </tr>\n",
       "    <tr>\n",
       "      <td>3</td>\n",
       "      <td>699266282646994944</td>\n",
       "      <td>3</td>\n",
       "      <td>0</td>\n",
       "      <td>1</td>\n",
       "      <td>farmaceuticos recebem treinamento sobre dengue...</td>\n",
       "      <td>Farmacêuticos recebem treinamento sobre dengue...</td>\n",
       "      <td>2016-02-15</td>\n",
       "      <td>[farmaceuticos, recebem, treinamento, sobre, d...</td>\n",
       "      <td>0</td>\n",
       "      <td>0</td>\n",
       "      <td>...</td>\n",
       "      <td>0</td>\n",
       "      <td>0</td>\n",
       "      <td>0</td>\n",
       "      <td>0</td>\n",
       "      <td>0</td>\n",
       "      <td>0</td>\n",
       "      <td>1</td>\n",
       "      <td>1</td>\n",
       "      <td>2</td>\n",
       "      <td>1</td>\n",
       "    </tr>\n",
       "    <tr>\n",
       "      <td>4</td>\n",
       "      <td>699315864122892288</td>\n",
       "      <td>0</td>\n",
       "      <td>0</td>\n",
       "      <td>0</td>\n",
       "      <td>rt @g1: morador do df faz 'rap da dengue': 'ag...</td>\n",
       "      <td>RT @g1: Morador do DF faz 'rap da dengue': 'Ag...</td>\n",
       "      <td>2016-02-15</td>\n",
       "      <td>[rt, g1, morador, do, df, faz, rap, da, dengue...</td>\n",
       "      <td>0</td>\n",
       "      <td>0</td>\n",
       "      <td>...</td>\n",
       "      <td>0</td>\n",
       "      <td>1</td>\n",
       "      <td>1</td>\n",
       "      <td>0</td>\n",
       "      <td>0</td>\n",
       "      <td>0</td>\n",
       "      <td>0</td>\n",
       "      <td>1</td>\n",
       "      <td>0</td>\n",
       "      <td>0</td>\n",
       "    </tr>\n",
       "  </tbody>\n",
       "</table>\n",
       "<p>5 rows × 508 columns</p>\n",
       "</div>"
      ],
      "text/plain": [
       "                   id  relevance  class  class_threshold3  \\\n",
       "0  699069305468551169          2      0                 0   \n",
       "1  699164279472263170          3      0                 1   \n",
       "2  699264346304618496          1      0                 0   \n",
       "3  699266282646994944          3      0                 1   \n",
       "4  699315864122892288          0      0                 0   \n",
       "\n",
       "                                                text  \\\n",
       "0  brasil tera 55 mil militares nas ruas para com...   \n",
       "1  depois do exercito abandonar o combate aos foc...   \n",
       "2  farmaceuticos recebem treinamento sobre dengue...   \n",
       "3  farmaceuticos recebem treinamento sobre dengue...   \n",
       "4  rt @g1: morador do df faz 'rap da dengue': 'ag...   \n",
       "\n",
       "                                       text_original       date  \\\n",
       "0  Brasil terá 55 mil militares nas ruas para com... 2016-02-15   \n",
       "1  Depois do exército abandonar o combate aos foc... 2016-02-15   \n",
       "2  Farmacêuticos recebem treinamento sobre dengue... 2016-02-15   \n",
       "3  Farmacêuticos recebem treinamento sobre dengue... 2016-02-15   \n",
       "4  RT @g1: Morador do DF faz 'rap da dengue': 'Ag... 2016-02-15   \n",
       "\n",
       "                                              tokens  municipios  sabado  ...  \\\n",
       "0  [brasil, tera, 55, mil, militares, nas, ruas, ...           0       0  ...   \n",
       "1  [depois, do, exercito, abandonar, o, combate, ...           0       0  ...   \n",
       "2  [farmaceuticos, recebem, treinamento, sobre, d...           0       0  ...   \n",
       "3  [farmaceuticos, recebem, treinamento, sobre, d...           0       0  ...   \n",
       "4  [rt, g1, morador, do, df, faz, rap, da, dengue...           0       0  ...   \n",
       "\n",
       "   em  da  rt  que  a  o  zika  dengue  e  de  \n",
       "0   0   0   0    0  1  0     0       0  0   1  \n",
       "1   0   0   0    2  0  1     1       0  1   1  \n",
       "2   0   0   0    0  0  0     1       1  2   1  \n",
       "3   0   0   0    0  0  0     1       1  2   1  \n",
       "4   0   1   1    0  0  0     0       1  0   0  \n",
       "\n",
       "[5 rows x 508 columns]"
      ]
     },
     "execution_count": 24,
     "metadata": {},
     "output_type": "execute_result"
    }
   ],
   "source": [
    "data.head()"
   ]
  },
  {
   "cell_type": "markdown",
   "metadata": {},
   "source": [
    "# Data split"
   ]
  },
  {
   "cell_type": "code",
   "execution_count": 25,
   "metadata": {},
   "outputs": [],
   "source": [
    "from sklearn.model_selection import train_test_split"
   ]
  },
  {
   "cell_type": "code",
   "execution_count": 26,
   "metadata": {},
   "outputs": [],
   "source": [
    "data = data.rename(columns={\"class\": \"y1\", \"class_threshold3\": \"y2\"})"
   ]
  },
  {
   "cell_type": "code",
   "execution_count": 27,
   "metadata": {},
   "outputs": [
    {
     "data": {
      "text/plain": [
       "Index(['tokens', 'municipios', 'sabado', 'vigilancia', 'voluntarios', 'es',\n",
       "       'fora', 'lula', '30', 'causar',\n",
       "       ...\n",
       "       'em', 'da', 'rt', 'que', 'a', 'o', 'zika', 'dengue', 'e', 'de'],\n",
       "      dtype='object', length=501)"
      ]
     },
     "execution_count": 27,
     "metadata": {},
     "output_type": "execute_result"
    }
   ],
   "source": [
    "x_variables = data.columns[7:]\n",
    "x_variables"
   ]
  },
  {
   "cell_type": "code",
   "execution_count": 28,
   "metadata": {},
   "outputs": [],
   "source": [
    "#ys = data.iloc[:, 2:4]\n",
    "y = data.loc[:, 'y2']\n",
    "#y = data.iloc[:, 3:4]\n",
    "X = data.iloc[:, 8:]\n",
    "\n",
    "X_train, X_test, y_train, y_test = train_test_split(X, y, test_size = 0.3, random_state=0, shuffle=False)"
   ]
  },
  {
   "cell_type": "code",
   "execution_count": 29,
   "metadata": {
    "scrolled": true
   },
   "outputs": [
    {
     "data": {
      "text/html": [
       "<div>\n",
       "<style scoped>\n",
       "    .dataframe tbody tr th:only-of-type {\n",
       "        vertical-align: middle;\n",
       "    }\n",
       "\n",
       "    .dataframe tbody tr th {\n",
       "        vertical-align: top;\n",
       "    }\n",
       "\n",
       "    .dataframe thead th {\n",
       "        text-align: right;\n",
       "    }\n",
       "</style>\n",
       "<table border=\"1\" class=\"dataframe\">\n",
       "  <thead>\n",
       "    <tr style=\"text-align: right;\">\n",
       "      <th></th>\n",
       "      <th>municipios</th>\n",
       "      <th>sabado</th>\n",
       "      <th>vigilancia</th>\n",
       "      <th>voluntarios</th>\n",
       "      <th>es</th>\n",
       "      <th>fora</th>\n",
       "      <th>lula</th>\n",
       "      <th>30</th>\n",
       "      <th>causar</th>\n",
       "      <th>colombia</th>\n",
       "      <th>...</th>\n",
       "      <th>em</th>\n",
       "      <th>da</th>\n",
       "      <th>rt</th>\n",
       "      <th>que</th>\n",
       "      <th>a</th>\n",
       "      <th>o</th>\n",
       "      <th>zika</th>\n",
       "      <th>dengue</th>\n",
       "      <th>e</th>\n",
       "      <th>de</th>\n",
       "    </tr>\n",
       "  </thead>\n",
       "  <tbody>\n",
       "    <tr>\n",
       "      <td>0</td>\n",
       "      <td>0</td>\n",
       "      <td>0</td>\n",
       "      <td>0</td>\n",
       "      <td>0</td>\n",
       "      <td>0</td>\n",
       "      <td>0</td>\n",
       "      <td>0</td>\n",
       "      <td>0</td>\n",
       "      <td>0</td>\n",
       "      <td>0</td>\n",
       "      <td>...</td>\n",
       "      <td>0</td>\n",
       "      <td>0</td>\n",
       "      <td>0</td>\n",
       "      <td>0</td>\n",
       "      <td>1</td>\n",
       "      <td>0</td>\n",
       "      <td>0</td>\n",
       "      <td>0</td>\n",
       "      <td>0</td>\n",
       "      <td>1</td>\n",
       "    </tr>\n",
       "    <tr>\n",
       "      <td>1</td>\n",
       "      <td>0</td>\n",
       "      <td>0</td>\n",
       "      <td>0</td>\n",
       "      <td>0</td>\n",
       "      <td>0</td>\n",
       "      <td>0</td>\n",
       "      <td>0</td>\n",
       "      <td>0</td>\n",
       "      <td>0</td>\n",
       "      <td>0</td>\n",
       "      <td>...</td>\n",
       "      <td>0</td>\n",
       "      <td>0</td>\n",
       "      <td>0</td>\n",
       "      <td>2</td>\n",
       "      <td>0</td>\n",
       "      <td>1</td>\n",
       "      <td>1</td>\n",
       "      <td>0</td>\n",
       "      <td>1</td>\n",
       "      <td>1</td>\n",
       "    </tr>\n",
       "    <tr>\n",
       "      <td>2</td>\n",
       "      <td>0</td>\n",
       "      <td>0</td>\n",
       "      <td>0</td>\n",
       "      <td>0</td>\n",
       "      <td>0</td>\n",
       "      <td>0</td>\n",
       "      <td>0</td>\n",
       "      <td>0</td>\n",
       "      <td>0</td>\n",
       "      <td>0</td>\n",
       "      <td>...</td>\n",
       "      <td>0</td>\n",
       "      <td>0</td>\n",
       "      <td>0</td>\n",
       "      <td>0</td>\n",
       "      <td>0</td>\n",
       "      <td>0</td>\n",
       "      <td>1</td>\n",
       "      <td>1</td>\n",
       "      <td>2</td>\n",
       "      <td>1</td>\n",
       "    </tr>\n",
       "    <tr>\n",
       "      <td>3</td>\n",
       "      <td>0</td>\n",
       "      <td>0</td>\n",
       "      <td>0</td>\n",
       "      <td>0</td>\n",
       "      <td>0</td>\n",
       "      <td>0</td>\n",
       "      <td>0</td>\n",
       "      <td>0</td>\n",
       "      <td>0</td>\n",
       "      <td>0</td>\n",
       "      <td>...</td>\n",
       "      <td>0</td>\n",
       "      <td>0</td>\n",
       "      <td>0</td>\n",
       "      <td>0</td>\n",
       "      <td>0</td>\n",
       "      <td>0</td>\n",
       "      <td>1</td>\n",
       "      <td>1</td>\n",
       "      <td>2</td>\n",
       "      <td>1</td>\n",
       "    </tr>\n",
       "    <tr>\n",
       "      <td>4</td>\n",
       "      <td>0</td>\n",
       "      <td>0</td>\n",
       "      <td>0</td>\n",
       "      <td>0</td>\n",
       "      <td>0</td>\n",
       "      <td>0</td>\n",
       "      <td>0</td>\n",
       "      <td>0</td>\n",
       "      <td>0</td>\n",
       "      <td>0</td>\n",
       "      <td>...</td>\n",
       "      <td>0</td>\n",
       "      <td>1</td>\n",
       "      <td>1</td>\n",
       "      <td>0</td>\n",
       "      <td>0</td>\n",
       "      <td>0</td>\n",
       "      <td>0</td>\n",
       "      <td>1</td>\n",
       "      <td>0</td>\n",
       "      <td>0</td>\n",
       "    </tr>\n",
       "  </tbody>\n",
       "</table>\n",
       "<p>5 rows × 500 columns</p>\n",
       "</div>"
      ],
      "text/plain": [
       "   municipios  sabado  vigilancia  voluntarios  es  fora  lula  30  causar  \\\n",
       "0           0       0           0            0   0     0     0   0       0   \n",
       "1           0       0           0            0   0     0     0   0       0   \n",
       "2           0       0           0            0   0     0     0   0       0   \n",
       "3           0       0           0            0   0     0     0   0       0   \n",
       "4           0       0           0            0   0     0     0   0       0   \n",
       "\n",
       "   colombia  ...  em  da  rt  que  a  o  zika  dengue  e  de  \n",
       "0         0  ...   0   0   0    0  1  0     0       0  0   1  \n",
       "1         0  ...   0   0   0    2  0  1     1       0  1   1  \n",
       "2         0  ...   0   0   0    0  0  0     1       1  2   1  \n",
       "3         0  ...   0   0   0    0  0  0     1       1  2   1  \n",
       "4         0  ...   0   1   1    0  0  0     0       1  0   0  \n",
       "\n",
       "[5 rows x 500 columns]"
      ]
     },
     "execution_count": 29,
     "metadata": {},
     "output_type": "execute_result"
    }
   ],
   "source": [
    "X_train.head()"
   ]
  },
  {
   "cell_type": "code",
   "execution_count": 30,
   "metadata": {},
   "outputs": [
    {
     "data": {
      "text/plain": [
       "0    0\n",
       "1    1\n",
       "2    0\n",
       "3    1\n",
       "4    0\n",
       "Name: y2, dtype: int64"
      ]
     },
     "execution_count": 30,
     "metadata": {},
     "output_type": "execute_result"
    }
   ],
   "source": [
    "y.head()"
   ]
  },
  {
   "cell_type": "markdown",
   "metadata": {},
   "source": [
    "# Oversampling minority class\n",
    "Tested only on 1 ML model"
   ]
  },
  {
   "cell_type": "code",
   "execution_count": 33,
   "metadata": {},
   "outputs": [],
   "source": [
    "from imblearn.over_sampling import SMOTE\n",
    "\n",
    "smote = SMOTE(random_state=42)\n",
    "X_traincv_res, y_traincv_res = smote.fit_sample(X_train, y_train)"
   ]
  },
  {
   "cell_type": "markdown",
   "metadata": {},
   "source": [
    "# Machine Learning, Baseline\n",
    "Using Logistic regression and Random Forest as baselines"
   ]
  },
  {
   "cell_type": "code",
   "execution_count": 34,
   "metadata": {},
   "outputs": [],
   "source": [
    "from sklearn.preprocessing import StandardScaler, Imputer\n",
    "from sklearn.pipeline import Pipeline\n",
    "from sklearn.model_selection import GridSearchCV\n",
    "from sklearn.metrics import classification_report, roc_curve, roc_auc_score, confusion_matrix, accuracy_score"
   ]
  },
  {
   "cell_type": "markdown",
   "metadata": {},
   "source": [
    "### Logistic Regression"
   ]
  },
  {
   "cell_type": "code",
   "execution_count": 35,
   "metadata": {},
   "outputs": [],
   "source": [
    "from sklearn.linear_model import LogisticRegression"
   ]
  },
  {
   "cell_type": "code",
   "execution_count": 36,
   "metadata": {},
   "outputs": [
    {
     "name": "stdout",
     "output_type": "stream",
     "text": [
      "\n",
      "TUNED MODEL PARAMETERS:\n",
      " {'logreg__C': 1e-05, 'logreg__penalty': 'l2', 'logreg__random_state': 42}\n",
      "\n",
      "TUNED RECALL:\n",
      " 0.6161013824884792\n"
     ]
    }
   ],
   "source": [
    "# Setup the pipeline\n",
    "steps = [('scaler', StandardScaler()),\n",
    "         ('logreg', LogisticRegression())]\n",
    "\n",
    "pipeline = Pipeline(steps)\n",
    "\n",
    "#LogisticRegression()\n",
    "\n",
    "# Specify the hyperparameter space\n",
    "c_space = np.logspace(-5, 1, 20)\n",
    "parameters = {'logreg__C': c_space, \n",
    "              'logreg__penalty': ['l1', 'l2'],\n",
    "              'logreg__random_state':[42]}\n",
    "\n",
    "# Instantiate the GridSearchCV object: cv\n",
    "n_fold_cv = int(len(X_train)/4)\n",
    "clf_logreg = GridSearchCV(pipeline,parameters, cv=5, scoring='recall')\n",
    "\n",
    "# Fit to the training set\n",
    "clf_logreg.fit(X_train, y_train)\n",
    "\n",
    "# Compute and print metrics\n",
    "print(\"\\nTUNED MODEL PARAMETERS:\\n {}\".format(clf_logreg.best_params_))\n",
    "print(\"\\nTUNED RECALL:\\n {}\".format(clf_logreg.best_score_))"
   ]
  },
  {
   "cell_type": "code",
   "execution_count": 37,
   "metadata": {},
   "outputs": [],
   "source": [
    "logreg_best = clf_logreg.best_params_"
   ]
  },
  {
   "cell_type": "markdown",
   "metadata": {},
   "source": [
    "#### repeat with oversampling"
   ]
  },
  {
   "cell_type": "code",
   "execution_count": 38,
   "metadata": {},
   "outputs": [
    {
     "name": "stdout",
     "output_type": "stream",
     "text": [
      "\n",
      "TUNED MODEL PARAMETERS:\n",
      " {'logreg__C': 1e-05, 'logreg__penalty': 'l2', 'logreg__random_state': 42}\n",
      "\n",
      "TUNED RECALL:\n",
      " 0.8761384335154827\n"
     ]
    }
   ],
   "source": [
    "# Fit to the training set\n",
    "clf_logreg.fit(X_traincv_res, y_traincv_res)\n",
    "\n",
    "# Compute and print metrics\n",
    "print(\"\\nTUNED MODEL PARAMETERS:\\n {}\".format(clf_logreg.best_params_))\n",
    "print(\"\\nTUNED RECALL:\\n {}\".format(clf_logreg.best_score_))"
   ]
  },
  {
   "cell_type": "code",
   "execution_count": 39,
   "metadata": {},
   "outputs": [],
   "source": [
    "logreg_best_smote = clf_logreg.best_params_"
   ]
  },
  {
   "cell_type": "markdown",
   "metadata": {},
   "source": [
    "### Random Forest"
   ]
  },
  {
   "cell_type": "code",
   "execution_count": 46,
   "metadata": {},
   "outputs": [],
   "source": [
    "from sklearn.ensemble import RandomForestClassifier"
   ]
  },
  {
   "cell_type": "code",
   "execution_count": 47,
   "metadata": {},
   "outputs": [
    {
     "name": "stdout",
     "output_type": "stream",
     "text": [
      "\n",
      "TUNED MODEL PARAMETERS:\n",
      " {'rfc__max_features': None, 'rfc__n_estimators': 300, 'rfc__random_state': 42}\n",
      "\n",
      "TUNED RECALL:\n",
      " 0.2781459293394777\n"
     ]
    }
   ],
   "source": [
    "# Setup the pipeline\n",
    "steps = [('scaler', StandardScaler()),\n",
    "         ('rfc', RandomForestClassifier())]\n",
    "\n",
    "pipeline = Pipeline(steps)\n",
    "\n",
    "# Specify the hyperparameter space\n",
    "parameters = {'rfc__max_features':[1, 2, \"auto\", \"log2\", None],\n",
    "              'rfc__n_estimators':[300],\n",
    "              'rfc__random_state':[42]}\n",
    "\n",
    "# Instantiate the GridSearchCV object: clf_rforest\n",
    "clf_rforest = GridSearchCV(pipeline,parameters, cv=5, scoring='recall')\n",
    "\n",
    "# Fit to the training set\n",
    "clf_rforest.fit(X_train, y_train)\n",
    "\n",
    "# Compute and print metrics\n",
    "print(\"\\nTUNED MODEL PARAMETERS:\\n {}\".format(clf_rforest.best_params_))\n",
    "print(\"\\nTUNED RECALL:\\n {}\".format(clf_rforest.best_score_))"
   ]
  },
  {
   "cell_type": "markdown",
   "metadata": {},
   "source": [
    "# Machine Learning, other models"
   ]
  },
  {
   "cell_type": "markdown",
   "metadata": {},
   "source": [
    "### svm"
   ]
  },
  {
   "cell_type": "code",
   "execution_count": 40,
   "metadata": {},
   "outputs": [],
   "source": [
    "from sklearn import svm"
   ]
  },
  {
   "cell_type": "code",
   "execution_count": 41,
   "metadata": {},
   "outputs": [
    {
     "name": "stdout",
     "output_type": "stream",
     "text": [
      "\n",
      "TUNED MODEL PARAMETERS:\n",
      " {'svc__C': 0.1, 'svc__degree': 2, 'svc__gamma': 1e-05, 'svc__kernel': 'linear', 'svc__random_state': 42}\n",
      "\n",
      "TUNED RECALL:\n",
      " 0.4369892473118279\n"
     ]
    }
   ],
   "source": [
    "# Setup the pipeline\n",
    "steps = [('scaler', StandardScaler()),\n",
    "         ('svc', svm.SVC())]\n",
    "\n",
    "pipeline = Pipeline(steps)\n",
    "\n",
    "# Specify the hyperparameter space\n",
    "parameters = {'svc__kernel': ['linear', 'poly'],\n",
    "              'svc__C': np.linspace(0.1,2,10),\n",
    "              'svc__degree': [2,3,4],\n",
    "              'svc__gamma': np.logspace(-5, 0, 10),\n",
    "              'svc__random_state':[42]}\n",
    "\n",
    "clf_svc = GridSearchCV(pipeline,parameters, cv=5, scoring='recall')\n",
    "\n",
    "clf_svc.fit(X_train, y_train)\n",
    "\n",
    "print(\"\\nTUNED MODEL PARAMETERS:\\n {}\".format(clf_svc.best_params_))\n",
    "print(\"\\nTUNED RECALL:\\n {}\".format(clf_svc.best_score_))"
   ]
  },
  {
   "cell_type": "markdown",
   "metadata": {},
   "source": [
    "### adaboost"
   ]
  },
  {
   "cell_type": "code",
   "execution_count": 42,
   "metadata": {},
   "outputs": [],
   "source": [
    "from sklearn.ensemble import AdaBoostClassifier"
   ]
  },
  {
   "cell_type": "code",
   "execution_count": 43,
   "metadata": {},
   "outputs": [
    {
     "name": "stdout",
     "output_type": "stream",
     "text": [
      "\n",
      "TUNED MODEL PARAMETERS:\n",
      " {'abc__n_estimators': 300, 'abc__random_state': 42}\n",
      "\n",
      "TUNED RECALL:\n",
      " 0.41133640552995393\n"
     ]
    }
   ],
   "source": [
    "steps = [('scaler', StandardScaler()),\n",
    "         ('abc', AdaBoostClassifier())]\n",
    "\n",
    "pipeline = Pipeline(steps)\n",
    "\n",
    "parameters = {'abc__n_estimators': [300],\n",
    "              'abc__random_state':[42]}\n",
    "\n",
    "clf_abc = GridSearchCV(pipeline,parameters, cv=5, scoring='recall')\n",
    "\n",
    "clf_abc.fit(X_train, y_train)\n",
    "\n",
    "print(\"\\nTUNED MODEL PARAMETERS:\\n {}\".format(clf_abc.best_params_))\n",
    "print(\"\\nTUNED RECALL:\\n {}\".format(clf_abc.best_score_))"
   ]
  },
  {
   "cell_type": "markdown",
   "metadata": {},
   "source": [
    "### gradient boosting"
   ]
  },
  {
   "cell_type": "code",
   "execution_count": 44,
   "metadata": {},
   "outputs": [],
   "source": [
    "from sklearn.ensemble import GradientBoostingClassifier"
   ]
  },
  {
   "cell_type": "code",
   "execution_count": 45,
   "metadata": {},
   "outputs": [
    {
     "name": "stdout",
     "output_type": "stream",
     "text": [
      "\n",
      "TUNED MODEL PARAMETERS:\n",
      " {'gbc__n_estimators': 300, 'gbc__random_state': 42}\n",
      "\n",
      "TUNED RECALL:\n",
      " 0.2784362519201229\n"
     ]
    }
   ],
   "source": [
    "steps = [('scaler', StandardScaler()),\n",
    "         ('gbc', GradientBoostingClassifier())]\n",
    "\n",
    "pipeline = Pipeline(steps)\n",
    "\n",
    "parameters = {'gbc__n_estimators': [300],\n",
    "              'gbc__random_state':[42]}\n",
    "\n",
    "\n",
    "clf_gbc = GridSearchCV(pipeline,parameters, cv=5, scoring='recall')\n",
    "\n",
    "clf_gbc.fit(X_train, y_train)\n",
    "\n",
    "print(\"\\nTUNED MODEL PARAMETERS:\\n {}\".format(clf_gbc.best_params_))\n",
    "print(\"\\nTUNED RECALL:\\n {}\".format(clf_gbc.best_score_))"
   ]
  },
  {
   "cell_type": "markdown",
   "metadata": {},
   "source": [
    "### xgboost"
   ]
  },
  {
   "cell_type": "code",
   "execution_count": 60,
   "metadata": {},
   "outputs": [],
   "source": [
    "import xgboost as xgb"
   ]
  },
  {
   "cell_type": "code",
   "execution_count": 62,
   "metadata": {
    "scrolled": true
   },
   "outputs": [
    {
     "name": "stdout",
     "output_type": "stream",
     "text": [
      "[0]\ttrain-aucpr:0.781392\tvalid-aucpr:0.43255\n",
      "Multiple eval metrics have been passed: 'valid-aucpr' will be used for early stopping.\n",
      "\n",
      "Will train until valid-aucpr hasn't improved in 50 rounds.\n",
      "[10]\ttrain-aucpr:0.874452\tvalid-aucpr:0.477074\n",
      "[20]\ttrain-aucpr:0.910408\tvalid-aucpr:0.485025\n",
      "[30]\ttrain-aucpr:0.93012\tvalid-aucpr:0.484355\n",
      "[40]\ttrain-aucpr:0.954417\tvalid-aucpr:0.528684\n",
      "[50]\ttrain-aucpr:0.964534\tvalid-aucpr:0.558366\n",
      "[60]\ttrain-aucpr:0.973277\tvalid-aucpr:0.558642\n",
      "[70]\ttrain-aucpr:0.979824\tvalid-aucpr:0.566415\n",
      "[80]\ttrain-aucpr:0.984185\tvalid-aucpr:0.572223\n",
      "[90]\ttrain-aucpr:0.986668\tvalid-aucpr:0.581712\n",
      "[100]\ttrain-aucpr:0.989121\tvalid-aucpr:0.594533\n",
      "[110]\ttrain-aucpr:0.990518\tvalid-aucpr:0.596883\n",
      "[120]\ttrain-aucpr:0.991105\tvalid-aucpr:0.598247\n",
      "[130]\ttrain-aucpr:0.991645\tvalid-aucpr:0.600717\n",
      "[140]\ttrain-aucpr:0.992127\tvalid-aucpr:0.601766\n",
      "[150]\ttrain-aucpr:0.9924\tvalid-aucpr:0.599034\n",
      "[160]\ttrain-aucpr:0.992463\tvalid-aucpr:0.599031\n",
      "[170]\ttrain-aucpr:0.992761\tvalid-aucpr:0.599921\n",
      "[180]\ttrain-aucpr:0.993055\tvalid-aucpr:0.599349\n",
      "Stopping. Best iteration:\n",
      "[136]\ttrain-aucpr:0.99197\tvalid-aucpr:0.60318\n",
      "\n"
     ]
    }
   ],
   "source": [
    "# Set our parameters for xgboost\n",
    "params = {}\n",
    "params['objective'] = 'reg:squarederror'\n",
    "params['eval_metric'] = 'aucpr'\n",
    "params['eta'] = 0.02\n",
    "params['max_depth'] = 10\n",
    "\n",
    "d_train = xgb.DMatrix(X_train, label=y_train)\n",
    "d_test = xgb.DMatrix(X_test, label=y_test)\n",
    "\n",
    "watchlist = [(d_train, 'train'), (d_test, 'valid')]\n",
    "\n",
    "bst = xgb.train(params, d_train, 400, watchlist, early_stopping_rounds=50, verbose_eval=10)"
   ]
  },
  {
   "cell_type": "code",
   "execution_count": 63,
   "metadata": {},
   "outputs": [],
   "source": [
    "def use_threshold(value):\n",
    "    if value > 0.2: value = 1\n",
    "    else: value = 0\n",
    "    return value"
   ]
  },
  {
   "cell_type": "code",
   "execution_count": 64,
   "metadata": {},
   "outputs": [],
   "source": [
    "p_test = bst.predict(d_test)\n",
    "y_pred = np.array(list((map(use_threshold, p_test))))"
   ]
  },
  {
   "cell_type": "code",
   "execution_count": 65,
   "metadata": {},
   "outputs": [
    {
     "data": {
      "text/plain": [
       "0.7533333333333333"
      ]
     },
     "execution_count": 65,
     "metadata": {},
     "output_type": "execute_result"
    }
   ],
   "source": [
    "accuracy_score(y_test, y_pred)"
   ]
  },
  {
   "cell_type": "code",
   "execution_count": 66,
   "metadata": {},
   "outputs": [
    {
     "name": "stdout",
     "output_type": "stream",
     "text": [
      "\n",
      "CLASSIFICATION_REPORT:\n",
      "               precision    recall  f1-score   support\n",
      "\n",
      "           0       0.93      0.75      0.83       244\n",
      "           1       0.41      0.75      0.53        56\n",
      "\n",
      "    accuracy                           0.75       300\n",
      "   macro avg       0.67      0.75      0.68       300\n",
      "weighted avg       0.83      0.75      0.78       300\n",
      "\n"
     ]
    }
   ],
   "source": [
    "print(\"\\nCLASSIFICATION_REPORT:\\n\", classification_report(y_test, y_pred))"
   ]
  },
  {
   "cell_type": "markdown",
   "metadata": {},
   "source": [
    "# Plot results"
   ]
  },
  {
   "cell_type": "code",
   "execution_count": 49,
   "metadata": {},
   "outputs": [],
   "source": [
    "dic_results = {}\n",
    "dic_results['logistic regression']= clf_logreg.best_score_\n",
    "dic_results['random forest']= clf_rforest.best_score_\n",
    "dic_results['svm']= clf_svc.best_score_\n",
    "dic_results['adaboost']= clf_abc.best_score_\n",
    "dic_results['gradient boosting']= clf_gbc.best_score_"
   ]
  },
  {
   "cell_type": "code",
   "execution_count": 61,
   "metadata": {},
   "outputs": [
    {
     "data": {
      "image/png": "[encoded data removed]",
      "text/plain": [
       "<Figure size 576x144 with 1 Axes>"
      ]
     },
     "metadata": {
      "needs_background": "light"
     },
     "output_type": "display_data"
    }
   ],
   "source": [
    "import operator\n",
    "tup_results = sorted(dic_results.items(), key=operator.itemgetter(1))\n",
    "\n",
    "N = len(dic_results)\n",
    "ind = np.arange(N)  # the x locations for the groups\n",
    "width = 0.40       # the width of the bars\n",
    "\n",
    "fig = plt.figure(figsize=(8,2))\n",
    "ax = fig.add_subplot(111)\n",
    "rects = ax.bar(ind+0.5, list(zip(*tup_results))[1], width,)\n",
    "for rect in rects:\n",
    "    height = rect.get_height()\n",
    "    ax.text(rect.get_x()+rect.get_width()/2., \n",
    "            1.005*height, \n",
    "            '{0:.4f}'.format(height), \n",
    "            ha='center', \n",
    "            va='bottom',)\n",
    "\n",
    "ax.set_ylabel('Score')\n",
    "ax.set_xlabel('ML model')\n",
    "ax.set_ylim(ymin=0.0,ymax = 1)\n",
    "ax.set_title(\"Recall Comparison\")\n",
    "ax.set_xticks(ind + width/2.)\n",
    "ax.set_xticklabels(list(zip(*tup_results))[0], rotation=22)\n",
    "\n",
    "plt.show()"
   ]
  },
  {
   "cell_type": "markdown",
   "metadata": {},
   "source": [
    "# calculate final quality with a test set\n",
    "So we see that the best validated model is Logistic Regression. We will now test it on the test set. We could also compare with other models with their respective best params."
   ]
  },
  {
   "cell_type": "markdown",
   "metadata": {},
   "source": [
    "### transform data"
   ]
  },
  {
   "cell_type": "code",
   "execution_count": 51,
   "metadata": {},
   "outputs": [],
   "source": [
    "#transform X_train\n",
    "scale = StandardScaler().fit(X_train)\n",
    "X_train_scaled = scale.transform(X_train)\n",
    "\n",
    "#transform X_test\n",
    "scale = StandardScaler().fit(X_test)\n",
    "X_test_scaled = scale.transform(X_test)"
   ]
  },
  {
   "cell_type": "markdown",
   "metadata": {},
   "source": [
    "### get best params of regressor\n",
    "this was previously obtained during cross validation step"
   ]
  },
  {
   "cell_type": "code",
   "execution_count": 52,
   "metadata": {},
   "outputs": [
    {
     "data": {
      "text/plain": [
       "{'C': 1e-05, 'penalty': 'l2', 'random_state': 42}"
      ]
     },
     "execution_count": 52,
     "metadata": {},
     "output_type": "execute_result"
    }
   ],
   "source": [
    "params_normal = {}\n",
    "for k,v in logreg_best.items():\n",
    "    k = k[8:]\n",
    "    params_normal[k] = v\n",
    "params_normal"
   ]
  },
  {
   "cell_type": "code",
   "execution_count": 53,
   "metadata": {},
   "outputs": [],
   "source": [
    "#instantiate regressor with best params\n",
    "params = params_normal\n",
    "clf_logreg_validated = LogisticRegression(C = params['C'], penalty = params['penalty'], random_state = params['random_state'])\n",
    "\n",
    "clf_logreg_validated.fit(X_train_scaled, y_train)\n",
    "y_pred = clf_logreg_validated.predict(X_test_scaled)"
   ]
  },
  {
   "cell_type": "markdown",
   "metadata": {},
   "source": [
    "### calculate accuracy on test set"
   ]
  },
  {
   "cell_type": "code",
   "execution_count": 54,
   "metadata": {},
   "outputs": [
    {
     "data": {
      "text/plain": [
       "0.8333333333333334"
      ]
     },
     "execution_count": 54,
     "metadata": {},
     "output_type": "execute_result"
    }
   ],
   "source": [
    "accuracy_score(y_test, y_pred)"
   ]
  },
  {
   "cell_type": "markdown",
   "metadata": {},
   "source": [
    "### classification report"
   ]
  },
  {
   "cell_type": "code",
   "execution_count": 55,
   "metadata": {},
   "outputs": [
    {
     "name": "stdout",
     "output_type": "stream",
     "text": [
      "\n",
      "CLASSIFICATION_REPORT:\n",
      "               precision    recall  f1-score   support\n",
      "\n",
      "           0       0.91      0.89      0.90       244\n",
      "           1       0.55      0.61      0.58        56\n",
      "\n",
      "    accuracy                           0.83       300\n",
      "   macro avg       0.73      0.75      0.74       300\n",
      "weighted avg       0.84      0.83      0.84       300\n",
      "\n"
     ]
    }
   ],
   "source": [
    "print(\"\\nCLASSIFICATION_REPORT:\\n\", classification_report(y_test, y_pred))"
   ]
  },
  {
   "cell_type": "markdown",
   "metadata": {},
   "source": [
    "### repeat for oversampled model"
   ]
  },
  {
   "cell_type": "code",
   "execution_count": 56,
   "metadata": {},
   "outputs": [
    {
     "data": {
      "text/plain": [
       "{'C': 1e-05, 'penalty': 'l2', 'random_state': 42}"
      ]
     },
     "execution_count": 56,
     "metadata": {},
     "output_type": "execute_result"
    }
   ],
   "source": [
    "params_smote = {}\n",
    "for k,v in logreg_best_smote.items():\n",
    "    k = k[8:]\n",
    "    params_smote[k] = v\n",
    "params_smote"
   ]
  },
  {
   "cell_type": "code",
   "execution_count": 57,
   "metadata": {},
   "outputs": [],
   "source": [
    "#instantiate regressor with best params\n",
    "params = params_smote\n",
    "clf_logreg_validated = LogisticRegression(C = params['C'], penalty = params['penalty'], random_state = params['random_state'])\n",
    "\n",
    "clf_logreg_validated.fit(X_train_scaled, y_train)\n",
    "y_pred = clf_logreg_validated.predict(X_test_scaled)"
   ]
  },
  {
   "cell_type": "code",
   "execution_count": 58,
   "metadata": {},
   "outputs": [
    {
     "data": {
      "text/plain": [
       "0.8333333333333334"
      ]
     },
     "execution_count": 58,
     "metadata": {},
     "output_type": "execute_result"
    }
   ],
   "source": [
    "accuracy_score(y_test, y_pred)"
   ]
  },
  {
   "cell_type": "code",
   "execution_count": 59,
   "metadata": {},
   "outputs": [
    {
     "name": "stdout",
     "output_type": "stream",
     "text": [
      "\n",
      "CLASSIFICATION_REPORT:\n",
      "               precision    recall  f1-score   support\n",
      "\n",
      "           0       0.91      0.89      0.90       244\n",
      "           1       0.55      0.61      0.58        56\n",
      "\n",
      "    accuracy                           0.83       300\n",
      "   macro avg       0.73      0.75      0.74       300\n",
      "weighted avg       0.84      0.83      0.84       300\n",
      "\n"
     ]
    }
   ],
   "source": [
    "print(\"\\nCLASSIFICATION_REPORT:\\n\", classification_report(y_test, y_pred))"
   ]
  },
  {
   "cell_type": "markdown",
   "metadata": {},
   "source": [
    "# draft"
   ]
  },
  {
   "cell_type": "markdown",
   "metadata": {},
   "source": [
    "### temp test with rfc"
   ]
  },
  {
   "cell_type": "code",
   "execution_count": 570,
   "metadata": {},
   "outputs": [
    {
     "data": {
      "text/plain": [
       "{'max_features': None, 'n_estimators': 300, 'random_state': 42}"
      ]
     },
     "execution_count": 570,
     "metadata": {},
     "output_type": "execute_result"
    }
   ],
   "source": [
    "params = {}\n",
    "for k,v in clf_rforest.best_params_.items():\n",
    "    k = k[5:]\n",
    "    params[k] = v\n",
    "params"
   ]
  },
  {
   "cell_type": "code",
   "execution_count": 571,
   "metadata": {},
   "outputs": [],
   "source": [
    "#transform X_train\n",
    "scale = StandardScaler().fit(X_train)\n",
    "X_train_scaled = scale.transform(X_train)\n",
    "\n",
    "#transform X_test\n",
    "scale = StandardScaler().fit(X_test)\n",
    "X_test_scaled = scale.transform(X_test)\n",
    "\n",
    "#instantiate regressor with best params\n",
    "clf_rfc_validated = RandomForestClassifier(max_features = params['max_features'], n_estimators = params['n_estimators'], random_state = params['random_state'])\n",
    "\n",
    "#fit regressor\n",
    "clf_rfc_validated.fit(X_train_scaled, y_train)\n",
    "\n",
    "#do prediction on test set\n",
    "y_pred = clf_rfc_validated.predict(X_test_scaled)"
   ]
  },
  {
   "cell_type": "markdown",
   "metadata": {},
   "source": [
    "### calculate accuracy on test set"
   ]
  },
  {
   "cell_type": "code",
   "execution_count": 572,
   "metadata": {},
   "outputs": [
    {
     "data": {
      "text/plain": [
       "0.8160919540229885"
      ]
     },
     "execution_count": 572,
     "metadata": {},
     "output_type": "execute_result"
    }
   ],
   "source": [
    "accuracy_score(y_test, y_pred)"
   ]
  },
  {
   "cell_type": "markdown",
   "metadata": {},
   "source": [
    "### classification report"
   ]
  },
  {
   "cell_type": "code",
   "execution_count": 573,
   "metadata": {
    "scrolled": true
   },
   "outputs": [
    {
     "name": "stdout",
     "output_type": "stream",
     "text": [
      "\n",
      "CLASSIFICATION_REPORT:\n",
      "               precision    recall  f1-score   support\n",
      "\n",
      "           0       0.84      0.96      0.90       142\n",
      "           1       0.50      0.16      0.24        32\n",
      "\n",
      "    accuracy                           0.82       174\n",
      "   macro avg       0.67      0.56      0.57       174\n",
      "weighted avg       0.77      0.82      0.77       174\n",
      "\n"
     ]
    }
   ],
   "source": [
    "print(\"\\nCLASSIFICATION_REPORT:\\n\", classification_report(y_test, y_pred))"
   ]
  },
  {
   "cell_type": "code",
   "execution_count": null,
   "metadata": {},
   "outputs": [],
   "source": []
  }
 ],
 "metadata": {
  "kernelspec": {
   "display_name": "Python 3",
   "language": "python",
   "name": "python3"
  },
  "language_info": {
   "codemirror_mode": {
    "name": "ipython",
    "version": 3
   },
   "file_extension": ".py",
   "mimetype": "text/x-python",
   "name": "python",
   "nbconvert_exporter": "python",
   "pygments_lexer": "ipython3",
   "version": "3.7.4"
  }
 },
 "nbformat": 4,
 "nbformat_minor": 2
}
