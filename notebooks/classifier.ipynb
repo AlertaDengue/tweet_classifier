{
 "cells": [
  {
   "cell_type": "markdown",
   "metadata": {},
   "source": [
    "# classifier\n",
    "Classifies each tweet according to the train set, which was classified by collaborators of the Infodengue project. "
   ]
  },
  {
   "cell_type": "markdown",
   "metadata": {},
   "source": [
    "Observations:\n",
    "* Do not use stemming, because of the text content of tweets.\n",
    "* For sklearn, check the text preprocessing\n",
    "* Using tweet tokenizer from nltk\n",
    "* Using only TF for preprocessing. TF-IDF won't work because observations are too short.\n",
    "* baseline: random forest, logistic\n",
    "\n",
    "16/12\n",
    "* usar spacy para fazer marcacao sintatica. variavel part of speech tag dobraria numero de colunas\n",
    "* achou numero de 0.79 de recall e 0.4 de precision muito baixo\n",
    "* usar shap para interpretabilidade de xgboost\n",
    "\n",
    "usar word2vec (notebook separado)\n",
    "* ref: \n",
    "    * https://github.com/fccoelho/text-mining-cientistas-sociais\n",
    "    * kaggle-quora\n",
    "    * SRI"
   ]
  },
  {
   "cell_type": "code",
   "execution_count": 1,
   "metadata": {},
   "outputs": [],
   "source": [
    "import os\n",
    "import pandas as pd\n",
    "import numpy as np\n",
    "import re\n",
    "#import pickle\n",
    "from collections import Counter\n",
    "#import math\n",
    "import nltk\n",
    "#import requests\n",
    "#import html\n",
    "#from datetime import datetime, timedelta, date\n",
    "import string\n",
    "import json\n",
    "import matplotlib.pyplot as plt\n",
    "import seaborn as sns\n",
    "#from sklearn.feature_extraction.text import TfidfVectorizer\n",
    "#from sklearn.model_selection import cross_val_score\n",
    "#import statsmodels as sm\n",
    "\n",
    "import warnings\n",
    "warnings.filterwarnings('ignore')\n",
    "%matplotlib inline"
   ]
  },
  {
   "cell_type": "code",
   "execution_count": 2,
   "metadata": {},
   "outputs": [],
   "source": [
    "outputs = \"../outputs/\""
   ]
  },
  {
   "cell_type": "code",
   "execution_count": 3,
   "metadata": {},
   "outputs": [],
   "source": [
    "classifications = pd.read_csv(os.path.join('../outputs/from_anvil/', 'classifications_finished.csv'))"
   ]
  },
  {
   "cell_type": "code",
   "execution_count": 4,
   "metadata": {},
   "outputs": [],
   "source": [
    "classifications = classifications.groupby(by='str_id').sum()\n",
    "classifications['class'] = classifications['relevance'].apply(lambda x: 1 if x>=4 else 0)\n",
    "classifications['class_threshold3'] = classifications['relevance'].apply(lambda x: 1 if x>=3 else 0)\n",
    "classifications.reset_index(inplace=True)\n",
    "classifications.rename(columns = {'str_id': 'id'}, inplace=True)"
   ]
  },
  {
   "cell_type": "markdown",
   "metadata": {},
   "source": [
    "# get text from original database"
   ]
  },
  {
   "cell_type": "code",
   "execution_count": 5,
   "metadata": {},
   "outputs": [],
   "source": [
    "text_data = pd.read_json(os.path.join(outputs, \"tweets_filtered.json\"))\n",
    "text_data.rename(columns = {'_id': 'id'}, inplace=True)"
   ]
  },
  {
   "cell_type": "code",
   "execution_count": 6,
   "metadata": {},
   "outputs": [
    {
     "data": {
      "text/html": [
       "<div>\n",
       "<style scoped>\n",
       "    .dataframe tbody tr th:only-of-type {\n",
       "        vertical-align: middle;\n",
       "    }\n",
       "\n",
       "    .dataframe tbody tr th {\n",
       "        vertical-align: top;\n",
       "    }\n",
       "\n",
       "    .dataframe thead th {\n",
       "        text-align: right;\n",
       "    }\n",
       "</style>\n",
       "<table border=\"1\" class=\"dataframe\">\n",
       "  <thead>\n",
       "    <tr style=\"text-align: right;\">\n",
       "      <th></th>\n",
       "      <th>id</th>\n",
       "      <th>relevance</th>\n",
       "      <th>class</th>\n",
       "      <th>class_threshold3</th>\n",
       "      <th>date</th>\n",
       "      <th>text</th>\n",
       "      <th>text_original</th>\n",
       "    </tr>\n",
       "  </thead>\n",
       "  <tbody>\n",
       "    <tr>\n",
       "      <th>0</th>\n",
       "      <td>699069305468551169</td>\n",
       "      <td>2</td>\n",
       "      <td>0</td>\n",
       "      <td>0</td>\n",
       "      <td>2016-02-15</td>\n",
       "      <td>Brasil tera 55 mil militares nas ruas para com...</td>\n",
       "      <td>Brasil terá 55 mil militares nas ruas para com...</td>\n",
       "    </tr>\n",
       "    <tr>\n",
       "      <th>1</th>\n",
       "      <td>699164279472263170</td>\n",
       "      <td>3</td>\n",
       "      <td>0</td>\n",
       "      <td>1</td>\n",
       "      <td>2016-02-15</td>\n",
       "      <td>Depois do exercito abandonar o combate aos foc...</td>\n",
       "      <td>Depois do exército abandonar o combate aos foc...</td>\n",
       "    </tr>\n",
       "    <tr>\n",
       "      <th>2</th>\n",
       "      <td>699264346304618496</td>\n",
       "      <td>1</td>\n",
       "      <td>0</td>\n",
       "      <td>0</td>\n",
       "      <td>2016-02-15</td>\n",
       "      <td>Farmaceuticos recebem treinamento sobre dengue...</td>\n",
       "      <td>Farmacêuticos recebem treinamento sobre dengue...</td>\n",
       "    </tr>\n",
       "    <tr>\n",
       "      <th>3</th>\n",
       "      <td>699266282646994944</td>\n",
       "      <td>3</td>\n",
       "      <td>0</td>\n",
       "      <td>1</td>\n",
       "      <td>2016-02-15</td>\n",
       "      <td>Farmaceuticos recebem treinamento sobre dengue...</td>\n",
       "      <td>Farmacêuticos recebem treinamento sobre dengue...</td>\n",
       "    </tr>\n",
       "    <tr>\n",
       "      <th>4</th>\n",
       "      <td>699315864122892288</td>\n",
       "      <td>0</td>\n",
       "      <td>0</td>\n",
       "      <td>0</td>\n",
       "      <td>2016-02-15</td>\n",
       "      <td>RT @g1: Morador do DF faz 'rap da dengue': 'Ag...</td>\n",
       "      <td>RT @g1: Morador do DF faz 'rap da dengue': 'Ag...</td>\n",
       "    </tr>\n",
       "    <tr>\n",
       "      <th>5</th>\n",
       "      <td>699317409254133760</td>\n",
       "      <td>0</td>\n",
       "      <td>0</td>\n",
       "      <td>0</td>\n",
       "      <td>2016-02-15</td>\n",
       "      <td>RT @BolsonaroZuero: eu assistindo o pronunciam...</td>\n",
       "      <td>RT @BolsonaroZuero: eu assistindo o pronunciam...</td>\n",
       "    </tr>\n",
       "    <tr>\n",
       "      <th>6</th>\n",
       "      <td>699349195669438464</td>\n",
       "      <td>4</td>\n",
       "      <td>1</td>\n",
       "      <td>1</td>\n",
       "      <td>2016-02-15</td>\n",
       "      <td>Visconde do Rio Branco tem mais de 60 casos de...</td>\n",
       "      <td>Visconde do Rio Branco tem mais de 60 casos de...</td>\n",
       "    </tr>\n",
       "    <tr>\n",
       "      <th>7</th>\n",
       "      <td>699360048485679104</td>\n",
       "      <td>0</td>\n",
       "      <td>0</td>\n",
       "      <td>0</td>\n",
       "      <td>2016-02-15</td>\n",
       "      <td>@CamillaUckers Gostei de um video @YouTube de ...</td>\n",
       "      <td>@CamillaUckers Gostei de um vídeo @YouTube de ...</td>\n",
       "    </tr>\n",
       "    <tr>\n",
       "      <th>8</th>\n",
       "      <td>699389002210791429</td>\n",
       "      <td>2</td>\n",
       "      <td>0</td>\n",
       "      <td>0</td>\n",
       "      <td>2016-02-15</td>\n",
       "      <td>To com um desconforto no olho que certo que e ...</td>\n",
       "      <td>To com um desconforto no olho que certo que é ...</td>\n",
       "    </tr>\n",
       "    <tr>\n",
       "      <th>9</th>\n",
       "      <td>699402525007605760</td>\n",
       "      <td>1</td>\n",
       "      <td>0</td>\n",
       "      <td>0</td>\n",
       "      <td>2016-02-15</td>\n",
       "      <td>RT @adreanu: essas campanha contra o aedes dev...</td>\n",
       "      <td>RT @adreanu: essas campanha contra o aedes dev...</td>\n",
       "    </tr>\n",
       "    <tr>\n",
       "      <th>10</th>\n",
       "      <td>699527565619363840</td>\n",
       "      <td>3</td>\n",
       "      <td>0</td>\n",
       "      <td>1</td>\n",
       "      <td>2016-02-16</td>\n",
       "      <td>RT @Danilosnider: Mano se eu fosse mulher...eu...</td>\n",
       "      <td>RT @Danilosnider: Mano se eu fosse mulher...eu...</td>\n",
       "    </tr>\n",
       "    <tr>\n",
       "      <th>11</th>\n",
       "      <td>699537995112849409</td>\n",
       "      <td>0</td>\n",
       "      <td>0</td>\n",
       "      <td>0</td>\n",
       "      <td>2016-02-16</td>\n",
       "      <td>\"Entao ontem entrevista d Tchurma d Ministros ...</td>\n",
       "      <td>\"Então ontem entrevista d Tchurma d Ministros ...</td>\n",
       "    </tr>\n",
       "    <tr>\n",
       "      <th>12</th>\n",
       "      <td>699550910209339392</td>\n",
       "      <td>2</td>\n",
       "      <td>0</td>\n",
       "      <td>0</td>\n",
       "      <td>2016-02-16</td>\n",
       "      <td>#Folha Honduras tem 40 casos de Guillain-Barre...</td>\n",
       "      <td>#Folha Honduras tem 40 casos de Guillain-Barré...</td>\n",
       "    </tr>\n",
       "    <tr>\n",
       "      <th>13</th>\n",
       "      <td>699566180906840064</td>\n",
       "      <td>0</td>\n",
       "      <td>0</td>\n",
       "      <td>0</td>\n",
       "      <td>2016-02-16</td>\n",
       "      <td>RT @pedrofilindo: aedes aegypti agora alem de ...</td>\n",
       "      <td>RT @pedrofilindo: aedes aegypti agora além de ...</td>\n",
       "    </tr>\n",
       "    <tr>\n",
       "      <th>14</th>\n",
       "      <td>699611123205582849</td>\n",
       "      <td>0</td>\n",
       "      <td>0</td>\n",
       "      <td>0</td>\n",
       "      <td>2016-02-16</td>\n",
       "      <td>Ginecologista em Sete Lagoas, Exames preventiv...</td>\n",
       "      <td>Ginecologista em Sete Lagoas, Exames preventiv...</td>\n",
       "    </tr>\n",
       "    <tr>\n",
       "      <th>15</th>\n",
       "      <td>699619645658112000</td>\n",
       "      <td>0</td>\n",
       "      <td>0</td>\n",
       "      <td>0</td>\n",
       "      <td>2016-02-16</td>\n",
       "      <td>RT @queissosenhor: agora temos a solucao pro z...</td>\n",
       "      <td>RT @queissosenhor: agora temos a solução pro z...</td>\n",
       "    </tr>\n",
       "    <tr>\n",
       "      <th>16</th>\n",
       "      <td>699621857981386752</td>\n",
       "      <td>0</td>\n",
       "      <td>0</td>\n",
       "      <td>0</td>\n",
       "      <td>2016-02-16</td>\n",
       "      <td>Marinha combate 'Aedes' no Rio; morador esvazi...</td>\n",
       "      <td>Marinha combate 'Aedes' no Rio; morador esvazi...</td>\n",
       "    </tr>\n",
       "    <tr>\n",
       "      <th>17</th>\n",
       "      <td>699671645640851457</td>\n",
       "      <td>0</td>\n",
       "      <td>0</td>\n",
       "      <td>0</td>\n",
       "      <td>2016-02-16</td>\n",
       "      <td>RT @GrandePicos: PI:Em meio a combate ao Aedes...</td>\n",
       "      <td>RT @GrandePicos: PI:Em meio a combate ao Aedes...</td>\n",
       "    </tr>\n",
       "    <tr>\n",
       "      <th>18</th>\n",
       "      <td>699682409839771649</td>\n",
       "      <td>0</td>\n",
       "      <td>0</td>\n",
       "      <td>0</td>\n",
       "      <td>2016-02-16</td>\n",
       "      <td>E Dilma quer multar o cidadao kkkk @tonymacedo...</td>\n",
       "      <td>E Dilma quer multar o cidadão kkkk @tonymacedo...</td>\n",
       "    </tr>\n",
       "    <tr>\n",
       "      <th>19</th>\n",
       "      <td>699692797792800768</td>\n",
       "      <td>1</td>\n",
       "      <td>0</td>\n",
       "      <td>0</td>\n",
       "      <td>2016-02-16</td>\n",
       "      <td>RT @Carlos_Gaguim: #NOTICIA\\nhttps://t.co/Gnoe...</td>\n",
       "      <td>RT @Carlos_Gaguim: #NOTICIA\\nhttps://t.co/Gnoe...</td>\n",
       "    </tr>\n",
       "    <tr>\n",
       "      <th>20</th>\n",
       "      <td>699725430035783680</td>\n",
       "      <td>1</td>\n",
       "      <td>0</td>\n",
       "      <td>0</td>\n",
       "      <td>2016-02-16</td>\n",
       "      <td>Nossa gente alem de zika e chikungunya agora t...</td>\n",
       "      <td>Nossa gente alem de zika e chikungunya agora t...</td>\n",
       "    </tr>\n",
       "    <tr>\n",
       "      <th>21</th>\n",
       "      <td>699737991623897088</td>\n",
       "      <td>0</td>\n",
       "      <td>0</td>\n",
       "      <td>0</td>\n",
       "      <td>2016-02-16</td>\n",
       "      <td>#17prendalula enquanto os \"nordestino\" defende...</td>\n",
       "      <td>#17prendalula enquanto os \"nordestino\" defende...</td>\n",
       "    </tr>\n",
       "    <tr>\n",
       "      <th>22</th>\n",
       "      <td>699778043498274816</td>\n",
       "      <td>0</td>\n",
       "      <td>0</td>\n",
       "      <td>0</td>\n",
       "      <td>2016-02-16</td>\n",
       "      <td>Anvisa registra teste rapido para deteccao do ...</td>\n",
       "      <td>Anvisa registra teste rápido para detecção do ...</td>\n",
       "    </tr>\n",
       "    <tr>\n",
       "      <th>23</th>\n",
       "      <td>699847387074826242</td>\n",
       "      <td>0</td>\n",
       "      <td>0</td>\n",
       "      <td>0</td>\n",
       "      <td>2016-02-17</td>\n",
       "      <td>Liquido no cerebro de bebes com zika indica ou...</td>\n",
       "      <td>Líquido no cérebro de bebês com zika indica ou...</td>\n",
       "    </tr>\n",
       "    <tr>\n",
       "      <th>24</th>\n",
       "      <td>699896074891194368</td>\n",
       "      <td>4</td>\n",
       "      <td>1</td>\n",
       "      <td>1</td>\n",
       "      <td>2016-02-17</td>\n",
       "      <td>Adote essa atitude e ajude no combate ao Aedes...</td>\n",
       "      <td>Adote essa atitude e ajude no combate ao Aedes...</td>\n",
       "    </tr>\n",
       "    <tr>\n",
       "      <th>25</th>\n",
       "      <td>699917211385929732</td>\n",
       "      <td>0</td>\n",
       "      <td>0</td>\n",
       "      <td>0</td>\n",
       "      <td>2016-02-17</td>\n",
       "      <td>RT @cartacapital: O zika ameaca tornar-se epid...</td>\n",
       "      <td>RT @cartacapital: O zika ameaça tornar-se epid...</td>\n",
       "    </tr>\n",
       "    <tr>\n",
       "      <th>26</th>\n",
       "      <td>699941682196934656</td>\n",
       "      <td>0</td>\n",
       "      <td>0</td>\n",
       "      <td>0</td>\n",
       "      <td>2016-02-17</td>\n",
       "      <td>RT @umtroucha: Como nasceu o Zika virus https:...</td>\n",
       "      <td>RT @umtroucha: Como nasceu o Zika vírus https:...</td>\n",
       "    </tr>\n",
       "    <tr>\n",
       "      <th>27</th>\n",
       "      <td>699951073633701888</td>\n",
       "      <td>0</td>\n",
       "      <td>0</td>\n",
       "      <td>0</td>\n",
       "      <td>2016-02-17</td>\n",
       "      <td>voce sdv meu fc @/loserhalx ? conta na minha b...</td>\n",
       "      <td>voce sdv meu fc @/loserhalx ? conta na minha b...</td>\n",
       "    </tr>\n",
       "    <tr>\n",
       "      <th>28</th>\n",
       "      <td>699973359379939328</td>\n",
       "      <td>0</td>\n",
       "      <td>0</td>\n",
       "      <td>0</td>\n",
       "      <td>2016-02-17</td>\n",
       "      <td>Aedes aegypti e tema de palestras: Equipe da S...</td>\n",
       "      <td>Aedes aegypti é tema de palestras: Equipe da S...</td>\n",
       "    </tr>\n",
       "    <tr>\n",
       "      <th>29</th>\n",
       "      <td>699979692925779969</td>\n",
       "      <td>2</td>\n",
       "      <td>0</td>\n",
       "      <td>0</td>\n",
       "      <td>2016-02-17</td>\n",
       "      <td>#OperacaoBetaLab Focos do mosquito da dengue s...</td>\n",
       "      <td>#OperacaoBetaLab Focos do mosquito da dengue s...</td>\n",
       "    </tr>\n",
       "    <tr>\n",
       "      <th>...</th>\n",
       "      <td>...</td>\n",
       "      <td>...</td>\n",
       "      <td>...</td>\n",
       "      <td>...</td>\n",
       "      <td>...</td>\n",
       "      <td>...</td>\n",
       "      <td>...</td>\n",
       "    </tr>\n",
       "    <tr>\n",
       "      <th>970</th>\n",
       "      <td>998777700033671168</td>\n",
       "      <td>0</td>\n",
       "      <td>0</td>\n",
       "      <td>0</td>\n",
       "      <td>2018-05-22</td>\n",
       "      <td>RT @zemogar: UCR investiga modelo matematico p...</td>\n",
       "      <td>RT @zemogar: UCR investiga modelo matemático p...</td>\n",
       "    </tr>\n",
       "    <tr>\n",
       "      <th>971</th>\n",
       "      <td>998904745833238528</td>\n",
       "      <td>4</td>\n",
       "      <td>1</td>\n",
       "      <td>1</td>\n",
       "      <td>2018-05-22</td>\n",
       "      <td>eu acabei de ser picado por um aedes aegypti n...</td>\n",
       "      <td>eu acabei de ser picado por um aedes aegypti n...</td>\n",
       "    </tr>\n",
       "    <tr>\n",
       "      <th>972</th>\n",
       "      <td>999088747676360704</td>\n",
       "      <td>3</td>\n",
       "      <td>0</td>\n",
       "      <td>1</td>\n",
       "      <td>2018-05-22</td>\n",
       "      <td>RT @duuda_marins: aaaaaaaah minha companheira ...</td>\n",
       "      <td>RT @duuda_marins: aaaaaaaah minha companheira ...</td>\n",
       "    </tr>\n",
       "    <tr>\n",
       "      <th>973</th>\n",
       "      <td>999091664848412672</td>\n",
       "      <td>0</td>\n",
       "      <td>0</td>\n",
       "      <td>0</td>\n",
       "      <td>2018-05-22</td>\n",
       "      <td>eu tmb queria saber ushasu https://t.co/I9Q61U...</td>\n",
       "      <td>eu tmb queria saber ushasu https://t.co/I9Q61U...</td>\n",
       "    </tr>\n",
       "    <tr>\n",
       "      <th>974</th>\n",
       "      <td>999108316897869826</td>\n",
       "      <td>5</td>\n",
       "      <td>1</td>\n",
       "      <td>1</td>\n",
       "      <td>2018-05-22</td>\n",
       "      <td>Que coisa bizarra,foi so mamae falar:ta com de...</td>\n",
       "      <td>Que coisa bizarra,foi só mamãe falar:tá com de...</td>\n",
       "    </tr>\n",
       "    <tr>\n",
       "      <th>975</th>\n",
       "      <td>999411182581833728</td>\n",
       "      <td>0</td>\n",
       "      <td>0</td>\n",
       "      <td>0</td>\n",
       "      <td>2018-05-23</td>\n",
       "      <td>@joyolimpio caralho esse ano ta zika, so falta...</td>\n",
       "      <td>@joyolimpio caralho esse ano tá zika, só falta...</td>\n",
       "    </tr>\n",
       "    <tr>\n",
       "      <th>976</th>\n",
       "      <td>999466649379135488</td>\n",
       "      <td>1</td>\n",
       "      <td>0</td>\n",
       "      <td>0</td>\n",
       "      <td>2018-05-23</td>\n",
       "      <td>Audiencia Publica Debate sobre o Surto da Deng...</td>\n",
       "      <td>Audiência Pública Debate sobre o Surto da Deng...</td>\n",
       "    </tr>\n",
       "    <tr>\n",
       "      <th>977</th>\n",
       "      <td>999480619615825925</td>\n",
       "      <td>2</td>\n",
       "      <td>0</td>\n",
       "      <td>0</td>\n",
       "      <td>2018-05-23</td>\n",
       "      <td>Mosquito da Dengue, mata pessoas... Devemos ma...</td>\n",
       "      <td>Mosquito da Dengue, mata pessoas... Devemos ma...</td>\n",
       "    </tr>\n",
       "    <tr>\n",
       "      <th>978</th>\n",
       "      <td>999770640260452353</td>\n",
       "      <td>0</td>\n",
       "      <td>0</td>\n",
       "      <td>0</td>\n",
       "      <td>2018-05-24</td>\n",
       "      <td>Pega Babadoo — pego quem viado ? nem chikungun...</td>\n",
       "      <td>Pega Babadoo — pego quem viado ? nem chikungun...</td>\n",
       "    </tr>\n",
       "    <tr>\n",
       "      <th>979</th>\n",
       "      <td>999808609591717889</td>\n",
       "      <td>0</td>\n",
       "      <td>0</td>\n",
       "      <td>0</td>\n",
       "      <td>2018-05-24</td>\n",
       "      <td>E a Globo botando o povo pra brigar nos mercad...</td>\n",
       "      <td>E a Globo botando o povo pra brigar nos mercad...</td>\n",
       "    </tr>\n",
       "    <tr>\n",
       "      <th>980</th>\n",
       "      <td>999833837042589697</td>\n",
       "      <td>5</td>\n",
       "      <td>1</td>\n",
       "      <td>1</td>\n",
       "      <td>2018-05-24</td>\n",
       "      <td>segundo minha irma estou com zika e pior q o s...</td>\n",
       "      <td>segundo minha irmã estou com zika e pior q o s...</td>\n",
       "    </tr>\n",
       "    <tr>\n",
       "      <th>981</th>\n",
       "      <td>999834516322648065</td>\n",
       "      <td>4</td>\n",
       "      <td>1</td>\n",
       "      <td>1</td>\n",
       "      <td>2018-05-24</td>\n",
       "      <td>@vterleski eu ja tive dengue e nossa bem pior ...</td>\n",
       "      <td>@vterleski eu já tive dengue e nossa bem pior ...</td>\n",
       "    </tr>\n",
       "    <tr>\n",
       "      <th>982</th>\n",
       "      <td>1000057171709779968</td>\n",
       "      <td>0</td>\n",
       "      <td>0</td>\n",
       "      <td>0</td>\n",
       "      <td>2018-05-25</td>\n",
       "      <td>RT @Alehkiss90: @GenPauloChagas Inundou?Chama ...</td>\n",
       "      <td>RT @Alehkiss90: @GenPauloChagas Inundou?Chama ...</td>\n",
       "    </tr>\n",
       "    <tr>\n",
       "      <th>983</th>\n",
       "      <td>1000075129886560262</td>\n",
       "      <td>0</td>\n",
       "      <td>0</td>\n",
       "      <td>0</td>\n",
       "      <td>2018-05-25</td>\n",
       "      <td>Inundou? Chama o EXERCITO. Falta agua? Chama o...</td>\n",
       "      <td>Inundou? Chama o EXÉRCITO. Falta agua? Chama o...</td>\n",
       "    </tr>\n",
       "    <tr>\n",
       "      <th>984</th>\n",
       "      <td>1000104310632603649</td>\n",
       "      <td>0</td>\n",
       "      <td>0</td>\n",
       "      <td>0</td>\n",
       "      <td>2018-05-25</td>\n",
       "      <td>Inundou?Chama o exercito\\nfalta agua?chama o e...</td>\n",
       "      <td>Inundou?Chama o exercito\\nfalta agua?chama o e...</td>\n",
       "    </tr>\n",
       "    <tr>\n",
       "      <th>985</th>\n",
       "      <td>1000106720549654528</td>\n",
       "      <td>2</td>\n",
       "      <td>0</td>\n",
       "      <td>0</td>\n",
       "      <td>2018-05-25</td>\n",
       "      <td>Nao vejo a hora de chegar em casa. Nao aguento...</td>\n",
       "      <td>Não vejo a hora de chegar em casa. Não aguento...</td>\n",
       "    </tr>\n",
       "    <tr>\n",
       "      <th>986</th>\n",
       "      <td>1000151914003214336</td>\n",
       "      <td>0</td>\n",
       "      <td>0</td>\n",
       "      <td>0</td>\n",
       "      <td>2018-05-25</td>\n",
       "      <td>RT @castanhav: Inundou? Chama o exercito\\nfalt...</td>\n",
       "      <td>RT @castanhav: Inundou? Chama o exercito\\nfalt...</td>\n",
       "    </tr>\n",
       "    <tr>\n",
       "      <th>987</th>\n",
       "      <td>1000154242064281601</td>\n",
       "      <td>0</td>\n",
       "      <td>0</td>\n",
       "      <td>0</td>\n",
       "      <td>2018-05-25</td>\n",
       "      <td>RT @WiversonBR: Falta agua? chama o exercito, ...</td>\n",
       "      <td>RT @WiversonBR: Falta água? chama o exercito, ...</td>\n",
       "    </tr>\n",
       "    <tr>\n",
       "      <th>988</th>\n",
       "      <td>1000179821836718083</td>\n",
       "      <td>0</td>\n",
       "      <td>0</td>\n",
       "      <td>0</td>\n",
       "      <td>2018-05-25</td>\n",
       "      <td>meu ccat e mais parado que agua da dengue</td>\n",
       "      <td>meu ccat é mais parado que agua da dengue</td>\n",
       "    </tr>\n",
       "    <tr>\n",
       "      <th>989</th>\n",
       "      <td>1000235160485466112</td>\n",
       "      <td>0</td>\n",
       "      <td>0</td>\n",
       "      <td>0</td>\n",
       "      <td>2018-05-26</td>\n",
       "      <td>Fala pro Ceis que eu n curto mto ir na igreja ...</td>\n",
       "      <td>Fala pro Ceis que eu n curto mto ir na igreja ...</td>\n",
       "    </tr>\n",
       "    <tr>\n",
       "      <th>990</th>\n",
       "      <td>1000376954342854656</td>\n",
       "      <td>0</td>\n",
       "      <td>0</td>\n",
       "      <td>0</td>\n",
       "      <td>2018-05-26</td>\n",
       "      <td>RT @RGLIMA: @DaniloGentili Inundou? Chama o Ex...</td>\n",
       "      <td>RT @RGLIMA: @DaniloGentili Inundou? Chama o Ex...</td>\n",
       "    </tr>\n",
       "    <tr>\n",
       "      <th>991</th>\n",
       "      <td>1000402860163682304</td>\n",
       "      <td>0</td>\n",
       "      <td>0</td>\n",
       "      <td>0</td>\n",
       "      <td>2018-05-26</td>\n",
       "      <td>RT @juniornovarino: Inundou? Faltou agua? Elei...</td>\n",
       "      <td>RT @juniornovarino: Inundou? Faltou água? Elei...</td>\n",
       "    </tr>\n",
       "    <tr>\n",
       "      <th>992</th>\n",
       "      <td>1000451600987709440</td>\n",
       "      <td>0</td>\n",
       "      <td>0</td>\n",
       "      <td>0</td>\n",
       "      <td>2018-05-26</td>\n",
       "      <td>Study finds body temperature as major barrier ...</td>\n",
       "      <td>Study finds body temperature as major barrier ...</td>\n",
       "    </tr>\n",
       "    <tr>\n",
       "      <th>993</th>\n",
       "      <td>1000527883331358720</td>\n",
       "      <td>4</td>\n",
       "      <td>1</td>\n",
       "      <td>1</td>\n",
       "      <td>2018-05-26</td>\n",
       "      <td>Dengue e Chikungunya - O perigo aumentou. E a ...</td>\n",
       "      <td>Dengue e Chikungunya - O perigo aumentou. E a ...</td>\n",
       "    </tr>\n",
       "    <tr>\n",
       "      <th>994</th>\n",
       "      <td>1000605839294648320</td>\n",
       "      <td>0</td>\n",
       "      <td>0</td>\n",
       "      <td>0</td>\n",
       "      <td>2018-05-27</td>\n",
       "      <td>Varios copos dando dengue Aki na Santa Rita kk</td>\n",
       "      <td>Vários copos dando dengue Aki na Santa Rita kk</td>\n",
       "    </tr>\n",
       "    <tr>\n",
       "      <th>995</th>\n",
       "      <td>1000740798114222081</td>\n",
       "      <td>0</td>\n",
       "      <td>0</td>\n",
       "      <td>0</td>\n",
       "      <td>2018-05-27</td>\n",
       "      <td>RT @EnquetesFutebas: So eu acho que o Diogo Ba...</td>\n",
       "      <td>RT @EnquetesFutebas: Só eu acho que o Diogo Ba...</td>\n",
       "    </tr>\n",
       "    <tr>\n",
       "      <th>996</th>\n",
       "      <td>1000763927146450944</td>\n",
       "      <td>4</td>\n",
       "      <td>1</td>\n",
       "      <td>1</td>\n",
       "      <td>2018-05-27</td>\n",
       "      <td>Nao recomendo ninguem a pegar Zika, serio</td>\n",
       "      <td>Não recomendo ninguém a pegar Zika, serio</td>\n",
       "    </tr>\n",
       "    <tr>\n",
       "      <th>997</th>\n",
       "      <td>1000764889361780736</td>\n",
       "      <td>0</td>\n",
       "      <td>0</td>\n",
       "      <td>0</td>\n",
       "      <td>2018-05-27</td>\n",
       "      <td>@_ThiagoAndrei E deixa minha zika pra traz ???...</td>\n",
       "      <td>@_ThiagoAndrei E deixa minha zika pra traz ???...</td>\n",
       "    </tr>\n",
       "    <tr>\n",
       "      <th>998</th>\n",
       "      <td>1000841034488778752</td>\n",
       "      <td>0</td>\n",
       "      <td>0</td>\n",
       "      <td>0</td>\n",
       "      <td>2018-05-27</td>\n",
       "      <td>kkkkkkkkk ele tem problema mas eu amo https://...</td>\n",
       "      <td>kkkkkkkkk ele tem problema mas eu amo https://...</td>\n",
       "    </tr>\n",
       "    <tr>\n",
       "      <th>999</th>\n",
       "      <td>1000885773028200449</td>\n",
       "      <td>0</td>\n",
       "      <td>0</td>\n",
       "      <td>0</td>\n",
       "      <td>2018-05-27</td>\n",
       "      <td>num falei eu so zika ao q ela esqueceu de colo...</td>\n",
       "      <td>num falei eu sô zika ao q ela esqueceu de colo...</td>\n",
       "    </tr>\n",
       "  </tbody>\n",
       "</table>\n",
       "<p>1000 rows × 7 columns</p>\n",
       "</div>"
      ],
      "text/plain": [
       "                      id  relevance  class  class_threshold3       date  \\\n",
       "0     699069305468551169          2      0                 0 2016-02-15   \n",
       "1     699164279472263170          3      0                 1 2016-02-15   \n",
       "2     699264346304618496          1      0                 0 2016-02-15   \n",
       "3     699266282646994944          3      0                 1 2016-02-15   \n",
       "4     699315864122892288          0      0                 0 2016-02-15   \n",
       "5     699317409254133760          0      0                 0 2016-02-15   \n",
       "6     699349195669438464          4      1                 1 2016-02-15   \n",
       "7     699360048485679104          0      0                 0 2016-02-15   \n",
       "8     699389002210791429          2      0                 0 2016-02-15   \n",
       "9     699402525007605760          1      0                 0 2016-02-15   \n",
       "10    699527565619363840          3      0                 1 2016-02-16   \n",
       "11    699537995112849409          0      0                 0 2016-02-16   \n",
       "12    699550910209339392          2      0                 0 2016-02-16   \n",
       "13    699566180906840064          0      0                 0 2016-02-16   \n",
       "14    699611123205582849          0      0                 0 2016-02-16   \n",
       "15    699619645658112000          0      0                 0 2016-02-16   \n",
       "16    699621857981386752          0      0                 0 2016-02-16   \n",
       "17    699671645640851457          0      0                 0 2016-02-16   \n",
       "18    699682409839771649          0      0                 0 2016-02-16   \n",
       "19    699692797792800768          1      0                 0 2016-02-16   \n",
       "20    699725430035783680          1      0                 0 2016-02-16   \n",
       "21    699737991623897088          0      0                 0 2016-02-16   \n",
       "22    699778043498274816          0      0                 0 2016-02-16   \n",
       "23    699847387074826242          0      0                 0 2016-02-17   \n",
       "24    699896074891194368          4      1                 1 2016-02-17   \n",
       "25    699917211385929732          0      0                 0 2016-02-17   \n",
       "26    699941682196934656          0      0                 0 2016-02-17   \n",
       "27    699951073633701888          0      0                 0 2016-02-17   \n",
       "28    699973359379939328          0      0                 0 2016-02-17   \n",
       "29    699979692925779969          2      0                 0 2016-02-17   \n",
       "..                   ...        ...    ...               ...        ...   \n",
       "970   998777700033671168          0      0                 0 2018-05-22   \n",
       "971   998904745833238528          4      1                 1 2018-05-22   \n",
       "972   999088747676360704          3      0                 1 2018-05-22   \n",
       "973   999091664848412672          0      0                 0 2018-05-22   \n",
       "974   999108316897869826          5      1                 1 2018-05-22   \n",
       "975   999411182581833728          0      0                 0 2018-05-23   \n",
       "976   999466649379135488          1      0                 0 2018-05-23   \n",
       "977   999480619615825925          2      0                 0 2018-05-23   \n",
       "978   999770640260452353          0      0                 0 2018-05-24   \n",
       "979   999808609591717889          0      0                 0 2018-05-24   \n",
       "980   999833837042589697          5      1                 1 2018-05-24   \n",
       "981   999834516322648065          4      1                 1 2018-05-24   \n",
       "982  1000057171709779968          0      0                 0 2018-05-25   \n",
       "983  1000075129886560262          0      0                 0 2018-05-25   \n",
       "984  1000104310632603649          0      0                 0 2018-05-25   \n",
       "985  1000106720549654528          2      0                 0 2018-05-25   \n",
       "986  1000151914003214336          0      0                 0 2018-05-25   \n",
       "987  1000154242064281601          0      0                 0 2018-05-25   \n",
       "988  1000179821836718083          0      0                 0 2018-05-25   \n",
       "989  1000235160485466112          0      0                 0 2018-05-26   \n",
       "990  1000376954342854656          0      0                 0 2018-05-26   \n",
       "991  1000402860163682304          0      0                 0 2018-05-26   \n",
       "992  1000451600987709440          0      0                 0 2018-05-26   \n",
       "993  1000527883331358720          4      1                 1 2018-05-26   \n",
       "994  1000605839294648320          0      0                 0 2018-05-27   \n",
       "995  1000740798114222081          0      0                 0 2018-05-27   \n",
       "996  1000763927146450944          4      1                 1 2018-05-27   \n",
       "997  1000764889361780736          0      0                 0 2018-05-27   \n",
       "998  1000841034488778752          0      0                 0 2018-05-27   \n",
       "999  1000885773028200449          0      0                 0 2018-05-27   \n",
       "\n",
       "                                                  text  \\\n",
       "0    Brasil tera 55 mil militares nas ruas para com...   \n",
       "1    Depois do exercito abandonar o combate aos foc...   \n",
       "2    Farmaceuticos recebem treinamento sobre dengue...   \n",
       "3    Farmaceuticos recebem treinamento sobre dengue...   \n",
       "4    RT @g1: Morador do DF faz 'rap da dengue': 'Ag...   \n",
       "5    RT @BolsonaroZuero: eu assistindo o pronunciam...   \n",
       "6    Visconde do Rio Branco tem mais de 60 casos de...   \n",
       "7    @CamillaUckers Gostei de um video @YouTube de ...   \n",
       "8    To com um desconforto no olho que certo que e ...   \n",
       "9    RT @adreanu: essas campanha contra o aedes dev...   \n",
       "10   RT @Danilosnider: Mano se eu fosse mulher...eu...   \n",
       "11   \"Entao ontem entrevista d Tchurma d Ministros ...   \n",
       "12   #Folha Honduras tem 40 casos de Guillain-Barre...   \n",
       "13   RT @pedrofilindo: aedes aegypti agora alem de ...   \n",
       "14   Ginecologista em Sete Lagoas, Exames preventiv...   \n",
       "15   RT @queissosenhor: agora temos a solucao pro z...   \n",
       "16   Marinha combate 'Aedes' no Rio; morador esvazi...   \n",
       "17   RT @GrandePicos: PI:Em meio a combate ao Aedes...   \n",
       "18   E Dilma quer multar o cidadao kkkk @tonymacedo...   \n",
       "19   RT @Carlos_Gaguim: #NOTICIA\\nhttps://t.co/Gnoe...   \n",
       "20   Nossa gente alem de zika e chikungunya agora t...   \n",
       "21   #17prendalula enquanto os \"nordestino\" defende...   \n",
       "22   Anvisa registra teste rapido para deteccao do ...   \n",
       "23   Liquido no cerebro de bebes com zika indica ou...   \n",
       "24   Adote essa atitude e ajude no combate ao Aedes...   \n",
       "25   RT @cartacapital: O zika ameaca tornar-se epid...   \n",
       "26   RT @umtroucha: Como nasceu o Zika virus https:...   \n",
       "27   voce sdv meu fc @/loserhalx ? conta na minha b...   \n",
       "28   Aedes aegypti e tema de palestras: Equipe da S...   \n",
       "29   #OperacaoBetaLab Focos do mosquito da dengue s...   \n",
       "..                                                 ...   \n",
       "970  RT @zemogar: UCR investiga modelo matematico p...   \n",
       "971  eu acabei de ser picado por um aedes aegypti n...   \n",
       "972  RT @duuda_marins: aaaaaaaah minha companheira ...   \n",
       "973  eu tmb queria saber ushasu https://t.co/I9Q61U...   \n",
       "974  Que coisa bizarra,foi so mamae falar:ta com de...   \n",
       "975  @joyolimpio caralho esse ano ta zika, so falta...   \n",
       "976  Audiencia Publica Debate sobre o Surto da Deng...   \n",
       "977  Mosquito da Dengue, mata pessoas... Devemos ma...   \n",
       "978  Pega Babadoo — pego quem viado ? nem chikungun...   \n",
       "979  E a Globo botando o povo pra brigar nos mercad...   \n",
       "980  segundo minha irma estou com zika e pior q o s...   \n",
       "981  @vterleski eu ja tive dengue e nossa bem pior ...   \n",
       "982  RT @Alehkiss90: @GenPauloChagas Inundou?Chama ...   \n",
       "983  Inundou? Chama o EXERCITO. Falta agua? Chama o...   \n",
       "984  Inundou?Chama o exercito\\nfalta agua?chama o e...   \n",
       "985  Nao vejo a hora de chegar em casa. Nao aguento...   \n",
       "986  RT @castanhav: Inundou? Chama o exercito\\nfalt...   \n",
       "987  RT @WiversonBR: Falta agua? chama o exercito, ...   \n",
       "988          meu ccat e mais parado que agua da dengue   \n",
       "989  Fala pro Ceis que eu n curto mto ir na igreja ...   \n",
       "990  RT @RGLIMA: @DaniloGentili Inundou? Chama o Ex...   \n",
       "991  RT @juniornovarino: Inundou? Faltou agua? Elei...   \n",
       "992  Study finds body temperature as major barrier ...   \n",
       "993  Dengue e Chikungunya - O perigo aumentou. E a ...   \n",
       "994     Varios copos dando dengue Aki na Santa Rita kk   \n",
       "995  RT @EnquetesFutebas: So eu acho que o Diogo Ba...   \n",
       "996          Nao recomendo ninguem a pegar Zika, serio   \n",
       "997  @_ThiagoAndrei E deixa minha zika pra traz ???...   \n",
       "998  kkkkkkkkk ele tem problema mas eu amo https://...   \n",
       "999  num falei eu so zika ao q ela esqueceu de colo...   \n",
       "\n",
       "                                         text_original  \n",
       "0    Brasil terá 55 mil militares nas ruas para com...  \n",
       "1    Depois do exército abandonar o combate aos foc...  \n",
       "2    Farmacêuticos recebem treinamento sobre dengue...  \n",
       "3    Farmacêuticos recebem treinamento sobre dengue...  \n",
       "4    RT @g1: Morador do DF faz 'rap da dengue': 'Ag...  \n",
       "5    RT @BolsonaroZuero: eu assistindo o pronunciam...  \n",
       "6    Visconde do Rio Branco tem mais de 60 casos de...  \n",
       "7    @CamillaUckers Gostei de um vídeo @YouTube de ...  \n",
       "8    To com um desconforto no olho que certo que é ...  \n",
       "9    RT @adreanu: essas campanha contra o aedes dev...  \n",
       "10   RT @Danilosnider: Mano se eu fosse mulher...eu...  \n",
       "11   \"Então ontem entrevista d Tchurma d Ministros ...  \n",
       "12   #Folha Honduras tem 40 casos de Guillain-Barré...  \n",
       "13   RT @pedrofilindo: aedes aegypti agora além de ...  \n",
       "14   Ginecologista em Sete Lagoas, Exames preventiv...  \n",
       "15   RT @queissosenhor: agora temos a solução pro z...  \n",
       "16   Marinha combate 'Aedes' no Rio; morador esvazi...  \n",
       "17   RT @GrandePicos: PI:Em meio a combate ao Aedes...  \n",
       "18   E Dilma quer multar o cidadão kkkk @tonymacedo...  \n",
       "19   RT @Carlos_Gaguim: #NOTICIA\\nhttps://t.co/Gnoe...  \n",
       "20   Nossa gente alem de zika e chikungunya agora t...  \n",
       "21   #17prendalula enquanto os \"nordestino\" defende...  \n",
       "22   Anvisa registra teste rápido para detecção do ...  \n",
       "23   Líquido no cérebro de bebês com zika indica ou...  \n",
       "24   Adote essa atitude e ajude no combate ao Aedes...  \n",
       "25   RT @cartacapital: O zika ameaça tornar-se epid...  \n",
       "26   RT @umtroucha: Como nasceu o Zika vírus https:...  \n",
       "27   voce sdv meu fc @/loserhalx ? conta na minha b...  \n",
       "28   Aedes aegypti é tema de palestras: Equipe da S...  \n",
       "29   #OperacaoBetaLab Focos do mosquito da dengue s...  \n",
       "..                                                 ...  \n",
       "970  RT @zemogar: UCR investiga modelo matemático p...  \n",
       "971  eu acabei de ser picado por um aedes aegypti n...  \n",
       "972  RT @duuda_marins: aaaaaaaah minha companheira ...  \n",
       "973  eu tmb queria saber ushasu https://t.co/I9Q61U...  \n",
       "974  Que coisa bizarra,foi só mamãe falar:tá com de...  \n",
       "975  @joyolimpio caralho esse ano tá zika, só falta...  \n",
       "976  Audiência Pública Debate sobre o Surto da Deng...  \n",
       "977  Mosquito da Dengue, mata pessoas... Devemos ma...  \n",
       "978  Pega Babadoo — pego quem viado ? nem chikungun...  \n",
       "979  E a Globo botando o povo pra brigar nos mercad...  \n",
       "980  segundo minha irmã estou com zika e pior q o s...  \n",
       "981  @vterleski eu já tive dengue e nossa bem pior ...  \n",
       "982  RT @Alehkiss90: @GenPauloChagas Inundou?Chama ...  \n",
       "983  Inundou? Chama o EXÉRCITO. Falta agua? Chama o...  \n",
       "984  Inundou?Chama o exercito\\nfalta agua?chama o e...  \n",
       "985  Não vejo a hora de chegar em casa. Não aguento...  \n",
       "986  RT @castanhav: Inundou? Chama o exercito\\nfalt...  \n",
       "987  RT @WiversonBR: Falta água? chama o exercito, ...  \n",
       "988          meu ccat é mais parado que agua da dengue  \n",
       "989  Fala pro Ceis que eu n curto mto ir na igreja ...  \n",
       "990  RT @RGLIMA: @DaniloGentili Inundou? Chama o Ex...  \n",
       "991  RT @juniornovarino: Inundou? Faltou água? Elei...  \n",
       "992  Study finds body temperature as major barrier ...  \n",
       "993  Dengue e Chikungunya - O perigo aumentou. E a ...  \n",
       "994     Vários copos dando dengue Aki na Santa Rita kk  \n",
       "995  RT @EnquetesFutebas: Só eu acho que o Diogo Ba...  \n",
       "996          Não recomendo ninguém a pegar Zika, serio  \n",
       "997  @_ThiagoAndrei E deixa minha zika pra traz ???...  \n",
       "998  kkkkkkkkk ele tem problema mas eu amo https://...  \n",
       "999  num falei eu sô zika ao q ela esqueceu de colo...  \n",
       "\n",
       "[1000 rows x 7 columns]"
      ]
     },
     "execution_count": 6,
     "metadata": {},
     "output_type": "execute_result"
    }
   ],
   "source": [
    "data = pd.merge(classifications, text_data, on='id')\n",
    "data.drop(columns=['tid'], inplace=True)\n",
    "data"
   ]
  },
  {
   "cell_type": "markdown",
   "metadata": {},
   "source": [
    "# basic exploration"
   ]
  },
  {
   "cell_type": "code",
   "execution_count": 7,
   "metadata": {},
   "outputs": [
    {
     "name": "stdout",
     "output_type": "stream",
     "text": [
      "<class 'pandas.core.frame.DataFrame'>\n",
      "Int64Index: 1000 entries, 0 to 999\n",
      "Data columns (total 7 columns):\n",
      "id                  1000 non-null int64\n",
      "relevance           1000 non-null int64\n",
      "class               1000 non-null int64\n",
      "class_threshold3    1000 non-null int64\n",
      "date                1000 non-null datetime64[ns]\n",
      "text                1000 non-null object\n",
      "text_original       1000 non-null object\n",
      "dtypes: datetime64[ns](1), int64(4), object(2)\n",
      "memory usage: 62.5+ KB\n"
     ]
    }
   ],
   "source": [
    "data.info()"
   ]
  },
  {
   "cell_type": "code",
   "execution_count": 8,
   "metadata": {
    "scrolled": true
   },
   "outputs": [
    {
     "data": {
      "text/html": [
       "<div>\n",
       "<style scoped>\n",
       "    .dataframe tbody tr th:only-of-type {\n",
       "        vertical-align: middle;\n",
       "    }\n",
       "\n",
       "    .dataframe tbody tr th {\n",
       "        vertical-align: top;\n",
       "    }\n",
       "\n",
       "    .dataframe thead th {\n",
       "        text-align: right;\n",
       "    }\n",
       "</style>\n",
       "<table border=\"1\" class=\"dataframe\">\n",
       "  <thead>\n",
       "    <tr style=\"text-align: right;\">\n",
       "      <th></th>\n",
       "      <th>id</th>\n",
       "      <th>relevance</th>\n",
       "      <th>class</th>\n",
       "      <th>class_threshold3</th>\n",
       "    </tr>\n",
       "  </thead>\n",
       "  <tbody>\n",
       "    <tr>\n",
       "      <th>count</th>\n",
       "      <td>1.000000e+03</td>\n",
       "      <td>1000.000000</td>\n",
       "      <td>1000.000000</td>\n",
       "      <td>1000.000000</td>\n",
       "    </tr>\n",
       "    <tr>\n",
       "      <th>mean</th>\n",
       "      <td>8.387557e+17</td>\n",
       "      <td>1.166000</td>\n",
       "      <td>0.141000</td>\n",
       "      <td>0.207000</td>\n",
       "    </tr>\n",
       "    <tr>\n",
       "      <th>std</th>\n",
       "      <td>1.140594e+17</td>\n",
       "      <td>1.659276</td>\n",
       "      <td>0.348196</td>\n",
       "      <td>0.405358</td>\n",
       "    </tr>\n",
       "    <tr>\n",
       "      <th>min</th>\n",
       "      <td>6.990693e+17</td>\n",
       "      <td>0.000000</td>\n",
       "      <td>0.000000</td>\n",
       "      <td>0.000000</td>\n",
       "    </tr>\n",
       "    <tr>\n",
       "      <th>25%</th>\n",
       "      <td>7.094149e+17</td>\n",
       "      <td>0.000000</td>\n",
       "      <td>0.000000</td>\n",
       "      <td>0.000000</td>\n",
       "    </tr>\n",
       "    <tr>\n",
       "      <th>50%</th>\n",
       "      <td>8.460180e+17</td>\n",
       "      <td>0.000000</td>\n",
       "      <td>0.000000</td>\n",
       "      <td>0.000000</td>\n",
       "    </tr>\n",
       "    <tr>\n",
       "      <th>75%</th>\n",
       "      <td>9.829813e+17</td>\n",
       "      <td>2.000000</td>\n",
       "      <td>0.000000</td>\n",
       "      <td>0.000000</td>\n",
       "    </tr>\n",
       "    <tr>\n",
       "      <th>max</th>\n",
       "      <td>1.000886e+18</td>\n",
       "      <td>6.000000</td>\n",
       "      <td>1.000000</td>\n",
       "      <td>1.000000</td>\n",
       "    </tr>\n",
       "  </tbody>\n",
       "</table>\n",
       "</div>"
      ],
      "text/plain": [
       "                 id    relevance        class  class_threshold3\n",
       "count  1.000000e+03  1000.000000  1000.000000       1000.000000\n",
       "mean   8.387557e+17     1.166000     0.141000          0.207000\n",
       "std    1.140594e+17     1.659276     0.348196          0.405358\n",
       "min    6.990693e+17     0.000000     0.000000          0.000000\n",
       "25%    7.094149e+17     0.000000     0.000000          0.000000\n",
       "50%    8.460180e+17     0.000000     0.000000          0.000000\n",
       "75%    9.829813e+17     2.000000     0.000000          0.000000\n",
       "max    1.000886e+18     6.000000     1.000000          1.000000"
      ]
     },
     "execution_count": 8,
     "metadata": {},
     "output_type": "execute_result"
    }
   ],
   "source": [
    "data.describe()"
   ]
  },
  {
   "cell_type": "markdown",
   "metadata": {},
   "source": [
    "# check if data is unbalanced"
   ]
  },
  {
   "cell_type": "markdown",
   "metadata": {},
   "source": [
    "**Data is unbalanced!**"
   ]
  },
  {
   "cell_type": "markdown",
   "metadata": {},
   "source": [
    "### Threshold 4\n",
    "fazer undersamplig"
   ]
  },
  {
   "cell_type": "code",
   "execution_count": 9,
   "metadata": {},
   "outputs": [
    {
     "data": {
      "image/png": "[encoded data removed]",
      "text/plain": [
       "<Figure size 576x288 with 1 Axes>"
      ]
     },
     "metadata": {
      "needs_background": "light"
     },
     "output_type": "display_data"
    }
   ],
   "source": [
    "color = sns.color_palette()\n",
    "classif = data['class'].value_counts()\n",
    "plt.figure(figsize=(8,4))\n",
    "sns.barplot(classif.index, classif.values, alpha=0.8, color=color[0])\n",
    "plt.ylabel('Number of Occurrences', fontsize=12)\n",
    "plt.xlabel('Relevance', fontsize=12)\n",
    "plt.show()"
   ]
  },
  {
   "cell_type": "code",
   "execution_count": 10,
   "metadata": {},
   "outputs": [
    {
     "data": {
      "text/plain": [
       "0    859\n",
       "1    141\n",
       "Name: class, dtype: int64"
      ]
     },
     "execution_count": 10,
     "metadata": {},
     "output_type": "execute_result"
    }
   ],
   "source": [
    "data['class'].value_counts()"
   ]
  },
  {
   "cell_type": "markdown",
   "metadata": {},
   "source": [
    "### Threshold 3"
   ]
  },
  {
   "cell_type": "code",
   "execution_count": 11,
   "metadata": {},
   "outputs": [
    {
     "data": {
      "image/png": "[encoded data removed]",
      "text/plain": [
       "<Figure size 576x288 with 1 Axes>"
      ]
     },
     "metadata": {
      "needs_background": "light"
     },
     "output_type": "display_data"
    }
   ],
   "source": [
    "color = sns.color_palette()\n",
    "classif = data['class_threshold3'].value_counts()\n",
    "plt.figure(figsize=(8,4))\n",
    "sns.barplot(classif.index, classif.values, alpha=0.8, color=color[0])\n",
    "plt.ylabel('Number of Occurrences', fontsize=12)\n",
    "plt.xlabel('Relevance', fontsize=12)\n",
    "plt.show()"
   ]
  },
  {
   "cell_type": "code",
   "execution_count": 12,
   "metadata": {},
   "outputs": [
    {
     "data": {
      "text/plain": [
       "0    793\n",
       "1    207\n",
       "Name: class_threshold3, dtype: int64"
      ]
     },
     "execution_count": 12,
     "metadata": {},
     "output_type": "execute_result"
    }
   ],
   "source": [
    "data['class_threshold3'].value_counts()"
   ]
  },
  {
   "cell_type": "markdown",
   "metadata": {},
   "source": [
    "# clear text\n",
    "* use regex to clear repeated vogals.\n",
    "* remove links"
   ]
  },
  {
   "cell_type": "code",
   "execution_count": 13,
   "metadata": {},
   "outputs": [],
   "source": [
    "def clear_text(text):\n",
    "    text = re.sub('a+', 'a', text)\n",
    "    text = re.sub('e+', 'e', text)\n",
    "    text = re.sub('i+', 'i', text)\n",
    "    text = re.sub('o+', 'o', text)\n",
    "    text = re.sub('u+', 'u', text)\n",
    "    return text\n",
    "#clear_text('nao goooosto diiiiisso')"
   ]
  },
  {
   "cell_type": "code",
   "execution_count": 14,
   "metadata": {},
   "outputs": [],
   "source": [
    "data['text'] = data['text'].apply(lambda x: clear_text(x.lower()))"
   ]
  },
  {
   "cell_type": "markdown",
   "metadata": {},
   "source": [
    "# tokenize\n",
    "using TweetTokenizer from nltk. Also gets lowercase text."
   ]
  },
  {
   "cell_type": "code",
   "execution_count": 15,
   "metadata": {},
   "outputs": [],
   "source": [
    "from nltk.tokenize import TweetTokenizer\n",
    "tknzr = TweetTokenizer()"
   ]
  },
  {
   "cell_type": "code",
   "execution_count": 16,
   "metadata": {},
   "outputs": [
    {
     "data": {
      "text/plain": [
       "0    [brasil, tera, 55, mil, militares, nas, ruas, ...\n",
       "1    [depois, do, exercito, abandonar, o, combate, ...\n",
       "2    [farmaceuticos, recebem, treinamento, sobre, d...\n",
       "3    [farmaceuticos, recebem, treinamento, sobre, d...\n",
       "4    [rt, g1, morador, do, df, faz, rap, da, dengue...\n",
       "Name: tokens, dtype: object"
      ]
     },
     "execution_count": 16,
     "metadata": {},
     "output_type": "execute_result"
    }
   ],
   "source": [
    "data['tokens'] = data['text'].apply(lambda x: tknzr.tokenize(x.translate(str.maketrans('', '', string.punctuation)).lower()))\n",
    "data.head()['tokens']"
   ]
  },
  {
   "cell_type": "code",
   "execution_count": 17,
   "metadata": {},
   "outputs": [],
   "source": [
    "#tfidf = TfidfVectorizer(analyzer='word')\n",
    "counter = Counter()\n",
    "for text in data['tokens']:\n",
    "    counter.update(text)\n",
    "tf_top = sorted(counter, key=counter.get)[-500:]"
   ]
  },
  {
   "cell_type": "code",
   "execution_count": 18,
   "metadata": {},
   "outputs": [
    {
     "data": {
      "text/plain": [
       "['o', 'zika', 'dengue', 'e', 'de']"
      ]
     },
     "execution_count": 18,
     "metadata": {},
     "output_type": "execute_result"
    }
   ],
   "source": [
    "tf_top[-5:]"
   ]
  },
  {
   "cell_type": "code",
   "execution_count": 19,
   "metadata": {},
   "outputs": [],
   "source": [
    "#usando freq absoluta\n",
    "def abs_tf(text, term):\n",
    "    #text = text.lower().split()\n",
    "\n",
    "    tf = 0\n",
    "    for word in text:\n",
    "        if word == term:\n",
    "            tf += 1\n",
    "    return tf"
   ]
  },
  {
   "cell_type": "code",
   "execution_count": 20,
   "metadata": {},
   "outputs": [],
   "source": [
    "for term in tf_top:\n",
    "    data[term] = 0\n",
    "    data[term] = data['tokens'].apply(lambda text: abs_tf(text, term))"
   ]
  },
  {
   "cell_type": "code",
   "execution_count": 21,
   "metadata": {},
   "outputs": [
    {
     "data": {
      "text/html": [
       "<div>\n",
       "<style scoped>\n",
       "    .dataframe tbody tr th:only-of-type {\n",
       "        vertical-align: middle;\n",
       "    }\n",
       "\n",
       "    .dataframe tbody tr th {\n",
       "        vertical-align: top;\n",
       "    }\n",
       "\n",
       "    .dataframe thead th {\n",
       "        text-align: right;\n",
       "    }\n",
       "</style>\n",
       "<table border=\"1\" class=\"dataframe\">\n",
       "  <thead>\n",
       "    <tr style=\"text-align: right;\">\n",
       "      <th></th>\n",
       "      <th>id</th>\n",
       "      <th>relevance</th>\n",
       "      <th>class</th>\n",
       "      <th>class_threshold3</th>\n",
       "      <th>date</th>\n",
       "      <th>text</th>\n",
       "      <th>text_original</th>\n",
       "      <th>tokens</th>\n",
       "      <th>municipios</th>\n",
       "      <th>sabado</th>\n",
       "      <th>...</th>\n",
       "      <th>em</th>\n",
       "      <th>da</th>\n",
       "      <th>rt</th>\n",
       "      <th>que</th>\n",
       "      <th>a</th>\n",
       "      <th>o</th>\n",
       "      <th>zika</th>\n",
       "      <th>dengue</th>\n",
       "      <th>e</th>\n",
       "      <th>de</th>\n",
       "    </tr>\n",
       "  </thead>\n",
       "  <tbody>\n",
       "    <tr>\n",
       "      <th>0</th>\n",
       "      <td>699069305468551169</td>\n",
       "      <td>2</td>\n",
       "      <td>0</td>\n",
       "      <td>0</td>\n",
       "      <td>2016-02-15</td>\n",
       "      <td>brasil tera 55 mil militares nas ruas para com...</td>\n",
       "      <td>Brasil terá 55 mil militares nas ruas para com...</td>\n",
       "      <td>[brasil, tera, 55, mil, militares, nas, ruas, ...</td>\n",
       "      <td>0</td>\n",
       "      <td>0</td>\n",
       "      <td>...</td>\n",
       "      <td>0</td>\n",
       "      <td>0</td>\n",
       "      <td>0</td>\n",
       "      <td>0</td>\n",
       "      <td>1</td>\n",
       "      <td>0</td>\n",
       "      <td>0</td>\n",
       "      <td>0</td>\n",
       "      <td>0</td>\n",
       "      <td>1</td>\n",
       "    </tr>\n",
       "    <tr>\n",
       "      <th>1</th>\n",
       "      <td>699164279472263170</td>\n",
       "      <td>3</td>\n",
       "      <td>0</td>\n",
       "      <td>1</td>\n",
       "      <td>2016-02-15</td>\n",
       "      <td>depois do exercito abandonar o combate aos foc...</td>\n",
       "      <td>Depois do exército abandonar o combate aos foc...</td>\n",
       "      <td>[depois, do, exercito, abandonar, o, combate, ...</td>\n",
       "      <td>0</td>\n",
       "      <td>0</td>\n",
       "      <td>...</td>\n",
       "      <td>0</td>\n",
       "      <td>0</td>\n",
       "      <td>0</td>\n",
       "      <td>2</td>\n",
       "      <td>0</td>\n",
       "      <td>1</td>\n",
       "      <td>1</td>\n",
       "      <td>0</td>\n",
       "      <td>1</td>\n",
       "      <td>1</td>\n",
       "    </tr>\n",
       "    <tr>\n",
       "      <th>2</th>\n",
       "      <td>699264346304618496</td>\n",
       "      <td>1</td>\n",
       "      <td>0</td>\n",
       "      <td>0</td>\n",
       "      <td>2016-02-15</td>\n",
       "      <td>farmaceuticos recebem treinamento sobre dengue...</td>\n",
       "      <td>Farmacêuticos recebem treinamento sobre dengue...</td>\n",
       "      <td>[farmaceuticos, recebem, treinamento, sobre, d...</td>\n",
       "      <td>0</td>\n",
       "      <td>0</td>\n",
       "      <td>...</td>\n",
       "      <td>0</td>\n",
       "      <td>0</td>\n",
       "      <td>0</td>\n",
       "      <td>0</td>\n",
       "      <td>0</td>\n",
       "      <td>0</td>\n",
       "      <td>1</td>\n",
       "      <td>1</td>\n",
       "      <td>2</td>\n",
       "      <td>1</td>\n",
       "    </tr>\n",
       "    <tr>\n",
       "      <th>3</th>\n",
       "      <td>699266282646994944</td>\n",
       "      <td>3</td>\n",
       "      <td>0</td>\n",
       "      <td>1</td>\n",
       "      <td>2016-02-15</td>\n",
       "      <td>farmaceuticos recebem treinamento sobre dengue...</td>\n",
       "      <td>Farmacêuticos recebem treinamento sobre dengue...</td>\n",
       "      <td>[farmaceuticos, recebem, treinamento, sobre, d...</td>\n",
       "      <td>0</td>\n",
       "      <td>0</td>\n",
       "      <td>...</td>\n",
       "      <td>0</td>\n",
       "      <td>0</td>\n",
       "      <td>0</td>\n",
       "      <td>0</td>\n",
       "      <td>0</td>\n",
       "      <td>0</td>\n",
       "      <td>1</td>\n",
       "      <td>1</td>\n",
       "      <td>2</td>\n",
       "      <td>1</td>\n",
       "    </tr>\n",
       "    <tr>\n",
       "      <th>4</th>\n",
       "      <td>699315864122892288</td>\n",
       "      <td>0</td>\n",
       "      <td>0</td>\n",
       "      <td>0</td>\n",
       "      <td>2016-02-15</td>\n",
       "      <td>rt @g1: morador do df faz 'rap da dengue': 'ag...</td>\n",
       "      <td>RT @g1: Morador do DF faz 'rap da dengue': 'Ag...</td>\n",
       "      <td>[rt, g1, morador, do, df, faz, rap, da, dengue...</td>\n",
       "      <td>0</td>\n",
       "      <td>0</td>\n",
       "      <td>...</td>\n",
       "      <td>0</td>\n",
       "      <td>1</td>\n",
       "      <td>1</td>\n",
       "      <td>0</td>\n",
       "      <td>0</td>\n",
       "      <td>0</td>\n",
       "      <td>0</td>\n",
       "      <td>1</td>\n",
       "      <td>0</td>\n",
       "      <td>0</td>\n",
       "    </tr>\n",
       "  </tbody>\n",
       "</table>\n",
       "<p>5 rows × 508 columns</p>\n",
       "</div>"
      ],
      "text/plain": [
       "                   id  relevance  class  class_threshold3       date  \\\n",
       "0  699069305468551169          2      0                 0 2016-02-15   \n",
       "1  699164279472263170          3      0                 1 2016-02-15   \n",
       "2  699264346304618496          1      0                 0 2016-02-15   \n",
       "3  699266282646994944          3      0                 1 2016-02-15   \n",
       "4  699315864122892288          0      0                 0 2016-02-15   \n",
       "\n",
       "                                                text  \\\n",
       "0  brasil tera 55 mil militares nas ruas para com...   \n",
       "1  depois do exercito abandonar o combate aos foc...   \n",
       "2  farmaceuticos recebem treinamento sobre dengue...   \n",
       "3  farmaceuticos recebem treinamento sobre dengue...   \n",
       "4  rt @g1: morador do df faz 'rap da dengue': 'ag...   \n",
       "\n",
       "                                       text_original  \\\n",
       "0  Brasil terá 55 mil militares nas ruas para com...   \n",
       "1  Depois do exército abandonar o combate aos foc...   \n",
       "2  Farmacêuticos recebem treinamento sobre dengue...   \n",
       "3  Farmacêuticos recebem treinamento sobre dengue...   \n",
       "4  RT @g1: Morador do DF faz 'rap da dengue': 'Ag...   \n",
       "\n",
       "                                              tokens  municipios  sabado  ...  \\\n",
       "0  [brasil, tera, 55, mil, militares, nas, ruas, ...           0       0  ...   \n",
       "1  [depois, do, exercito, abandonar, o, combate, ...           0       0  ...   \n",
       "2  [farmaceuticos, recebem, treinamento, sobre, d...           0       0  ...   \n",
       "3  [farmaceuticos, recebem, treinamento, sobre, d...           0       0  ...   \n",
       "4  [rt, g1, morador, do, df, faz, rap, da, dengue...           0       0  ...   \n",
       "\n",
       "   em  da  rt  que  a  o  zika  dengue  e  de  \n",
       "0   0   0   0    0  1  0     0       0  0   1  \n",
       "1   0   0   0    2  0  1     1       0  1   1  \n",
       "2   0   0   0    0  0  0     1       1  2   1  \n",
       "3   0   0   0    0  0  0     1       1  2   1  \n",
       "4   0   1   1    0  0  0     0       1  0   0  \n",
       "\n",
       "[5 rows x 508 columns]"
      ]
     },
     "execution_count": 21,
     "metadata": {},
     "output_type": "execute_result"
    }
   ],
   "source": [
    "data.head()"
   ]
  },
  {
   "cell_type": "markdown",
   "metadata": {},
   "source": [
    "# Data split"
   ]
  },
  {
   "cell_type": "code",
   "execution_count": 24,
   "metadata": {},
   "outputs": [],
   "source": [
    "from sklearn.model_selection import train_test_split"
   ]
  },
  {
   "cell_type": "code",
   "execution_count": 25,
   "metadata": {},
   "outputs": [],
   "source": [
    "data = data.rename(columns={\"class\": \"y1\", \"class_threshold3\": \"y2\"})"
   ]
  },
  {
   "cell_type": "code",
   "execution_count": 38,
   "metadata": {},
   "outputs": [
    {
     "data": {
      "text/plain": [
       "Index(['municipios', 'sabado', 'vigilancia', 'voluntarios', 'es', 'fora',\n",
       "       'lula', '30', 'causar', 'colombia',\n",
       "       ...\n",
       "       'em', 'da', 'rt', 'que', 'a', 'o', 'zika', 'dengue', 'e', 'de'],\n",
       "      dtype='object', length=500)"
      ]
     },
     "execution_count": 38,
     "metadata": {},
     "output_type": "execute_result"
    }
   ],
   "source": [
    "x_variables = data.columns[7:]\n",
    "x_variables"
   ]
  },
  {
   "cell_type": "code",
   "execution_count": 39,
   "metadata": {},
   "outputs": [],
   "source": [
    "#ys = data.iloc[:, 2:4]\n",
    "y = data.loc[:, 'y1']\n",
    "#y = data.iloc[:, 3:4]\n",
    "X = data.iloc[:, 7:]\n",
    "\n",
    "X_train, X_test, y_train, y_test = train_test_split(X, y, test_size = 0.3, random_state=0, shuffle=False)"
   ]
  },
  {
   "cell_type": "code",
   "execution_count": 40,
   "metadata": {
    "scrolled": true
   },
   "outputs": [
    {
     "data": {
      "text/html": [
       "<div>\n",
       "<style scoped>\n",
       "    .dataframe tbody tr th:only-of-type {\n",
       "        vertical-align: middle;\n",
       "    }\n",
       "\n",
       "    .dataframe tbody tr th {\n",
       "        vertical-align: top;\n",
       "    }\n",
       "\n",
       "    .dataframe thead th {\n",
       "        text-align: right;\n",
       "    }\n",
       "</style>\n",
       "<table border=\"1\" class=\"dataframe\">\n",
       "  <thead>\n",
       "    <tr style=\"text-align: right;\">\n",
       "      <th></th>\n",
       "      <th>municipios</th>\n",
       "      <th>sabado</th>\n",
       "      <th>vigilancia</th>\n",
       "      <th>voluntarios</th>\n",
       "      <th>es</th>\n",
       "      <th>fora</th>\n",
       "      <th>lula</th>\n",
       "      <th>30</th>\n",
       "      <th>causar</th>\n",
       "      <th>colombia</th>\n",
       "      <th>...</th>\n",
       "      <th>em</th>\n",
       "      <th>da</th>\n",
       "      <th>rt</th>\n",
       "      <th>que</th>\n",
       "      <th>a</th>\n",
       "      <th>o</th>\n",
       "      <th>zika</th>\n",
       "      <th>dengue</th>\n",
       "      <th>e</th>\n",
       "      <th>de</th>\n",
       "    </tr>\n",
       "  </thead>\n",
       "  <tbody>\n",
       "    <tr>\n",
       "      <th>0</th>\n",
       "      <td>0</td>\n",
       "      <td>0</td>\n",
       "      <td>0</td>\n",
       "      <td>0</td>\n",
       "      <td>0</td>\n",
       "      <td>0</td>\n",
       "      <td>0</td>\n",
       "      <td>0</td>\n",
       "      <td>0</td>\n",
       "      <td>0</td>\n",
       "      <td>...</td>\n",
       "      <td>0</td>\n",
       "      <td>0</td>\n",
       "      <td>0</td>\n",
       "      <td>0</td>\n",
       "      <td>1</td>\n",
       "      <td>0</td>\n",
       "      <td>0</td>\n",
       "      <td>0</td>\n",
       "      <td>0</td>\n",
       "      <td>1</td>\n",
       "    </tr>\n",
       "    <tr>\n",
       "      <th>1</th>\n",
       "      <td>0</td>\n",
       "      <td>0</td>\n",
       "      <td>0</td>\n",
       "      <td>0</td>\n",
       "      <td>0</td>\n",
       "      <td>0</td>\n",
       "      <td>0</td>\n",
       "      <td>0</td>\n",
       "      <td>0</td>\n",
       "      <td>0</td>\n",
       "      <td>...</td>\n",
       "      <td>0</td>\n",
       "      <td>0</td>\n",
       "      <td>0</td>\n",
       "      <td>2</td>\n",
       "      <td>0</td>\n",
       "      <td>1</td>\n",
       "      <td>1</td>\n",
       "      <td>0</td>\n",
       "      <td>1</td>\n",
       "      <td>1</td>\n",
       "    </tr>\n",
       "    <tr>\n",
       "      <th>2</th>\n",
       "      <td>0</td>\n",
       "      <td>0</td>\n",
       "      <td>0</td>\n",
       "      <td>0</td>\n",
       "      <td>0</td>\n",
       "      <td>0</td>\n",
       "      <td>0</td>\n",
       "      <td>0</td>\n",
       "      <td>0</td>\n",
       "      <td>0</td>\n",
       "      <td>...</td>\n",
       "      <td>0</td>\n",
       "      <td>0</td>\n",
       "      <td>0</td>\n",
       "      <td>0</td>\n",
       "      <td>0</td>\n",
       "      <td>0</td>\n",
       "      <td>1</td>\n",
       "      <td>1</td>\n",
       "      <td>2</td>\n",
       "      <td>1</td>\n",
       "    </tr>\n",
       "    <tr>\n",
       "      <th>3</th>\n",
       "      <td>0</td>\n",
       "      <td>0</td>\n",
       "      <td>0</td>\n",
       "      <td>0</td>\n",
       "      <td>0</td>\n",
       "      <td>0</td>\n",
       "      <td>0</td>\n",
       "      <td>0</td>\n",
       "      <td>0</td>\n",
       "      <td>0</td>\n",
       "      <td>...</td>\n",
       "      <td>0</td>\n",
       "      <td>0</td>\n",
       "      <td>0</td>\n",
       "      <td>0</td>\n",
       "      <td>0</td>\n",
       "      <td>0</td>\n",
       "      <td>1</td>\n",
       "      <td>1</td>\n",
       "      <td>2</td>\n",
       "      <td>1</td>\n",
       "    </tr>\n",
       "    <tr>\n",
       "      <th>4</th>\n",
       "      <td>0</td>\n",
       "      <td>0</td>\n",
       "      <td>0</td>\n",
       "      <td>0</td>\n",
       "      <td>0</td>\n",
       "      <td>0</td>\n",
       "      <td>0</td>\n",
       "      <td>0</td>\n",
       "      <td>0</td>\n",
       "      <td>0</td>\n",
       "      <td>...</td>\n",
       "      <td>0</td>\n",
       "      <td>1</td>\n",
       "      <td>1</td>\n",
       "      <td>0</td>\n",
       "      <td>0</td>\n",
       "      <td>0</td>\n",
       "      <td>0</td>\n",
       "      <td>1</td>\n",
       "      <td>0</td>\n",
       "      <td>0</td>\n",
       "    </tr>\n",
       "  </tbody>\n",
       "</table>\n",
       "<p>5 rows × 500 columns</p>\n",
       "</div>"
      ],
      "text/plain": [
       "   municipios  sabado  vigilancia  voluntarios  es  fora  lula  30  causar  \\\n",
       "0           0       0           0            0   0     0     0   0       0   \n",
       "1           0       0           0            0   0     0     0   0       0   \n",
       "2           0       0           0            0   0     0     0   0       0   \n",
       "3           0       0           0            0   0     0     0   0       0   \n",
       "4           0       0           0            0   0     0     0   0       0   \n",
       "\n",
       "   colombia  ...  em  da  rt  que  a  o  zika  dengue  e  de  \n",
       "0         0  ...   0   0   0    0  1  0     0       0  0   1  \n",
       "1         0  ...   0   0   0    2  0  1     1       0  1   1  \n",
       "2         0  ...   0   0   0    0  0  0     1       1  2   1  \n",
       "3         0  ...   0   0   0    0  0  0     1       1  2   1  \n",
       "4         0  ...   0   1   1    0  0  0     0       1  0   0  \n",
       "\n",
       "[5 rows x 500 columns]"
      ]
     },
     "execution_count": 40,
     "metadata": {},
     "output_type": "execute_result"
    }
   ],
   "source": [
    "X_train.head()"
   ]
  },
  {
   "cell_type": "code",
   "execution_count": 41,
   "metadata": {},
   "outputs": [
    {
     "data": {
      "text/plain": [
       "0      0\n",
       "1      0\n",
       "2      0\n",
       "3      0\n",
       "4      0\n",
       "      ..\n",
       "995    0\n",
       "996    1\n",
       "997    0\n",
       "998    0\n",
       "999    0\n",
       "Name: y1, Length: 1000, dtype: int64"
      ]
     },
     "execution_count": 41,
     "metadata": {},
     "output_type": "execute_result"
    }
   ],
   "source": [
    "y"
   ]
  },
  {
   "cell_type": "markdown",
   "metadata": {},
   "source": [
    "# Oversampling minority class\n",
    "Tested only on 1 ML model"
   ]
  },
  {
   "cell_type": "code",
   "execution_count": null,
   "metadata": {},
   "outputs": [],
   "source": [
    "from imblearn.over_sampling import SMOTE\n",
    "\n",
    "smote = SMOTE(random_state=42)\n",
    "X_traincv_res, y_traincv_res = smote.fit_sample(X_train, y_train)"
   ]
  },
  {
   "cell_type": "markdown",
   "metadata": {},
   "source": [
    "# Machine Learning, Baseline\n",
    "Using Logistic regression and Random Forest as baselines"
   ]
  },
  {
   "cell_type": "code",
   "execution_count": 42,
   "metadata": {},
   "outputs": [],
   "source": [
    "from sklearn.preprocessing import StandardScaler, Imputer\n",
    "from sklearn.pipeline import Pipeline\n",
    "from sklearn.model_selection import GridSearchCV\n",
    "from sklearn.metrics import classification_report, roc_curve, roc_auc_score, confusion_matrix, accuracy_score"
   ]
  },
  {
   "cell_type": "markdown",
   "metadata": {},
   "source": [
    "### Logistic Regression"
   ]
  },
  {
   "cell_type": "code",
   "execution_count": 50,
   "metadata": {},
   "outputs": [],
   "source": [
    "from sklearn.linear_model import LogisticRegression"
   ]
  },
  {
   "cell_type": "code",
   "execution_count": 51,
   "metadata": {},
   "outputs": [
    {
     "name": "stdout",
     "output_type": "stream",
     "text": [
      "\n",
      "TUNED MODEL PARAMETERS:\n",
      " {'logreg__C': 1e-05, 'logreg__penalty': 'l2', 'logreg__random_state': 42}\n",
      "\n",
      "TUNED RECALL:\n",
      " 0.6558872180451127\n"
     ]
    }
   ],
   "source": [
    "# Setup the pipeline\n",
    "steps = [('scaler', StandardScaler()),\n",
    "         ('logreg', LogisticRegression())]\n",
    "\n",
    "pipeline = Pipeline(steps)\n",
    "\n",
    "#LogisticRegression()\n",
    "\n",
    "# Specify the hyperparameter space\n",
    "c_space = np.logspace(-5, 1, 20)\n",
    "parameters = {'logreg__C': c_space, \n",
    "              'logreg__penalty': ['l1', 'l2'],\n",
    "              'logreg__random_state':[42]}\n",
    "\n",
    "# Instantiate the GridSearchCV object: cv\n",
    "n_fold_cv = int(len(X_train)/4)\n",
    "clf_logreg = GridSearchCV(pipeline,parameters, cv=5, scoring='recall')\n",
    "\n",
    "# Fit to the training set\n",
    "clf_logreg.fit(X_train, y_train)\n",
    "\n",
    "# Compute and print metrics\n",
    "print(\"\\nTUNED MODEL PARAMETERS:\\n {}\".format(clf_logreg.best_params_))\n",
    "print(\"\\nTUNED RECALL:\\n {}\".format(clf_logreg.best_score_))"
   ]
  },
  {
   "cell_type": "markdown",
   "metadata": {},
   "source": [
    "#### repeat with oversampling"
   ]
  },
  {
   "cell_type": "code",
   "execution_count": null,
   "metadata": {},
   "outputs": [],
   "source": [
    "# Fit to the training set\n",
    "clf_logreg.fit(X_traincv_res, y_traincv_res)\n",
    "\n",
    "# Compute and print metrics\n",
    "print(\"\\nTUNED MODEL PARAMETERS:\\n {}\".format(clf_logreg.best_params_))\n",
    "print(\"\\nTUNED RECALL:\\n {}\".format(clf_logreg.best_score_))"
   ]
  },
  {
   "cell_type": "code",
   "execution_count": null,
   "metadata": {},
   "outputs": [],
   "source": [
    "logreg_best_smote = clf_logreg.best_params_"
   ]
  },
  {
   "cell_type": "markdown",
   "metadata": {},
   "source": [
    "### Random Forest"
   ]
  },
  {
   "cell_type": "code",
   "execution_count": 52,
   "metadata": {},
   "outputs": [],
   "source": [
    "from sklearn.ensemble import RandomForestClassifier"
   ]
  },
  {
   "cell_type": "code",
   "execution_count": 53,
   "metadata": {},
   "outputs": [
    {
     "name": "stdout",
     "output_type": "stream",
     "text": [
      "\n",
      "TUNED MODEL PARAMETERS:\n",
      " {'rfc__max_features': None, 'rfc__n_estimators': 300, 'rfc__random_state': 42}\n",
      "\n",
      "TUNED RECALL:\n",
      " 0.17705263157894735\n"
     ]
    }
   ],
   "source": [
    "# Setup the pipeline\n",
    "steps = [('scaler', StandardScaler()),\n",
    "         ('rfc', RandomForestClassifier())]\n",
    "\n",
    "pipeline = Pipeline(steps)\n",
    "\n",
    "# Specify the hyperparameter space\n",
    "parameters = {'rfc__max_features':[1, 2, \"auto\", \"log2\", None],\n",
    "              'rfc__n_estimators':[300],\n",
    "              'rfc__random_state':[42]}\n",
    "\n",
    "# Instantiate the GridSearchCV object: clf_rforest\n",
    "clf_rforest = GridSearchCV(pipeline,parameters, cv=5, scoring='recall')\n",
    "\n",
    "# Fit to the training set\n",
    "clf_rforest.fit(X_train, y_train)\n",
    "\n",
    "# Compute and print metrics\n",
    "print(\"\\nTUNED MODEL PARAMETERS:\\n {}\".format(clf_rforest.best_params_))\n",
    "print(\"\\nTUNED RECALL:\\n {}\".format(clf_rforest.best_score_))"
   ]
  },
  {
   "cell_type": "markdown",
   "metadata": {},
   "source": [
    "# Machine Learning, other models"
   ]
  },
  {
   "cell_type": "markdown",
   "metadata": {},
   "source": [
    "### svm"
   ]
  },
  {
   "cell_type": "code",
   "execution_count": 31,
   "metadata": {},
   "outputs": [],
   "source": [
    "from sklearn import svm"
   ]
  },
  {
   "cell_type": "code",
   "execution_count": 43,
   "metadata": {},
   "outputs": [
    {
     "name": "stdout",
     "output_type": "stream",
     "text": [
      "\n",
      "TUNED MODEL PARAMETERS:\n",
      " {'svc__C': 0.1, 'svc__degree': 2, 'svc__gamma': 1e-05, 'svc__kernel': 'linear', 'svc__random_state': 42}\n",
      "\n",
      "TUNED RECALL:\n",
      " 0.37485714285714283\n"
     ]
    }
   ],
   "source": [
    "# Setup the pipeline\n",
    "steps = [('scaler', StandardScaler()),\n",
    "         ('svc', svm.SVC())]\n",
    "\n",
    "pipeline = Pipeline(steps)\n",
    "\n",
    "# Specify the hyperparameter space\n",
    "parameters = {'svc__kernel': ['linear', 'poly'],\n",
    "              'svc__C': np.linspace(0.1,2,10),\n",
    "              'svc__degree': [2,3,4],\n",
    "              'svc__gamma': np.logspace(-5, 0, 10),\n",
    "              'svc__random_state':[42]}\n",
    "\n",
    "clf_svc = GridSearchCV(pipeline,parameters, cv=5, scoring='recall')\n",
    "\n",
    "clf_svc.fit(X_train, y_train)\n",
    "\n",
    "print(\"\\nTUNED MODEL PARAMETERS:\\n {}\".format(clf_svc.best_params_))\n",
    "print(\"\\nTUNED RECALL:\\n {}\".format(clf_svc.best_score_))"
   ]
  },
  {
   "cell_type": "markdown",
   "metadata": {},
   "source": [
    "### adaboost"
   ]
  },
  {
   "cell_type": "code",
   "execution_count": 44,
   "metadata": {},
   "outputs": [],
   "source": [
    "from sklearn.ensemble import AdaBoostClassifier"
   ]
  },
  {
   "cell_type": "code",
   "execution_count": 45,
   "metadata": {},
   "outputs": [
    {
     "name": "stdout",
     "output_type": "stream",
     "text": [
      "\n",
      "TUNED MODEL PARAMETERS:\n",
      " {'abc__n_estimators': 300, 'abc__random_state': 42}\n",
      "\n",
      "TUNED RECALL:\n",
      " 0.333281954887218\n"
     ]
    }
   ],
   "source": [
    "steps = [('scaler', StandardScaler()),\n",
    "         ('abc', AdaBoostClassifier())]\n",
    "\n",
    "pipeline = Pipeline(steps)\n",
    "\n",
    "parameters = {'abc__n_estimators': [300],\n",
    "              'abc__random_state':[42]}\n",
    "\n",
    "clf_abc = GridSearchCV(pipeline,parameters, cv=5, scoring='recall')\n",
    "\n",
    "clf_abc.fit(X_train, y_train)\n",
    "\n",
    "print(\"\\nTUNED MODEL PARAMETERS:\\n {}\".format(clf_abc.best_params_))\n",
    "print(\"\\nTUNED RECALL:\\n {}\".format(clf_abc.best_score_))"
   ]
  },
  {
   "cell_type": "markdown",
   "metadata": {},
   "source": [
    "### gradient boosting"
   ]
  },
  {
   "cell_type": "code",
   "execution_count": 46,
   "metadata": {},
   "outputs": [],
   "source": [
    "from sklearn.ensemble import GradientBoostingClassifier"
   ]
  },
  {
   "cell_type": "code",
   "execution_count": 47,
   "metadata": {},
   "outputs": [
    {
     "name": "stdout",
     "output_type": "stream",
     "text": [
      "\n",
      "TUNED MODEL PARAMETERS:\n",
      " {'gbc__n_estimators': 300, 'gbc__random_state': 42}\n",
      "\n",
      "TUNED RECALL:\n",
      " 0.21847744360902258\n"
     ]
    }
   ],
   "source": [
    "steps = [('scaler', StandardScaler()),\n",
    "         ('gbc', GradientBoostingClassifier())]\n",
    "\n",
    "pipeline = Pipeline(steps)\n",
    "\n",
    "parameters = {'gbc__n_estimators': [300],\n",
    "              'gbc__random_state':[42]}\n",
    "\n",
    "\n",
    "clf_gbc = GridSearchCV(pipeline,parameters, cv=5, scoring='recall')\n",
    "\n",
    "clf_gbc.fit(X_train, y_train)\n",
    "\n",
    "print(\"\\nTUNED MODEL PARAMETERS:\\n {}\".format(clf_gbc.best_params_))\n",
    "print(\"\\nTUNED RECALL:\\n {}\".format(clf_gbc.best_score_))"
   ]
  },
  {
   "cell_type": "markdown",
   "metadata": {},
   "source": [
    "### xgboost"
   ]
  },
  {
   "cell_type": "code",
   "execution_count": 48,
   "metadata": {},
   "outputs": [],
   "source": [
    "import xgboost as xgb"
   ]
  },
  {
   "cell_type": "code",
   "execution_count": 49,
   "metadata": {
    "scrolled": true
   },
   "outputs": [
    {
     "name": "stdout",
     "output_type": "stream",
     "text": [
      "[0]\ttrain-aucpr:0.78381\tvalid-aucpr:0.410078\n",
      "Multiple eval metrics have been passed: 'valid-aucpr' will be used for early stopping.\n",
      "\n",
      "Will train until valid-aucpr hasn't improved in 50 rounds.\n",
      "[10]\ttrain-aucpr:0.893858\tvalid-aucpr:0.537007\n",
      "[20]\ttrain-aucpr:0.907175\tvalid-aucpr:0.544115\n",
      "[30]\ttrain-aucpr:0.918865\tvalid-aucpr:0.553857\n",
      "[40]\ttrain-aucpr:0.968555\tvalid-aucpr:0.505784\n",
      "[50]\ttrain-aucpr:0.987064\tvalid-aucpr:0.508063\n",
      "Stopping. Best iteration:\n",
      "[6]\ttrain-aucpr:0.884799\tvalid-aucpr:0.562102\n",
      "\n"
     ]
    }
   ],
   "source": [
    "# Set our parameters for xgboost\n",
    "params = {}\n",
    "params['objective'] = 'reg:squarederror'\n",
    "params['eval_metric'] = 'aucpr'\n",
    "params['eta'] = 0.02\n",
    "params['max_depth'] = 10\n",
    "\n",
    "d_train = xgb.DMatrix(X_train, label=y_train)\n",
    "d_test = xgb.DMatrix(X_test, label=y_test)\n",
    "\n",
    "watchlist = [(d_train, 'train'), (d_test, 'valid')]\n",
    "\n",
    "bst = xgb.train(params, d_train, 400, watchlist, early_stopping_rounds=50, verbose_eval=10)"
   ]
  },
  {
   "cell_type": "code",
   "execution_count": 38,
   "metadata": {},
   "outputs": [],
   "source": [
    "def use_threshold(value):\n",
    "    if value > 0.2: value = 1\n",
    "    else: value = 0\n",
    "    return value"
   ]
  },
  {
   "cell_type": "code",
   "execution_count": 39,
   "metadata": {},
   "outputs": [],
   "source": [
    "p_test = bst.predict(d_test)\n",
    "y_pred = np.array(list((map(use_threshold, p_test))))"
   ]
  },
  {
   "cell_type": "code",
   "execution_count": 40,
   "metadata": {},
   "outputs": [
    {
     "data": {
      "text/plain": [
       "0.51"
      ]
     },
     "execution_count": 40,
     "metadata": {},
     "output_type": "execute_result"
    }
   ],
   "source": [
    "accuracy_score(y_test, y_pred)"
   ]
  },
  {
   "cell_type": "code",
   "execution_count": 41,
   "metadata": {},
   "outputs": [
    {
     "name": "stdout",
     "output_type": "stream",
     "text": [
      "\n",
      "CLASSIFICATION_REPORT:\n",
      "               precision    recall  f1-score   support\n",
      "\n",
      "           0       0.94      0.45      0.61       255\n",
      "           1       0.21      0.82      0.33        45\n",
      "\n",
      "    accuracy                           0.51       300\n",
      "   macro avg       0.57      0.64      0.47       300\n",
      "weighted avg       0.83      0.51      0.57       300\n",
      "\n"
     ]
    }
   ],
   "source": [
    "print(\"\\nCLASSIFICATION_REPORT:\\n\", classification_report(y_test, y_pred))"
   ]
  },
  {
   "cell_type": "markdown",
   "metadata": {},
   "source": [
    "# Plot results"
   ]
  },
  {
   "cell_type": "code",
   "execution_count": 55,
   "metadata": {},
   "outputs": [
    {
     "data": {
      "text/plain": [
       "0.21847744360902258"
      ]
     },
     "execution_count": 55,
     "metadata": {},
     "output_type": "execute_result"
    }
   ],
   "source": [
    "dic_results = {}\n",
    "dic_results['logistic regression']= clf_logreg.best_score_\n",
    "dic_results['random forest']= clf_rforest.best_score_\n",
    "dic_results['svm']= clf_svc.best_score_\n",
    "dic_results['adaboost']= clf_abc.best_score_\n",
    "dic_results['gradient boosting']= clf_gbc.best_score_\n",
    "clf_gbc.best_score_"
   ]
  },
  {
   "cell_type": "code",
   "execution_count": 56,
   "metadata": {},
   "outputs": [
    {
     "data": {
      "image/png": "[encoded data removed]",
      "text/plain": [
       "<Figure size 576x144 with 1 Axes>"
      ]
     },
     "metadata": {
      "needs_background": "light"
     },
     "output_type": "display_data"
    }
   ],
   "source": [
    "import operator\n",
    "tup_results = sorted(dic_results.items(), key=operator.itemgetter(1))\n",
    "\n",
    "N = len(dic_results)\n",
    "ind = np.arange(N)  # the x locations for the groups\n",
    "width = 0.40       # the width of the bars\n",
    "\n",
    "fig = plt.figure(figsize=(8,2))\n",
    "ax = fig.add_subplot(111)\n",
    "rects = ax.bar(ind+0.5, list(zip(*tup_results))[1], width,)\n",
    "for rect in rects:\n",
    "    height = rect.get_height()\n",
    "    ax.text(rect.get_x()+rect.get_width()/2., \n",
    "            1.005*height, \n",
    "            '{0:.4f}'.format(height), \n",
    "            ha='center', \n",
    "            va='bottom',)\n",
    "\n",
    "ax.set_ylabel('Score')\n",
    "ax.set_xlabel('ML model')\n",
    "ax.set_ylim(ymin=0.0,ymax = 1)\n",
    "ax.set_title(\"Accuracy Comparison\")\n",
    "ax.set_xticks(ind + width/2.)\n",
    "ax.set_xticklabels(list(zip(*tup_results))[0], rotation=22)\n",
    "\n",
    "plt.show()"
   ]
  },
  {
   "cell_type": "markdown",
   "metadata": {},
   "source": [
    "# calculate final quality with a test set\n",
    "So we see that the best validated model is Logistic Regression. We will now test it on the test set. We could also compare with other models with their respective best params."
   ]
  },
  {
   "cell_type": "markdown",
   "metadata": {},
   "source": [
    "### get best params of regressor\n",
    "this was previously obtained during cross validation step"
   ]
  },
  {
   "cell_type": "code",
   "execution_count": 44,
   "metadata": {},
   "outputs": [
    {
     "data": {
      "text/plain": [
       "{'C': 1e-05, 'penalty': 'l2', 'random_state': 42}"
      ]
     },
     "execution_count": 44,
     "metadata": {},
     "output_type": "execute_result"
    }
   ],
   "source": [
    "params = {}\n",
    "for k,v in clf_logreg.best_params_.items():\n",
    "    k = k[8:]\n",
    "    params[k] = v\n",
    "params"
   ]
  },
  {
   "cell_type": "code",
   "execution_count": 45,
   "metadata": {},
   "outputs": [],
   "source": [
    "#transform X_train\n",
    "scale = StandardScaler().fit(X_train)\n",
    "X_train_scaled = scale.transform(X_train)\n",
    "\n",
    "#transform X_test\n",
    "scale = StandardScaler().fit(X_test)\n",
    "X_test_scaled = scale.transform(X_test)\n",
    "\n",
    "#instantiate regressor with best params\n",
    "clf_logreg_validated = LogisticRegression(C = params['C'], penalty = params['penalty'], random_state = params['random_state'])\n",
    "\n",
    "                    \n",
    "#fit regressor\n",
    "clf_logreg_validated.fit(X_train_scaled, y_train)\n",
    "\n",
    "#do prediction on test set\n",
    "y_pred = clf_logreg_validated.predict(X_test_scaled)"
   ]
  },
  {
   "cell_type": "markdown",
   "metadata": {},
   "source": [
    "### calculate accuracy on test set"
   ]
  },
  {
   "cell_type": "code",
   "execution_count": 46,
   "metadata": {},
   "outputs": [
    {
     "data": {
      "text/plain": [
       "0.84"
      ]
     },
     "execution_count": 46,
     "metadata": {},
     "output_type": "execute_result"
    }
   ],
   "source": [
    "accuracy_score(y_test, y_pred)"
   ]
  },
  {
   "cell_type": "markdown",
   "metadata": {},
   "source": [
    "### classification report"
   ]
  },
  {
   "cell_type": "code",
   "execution_count": 47,
   "metadata": {
    "scrolled": false
   },
   "outputs": [
    {
     "name": "stdout",
     "output_type": "stream",
     "text": [
      "\n",
      "CLASSIFICATION_REPORT:\n",
      "               precision    recall  f1-score   support\n",
      "\n",
      "           0       0.92      0.89      0.90       255\n",
      "           1       0.47      0.56      0.51        45\n",
      "\n",
      "    accuracy                           0.84       300\n",
      "   macro avg       0.70      0.72      0.71       300\n",
      "weighted avg       0.85      0.84      0.85       300\n",
      "\n"
     ]
    }
   ],
   "source": [
    "print(\"\\nCLASSIFICATION_REPORT:\\n\", classification_report(y_test, y_pred))"
   ]
  },
  {
   "cell_type": "markdown",
   "metadata": {},
   "source": [
    "### temp test with rfc"
   ]
  },
  {
   "cell_type": "code",
   "execution_count": 570,
   "metadata": {},
   "outputs": [
    {
     "data": {
      "text/plain": [
       "{'max_features': None, 'n_estimators': 300, 'random_state': 42}"
      ]
     },
     "execution_count": 570,
     "metadata": {},
     "output_type": "execute_result"
    }
   ],
   "source": [
    "params = {}\n",
    "for k,v in clf_rforest.best_params_.items():\n",
    "    k = k[5:]\n",
    "    params[k] = v\n",
    "params"
   ]
  },
  {
   "cell_type": "code",
   "execution_count": 571,
   "metadata": {},
   "outputs": [],
   "source": [
    "#transform X_train\n",
    "scale = StandardScaler().fit(X_train)\n",
    "X_train_scaled = scale.transform(X_train)\n",
    "\n",
    "#transform X_test\n",
    "scale = StandardScaler().fit(X_test)\n",
    "X_test_scaled = scale.transform(X_test)\n",
    "\n",
    "#instantiate regressor with best params\n",
    "clf_rfc_validated = RandomForestClassifier(max_features = params['max_features'], n_estimators = params['n_estimators'], random_state = params['random_state'])\n",
    "\n",
    "#fit regressor\n",
    "clf_rfc_validated.fit(X_train_scaled, y_train)\n",
    "\n",
    "#do prediction on test set\n",
    "y_pred = clf_rfc_validated.predict(X_test_scaled)"
   ]
  },
  {
   "cell_type": "markdown",
   "metadata": {},
   "source": [
    "### calculate accuracy on test set"
   ]
  },
  {
   "cell_type": "code",
   "execution_count": 572,
   "metadata": {},
   "outputs": [
    {
     "data": {
      "text/plain": [
       "0.8160919540229885"
      ]
     },
     "execution_count": 572,
     "metadata": {},
     "output_type": "execute_result"
    }
   ],
   "source": [
    "accuracy_score(y_test, y_pred)"
   ]
  },
  {
   "cell_type": "markdown",
   "metadata": {},
   "source": [
    "### classification report"
   ]
  },
  {
   "cell_type": "code",
   "execution_count": 573,
   "metadata": {
    "scrolled": true
   },
   "outputs": [
    {
     "name": "stdout",
     "output_type": "stream",
     "text": [
      "\n",
      "CLASSIFICATION_REPORT:\n",
      "               precision    recall  f1-score   support\n",
      "\n",
      "           0       0.84      0.96      0.90       142\n",
      "           1       0.50      0.16      0.24        32\n",
      "\n",
      "    accuracy                           0.82       174\n",
      "   macro avg       0.67      0.56      0.57       174\n",
      "weighted avg       0.77      0.82      0.77       174\n",
      "\n"
     ]
    }
   ],
   "source": [
    "print(\"\\nCLASSIFICATION_REPORT:\\n\", classification_report(y_test, y_pred))"
   ]
  },
  {
   "cell_type": "code",
   "execution_count": null,
   "metadata": {},
   "outputs": [],
   "source": []
  }
 ],
 "metadata": {
  "kernelspec": {
   "display_name": "Python 3",
   "language": "python",
   "name": "python3"
  },
  "language_info": {
   "codemirror_mode": {
    "name": "ipython",
    "version": 3
   },
   "file_extension": ".py",
   "mimetype": "text/x-python",
   "name": "python",
   "nbconvert_exporter": "python",
   "pygments_lexer": "ipython3",
   "version": "3.7.3"
  }
 },
 "nbformat": 4,
 "nbformat_minor": 2
}
