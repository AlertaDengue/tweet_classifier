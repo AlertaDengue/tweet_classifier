{
 "cells": [
  {
   "cell_type": "markdown",
   "metadata": {},
   "source": [
    "# classifier\n",
    "Classifies each tweet according to the train set, which was classified by collaborators of the Infodengue project. "
   ]
  },
  {
   "cell_type": "markdown",
   "metadata": {},
   "source": [
    "Observations:\n",
    "* Do not use stemming, because of the text content of tweets.\n",
    "* For sklearn, check the text preprocessing\n",
    "* Using tweet tokenizer from nltk\n",
    "* Using only TF for preprocessing\n",
    "* baseline: random forest, logistic, xgboost\n",
    "\n",
    "16/12\n",
    "* usar spacy para fazer marcacao sintatica. variavel part of speech tag dobraria numero de colunas\n",
    "* achou numero de 0.79 de recall e 0.4 de precision muito baixo\n",
    "* usar shap para interpretabilidade de xgboost\n",
    "\n",
    "usar word2vec (notebook separado)\n",
    "* ref: \n",
    "    * https://github.com/fccoelho/text-mining-cientistas-sociais\n",
    "    * kaggle-quora\n",
    "    * SRI"
   ]
  },
  {
   "cell_type": "code",
   "execution_count": 14,
   "metadata": {},
   "outputs": [],
   "source": [
    "import os\n",
    "import pandas as pd\n",
    "import numpy as np\n",
    "#import pickle\n",
    "from collections import Counter\n",
    "#import math\n",
    "import nltk\n",
    "#import requests\n",
    "#import html\n",
    "#from datetime import datetime, timedelta, date\n",
    "import string\n",
    "import json\n",
    "import matplotlib.pyplot as plt\n",
    "import seaborn as sns\n",
    "#from sklearn.feature_extraction.text import TfidfVectorizer\n",
    "#from sklearn.model_selection import cross_val_score\n",
    "#import statsmodels as sm\n",
    "\n",
    "from gensim.models import Word2Vec, word2vec\n",
    "\n",
    "import warnings\n",
    "warnings.filterwarnings('ignore')\n",
    "%matplotlib inline"
   ]
  },
  {
   "cell_type": "code",
   "execution_count": 2,
   "metadata": {},
   "outputs": [],
   "source": [
    "outputs = \"../outputs/\""
   ]
  },
  {
   "cell_type": "code",
   "execution_count": 3,
   "metadata": {},
   "outputs": [],
   "source": [
    "classifications = pd.read_csv(os.path.join('../outputs/from_anvil/', 'classifications_finished.csv'))"
   ]
  },
  {
   "cell_type": "code",
   "execution_count": 4,
   "metadata": {},
   "outputs": [],
   "source": [
    "classifications = classifications.groupby(by='str_id').sum()\n",
    "classifications['class'] = classifications['relevance'].apply(lambda x: 1 if x>=4 else 0)\n",
    "classifications['class_threshold3'] = classifications['relevance'].apply(lambda x: 1 if x>=3 else 0)\n",
    "classifications.reset_index(inplace=True)\n",
    "classifications.rename(columns = {'str_id': 'id'}, inplace=True)"
   ]
  },
  {
   "cell_type": "code",
   "execution_count": 5,
   "metadata": {},
   "outputs": [],
   "source": [
    "anvil_input = pd.read_json(os.path.join(outputs, \"tweets_anvil_input.json\"))"
   ]
  },
  {
   "cell_type": "code",
   "execution_count": 6,
   "metadata": {},
   "outputs": [
    {
     "data": {
      "text/html": [
       "<div>\n",
       "<style scoped>\n",
       "    .dataframe tbody tr th:only-of-type {\n",
       "        vertical-align: middle;\n",
       "    }\n",
       "\n",
       "    .dataframe tbody tr th {\n",
       "        vertical-align: top;\n",
       "    }\n",
       "\n",
       "    .dataframe thead th {\n",
       "        text-align: right;\n",
       "    }\n",
       "</style>\n",
       "<table border=\"1\" class=\"dataframe\">\n",
       "  <thead>\n",
       "    <tr style=\"text-align: right;\">\n",
       "      <th></th>\n",
       "      <th>id</th>\n",
       "      <th>relevance</th>\n",
       "      <th>class</th>\n",
       "      <th>class_threshold3</th>\n",
       "      <th>message</th>\n",
       "    </tr>\n",
       "  </thead>\n",
       "  <tbody>\n",
       "    <tr>\n",
       "      <th>0</th>\n",
       "      <td>699069305468551169</td>\n",
       "      <td>2</td>\n",
       "      <td>0</td>\n",
       "      <td>0</td>\n",
       "      <td>Brasil tera 55 mil militares nas ruas para com...</td>\n",
       "    </tr>\n",
       "    <tr>\n",
       "      <th>1</th>\n",
       "      <td>699164279472263170</td>\n",
       "      <td>3</td>\n",
       "      <td>0</td>\n",
       "      <td>1</td>\n",
       "      <td>Depois do exercito abandonar o combate aos foc...</td>\n",
       "    </tr>\n",
       "    <tr>\n",
       "      <th>2</th>\n",
       "      <td>699264346304618496</td>\n",
       "      <td>1</td>\n",
       "      <td>0</td>\n",
       "      <td>0</td>\n",
       "      <td>Farmaceuticos recebem treinamento sobre dengue...</td>\n",
       "    </tr>\n",
       "    <tr>\n",
       "      <th>3</th>\n",
       "      <td>699266282646994944</td>\n",
       "      <td>3</td>\n",
       "      <td>0</td>\n",
       "      <td>1</td>\n",
       "      <td>Farmaceuticos recebem treinamento sobre dengue...</td>\n",
       "    </tr>\n",
       "    <tr>\n",
       "      <th>4</th>\n",
       "      <td>699315864122892288</td>\n",
       "      <td>0</td>\n",
       "      <td>0</td>\n",
       "      <td>0</td>\n",
       "      <td>RT @g1: Morador do DF faz 'rap da dengue': 'Ag...</td>\n",
       "    </tr>\n",
       "    <tr>\n",
       "      <th>...</th>\n",
       "      <td>...</td>\n",
       "      <td>...</td>\n",
       "      <td>...</td>\n",
       "      <td>...</td>\n",
       "      <td>...</td>\n",
       "    </tr>\n",
       "    <tr>\n",
       "      <th>995</th>\n",
       "      <td>1000740798114222081</td>\n",
       "      <td>0</td>\n",
       "      <td>0</td>\n",
       "      <td>0</td>\n",
       "      <td>RT @EnquetesFutebas: So eu acho que o Diogo Ba...</td>\n",
       "    </tr>\n",
       "    <tr>\n",
       "      <th>996</th>\n",
       "      <td>1000763927146450944</td>\n",
       "      <td>4</td>\n",
       "      <td>1</td>\n",
       "      <td>1</td>\n",
       "      <td>Nao recomendo ninguem a pegar Zika, serio</td>\n",
       "    </tr>\n",
       "    <tr>\n",
       "      <th>997</th>\n",
       "      <td>1000764889361780736</td>\n",
       "      <td>0</td>\n",
       "      <td>0</td>\n",
       "      <td>0</td>\n",
       "      <td>@_ThiagoAndrei E deixa minha zika pra traz ???...</td>\n",
       "    </tr>\n",
       "    <tr>\n",
       "      <th>998</th>\n",
       "      <td>1000841034488778752</td>\n",
       "      <td>0</td>\n",
       "      <td>0</td>\n",
       "      <td>0</td>\n",
       "      <td>kkkkkkkkk ele tem problema mas eu amo https://...</td>\n",
       "    </tr>\n",
       "    <tr>\n",
       "      <th>999</th>\n",
       "      <td>1000885773028200449</td>\n",
       "      <td>0</td>\n",
       "      <td>0</td>\n",
       "      <td>0</td>\n",
       "      <td>num falei eu so zika ao q ela esqueceu de colo...</td>\n",
       "    </tr>\n",
       "  </tbody>\n",
       "</table>\n",
       "<p>1000 rows × 5 columns</p>\n",
       "</div>"
      ],
      "text/plain": [
       "                      id  relevance  class  class_threshold3  \\\n",
       "0     699069305468551169          2      0                 0   \n",
       "1     699164279472263170          3      0                 1   \n",
       "2     699264346304618496          1      0                 0   \n",
       "3     699266282646994944          3      0                 1   \n",
       "4     699315864122892288          0      0                 0   \n",
       "..                   ...        ...    ...               ...   \n",
       "995  1000740798114222081          0      0                 0   \n",
       "996  1000763927146450944          4      1                 1   \n",
       "997  1000764889361780736          0      0                 0   \n",
       "998  1000841034488778752          0      0                 0   \n",
       "999  1000885773028200449          0      0                 0   \n",
       "\n",
       "                                               message  \n",
       "0    Brasil tera 55 mil militares nas ruas para com...  \n",
       "1    Depois do exercito abandonar o combate aos foc...  \n",
       "2    Farmaceuticos recebem treinamento sobre dengue...  \n",
       "3    Farmaceuticos recebem treinamento sobre dengue...  \n",
       "4    RT @g1: Morador do DF faz 'rap da dengue': 'Ag...  \n",
       "..                                                 ...  \n",
       "995  RT @EnquetesFutebas: So eu acho que o Diogo Ba...  \n",
       "996          Nao recomendo ninguem a pegar Zika, serio  \n",
       "997  @_ThiagoAndrei E deixa minha zika pra traz ???...  \n",
       "998  kkkkkkkkk ele tem problema mas eu amo https://...  \n",
       "999  num falei eu so zika ao q ela esqueceu de colo...  \n",
       "\n",
       "[1000 rows x 5 columns]"
      ]
     },
     "execution_count": 6,
     "metadata": {},
     "output_type": "execute_result"
    }
   ],
   "source": [
    "data = pd.merge(classifications, anvil_input, on='id')\n",
    "data.drop(columns=['tid', 'count'], inplace=True)\n",
    "data"
   ]
  },
  {
   "cell_type": "markdown",
   "metadata": {},
   "source": [
    "# basic exploration"
   ]
  },
  {
   "cell_type": "code",
   "execution_count": 7,
   "metadata": {},
   "outputs": [
    {
     "name": "stdout",
     "output_type": "stream",
     "text": [
      "<class 'pandas.core.frame.DataFrame'>\n",
      "Int64Index: 1000 entries, 0 to 999\n",
      "Data columns (total 5 columns):\n",
      "id                  1000 non-null int64\n",
      "relevance           1000 non-null int64\n",
      "class               1000 non-null int64\n",
      "class_threshold3    1000 non-null int64\n",
      "message             1000 non-null object\n",
      "dtypes: int64(4), object(1)\n",
      "memory usage: 46.9+ KB\n"
     ]
    }
   ],
   "source": [
    "data.info()"
   ]
  },
  {
   "cell_type": "code",
   "execution_count": 8,
   "metadata": {
    "scrolled": true
   },
   "outputs": [
    {
     "data": {
      "text/html": [
       "<div>\n",
       "<style scoped>\n",
       "    .dataframe tbody tr th:only-of-type {\n",
       "        vertical-align: middle;\n",
       "    }\n",
       "\n",
       "    .dataframe tbody tr th {\n",
       "        vertical-align: top;\n",
       "    }\n",
       "\n",
       "    .dataframe thead th {\n",
       "        text-align: right;\n",
       "    }\n",
       "</style>\n",
       "<table border=\"1\" class=\"dataframe\">\n",
       "  <thead>\n",
       "    <tr style=\"text-align: right;\">\n",
       "      <th></th>\n",
       "      <th>id</th>\n",
       "      <th>relevance</th>\n",
       "      <th>class</th>\n",
       "      <th>class_threshold3</th>\n",
       "    </tr>\n",
       "  </thead>\n",
       "  <tbody>\n",
       "    <tr>\n",
       "      <th>count</th>\n",
       "      <td>1.000000e+03</td>\n",
       "      <td>1000.000000</td>\n",
       "      <td>1000.000000</td>\n",
       "      <td>1000.000000</td>\n",
       "    </tr>\n",
       "    <tr>\n",
       "      <th>mean</th>\n",
       "      <td>8.387557e+17</td>\n",
       "      <td>1.166000</td>\n",
       "      <td>0.141000</td>\n",
       "      <td>0.207000</td>\n",
       "    </tr>\n",
       "    <tr>\n",
       "      <th>std</th>\n",
       "      <td>1.140594e+17</td>\n",
       "      <td>1.659276</td>\n",
       "      <td>0.348196</td>\n",
       "      <td>0.405358</td>\n",
       "    </tr>\n",
       "    <tr>\n",
       "      <th>min</th>\n",
       "      <td>6.990693e+17</td>\n",
       "      <td>0.000000</td>\n",
       "      <td>0.000000</td>\n",
       "      <td>0.000000</td>\n",
       "    </tr>\n",
       "    <tr>\n",
       "      <th>25%</th>\n",
       "      <td>7.094149e+17</td>\n",
       "      <td>0.000000</td>\n",
       "      <td>0.000000</td>\n",
       "      <td>0.000000</td>\n",
       "    </tr>\n",
       "    <tr>\n",
       "      <th>50%</th>\n",
       "      <td>8.460180e+17</td>\n",
       "      <td>0.000000</td>\n",
       "      <td>0.000000</td>\n",
       "      <td>0.000000</td>\n",
       "    </tr>\n",
       "    <tr>\n",
       "      <th>75%</th>\n",
       "      <td>9.829813e+17</td>\n",
       "      <td>2.000000</td>\n",
       "      <td>0.000000</td>\n",
       "      <td>0.000000</td>\n",
       "    </tr>\n",
       "    <tr>\n",
       "      <th>max</th>\n",
       "      <td>1.000886e+18</td>\n",
       "      <td>6.000000</td>\n",
       "      <td>1.000000</td>\n",
       "      <td>1.000000</td>\n",
       "    </tr>\n",
       "  </tbody>\n",
       "</table>\n",
       "</div>"
      ],
      "text/plain": [
       "                 id    relevance        class  class_threshold3\n",
       "count  1.000000e+03  1000.000000  1000.000000       1000.000000\n",
       "mean   8.387557e+17     1.166000     0.141000          0.207000\n",
       "std    1.140594e+17     1.659276     0.348196          0.405358\n",
       "min    6.990693e+17     0.000000     0.000000          0.000000\n",
       "25%    7.094149e+17     0.000000     0.000000          0.000000\n",
       "50%    8.460180e+17     0.000000     0.000000          0.000000\n",
       "75%    9.829813e+17     2.000000     0.000000          0.000000\n",
       "max    1.000886e+18     6.000000     1.000000          1.000000"
      ]
     },
     "execution_count": 8,
     "metadata": {},
     "output_type": "execute_result"
    }
   ],
   "source": [
    "data.describe()"
   ]
  },
  {
   "cell_type": "markdown",
   "metadata": {},
   "source": [
    "# check if data is unbalanced"
   ]
  },
  {
   "cell_type": "markdown",
   "metadata": {},
   "source": [
    "**Data is unbalanced!**"
   ]
  },
  {
   "cell_type": "markdown",
   "metadata": {},
   "source": [
    "### Threshold 4\n",
    "fazer undersamplig"
   ]
  },
  {
   "cell_type": "code",
   "execution_count": 9,
   "metadata": {},
   "outputs": [
    {
     "data": {
      "image/png": "[encoded data removed]",
      "text/plain": [
       "<Figure size 576x288 with 1 Axes>"
      ]
     },
     "metadata": {
      "needs_background": "light"
     },
     "output_type": "display_data"
    }
   ],
   "source": [
    "color = sns.color_palette()\n",
    "classif = data['class'].value_counts()\n",
    "plt.figure(figsize=(8,4))\n",
    "sns.barplot(classif.index, classif.values, alpha=0.8, color=color[0])\n",
    "plt.ylabel('Number of Occurrences', fontsize=12)\n",
    "plt.xlabel('Relevance', fontsize=12)\n",
    "plt.show()"
   ]
  },
  {
   "cell_type": "code",
   "execution_count": 10,
   "metadata": {},
   "outputs": [
    {
     "data": {
      "text/plain": [
       "0    859\n",
       "1    141\n",
       "Name: class, dtype: int64"
      ]
     },
     "execution_count": 10,
     "metadata": {},
     "output_type": "execute_result"
    }
   ],
   "source": [
    "data['class'].value_counts()"
   ]
  },
  {
   "cell_type": "markdown",
   "metadata": {},
   "source": [
    "### Threshold 3"
   ]
  },
  {
   "cell_type": "code",
   "execution_count": 11,
   "metadata": {},
   "outputs": [
    {
     "data": {
      "image/png": "[encoded data removed]",
      "text/plain": [
       "<Figure size 576x288 with 1 Axes>"
      ]
     },
     "metadata": {
      "needs_background": "light"
     },
     "output_type": "display_data"
    }
   ],
   "source": [
    "color = sns.color_palette()\n",
    "classif = data['class_threshold3'].value_counts()\n",
    "plt.figure(figsize=(8,4))\n",
    "sns.barplot(classif.index, classif.values, alpha=0.8, color=color[0])\n",
    "plt.ylabel('Number of Occurrences', fontsize=12)\n",
    "plt.xlabel('Relevance', fontsize=12)\n",
    "plt.show()"
   ]
  },
  {
   "cell_type": "code",
   "execution_count": 12,
   "metadata": {},
   "outputs": [
    {
     "data": {
      "text/plain": [
       "0    793\n",
       "1    207\n",
       "Name: class_threshold3, dtype: int64"
      ]
     },
     "execution_count": 12,
     "metadata": {},
     "output_type": "execute_result"
    }
   ],
   "source": [
    "data['class_threshold3'].value_counts()"
   ]
  },
  {
   "cell_type": "markdown",
   "metadata": {},
   "source": [
    "# apply word2vec"
   ]
  },
  {
   "cell_type": "code",
   "execution_count": 15,
   "metadata": {},
   "outputs": [],
   "source": [
    "model = Word2Vec.load('../outputs/virus_tweets.w2v')"
   ]
  },
  {
   "cell_type": "code",
   "execution_count": 17,
   "metadata": {},
   "outputs": [],
   "source": [
    "from nltk.tokenize import TweetTokenizer\n",
    "tknzr = TweetTokenizer()"
   ]
  },
  {
   "cell_type": "code",
   "execution_count": 18,
   "metadata": {},
   "outputs": [
    {
     "data": {
      "text/html": [
       "<div>\n",
       "<style scoped>\n",
       "    .dataframe tbody tr th:only-of-type {\n",
       "        vertical-align: middle;\n",
       "    }\n",
       "\n",
       "    .dataframe tbody tr th {\n",
       "        vertical-align: top;\n",
       "    }\n",
       "\n",
       "    .dataframe thead th {\n",
       "        text-align: right;\n",
       "    }\n",
       "</style>\n",
       "<table border=\"1\" class=\"dataframe\">\n",
       "  <thead>\n",
       "    <tr style=\"text-align: right;\">\n",
       "      <th></th>\n",
       "      <th>0</th>\n",
       "      <th>1</th>\n",
       "      <th>2</th>\n",
       "      <th>3</th>\n",
       "      <th>4</th>\n",
       "      <th>5</th>\n",
       "      <th>6</th>\n",
       "      <th>7</th>\n",
       "      <th>8</th>\n",
       "      <th>9</th>\n",
       "      <th>...</th>\n",
       "      <th>91</th>\n",
       "      <th>92</th>\n",
       "      <th>93</th>\n",
       "      <th>94</th>\n",
       "      <th>95</th>\n",
       "      <th>96</th>\n",
       "      <th>97</th>\n",
       "      <th>98</th>\n",
       "      <th>99</th>\n",
       "      <th>id</th>\n",
       "    </tr>\n",
       "  </thead>\n",
       "  <tbody>\n",
       "    <tr>\n",
       "      <th>0</th>\n",
       "      <td>-0.054579</td>\n",
       "      <td>-0.056095</td>\n",
       "      <td>-0.293834</td>\n",
       "      <td>0.163989</td>\n",
       "      <td>-0.091878</td>\n",
       "      <td>-0.049336</td>\n",
       "      <td>0.307699</td>\n",
       "      <td>-0.317376</td>\n",
       "      <td>-0.159458</td>\n",
       "      <td>-0.232558</td>\n",
       "      <td>...</td>\n",
       "      <td>-0.195065</td>\n",
       "      <td>-0.355111</td>\n",
       "      <td>0.215967</td>\n",
       "      <td>-0.390713</td>\n",
       "      <td>-0.001495</td>\n",
       "      <td>0.084707</td>\n",
       "      <td>0.266501</td>\n",
       "      <td>-0.103630</td>\n",
       "      <td>-0.121253</td>\n",
       "      <td>699069305468551169</td>\n",
       "    </tr>\n",
       "    <tr>\n",
       "      <th>0</th>\n",
       "      <td>0.309184</td>\n",
       "      <td>-0.203861</td>\n",
       "      <td>-0.165096</td>\n",
       "      <td>0.236381</td>\n",
       "      <td>-0.040346</td>\n",
       "      <td>0.074179</td>\n",
       "      <td>0.349351</td>\n",
       "      <td>-0.290216</td>\n",
       "      <td>-0.018766</td>\n",
       "      <td>-0.292824</td>\n",
       "      <td>...</td>\n",
       "      <td>-0.241685</td>\n",
       "      <td>-0.201538</td>\n",
       "      <td>0.190292</td>\n",
       "      <td>-0.290147</td>\n",
       "      <td>-0.033065</td>\n",
       "      <td>0.224111</td>\n",
       "      <td>0.194127</td>\n",
       "      <td>0.223998</td>\n",
       "      <td>0.145678</td>\n",
       "      <td>699164279472263170</td>\n",
       "    </tr>\n",
       "    <tr>\n",
       "      <th>0</th>\n",
       "      <td>0.034231</td>\n",
       "      <td>0.065151</td>\n",
       "      <td>-0.239916</td>\n",
       "      <td>0.052992</td>\n",
       "      <td>-0.056265</td>\n",
       "      <td>-0.006833</td>\n",
       "      <td>0.282982</td>\n",
       "      <td>-0.226849</td>\n",
       "      <td>-0.083461</td>\n",
       "      <td>-0.179844</td>\n",
       "      <td>...</td>\n",
       "      <td>-0.181027</td>\n",
       "      <td>-0.099124</td>\n",
       "      <td>0.120320</td>\n",
       "      <td>-0.080616</td>\n",
       "      <td>-0.072519</td>\n",
       "      <td>0.064504</td>\n",
       "      <td>0.352341</td>\n",
       "      <td>0.000418</td>\n",
       "      <td>0.139386</td>\n",
       "      <td>699264346304618496</td>\n",
       "    </tr>\n",
       "    <tr>\n",
       "      <th>0</th>\n",
       "      <td>0.033019</td>\n",
       "      <td>0.065145</td>\n",
       "      <td>-0.239122</td>\n",
       "      <td>0.051960</td>\n",
       "      <td>-0.055719</td>\n",
       "      <td>-0.007115</td>\n",
       "      <td>0.283227</td>\n",
       "      <td>-0.226116</td>\n",
       "      <td>-0.082777</td>\n",
       "      <td>-0.178593</td>\n",
       "      <td>...</td>\n",
       "      <td>-0.180162</td>\n",
       "      <td>-0.098754</td>\n",
       "      <td>0.118657</td>\n",
       "      <td>-0.080741</td>\n",
       "      <td>-0.072309</td>\n",
       "      <td>0.063445</td>\n",
       "      <td>0.351651</td>\n",
       "      <td>0.000122</td>\n",
       "      <td>0.139684</td>\n",
       "      <td>699266282646994944</td>\n",
       "    </tr>\n",
       "    <tr>\n",
       "      <th>0</th>\n",
       "      <td>0.200753</td>\n",
       "      <td>-0.043154</td>\n",
       "      <td>-0.196945</td>\n",
       "      <td>0.153841</td>\n",
       "      <td>0.042552</td>\n",
       "      <td>0.117329</td>\n",
       "      <td>0.372140</td>\n",
       "      <td>-0.163586</td>\n",
       "      <td>-0.102711</td>\n",
       "      <td>-0.253740</td>\n",
       "      <td>...</td>\n",
       "      <td>-0.110643</td>\n",
       "      <td>-0.211415</td>\n",
       "      <td>0.266346</td>\n",
       "      <td>-0.067081</td>\n",
       "      <td>-0.115417</td>\n",
       "      <td>0.198813</td>\n",
       "      <td>0.247414</td>\n",
       "      <td>0.264506</td>\n",
       "      <td>-0.017108</td>\n",
       "      <td>699315864122892288</td>\n",
       "    </tr>\n",
       "  </tbody>\n",
       "</table>\n",
       "<p>5 rows × 101 columns</p>\n",
       "</div>"
      ],
      "text/plain": [
       "          0         1         2         3         4         5         6  \\\n",
       "0 -0.054579 -0.056095 -0.293834  0.163989 -0.091878 -0.049336  0.307699   \n",
       "0  0.309184 -0.203861 -0.165096  0.236381 -0.040346  0.074179  0.349351   \n",
       "0  0.034231  0.065151 -0.239916  0.052992 -0.056265 -0.006833  0.282982   \n",
       "0  0.033019  0.065145 -0.239122  0.051960 -0.055719 -0.007115  0.283227   \n",
       "0  0.200753 -0.043154 -0.196945  0.153841  0.042552  0.117329  0.372140   \n",
       "\n",
       "          7         8         9  ...        91        92        93        94  \\\n",
       "0 -0.317376 -0.159458 -0.232558  ... -0.195065 -0.355111  0.215967 -0.390713   \n",
       "0 -0.290216 -0.018766 -0.292824  ... -0.241685 -0.201538  0.190292 -0.290147   \n",
       "0 -0.226849 -0.083461 -0.179844  ... -0.181027 -0.099124  0.120320 -0.080616   \n",
       "0 -0.226116 -0.082777 -0.178593  ... -0.180162 -0.098754  0.118657 -0.080741   \n",
       "0 -0.163586 -0.102711 -0.253740  ... -0.110643 -0.211415  0.266346 -0.067081   \n",
       "\n",
       "         95        96        97        98        99                  id  \n",
       "0 -0.001495  0.084707  0.266501 -0.103630 -0.121253  699069305468551169  \n",
       "0 -0.033065  0.224111  0.194127  0.223998  0.145678  699164279472263170  \n",
       "0 -0.072519  0.064504  0.352341  0.000418  0.139386  699264346304618496  \n",
       "0 -0.072309  0.063445  0.351651  0.000122  0.139684  699266282646994944  \n",
       "0 -0.115417  0.198813  0.247414  0.264506 -0.017108  699315864122892288  \n",
       "\n",
       "[5 rows x 101 columns]"
      ]
     },
     "execution_count": 18,
     "metadata": {},
     "output_type": "execute_result"
    }
   ],
   "source": [
    "n_dimensions = len(model.wv['dengue'])\n",
    "w2v_data = pd.DataFrame()\n",
    "for index, row in data.iterrows():\n",
    "    tid = row[0]\n",
    "    text = row[4]\n",
    "    sum_w2v = np.zeros(n_dimensions)\n",
    "    for word in tknzr.tokenize(text.translate(str.maketrans('', '', string.punctuation)).lower()):\n",
    "        if word in model.wv.vocab:\n",
    "            sum_w2v += model.wv[word]\n",
    "    avg_w2v = sum_w2v/n_dimensions\n",
    "    w2v_row = pd.DataFrame(data=avg_w2v).transpose()\n",
    "    w2v_row['id'] = tid\n",
    "    w2v_data = w2v_data.append(w2v_row)\n",
    "w2v_data.head()"
   ]
  },
  {
   "cell_type": "code",
   "execution_count": 19,
   "metadata": {},
   "outputs": [
    {
     "name": "stdout",
     "output_type": "stream",
     "text": [
      "df size is: 1000\n"
     ]
    },
    {
     "data": {
      "text/html": [
       "<div>\n",
       "<style scoped>\n",
       "    .dataframe tbody tr th:only-of-type {\n",
       "        vertical-align: middle;\n",
       "    }\n",
       "\n",
       "    .dataframe tbody tr th {\n",
       "        vertical-align: top;\n",
       "    }\n",
       "\n",
       "    .dataframe thead th {\n",
       "        text-align: right;\n",
       "    }\n",
       "</style>\n",
       "<table border=\"1\" class=\"dataframe\">\n",
       "  <thead>\n",
       "    <tr style=\"text-align: right;\">\n",
       "      <th></th>\n",
       "      <th>id</th>\n",
       "      <th>relevance</th>\n",
       "      <th>class</th>\n",
       "      <th>class_threshold3</th>\n",
       "      <th>message</th>\n",
       "      <th>0</th>\n",
       "      <th>1</th>\n",
       "      <th>2</th>\n",
       "      <th>3</th>\n",
       "      <th>4</th>\n",
       "      <th>...</th>\n",
       "      <th>90</th>\n",
       "      <th>91</th>\n",
       "      <th>92</th>\n",
       "      <th>93</th>\n",
       "      <th>94</th>\n",
       "      <th>95</th>\n",
       "      <th>96</th>\n",
       "      <th>97</th>\n",
       "      <th>98</th>\n",
       "      <th>99</th>\n",
       "    </tr>\n",
       "  </thead>\n",
       "  <tbody>\n",
       "    <tr>\n",
       "      <th>0</th>\n",
       "      <td>699069305468551169</td>\n",
       "      <td>2</td>\n",
       "      <td>0</td>\n",
       "      <td>0</td>\n",
       "      <td>Brasil tera 55 mil militares nas ruas para com...</td>\n",
       "      <td>-0.054579</td>\n",
       "      <td>-0.056095</td>\n",
       "      <td>-0.293834</td>\n",
       "      <td>0.163989</td>\n",
       "      <td>-0.091878</td>\n",
       "      <td>...</td>\n",
       "      <td>0.698767</td>\n",
       "      <td>-0.195065</td>\n",
       "      <td>-0.355111</td>\n",
       "      <td>0.215967</td>\n",
       "      <td>-0.390713</td>\n",
       "      <td>-0.001495</td>\n",
       "      <td>0.084707</td>\n",
       "      <td>0.266501</td>\n",
       "      <td>-0.103630</td>\n",
       "      <td>-0.121253</td>\n",
       "    </tr>\n",
       "    <tr>\n",
       "      <th>1</th>\n",
       "      <td>699164279472263170</td>\n",
       "      <td>3</td>\n",
       "      <td>0</td>\n",
       "      <td>1</td>\n",
       "      <td>Depois do exercito abandonar o combate aos foc...</td>\n",
       "      <td>0.309184</td>\n",
       "      <td>-0.203861</td>\n",
       "      <td>-0.165096</td>\n",
       "      <td>0.236381</td>\n",
       "      <td>-0.040346</td>\n",
       "      <td>...</td>\n",
       "      <td>0.814463</td>\n",
       "      <td>-0.241685</td>\n",
       "      <td>-0.201538</td>\n",
       "      <td>0.190292</td>\n",
       "      <td>-0.290147</td>\n",
       "      <td>-0.033065</td>\n",
       "      <td>0.224111</td>\n",
       "      <td>0.194127</td>\n",
       "      <td>0.223998</td>\n",
       "      <td>0.145678</td>\n",
       "    </tr>\n",
       "    <tr>\n",
       "      <th>2</th>\n",
       "      <td>699264346304618496</td>\n",
       "      <td>1</td>\n",
       "      <td>0</td>\n",
       "      <td>0</td>\n",
       "      <td>Farmaceuticos recebem treinamento sobre dengue...</td>\n",
       "      <td>0.034231</td>\n",
       "      <td>0.065151</td>\n",
       "      <td>-0.239916</td>\n",
       "      <td>0.052992</td>\n",
       "      <td>-0.056265</td>\n",
       "      <td>...</td>\n",
       "      <td>0.473592</td>\n",
       "      <td>-0.181027</td>\n",
       "      <td>-0.099124</td>\n",
       "      <td>0.120320</td>\n",
       "      <td>-0.080616</td>\n",
       "      <td>-0.072519</td>\n",
       "      <td>0.064504</td>\n",
       "      <td>0.352341</td>\n",
       "      <td>0.000418</td>\n",
       "      <td>0.139386</td>\n",
       "    </tr>\n",
       "    <tr>\n",
       "      <th>3</th>\n",
       "      <td>699266282646994944</td>\n",
       "      <td>3</td>\n",
       "      <td>0</td>\n",
       "      <td>1</td>\n",
       "      <td>Farmaceuticos recebem treinamento sobre dengue...</td>\n",
       "      <td>0.033019</td>\n",
       "      <td>0.065145</td>\n",
       "      <td>-0.239122</td>\n",
       "      <td>0.051960</td>\n",
       "      <td>-0.055719</td>\n",
       "      <td>...</td>\n",
       "      <td>0.471401</td>\n",
       "      <td>-0.180162</td>\n",
       "      <td>-0.098754</td>\n",
       "      <td>0.118657</td>\n",
       "      <td>-0.080741</td>\n",
       "      <td>-0.072309</td>\n",
       "      <td>0.063445</td>\n",
       "      <td>0.351651</td>\n",
       "      <td>0.000122</td>\n",
       "      <td>0.139684</td>\n",
       "    </tr>\n",
       "    <tr>\n",
       "      <th>4</th>\n",
       "      <td>699315864122892288</td>\n",
       "      <td>0</td>\n",
       "      <td>0</td>\n",
       "      <td>0</td>\n",
       "      <td>RT @g1: Morador do DF faz 'rap da dengue': 'Ag...</td>\n",
       "      <td>0.200753</td>\n",
       "      <td>-0.043154</td>\n",
       "      <td>-0.196945</td>\n",
       "      <td>0.153841</td>\n",
       "      <td>0.042552</td>\n",
       "      <td>...</td>\n",
       "      <td>0.666256</td>\n",
       "      <td>-0.110643</td>\n",
       "      <td>-0.211415</td>\n",
       "      <td>0.266346</td>\n",
       "      <td>-0.067081</td>\n",
       "      <td>-0.115417</td>\n",
       "      <td>0.198813</td>\n",
       "      <td>0.247414</td>\n",
       "      <td>0.264506</td>\n",
       "      <td>-0.017108</td>\n",
       "    </tr>\n",
       "  </tbody>\n",
       "</table>\n",
       "<p>5 rows × 105 columns</p>\n",
       "</div>"
      ],
      "text/plain": [
       "                   id  relevance  class  class_threshold3  \\\n",
       "0  699069305468551169          2      0                 0   \n",
       "1  699164279472263170          3      0                 1   \n",
       "2  699264346304618496          1      0                 0   \n",
       "3  699266282646994944          3      0                 1   \n",
       "4  699315864122892288          0      0                 0   \n",
       "\n",
       "                                             message         0         1  \\\n",
       "0  Brasil tera 55 mil militares nas ruas para com... -0.054579 -0.056095   \n",
       "1  Depois do exercito abandonar o combate aos foc...  0.309184 -0.203861   \n",
       "2  Farmaceuticos recebem treinamento sobre dengue...  0.034231  0.065151   \n",
       "3  Farmaceuticos recebem treinamento sobre dengue...  0.033019  0.065145   \n",
       "4  RT @g1: Morador do DF faz 'rap da dengue': 'Ag...  0.200753 -0.043154   \n",
       "\n",
       "          2         3         4  ...        90        91        92        93  \\\n",
       "0 -0.293834  0.163989 -0.091878  ...  0.698767 -0.195065 -0.355111  0.215967   \n",
       "1 -0.165096  0.236381 -0.040346  ...  0.814463 -0.241685 -0.201538  0.190292   \n",
       "2 -0.239916  0.052992 -0.056265  ...  0.473592 -0.181027 -0.099124  0.120320   \n",
       "3 -0.239122  0.051960 -0.055719  ...  0.471401 -0.180162 -0.098754  0.118657   \n",
       "4 -0.196945  0.153841  0.042552  ...  0.666256 -0.110643 -0.211415  0.266346   \n",
       "\n",
       "         94        95        96        97        98        99  \n",
       "0 -0.390713 -0.001495  0.084707  0.266501 -0.103630 -0.121253  \n",
       "1 -0.290147 -0.033065  0.224111  0.194127  0.223998  0.145678  \n",
       "2 -0.080616 -0.072519  0.064504  0.352341  0.000418  0.139386  \n",
       "3 -0.080741 -0.072309  0.063445  0.351651  0.000122  0.139684  \n",
       "4 -0.067081 -0.115417  0.198813  0.247414  0.264506 -0.017108  \n",
       "\n",
       "[5 rows x 105 columns]"
      ]
     },
     "execution_count": 19,
     "metadata": {},
     "output_type": "execute_result"
    }
   ],
   "source": [
    "data = pd.merge(data, w2v_data, left_on='id', right_on='id')\n",
    "print('df size is:', len(data))\n",
    "data.head()"
   ]
  },
  {
   "cell_type": "markdown",
   "metadata": {},
   "source": [
    "# Data split"
   ]
  },
  {
   "cell_type": "code",
   "execution_count": 20,
   "metadata": {},
   "outputs": [],
   "source": [
    "from sklearn.model_selection import train_test_split"
   ]
  },
  {
   "cell_type": "code",
   "execution_count": 21,
   "metadata": {},
   "outputs": [],
   "source": [
    "data = data.rename(columns={\"class\": \"y1\", \"class_threshold3\": \"y2\"})"
   ]
  },
  {
   "cell_type": "code",
   "execution_count": 22,
   "metadata": {},
   "outputs": [
    {
     "data": {
      "text/plain": [
       "Index([ 0,  1,  2,  3,  4,  5,  6,  7,  8,  9, 10, 11, 12, 13, 14, 15, 16, 17,\n",
       "       18, 19, 20, 21, 22, 23, 24, 25, 26, 27, 28, 29, 30, 31, 32, 33, 34, 35,\n",
       "       36, 37, 38, 39, 40, 41, 42, 43, 44, 45, 46, 47, 48, 49, 50, 51, 52, 53,\n",
       "       54, 55, 56, 57, 58, 59, 60, 61, 62, 63, 64, 65, 66, 67, 68, 69, 70, 71,\n",
       "       72, 73, 74, 75, 76, 77, 78, 79, 80, 81, 82, 83, 84, 85, 86, 87, 88, 89,\n",
       "       90, 91, 92, 93, 94, 95, 96, 97, 98, 99],\n",
       "      dtype='object')"
      ]
     },
     "execution_count": 22,
     "metadata": {},
     "output_type": "execute_result"
    }
   ],
   "source": [
    "x_variables = data.columns[5:]\n",
    "x_variables"
   ]
  },
  {
   "cell_type": "code",
   "execution_count": 23,
   "metadata": {},
   "outputs": [],
   "source": [
    "#ys = data.iloc[:, 2:4]\n",
    "y = data.loc[:, 'y2']\n",
    "#y = data.iloc[:, 3:4]\n",
    "X = data.iloc[:, 5:]\n",
    "\n",
    "X_train, X_test, y_train, y_test = train_test_split(X, y, test_size = 0.3, random_state=0, shuffle=False)"
   ]
  },
  {
   "cell_type": "code",
   "execution_count": 24,
   "metadata": {
    "scrolled": true
   },
   "outputs": [
    {
     "data": {
      "text/html": [
       "<div>\n",
       "<style scoped>\n",
       "    .dataframe tbody tr th:only-of-type {\n",
       "        vertical-align: middle;\n",
       "    }\n",
       "\n",
       "    .dataframe tbody tr th {\n",
       "        vertical-align: top;\n",
       "    }\n",
       "\n",
       "    .dataframe thead th {\n",
       "        text-align: right;\n",
       "    }\n",
       "</style>\n",
       "<table border=\"1\" class=\"dataframe\">\n",
       "  <thead>\n",
       "    <tr style=\"text-align: right;\">\n",
       "      <th></th>\n",
       "      <th>0</th>\n",
       "      <th>1</th>\n",
       "      <th>2</th>\n",
       "      <th>3</th>\n",
       "      <th>4</th>\n",
       "      <th>5</th>\n",
       "      <th>6</th>\n",
       "      <th>7</th>\n",
       "      <th>8</th>\n",
       "      <th>9</th>\n",
       "      <th>...</th>\n",
       "      <th>90</th>\n",
       "      <th>91</th>\n",
       "      <th>92</th>\n",
       "      <th>93</th>\n",
       "      <th>94</th>\n",
       "      <th>95</th>\n",
       "      <th>96</th>\n",
       "      <th>97</th>\n",
       "      <th>98</th>\n",
       "      <th>99</th>\n",
       "    </tr>\n",
       "  </thead>\n",
       "  <tbody>\n",
       "    <tr>\n",
       "      <th>0</th>\n",
       "      <td>-0.054579</td>\n",
       "      <td>-0.056095</td>\n",
       "      <td>-0.293834</td>\n",
       "      <td>0.163989</td>\n",
       "      <td>-0.091878</td>\n",
       "      <td>-0.049336</td>\n",
       "      <td>0.307699</td>\n",
       "      <td>-0.317376</td>\n",
       "      <td>-0.159458</td>\n",
       "      <td>-0.232558</td>\n",
       "      <td>...</td>\n",
       "      <td>0.698767</td>\n",
       "      <td>-0.195065</td>\n",
       "      <td>-0.355111</td>\n",
       "      <td>0.215967</td>\n",
       "      <td>-0.390713</td>\n",
       "      <td>-0.001495</td>\n",
       "      <td>0.084707</td>\n",
       "      <td>0.266501</td>\n",
       "      <td>-0.103630</td>\n",
       "      <td>-0.121253</td>\n",
       "    </tr>\n",
       "    <tr>\n",
       "      <th>1</th>\n",
       "      <td>0.309184</td>\n",
       "      <td>-0.203861</td>\n",
       "      <td>-0.165096</td>\n",
       "      <td>0.236381</td>\n",
       "      <td>-0.040346</td>\n",
       "      <td>0.074179</td>\n",
       "      <td>0.349351</td>\n",
       "      <td>-0.290216</td>\n",
       "      <td>-0.018766</td>\n",
       "      <td>-0.292824</td>\n",
       "      <td>...</td>\n",
       "      <td>0.814463</td>\n",
       "      <td>-0.241685</td>\n",
       "      <td>-0.201538</td>\n",
       "      <td>0.190292</td>\n",
       "      <td>-0.290147</td>\n",
       "      <td>-0.033065</td>\n",
       "      <td>0.224111</td>\n",
       "      <td>0.194127</td>\n",
       "      <td>0.223998</td>\n",
       "      <td>0.145678</td>\n",
       "    </tr>\n",
       "    <tr>\n",
       "      <th>2</th>\n",
       "      <td>0.034231</td>\n",
       "      <td>0.065151</td>\n",
       "      <td>-0.239916</td>\n",
       "      <td>0.052992</td>\n",
       "      <td>-0.056265</td>\n",
       "      <td>-0.006833</td>\n",
       "      <td>0.282982</td>\n",
       "      <td>-0.226849</td>\n",
       "      <td>-0.083461</td>\n",
       "      <td>-0.179844</td>\n",
       "      <td>...</td>\n",
       "      <td>0.473592</td>\n",
       "      <td>-0.181027</td>\n",
       "      <td>-0.099124</td>\n",
       "      <td>0.120320</td>\n",
       "      <td>-0.080616</td>\n",
       "      <td>-0.072519</td>\n",
       "      <td>0.064504</td>\n",
       "      <td>0.352341</td>\n",
       "      <td>0.000418</td>\n",
       "      <td>0.139386</td>\n",
       "    </tr>\n",
       "    <tr>\n",
       "      <th>3</th>\n",
       "      <td>0.033019</td>\n",
       "      <td>0.065145</td>\n",
       "      <td>-0.239122</td>\n",
       "      <td>0.051960</td>\n",
       "      <td>-0.055719</td>\n",
       "      <td>-0.007115</td>\n",
       "      <td>0.283227</td>\n",
       "      <td>-0.226116</td>\n",
       "      <td>-0.082777</td>\n",
       "      <td>-0.178593</td>\n",
       "      <td>...</td>\n",
       "      <td>0.471401</td>\n",
       "      <td>-0.180162</td>\n",
       "      <td>-0.098754</td>\n",
       "      <td>0.118657</td>\n",
       "      <td>-0.080741</td>\n",
       "      <td>-0.072309</td>\n",
       "      <td>0.063445</td>\n",
       "      <td>0.351651</td>\n",
       "      <td>0.000122</td>\n",
       "      <td>0.139684</td>\n",
       "    </tr>\n",
       "    <tr>\n",
       "      <th>4</th>\n",
       "      <td>0.200753</td>\n",
       "      <td>-0.043154</td>\n",
       "      <td>-0.196945</td>\n",
       "      <td>0.153841</td>\n",
       "      <td>0.042552</td>\n",
       "      <td>0.117329</td>\n",
       "      <td>0.372140</td>\n",
       "      <td>-0.163586</td>\n",
       "      <td>-0.102711</td>\n",
       "      <td>-0.253740</td>\n",
       "      <td>...</td>\n",
       "      <td>0.666256</td>\n",
       "      <td>-0.110643</td>\n",
       "      <td>-0.211415</td>\n",
       "      <td>0.266346</td>\n",
       "      <td>-0.067081</td>\n",
       "      <td>-0.115417</td>\n",
       "      <td>0.198813</td>\n",
       "      <td>0.247414</td>\n",
       "      <td>0.264506</td>\n",
       "      <td>-0.017108</td>\n",
       "    </tr>\n",
       "  </tbody>\n",
       "</table>\n",
       "<p>5 rows × 100 columns</p>\n",
       "</div>"
      ],
      "text/plain": [
       "         0         1         2         3         4         5         6   \\\n",
       "0 -0.054579 -0.056095 -0.293834  0.163989 -0.091878 -0.049336  0.307699   \n",
       "1  0.309184 -0.203861 -0.165096  0.236381 -0.040346  0.074179  0.349351   \n",
       "2  0.034231  0.065151 -0.239916  0.052992 -0.056265 -0.006833  0.282982   \n",
       "3  0.033019  0.065145 -0.239122  0.051960 -0.055719 -0.007115  0.283227   \n",
       "4  0.200753 -0.043154 -0.196945  0.153841  0.042552  0.117329  0.372140   \n",
       "\n",
       "         7         8         9   ...        90        91        92        93  \\\n",
       "0 -0.317376 -0.159458 -0.232558  ...  0.698767 -0.195065 -0.355111  0.215967   \n",
       "1 -0.290216 -0.018766 -0.292824  ...  0.814463 -0.241685 -0.201538  0.190292   \n",
       "2 -0.226849 -0.083461 -0.179844  ...  0.473592 -0.181027 -0.099124  0.120320   \n",
       "3 -0.226116 -0.082777 -0.178593  ...  0.471401 -0.180162 -0.098754  0.118657   \n",
       "4 -0.163586 -0.102711 -0.253740  ...  0.666256 -0.110643 -0.211415  0.266346   \n",
       "\n",
       "         94        95        96        97        98        99  \n",
       "0 -0.390713 -0.001495  0.084707  0.266501 -0.103630 -0.121253  \n",
       "1 -0.290147 -0.033065  0.224111  0.194127  0.223998  0.145678  \n",
       "2 -0.080616 -0.072519  0.064504  0.352341  0.000418  0.139386  \n",
       "3 -0.080741 -0.072309  0.063445  0.351651  0.000122  0.139684  \n",
       "4 -0.067081 -0.115417  0.198813  0.247414  0.264506 -0.017108  \n",
       "\n",
       "[5 rows x 100 columns]"
      ]
     },
     "execution_count": 24,
     "metadata": {},
     "output_type": "execute_result"
    }
   ],
   "source": [
    "X_train.head()"
   ]
  },
  {
   "cell_type": "code",
   "execution_count": 25,
   "metadata": {},
   "outputs": [
    {
     "data": {
      "text/plain": [
       "0      0\n",
       "1      1\n",
       "2      0\n",
       "3      1\n",
       "4      0\n",
       "      ..\n",
       "995    0\n",
       "996    1\n",
       "997    0\n",
       "998    0\n",
       "999    0\n",
       "Name: y2, Length: 1000, dtype: int64"
      ]
     },
     "execution_count": 25,
     "metadata": {},
     "output_type": "execute_result"
    }
   ],
   "source": [
    "y"
   ]
  },
  {
   "cell_type": "markdown",
   "metadata": {},
   "source": [
    "# ML, Baseline"
   ]
  },
  {
   "cell_type": "code",
   "execution_count": 26,
   "metadata": {},
   "outputs": [],
   "source": [
    "from sklearn.preprocessing import StandardScaler, Imputer\n",
    "from sklearn.pipeline import Pipeline\n",
    "from sklearn.model_selection import GridSearchCV\n",
    "from sklearn.metrics import classification_report, roc_curve, roc_auc_score, confusion_matrix, accuracy_score"
   ]
  },
  {
   "cell_type": "markdown",
   "metadata": {},
   "source": [
    "### Logistic Regression"
   ]
  },
  {
   "cell_type": "code",
   "execution_count": 27,
   "metadata": {},
   "outputs": [],
   "source": [
    "from sklearn.linear_model import LogisticRegression"
   ]
  },
  {
   "cell_type": "code",
   "execution_count": 28,
   "metadata": {},
   "outputs": [
    {
     "data": {
      "text/html": [
       "<div>\n",
       "<style scoped>\n",
       "    .dataframe tbody tr th:only-of-type {\n",
       "        vertical-align: middle;\n",
       "    }\n",
       "\n",
       "    .dataframe tbody tr th {\n",
       "        vertical-align: top;\n",
       "    }\n",
       "\n",
       "    .dataframe thead th {\n",
       "        text-align: right;\n",
       "    }\n",
       "</style>\n",
       "<table border=\"1\" class=\"dataframe\">\n",
       "  <thead>\n",
       "    <tr style=\"text-align: right;\">\n",
       "      <th></th>\n",
       "      <th>0</th>\n",
       "      <th>1</th>\n",
       "      <th>2</th>\n",
       "      <th>3</th>\n",
       "      <th>4</th>\n",
       "      <th>5</th>\n",
       "      <th>6</th>\n",
       "      <th>7</th>\n",
       "      <th>8</th>\n",
       "      <th>9</th>\n",
       "      <th>...</th>\n",
       "      <th>90</th>\n",
       "      <th>91</th>\n",
       "      <th>92</th>\n",
       "      <th>93</th>\n",
       "      <th>94</th>\n",
       "      <th>95</th>\n",
       "      <th>96</th>\n",
       "      <th>97</th>\n",
       "      <th>98</th>\n",
       "      <th>99</th>\n",
       "    </tr>\n",
       "  </thead>\n",
       "  <tbody>\n",
       "    <tr>\n",
       "      <th>0</th>\n",
       "      <td>-0.054579</td>\n",
       "      <td>-0.056095</td>\n",
       "      <td>-0.293834</td>\n",
       "      <td>0.163989</td>\n",
       "      <td>-0.091878</td>\n",
       "      <td>-0.049336</td>\n",
       "      <td>0.307699</td>\n",
       "      <td>-0.317376</td>\n",
       "      <td>-0.159458</td>\n",
       "      <td>-0.232558</td>\n",
       "      <td>...</td>\n",
       "      <td>0.698767</td>\n",
       "      <td>-0.195065</td>\n",
       "      <td>-0.355111</td>\n",
       "      <td>0.215967</td>\n",
       "      <td>-0.390713</td>\n",
       "      <td>-0.001495</td>\n",
       "      <td>0.084707</td>\n",
       "      <td>0.266501</td>\n",
       "      <td>-0.103630</td>\n",
       "      <td>-0.121253</td>\n",
       "    </tr>\n",
       "    <tr>\n",
       "      <th>1</th>\n",
       "      <td>0.309184</td>\n",
       "      <td>-0.203861</td>\n",
       "      <td>-0.165096</td>\n",
       "      <td>0.236381</td>\n",
       "      <td>-0.040346</td>\n",
       "      <td>0.074179</td>\n",
       "      <td>0.349351</td>\n",
       "      <td>-0.290216</td>\n",
       "      <td>-0.018766</td>\n",
       "      <td>-0.292824</td>\n",
       "      <td>...</td>\n",
       "      <td>0.814463</td>\n",
       "      <td>-0.241685</td>\n",
       "      <td>-0.201538</td>\n",
       "      <td>0.190292</td>\n",
       "      <td>-0.290147</td>\n",
       "      <td>-0.033065</td>\n",
       "      <td>0.224111</td>\n",
       "      <td>0.194127</td>\n",
       "      <td>0.223998</td>\n",
       "      <td>0.145678</td>\n",
       "    </tr>\n",
       "    <tr>\n",
       "      <th>2</th>\n",
       "      <td>0.034231</td>\n",
       "      <td>0.065151</td>\n",
       "      <td>-0.239916</td>\n",
       "      <td>0.052992</td>\n",
       "      <td>-0.056265</td>\n",
       "      <td>-0.006833</td>\n",
       "      <td>0.282982</td>\n",
       "      <td>-0.226849</td>\n",
       "      <td>-0.083461</td>\n",
       "      <td>-0.179844</td>\n",
       "      <td>...</td>\n",
       "      <td>0.473592</td>\n",
       "      <td>-0.181027</td>\n",
       "      <td>-0.099124</td>\n",
       "      <td>0.120320</td>\n",
       "      <td>-0.080616</td>\n",
       "      <td>-0.072519</td>\n",
       "      <td>0.064504</td>\n",
       "      <td>0.352341</td>\n",
       "      <td>0.000418</td>\n",
       "      <td>0.139386</td>\n",
       "    </tr>\n",
       "    <tr>\n",
       "      <th>3</th>\n",
       "      <td>0.033019</td>\n",
       "      <td>0.065145</td>\n",
       "      <td>-0.239122</td>\n",
       "      <td>0.051960</td>\n",
       "      <td>-0.055719</td>\n",
       "      <td>-0.007115</td>\n",
       "      <td>0.283227</td>\n",
       "      <td>-0.226116</td>\n",
       "      <td>-0.082777</td>\n",
       "      <td>-0.178593</td>\n",
       "      <td>...</td>\n",
       "      <td>0.471401</td>\n",
       "      <td>-0.180162</td>\n",
       "      <td>-0.098754</td>\n",
       "      <td>0.118657</td>\n",
       "      <td>-0.080741</td>\n",
       "      <td>-0.072309</td>\n",
       "      <td>0.063445</td>\n",
       "      <td>0.351651</td>\n",
       "      <td>0.000122</td>\n",
       "      <td>0.139684</td>\n",
       "    </tr>\n",
       "    <tr>\n",
       "      <th>4</th>\n",
       "      <td>0.200753</td>\n",
       "      <td>-0.043154</td>\n",
       "      <td>-0.196945</td>\n",
       "      <td>0.153841</td>\n",
       "      <td>0.042552</td>\n",
       "      <td>0.117329</td>\n",
       "      <td>0.372140</td>\n",
       "      <td>-0.163586</td>\n",
       "      <td>-0.102711</td>\n",
       "      <td>-0.253740</td>\n",
       "      <td>...</td>\n",
       "      <td>0.666256</td>\n",
       "      <td>-0.110643</td>\n",
       "      <td>-0.211415</td>\n",
       "      <td>0.266346</td>\n",
       "      <td>-0.067081</td>\n",
       "      <td>-0.115417</td>\n",
       "      <td>0.198813</td>\n",
       "      <td>0.247414</td>\n",
       "      <td>0.264506</td>\n",
       "      <td>-0.017108</td>\n",
       "    </tr>\n",
       "    <tr>\n",
       "      <th>...</th>\n",
       "      <td>...</td>\n",
       "      <td>...</td>\n",
       "      <td>...</td>\n",
       "      <td>...</td>\n",
       "      <td>...</td>\n",
       "      <td>...</td>\n",
       "      <td>...</td>\n",
       "      <td>...</td>\n",
       "      <td>...</td>\n",
       "      <td>...</td>\n",
       "      <td>...</td>\n",
       "      <td>...</td>\n",
       "      <td>...</td>\n",
       "      <td>...</td>\n",
       "      <td>...</td>\n",
       "      <td>...</td>\n",
       "      <td>...</td>\n",
       "      <td>...</td>\n",
       "      <td>...</td>\n",
       "      <td>...</td>\n",
       "      <td>...</td>\n",
       "    </tr>\n",
       "    <tr>\n",
       "      <th>695</th>\n",
       "      <td>-0.053482</td>\n",
       "      <td>-0.071805</td>\n",
       "      <td>-0.042306</td>\n",
       "      <td>-0.077917</td>\n",
       "      <td>0.170710</td>\n",
       "      <td>-0.040423</td>\n",
       "      <td>0.187192</td>\n",
       "      <td>-0.000073</td>\n",
       "      <td>-0.123095</td>\n",
       "      <td>-0.006178</td>\n",
       "      <td>...</td>\n",
       "      <td>0.034413</td>\n",
       "      <td>-0.110516</td>\n",
       "      <td>-0.031919</td>\n",
       "      <td>0.260629</td>\n",
       "      <td>0.069084</td>\n",
       "      <td>0.190876</td>\n",
       "      <td>0.098277</td>\n",
       "      <td>0.090776</td>\n",
       "      <td>0.064563</td>\n",
       "      <td>0.241564</td>\n",
       "    </tr>\n",
       "    <tr>\n",
       "      <th>696</th>\n",
       "      <td>0.356995</td>\n",
       "      <td>-0.040445</td>\n",
       "      <td>-0.277566</td>\n",
       "      <td>0.173099</td>\n",
       "      <td>-0.171126</td>\n",
       "      <td>0.298057</td>\n",
       "      <td>0.161784</td>\n",
       "      <td>-0.123446</td>\n",
       "      <td>0.003981</td>\n",
       "      <td>-0.425267</td>\n",
       "      <td>...</td>\n",
       "      <td>1.023717</td>\n",
       "      <td>-0.176195</td>\n",
       "      <td>-0.255712</td>\n",
       "      <td>0.199659</td>\n",
       "      <td>-0.062184</td>\n",
       "      <td>0.099146</td>\n",
       "      <td>0.364203</td>\n",
       "      <td>0.182583</td>\n",
       "      <td>0.142866</td>\n",
       "      <td>-0.157204</td>\n",
       "    </tr>\n",
       "    <tr>\n",
       "      <th>697</th>\n",
       "      <td>0.114400</td>\n",
       "      <td>0.168288</td>\n",
       "      <td>-0.187657</td>\n",
       "      <td>0.173708</td>\n",
       "      <td>-0.014273</td>\n",
       "      <td>-0.018800</td>\n",
       "      <td>0.298948</td>\n",
       "      <td>-0.326332</td>\n",
       "      <td>-0.105652</td>\n",
       "      <td>-0.217221</td>\n",
       "      <td>...</td>\n",
       "      <td>0.573461</td>\n",
       "      <td>-0.021120</td>\n",
       "      <td>-0.072687</td>\n",
       "      <td>0.221761</td>\n",
       "      <td>-0.118790</td>\n",
       "      <td>-0.124963</td>\n",
       "      <td>0.069558</td>\n",
       "      <td>0.213560</td>\n",
       "      <td>0.002317</td>\n",
       "      <td>-0.174733</td>\n",
       "    </tr>\n",
       "    <tr>\n",
       "      <th>698</th>\n",
       "      <td>0.048022</td>\n",
       "      <td>0.003194</td>\n",
       "      <td>-0.087262</td>\n",
       "      <td>0.005115</td>\n",
       "      <td>0.059294</td>\n",
       "      <td>0.002538</td>\n",
       "      <td>0.074885</td>\n",
       "      <td>-0.073878</td>\n",
       "      <td>-0.011547</td>\n",
       "      <td>-0.096006</td>\n",
       "      <td>...</td>\n",
       "      <td>-0.021306</td>\n",
       "      <td>-0.046894</td>\n",
       "      <td>0.034199</td>\n",
       "      <td>0.079777</td>\n",
       "      <td>0.052154</td>\n",
       "      <td>0.073847</td>\n",
       "      <td>0.075095</td>\n",
       "      <td>-0.003755</td>\n",
       "      <td>0.052448</td>\n",
       "      <td>0.096873</td>\n",
       "    </tr>\n",
       "    <tr>\n",
       "      <th>699</th>\n",
       "      <td>0.158861</td>\n",
       "      <td>-0.131525</td>\n",
       "      <td>-0.279316</td>\n",
       "      <td>0.328378</td>\n",
       "      <td>0.071242</td>\n",
       "      <td>0.163265</td>\n",
       "      <td>0.187668</td>\n",
       "      <td>-0.159052</td>\n",
       "      <td>-0.043283</td>\n",
       "      <td>-0.276402</td>\n",
       "      <td>...</td>\n",
       "      <td>0.547636</td>\n",
       "      <td>-0.316871</td>\n",
       "      <td>-0.273637</td>\n",
       "      <td>0.177049</td>\n",
       "      <td>-0.159091</td>\n",
       "      <td>0.090463</td>\n",
       "      <td>0.268689</td>\n",
       "      <td>0.105556</td>\n",
       "      <td>0.186027</td>\n",
       "      <td>0.048744</td>\n",
       "    </tr>\n",
       "  </tbody>\n",
       "</table>\n",
       "<p>700 rows × 100 columns</p>\n",
       "</div>"
      ],
      "text/plain": [
       "           0         1         2         3         4         5         6   \\\n",
       "0   -0.054579 -0.056095 -0.293834  0.163989 -0.091878 -0.049336  0.307699   \n",
       "1    0.309184 -0.203861 -0.165096  0.236381 -0.040346  0.074179  0.349351   \n",
       "2    0.034231  0.065151 -0.239916  0.052992 -0.056265 -0.006833  0.282982   \n",
       "3    0.033019  0.065145 -0.239122  0.051960 -0.055719 -0.007115  0.283227   \n",
       "4    0.200753 -0.043154 -0.196945  0.153841  0.042552  0.117329  0.372140   \n",
       "..        ...       ...       ...       ...       ...       ...       ...   \n",
       "695 -0.053482 -0.071805 -0.042306 -0.077917  0.170710 -0.040423  0.187192   \n",
       "696  0.356995 -0.040445 -0.277566  0.173099 -0.171126  0.298057  0.161784   \n",
       "697  0.114400  0.168288 -0.187657  0.173708 -0.014273 -0.018800  0.298948   \n",
       "698  0.048022  0.003194 -0.087262  0.005115  0.059294  0.002538  0.074885   \n",
       "699  0.158861 -0.131525 -0.279316  0.328378  0.071242  0.163265  0.187668   \n",
       "\n",
       "           7         8         9   ...        90        91        92  \\\n",
       "0   -0.317376 -0.159458 -0.232558  ...  0.698767 -0.195065 -0.355111   \n",
       "1   -0.290216 -0.018766 -0.292824  ...  0.814463 -0.241685 -0.201538   \n",
       "2   -0.226849 -0.083461 -0.179844  ...  0.473592 -0.181027 -0.099124   \n",
       "3   -0.226116 -0.082777 -0.178593  ...  0.471401 -0.180162 -0.098754   \n",
       "4   -0.163586 -0.102711 -0.253740  ...  0.666256 -0.110643 -0.211415   \n",
       "..        ...       ...       ...  ...       ...       ...       ...   \n",
       "695 -0.000073 -0.123095 -0.006178  ...  0.034413 -0.110516 -0.031919   \n",
       "696 -0.123446  0.003981 -0.425267  ...  1.023717 -0.176195 -0.255712   \n",
       "697 -0.326332 -0.105652 -0.217221  ...  0.573461 -0.021120 -0.072687   \n",
       "698 -0.073878 -0.011547 -0.096006  ... -0.021306 -0.046894  0.034199   \n",
       "699 -0.159052 -0.043283 -0.276402  ...  0.547636 -0.316871 -0.273637   \n",
       "\n",
       "           93        94        95        96        97        98        99  \n",
       "0    0.215967 -0.390713 -0.001495  0.084707  0.266501 -0.103630 -0.121253  \n",
       "1    0.190292 -0.290147 -0.033065  0.224111  0.194127  0.223998  0.145678  \n",
       "2    0.120320 -0.080616 -0.072519  0.064504  0.352341  0.000418  0.139386  \n",
       "3    0.118657 -0.080741 -0.072309  0.063445  0.351651  0.000122  0.139684  \n",
       "4    0.266346 -0.067081 -0.115417  0.198813  0.247414  0.264506 -0.017108  \n",
       "..        ...       ...       ...       ...       ...       ...       ...  \n",
       "695  0.260629  0.069084  0.190876  0.098277  0.090776  0.064563  0.241564  \n",
       "696  0.199659 -0.062184  0.099146  0.364203  0.182583  0.142866 -0.157204  \n",
       "697  0.221761 -0.118790 -0.124963  0.069558  0.213560  0.002317 -0.174733  \n",
       "698  0.079777  0.052154  0.073847  0.075095 -0.003755  0.052448  0.096873  \n",
       "699  0.177049 -0.159091  0.090463  0.268689  0.105556  0.186027  0.048744  \n",
       "\n",
       "[700 rows x 100 columns]"
      ]
     },
     "execution_count": 28,
     "metadata": {},
     "output_type": "execute_result"
    }
   ],
   "source": [
    "X_train"
   ]
  },
  {
   "cell_type": "code",
   "execution_count": 29,
   "metadata": {},
   "outputs": [
    {
     "name": "stdout",
     "output_type": "stream",
     "text": [
      "\n",
      "TUNED MODEL PARAMETERS:\n",
      " {'logreg__C': 2.3357214690901213, 'logreg__penalty': 'l1', 'logreg__random_state': 42}\n",
      "\n",
      "TUNED RECALL:\n",
      " 0.47679877112135177\n"
     ]
    }
   ],
   "source": [
    "# Setup the pipeline\n",
    "steps = [('scaler', StandardScaler()),\n",
    "         ('logreg', LogisticRegression())]\n",
    "\n",
    "pipeline = Pipeline(steps)\n",
    "\n",
    "#LogisticRegression()\n",
    "\n",
    "# Specify the hyperparameter space\n",
    "c_space = np.logspace(-5, 1, 20)\n",
    "parameters = {'logreg__C': c_space, \n",
    "              'logreg__penalty': ['l1', 'l2'],\n",
    "              'logreg__random_state':[42]}\n",
    "\n",
    "# Instantiate the GridSearchCV object: cv\n",
    "n_fold_cv = int(len(X_train)/4)\n",
    "clf_logreg = GridSearchCV(pipeline,parameters, cv=5, scoring='recall')\n",
    "\n",
    "# Fit to the training set\n",
    "clf_logreg.fit(X_train, y_train)\n",
    "\n",
    "# Compute and print metrics\n",
    "print(\"\\nTUNED MODEL PARAMETERS:\\n {}\".format(clf_logreg.best_params_))\n",
    "print(\"\\nTUNED RECALL:\\n {}\".format(clf_logreg.best_score_))"
   ]
  },
  {
   "cell_type": "markdown",
   "metadata": {},
   "source": [
    "### Random Forest"
   ]
  },
  {
   "cell_type": "code",
   "execution_count": 30,
   "metadata": {},
   "outputs": [],
   "source": [
    "from sklearn.ensemble import RandomForestClassifier"
   ]
  },
  {
   "cell_type": "code",
   "execution_count": 31,
   "metadata": {},
   "outputs": [
    {
     "name": "stdout",
     "output_type": "stream",
     "text": [
      "\n",
      "TUNED MODEL PARAMETERS:\n",
      " {'rfc__max_features': None, 'rfc__n_estimators': 300, 'rfc__random_state': 42}\n",
      "\n",
      "TUNED RECALL:\n",
      " 0.278531490015361\n"
     ]
    }
   ],
   "source": [
    "# Setup the pipeline\n",
    "steps = [('scaler', StandardScaler()),\n",
    "         ('rfc', RandomForestClassifier())]\n",
    "\n",
    "pipeline = Pipeline(steps)\n",
    "\n",
    "# Specify the hyperparameter space\n",
    "parameters = {'rfc__max_features':[1, 2, \"auto\", \"log2\", None],\n",
    "              'rfc__n_estimators':[300],\n",
    "              'rfc__random_state':[42]}\n",
    "\n",
    "# Instantiate the GridSearchCV object: clf_rforest\n",
    "clf_rforest = GridSearchCV(pipeline,parameters, cv=5, scoring='recall')\n",
    "\n",
    "# Fit to the training set\n",
    "clf_rforest.fit(X_train, y_train)\n",
    "\n",
    "# Compute and print metrics\n",
    "print(\"\\nTUNED MODEL PARAMETERS:\\n {}\".format(clf_rforest.best_params_))\n",
    "print(\"\\nTUNED RECALL:\\n {}\".format(clf_rforest.best_score_))"
   ]
  },
  {
   "cell_type": "markdown",
   "metadata": {},
   "source": [
    "### xgboost"
   ]
  },
  {
   "cell_type": "code",
   "execution_count": 33,
   "metadata": {},
   "outputs": [],
   "source": [
    "import xgboost as xgb"
   ]
  },
  {
   "cell_type": "code",
   "execution_count": 34,
   "metadata": {
    "scrolled": true
   },
   "outputs": [
    {
     "name": "stdout",
     "output_type": "stream",
     "text": [
      "[0]\ttrain-aucpr:0.94777\tvalid-aucpr:0.393195\n",
      "Multiple eval metrics have been passed: 'valid-aucpr' will be used for early stopping.\n",
      "\n",
      "Will train until valid-aucpr hasn't improved in 50 rounds.\n",
      "[10]\ttrain-aucpr:0.999345\tvalid-aucpr:0.403562\n",
      "[20]\ttrain-aucpr:1\tvalid-aucpr:0.420194\n",
      "[30]\ttrain-aucpr:1\tvalid-aucpr:0.432702\n",
      "[40]\ttrain-aucpr:1\tvalid-aucpr:0.442031\n",
      "[50]\ttrain-aucpr:1\tvalid-aucpr:0.444768\n",
      "[60]\ttrain-aucpr:1\tvalid-aucpr:0.447594\n",
      "[70]\ttrain-aucpr:1\tvalid-aucpr:0.453366\n",
      "[80]\ttrain-aucpr:1\tvalid-aucpr:0.45173\n",
      "[90]\ttrain-aucpr:1\tvalid-aucpr:0.446592\n",
      "[100]\ttrain-aucpr:1\tvalid-aucpr:0.443298\n",
      "[110]\ttrain-aucpr:1\tvalid-aucpr:0.449582\n",
      "Stopping. Best iteration:\n",
      "[66]\ttrain-aucpr:1\tvalid-aucpr:0.456362\n",
      "\n"
     ]
    }
   ],
   "source": [
    "# Set our parameters for xgboost\n",
    "params = {}\n",
    "params['objective'] = 'reg:squarederror'\n",
    "params['eval_metric'] = 'aucpr'\n",
    "params['eta'] = 0.02\n",
    "params['max_depth'] = 10\n",
    "\n",
    "d_train = xgb.DMatrix(X_train, label=y_train)\n",
    "d_test = xgb.DMatrix(X_test, label=y_test)\n",
    "\n",
    "watchlist = [(d_train, 'train'), (d_test, 'valid')]\n",
    "\n",
    "bst = xgb.train(params, d_train, 400, watchlist, early_stopping_rounds=50, verbose_eval=10)"
   ]
  },
  {
   "cell_type": "code",
   "execution_count": 35,
   "metadata": {},
   "outputs": [],
   "source": [
    "def use_threshold(value):\n",
    "    if value > 0.2: value = 1\n",
    "    else: value = 0\n",
    "    return value"
   ]
  },
  {
   "cell_type": "code",
   "execution_count": 36,
   "metadata": {},
   "outputs": [],
   "source": [
    "p_test = bst.predict(d_test)\n",
    "y_pred = np.array(list((map(use_threshold, p_test))))"
   ]
  },
  {
   "cell_type": "code",
   "execution_count": 37,
   "metadata": {},
   "outputs": [
    {
     "data": {
      "text/plain": [
       "0.6033333333333334"
      ]
     },
     "execution_count": 37,
     "metadata": {},
     "output_type": "execute_result"
    }
   ],
   "source": [
    "accuracy_score(y_test, y_pred)"
   ]
  },
  {
   "cell_type": "code",
   "execution_count": 38,
   "metadata": {},
   "outputs": [
    {
     "name": "stdout",
     "output_type": "stream",
     "text": [
      "\n",
      "CLASSIFICATION_REPORT:\n",
      "               precision    recall  f1-score   support\n",
      "\n",
      "           0       0.89      0.58      0.70       244\n",
      "           1       0.28      0.70      0.40        56\n",
      "\n",
      "    accuracy                           0.60       300\n",
      "   macro avg       0.58      0.64      0.55       300\n",
      "weighted avg       0.78      0.60      0.65       300\n",
      "\n"
     ]
    }
   ],
   "source": [
    "print(\"\\nCLASSIFICATION_REPORT:\\n\", classification_report(y_test, y_pred))"
   ]
  },
  {
   "cell_type": "markdown",
   "metadata": {},
   "source": [
    "# Plot results"
   ]
  },
  {
   "cell_type": "code",
   "execution_count": 39,
   "metadata": {},
   "outputs": [],
   "source": [
    "dic_results = {}\n",
    "dic_results['logistic regression']= clf_logreg.best_score_\n",
    "dic_results['random forest']= clf_rforest.best_score_"
   ]
  },
  {
   "cell_type": "code",
   "execution_count": 40,
   "metadata": {},
   "outputs": [
    {
     "data": {
      "image/png": "[encoded data removed]",
      "text/plain": [
       "<Figure size 576x144 with 1 Axes>"
      ]
     },
     "metadata": {
      "needs_background": "light"
     },
     "output_type": "display_data"
    }
   ],
   "source": [
    "import operator\n",
    "tup_results = sorted(dic_results.items(), key=operator.itemgetter(1))\n",
    "\n",
    "N = len(dic_results)\n",
    "ind = np.arange(N)  # the x locations for the groups\n",
    "width = 0.40       # the width of the bars\n",
    "\n",
    "fig = plt.figure(figsize=(8,2))\n",
    "ax = fig.add_subplot(111)\n",
    "rects = ax.bar(ind+0.5, list(zip(*tup_results))[1], width,)\n",
    "for rect in rects:\n",
    "    height = rect.get_height()\n",
    "    ax.text(rect.get_x()+rect.get_width()/2., \n",
    "            1.005*height, \n",
    "            '{0:.4f}'.format(height), \n",
    "            ha='center', \n",
    "            va='bottom',)\n",
    "\n",
    "ax.set_ylabel('Score')\n",
    "ax.set_xlabel('ML model')\n",
    "ax.set_ylim(ymin=0.0,ymax = 1)\n",
    "ax.set_title(\"Accuracy Comparison\")\n",
    "ax.set_xticks(ind + width/2.)\n",
    "ax.set_xticklabels(list(zip(*tup_results))[0], rotation=22)\n",
    "\n",
    "plt.show()"
   ]
  },
  {
   "cell_type": "markdown",
   "metadata": {},
   "source": [
    "# calculate final quality with a test set\n",
    "So we see that the best validated model is Logistic Regression. We will now test it on the test set. We could also compare with other models with their respective best params."
   ]
  },
  {
   "cell_type": "markdown",
   "metadata": {},
   "source": [
    "### get best params of regressor\n",
    "this was previously obtained during cross validation step"
   ]
  },
  {
   "cell_type": "code",
   "execution_count": 41,
   "metadata": {},
   "outputs": [
    {
     "data": {
      "text/plain": [
       "{'C': 2.3357214690901213, 'penalty': 'l1', 'random_state': 42}"
      ]
     },
     "execution_count": 41,
     "metadata": {},
     "output_type": "execute_result"
    }
   ],
   "source": [
    "params = {}\n",
    "for k,v in clf_logreg.best_params_.items():\n",
    "    k = k[8:]\n",
    "    params[k] = v\n",
    "params"
   ]
  },
  {
   "cell_type": "code",
   "execution_count": 42,
   "metadata": {},
   "outputs": [],
   "source": [
    "#transform X_train\n",
    "scale = StandardScaler().fit(X_train)\n",
    "X_train_scaled = scale.transform(X_train)\n",
    "\n",
    "#transform X_test\n",
    "scale = StandardScaler().fit(X_test)\n",
    "X_test_scaled = scale.transform(X_test)\n",
    "\n",
    "#instantiate regressor with best params\n",
    "clf_logreg_validated = LogisticRegression(C = params['C'], penalty = params['penalty'], random_state = params['random_state'])\n",
    "\n",
    "                    \n",
    "#fit regressor\n",
    "clf_logreg_validated.fit(X_train_scaled, y_train)\n",
    "\n",
    "#do prediction on test set\n",
    "y_pred = clf_logreg_validated.predict(X_test_scaled)"
   ]
  },
  {
   "cell_type": "markdown",
   "metadata": {},
   "source": [
    "### calculate accuracy on test set"
   ]
  },
  {
   "cell_type": "code",
   "execution_count": 43,
   "metadata": {},
   "outputs": [
    {
     "data": {
      "text/plain": [
       "0.8366666666666667"
      ]
     },
     "execution_count": 43,
     "metadata": {},
     "output_type": "execute_result"
    }
   ],
   "source": [
    "accuracy_score(y_test, y_pred)"
   ]
  },
  {
   "cell_type": "markdown",
   "metadata": {},
   "source": [
    "### classification report"
   ]
  },
  {
   "cell_type": "code",
   "execution_count": 44,
   "metadata": {
    "scrolled": false
   },
   "outputs": [
    {
     "name": "stdout",
     "output_type": "stream",
     "text": [
      "\n",
      "CLASSIFICATION_REPORT:\n",
      "               precision    recall  f1-score   support\n",
      "\n",
      "           0       0.88      0.93      0.90       244\n",
      "           1       0.58      0.45      0.51        56\n",
      "\n",
      "    accuracy                           0.84       300\n",
      "   macro avg       0.73      0.69      0.70       300\n",
      "weighted avg       0.82      0.84      0.83       300\n",
      "\n"
     ]
    }
   ],
   "source": [
    "print(\"\\nCLASSIFICATION_REPORT:\\n\", classification_report(y_test, y_pred))"
   ]
  },
  {
   "cell_type": "markdown",
   "metadata": {},
   "source": [
    "### temp test with rfc"
   ]
  },
  {
   "cell_type": "code",
   "execution_count": 45,
   "metadata": {},
   "outputs": [
    {
     "data": {
      "text/plain": [
       "{'max_features': None, 'n_estimators': 300, 'random_state': 42}"
      ]
     },
     "execution_count": 45,
     "metadata": {},
     "output_type": "execute_result"
    }
   ],
   "source": [
    "params = {}\n",
    "for k,v in clf_rforest.best_params_.items():\n",
    "    k = k[5:]\n",
    "    params[k] = v\n",
    "params"
   ]
  },
  {
   "cell_type": "code",
   "execution_count": 46,
   "metadata": {},
   "outputs": [],
   "source": [
    "#transform X_train\n",
    "scale = StandardScaler().fit(X_train)\n",
    "X_train_scaled = scale.transform(X_train)\n",
    "\n",
    "#transform X_test\n",
    "scale = StandardScaler().fit(X_test)\n",
    "X_test_scaled = scale.transform(X_test)\n",
    "\n",
    "#instantiate regressor with best params\n",
    "clf_rfc_validated = RandomForestClassifier(max_features = params['max_features'], n_estimators = params['n_estimators'], random_state = params['random_state'])\n",
    "\n",
    "#fit regressor\n",
    "clf_rfc_validated.fit(X_train_scaled, y_train)\n",
    "\n",
    "#do prediction on test set\n",
    "y_pred = clf_rfc_validated.predict(X_test_scaled)"
   ]
  },
  {
   "cell_type": "markdown",
   "metadata": {},
   "source": [
    "### calculate accuracy on test set"
   ]
  },
  {
   "cell_type": "code",
   "execution_count": 47,
   "metadata": {},
   "outputs": [
    {
     "data": {
      "text/plain": [
       "0.8233333333333334"
      ]
     },
     "execution_count": 47,
     "metadata": {},
     "output_type": "execute_result"
    }
   ],
   "source": [
    "accuracy_score(y_test, y_pred)"
   ]
  },
  {
   "cell_type": "markdown",
   "metadata": {},
   "source": [
    "### classification report"
   ]
  },
  {
   "cell_type": "code",
   "execution_count": 48,
   "metadata": {
    "scrolled": true
   },
   "outputs": [
    {
     "name": "stdout",
     "output_type": "stream",
     "text": [
      "\n",
      "CLASSIFICATION_REPORT:\n",
      "               precision    recall  f1-score   support\n",
      "\n",
      "           0       0.85      0.95      0.90       244\n",
      "           1       0.55      0.29      0.38        56\n",
      "\n",
      "    accuracy                           0.82       300\n",
      "   macro avg       0.70      0.62      0.64       300\n",
      "weighted avg       0.80      0.82      0.80       300\n",
      "\n"
     ]
    }
   ],
   "source": [
    "print(\"\\nCLASSIFICATION_REPORT:\\n\", classification_report(y_test, y_pred))"
   ]
  },
  {
   "cell_type": "code",
   "execution_count": null,
   "metadata": {},
   "outputs": [],
   "source": []
  }
 ],
 "metadata": {
  "kernelspec": {
   "display_name": "Python 3",
   "language": "python",
   "name": "python3"
  },
  "language_info": {
   "codemirror_mode": {
    "name": "ipython",
    "version": 3
   },
   "file_extension": ".py",
   "mimetype": "text/x-python",
   "name": "python",
   "nbconvert_exporter": "python",
   "pygments_lexer": "ipython3",
   "version": "3.7.5"
  }
 },
 "nbformat": 4,
 "nbformat_minor": 2
}
