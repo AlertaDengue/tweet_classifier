{
 "cells": [
  {
   "cell_type": "markdown",
   "metadata": {},
   "source": [
    "# classifier\n",
    "Classifies each tweet according to the train set, which was classified by collaborators of the Infodengue project. "
   ]
  },
  {
   "cell_type": "markdown",
   "metadata": {},
   "source": [
    "Observations:\n",
    "* Do not use stemming, because of the text content of tweets.\n",
    "* For sklearn, check the text preprocessing\n",
    "* Using tweet tokenizer from nltk\n",
    "* Using only TF for preprocessing\n",
    "* baseline: random forest, logistic, xgboost\n",
    "\n",
    "16/12\n",
    "* usar spacy para fazer marcacao sintatica. variavel part of speech tag dobraria numero de colunas\n",
    "* achou numero de 0.79 de recall e 0.4 de precision muito baixo\n",
    "* usar shap para interpretabilidade de xgboost\n",
    "\n",
    "usar word2vec (notebook separado)\n",
    "* ref: \n",
    "    * https://github.com/fccoelho/text-mining-cientistas-sociais\n",
    "    * kaggle-quora\n",
    "    * SRI"
   ]
  },
  {
   "cell_type": "code",
   "execution_count": 1,
   "metadata": {},
   "outputs": [],
   "source": [
    "import os\n",
    "import pandas as pd\n",
    "import numpy as np\n",
    "#import pickle\n",
    "from collections import Counter\n",
    "#import math\n",
    "import nltk\n",
    "#import requests\n",
    "#import html\n",
    "#from datetime import datetime, timedelta, date\n",
    "import string\n",
    "import json\n",
    "import matplotlib.pyplot as plt\n",
    "import seaborn as sns\n",
    "#from sklearn.feature_extraction.text import TfidfVectorizer\n",
    "#from sklearn.model_selection import cross_val_score\n",
    "#import statsmodels as sm\n",
    "\n",
    "from gensim.models import Word2Vec, word2vec\n",
    "\n",
    "import warnings\n",
    "warnings.filterwarnings('ignore')\n",
    "%matplotlib inline"
   ]
  },
  {
   "cell_type": "code",
   "execution_count": 2,
   "metadata": {},
   "outputs": [],
   "source": [
    "outputs = \"../outputs/\""
   ]
  },
  {
   "cell_type": "code",
   "execution_count": 3,
   "metadata": {},
   "outputs": [],
   "source": [
    "classifications = pd.read_csv(os.path.join('../outputs/from_anvil/', 'classifications_finished.csv'))"
   ]
  },
  {
   "cell_type": "code",
   "execution_count": 4,
   "metadata": {},
   "outputs": [],
   "source": [
    "classifications = classifications.groupby(by='str_id').sum()\n",
    "classifications['class'] = classifications['relevance'].apply(lambda x: 1 if x>=4 else 0)\n",
    "classifications['class_threshold3'] = classifications['relevance'].apply(lambda x: 1 if x>=3 else 0)\n",
    "classifications.reset_index(inplace=True)\n",
    "classifications.rename(columns = {'str_id': 'id'}, inplace=True)"
   ]
  },
  {
   "cell_type": "markdown",
   "metadata": {},
   "source": [
    "# get text from original database"
   ]
  },
  {
   "cell_type": "code",
   "execution_count": 5,
   "metadata": {},
   "outputs": [],
   "source": [
    "text_data = pd.read_json(os.path.join(outputs, \"tweets_filtered.json\"))\n",
    "text_data.rename(columns = {'_id': 'id'}, inplace=True)"
   ]
  },
  {
   "cell_type": "code",
   "execution_count": 6,
   "metadata": {
    "scrolled": true
   },
   "outputs": [
    {
     "data": {
      "text/html": [
       "<div>\n",
       "<style scoped>\n",
       "    .dataframe tbody tr th:only-of-type {\n",
       "        vertical-align: middle;\n",
       "    }\n",
       "\n",
       "    .dataframe tbody tr th {\n",
       "        vertical-align: top;\n",
       "    }\n",
       "\n",
       "    .dataframe thead th {\n",
       "        text-align: right;\n",
       "    }\n",
       "</style>\n",
       "<table border=\"1\" class=\"dataframe\">\n",
       "  <thead>\n",
       "    <tr style=\"text-align: right;\">\n",
       "      <th></th>\n",
       "      <th>id</th>\n",
       "      <th>relevance</th>\n",
       "      <th>class</th>\n",
       "      <th>class_threshold3</th>\n",
       "      <th>text</th>\n",
       "      <th>text_original</th>\n",
       "    </tr>\n",
       "  </thead>\n",
       "  <tbody>\n",
       "    <tr>\n",
       "      <th>0</th>\n",
       "      <td>699069305468551169</td>\n",
       "      <td>2</td>\n",
       "      <td>0</td>\n",
       "      <td>0</td>\n",
       "      <td>Brasil tera 55 mil militares nas ruas para com...</td>\n",
       "      <td>Brasil terá 55 mil militares nas ruas para com...</td>\n",
       "    </tr>\n",
       "    <tr>\n",
       "      <th>1</th>\n",
       "      <td>699164279472263170</td>\n",
       "      <td>3</td>\n",
       "      <td>0</td>\n",
       "      <td>1</td>\n",
       "      <td>Depois do exercito abandonar o combate aos foc...</td>\n",
       "      <td>Depois do exército abandonar o combate aos foc...</td>\n",
       "    </tr>\n",
       "    <tr>\n",
       "      <th>2</th>\n",
       "      <td>699264346304618496</td>\n",
       "      <td>1</td>\n",
       "      <td>0</td>\n",
       "      <td>0</td>\n",
       "      <td>Farmaceuticos recebem treinamento sobre dengue...</td>\n",
       "      <td>Farmacêuticos recebem treinamento sobre dengue...</td>\n",
       "    </tr>\n",
       "    <tr>\n",
       "      <th>3</th>\n",
       "      <td>699266282646994944</td>\n",
       "      <td>3</td>\n",
       "      <td>0</td>\n",
       "      <td>1</td>\n",
       "      <td>Farmaceuticos recebem treinamento sobre dengue...</td>\n",
       "      <td>Farmacêuticos recebem treinamento sobre dengue...</td>\n",
       "    </tr>\n",
       "    <tr>\n",
       "      <th>4</th>\n",
       "      <td>699315864122892288</td>\n",
       "      <td>0</td>\n",
       "      <td>0</td>\n",
       "      <td>0</td>\n",
       "      <td>RT @g1: Morador do DF faz 'rap da dengue': 'Ag...</td>\n",
       "      <td>RT @g1: Morador do DF faz 'rap da dengue': 'Ag...</td>\n",
       "    </tr>\n",
       "    <tr>\n",
       "      <th>...</th>\n",
       "      <td>...</td>\n",
       "      <td>...</td>\n",
       "      <td>...</td>\n",
       "      <td>...</td>\n",
       "      <td>...</td>\n",
       "      <td>...</td>\n",
       "    </tr>\n",
       "    <tr>\n",
       "      <th>995</th>\n",
       "      <td>1000740798114222081</td>\n",
       "      <td>0</td>\n",
       "      <td>0</td>\n",
       "      <td>0</td>\n",
       "      <td>RT @EnquetesFutebas: So eu acho que o Diogo Ba...</td>\n",
       "      <td>RT @EnquetesFutebas: Só eu acho que o Diogo Ba...</td>\n",
       "    </tr>\n",
       "    <tr>\n",
       "      <th>996</th>\n",
       "      <td>1000763927146450944</td>\n",
       "      <td>4</td>\n",
       "      <td>1</td>\n",
       "      <td>1</td>\n",
       "      <td>Nao recomendo ninguem a pegar Zika, serio</td>\n",
       "      <td>Não recomendo ninguém a pegar Zika, serio</td>\n",
       "    </tr>\n",
       "    <tr>\n",
       "      <th>997</th>\n",
       "      <td>1000764889361780736</td>\n",
       "      <td>0</td>\n",
       "      <td>0</td>\n",
       "      <td>0</td>\n",
       "      <td>@_ThiagoAndrei E deixa minha zika pra traz ???...</td>\n",
       "      <td>@_ThiagoAndrei E deixa minha zika pra traz ???...</td>\n",
       "    </tr>\n",
       "    <tr>\n",
       "      <th>998</th>\n",
       "      <td>1000841034488778752</td>\n",
       "      <td>0</td>\n",
       "      <td>0</td>\n",
       "      <td>0</td>\n",
       "      <td>kkkkkkkkk ele tem problema mas eu amo https://...</td>\n",
       "      <td>kkkkkkkkk ele tem problema mas eu amo https://...</td>\n",
       "    </tr>\n",
       "    <tr>\n",
       "      <th>999</th>\n",
       "      <td>1000885773028200449</td>\n",
       "      <td>0</td>\n",
       "      <td>0</td>\n",
       "      <td>0</td>\n",
       "      <td>num falei eu so zika ao q ela esqueceu de colo...</td>\n",
       "      <td>num falei eu sô zika ao q ela esqueceu de colo...</td>\n",
       "    </tr>\n",
       "  </tbody>\n",
       "</table>\n",
       "<p>1000 rows × 6 columns</p>\n",
       "</div>"
      ],
      "text/plain": [
       "                      id  relevance  class  class_threshold3  \\\n",
       "0     699069305468551169          2      0                 0   \n",
       "1     699164279472263170          3      0                 1   \n",
       "2     699264346304618496          1      0                 0   \n",
       "3     699266282646994944          3      0                 1   \n",
       "4     699315864122892288          0      0                 0   \n",
       "..                   ...        ...    ...               ...   \n",
       "995  1000740798114222081          0      0                 0   \n",
       "996  1000763927146450944          4      1                 1   \n",
       "997  1000764889361780736          0      0                 0   \n",
       "998  1000841034488778752          0      0                 0   \n",
       "999  1000885773028200449          0      0                 0   \n",
       "\n",
       "                                                  text  \\\n",
       "0    Brasil tera 55 mil militares nas ruas para com...   \n",
       "1    Depois do exercito abandonar o combate aos foc...   \n",
       "2    Farmaceuticos recebem treinamento sobre dengue...   \n",
       "3    Farmaceuticos recebem treinamento sobre dengue...   \n",
       "4    RT @g1: Morador do DF faz 'rap da dengue': 'Ag...   \n",
       "..                                                 ...   \n",
       "995  RT @EnquetesFutebas: So eu acho que o Diogo Ba...   \n",
       "996          Nao recomendo ninguem a pegar Zika, serio   \n",
       "997  @_ThiagoAndrei E deixa minha zika pra traz ???...   \n",
       "998  kkkkkkkkk ele tem problema mas eu amo https://...   \n",
       "999  num falei eu so zika ao q ela esqueceu de colo...   \n",
       "\n",
       "                                         text_original  \n",
       "0    Brasil terá 55 mil militares nas ruas para com...  \n",
       "1    Depois do exército abandonar o combate aos foc...  \n",
       "2    Farmacêuticos recebem treinamento sobre dengue...  \n",
       "3    Farmacêuticos recebem treinamento sobre dengue...  \n",
       "4    RT @g1: Morador do DF faz 'rap da dengue': 'Ag...  \n",
       "..                                                 ...  \n",
       "995  RT @EnquetesFutebas: Só eu acho que o Diogo Ba...  \n",
       "996          Não recomendo ninguém a pegar Zika, serio  \n",
       "997  @_ThiagoAndrei E deixa minha zika pra traz ???...  \n",
       "998  kkkkkkkkk ele tem problema mas eu amo https://...  \n",
       "999  num falei eu sô zika ao q ela esqueceu de colo...  \n",
       "\n",
       "[1000 rows x 6 columns]"
      ]
     },
     "execution_count": 6,
     "metadata": {},
     "output_type": "execute_result"
    }
   ],
   "source": [
    "data = pd.merge(classifications, text_data, on='id')\n",
    "data.drop(columns=['tid'], inplace=True)\n",
    "data"
   ]
  },
  {
   "cell_type": "code",
   "execution_count": 8,
   "metadata": {},
   "outputs": [],
   "source": [
    "for col in ['text', 'text_original']:\n",
    "    data[col] = data[col].apply(lambda x: x.translate(str.maketrans('', '', string.punctuation)).lower())"
   ]
  },
  {
   "cell_type": "markdown",
   "metadata": {},
   "source": [
    "# build columns for tokens and ngrams"
   ]
  },
  {
   "cell_type": "code",
   "execution_count": 10,
   "metadata": {},
   "outputs": [],
   "source": [
    "from nltk.tokenize import TweetTokenizer\n",
    "tknzr = TweetTokenizer()"
   ]
  },
  {
   "cell_type": "code",
   "execution_count": 11,
   "metadata": {},
   "outputs": [],
   "source": [
    "data['tokens'] = data['text'].apply(lambda x: tknzr.tokenize(x))"
   ]
  },
  {
   "cell_type": "code",
   "execution_count": 12,
   "metadata": {},
   "outputs": [],
   "source": [
    "from gensim.models.phrases import Phrases, Phraser"
   ]
  },
  {
   "cell_type": "markdown",
   "metadata": {},
   "source": [
    "Some functions to test bigrams\n",
    "```python\n",
    "test = [['my', 'name', 'is', 'frank'], ['her', 'friend', 'hates', 'cats'], ['my', 'name', 'is', 'paul'], \n",
    "        ['her', 'name', 'is', 'carol']]\n",
    "phrases = Phrases(sentences, min_count=1, threshold=1)\n",
    "bigram = Phraser(phrases)\n",
    "for sent in bigram[sentences]:\n",
    "    print(sent, 'ok')\n",
    "print(phrases.vocab)\n",
    "print(phrases[['my', 'name', 'is', 'carol']])\n",
    "```"
   ]
  },
  {
   "cell_type": "code",
   "execution_count": 13,
   "metadata": {},
   "outputs": [],
   "source": [
    "bigram = Phraser.load(os.path.join(outputs, \"bigram_model.pkl\"))"
   ]
  },
  {
   "cell_type": "raw",
   "metadata": {},
   "source": [
    "sentences = list(data['tokens'])"
   ]
  },
  {
   "cell_type": "code",
   "execution_count": 14,
   "metadata": {},
   "outputs": [],
   "source": [
    "data['tokens_bigrams'] = data['tokens'].apply(lambda x: bigram[x])"
   ]
  },
  {
   "cell_type": "code",
   "execution_count": 15,
   "metadata": {},
   "outputs": [
    {
     "name": "stdout",
     "output_type": "stream",
     "text": [
      "[['brasil_tera', '55_mil', 'militares_nas', 'ruas_para', 'combater_aedes', 'aegypt', 'a_partir', 'de', 'hoje_httpstco', '4jnbywfdvt'], ['depois_do', 'exercito', 'abandonar_o', 'combate_aos', 'focos_de', 'agua_parada', 'e', 'ao', 'zika_virus', 'afirmando_que', 'questoes', 'que', 'httpstcoh', '3vffbc08n'], ['farmaceuticos_recebem', 'treinamento_sobre', 'dengue', 'zika', 'e_chikungunya', 'profissionais_de', 'araraquara_e', 'sao_joao', 'ser', 'httpstcocsac', '4r0f29'], ['farmaceuticos_recebem', 'treinamento_sobre', 'dengue', 'zika', 'e_chikungunya', 'profissionais_de', 'araraquara_e', 'sao_joao', 'ser', 'httpstconzq', '8hllm8a'], ['rt_g1', 'morador', 'do_df', 'faz_rap', 'da_dengue', 'agora_tome', 'cuidado_com', 'aedes', 'pode_cre', 'httpstcoysimqn_4efj', 'httpstcopj_5yjwrzjg']]\n"
     ]
    }
   ],
   "source": [
    "print(list(data['tokens_bigrams'])[:5])"
   ]
  },
  {
   "cell_type": "markdown",
   "metadata": {},
   "source": [
    "# basic exploration"
   ]
  },
  {
   "cell_type": "code",
   "execution_count": 16,
   "metadata": {},
   "outputs": [
    {
     "name": "stdout",
     "output_type": "stream",
     "text": [
      "<class 'pandas.core.frame.DataFrame'>\n",
      "Int64Index: 1000 entries, 0 to 999\n",
      "Data columns (total 8 columns):\n",
      "id                  1000 non-null int64\n",
      "relevance           1000 non-null int64\n",
      "class               1000 non-null int64\n",
      "class_threshold3    1000 non-null int64\n",
      "text                1000 non-null object\n",
      "text_original       1000 non-null object\n",
      "tokens              1000 non-null object\n",
      "tokens_bigrams      1000 non-null object\n",
      "dtypes: int64(4), object(4)\n",
      "memory usage: 70.3+ KB\n"
     ]
    }
   ],
   "source": [
    "data.info()"
   ]
  },
  {
   "cell_type": "code",
   "execution_count": 17,
   "metadata": {
    "scrolled": true
   },
   "outputs": [
    {
     "data": {
      "text/html": [
       "<div>\n",
       "<style scoped>\n",
       "    .dataframe tbody tr th:only-of-type {\n",
       "        vertical-align: middle;\n",
       "    }\n",
       "\n",
       "    .dataframe tbody tr th {\n",
       "        vertical-align: top;\n",
       "    }\n",
       "\n",
       "    .dataframe thead th {\n",
       "        text-align: right;\n",
       "    }\n",
       "</style>\n",
       "<table border=\"1\" class=\"dataframe\">\n",
       "  <thead>\n",
       "    <tr style=\"text-align: right;\">\n",
       "      <th></th>\n",
       "      <th>id</th>\n",
       "      <th>relevance</th>\n",
       "      <th>class</th>\n",
       "      <th>class_threshold3</th>\n",
       "    </tr>\n",
       "  </thead>\n",
       "  <tbody>\n",
       "    <tr>\n",
       "      <th>count</th>\n",
       "      <td>1.000000e+03</td>\n",
       "      <td>1000.000000</td>\n",
       "      <td>1000.000000</td>\n",
       "      <td>1000.000000</td>\n",
       "    </tr>\n",
       "    <tr>\n",
       "      <th>mean</th>\n",
       "      <td>8.387557e+17</td>\n",
       "      <td>1.166000</td>\n",
       "      <td>0.141000</td>\n",
       "      <td>0.207000</td>\n",
       "    </tr>\n",
       "    <tr>\n",
       "      <th>std</th>\n",
       "      <td>1.140594e+17</td>\n",
       "      <td>1.659276</td>\n",
       "      <td>0.348196</td>\n",
       "      <td>0.405358</td>\n",
       "    </tr>\n",
       "    <tr>\n",
       "      <th>min</th>\n",
       "      <td>6.990693e+17</td>\n",
       "      <td>0.000000</td>\n",
       "      <td>0.000000</td>\n",
       "      <td>0.000000</td>\n",
       "    </tr>\n",
       "    <tr>\n",
       "      <th>25%</th>\n",
       "      <td>7.094149e+17</td>\n",
       "      <td>0.000000</td>\n",
       "      <td>0.000000</td>\n",
       "      <td>0.000000</td>\n",
       "    </tr>\n",
       "    <tr>\n",
       "      <th>50%</th>\n",
       "      <td>8.460180e+17</td>\n",
       "      <td>0.000000</td>\n",
       "      <td>0.000000</td>\n",
       "      <td>0.000000</td>\n",
       "    </tr>\n",
       "    <tr>\n",
       "      <th>75%</th>\n",
       "      <td>9.829813e+17</td>\n",
       "      <td>2.000000</td>\n",
       "      <td>0.000000</td>\n",
       "      <td>0.000000</td>\n",
       "    </tr>\n",
       "    <tr>\n",
       "      <th>max</th>\n",
       "      <td>1.000886e+18</td>\n",
       "      <td>6.000000</td>\n",
       "      <td>1.000000</td>\n",
       "      <td>1.000000</td>\n",
       "    </tr>\n",
       "  </tbody>\n",
       "</table>\n",
       "</div>"
      ],
      "text/plain": [
       "                 id    relevance        class  class_threshold3\n",
       "count  1.000000e+03  1000.000000  1000.000000       1000.000000\n",
       "mean   8.387557e+17     1.166000     0.141000          0.207000\n",
       "std    1.140594e+17     1.659276     0.348196          0.405358\n",
       "min    6.990693e+17     0.000000     0.000000          0.000000\n",
       "25%    7.094149e+17     0.000000     0.000000          0.000000\n",
       "50%    8.460180e+17     0.000000     0.000000          0.000000\n",
       "75%    9.829813e+17     2.000000     0.000000          0.000000\n",
       "max    1.000886e+18     6.000000     1.000000          1.000000"
      ]
     },
     "execution_count": 17,
     "metadata": {},
     "output_type": "execute_result"
    }
   ],
   "source": [
    "data.describe()"
   ]
  },
  {
   "cell_type": "markdown",
   "metadata": {},
   "source": [
    "# check if data is unbalanced"
   ]
  },
  {
   "cell_type": "markdown",
   "metadata": {},
   "source": [
    "**Data is unbalanced!**"
   ]
  },
  {
   "cell_type": "markdown",
   "metadata": {},
   "source": [
    "### Threshold 4\n",
    "fazer oversampling?"
   ]
  },
  {
   "cell_type": "code",
   "execution_count": 15,
   "metadata": {},
   "outputs": [
    {
     "data": {
      "image/png": "[encoded data removed]",
      "text/plain": [
       "<Figure size 576x288 with 1 Axes>"
      ]
     },
     "metadata": {
      "needs_background": "light"
     },
     "output_type": "display_data"
    }
   ],
   "source": [
    "color = sns.color_palette()\n",
    "classif = data['class'].value_counts()\n",
    "plt.figure(figsize=(8,4))\n",
    "sns.barplot(classif.index, classif.values, alpha=0.8, color=color[0])\n",
    "plt.ylabel('Number of Occurrences', fontsize=12)\n",
    "plt.xlabel('Relevance', fontsize=12)\n",
    "plt.show()"
   ]
  },
  {
   "cell_type": "code",
   "execution_count": 16,
   "metadata": {},
   "outputs": [
    {
     "data": {
      "text/plain": [
       "0    859\n",
       "1    141\n",
       "Name: class, dtype: int64"
      ]
     },
     "execution_count": 16,
     "metadata": {},
     "output_type": "execute_result"
    }
   ],
   "source": [
    "data['class'].value_counts()"
   ]
  },
  {
   "cell_type": "markdown",
   "metadata": {},
   "source": [
    "### Threshold 3"
   ]
  },
  {
   "cell_type": "code",
   "execution_count": 17,
   "metadata": {},
   "outputs": [
    {
     "data": {
      "image/png": "[encoded data removed]",
      "text/plain": [
       "<Figure size 576x288 with 1 Axes>"
      ]
     },
     "metadata": {
      "needs_background": "light"
     },
     "output_type": "display_data"
    }
   ],
   "source": [
    "color = sns.color_palette()\n",
    "classif = data['class_threshold3'].value_counts()\n",
    "plt.figure(figsize=(8,4))\n",
    "sns.barplot(classif.index, classif.values, alpha=0.8, color=color[0])\n",
    "plt.ylabel('Number of Occurrences', fontsize=12)\n",
    "plt.xlabel('Relevance', fontsize=12)\n",
    "plt.show()"
   ]
  },
  {
   "cell_type": "code",
   "execution_count": 18,
   "metadata": {},
   "outputs": [
    {
     "data": {
      "text/plain": [
       "0    793\n",
       "1    207\n",
       "Name: class_threshold3, dtype: int64"
      ]
     },
     "execution_count": 18,
     "metadata": {},
     "output_type": "execute_result"
    }
   ],
   "source": [
    "data['class_threshold3'].value_counts()"
   ]
  },
  {
   "cell_type": "markdown",
   "metadata": {},
   "source": [
    "# apply word2vec"
   ]
  },
  {
   "cell_type": "code",
   "execution_count": 18,
   "metadata": {},
   "outputs": [],
   "source": [
    "model = Word2Vec.load('../outputs/virus_tweets.w2v')"
   ]
  },
  {
   "cell_type": "code",
   "execution_count": 19,
   "metadata": {},
   "outputs": [],
   "source": [
    "data['text'] = data['text'].apply(lambda x: x.translate(str.maketrans('', '', string.punctuation)).lower())"
   ]
  },
  {
   "cell_type": "code",
   "execution_count": 20,
   "metadata": {},
   "outputs": [
    {
     "data": {
      "text/html": [
       "<div>\n",
       "<style scoped>\n",
       "    .dataframe tbody tr th:only-of-type {\n",
       "        vertical-align: middle;\n",
       "    }\n",
       "\n",
       "    .dataframe tbody tr th {\n",
       "        vertical-align: top;\n",
       "    }\n",
       "\n",
       "    .dataframe thead th {\n",
       "        text-align: right;\n",
       "    }\n",
       "</style>\n",
       "<table border=\"1\" class=\"dataframe\">\n",
       "  <thead>\n",
       "    <tr style=\"text-align: right;\">\n",
       "      <th></th>\n",
       "      <th>0</th>\n",
       "      <th>1</th>\n",
       "      <th>2</th>\n",
       "      <th>3</th>\n",
       "      <th>4</th>\n",
       "      <th>5</th>\n",
       "      <th>6</th>\n",
       "      <th>7</th>\n",
       "      <th>8</th>\n",
       "      <th>9</th>\n",
       "      <th>...</th>\n",
       "      <th>91</th>\n",
       "      <th>92</th>\n",
       "      <th>93</th>\n",
       "      <th>94</th>\n",
       "      <th>95</th>\n",
       "      <th>96</th>\n",
       "      <th>97</th>\n",
       "      <th>98</th>\n",
       "      <th>99</th>\n",
       "      <th>id</th>\n",
       "    </tr>\n",
       "  </thead>\n",
       "  <tbody>\n",
       "    <tr>\n",
       "      <th>0</th>\n",
       "      <td>0.180816</td>\n",
       "      <td>-0.251217</td>\n",
       "      <td>-0.187524</td>\n",
       "      <td>0.157219</td>\n",
       "      <td>-0.048757</td>\n",
       "      <td>-0.163081</td>\n",
       "      <td>0.316214</td>\n",
       "      <td>-0.335298</td>\n",
       "      <td>0.114673</td>\n",
       "      <td>0.106486</td>\n",
       "      <td>...</td>\n",
       "      <td>0.219764</td>\n",
       "      <td>-0.193622</td>\n",
       "      <td>0.134398</td>\n",
       "      <td>0.071353</td>\n",
       "      <td>-0.397907</td>\n",
       "      <td>0.236137</td>\n",
       "      <td>0.049874</td>\n",
       "      <td>0.139613</td>\n",
       "      <td>0.479017</td>\n",
       "      <td>699069305468551169</td>\n",
       "    </tr>\n",
       "    <tr>\n",
       "      <th>0</th>\n",
       "      <td>0.187050</td>\n",
       "      <td>-0.225580</td>\n",
       "      <td>-0.056113</td>\n",
       "      <td>0.222188</td>\n",
       "      <td>-0.162187</td>\n",
       "      <td>-0.359365</td>\n",
       "      <td>0.190656</td>\n",
       "      <td>-0.266675</td>\n",
       "      <td>0.423236</td>\n",
       "      <td>-0.146147</td>\n",
       "      <td>...</td>\n",
       "      <td>-0.097624</td>\n",
       "      <td>-0.174353</td>\n",
       "      <td>0.034669</td>\n",
       "      <td>0.103584</td>\n",
       "      <td>-0.287881</td>\n",
       "      <td>0.224616</td>\n",
       "      <td>0.072400</td>\n",
       "      <td>0.081860</td>\n",
       "      <td>0.418087</td>\n",
       "      <td>699164279472263170</td>\n",
       "    </tr>\n",
       "    <tr>\n",
       "      <th>0</th>\n",
       "      <td>0.076202</td>\n",
       "      <td>-0.346804</td>\n",
       "      <td>-0.040145</td>\n",
       "      <td>0.084669</td>\n",
       "      <td>-0.071931</td>\n",
       "      <td>-0.079370</td>\n",
       "      <td>0.161752</td>\n",
       "      <td>-0.156063</td>\n",
       "      <td>0.230844</td>\n",
       "      <td>-0.041145</td>\n",
       "      <td>...</td>\n",
       "      <td>0.022997</td>\n",
       "      <td>-0.116464</td>\n",
       "      <td>0.217569</td>\n",
       "      <td>0.036479</td>\n",
       "      <td>-0.255551</td>\n",
       "      <td>0.184222</td>\n",
       "      <td>0.041002</td>\n",
       "      <td>0.252506</td>\n",
       "      <td>0.215646</td>\n",
       "      <td>699264346304618496</td>\n",
       "    </tr>\n",
       "    <tr>\n",
       "      <th>0</th>\n",
       "      <td>0.075017</td>\n",
       "      <td>-0.344677</td>\n",
       "      <td>-0.040631</td>\n",
       "      <td>0.084277</td>\n",
       "      <td>-0.071954</td>\n",
       "      <td>-0.079764</td>\n",
       "      <td>0.161773</td>\n",
       "      <td>-0.157080</td>\n",
       "      <td>0.230336</td>\n",
       "      <td>-0.040453</td>\n",
       "      <td>...</td>\n",
       "      <td>0.022942</td>\n",
       "      <td>-0.116199</td>\n",
       "      <td>0.218128</td>\n",
       "      <td>0.035412</td>\n",
       "      <td>-0.255835</td>\n",
       "      <td>0.184413</td>\n",
       "      <td>0.041305</td>\n",
       "      <td>0.253625</td>\n",
       "      <td>0.214270</td>\n",
       "      <td>699266282646994944</td>\n",
       "    </tr>\n",
       "    <tr>\n",
       "      <th>0</th>\n",
       "      <td>-0.003375</td>\n",
       "      <td>-0.173625</td>\n",
       "      <td>0.064493</td>\n",
       "      <td>0.126731</td>\n",
       "      <td>-0.145318</td>\n",
       "      <td>-0.216617</td>\n",
       "      <td>0.175384</td>\n",
       "      <td>-0.138079</td>\n",
       "      <td>0.402568</td>\n",
       "      <td>-0.000983</td>\n",
       "      <td>...</td>\n",
       "      <td>-0.100925</td>\n",
       "      <td>-0.156506</td>\n",
       "      <td>0.063525</td>\n",
       "      <td>0.103889</td>\n",
       "      <td>-0.446541</td>\n",
       "      <td>0.093477</td>\n",
       "      <td>-0.069528</td>\n",
       "      <td>0.021291</td>\n",
       "      <td>0.142325</td>\n",
       "      <td>699315864122892288</td>\n",
       "    </tr>\n",
       "  </tbody>\n",
       "</table>\n",
       "<p>5 rows × 101 columns</p>\n",
       "</div>"
      ],
      "text/plain": [
       "          0         1         2         3         4         5         6  \\\n",
       "0  0.180816 -0.251217 -0.187524  0.157219 -0.048757 -0.163081  0.316214   \n",
       "0  0.187050 -0.225580 -0.056113  0.222188 -0.162187 -0.359365  0.190656   \n",
       "0  0.076202 -0.346804 -0.040145  0.084669 -0.071931 -0.079370  0.161752   \n",
       "0  0.075017 -0.344677 -0.040631  0.084277 -0.071954 -0.079764  0.161773   \n",
       "0 -0.003375 -0.173625  0.064493  0.126731 -0.145318 -0.216617  0.175384   \n",
       "\n",
       "          7         8         9  ...        91        92        93        94  \\\n",
       "0 -0.335298  0.114673  0.106486  ...  0.219764 -0.193622  0.134398  0.071353   \n",
       "0 -0.266675  0.423236 -0.146147  ... -0.097624 -0.174353  0.034669  0.103584   \n",
       "0 -0.156063  0.230844 -0.041145  ...  0.022997 -0.116464  0.217569  0.036479   \n",
       "0 -0.157080  0.230336 -0.040453  ...  0.022942 -0.116199  0.218128  0.035412   \n",
       "0 -0.138079  0.402568 -0.000983  ... -0.100925 -0.156506  0.063525  0.103889   \n",
       "\n",
       "         95        96        97        98        99                  id  \n",
       "0 -0.397907  0.236137  0.049874  0.139613  0.479017  699069305468551169  \n",
       "0 -0.287881  0.224616  0.072400  0.081860  0.418087  699164279472263170  \n",
       "0 -0.255551  0.184222  0.041002  0.252506  0.215646  699264346304618496  \n",
       "0 -0.255835  0.184413  0.041305  0.253625  0.214270  699266282646994944  \n",
       "0 -0.446541  0.093477 -0.069528  0.021291  0.142325  699315864122892288  \n",
       "\n",
       "[5 rows x 101 columns]"
      ]
     },
     "execution_count": 20,
     "metadata": {},
     "output_type": "execute_result"
    }
   ],
   "source": [
    "n_dimensions = len(model.wv['dengue'])\n",
    "w2v_data = pd.DataFrame()\n",
    "for index, row in data.iterrows():\n",
    "    tid = row[0]\n",
    "    text = row[5]\n",
    "    sum_w2v = np.zeros(n_dimensions)\n",
    "    for word in tknzr.tokenize(text):\n",
    "        if word in model.wv.vocab:\n",
    "            sum_w2v += model.wv[word]\n",
    "    avg_w2v = sum_w2v/n_dimensions\n",
    "    w2v_row = pd.DataFrame(data=avg_w2v).transpose()\n",
    "    w2v_row['id'] = tid\n",
    "    w2v_data = w2v_data.append(w2v_row)\n",
    "w2v_data.head()"
   ]
  },
  {
   "cell_type": "code",
   "execution_count": 21,
   "metadata": {},
   "outputs": [
    {
     "name": "stdout",
     "output_type": "stream",
     "text": [
      "df size is: 1000\n"
     ]
    },
    {
     "data": {
      "text/html": [
       "<div>\n",
       "<style scoped>\n",
       "    .dataframe tbody tr th:only-of-type {\n",
       "        vertical-align: middle;\n",
       "    }\n",
       "\n",
       "    .dataframe tbody tr th {\n",
       "        vertical-align: top;\n",
       "    }\n",
       "\n",
       "    .dataframe thead th {\n",
       "        text-align: right;\n",
       "    }\n",
       "</style>\n",
       "<table border=\"1\" class=\"dataframe\">\n",
       "  <thead>\n",
       "    <tr style=\"text-align: right;\">\n",
       "      <th></th>\n",
       "      <th>id</th>\n",
       "      <th>relevance</th>\n",
       "      <th>class</th>\n",
       "      <th>class_threshold3</th>\n",
       "      <th>text</th>\n",
       "      <th>text_original</th>\n",
       "      <th>tokens</th>\n",
       "      <th>tokens_bigrams</th>\n",
       "      <th>0</th>\n",
       "      <th>1</th>\n",
       "      <th>...</th>\n",
       "      <th>90</th>\n",
       "      <th>91</th>\n",
       "      <th>92</th>\n",
       "      <th>93</th>\n",
       "      <th>94</th>\n",
       "      <th>95</th>\n",
       "      <th>96</th>\n",
       "      <th>97</th>\n",
       "      <th>98</th>\n",
       "      <th>99</th>\n",
       "    </tr>\n",
       "  </thead>\n",
       "  <tbody>\n",
       "    <tr>\n",
       "      <th>0</th>\n",
       "      <td>699069305468551169</td>\n",
       "      <td>2</td>\n",
       "      <td>0</td>\n",
       "      <td>0</td>\n",
       "      <td>brasil tera 55 mil militares nas ruas para com...</td>\n",
       "      <td>brasil terá 55 mil militares nas ruas para com...</td>\n",
       "      <td>[brasil, tera, 55, mil, militares, nas, ruas, ...</td>\n",
       "      <td>[brasil_tera, 55_mil, militares_nas, ruas_para...</td>\n",
       "      <td>0.180816</td>\n",
       "      <td>-0.251217</td>\n",
       "      <td>...</td>\n",
       "      <td>-0.124944</td>\n",
       "      <td>0.219764</td>\n",
       "      <td>-0.193622</td>\n",
       "      <td>0.134398</td>\n",
       "      <td>0.071353</td>\n",
       "      <td>-0.397907</td>\n",
       "      <td>0.236137</td>\n",
       "      <td>0.049874</td>\n",
       "      <td>0.139613</td>\n",
       "      <td>0.479017</td>\n",
       "    </tr>\n",
       "    <tr>\n",
       "      <th>1</th>\n",
       "      <td>699164279472263170</td>\n",
       "      <td>3</td>\n",
       "      <td>0</td>\n",
       "      <td>1</td>\n",
       "      <td>depois do exercito abandonar o combate aos foc...</td>\n",
       "      <td>depois do exército abandonar o combate aos foc...</td>\n",
       "      <td>[depois, do, exercito, abandonar, o, combate, ...</td>\n",
       "      <td>[depois_do, exercito, abandonar_o, combate_aos...</td>\n",
       "      <td>0.187050</td>\n",
       "      <td>-0.225580</td>\n",
       "      <td>...</td>\n",
       "      <td>-0.093291</td>\n",
       "      <td>-0.097624</td>\n",
       "      <td>-0.174353</td>\n",
       "      <td>0.034669</td>\n",
       "      <td>0.103584</td>\n",
       "      <td>-0.287881</td>\n",
       "      <td>0.224616</td>\n",
       "      <td>0.072400</td>\n",
       "      <td>0.081860</td>\n",
       "      <td>0.418087</td>\n",
       "    </tr>\n",
       "    <tr>\n",
       "      <th>2</th>\n",
       "      <td>699264346304618496</td>\n",
       "      <td>1</td>\n",
       "      <td>0</td>\n",
       "      <td>0</td>\n",
       "      <td>farmaceuticos recebem treinamento sobre dengue...</td>\n",
       "      <td>farmacêuticos recebem treinamento sobre dengue...</td>\n",
       "      <td>[farmaceuticos, recebem, treinamento, sobre, d...</td>\n",
       "      <td>[farmaceuticos_recebem, treinamento_sobre, den...</td>\n",
       "      <td>0.076202</td>\n",
       "      <td>-0.346804</td>\n",
       "      <td>...</td>\n",
       "      <td>-0.082189</td>\n",
       "      <td>0.022997</td>\n",
       "      <td>-0.116464</td>\n",
       "      <td>0.217569</td>\n",
       "      <td>0.036479</td>\n",
       "      <td>-0.255551</td>\n",
       "      <td>0.184222</td>\n",
       "      <td>0.041002</td>\n",
       "      <td>0.252506</td>\n",
       "      <td>0.215646</td>\n",
       "    </tr>\n",
       "    <tr>\n",
       "      <th>3</th>\n",
       "      <td>699266282646994944</td>\n",
       "      <td>3</td>\n",
       "      <td>0</td>\n",
       "      <td>1</td>\n",
       "      <td>farmaceuticos recebem treinamento sobre dengue...</td>\n",
       "      <td>farmacêuticos recebem treinamento sobre dengue...</td>\n",
       "      <td>[farmaceuticos, recebem, treinamento, sobre, d...</td>\n",
       "      <td>[farmaceuticos_recebem, treinamento_sobre, den...</td>\n",
       "      <td>0.075017</td>\n",
       "      <td>-0.344677</td>\n",
       "      <td>...</td>\n",
       "      <td>-0.083351</td>\n",
       "      <td>0.022942</td>\n",
       "      <td>-0.116199</td>\n",
       "      <td>0.218128</td>\n",
       "      <td>0.035412</td>\n",
       "      <td>-0.255835</td>\n",
       "      <td>0.184413</td>\n",
       "      <td>0.041305</td>\n",
       "      <td>0.253625</td>\n",
       "      <td>0.214270</td>\n",
       "    </tr>\n",
       "    <tr>\n",
       "      <th>4</th>\n",
       "      <td>699315864122892288</td>\n",
       "      <td>0</td>\n",
       "      <td>0</td>\n",
       "      <td>0</td>\n",
       "      <td>rt g1 morador do df faz rap da dengue agora to...</td>\n",
       "      <td>rt g1 morador do df faz rap da dengue agora to...</td>\n",
       "      <td>[rt, g1, morador, do, df, faz, rap, da, dengue...</td>\n",
       "      <td>[rt_g1, morador, do_df, faz_rap, da_dengue, ag...</td>\n",
       "      <td>-0.003375</td>\n",
       "      <td>-0.173625</td>\n",
       "      <td>...</td>\n",
       "      <td>-0.047464</td>\n",
       "      <td>-0.100925</td>\n",
       "      <td>-0.156506</td>\n",
       "      <td>0.063525</td>\n",
       "      <td>0.103889</td>\n",
       "      <td>-0.446541</td>\n",
       "      <td>0.093477</td>\n",
       "      <td>-0.069528</td>\n",
       "      <td>0.021291</td>\n",
       "      <td>0.142325</td>\n",
       "    </tr>\n",
       "  </tbody>\n",
       "</table>\n",
       "<p>5 rows × 108 columns</p>\n",
       "</div>"
      ],
      "text/plain": [
       "                   id  relevance  class  class_threshold3  \\\n",
       "0  699069305468551169          2      0                 0   \n",
       "1  699164279472263170          3      0                 1   \n",
       "2  699264346304618496          1      0                 0   \n",
       "3  699266282646994944          3      0                 1   \n",
       "4  699315864122892288          0      0                 0   \n",
       "\n",
       "                                                text  \\\n",
       "0  brasil tera 55 mil militares nas ruas para com...   \n",
       "1  depois do exercito abandonar o combate aos foc...   \n",
       "2  farmaceuticos recebem treinamento sobre dengue...   \n",
       "3  farmaceuticos recebem treinamento sobre dengue...   \n",
       "4  rt g1 morador do df faz rap da dengue agora to...   \n",
       "\n",
       "                                       text_original  \\\n",
       "0  brasil terá 55 mil militares nas ruas para com...   \n",
       "1  depois do exército abandonar o combate aos foc...   \n",
       "2  farmacêuticos recebem treinamento sobre dengue...   \n",
       "3  farmacêuticos recebem treinamento sobre dengue...   \n",
       "4  rt g1 morador do df faz rap da dengue agora to...   \n",
       "\n",
       "                                              tokens  \\\n",
       "0  [brasil, tera, 55, mil, militares, nas, ruas, ...   \n",
       "1  [depois, do, exercito, abandonar, o, combate, ...   \n",
       "2  [farmaceuticos, recebem, treinamento, sobre, d...   \n",
       "3  [farmaceuticos, recebem, treinamento, sobre, d...   \n",
       "4  [rt, g1, morador, do, df, faz, rap, da, dengue...   \n",
       "\n",
       "                                      tokens_bigrams         0         1  ...  \\\n",
       "0  [brasil_tera, 55_mil, militares_nas, ruas_para...  0.180816 -0.251217  ...   \n",
       "1  [depois_do, exercito, abandonar_o, combate_aos...  0.187050 -0.225580  ...   \n",
       "2  [farmaceuticos_recebem, treinamento_sobre, den...  0.076202 -0.346804  ...   \n",
       "3  [farmaceuticos_recebem, treinamento_sobre, den...  0.075017 -0.344677  ...   \n",
       "4  [rt_g1, morador, do_df, faz_rap, da_dengue, ag... -0.003375 -0.173625  ...   \n",
       "\n",
       "         90        91        92        93        94        95        96  \\\n",
       "0 -0.124944  0.219764 -0.193622  0.134398  0.071353 -0.397907  0.236137   \n",
       "1 -0.093291 -0.097624 -0.174353  0.034669  0.103584 -0.287881  0.224616   \n",
       "2 -0.082189  0.022997 -0.116464  0.217569  0.036479 -0.255551  0.184222   \n",
       "3 -0.083351  0.022942 -0.116199  0.218128  0.035412 -0.255835  0.184413   \n",
       "4 -0.047464 -0.100925 -0.156506  0.063525  0.103889 -0.446541  0.093477   \n",
       "\n",
       "         97        98        99  \n",
       "0  0.049874  0.139613  0.479017  \n",
       "1  0.072400  0.081860  0.418087  \n",
       "2  0.041002  0.252506  0.215646  \n",
       "3  0.041305  0.253625  0.214270  \n",
       "4 -0.069528  0.021291  0.142325  \n",
       "\n",
       "[5 rows x 108 columns]"
      ]
     },
     "execution_count": 21,
     "metadata": {},
     "output_type": "execute_result"
    }
   ],
   "source": [
    "data = pd.merge(data, w2v_data, left_on='id', right_on='id')\n",
    "print('df size is:', len(data))\n",
    "data.head()"
   ]
  },
  {
   "cell_type": "markdown",
   "metadata": {},
   "source": [
    "# Data split"
   ]
  },
  {
   "cell_type": "code",
   "execution_count": 22,
   "metadata": {},
   "outputs": [],
   "source": [
    "from sklearn.model_selection import train_test_split"
   ]
  },
  {
   "cell_type": "code",
   "execution_count": 23,
   "metadata": {},
   "outputs": [],
   "source": [
    "data = data.rename(columns={\"class\": \"y1\", \"class_threshold3\": \"y2\"})"
   ]
  },
  {
   "cell_type": "code",
   "execution_count": 25,
   "metadata": {},
   "outputs": [
    {
     "data": {
      "text/plain": [
       "Index([ 0,  1,  2,  3,  4,  5,  6,  7,  8,  9, 10, 11, 12, 13, 14, 15, 16, 17,\n",
       "       18, 19, 20, 21, 22, 23, 24, 25, 26, 27, 28, 29, 30, 31, 32, 33, 34, 35,\n",
       "       36, 37, 38, 39, 40, 41, 42, 43, 44, 45, 46, 47, 48, 49, 50, 51, 52, 53,\n",
       "       54, 55, 56, 57, 58, 59, 60, 61, 62, 63, 64, 65, 66, 67, 68, 69, 70, 71,\n",
       "       72, 73, 74, 75, 76, 77, 78, 79, 80, 81, 82, 83, 84, 85, 86, 87, 88, 89,\n",
       "       90, 91, 92, 93, 94, 95, 96, 97, 98, 99],\n",
       "      dtype='object')"
      ]
     },
     "execution_count": 25,
     "metadata": {},
     "output_type": "execute_result"
    }
   ],
   "source": [
    "x_variables = data.columns[8:]\n",
    "x_variables"
   ]
  },
  {
   "cell_type": "code",
   "execution_count": 26,
   "metadata": {},
   "outputs": [],
   "source": [
    "#ys = data.iloc[:, 2:4]\n",
    "y = data.loc[:, 'y2']\n",
    "#y = data.iloc[:, 3:4]\n",
    "X = data.iloc[:, 8:]\n",
    "\n",
    "X_train, X_test, y_train, y_test = train_test_split(X, y, test_size = 0.3, random_state=0, shuffle=False)"
   ]
  },
  {
   "cell_type": "code",
   "execution_count": 27,
   "metadata": {
    "scrolled": true
   },
   "outputs": [
    {
     "data": {
      "text/html": [
       "<div>\n",
       "<style scoped>\n",
       "    .dataframe tbody tr th:only-of-type {\n",
       "        vertical-align: middle;\n",
       "    }\n",
       "\n",
       "    .dataframe tbody tr th {\n",
       "        vertical-align: top;\n",
       "    }\n",
       "\n",
       "    .dataframe thead th {\n",
       "        text-align: right;\n",
       "    }\n",
       "</style>\n",
       "<table border=\"1\" class=\"dataframe\">\n",
       "  <thead>\n",
       "    <tr style=\"text-align: right;\">\n",
       "      <th></th>\n",
       "      <th>0</th>\n",
       "      <th>1</th>\n",
       "      <th>2</th>\n",
       "      <th>3</th>\n",
       "      <th>4</th>\n",
       "      <th>5</th>\n",
       "      <th>6</th>\n",
       "      <th>7</th>\n",
       "      <th>8</th>\n",
       "      <th>9</th>\n",
       "      <th>...</th>\n",
       "      <th>90</th>\n",
       "      <th>91</th>\n",
       "      <th>92</th>\n",
       "      <th>93</th>\n",
       "      <th>94</th>\n",
       "      <th>95</th>\n",
       "      <th>96</th>\n",
       "      <th>97</th>\n",
       "      <th>98</th>\n",
       "      <th>99</th>\n",
       "    </tr>\n",
       "  </thead>\n",
       "  <tbody>\n",
       "    <tr>\n",
       "      <th>0</th>\n",
       "      <td>0.180816</td>\n",
       "      <td>-0.251217</td>\n",
       "      <td>-0.187524</td>\n",
       "      <td>0.157219</td>\n",
       "      <td>-0.048757</td>\n",
       "      <td>-0.163081</td>\n",
       "      <td>0.316214</td>\n",
       "      <td>-0.335298</td>\n",
       "      <td>0.114673</td>\n",
       "      <td>0.106486</td>\n",
       "      <td>...</td>\n",
       "      <td>-0.124944</td>\n",
       "      <td>0.219764</td>\n",
       "      <td>-0.193622</td>\n",
       "      <td>0.134398</td>\n",
       "      <td>0.071353</td>\n",
       "      <td>-0.397907</td>\n",
       "      <td>0.236137</td>\n",
       "      <td>0.049874</td>\n",
       "      <td>0.139613</td>\n",
       "      <td>0.479017</td>\n",
       "    </tr>\n",
       "    <tr>\n",
       "      <th>1</th>\n",
       "      <td>0.187050</td>\n",
       "      <td>-0.225580</td>\n",
       "      <td>-0.056113</td>\n",
       "      <td>0.222188</td>\n",
       "      <td>-0.162187</td>\n",
       "      <td>-0.359365</td>\n",
       "      <td>0.190656</td>\n",
       "      <td>-0.266675</td>\n",
       "      <td>0.423236</td>\n",
       "      <td>-0.146147</td>\n",
       "      <td>...</td>\n",
       "      <td>-0.093291</td>\n",
       "      <td>-0.097624</td>\n",
       "      <td>-0.174353</td>\n",
       "      <td>0.034669</td>\n",
       "      <td>0.103584</td>\n",
       "      <td>-0.287881</td>\n",
       "      <td>0.224616</td>\n",
       "      <td>0.072400</td>\n",
       "      <td>0.081860</td>\n",
       "      <td>0.418087</td>\n",
       "    </tr>\n",
       "    <tr>\n",
       "      <th>2</th>\n",
       "      <td>0.076202</td>\n",
       "      <td>-0.346804</td>\n",
       "      <td>-0.040145</td>\n",
       "      <td>0.084669</td>\n",
       "      <td>-0.071931</td>\n",
       "      <td>-0.079370</td>\n",
       "      <td>0.161752</td>\n",
       "      <td>-0.156063</td>\n",
       "      <td>0.230844</td>\n",
       "      <td>-0.041145</td>\n",
       "      <td>...</td>\n",
       "      <td>-0.082189</td>\n",
       "      <td>0.022997</td>\n",
       "      <td>-0.116464</td>\n",
       "      <td>0.217569</td>\n",
       "      <td>0.036479</td>\n",
       "      <td>-0.255551</td>\n",
       "      <td>0.184222</td>\n",
       "      <td>0.041002</td>\n",
       "      <td>0.252506</td>\n",
       "      <td>0.215646</td>\n",
       "    </tr>\n",
       "    <tr>\n",
       "      <th>3</th>\n",
       "      <td>0.075017</td>\n",
       "      <td>-0.344677</td>\n",
       "      <td>-0.040631</td>\n",
       "      <td>0.084277</td>\n",
       "      <td>-0.071954</td>\n",
       "      <td>-0.079764</td>\n",
       "      <td>0.161773</td>\n",
       "      <td>-0.157080</td>\n",
       "      <td>0.230336</td>\n",
       "      <td>-0.040453</td>\n",
       "      <td>...</td>\n",
       "      <td>-0.083351</td>\n",
       "      <td>0.022942</td>\n",
       "      <td>-0.116199</td>\n",
       "      <td>0.218128</td>\n",
       "      <td>0.035412</td>\n",
       "      <td>-0.255835</td>\n",
       "      <td>0.184413</td>\n",
       "      <td>0.041305</td>\n",
       "      <td>0.253625</td>\n",
       "      <td>0.214270</td>\n",
       "    </tr>\n",
       "    <tr>\n",
       "      <th>4</th>\n",
       "      <td>-0.003375</td>\n",
       "      <td>-0.173625</td>\n",
       "      <td>0.064493</td>\n",
       "      <td>0.126731</td>\n",
       "      <td>-0.145318</td>\n",
       "      <td>-0.216617</td>\n",
       "      <td>0.175384</td>\n",
       "      <td>-0.138079</td>\n",
       "      <td>0.402568</td>\n",
       "      <td>-0.000983</td>\n",
       "      <td>...</td>\n",
       "      <td>-0.047464</td>\n",
       "      <td>-0.100925</td>\n",
       "      <td>-0.156506</td>\n",
       "      <td>0.063525</td>\n",
       "      <td>0.103889</td>\n",
       "      <td>-0.446541</td>\n",
       "      <td>0.093477</td>\n",
       "      <td>-0.069528</td>\n",
       "      <td>0.021291</td>\n",
       "      <td>0.142325</td>\n",
       "    </tr>\n",
       "  </tbody>\n",
       "</table>\n",
       "<p>5 rows × 100 columns</p>\n",
       "</div>"
      ],
      "text/plain": [
       "         0         1         2         3         4         5         6   \\\n",
       "0  0.180816 -0.251217 -0.187524  0.157219 -0.048757 -0.163081  0.316214   \n",
       "1  0.187050 -0.225580 -0.056113  0.222188 -0.162187 -0.359365  0.190656   \n",
       "2  0.076202 -0.346804 -0.040145  0.084669 -0.071931 -0.079370  0.161752   \n",
       "3  0.075017 -0.344677 -0.040631  0.084277 -0.071954 -0.079764  0.161773   \n",
       "4 -0.003375 -0.173625  0.064493  0.126731 -0.145318 -0.216617  0.175384   \n",
       "\n",
       "         7         8         9   ...        90        91        92        93  \\\n",
       "0 -0.335298  0.114673  0.106486  ... -0.124944  0.219764 -0.193622  0.134398   \n",
       "1 -0.266675  0.423236 -0.146147  ... -0.093291 -0.097624 -0.174353  0.034669   \n",
       "2 -0.156063  0.230844 -0.041145  ... -0.082189  0.022997 -0.116464  0.217569   \n",
       "3 -0.157080  0.230336 -0.040453  ... -0.083351  0.022942 -0.116199  0.218128   \n",
       "4 -0.138079  0.402568 -0.000983  ... -0.047464 -0.100925 -0.156506  0.063525   \n",
       "\n",
       "         94        95        96        97        98        99  \n",
       "0  0.071353 -0.397907  0.236137  0.049874  0.139613  0.479017  \n",
       "1  0.103584 -0.287881  0.224616  0.072400  0.081860  0.418087  \n",
       "2  0.036479 -0.255551  0.184222  0.041002  0.252506  0.215646  \n",
       "3  0.035412 -0.255835  0.184413  0.041305  0.253625  0.214270  \n",
       "4  0.103889 -0.446541  0.093477 -0.069528  0.021291  0.142325  \n",
       "\n",
       "[5 rows x 100 columns]"
      ]
     },
     "execution_count": 27,
     "metadata": {},
     "output_type": "execute_result"
    }
   ],
   "source": [
    "X_train.head()"
   ]
  },
  {
   "cell_type": "code",
   "execution_count": 29,
   "metadata": {},
   "outputs": [
    {
     "data": {
      "text/plain": [
       "0      0\n",
       "1      1\n",
       "2      0\n",
       "3      1\n",
       "4      0\n",
       "      ..\n",
       "995    0\n",
       "996    1\n",
       "997    0\n",
       "998    0\n",
       "999    0\n",
       "Name: y2, Length: 1000, dtype: int64"
      ]
     },
     "execution_count": 29,
     "metadata": {},
     "output_type": "execute_result"
    }
   ],
   "source": [
    "y"
   ]
  },
  {
   "cell_type": "markdown",
   "metadata": {},
   "source": [
    "# Oversampling minority class\n",
    "Tested only on 1 ML model"
   ]
  },
  {
   "cell_type": "code",
   "execution_count": 104,
   "metadata": {},
   "outputs": [],
   "source": [
    "from imblearn.over_sampling import SMOTE\n",
    "\n",
    "smote = SMOTE(random_state=42)\n",
    "X_traincv_res, y_traincv_res = smote.fit_sample(X_train, y_train)"
   ]
  },
  {
   "cell_type": "markdown",
   "metadata": {},
   "source": [
    "# Machine Learning, Baseline\n",
    "Using Logistic regression and Random Forest as baselines"
   ]
  },
  {
   "cell_type": "code",
   "execution_count": 33,
   "metadata": {},
   "outputs": [],
   "source": [
    "from sklearn.preprocessing import StandardScaler, Imputer\n",
    "from sklearn.pipeline import Pipeline\n",
    "from sklearn.model_selection import GridSearchCV\n",
    "from sklearn.metrics import classification_report, roc_curve, roc_auc_score, confusion_matrix, accuracy_score"
   ]
  },
  {
   "cell_type": "markdown",
   "metadata": {},
   "source": [
    "### Logistic Regression"
   ]
  },
  {
   "cell_type": "code",
   "execution_count": 101,
   "metadata": {},
   "outputs": [],
   "source": [
    "from sklearn.linear_model import LogisticRegression"
   ]
  },
  {
   "cell_type": "code",
   "execution_count": 109,
   "metadata": {},
   "outputs": [
    {
     "name": "stdout",
     "output_type": "stream",
     "text": [
      "\n",
      "TUNED MODEL PARAMETERS:\n",
      " {'logreg__C': 8.858667904100833e-05, 'logreg__penalty': 'l2', 'logreg__random_state': 42}\n",
      "\n",
      "TUNED RECALL:\n",
      " 0.5165345622119816\n"
     ]
    }
   ],
   "source": [
    "# Setup the pipeline\n",
    "steps = [('scaler', StandardScaler()),\n",
    "         ('logreg', LogisticRegression())]\n",
    "\n",
    "pipeline = Pipeline(steps)\n",
    "\n",
    "#LogisticRegression()\n",
    "\n",
    "# Specify the hyperparameter space\n",
    "c_space = np.logspace(-5, 1, 20)\n",
    "parameters = {'logreg__C': c_space, \n",
    "              'logreg__penalty': ['l1', 'l2'],\n",
    "              'logreg__random_state':[42]}\n",
    "\n",
    "# Instantiate the GridSearchCV object\n",
    "clf_logreg = GridSearchCV(pipeline,parameters, cv=5, scoring='recall')\n",
    "\n",
    "# Fit to the training set\n",
    "clf_logreg.fit(X_train, y_train)\n",
    "\n",
    "# Compute and print metrics\n",
    "print(\"\\nTUNED MODEL PARAMETERS:\\n {}\".format(clf_logreg.best_params_))\n",
    "print(\"\\nTUNED RECALL:\\n {}\".format(clf_logreg.best_score_))"
   ]
  },
  {
   "cell_type": "code",
   "execution_count": 110,
   "metadata": {},
   "outputs": [],
   "source": [
    "logreg_best = clf_logreg.best_params_"
   ]
  },
  {
   "cell_type": "markdown",
   "metadata": {},
   "source": [
    "#### repeat with oversampling"
   ]
  },
  {
   "cell_type": "code",
   "execution_count": 111,
   "metadata": {},
   "outputs": [
    {
     "name": "stdout",
     "output_type": "stream",
     "text": [
      "\n",
      "TUNED MODEL PARAMETERS:\n",
      " {'logreg__C': 1.1288378916846884, 'logreg__penalty': 'l2', 'logreg__random_state': 42}\n",
      "\n",
      "TUNED RECALL:\n",
      " 0.8688524590163934\n"
     ]
    }
   ],
   "source": [
    "# Fit to the training set\n",
    "clf_logreg.fit(X_traincv_res, y_traincv_res)\n",
    "\n",
    "# Compute and print metrics\n",
    "print(\"\\nTUNED MODEL PARAMETERS:\\n {}\".format(clf_logreg.best_params_))\n",
    "print(\"\\nTUNED RECALL:\\n {}\".format(clf_logreg.best_score_))"
   ]
  },
  {
   "cell_type": "code",
   "execution_count": 112,
   "metadata": {},
   "outputs": [],
   "source": [
    "logreg_best_smote = clf_logreg.best_params_"
   ]
  },
  {
   "cell_type": "markdown",
   "metadata": {},
   "source": [
    "### Random Forest"
   ]
  },
  {
   "cell_type": "code",
   "execution_count": 28,
   "metadata": {},
   "outputs": [],
   "source": [
    "from sklearn.ensemble import RandomForestClassifier"
   ]
  },
  {
   "cell_type": "code",
   "execution_count": 103,
   "metadata": {},
   "outputs": [
    {
     "name": "stdout",
     "output_type": "stream",
     "text": [
      "\n",
      "TUNED MODEL PARAMETERS:\n",
      " {'rfc__max_features': None, 'rfc__n_estimators': 300, 'rfc__random_state': 42}\n",
      "\n",
      "TUNED RECALL:\n",
      " 0.20534101382488482\n"
     ]
    }
   ],
   "source": [
    "# Setup the pipeline\n",
    "steps = [('scaler', StandardScaler()),\n",
    "         ('rfc', RandomForestClassifier())]\n",
    "\n",
    "pipeline = Pipeline(steps)\n",
    "\n",
    "# Specify the hyperparameter space\n",
    "parameters = {'rfc__max_features':[1, 2, \"auto\", \"log2\", None],\n",
    "              'rfc__n_estimators':[300],\n",
    "              'rfc__random_state':[42]}\n",
    "\n",
    "clf_rforest = GridSearchCV(pipeline,parameters, cv=5, scoring='recall')\n",
    "\n",
    "clf_rforest.fit(X_train, y_train)\n",
    "\n",
    "print(\"\\nTUNED MODEL PARAMETERS:\\n {}\".format(clf_rforest.best_params_))\n",
    "print(\"\\nTUNED RECALL:\\n {}\".format(clf_rforest.best_score_))"
   ]
  },
  {
   "cell_type": "markdown",
   "metadata": {},
   "source": [
    "# Machine Learning, other models"
   ]
  },
  {
   "cell_type": "markdown",
   "metadata": {},
   "source": [
    "### svm"
   ]
  },
  {
   "cell_type": "code",
   "execution_count": 90,
   "metadata": {},
   "outputs": [],
   "source": [
    "from sklearn import svm"
   ]
  },
  {
   "cell_type": "code",
   "execution_count": 93,
   "metadata": {},
   "outputs": [
    {
     "name": "stdout",
     "output_type": "stream",
     "text": [
      "\n",
      "TUNED MODEL PARAMETERS:\n",
      " {'svc__C': 1.788888888888889, 'svc__degree': 2, 'svc__gamma': 1e-05, 'svc__kernel': 'linear', 'svc__random_state': 42}\n",
      "\n",
      "TUNED RECALL:\n",
      " 0.5364132104454685\n"
     ]
    }
   ],
   "source": [
    "# Setup the pipeline\n",
    "steps = [('scaler', StandardScaler()),\n",
    "         ('svc', svm.SVC())]\n",
    "\n",
    "pipeline = Pipeline(steps)\n",
    "\n",
    "# Specify the hyperparameter space\n",
    "parameters = {'svc__kernel': ['linear', 'poly'],\n",
    "              'svc__C': np.linspace(0.1,2,10),\n",
    "              'svc__degree': [2,3,4],\n",
    "              'svc__gamma': np.logspace(-5, 0, 10),\n",
    "              'svc__random_state':[42]}\n",
    "\n",
    "clf_svc = GridSearchCV(pipeline,parameters, cv=5, scoring='recall')\n",
    "\n",
    "clf_svc.fit(X_train, y_train)\n",
    "\n",
    "print(\"\\nTUNED MODEL PARAMETERS:\\n {}\".format(clf_svc.best_params_))\n",
    "print(\"\\nTUNED RECALL:\\n {}\".format(clf_svc.best_score_))"
   ]
  },
  {
   "cell_type": "markdown",
   "metadata": {},
   "source": [
    "### adaboost"
   ]
  },
  {
   "cell_type": "code",
   "execution_count": 94,
   "metadata": {},
   "outputs": [],
   "source": [
    "from sklearn.ensemble import AdaBoostClassifier"
   ]
  },
  {
   "cell_type": "code",
   "execution_count": 97,
   "metadata": {},
   "outputs": [
    {
     "name": "stdout",
     "output_type": "stream",
     "text": [
      "\n",
      "TUNED MODEL PARAMETERS:\n",
      " {'abc__n_estimators': 300, 'abc__random_state': 42}\n",
      "\n",
      "TUNED RECALL:\n",
      " 0.3639677419354838\n"
     ]
    }
   ],
   "source": [
    "steps = [('scaler', StandardScaler()),\n",
    "         ('abc', AdaBoostClassifier())]\n",
    "\n",
    "pipeline = Pipeline(steps)\n",
    "\n",
    "parameters = {'abc__n_estimators': [300],\n",
    "              'abc__random_state':[42]}\n",
    "\n",
    "clf_abc = GridSearchCV(pipeline,parameters, cv=5, scoring='recall')\n",
    "\n",
    "clf_abc.fit(X_train, y_train)\n",
    "\n",
    "print(\"\\nTUNED MODEL PARAMETERS:\\n {}\".format(clf_abc.best_params_))\n",
    "print(\"\\nTUNED RECALL:\\n {}\".format(clf_abc.best_score_))"
   ]
  },
  {
   "cell_type": "markdown",
   "metadata": {},
   "source": [
    "### gradient boosting"
   ]
  },
  {
   "cell_type": "code",
   "execution_count": 48,
   "metadata": {},
   "outputs": [],
   "source": [
    "from sklearn.ensemble import GradientBoostingClassifier"
   ]
  },
  {
   "cell_type": "code",
   "execution_count": 49,
   "metadata": {},
   "outputs": [
    {
     "name": "stdout",
     "output_type": "stream",
     "text": [
      "\n",
      "TUNED MODEL PARAMETERS:\n",
      " {'gbc__n_estimators': 300, 'gbc__random_state': 42}\n",
      "\n",
      "TUNED RECALL:\n",
      " 0.3043533026113671\n"
     ]
    }
   ],
   "source": [
    "steps = [('scaler', StandardScaler()),\n",
    "         ('gbc', GradientBoostingClassifier())]\n",
    "\n",
    "pipeline = Pipeline(steps)\n",
    "\n",
    "parameters = {'gbc__n_estimators': [300],\n",
    "              'gbc__random_state':[42]}\n",
    "\n",
    "\n",
    "clf_gbc = GridSearchCV(pipeline, parameters, cv=5, scoring='recall')\n",
    "\n",
    "clf_gbc.fit(X_train, y_train)\n",
    "\n",
    "print(\"\\nTUNED MODEL PARAMETERS:\\n {}\".format(clf_gbc.best_params_))\n",
    "print(\"\\nTUNED RECALL:\\n {}\".format(clf_gbc.best_score_))"
   ]
  },
  {
   "cell_type": "markdown",
   "metadata": {},
   "source": [
    "### xgboost"
   ]
  },
  {
   "cell_type": "code",
   "execution_count": 28,
   "metadata": {},
   "outputs": [],
   "source": [
    "import xgboost as xgb"
   ]
  },
  {
   "cell_type": "code",
   "execution_count": 29,
   "metadata": {
    "scrolled": true
   },
   "outputs": [
    {
     "name": "stdout",
     "output_type": "stream",
     "text": [
      "[0]\ttrain-aucpr:0.97042\tvalid-aucpr:0.260231\n",
      "Multiple eval metrics have been passed: 'valid-aucpr' will be used for early stopping.\n",
      "\n",
      "Will train until valid-aucpr hasn't improved in 50 rounds.\n",
      "[10]\ttrain-aucpr:0.998915\tvalid-aucpr:0.360895\n",
      "[20]\ttrain-aucpr:1\tvalid-aucpr:0.388403\n",
      "[30]\ttrain-aucpr:1\tvalid-aucpr:0.385397\n",
      "[40]\ttrain-aucpr:1\tvalid-aucpr:0.389419\n",
      "[50]\ttrain-aucpr:1\tvalid-aucpr:0.389876\n",
      "[60]\ttrain-aucpr:1\tvalid-aucpr:0.394523\n",
      "[70]\ttrain-aucpr:1\tvalid-aucpr:0.393382\n",
      "[80]\ttrain-aucpr:1\tvalid-aucpr:0.396373\n",
      "[90]\ttrain-aucpr:1\tvalid-aucpr:0.399911\n",
      "[100]\ttrain-aucpr:1\tvalid-aucpr:0.416427\n",
      "[110]\ttrain-aucpr:1\tvalid-aucpr:0.431052\n",
      "[120]\ttrain-aucpr:1\tvalid-aucpr:0.432278\n",
      "[130]\ttrain-aucpr:1\tvalid-aucpr:0.426353\n",
      "[140]\ttrain-aucpr:1\tvalid-aucpr:0.428471\n",
      "[150]\ttrain-aucpr:1\tvalid-aucpr:0.425503\n",
      "[160]\ttrain-aucpr:1\tvalid-aucpr:0.427718\n",
      "Stopping. Best iteration:\n",
      "[115]\ttrain-aucpr:1\tvalid-aucpr:0.435724\n",
      "\n"
     ]
    }
   ],
   "source": [
    "# Set our parameters for xgboost\n",
    "params = {}\n",
    "params['objective'] = 'reg:squarederror'\n",
    "params['eval_metric'] = 'aucpr'\n",
    "params['eta'] = 0.02\n",
    "params['max_depth'] = 10\n",
    "\n",
    "d_train = xgb.DMatrix(X_train, label=y_train)\n",
    "d_test = xgb.DMatrix(X_test, label=y_test)\n",
    "\n",
    "watchlist = [(d_train, 'train'), (d_test, 'valid')]\n",
    "\n",
    "bst = xgb.train(params, d_train, 400, watchlist, early_stopping_rounds=50, verbose_eval=10)"
   ]
  },
  {
   "cell_type": "code",
   "execution_count": 30,
   "metadata": {},
   "outputs": [],
   "source": [
    "def use_threshold(value):\n",
    "    if value > 0.2: value = 1\n",
    "    else: value = 0\n",
    "    return value"
   ]
  },
  {
   "cell_type": "code",
   "execution_count": 31,
   "metadata": {},
   "outputs": [],
   "source": [
    "p_test = bst.predict(d_test)\n",
    "y_pred = np.array(list((map(use_threshold, p_test))))"
   ]
  },
  {
   "cell_type": "code",
   "execution_count": 34,
   "metadata": {},
   "outputs": [
    {
     "data": {
      "text/plain": [
       "0.6833333333333333"
      ]
     },
     "execution_count": 34,
     "metadata": {},
     "output_type": "execute_result"
    }
   ],
   "source": [
    "accuracy_score(y_test, y_pred)"
   ]
  },
  {
   "cell_type": "code",
   "execution_count": 35,
   "metadata": {},
   "outputs": [
    {
     "name": "stdout",
     "output_type": "stream",
     "text": [
      "\n",
      "CLASSIFICATION_REPORT:\n",
      "               precision    recall  f1-score   support\n",
      "\n",
      "           0       0.91      0.68      0.78       244\n",
      "           1       0.33      0.70      0.45        56\n",
      "\n",
      "    accuracy                           0.68       300\n",
      "   macro avg       0.62      0.69      0.61       300\n",
      "weighted avg       0.80      0.68      0.72       300\n",
      "\n"
     ]
    }
   ],
   "source": [
    "print(\"\\nCLASSIFICATION_REPORT:\\n\", classification_report(y_test, y_pred))"
   ]
  },
  {
   "cell_type": "markdown",
   "metadata": {},
   "source": [
    "### Interpreting xgboost using shap values"
   ]
  },
  {
   "cell_type": "code",
   "execution_count": 37,
   "metadata": {},
   "outputs": [],
   "source": [
    "import shap"
   ]
  },
  {
   "cell_type": "code",
   "execution_count": 46,
   "metadata": {},
   "outputs": [],
   "source": [
    "data_for_prediction = xgb.DMatrix(X_test.iloc[1], label=y_test)"
   ]
  },
  {
   "cell_type": "code",
   "execution_count": 44,
   "metadata": {},
   "outputs": [],
   "source": [
    "data_for_prediction = np.array(data_for_prediction)\n",
    "#data_for_prediction_array = data_for_prediction.values.reshape(1, -1)"
   ]
  },
  {
   "cell_type": "code",
   "execution_count": 90,
   "metadata": {},
   "outputs": [
    {
     "ename": "AttributeError",
     "evalue": "'Series' object has no attribute 'feature_names'",
     "output_type": "error",
     "traceback": [
      "\u001b[1;31m---------------------------------------------------------------------------\u001b[0m",
      "\u001b[1;31mAttributeError\u001b[0m                            Traceback (most recent call last)",
      "\u001b[1;32m<ipython-input-90-ccbfaef106f6>\u001b[0m in \u001b[0;36m<module>\u001b[1;34m\u001b[0m\n\u001b[1;32m----> 1\u001b[1;33m \u001b[0mbst\u001b[0m\u001b[1;33m.\u001b[0m\u001b[0mpredict\u001b[0m\u001b[1;33m(\u001b[0m\u001b[0mdata_for_prediction\u001b[0m\u001b[1;33m)\u001b[0m\u001b[1;33m\u001b[0m\u001b[1;33m\u001b[0m\u001b[0m\n\u001b[0m",
      "\u001b[1;32mD:\\Users\\Marcelo\\Anaconda3\\lib\\site-packages\\xgboost\\core.py\u001b[0m in \u001b[0;36mpredict\u001b[1;34m(self, data, output_margin, ntree_limit, pred_leaf, pred_contribs, approx_contribs, pred_interactions, validate_features)\u001b[0m\n\u001b[0;32m   1282\u001b[0m \u001b[1;33m\u001b[0m\u001b[0m\n\u001b[0;32m   1283\u001b[0m         \u001b[1;32mif\u001b[0m \u001b[0mvalidate_features\u001b[0m\u001b[1;33m:\u001b[0m\u001b[1;33m\u001b[0m\u001b[1;33m\u001b[0m\u001b[0m\n\u001b[1;32m-> 1284\u001b[1;33m             \u001b[0mself\u001b[0m\u001b[1;33m.\u001b[0m\u001b[0m_validate_features\u001b[0m\u001b[1;33m(\u001b[0m\u001b[0mdata\u001b[0m\u001b[1;33m)\u001b[0m\u001b[1;33m\u001b[0m\u001b[1;33m\u001b[0m\u001b[0m\n\u001b[0m\u001b[0;32m   1285\u001b[0m \u001b[1;33m\u001b[0m\u001b[0m\n\u001b[0;32m   1286\u001b[0m         \u001b[0mlength\u001b[0m \u001b[1;33m=\u001b[0m \u001b[0mc_bst_ulong\u001b[0m\u001b[1;33m(\u001b[0m\u001b[1;33m)\u001b[0m\u001b[1;33m\u001b[0m\u001b[1;33m\u001b[0m\u001b[0m\n",
      "\u001b[1;32mD:\\Users\\Marcelo\\Anaconda3\\lib\\site-packages\\xgboost\\core.py\u001b[0m in \u001b[0;36m_validate_features\u001b[1;34m(self, data)\u001b[0m\n\u001b[0;32m   1673\u001b[0m         \u001b[1;32melse\u001b[0m\u001b[1;33m:\u001b[0m\u001b[1;33m\u001b[0m\u001b[1;33m\u001b[0m\u001b[0m\n\u001b[0;32m   1674\u001b[0m             \u001b[1;31m# Booster can't accept data with different feature names\u001b[0m\u001b[1;33m\u001b[0m\u001b[1;33m\u001b[0m\u001b[1;33m\u001b[0m\u001b[0m\n\u001b[1;32m-> 1675\u001b[1;33m             \u001b[1;32mif\u001b[0m \u001b[0mself\u001b[0m\u001b[1;33m.\u001b[0m\u001b[0mfeature_names\u001b[0m \u001b[1;33m!=\u001b[0m \u001b[0mdata\u001b[0m\u001b[1;33m.\u001b[0m\u001b[0mfeature_names\u001b[0m\u001b[1;33m:\u001b[0m\u001b[1;33m\u001b[0m\u001b[1;33m\u001b[0m\u001b[0m\n\u001b[0m\u001b[0;32m   1676\u001b[0m                 \u001b[0mdat_missing\u001b[0m \u001b[1;33m=\u001b[0m \u001b[0mset\u001b[0m\u001b[1;33m(\u001b[0m\u001b[0mself\u001b[0m\u001b[1;33m.\u001b[0m\u001b[0mfeature_names\u001b[0m\u001b[1;33m)\u001b[0m \u001b[1;33m-\u001b[0m \u001b[0mset\u001b[0m\u001b[1;33m(\u001b[0m\u001b[0mdata\u001b[0m\u001b[1;33m.\u001b[0m\u001b[0mfeature_names\u001b[0m\u001b[1;33m)\u001b[0m\u001b[1;33m\u001b[0m\u001b[1;33m\u001b[0m\u001b[0m\n\u001b[0;32m   1677\u001b[0m                 \u001b[0mmy_missing\u001b[0m \u001b[1;33m=\u001b[0m \u001b[0mset\u001b[0m\u001b[1;33m(\u001b[0m\u001b[0mdata\u001b[0m\u001b[1;33m.\u001b[0m\u001b[0mfeature_names\u001b[0m\u001b[1;33m)\u001b[0m \u001b[1;33m-\u001b[0m \u001b[0mset\u001b[0m\u001b[1;33m(\u001b[0m\u001b[0mself\u001b[0m\u001b[1;33m.\u001b[0m\u001b[0mfeature_names\u001b[0m\u001b[1;33m)\u001b[0m\u001b[1;33m\u001b[0m\u001b[1;33m\u001b[0m\u001b[0m\n",
      "\u001b[1;32mD:\\Users\\Marcelo\\Anaconda3\\lib\\site-packages\\pandas\\core\\generic.py\u001b[0m in \u001b[0;36m__getattr__\u001b[1;34m(self, name)\u001b[0m\n\u001b[0;32m   5177\u001b[0m             \u001b[1;32mif\u001b[0m \u001b[0mself\u001b[0m\u001b[1;33m.\u001b[0m\u001b[0m_info_axis\u001b[0m\u001b[1;33m.\u001b[0m\u001b[0m_can_hold_identifiers_and_holds_name\u001b[0m\u001b[1;33m(\u001b[0m\u001b[0mname\u001b[0m\u001b[1;33m)\u001b[0m\u001b[1;33m:\u001b[0m\u001b[1;33m\u001b[0m\u001b[1;33m\u001b[0m\u001b[0m\n\u001b[0;32m   5178\u001b[0m                 \u001b[1;32mreturn\u001b[0m \u001b[0mself\u001b[0m\u001b[1;33m[\u001b[0m\u001b[0mname\u001b[0m\u001b[1;33m]\u001b[0m\u001b[1;33m\u001b[0m\u001b[1;33m\u001b[0m\u001b[0m\n\u001b[1;32m-> 5179\u001b[1;33m             \u001b[1;32mreturn\u001b[0m \u001b[0mobject\u001b[0m\u001b[1;33m.\u001b[0m\u001b[0m__getattribute__\u001b[0m\u001b[1;33m(\u001b[0m\u001b[0mself\u001b[0m\u001b[1;33m,\u001b[0m \u001b[0mname\u001b[0m\u001b[1;33m)\u001b[0m\u001b[1;33m\u001b[0m\u001b[1;33m\u001b[0m\u001b[0m\n\u001b[0m\u001b[0;32m   5180\u001b[0m \u001b[1;33m\u001b[0m\u001b[0m\n\u001b[0;32m   5181\u001b[0m     \u001b[1;32mdef\u001b[0m \u001b[0m__setattr__\u001b[0m\u001b[1;33m(\u001b[0m\u001b[0mself\u001b[0m\u001b[1;33m,\u001b[0m \u001b[0mname\u001b[0m\u001b[1;33m,\u001b[0m \u001b[0mvalue\u001b[0m\u001b[1;33m)\u001b[0m\u001b[1;33m:\u001b[0m\u001b[1;33m\u001b[0m\u001b[1;33m\u001b[0m\u001b[0m\n",
      "\u001b[1;31mAttributeError\u001b[0m: 'Series' object has no attribute 'feature_names'"
     ]
    }
   ],
   "source": [
    "bst.predict(data_for_prediction)"
   ]
  },
  {
   "cell_type": "code",
   "execution_count": 36,
   "metadata": {},
   "outputs": [
    {
     "ename": "ModuleNotFoundError",
     "evalue": "No module named 'shap'",
     "output_type": "error",
     "traceback": [
      "\u001b[1;31m---------------------------------------------------------------------------\u001b[0m",
      "\u001b[1;31mModuleNotFoundError\u001b[0m                       Traceback (most recent call last)",
      "\u001b[1;32m<ipython-input-36-b725edd163fd>\u001b[0m in \u001b[0;36m<module>\u001b[1;34m\u001b[0m\n\u001b[1;32m----> 1\u001b[1;33m \u001b[1;32mimport\u001b[0m \u001b[0mshap\u001b[0m  \u001b[1;31m# package used to calculate Shap values\u001b[0m\u001b[1;33m\u001b[0m\u001b[1;33m\u001b[0m\u001b[0m\n\u001b[0m\u001b[0;32m      2\u001b[0m \u001b[1;33m\u001b[0m\u001b[0m\n\u001b[0;32m      3\u001b[0m \u001b[1;31m# Create object that can calculate shap values\u001b[0m\u001b[1;33m\u001b[0m\u001b[1;33m\u001b[0m\u001b[1;33m\u001b[0m\u001b[0m\n\u001b[0;32m      4\u001b[0m \u001b[0mexplainer\u001b[0m \u001b[1;33m=\u001b[0m \u001b[0mshap\u001b[0m\u001b[1;33m.\u001b[0m\u001b[0mTreeExplainer\u001b[0m\u001b[1;33m(\u001b[0m\u001b[0mmy_model\u001b[0m\u001b[1;33m)\u001b[0m\u001b[1;33m\u001b[0m\u001b[1;33m\u001b[0m\u001b[0m\n\u001b[0;32m      5\u001b[0m \u001b[1;33m\u001b[0m\u001b[0m\n",
      "\u001b[1;31mModuleNotFoundError\u001b[0m: No module named 'shap'"
     ]
    }
   ],
   "source": [
    "\n",
    "\n",
    "# Create object that can calculate shap values\n",
    "explainer = shap.TreeExplainer(my_model)\n",
    "\n",
    "# Calculate Shap values\n",
    "shap_values = explainer.shap_values(data_for_prediction)"
   ]
  },
  {
   "cell_type": "code",
   "execution_count": null,
   "metadata": {},
   "outputs": [],
   "source": []
  },
  {
   "cell_type": "markdown",
   "metadata": {},
   "source": [
    "# Plot results"
   ]
  },
  {
   "cell_type": "code",
   "execution_count": 100,
   "metadata": {},
   "outputs": [
    {
     "data": {
      "text/plain": [
       "0.3043533026113671"
      ]
     },
     "execution_count": 100,
     "metadata": {},
     "output_type": "execute_result"
    }
   ],
   "source": [
    "dic_results = {}\n",
    "dic_results['logistic regression']= clf_logreg.best_score_\n",
    "dic_results['random forest']= clf_rforest.best_score_\n",
    "dic_results['svm']= clf_svc.best_score_\n",
    "dic_results['adaboost']= clf_abc.best_score_\n",
    "dic_results['gradient boosting']= clf_gbc.best_score_\n",
    "clf_gbc.best_score_"
   ]
  },
  {
   "cell_type": "code",
   "execution_count": 101,
   "metadata": {},
   "outputs": [
    {
     "data": {
      "image/png": "[encoded data removed]",
      "text/plain": [
       "<Figure size 576x144 with 1 Axes>"
      ]
     },
     "metadata": {
      "needs_background": "light"
     },
     "output_type": "display_data"
    }
   ],
   "source": [
    "import operator\n",
    "tup_results = sorted(dic_results.items(), key=operator.itemgetter(1))\n",
    "\n",
    "N = len(dic_results)\n",
    "ind = np.arange(N)  # the x locations for the groups\n",
    "width = 0.40       # the width of the bars\n",
    "\n",
    "fig = plt.figure(figsize=(8,2))\n",
    "ax = fig.add_subplot(111)\n",
    "rects = ax.bar(ind+0.5, list(zip(*tup_results))[1], width,)\n",
    "for rect in rects:\n",
    "    height = rect.get_height()\n",
    "    ax.text(rect.get_x()+rect.get_width()/2., \n",
    "            1.005*height, \n",
    "            '{0:.4f}'.format(height), \n",
    "            ha='center', \n",
    "            va='bottom',)\n",
    "\n",
    "ax.set_ylabel('Score')\n",
    "ax.set_xlabel('ML model')\n",
    "ax.set_ylim(ymin=0.0,ymax = 1)\n",
    "ax.set_title(\"Recall Comparison\")\n",
    "ax.set_xticks(ind + width/2.)\n",
    "ax.set_xticklabels(list(zip(*tup_results))[0], rotation=22)\n",
    "\n",
    "plt.show()"
   ]
  },
  {
   "cell_type": "markdown",
   "metadata": {},
   "source": [
    "# calculate final quality with a test set\n",
    "So we see that the best validated model is Logistic Regression. We will now test it on the test set. We could also compare with other models with their respective best params."
   ]
  },
  {
   "cell_type": "markdown",
   "metadata": {},
   "source": [
    "### transform data"
   ]
  },
  {
   "cell_type": "code",
   "execution_count": 122,
   "metadata": {},
   "outputs": [],
   "source": [
    "#transform X_train\n",
    "scale = StandardScaler().fit(X_train)\n",
    "X_train_scaled = scale.transform(X_train)\n",
    "\n",
    "#transform X_test\n",
    "scale = StandardScaler().fit(X_test)\n",
    "X_test_scaled = scale.transform(X_test)"
   ]
  },
  {
   "cell_type": "markdown",
   "metadata": {},
   "source": [
    "### get best params of regressor\n",
    "this was previously obtained during cross validation step"
   ]
  },
  {
   "cell_type": "code",
   "execution_count": 120,
   "metadata": {},
   "outputs": [
    {
     "data": {
      "text/plain": [
       "{'C': 8.858667904100833e-05, 'penalty': 'l2', 'random_state': 42}"
      ]
     },
     "execution_count": 120,
     "metadata": {},
     "output_type": "execute_result"
    }
   ],
   "source": [
    "params_normal = {}\n",
    "for k,v in logreg_best.items():\n",
    "    k = k[8:]\n",
    "    params_normal[k] = v\n",
    "params_normal"
   ]
  },
  {
   "cell_type": "code",
   "execution_count": 139,
   "metadata": {},
   "outputs": [],
   "source": [
    "#instantiate regressor with best params\n",
    "params = params_normal\n",
    "clf_logreg_validated = LogisticRegression(C = params['C'], penalty = params['penalty'], random_state = params['random_state'])\n",
    "\n",
    "clf_logreg_validated.fit(X_train_scaled, y_train)\n",
    "y_pred = clf_logreg_validated.predict(X_test_scaled)"
   ]
  },
  {
   "cell_type": "markdown",
   "metadata": {},
   "source": [
    "### calculate accuracy on test set"
   ]
  },
  {
   "cell_type": "code",
   "execution_count": 132,
   "metadata": {},
   "outputs": [
    {
     "data": {
      "text/plain": [
       "0.7433333333333333"
      ]
     },
     "execution_count": 132,
     "metadata": {},
     "output_type": "execute_result"
    }
   ],
   "source": [
    "accuracy_score(y_test, y_pred)"
   ]
  },
  {
   "cell_type": "markdown",
   "metadata": {},
   "source": [
    "### classification report"
   ]
  },
  {
   "cell_type": "code",
   "execution_count": 133,
   "metadata": {
    "scrolled": false
   },
   "outputs": [
    {
     "name": "stdout",
     "output_type": "stream",
     "text": [
      "\n",
      "CLASSIFICATION_REPORT:\n",
      "               precision    recall  f1-score   support\n",
      "\n",
      "           0       0.87      0.80      0.84       244\n",
      "           1       0.36      0.48      0.41        56\n",
      "\n",
      "    accuracy                           0.74       300\n",
      "   macro avg       0.62      0.64      0.62       300\n",
      "weighted avg       0.78      0.74      0.76       300\n",
      "\n"
     ]
    }
   ],
   "source": [
    "print(\"\\nCLASSIFICATION_REPORT:\\n\", classification_report(y_test, y_pred))"
   ]
  },
  {
   "cell_type": "markdown",
   "metadata": {},
   "source": [
    "### repeat for oversampled model"
   ]
  },
  {
   "cell_type": "code",
   "execution_count": 134,
   "metadata": {},
   "outputs": [
    {
     "data": {
      "text/plain": [
       "{'C': 1.1288378916846884, 'penalty': 'l2', 'random_state': 42}"
      ]
     },
     "execution_count": 134,
     "metadata": {},
     "output_type": "execute_result"
    }
   ],
   "source": [
    "params_smote = {}\n",
    "for k,v in logreg_best_smote.items():\n",
    "    k = k[8:]\n",
    "    params_smote[k] = v\n",
    "params_smote"
   ]
  },
  {
   "cell_type": "code",
   "execution_count": 135,
   "metadata": {},
   "outputs": [],
   "source": [
    "#instantiate regressor with best params\n",
    "params = params_smote\n",
    "clf_logreg_validated = LogisticRegression(C = params['C'], penalty = params['penalty'], random_state = params['random_state'])\n",
    "\n",
    "clf_logreg_validated.fit(X_train_scaled, y_train)\n",
    "y_pred = clf_logreg_validated.predict(X_test_scaled)"
   ]
  },
  {
   "cell_type": "code",
   "execution_count": 136,
   "metadata": {},
   "outputs": [
    {
     "data": {
      "text/plain": [
       "0.8466666666666667"
      ]
     },
     "execution_count": 136,
     "metadata": {},
     "output_type": "execute_result"
    }
   ],
   "source": [
    "accuracy_score(y_test, y_pred)"
   ]
  },
  {
   "cell_type": "code",
   "execution_count": 137,
   "metadata": {
    "scrolled": false
   },
   "outputs": [
    {
     "name": "stdout",
     "output_type": "stream",
     "text": [
      "\n",
      "CLASSIFICATION_REPORT:\n",
      "               precision    recall  f1-score   support\n",
      "\n",
      "           0       0.90      0.92      0.91       244\n",
      "           1       0.60      0.54      0.57        56\n",
      "\n",
      "    accuracy                           0.85       300\n",
      "   macro avg       0.75      0.73      0.74       300\n",
      "weighted avg       0.84      0.85      0.84       300\n",
      "\n"
     ]
    }
   ],
   "source": [
    "print(\"\\nCLASSIFICATION_REPORT:\\n\", classification_report(y_test, y_pred))"
   ]
  },
  {
   "cell_type": "markdown",
   "metadata": {},
   "source": [
    "# draft"
   ]
  },
  {
   "cell_type": "markdown",
   "metadata": {},
   "source": [
    "### temp test with rfc"
   ]
  },
  {
   "cell_type": "code",
   "execution_count": 45,
   "metadata": {},
   "outputs": [
    {
     "data": {
      "text/plain": [
       "{'max_features': None, 'n_estimators': 300, 'random_state': 42}"
      ]
     },
     "execution_count": 45,
     "metadata": {},
     "output_type": "execute_result"
    }
   ],
   "source": [
    "params = {}\n",
    "for k,v in clf_rforest.best_params_.items():\n",
    "    k = k[5:]\n",
    "    params[k] = v\n",
    "params"
   ]
  },
  {
   "cell_type": "code",
   "execution_count": 46,
   "metadata": {},
   "outputs": [],
   "source": [
    "#transform X_train\n",
    "scale = StandardScaler().fit(X_train)\n",
    "X_train_scaled = scale.transform(X_train)\n",
    "\n",
    "#transform X_test\n",
    "scale = StandardScaler().fit(X_test)\n",
    "X_test_scaled = scale.transform(X_test)\n",
    "\n",
    "#instantiate regressor with best params\n",
    "clf_rfc_validated = RandomForestClassifier(max_features = params['max_features'], n_estimators = params['n_estimators'], random_state = params['random_state'])\n",
    "\n",
    "#fit regressor\n",
    "clf_rfc_validated.fit(X_train_scaled, y_train)\n",
    "\n",
    "#do prediction on test set\n",
    "y_pred = clf_rfc_validated.predict(X_test_scaled)"
   ]
  },
  {
   "cell_type": "markdown",
   "metadata": {},
   "source": [
    "### calculate accuracy on test set"
   ]
  },
  {
   "cell_type": "code",
   "execution_count": 47,
   "metadata": {},
   "outputs": [
    {
     "data": {
      "text/plain": [
       "0.8233333333333334"
      ]
     },
     "execution_count": 47,
     "metadata": {},
     "output_type": "execute_result"
    }
   ],
   "source": [
    "accuracy_score(y_test, y_pred)"
   ]
  },
  {
   "cell_type": "markdown",
   "metadata": {},
   "source": [
    "### classification report"
   ]
  },
  {
   "cell_type": "code",
   "execution_count": 48,
   "metadata": {
    "scrolled": true
   },
   "outputs": [
    {
     "name": "stdout",
     "output_type": "stream",
     "text": [
      "\n",
      "CLASSIFICATION_REPORT:\n",
      "               precision    recall  f1-score   support\n",
      "\n",
      "           0       0.85      0.95      0.90       244\n",
      "           1       0.55      0.29      0.38        56\n",
      "\n",
      "    accuracy                           0.82       300\n",
      "   macro avg       0.70      0.62      0.64       300\n",
      "weighted avg       0.80      0.82      0.80       300\n",
      "\n"
     ]
    }
   ],
   "source": [
    "print(\"\\nCLASSIFICATION_REPORT:\\n\", classification_report(y_test, y_pred))"
   ]
  },
  {
   "cell_type": "code",
   "execution_count": null,
   "metadata": {},
   "outputs": [],
   "source": []
  }
 ],
 "metadata": {
  "kernelspec": {
   "display_name": "Python 3",
   "language": "python",
   "name": "python3"
  },
  "language_info": {
   "codemirror_mode": {
    "name": "ipython",
    "version": 3
   },
   "file_extension": ".py",
   "mimetype": "text/x-python",
   "name": "python",
   "nbconvert_exporter": "python",
   "pygments_lexer": "ipython3",
   "version": "3.7.3"
  }
 },
 "nbformat": 4,
 "nbformat_minor": 2
}
