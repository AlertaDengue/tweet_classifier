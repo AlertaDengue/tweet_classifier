{
 "cells": [
  {
   "cell_type": "code",
   "execution_count": 1,
   "metadata": {},
   "outputs": [],
   "source": [
    "import pandas as pd\n",
    "import numpy as np\n",
    "import pickle\n",
    "import math\n",
    "import os\n",
    "import requests\n",
    "#import html\n",
    "import datetime\n",
    "from datetime import timedelta, date\n",
    "#import string\n",
    "#import json\n",
    "import matplotlib.pyplot as plt\n",
    "import seaborn as sns\n",
    "import bokeh\n",
    "\n",
    "import warnings\n",
    "warnings.filterwarnings('ignore')\n",
    "%matplotlib inline"
   ]
  },
  {
   "cell_type": "code",
   "execution_count": 2,
   "metadata": {},
   "outputs": [],
   "source": [
    "main_inputs = '../../inputs/'\n",
    "inputs = '../inputs/'\n",
    "outputs = '../outputs/'"
   ]
  },
  {
   "cell_type": "markdown",
   "metadata": {},
   "source": [
    "### get pickle"
   ]
  },
  {
   "cell_type": "code",
   "execution_count": null,
   "metadata": {},
   "outputs": [],
   "source": [
    "resultado = main_inputs+'resultado_2016-.pkl'"
   ]
  },
  {
   "cell_type": "code",
   "execution_count": null,
   "metadata": {},
   "outputs": [],
   "source": [
    "data = pickle.load(open(resultado, 'rb'))"
   ]
  },
  {
   "cell_type": "code",
   "execution_count": 7,
   "metadata": {},
   "outputs": [
    {
     "data": {
      "text/html": [
       "<div>\n",
       "<style scoped>\n",
       "    .dataframe tbody tr th:only-of-type {\n",
       "        vertical-align: middle;\n",
       "    }\n",
       "\n",
       "    .dataframe tbody tr th {\n",
       "        vertical-align: top;\n",
       "    }\n",
       "\n",
       "    .dataframe thead th {\n",
       "        text-align: right;\n",
       "    }\n",
       "</style>\n",
       "<table border=\"1\" class=\"dataframe\">\n",
       "  <thead>\n",
       "    <tr style=\"text-align: right;\">\n",
       "      <th></th>\n",
       "      <th>date</th>\n",
       "      <th>user</th>\n",
       "      <th>message</th>\n",
       "      <th>0</th>\n",
       "      <th>1</th>\n",
       "      <th>2</th>\n",
       "      <th>3</th>\n",
       "      <th>4</th>\n",
       "      <th>class</th>\n",
       "      <th>location</th>\n",
       "    </tr>\n",
       "  </thead>\n",
       "  <tbody>\n",
       "    <tr>\n",
       "      <th>3851129</th>\n",
       "      <td>2016-01-01 00:00:32</td>\n",
       "      <td>portaljovempan</td>\n",
       "      <td>Projeto Alerta contra a Dengue: é melhor preve...</td>\n",
       "      <td>0.118370</td>\n",
       "      <td>0.115357</td>\n",
       "      <td>0.107965</td>\n",
       "      <td>0.121839</td>\n",
       "      <td>0.536469</td>\n",
       "      <td>3</td>\n",
       "      <td>{u'city': u'Sao Paulo', u'country': u'Brasil',...</td>\n",
       "    </tr>\n",
       "    <tr>\n",
       "      <th>3851130</th>\n",
       "      <td>2016-01-01 00:00:45</td>\n",
       "      <td>ElGuardianDig</td>\n",
       "      <td>#Panama cierra #2015 con un 50% menos de casos...</td>\n",
       "      <td>0.092447</td>\n",
       "      <td>0.058695</td>\n",
       "      <td>0.036746</td>\n",
       "      <td>0.104694</td>\n",
       "      <td>0.707418</td>\n",
       "      <td>3</td>\n",
       "      <td>{u'country': u'Panama', u'type': u'Country', u...</td>\n",
       "    </tr>\n",
       "    <tr>\n",
       "      <th>3851131</th>\n",
       "      <td>2016-01-01 00:01:23</td>\n",
       "      <td>adeleporto</td>\n",
       "      <td>a zika me deixou vermelha dos pés à cabeça!</td>\n",
       "      <td>0.277073</td>\n",
       "      <td>0.093878</td>\n",
       "      <td>0.000000</td>\n",
       "      <td>0.523196</td>\n",
       "      <td>0.105854</td>\n",
       "      <td>0</td>\n",
       "      <td>{u'city': u'Rio de Janeiro', u'country': u'Bra...</td>\n",
       "    </tr>\n",
       "    <tr>\n",
       "      <th>3851132</th>\n",
       "      <td>2016-01-01 00:02:00</td>\n",
       "      <td>K_Ralha_</td>\n",
       "      <td>Esse ano eu peguei geral:\\n-Gripe\\n-Dengue \\nE...</td>\n",
       "      <td>0.115549</td>\n",
       "      <td>0.220487</td>\n",
       "      <td>0.066304</td>\n",
       "      <td>0.501180</td>\n",
       "      <td>0.096480</td>\n",
       "      <td>0</td>\n",
       "      <td>{u'type': u'State', u'location': u'Terra, Dugw...</td>\n",
       "    </tr>\n",
       "    <tr>\n",
       "      <th>3851133</th>\n",
       "      <td>2016-01-01 00:02:10</td>\n",
       "      <td>pg_pimentel06</td>\n",
       "      <td>RT @portaljovempan: Projeto Alerta contra a De...</td>\n",
       "      <td>0.124577</td>\n",
       "      <td>0.121406</td>\n",
       "      <td>0.113626</td>\n",
       "      <td>0.128228</td>\n",
       "      <td>0.512163</td>\n",
       "      <td>3</td>\n",
       "      <td>{u'city': u'Sao Paulo', u'country': u'Brasil',...</td>\n",
       "    </tr>\n",
       "  </tbody>\n",
       "</table>\n",
       "</div>"
      ],
      "text/plain": [
       "                       date            user  \\\n",
       "3851129 2016-01-01 00:00:32  portaljovempan   \n",
       "3851130 2016-01-01 00:00:45   ElGuardianDig   \n",
       "3851131 2016-01-01 00:01:23      adeleporto   \n",
       "3851132 2016-01-01 00:02:00        K_Ralha_   \n",
       "3851133 2016-01-01 00:02:10   pg_pimentel06   \n",
       "\n",
       "                                                   message         0  \\\n",
       "3851129  Projeto Alerta contra a Dengue: é melhor preve...  0.118370   \n",
       "3851130  #Panama cierra #2015 con un 50% menos de casos...  0.092447   \n",
       "3851131        a zika me deixou vermelha dos pés à cabeça!  0.277073   \n",
       "3851132  Esse ano eu peguei geral:\\n-Gripe\\n-Dengue \\nE...  0.115549   \n",
       "3851133  RT @portaljovempan: Projeto Alerta contra a De...  0.124577   \n",
       "\n",
       "                1         2         3         4  class  \\\n",
       "3851129  0.115357  0.107965  0.121839  0.536469      3   \n",
       "3851130  0.058695  0.036746  0.104694  0.707418      3   \n",
       "3851131  0.093878  0.000000  0.523196  0.105854      0   \n",
       "3851132  0.220487  0.066304  0.501180  0.096480      0   \n",
       "3851133  0.121406  0.113626  0.128228  0.512163      3   \n",
       "\n",
       "                                                  location  \n",
       "3851129  {u'city': u'Sao Paulo', u'country': u'Brasil',...  \n",
       "3851130  {u'country': u'Panama', u'type': u'Country', u...  \n",
       "3851131  {u'city': u'Rio de Janeiro', u'country': u'Bra...  \n",
       "3851132  {u'type': u'State', u'location': u'Terra, Dugw...  \n",
       "3851133  {u'city': u'Sao Paulo', u'country': u'Brasil',...  "
      ]
     },
     "execution_count": 7,
     "metadata": {},
     "output_type": "execute_result"
    }
   ],
   "source": [
    "data.head()"
   ]
  },
  {
   "cell_type": "code",
   "execution_count": 8,
   "metadata": {},
   "outputs": [
    {
     "data": {
      "text/html": [
       "<div>\n",
       "<style scoped>\n",
       "    .dataframe tbody tr th:only-of-type {\n",
       "        vertical-align: middle;\n",
       "    }\n",
       "\n",
       "    .dataframe tbody tr th {\n",
       "        vertical-align: top;\n",
       "    }\n",
       "\n",
       "    .dataframe thead th {\n",
       "        text-align: right;\n",
       "    }\n",
       "</style>\n",
       "<table border=\"1\" class=\"dataframe\">\n",
       "  <thead>\n",
       "    <tr style=\"text-align: right;\">\n",
       "      <th></th>\n",
       "      <th>date</th>\n",
       "      <th>user</th>\n",
       "      <th>message</th>\n",
       "      <th>0</th>\n",
       "      <th>1</th>\n",
       "      <th>2</th>\n",
       "      <th>3</th>\n",
       "      <th>4</th>\n",
       "      <th>class</th>\n",
       "      <th>location</th>\n",
       "    </tr>\n",
       "  </thead>\n",
       "  <tbody>\n",
       "    <tr>\n",
       "      <th>7503160</th>\n",
       "      <td>2019-03-19 05:34:30</td>\n",
       "      <td>bruninhooo22</td>\n",
       "      <td>Olha o mosquito</td>\n",
       "      <td>0.364196</td>\n",
       "      <td>0.219732</td>\n",
       "      <td>0.104918</td>\n",
       "      <td>0.203330</td>\n",
       "      <td>0.107824</td>\n",
       "      <td>1</td>\n",
       "      <td>{u'city': u'Nova Iguacu', u'country': u'Brasil...</td>\n",
       "    </tr>\n",
       "    <tr>\n",
       "      <th>7503161</th>\n",
       "      <td>2019-03-19 05:34:36</td>\n",
       "      <td>celiacristtina</td>\n",
       "      <td>RT @minsaude: O mosquito Aedes aegypti é respo...</td>\n",
       "      <td>0.207186</td>\n",
       "      <td>0.089312</td>\n",
       "      <td>0.221760</td>\n",
       "      <td>0.172148</td>\n",
       "      <td>0.309594</td>\n",
       "      <td>3</td>\n",
       "      <td>{u'type': u'Town', u'location': u'Brasil', u'c...</td>\n",
       "    </tr>\n",
       "    <tr>\n",
       "      <th>7503162</th>\n",
       "      <td>2019-03-19 05:35:25</td>\n",
       "      <td>Kako_Wl</td>\n",
       "      <td>RT @crf_avelino: o tapa que o Abel tem q tomar...</td>\n",
       "      <td>0.402596</td>\n",
       "      <td>0.379243</td>\n",
       "      <td>0.014877</td>\n",
       "      <td>0.198323</td>\n",
       "      <td>0.004962</td>\n",
       "      <td>1</td>\n",
       "      <td>{u'd': 1552973730535, u'v': 1}</td>\n",
       "    </tr>\n",
       "    <tr>\n",
       "      <th>7503163</th>\n",
       "      <td>2019-03-19 05:36:47</td>\n",
       "      <td>rafinha_amado</td>\n",
       "      <td>RT @minsaude: Os sintomas da zika podem ser co...</td>\n",
       "      <td>0.115458</td>\n",
       "      <td>0.115762</td>\n",
       "      <td>0.090594</td>\n",
       "      <td>0.397036</td>\n",
       "      <td>0.281150</td>\n",
       "      <td>0</td>\n",
       "      <td>{u'country': u'Brasil', u'state': u'SE', u'typ...</td>\n",
       "    </tr>\n",
       "    <tr>\n",
       "      <th>7503164</th>\n",
       "      <td>2019-03-19 05:36:56</td>\n",
       "      <td>isaiaspereirass</td>\n",
       "      <td>RT @minsaude: Os sintomas da zika podem ser co...</td>\n",
       "      <td>0.115458</td>\n",
       "      <td>0.115762</td>\n",
       "      <td>0.090594</td>\n",
       "      <td>0.397036</td>\n",
       "      <td>0.281150</td>\n",
       "      <td>0</td>\n",
       "      <td>{u'country': u'Brasil', u'state': u'SP', u'typ...</td>\n",
       "    </tr>\n",
       "  </tbody>\n",
       "</table>\n",
       "</div>"
      ],
      "text/plain": [
       "                       date             user  \\\n",
       "7503160 2019-03-19 05:34:30     bruninhooo22   \n",
       "7503161 2019-03-19 05:34:36   celiacristtina   \n",
       "7503162 2019-03-19 05:35:25          Kako_Wl   \n",
       "7503163 2019-03-19 05:36:47    rafinha_amado   \n",
       "7503164 2019-03-19 05:36:56  isaiaspereirass   \n",
       "\n",
       "                                                   message         0  \\\n",
       "7503160                                    Olha o mosquito  0.364196   \n",
       "7503161  RT @minsaude: O mosquito Aedes aegypti é respo...  0.207186   \n",
       "7503162  RT @crf_avelino: o tapa que o Abel tem q tomar...  0.402596   \n",
       "7503163  RT @minsaude: Os sintomas da zika podem ser co...  0.115458   \n",
       "7503164  RT @minsaude: Os sintomas da zika podem ser co...  0.115458   \n",
       "\n",
       "                1         2         3         4  class  \\\n",
       "7503160  0.219732  0.104918  0.203330  0.107824      1   \n",
       "7503161  0.089312  0.221760  0.172148  0.309594      3   \n",
       "7503162  0.379243  0.014877  0.198323  0.004962      1   \n",
       "7503163  0.115762  0.090594  0.397036  0.281150      0   \n",
       "7503164  0.115762  0.090594  0.397036  0.281150      0   \n",
       "\n",
       "                                                  location  \n",
       "7503160  {u'city': u'Nova Iguacu', u'country': u'Brasil...  \n",
       "7503161  {u'type': u'Town', u'location': u'Brasil', u'c...  \n",
       "7503162                     {u'd': 1552973730535, u'v': 1}  \n",
       "7503163  {u'country': u'Brasil', u'state': u'SE', u'typ...  \n",
       "7503164  {u'country': u'Brasil', u'state': u'SP', u'typ...  "
      ]
     },
     "execution_count": 8,
     "metadata": {},
     "output_type": "execute_result"
    }
   ],
   "source": [
    "data.tail()"
   ]
  },
  {
   "cell_type": "code",
   "execution_count": 9,
   "metadata": {},
   "outputs": [],
   "source": [
    "def get_city(loc):\n",
    "    loc = eval(str(loc))\n",
    "    if 'city' in loc: city = loc['city']\n",
    "    else: city = \"\"\n",
    "    return city"
   ]
  },
  {
   "cell_type": "code",
   "execution_count": 10,
   "metadata": {},
   "outputs": [],
   "source": [
    "data['city'] = data['location'].apply(lambda x: get_city(x))\n"
   ]
  },
  {
   "cell_type": "code",
   "execution_count": 16,
   "metadata": {},
   "outputs": [
    {
     "data": {
      "text/html": [
       "<div>\n",
       "<style scoped>\n",
       "    .dataframe tbody tr th:only-of-type {\n",
       "        vertical-align: middle;\n",
       "    }\n",
       "\n",
       "    .dataframe tbody tr th {\n",
       "        vertical-align: top;\n",
       "    }\n",
       "\n",
       "    .dataframe thead th {\n",
       "        text-align: right;\n",
       "    }\n",
       "</style>\n",
       "<table border=\"1\" class=\"dataframe\">\n",
       "  <thead>\n",
       "    <tr style=\"text-align: right;\">\n",
       "      <th></th>\n",
       "      <th>date</th>\n",
       "      <th>user</th>\n",
       "      <th>message</th>\n",
       "      <th>0</th>\n",
       "      <th>1</th>\n",
       "      <th>2</th>\n",
       "      <th>3</th>\n",
       "      <th>4</th>\n",
       "      <th>class</th>\n",
       "      <th>location</th>\n",
       "      <th>city</th>\n",
       "    </tr>\n",
       "  </thead>\n",
       "  <tbody>\n",
       "    <tr>\n",
       "      <th>3851129</th>\n",
       "      <td>2016-01-01 00:00:32</td>\n",
       "      <td>portaljovempan</td>\n",
       "      <td>Projeto Alerta contra a Dengue: é melhor preve...</td>\n",
       "      <td>0.118370</td>\n",
       "      <td>0.115357</td>\n",
       "      <td>0.107965</td>\n",
       "      <td>0.121839</td>\n",
       "      <td>0.536469</td>\n",
       "      <td>3</td>\n",
       "      <td>{u'city': u'Sao Paulo', u'country': u'Brasil',...</td>\n",
       "      <td>Sao Paulo</td>\n",
       "    </tr>\n",
       "    <tr>\n",
       "      <th>3851130</th>\n",
       "      <td>2016-01-01 00:00:45</td>\n",
       "      <td>ElGuardianDig</td>\n",
       "      <td>#Panama cierra #2015 con un 50% menos de casos...</td>\n",
       "      <td>0.092447</td>\n",
       "      <td>0.058695</td>\n",
       "      <td>0.036746</td>\n",
       "      <td>0.104694</td>\n",
       "      <td>0.707418</td>\n",
       "      <td>3</td>\n",
       "      <td>{u'country': u'Panama', u'type': u'Country', u...</td>\n",
       "      <td></td>\n",
       "    </tr>\n",
       "    <tr>\n",
       "      <th>3851131</th>\n",
       "      <td>2016-01-01 00:01:23</td>\n",
       "      <td>adeleporto</td>\n",
       "      <td>a zika me deixou vermelha dos pés à cabeça!</td>\n",
       "      <td>0.277073</td>\n",
       "      <td>0.093878</td>\n",
       "      <td>0.000000</td>\n",
       "      <td>0.523196</td>\n",
       "      <td>0.105854</td>\n",
       "      <td>0</td>\n",
       "      <td>{u'city': u'Rio de Janeiro', u'country': u'Bra...</td>\n",
       "      <td>Rio de Janeiro</td>\n",
       "    </tr>\n",
       "    <tr>\n",
       "      <th>3851132</th>\n",
       "      <td>2016-01-01 00:02:00</td>\n",
       "      <td>K_Ralha_</td>\n",
       "      <td>Esse ano eu peguei geral:\\n-Gripe\\n-Dengue \\nE...</td>\n",
       "      <td>0.115549</td>\n",
       "      <td>0.220487</td>\n",
       "      <td>0.066304</td>\n",
       "      <td>0.501180</td>\n",
       "      <td>0.096480</td>\n",
       "      <td>0</td>\n",
       "      <td>{u'type': u'State', u'location': u'Terra, Dugw...</td>\n",
       "      <td></td>\n",
       "    </tr>\n",
       "    <tr>\n",
       "      <th>3851133</th>\n",
       "      <td>2016-01-01 00:02:10</td>\n",
       "      <td>pg_pimentel06</td>\n",
       "      <td>RT @portaljovempan: Projeto Alerta contra a De...</td>\n",
       "      <td>0.124577</td>\n",
       "      <td>0.121406</td>\n",
       "      <td>0.113626</td>\n",
       "      <td>0.128228</td>\n",
       "      <td>0.512163</td>\n",
       "      <td>3</td>\n",
       "      <td>{u'city': u'Sao Paulo', u'country': u'Brasil',...</td>\n",
       "      <td>Sao Paulo</td>\n",
       "    </tr>\n",
       "  </tbody>\n",
       "</table>\n",
       "</div>"
      ],
      "text/plain": [
       "                       date            user  \\\n",
       "3851129 2016-01-01 00:00:32  portaljovempan   \n",
       "3851130 2016-01-01 00:00:45   ElGuardianDig   \n",
       "3851131 2016-01-01 00:01:23      adeleporto   \n",
       "3851132 2016-01-01 00:02:00        K_Ralha_   \n",
       "3851133 2016-01-01 00:02:10   pg_pimentel06   \n",
       "\n",
       "                                                   message         0  \\\n",
       "3851129  Projeto Alerta contra a Dengue: é melhor preve...  0.118370   \n",
       "3851130  #Panama cierra #2015 con un 50% menos de casos...  0.092447   \n",
       "3851131        a zika me deixou vermelha dos pés à cabeça!  0.277073   \n",
       "3851132  Esse ano eu peguei geral:\\n-Gripe\\n-Dengue \\nE...  0.115549   \n",
       "3851133  RT @portaljovempan: Projeto Alerta contra a De...  0.124577   \n",
       "\n",
       "                1         2         3         4  class  \\\n",
       "3851129  0.115357  0.107965  0.121839  0.536469      3   \n",
       "3851130  0.058695  0.036746  0.104694  0.707418      3   \n",
       "3851131  0.093878  0.000000  0.523196  0.105854      0   \n",
       "3851132  0.220487  0.066304  0.501180  0.096480      0   \n",
       "3851133  0.121406  0.113626  0.128228  0.512163      3   \n",
       "\n",
       "                                                  location            city  \n",
       "3851129  {u'city': u'Sao Paulo', u'country': u'Brasil',...       Sao Paulo  \n",
       "3851130  {u'country': u'Panama', u'type': u'Country', u...                  \n",
       "3851131  {u'city': u'Rio de Janeiro', u'country': u'Bra...  Rio de Janeiro  \n",
       "3851132  {u'type': u'State', u'location': u'Terra, Dugw...                  \n",
       "3851133  {u'city': u'Sao Paulo', u'country': u'Brasil',...       Sao Paulo  "
      ]
     },
     "execution_count": 16,
     "metadata": {},
     "output_type": "execute_result"
    }
   ],
   "source": [
    "data.head()"
   ]
  },
  {
   "cell_type": "raw",
   "metadata": {},
   "source": [
    "pickle.dump(data_2016, open('temp_2016.pkl', 'wb'))"
   ]
  },
  {
   "cell_type": "markdown",
   "metadata": {},
   "source": [
    "# pickle of data from 2016-2018, with cities"
   ]
  },
  {
   "cell_type": "code",
   "execution_count": 5,
   "metadata": {},
   "outputs": [],
   "source": [
    "data = pickle.load(open('temp_2016.pkl', 'rb'))"
   ]
  },
  {
   "cell_type": "markdown",
   "metadata": {},
   "source": [
    "# get cities with most occurrences"
   ]
  },
  {
   "cell_type": "code",
   "execution_count": 137,
   "metadata": {},
   "outputs": [],
   "source": [
    "data_aggr = data.groupby(by=\"city\").count().sort_values(by='location', ascending=False)"
   ]
  },
  {
   "cell_type": "code",
   "execution_count": 138,
   "metadata": {},
   "outputs": [
    {
     "data": {
      "text/html": [
       "<div>\n",
       "<style scoped>\n",
       "    .dataframe tbody tr th:only-of-type {\n",
       "        vertical-align: middle;\n",
       "    }\n",
       "\n",
       "    .dataframe tbody tr th {\n",
       "        vertical-align: top;\n",
       "    }\n",
       "\n",
       "    .dataframe thead th {\n",
       "        text-align: right;\n",
       "    }\n",
       "</style>\n",
       "<table border=\"1\" class=\"dataframe\">\n",
       "  <thead>\n",
       "    <tr style=\"text-align: right;\">\n",
       "      <th></th>\n",
       "      <th>date</th>\n",
       "      <th>user</th>\n",
       "      <th>message</th>\n",
       "      <th>0</th>\n",
       "      <th>1</th>\n",
       "      <th>2</th>\n",
       "      <th>3</th>\n",
       "      <th>4</th>\n",
       "      <th>class</th>\n",
       "      <th>location</th>\n",
       "    </tr>\n",
       "    <tr>\n",
       "      <th>city</th>\n",
       "      <th></th>\n",
       "      <th></th>\n",
       "      <th></th>\n",
       "      <th></th>\n",
       "      <th></th>\n",
       "      <th></th>\n",
       "      <th></th>\n",
       "      <th></th>\n",
       "      <th></th>\n",
       "      <th></th>\n",
       "    </tr>\n",
       "  </thead>\n",
       "  <tbody>\n",
       "    <tr>\n",
       "      <td></td>\n",
       "      <td>2107166</td>\n",
       "      <td>2107165</td>\n",
       "      <td>2107166</td>\n",
       "      <td>2107166</td>\n",
       "      <td>2107166</td>\n",
       "      <td>2107166</td>\n",
       "      <td>2107166</td>\n",
       "      <td>2107166</td>\n",
       "      <td>2107166</td>\n",
       "      <td>2107166</td>\n",
       "    </tr>\n",
       "    <tr>\n",
       "      <td>Sete Lagoas</td>\n",
       "      <td>184532</td>\n",
       "      <td>184532</td>\n",
       "      <td>184532</td>\n",
       "      <td>184532</td>\n",
       "      <td>184532</td>\n",
       "      <td>184532</td>\n",
       "      <td>184532</td>\n",
       "      <td>184532</td>\n",
       "      <td>184532</td>\n",
       "      <td>184532</td>\n",
       "    </tr>\n",
       "    <tr>\n",
       "      <td>Sao Paulo</td>\n",
       "      <td>116411</td>\n",
       "      <td>116411</td>\n",
       "      <td>116411</td>\n",
       "      <td>116411</td>\n",
       "      <td>116411</td>\n",
       "      <td>116411</td>\n",
       "      <td>116411</td>\n",
       "      <td>116411</td>\n",
       "      <td>116411</td>\n",
       "      <td>116411</td>\n",
       "    </tr>\n",
       "    <tr>\n",
       "      <td>Rio de Janeiro</td>\n",
       "      <td>102923</td>\n",
       "      <td>102923</td>\n",
       "      <td>102923</td>\n",
       "      <td>102923</td>\n",
       "      <td>102923</td>\n",
       "      <td>102923</td>\n",
       "      <td>102923</td>\n",
       "      <td>102923</td>\n",
       "      <td>102923</td>\n",
       "      <td>102923</td>\n",
       "    </tr>\n",
       "    <tr>\n",
       "      <td>Belo Horizonte</td>\n",
       "      <td>47114</td>\n",
       "      <td>47114</td>\n",
       "      <td>47114</td>\n",
       "      <td>47114</td>\n",
       "      <td>47114</td>\n",
       "      <td>47114</td>\n",
       "      <td>47114</td>\n",
       "      <td>47114</td>\n",
       "      <td>47114</td>\n",
       "      <td>47114</td>\n",
       "    </tr>\n",
       "    <tr>\n",
       "      <td>Brasilia</td>\n",
       "      <td>42124</td>\n",
       "      <td>42124</td>\n",
       "      <td>42124</td>\n",
       "      <td>42124</td>\n",
       "      <td>42124</td>\n",
       "      <td>42124</td>\n",
       "      <td>42124</td>\n",
       "      <td>42124</td>\n",
       "      <td>42124</td>\n",
       "      <td>42124</td>\n",
       "    </tr>\n",
       "    <tr>\n",
       "      <td>BH</td>\n",
       "      <td>34959</td>\n",
       "      <td>34959</td>\n",
       "      <td>34959</td>\n",
       "      <td>34959</td>\n",
       "      <td>34959</td>\n",
       "      <td>34959</td>\n",
       "      <td>34959</td>\n",
       "      <td>34959</td>\n",
       "      <td>34959</td>\n",
       "      <td>34959</td>\n",
       "    </tr>\n",
       "    <tr>\n",
       "      <td>Curitiba</td>\n",
       "      <td>29983</td>\n",
       "      <td>29983</td>\n",
       "      <td>29983</td>\n",
       "      <td>29983</td>\n",
       "      <td>29983</td>\n",
       "      <td>29983</td>\n",
       "      <td>29983</td>\n",
       "      <td>29983</td>\n",
       "      <td>29983</td>\n",
       "      <td>29983</td>\n",
       "    </tr>\n",
       "    <tr>\n",
       "      <td>Recife</td>\n",
       "      <td>26671</td>\n",
       "      <td>26671</td>\n",
       "      <td>26671</td>\n",
       "      <td>26671</td>\n",
       "      <td>26671</td>\n",
       "      <td>26671</td>\n",
       "      <td>26671</td>\n",
       "      <td>26671</td>\n",
       "      <td>26671</td>\n",
       "      <td>26671</td>\n",
       "    </tr>\n",
       "    <tr>\n",
       "      <td>Porto Alegre</td>\n",
       "      <td>26536</td>\n",
       "      <td>26536</td>\n",
       "      <td>26536</td>\n",
       "      <td>26536</td>\n",
       "      <td>26536</td>\n",
       "      <td>26536</td>\n",
       "      <td>26536</td>\n",
       "      <td>26536</td>\n",
       "      <td>26536</td>\n",
       "      <td>26536</td>\n",
       "    </tr>\n",
       "  </tbody>\n",
       "</table>\n",
       "</div>"
      ],
      "text/plain": [
       "                   date     user  message        0        1        2        3  \\\n",
       "city                                                                            \n",
       "                2107166  2107165  2107166  2107166  2107166  2107166  2107166   \n",
       "Sete Lagoas      184532   184532   184532   184532   184532   184532   184532   \n",
       "Sao Paulo        116411   116411   116411   116411   116411   116411   116411   \n",
       "Rio de Janeiro   102923   102923   102923   102923   102923   102923   102923   \n",
       "Belo Horizonte    47114    47114    47114    47114    47114    47114    47114   \n",
       "Brasilia          42124    42124    42124    42124    42124    42124    42124   \n",
       "BH                34959    34959    34959    34959    34959    34959    34959   \n",
       "Curitiba          29983    29983    29983    29983    29983    29983    29983   \n",
       "Recife            26671    26671    26671    26671    26671    26671    26671   \n",
       "Porto Alegre      26536    26536    26536    26536    26536    26536    26536   \n",
       "\n",
       "                      4    class  location  \n",
       "city                                        \n",
       "                2107166  2107166   2107166  \n",
       "Sete Lagoas      184532   184532    184532  \n",
       "Sao Paulo        116411   116411    116411  \n",
       "Rio de Janeiro   102923   102923    102923  \n",
       "Belo Horizonte    47114    47114     47114  \n",
       "Brasilia          42124    42124     42124  \n",
       "BH                34959    34959     34959  \n",
       "Curitiba          29983    29983     29983  \n",
       "Recife            26671    26671     26671  \n",
       "Porto Alegre      26536    26536     26536  "
      ]
     },
     "execution_count": 138,
     "metadata": {},
     "output_type": "execute_result"
    }
   ],
   "source": [
    "data_aggr.head(10)"
   ]
  },
  {
   "cell_type": "markdown",
   "metadata": {},
   "source": [
    "# build epidemiologic weeks\n",
    "* Week one of every year is the first week with 4 days or more."
   ]
  },
  {
   "cell_type": "markdown",
   "metadata": {},
   "source": [
    "### get day which initializes first ep week (for each year)"
   ]
  },
  {
   "cell_type": "code",
   "execution_count": 12,
   "metadata": {},
   "outputs": [
    {
     "name": "stdout",
     "output_type": "stream",
     "text": [
      "{2016: 3, 2017: 1, 2018: 1, 2019: 1}\n"
     ]
    }
   ],
   "source": [
    "start_days_dict = {}\n",
    "for year in [2016, 2017, 2018, 2019]:\n",
    "    weekday = datetime.datetime(year,1,1).weekday() #monday=0, sunday=6\n",
    "    if weekday == 6 or weekday <=2: start_day = 1\n",
    "    else: start_day = 7 - weekday\n",
    "    start_days_dict[year] = start_day\n",
    "print(start_days_dict)"
   ]
  },
  {
   "cell_type": "markdown",
   "metadata": {},
   "source": [
    "### get_week function"
   ]
  },
  {
   "cell_type": "code",
   "execution_count": 9,
   "metadata": {},
   "outputs": [],
   "source": [
    "def get_week(date):\n",
    "    year = int(str(date)[:4])\n",
    "    start_dt = datetime.datetime(year, 1, start_days_dict[year])\n",
    "    week = int((date.timestamp() - start_dt.timestamp())/60/60/24/7)\n",
    "    return week"
   ]
  },
  {
   "cell_type": "markdown",
   "metadata": {},
   "source": [
    "# get week and year for selected cities\n",
    "cities = ['Sao Paulo','Rio de Janeiro','Belo Horizonte','Brasilia','Curitiba','Recife']"
   ]
  },
  {
   "cell_type": "code",
   "execution_count": 13,
   "metadata": {},
   "outputs": [],
   "source": [
    "data['ep_week'] = data['date'].apply(lambda x: get_week(x))\n",
    "data['year'] = data['date'].apply(lambda x: int(str(x)[:4]))"
   ]
  },
  {
   "cell_type": "markdown",
   "metadata": {},
   "source": [
    "# discriminate texts by content \n",
    "* which virus is it talking about\n",
    "* for chikungunya I pick edit distance of at least 87%"
   ]
  },
  {
   "cell_type": "code",
   "execution_count": 14,
   "metadata": {},
   "outputs": [],
   "source": [
    "def get_virus_content(text, word):\n",
    "    text = text.lower()\n",
    "    if word == 'zika': tokens = ['zika', 'zica']\n",
    "    if word == 'dengue': tokens = ['dengue']\n",
    "    if word == 'chikungunya': tokens = ['chikungunya','chickungunya','chinkungunya','chikungunyua','chikungunhya',\n",
    "                                        'chikunguniya','chikunguya','chikunguny','chikununya','chikugunya','chikungnya',\n",
    "                                        'chikungunyada','chicungunya','chikungunha','chikungunia','chikongunya','chikunguyna',\n",
    "                                        'chikugungya','chinkugunya','chinungunya','chigungunya','chikingunya','chikengunya',\n",
    "                                        'chinkunguya','chilungunya','chikungua','chikungya','chikungun','chickungunha',\n",
    "                                        'chickungunia','chikanguniya','chinkungunha','chikunguinha','chikinguniya',\n",
    "                                        'chincungunya','chinkongunya','chikungoonya']\n",
    "    if any(x in text for x in tokens): return 1\n",
    "    else: return 0"
   ]
  },
  {
   "cell_type": "code",
   "execution_count": null,
   "metadata": {},
   "outputs": [],
   "source": [
    "text1 = \"tenho zika\"\n",
    "text2 = \"tenho dengue\"\n",
    "text3 = \"tenho chikungunya\""
   ]
  },
  {
   "cell_type": "code",
   "execution_count": 15,
   "metadata": {},
   "outputs": [
    {
     "data": {
      "text/plain": [
       "1"
      ]
     },
     "execution_count": 15,
     "metadata": {},
     "output_type": "execute_result"
    }
   ],
   "source": [
    "get_virus_content(text3, 'chikungunya')"
   ]
  },
  {
   "cell_type": "code",
   "execution_count": 15,
   "metadata": {},
   "outputs": [],
   "source": [
    "data['has_dengue'] = data['message'].apply(lambda x: get_virus_content(x, 'dengue'))\n",
    "data['has_zika'] = data['message'].apply(lambda x: get_virus_content(x, 'zika'))\n",
    "data['has_chikungunya'] = data['message'].apply(lambda x: get_virus_content(x, 'chikungunya'))"
   ]
  },
  {
   "cell_type": "code",
   "execution_count": null,
   "metadata": {},
   "outputs": [],
   "source": [
    "data.head(2)"
   ]
  },
  {
   "cell_type": "markdown",
   "metadata": {},
   "source": [
    "# build first aggregated data"
   ]
  },
  {
   "cell_type": "code",
   "execution_count": 7,
   "metadata": {},
   "outputs": [],
   "source": [
    "cities = ['Sao Paulo','Rio de Janeiro','Belo Horizonte','Brasilia','Curitiba','Recife']"
   ]
  },
  {
   "cell_type": "code",
   "execution_count": 145,
   "metadata": {},
   "outputs": [],
   "source": [
    "data_aggr = data.copy()"
   ]
  },
  {
   "cell_type": "code",
   "execution_count": 146,
   "metadata": {},
   "outputs": [],
   "source": [
    "data_aggr = data_aggr.groupby(by=[\"ep_week\", \"year\", \"city\"]).count()\n",
    "data_aggr.reset_index(inplace=True)\n",
    "data_aggr = data_aggr[['ep_week', 'year', 'city', 'message']]\n",
    "data_aggr.rename(columns = {'message': 'count'}, inplace=True)"
   ]
  },
  {
   "cell_type": "code",
   "execution_count": 147,
   "metadata": {},
   "outputs": [
    {
     "data": {
      "text/plain": [
       "dict_keys(['Sao Paulo', 'Rio de Janeiro', 'Belo Horizonte', 'Brasilia', 'Curitiba', 'Recife'])"
      ]
     },
     "execution_count": 147,
     "metadata": {},
     "output_type": "execute_result"
    }
   ],
   "source": [
    "geolocs_dict = {}\n",
    "for city in cities:\n",
    "    geolocs_dict[city] = data_aggr[data_aggr['city'] == city]\n",
    "geolocs_dict.keys()"
   ]
  },
  {
   "cell_type": "code",
   "execution_count": 148,
   "metadata": {},
   "outputs": [
    {
     "data": {
      "text/html": [
       "<div>\n",
       "<style scoped>\n",
       "    .dataframe tbody tr th:only-of-type {\n",
       "        vertical-align: middle;\n",
       "    }\n",
       "\n",
       "    .dataframe tbody tr th {\n",
       "        vertical-align: top;\n",
       "    }\n",
       "\n",
       "    .dataframe thead th {\n",
       "        text-align: right;\n",
       "    }\n",
       "</style>\n",
       "<table border=\"1\" class=\"dataframe\">\n",
       "  <thead>\n",
       "    <tr style=\"text-align: right;\">\n",
       "      <th></th>\n",
       "      <th>ep_week</th>\n",
       "      <th>year</th>\n",
       "      <th>city</th>\n",
       "      <th>count</th>\n",
       "    </tr>\n",
       "  </thead>\n",
       "  <tbody>\n",
       "    <tr>\n",
       "      <td>2294</td>\n",
       "      <td>0</td>\n",
       "      <td>2016</td>\n",
       "      <td>Rio de Janeiro</td>\n",
       "      <td>2678</td>\n",
       "    </tr>\n",
       "    <tr>\n",
       "      <td>3464</td>\n",
       "      <td>0</td>\n",
       "      <td>2017</td>\n",
       "      <td>Rio de Janeiro</td>\n",
       "      <td>91</td>\n",
       "    </tr>\n",
       "    <tr>\n",
       "      <td>3982</td>\n",
       "      <td>0</td>\n",
       "      <td>2018</td>\n",
       "      <td>Rio de Janeiro</td>\n",
       "      <td>93</td>\n",
       "    </tr>\n",
       "    <tr>\n",
       "      <td>4471</td>\n",
       "      <td>0</td>\n",
       "      <td>2019</td>\n",
       "      <td>Rio de Janeiro</td>\n",
       "      <td>47</td>\n",
       "    </tr>\n",
       "    <tr>\n",
       "      <td>6180</td>\n",
       "      <td>1</td>\n",
       "      <td>2016</td>\n",
       "      <td>Rio de Janeiro</td>\n",
       "      <td>1856</td>\n",
       "    </tr>\n",
       "  </tbody>\n",
       "</table>\n",
       "</div>"
      ],
      "text/plain": [
       "      ep_week  year            city  count\n",
       "2294        0  2016  Rio de Janeiro   2678\n",
       "3464        0  2017  Rio de Janeiro     91\n",
       "3982        0  2018  Rio de Janeiro     93\n",
       "4471        0  2019  Rio de Janeiro     47\n",
       "6180        1  2016  Rio de Janeiro   1856"
      ]
     },
     "execution_count": 148,
     "metadata": {},
     "output_type": "execute_result"
    }
   ],
   "source": [
    "geolocs_dict['Rio de Janeiro'].head(5)"
   ]
  },
  {
   "cell_type": "code",
   "execution_count": 25,
   "metadata": {},
   "outputs": [],
   "source": [
    "pickle.dump(geolocs_dict, open('temp_2016_aggr.pkl', 'wb'))"
   ]
  },
  {
   "cell_type": "markdown",
   "metadata": {},
   "source": [
    "# plot graphics with different aggregations\n",
    "ref: http://docs.bokeh.org/en/1.3.2/docs/user_guide/interaction/legends.html"
   ]
  },
  {
   "cell_type": "markdown",
   "metadata": {},
   "source": [
    "### year and city"
   ]
  },
  {
   "cell_type": "code",
   "execution_count": 3,
   "metadata": {},
   "outputs": [],
   "source": [
    "from bokeh.palettes import Spectral6, Spectral4\n",
    "from bokeh.plotting import figure, output_file, show"
   ]
  },
  {
   "cell_type": "code",
   "execution_count": 38,
   "metadata": {},
   "outputs": [],
   "source": [
    "for year in range(2016, 2020):\n",
    "    p = figure(plot_width=800, plot_height=500, x_axis_label = \"Epidemiologic week\", y_axis_label = \"Number of tweets\")\n",
    "    p.legend.location = \"top_right\"\n",
    "    p.title.text = 'Virus tweets in numbers (year {})'.format(year)\n",
    "    for name, color in zip(cities, Spectral6):\n",
    "        df = geolocs_dict[name][geolocs_dict[name]['year'] == year]\n",
    "        p.line(df['ep_week'], df['count'], line_width=2, color=color, alpha=0.8, legend=name)\n",
    "    p.legend.click_policy=\"hide\"\n",
    "    output_file(os.path.join(outputs, \"virus_tweets_year{}.html\".format(year)), title=\"virus tweets (year {})\".format(year))\n",
    "    \n",
    "    show(p)"
   ]
  },
  {
   "cell_type": "markdown",
   "metadata": {},
   "source": [
    "### year and virus (1 plot for each city)"
   ]
  },
  {
   "cell_type": "code",
   "execution_count": 16,
   "metadata": {},
   "outputs": [],
   "source": [
    "aggr_virus_dict = {}\n",
    "data_deng = data[data['has_dengue'] == 1]\n",
    "data_zika = data[data['has_zika'] == 1]\n",
    "data_chik = data[data['has_chikungunya'] == 1]\n",
    "data_all = data.copy()\n",
    "for virus_dt in ['data_deng', 'data_zika', 'data_chik', 'data_all']:\n",
    "    df = eval(virus_dt)\n",
    "    df = df.groupby(by=[\"ep_week\", \"year\", \"city\"]).count()\n",
    "    df.reset_index(inplace=True)\n",
    "    df = df[['ep_week', 'year', 'city', 'message']]\n",
    "    df.rename(columns = {'message': 'count'}, inplace=True)\n",
    "    aggr_virus_dict[virus_dt] = df"
   ]
  },
  {
   "cell_type": "code",
   "execution_count": 17,
   "metadata": {},
   "outputs": [
    {
     "data": {
      "text/plain": [
       "dict_keys(['data_deng', 'data_zika', 'data_chik', 'data_all'])"
      ]
     },
     "execution_count": 17,
     "metadata": {},
     "output_type": "execute_result"
    }
   ],
   "source": [
    "aggr_virus_dict.keys()"
   ]
  },
  {
   "cell_type": "raw",
   "metadata": {},
   "source": [
    "pickle.dump(aggr_virus_dict, open('temp_aggr_virus_dict.pkl', 'wb'))"
   ]
  },
  {
   "cell_type": "code",
   "execution_count": 4,
   "metadata": {},
   "outputs": [],
   "source": [
    "aggr_virus_dict = pickle.load(open('temp_aggr_virus_dict.pkl', 'rb'))"
   ]
  },
  {
   "cell_type": "code",
   "execution_count": 5,
   "metadata": {},
   "outputs": [
    {
     "data": {
      "text/html": [
       "<div>\n",
       "<style scoped>\n",
       "    .dataframe tbody tr th:only-of-type {\n",
       "        vertical-align: middle;\n",
       "    }\n",
       "\n",
       "    .dataframe tbody tr th {\n",
       "        vertical-align: top;\n",
       "    }\n",
       "\n",
       "    .dataframe thead th {\n",
       "        text-align: right;\n",
       "    }\n",
       "</style>\n",
       "<table border=\"1\" class=\"dataframe\">\n",
       "  <thead>\n",
       "    <tr style=\"text-align: right;\">\n",
       "      <th></th>\n",
       "      <th>ep_week</th>\n",
       "      <th>year</th>\n",
       "      <th>city</th>\n",
       "      <th>count</th>\n",
       "    </tr>\n",
       "  </thead>\n",
       "  <tbody>\n",
       "    <tr>\n",
       "      <td>0</td>\n",
       "      <td>0</td>\n",
       "      <td>2016</td>\n",
       "      <td></td>\n",
       "      <td>12681</td>\n",
       "    </tr>\n",
       "    <tr>\n",
       "      <td>1</td>\n",
       "      <td>0</td>\n",
       "      <td>2016</td>\n",
       "      <td>3</td>\n",
       "      <td>1</td>\n",
       "    </tr>\n",
       "    <tr>\n",
       "      <td>2</td>\n",
       "      <td>0</td>\n",
       "      <td>2016</td>\n",
       "      <td>31000 Antioch/Hatay Province</td>\n",
       "      <td>1</td>\n",
       "    </tr>\n",
       "    <tr>\n",
       "      <td>3</td>\n",
       "      <td>0</td>\n",
       "      <td>2016</td>\n",
       "      <td>394</td>\n",
       "      <td>2</td>\n",
       "    </tr>\n",
       "    <tr>\n",
       "      <td>4</td>\n",
       "      <td>0</td>\n",
       "      <td>2016</td>\n",
       "      <td>656 NE 125th St</td>\n",
       "      <td>1</td>\n",
       "    </tr>\n",
       "  </tbody>\n",
       "</table>\n",
       "</div>"
      ],
      "text/plain": [
       "   ep_week  year                          city  count\n",
       "0        0  2016                                12681\n",
       "1        0  2016                             3      1\n",
       "2        0  2016  31000 Antioch/Hatay Province      1\n",
       "3        0  2016                           394      2\n",
       "4        0  2016               656 NE 125th St      1"
      ]
     },
     "execution_count": 5,
     "metadata": {},
     "output_type": "execute_result"
    }
   ],
   "source": [
    "aggr_virus_dict['data_deng'].head()"
   ]
  },
  {
   "cell_type": "code",
   "execution_count": 8,
   "metadata": {},
   "outputs": [],
   "source": [
    "deng_dict = {}\n",
    "zika_dict = {}\n",
    "chik_dict = {}\n",
    "all_dict = {}\n",
    "\n",
    "for city in cities:\n",
    "    deng_dict[city] = aggr_virus_dict['data_deng'][aggr_virus_dict['data_deng']['city'] == city]\n",
    "    zika_dict[city] = aggr_virus_dict['data_zika'][aggr_virus_dict['data_zika']['city'] == city]\n",
    "    chik_dict[city] = aggr_virus_dict['data_chik'][aggr_virus_dict['data_chik']['city'] == city]\n",
    "    all_dict[city] = aggr_virus_dict['data_all'][aggr_virus_dict['data_all']['city'] == city]"
   ]
  },
  {
   "cell_type": "code",
   "execution_count": 17,
   "metadata": {},
   "outputs": [],
   "source": [
    "for year in range(2016, 2020):\n",
    "    for name in cities:\n",
    "        p = figure(plot_width=800, plot_height=500, x_axis_label = \"Epidemiologic week\", y_axis_label = \"Number of tweets\")\n",
    "        p.legend.location = \"top_right\"\n",
    "        p.title.text = 'Virus tweets in numbers (year {}, {})'.format(year, name)\n",
    "        for virus_name, virus, color in zip(['dengue', 'zika', 'chikungunya', 'ALL'], ['deng', 'zika', 'chik', 'all'], Spectral4):\n",
    "            df = eval(\"{}_dict[name][{}_dict[name]['year'] == year]\".format(virus, virus))\n",
    "            p.line(df['ep_week'], df['count'], line_width=2, color=color, alpha=0.8, legend=virus_name)\n",
    "        p.legend.click_policy=\"hide\"\n",
    "        output_file(os.path.join(outputs, \"3virus_tweets_year{}_{}.html\".format(year, name)), \n",
    "                    title=\"virus tweets (year {}, {})\".format(year, name))            \n",
    "        show(p)"
   ]
  },
  {
   "cell_type": "code",
   "execution_count": null,
   "metadata": {},
   "outputs": [],
   "source": []
  }
 ],
 "metadata": {
  "kernelspec": {
   "display_name": "Python 3",
   "language": "python",
   "name": "python3"
  },
  "language_info": {
   "codemirror_mode": {
    "name": "ipython",
    "version": 3
   },
   "file_extension": ".py",
   "mimetype": "text/x-python",
   "name": "python",
   "nbconvert_exporter": "python",
   "pygments_lexer": "ipython3",
   "version": "3.7.5"
  }
 },
 "nbformat": 4,
 "nbformat_minor": 2
}
