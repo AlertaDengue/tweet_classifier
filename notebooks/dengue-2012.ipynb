{
 "cells": [
  {
   "cell_type": "code",
   "execution_count": 1,
   "metadata": {},
   "outputs": [],
   "source": [
    "import pandas as pd\n",
    "import numpy as np\n",
    "import pickle\n",
    "from collections import Counter\n",
    "import math\n",
    "import nltk\n",
    "import requests\n",
    "import html\n",
    "from datetime import datetime, timedelta, date\n",
    "import string\n",
    "import json\n",
    "import matplotlib.pyplot as plt\n",
    "import seaborn as sns\n",
    "from sklearn.feature_extraction.text import TfidfVectorizer\n",
    "from sklearn.model_selection import cross_val_score\n",
    "import statsmodels as sm\n",
    "\n",
    "import warnings\n",
    "warnings.filterwarnings('ignore')\n",
    "%matplotlib inline"
   ]
  },
  {
   "cell_type": "code",
   "execution_count": 26,
   "metadata": {},
   "outputs": [],
   "source": [
    "import os\n",
    "main_inputs = \"../../inputs/\"\n",
    "inputs = '../inputs/'"
   ]
  },
  {
   "cell_type": "code",
   "execution_count": 205,
   "metadata": {},
   "outputs": [],
   "source": [
    "data_path  = os.path.join(main_inputs, 'resultado.csv.bz2')\n",
    "data = pd.read_csv(data_path, header = None) "
   ]
  },
  {
   "cell_type": "code",
   "execution_count": 206,
   "metadata": {},
   "outputs": [
    {
     "data": {
      "text/html": [
       "<div>\n",
       "<style scoped>\n",
       "    .dataframe tbody tr th:only-of-type {\n",
       "        vertical-align: middle;\n",
       "    }\n",
       "\n",
       "    .dataframe tbody tr th {\n",
       "        vertical-align: top;\n",
       "    }\n",
       "\n",
       "    .dataframe thead th {\n",
       "        text-align: right;\n",
       "    }\n",
       "</style>\n",
       "<table border=\"1\" class=\"dataframe\">\n",
       "  <thead>\n",
       "    <tr style=\"text-align: right;\">\n",
       "      <th></th>\n",
       "      <th>0</th>\n",
       "      <th>1</th>\n",
       "      <th>2</th>\n",
       "      <th>3</th>\n",
       "      <th>4</th>\n",
       "      <th>5</th>\n",
       "      <th>6</th>\n",
       "      <th>7</th>\n",
       "      <th>8</th>\n",
       "      <th>9</th>\n",
       "    </tr>\n",
       "  </thead>\n",
       "  <tbody>\n",
       "    <tr>\n",
       "      <th>0</th>\n",
       "      <td>19/11/2010 20:04:44</td>\n",
       "      <td>PauloAfBahia</td>\n",
       "      <td>A dengue mata mas com simples gestos de preven...</td>\n",
       "      <td>0.138010</td>\n",
       "      <td>0.101521</td>\n",
       "      <td>0.254248</td>\n",
       "      <td>0.085880</td>\n",
       "      <td>0.420341</td>\n",
       "      <td>3</td>\n",
       "      <td>{u'd': 1443198862750, u'v': 1}</td>\n",
       "    </tr>\n",
       "    <tr>\n",
       "      <th>1</th>\n",
       "      <td>19/11/2010 20:05:05</td>\n",
       "      <td>PortalOuroNegro</td>\n",
       "      <td>Mutirão contra a Dengue começou nesta sexta em...</td>\n",
       "      <td>0.105452</td>\n",
       "      <td>0.056434</td>\n",
       "      <td>0.248333</td>\n",
       "      <td>0.188912</td>\n",
       "      <td>0.400869</td>\n",
       "      <td>3</td>\n",
       "      <td>{u'city': u'Linhares', u'country': u'Brasil', ...</td>\n",
       "    </tr>\n",
       "    <tr>\n",
       "      <th>2</th>\n",
       "      <td>19/11/2010 20:05:30</td>\n",
       "      <td>Kustelaas</td>\n",
       "      <td>@depChicoAlencar amannhã alem do dia da consiê...</td>\n",
       "      <td>0.054194</td>\n",
       "      <td>0.084122</td>\n",
       "      <td>0.213530</td>\n",
       "      <td>0.146927</td>\n",
       "      <td>0.501226</td>\n",
       "      <td>3</td>\n",
       "      <td>{u'country': u'Brasil', u'state': u'MT', u'typ...</td>\n",
       "    </tr>\n",
       "    <tr>\n",
       "      <th>3</th>\n",
       "      <td>19/11/2010 20:05:58</td>\n",
       "      <td>Raul_Jungmann</td>\n",
       "      <td>Pernambuco tem risco de sofrer epidemia de den...</td>\n",
       "      <td>0.080289</td>\n",
       "      <td>0.106928</td>\n",
       "      <td>0.054929</td>\n",
       "      <td>0.141276</td>\n",
       "      <td>0.616577</td>\n",
       "      <td>3</td>\n",
       "      <td>{u'city': u'Recife', u'country': u'Brasil', u'...</td>\n",
       "    </tr>\n",
       "    <tr>\n",
       "      <th>4</th>\n",
       "      <td>19/11/2010 20:06:18</td>\n",
       "      <td>laana_mello</td>\n",
       "      <td>Rpz...acho q a Caueira tah com surto de dengue...</td>\n",
       "      <td>0.112013</td>\n",
       "      <td>0.143425</td>\n",
       "      <td>0.094947</td>\n",
       "      <td>0.429626</td>\n",
       "      <td>0.219990</td>\n",
       "      <td>0</td>\n",
       "      <td>{u'country': u'Brasil', u'state': u'MT', u'typ...</td>\n",
       "    </tr>\n",
       "  </tbody>\n",
       "</table>\n",
       "</div>"
      ],
      "text/plain": [
       "                     0                1  \\\n",
       "0  19/11/2010 20:04:44     PauloAfBahia   \n",
       "1  19/11/2010 20:05:05  PortalOuroNegro   \n",
       "2  19/11/2010 20:05:30        Kustelaas   \n",
       "3  19/11/2010 20:05:58    Raul_Jungmann   \n",
       "4  19/11/2010 20:06:18      laana_mello   \n",
       "\n",
       "                                                   2         3         4  \\\n",
       "0  A dengue mata mas com simples gestos de preven...  0.138010  0.101521   \n",
       "1  Mutirão contra a Dengue começou nesta sexta em...  0.105452  0.056434   \n",
       "2  @depChicoAlencar amannhã alem do dia da consiê...  0.054194  0.084122   \n",
       "3  Pernambuco tem risco de sofrer epidemia de den...  0.080289  0.106928   \n",
       "4  Rpz...acho q a Caueira tah com surto de dengue...  0.112013  0.143425   \n",
       "\n",
       "          5         6         7  8  \\\n",
       "0  0.254248  0.085880  0.420341  3   \n",
       "1  0.248333  0.188912  0.400869  3   \n",
       "2  0.213530  0.146927  0.501226  3   \n",
       "3  0.054929  0.141276  0.616577  3   \n",
       "4  0.094947  0.429626  0.219990  0   \n",
       "\n",
       "                                                   9  \n",
       "0                     {u'd': 1443198862750, u'v': 1}  \n",
       "1  {u'city': u'Linhares', u'country': u'Brasil', ...  \n",
       "2  {u'country': u'Brasil', u'state': u'MT', u'typ...  \n",
       "3  {u'city': u'Recife', u'country': u'Brasil', u'...  \n",
       "4  {u'country': u'Brasil', u'state': u'MT', u'typ...  "
      ]
     },
     "execution_count": 206,
     "metadata": {},
     "output_type": "execute_result"
    }
   ],
   "source": [
    "data.head()"
   ]
  },
  {
   "cell_type": "markdown",
   "metadata": {},
   "source": [
    "* Data da mensagem\n",
    "* Usuário que postou a mensagem\n",
    "* Texto da mensagem\n",
    "* Pontuação para  classe=paródia\n",
    "* Pontuação para  classe=opinião\n",
    "* Pontuação para  classe=campanha\n",
    "* Pontuação para  classe=experiência pessoal\n",
    "* Pontuação para  classe=informação\n",
    "* Resultado (qual a classe foi escolhida pela maior pontuação)\n",
    "* Informação (JSON) sobre a localização"
   ]
  },
  {
   "cell_type": "code",
   "execution_count": 207,
   "metadata": {},
   "outputs": [],
   "source": [
    "data.columns = [\"date\", \"user\", \"message\", \"0\", \"1\", \"2\", \"3\", \"4\", \"class\", \"location\"]"
   ]
  },
  {
   "cell_type": "code",
   "execution_count": 208,
   "metadata": {},
   "outputs": [],
   "source": [
    "data['date'] = pd.to_datetime(data['date'])"
   ]
  },
  {
   "cell_type": "code",
   "execution_count": 209,
   "metadata": {},
   "outputs": [
    {
     "data": {
      "text/plain": [
       "date        datetime64[ns]\n",
       "user                object\n",
       "message             object\n",
       "0                  float64\n",
       "1                  float64\n",
       "2                  float64\n",
       "3                  float64\n",
       "4                  float64\n",
       "class                int64\n",
       "location            object\n",
       "dtype: object"
      ]
     },
     "execution_count": 209,
     "metadata": {},
     "output_type": "execute_result"
    }
   ],
   "source": [
    "data.dtypes"
   ]
  },
  {
   "cell_type": "code",
   "execution_count": 210,
   "metadata": {},
   "outputs": [],
   "source": [
    "data = data[data['date'] < '2012-12-31 23:59:59']"
   ]
  },
  {
   "cell_type": "markdown",
   "metadata": {},
   "source": [
    "pickle files"
   ]
  },
  {
   "cell_type": "code",
   "execution_count": 211,
   "metadata": {},
   "outputs": [],
   "source": [
    "resultado_2012 = os.path.join(main_inputs, 'resultado_2012.pkl')"
   ]
  },
  {
   "cell_type": "raw",
   "metadata": {},
   "source": [
    "pickle.dump(data, open(resultado_2012, 'wb'))"
   ]
  },
  {
   "cell_type": "code",
   "execution_count": 35,
   "metadata": {},
   "outputs": [],
   "source": [
    "data = pickle.load(open(resultado_2012, 'rb'))"
   ]
  },
  {
   "cell_type": "markdown",
   "metadata": {},
   "source": [
    "continue"
   ]
  },
  {
   "cell_type": "code",
   "execution_count": 36,
   "metadata": {},
   "outputs": [],
   "source": [
    "data = data[data['date'] < '2012-12-31 23:59:59']"
   ]
  },
  {
   "cell_type": "code",
   "execution_count": 37,
   "metadata": {},
   "outputs": [],
   "source": [
    "data['date'] = data['date'].dt.strftime(\"%Y-%m-%d\")"
   ]
  },
  {
   "cell_type": "code",
   "execution_count": 38,
   "metadata": {},
   "outputs": [],
   "source": [
    "data['date'] = pd.to_datetime(data['date'])"
   ]
  },
  {
   "cell_type": "code",
   "execution_count": 39,
   "metadata": {},
   "outputs": [
    {
     "data": {
      "text/html": [
       "<div>\n",
       "<style scoped>\n",
       "    .dataframe tbody tr th:only-of-type {\n",
       "        vertical-align: middle;\n",
       "    }\n",
       "\n",
       "    .dataframe tbody tr th {\n",
       "        vertical-align: top;\n",
       "    }\n",
       "\n",
       "    .dataframe thead th {\n",
       "        text-align: right;\n",
       "    }\n",
       "</style>\n",
       "<table border=\"1\" class=\"dataframe\">\n",
       "  <thead>\n",
       "    <tr style=\"text-align: right;\">\n",
       "      <th></th>\n",
       "      <th>date</th>\n",
       "      <th>user</th>\n",
       "      <th>message</th>\n",
       "      <th>0</th>\n",
       "      <th>1</th>\n",
       "      <th>2</th>\n",
       "      <th>3</th>\n",
       "      <th>4</th>\n",
       "      <th>class</th>\n",
       "      <th>location</th>\n",
       "    </tr>\n",
       "  </thead>\n",
       "  <tbody>\n",
       "    <tr>\n",
       "      <th>1308499</th>\n",
       "      <td>2012-12-31</td>\n",
       "      <td>eberodia</td>\n",
       "      <td>RT @minsaude: Que tal começar o ano novo cuida...</td>\n",
       "      <td>0.242876</td>\n",
       "      <td>0.049584</td>\n",
       "      <td>0.196072</td>\n",
       "      <td>0.225077</td>\n",
       "      <td>0.286391</td>\n",
       "      <td>3</td>\n",
       "      <td>{u'country': u'Brasil', u'type': u'Country', u...</td>\n",
       "    </tr>\n",
       "    <tr>\n",
       "      <th>1308500</th>\n",
       "      <td>2012-12-31</td>\n",
       "      <td>_BieberMine</td>\n",
       "      <td>@gatacherosaxd tá com dengue amor kk pq eu ten...</td>\n",
       "      <td>0.289821</td>\n",
       "      <td>0.159781</td>\n",
       "      <td>0.021078</td>\n",
       "      <td>0.430541</td>\n",
       "      <td>0.098780</td>\n",
       "      <td>0</td>\n",
       "      <td>{u'country': u'Brasil', u'type': u'Country', u...</td>\n",
       "    </tr>\n",
       "    <tr>\n",
       "      <th>1308501</th>\n",
       "      <td>2012-12-31</td>\n",
       "      <td>Jheff_SWAG</td>\n",
       "      <td>@manumatos_f to pos dengue..kkk, ms se vier ak...</td>\n",
       "      <td>0.182870</td>\n",
       "      <td>0.041196</td>\n",
       "      <td>0.231796</td>\n",
       "      <td>0.345090</td>\n",
       "      <td>0.199048</td>\n",
       "      <td>0</td>\n",
       "      <td>{u'd': 1357920822586, u'v': 1}</td>\n",
       "    </tr>\n",
       "    <tr>\n",
       "      <th>1308502</th>\n",
       "      <td>2012-12-31</td>\n",
       "      <td>Crazy__Train</td>\n",
       "      <td>tinha um mosquito da dengue na tela do meu not...</td>\n",
       "      <td>0.298539</td>\n",
       "      <td>0.078458</td>\n",
       "      <td>0.051165</td>\n",
       "      <td>0.245172</td>\n",
       "      <td>0.326667</td>\n",
       "      <td>3</td>\n",
       "      <td>{u'd': 1357920822611, u'v': 1}</td>\n",
       "    </tr>\n",
       "    <tr>\n",
       "      <th>1308503</th>\n",
       "      <td>2012-12-31</td>\n",
       "      <td>CZenteno02</td>\n",
       "      <td>“@Omarrdguez: Taquitos de huimanguillo para em...</td>\n",
       "      <td>0.280230</td>\n",
       "      <td>0.047873</td>\n",
       "      <td>0.290921</td>\n",
       "      <td>0.196759</td>\n",
       "      <td>0.184217</td>\n",
       "      <td>4</td>\n",
       "      <td>{u'd': 1356998446072, u'v': 1}</td>\n",
       "    </tr>\n",
       "  </tbody>\n",
       "</table>\n",
       "</div>"
      ],
      "text/plain": [
       "              date          user  \\\n",
       "1308499 2012-12-31      eberodia   \n",
       "1308500 2012-12-31   _BieberMine   \n",
       "1308501 2012-12-31    Jheff_SWAG   \n",
       "1308502 2012-12-31  Crazy__Train   \n",
       "1308503 2012-12-31    CZenteno02   \n",
       "\n",
       "                                                   message         0  \\\n",
       "1308499  RT @minsaude: Que tal começar o ano novo cuida...  0.242876   \n",
       "1308500  @gatacherosaxd tá com dengue amor kk pq eu ten...  0.289821   \n",
       "1308501  @manumatos_f to pos dengue..kkk, ms se vier ak...  0.182870   \n",
       "1308502  tinha um mosquito da dengue na tela do meu not...  0.298539   \n",
       "1308503  “@Omarrdguez: Taquitos de huimanguillo para em...  0.280230   \n",
       "\n",
       "                1         2         3         4  class  \\\n",
       "1308499  0.049584  0.196072  0.225077  0.286391      3   \n",
       "1308500  0.159781  0.021078  0.430541  0.098780      0   \n",
       "1308501  0.041196  0.231796  0.345090  0.199048      0   \n",
       "1308502  0.078458  0.051165  0.245172  0.326667      3   \n",
       "1308503  0.047873  0.290921  0.196759  0.184217      4   \n",
       "\n",
       "                                                  location  \n",
       "1308499  {u'country': u'Brasil', u'type': u'Country', u...  \n",
       "1308500  {u'country': u'Brasil', u'type': u'Country', u...  \n",
       "1308501                     {u'd': 1357920822586, u'v': 1}  \n",
       "1308502                     {u'd': 1357920822611, u'v': 1}  \n",
       "1308503                     {u'd': 1356998446072, u'v': 1}  "
      ]
     },
     "execution_count": 39,
     "metadata": {},
     "output_type": "execute_result"
    }
   ],
   "source": [
    "data.tail()"
   ]
  },
  {
   "cell_type": "code",
   "execution_count": 40,
   "metadata": {},
   "outputs": [
    {
     "data": {
      "text/plain": [
       "(1308504, 10)"
      ]
     },
     "execution_count": 40,
     "metadata": {},
     "output_type": "execute_result"
    }
   ],
   "source": [
    "data.shape"
   ]
  },
  {
   "cell_type": "markdown",
   "metadata": {},
   "source": [
    "# stopwords"
   ]
  },
  {
   "cell_type": "code",
   "execution_count": 42,
   "metadata": {},
   "outputs": [],
   "source": [
    "stopwords = nltk.corpus.stopwords.words('portuguese')\n",
    "stopwords = list(set(stopwords))"
   ]
  },
  {
   "cell_type": "code",
   "execution_count": 43,
   "metadata": {},
   "outputs": [],
   "source": [
    "#keep relevant stopwords\n",
    "try: stopwords.remove('não')\n",
    "except: pass"
   ]
  },
  {
   "cell_type": "code",
   "execution_count": 44,
   "metadata": {},
   "outputs": [],
   "source": [
    "#algumas pontuaçoes podem ser irrelevantes\n",
    "some_punctuation = '-.,'"
   ]
  },
  {
   "cell_type": "code",
   "execution_count": 45,
   "metadata": {},
   "outputs": [],
   "source": [
    "def remove_stopwords(text):\n",
    "    new_text = \"\"\n",
    "    for word in text.lower().split():\n",
    "        if word not in stopwords and len(word)>1:\n",
    "            word = word.strip(some_punctuation)\n",
    "            new_text = new_text + ' ' + word\n",
    "    return new_text"
   ]
  },
  {
   "cell_type": "markdown",
   "metadata": {},
   "source": [
    "new column: text without stopwords"
   ]
  },
  {
   "cell_type": "code",
   "execution_count": 46,
   "metadata": {},
   "outputs": [],
   "source": [
    "data['message_nostopwords'] = data['message'].apply(remove_stopwords)"
   ]
  },
  {
   "cell_type": "markdown",
   "metadata": {},
   "source": [
    "# build epidemiologic weeks\n",
    "* Week one of every year is the first week with 4 days or more.\n",
    "* Timestamp of the study comprises: 21/11/2010-30/09/2011"
   ]
  },
  {
   "cell_type": "code",
   "execution_count": 138,
   "metadata": {},
   "outputs": [],
   "source": [
    "def daterange(date1, date2):\n",
    "    for n in range(int ((date2 - date1).days)+1):\n",
    "        yield date1 + timedelta(n)\n",
    "\n",
    "start_dt = date(2010, 1, 1)\n",
    "end_dt = date(2012, 12, 31)\n",
    "dates = []\n",
    "for dt in daterange(start_dt, end_dt):\n",
    "    dates.append(dt.strftime(\"%Y-%m-%d\"))"
   ]
  },
  {
   "cell_type": "code",
   "execution_count": 153,
   "metadata": {},
   "outputs": [
    {
     "name": "stdout",
     "output_type": "stream",
     "text": [
      "2010-01-01 <class 'str'>\n",
      "not epidemiologic week: 2010-01-01 00:00:00 year_week: 200953\n",
      "not epidemiologic week: 2010-01-02 00:00:00 year_week: 200953\n",
      "2011-01-01 <class 'str'>\n",
      "not epidemiologic week: 2011-01-01 00:00:00 year_week: 201053\n",
      "2012-01-01 <class 'str'>\n"
     ]
    }
   ],
   "source": [
    "# builds list of epidemiologic weeks to correspond with each date of the year range.\n",
    "ep_week_lst = []\n",
    "count = 0\n",
    "year_day_count = 0 # this is to skip first days of year if they are the last week days (>thursday).\n",
    "epidemic_week = 1\n",
    "for d in dates:\n",
    "    month_day = d[5:]\n",
    "    year = d[:4]\n",
    "    if month_day == '01-01':\n",
    "        print('New year identified. Date is: ', d)\n",
    "        count = 0\n",
    "        year_day_count = 0 \n",
    "        epidemic_week = 1\n",
    "    if year_day_count < 3:\n",
    "        year_day_count += 1\n",
    "        d = datetime.strptime(d, '%Y-%m-%d')\n",
    "        weekday = d.weekday()\n",
    "        if weekday > 2 and weekday < 6: #sunday=7, monday=0\n",
    "            year_week = str(int(year)-1)+'53'\n",
    "            print('not epidemiologic week:', d, 'year_week:', year_week)\n",
    "            ep_week_lst.append(year_week)\n",
    "            continue\n",
    "    if count == 7:\n",
    "        epidemic_week += 1\n",
    "        count = 0\n",
    "    count += 1\n",
    "    str_week = str(epidemic_week)\n",
    "    if len(str_week) == 1: str_week = '0'+str_week\n",
    "    year_week = year+str_week\n",
    "    ep_week_lst.append(year_week)"
   ]
  },
  {
   "cell_type": "code",
   "execution_count": 329,
   "metadata": {},
   "outputs": [
    {
     "data": {
      "text/plain": [
       "date                   datetime64[ns]\n",
       "user                           object\n",
       "message                        object\n",
       "0                             float64\n",
       "1                             float64\n",
       "2                             float64\n",
       "3                             float64\n",
       "4                             float64\n",
       "class                           int64\n",
       "location                       object\n",
       "message_nostopwords            object\n",
       "dtype: object"
      ]
     },
     "execution_count": 329,
     "metadata": {},
     "output_type": "execute_result"
    }
   ],
   "source": [
    "data.dtypes"
   ]
  },
  {
   "cell_type": "code",
   "execution_count": 149,
   "metadata": {},
   "outputs": [],
   "source": [
    "def date_to_epweek(row):\n",
    "    row = row.strftime(\"%Y-%m-%d\")\n",
    "    date_index = dates.index(row)\n",
    "    year_week = ep_week_lst[date_index]\n",
    "    return year_week\n",
    "data['se'] = data['date'].apply(date_to_epweek) #se = epidemiologic week"
   ]
  },
  {
   "cell_type": "code",
   "execution_count": 61,
   "metadata": {},
   "outputs": [
    {
     "data": {
      "text/plain": [
       "'2010-11-19'"
      ]
     },
     "execution_count": 61,
     "metadata": {},
     "output_type": "execute_result"
    }
   ],
   "source": [
    "date(2010, 11, 19).strftime(\"%Y-%m-%d\")"
   ]
  },
  {
   "cell_type": "code",
   "execution_count": 150,
   "metadata": {
    "scrolled": true
   },
   "outputs": [
    {
     "data": {
      "text/html": [
       "<div>\n",
       "<style scoped>\n",
       "    .dataframe tbody tr th:only-of-type {\n",
       "        vertical-align: middle;\n",
       "    }\n",
       "\n",
       "    .dataframe tbody tr th {\n",
       "        vertical-align: top;\n",
       "    }\n",
       "\n",
       "    .dataframe thead th {\n",
       "        text-align: right;\n",
       "    }\n",
       "</style>\n",
       "<table border=\"1\" class=\"dataframe\">\n",
       "  <thead>\n",
       "    <tr style=\"text-align: right;\">\n",
       "      <th></th>\n",
       "      <th>date</th>\n",
       "      <th>user</th>\n",
       "      <th>message</th>\n",
       "      <th>0</th>\n",
       "      <th>1</th>\n",
       "      <th>2</th>\n",
       "      <th>3</th>\n",
       "      <th>4</th>\n",
       "      <th>class</th>\n",
       "      <th>location</th>\n",
       "      <th>message_nostopwords</th>\n",
       "      <th>se</th>\n",
       "    </tr>\n",
       "  </thead>\n",
       "  <tbody>\n",
       "    <tr>\n",
       "      <th>1308499</th>\n",
       "      <td>2012-12-31</td>\n",
       "      <td>eberodia</td>\n",
       "      <td>RT @minsaude: Que tal começar o ano novo cuida...</td>\n",
       "      <td>0.242876</td>\n",
       "      <td>0.049584</td>\n",
       "      <td>0.196072</td>\n",
       "      <td>0.225077</td>\n",
       "      <td>0.286391</td>\n",
       "      <td>3</td>\n",
       "      <td>{u'country': u'Brasil', u'type': u'Country', u...</td>\n",
       "      <td>rt @minsaude: tal começar ano novo cuidando s...</td>\n",
       "      <td>201253</td>\n",
       "    </tr>\n",
       "    <tr>\n",
       "      <th>1308500</th>\n",
       "      <td>2012-12-31</td>\n",
       "      <td>_BieberMine</td>\n",
       "      <td>@gatacherosaxd tá com dengue amor kk pq eu ten...</td>\n",
       "      <td>0.289821</td>\n",
       "      <td>0.159781</td>\n",
       "      <td>0.021078</td>\n",
       "      <td>0.430541</td>\n",
       "      <td>0.098780</td>\n",
       "      <td>0</td>\n",
       "      <td>{u'country': u'Brasil', u'type': u'Country', u...</td>\n",
       "      <td>@gatacherosaxd tá dengue amor kk pq ficar aqu...</td>\n",
       "      <td>201253</td>\n",
       "    </tr>\n",
       "    <tr>\n",
       "      <th>1308501</th>\n",
       "      <td>2012-12-31</td>\n",
       "      <td>Jheff_SWAG</td>\n",
       "      <td>@manumatos_f to pos dengue..kkk, ms se vier ak...</td>\n",
       "      <td>0.182870</td>\n",
       "      <td>0.041196</td>\n",
       "      <td>0.231796</td>\n",
       "      <td>0.345090</td>\n",
       "      <td>0.199048</td>\n",
       "      <td>0</td>\n",
       "      <td>{u'd': 1357920822586, u'v': 1}</td>\n",
       "      <td>@manumatos_f to pos dengue..kkk ms vier aki m...</td>\n",
       "      <td>201253</td>\n",
       "    </tr>\n",
       "    <tr>\n",
       "      <th>1308502</th>\n",
       "      <td>2012-12-31</td>\n",
       "      <td>Crazy__Train</td>\n",
       "      <td>tinha um mosquito da dengue na tela do meu not...</td>\n",
       "      <td>0.298539</td>\n",
       "      <td>0.078458</td>\n",
       "      <td>0.051165</td>\n",
       "      <td>0.245172</td>\n",
       "      <td>0.326667</td>\n",
       "      <td>3</td>\n",
       "      <td>{u'd': 1357920822611, u'v': 1}</td>\n",
       "      <td>mosquito dengue tela not vdd</td>\n",
       "      <td>201253</td>\n",
       "    </tr>\n",
       "    <tr>\n",
       "      <th>1308503</th>\n",
       "      <td>2012-12-31</td>\n",
       "      <td>CZenteno02</td>\n",
       "      <td>“@Omarrdguez: Taquitos de huimanguillo para em...</td>\n",
       "      <td>0.280230</td>\n",
       "      <td>0.047873</td>\n",
       "      <td>0.290921</td>\n",
       "      <td>0.196759</td>\n",
       "      <td>0.184217</td>\n",
       "      <td>4</td>\n",
       "      <td>{u'd': 1356998446072, u'v': 1}</td>\n",
       "      <td>“@omarrdguez: taquitos huimanguillo empezar c...</td>\n",
       "      <td>201253</td>\n",
       "    </tr>\n",
       "  </tbody>\n",
       "</table>\n",
       "</div>"
      ],
      "text/plain": [
       "              date          user  \\\n",
       "1308499 2012-12-31      eberodia   \n",
       "1308500 2012-12-31   _BieberMine   \n",
       "1308501 2012-12-31    Jheff_SWAG   \n",
       "1308502 2012-12-31  Crazy__Train   \n",
       "1308503 2012-12-31    CZenteno02   \n",
       "\n",
       "                                                   message         0  \\\n",
       "1308499  RT @minsaude: Que tal começar o ano novo cuida...  0.242876   \n",
       "1308500  @gatacherosaxd tá com dengue amor kk pq eu ten...  0.289821   \n",
       "1308501  @manumatos_f to pos dengue..kkk, ms se vier ak...  0.182870   \n",
       "1308502  tinha um mosquito da dengue na tela do meu not...  0.298539   \n",
       "1308503  “@Omarrdguez: Taquitos de huimanguillo para em...  0.280230   \n",
       "\n",
       "                1         2         3         4  class  \\\n",
       "1308499  0.049584  0.196072  0.225077  0.286391      3   \n",
       "1308500  0.159781  0.021078  0.430541  0.098780      0   \n",
       "1308501  0.041196  0.231796  0.345090  0.199048      0   \n",
       "1308502  0.078458  0.051165  0.245172  0.326667      3   \n",
       "1308503  0.047873  0.290921  0.196759  0.184217      4   \n",
       "\n",
       "                                                  location  \\\n",
       "1308499  {u'country': u'Brasil', u'type': u'Country', u...   \n",
       "1308500  {u'country': u'Brasil', u'type': u'Country', u...   \n",
       "1308501                     {u'd': 1357920822586, u'v': 1}   \n",
       "1308502                     {u'd': 1357920822611, u'v': 1}   \n",
       "1308503                     {u'd': 1356998446072, u'v': 1}   \n",
       "\n",
       "                                       message_nostopwords      se  \n",
       "1308499   rt @minsaude: tal começar ano novo cuidando s...  201253  \n",
       "1308500   @gatacherosaxd tá dengue amor kk pq ficar aqu...  201253  \n",
       "1308501   @manumatos_f to pos dengue..kkk ms vier aki m...  201253  \n",
       "1308502                       mosquito dengue tela not vdd  201253  \n",
       "1308503   “@omarrdguez: taquitos huimanguillo empezar c...  201253  "
      ]
     },
     "execution_count": 150,
     "metadata": {},
     "output_type": "execute_result"
    }
   ],
   "source": [
    "data.tail()"
   ]
  },
  {
   "cell_type": "markdown",
   "metadata": {},
   "source": [
    "# Infodengue\n",
    "The research comprises 12 cities:\n",
    "* Belém, Belo Horizonte, Brasília,Fortaleza, Manaus, Natal, Rio Branco, Rio de Janeiro, São Paulo, Londrina, Niterói, Ribeirão Preto.\n",
    "* Source of geocodes: https://ww2.ibge.gov.br/home/geociencias/geografia/redes_fluxos/gestao_do_territorio_2014/base.shtm\n",
    "* File of the geocodes: Base_de_dados_dos_municipios.xls"
   ]
  },
  {
   "cell_type": "markdown",
   "metadata": {},
   "source": [
    "### geocodes"
   ]
  },
  {
   "cell_type": "code",
   "execution_count": 33,
   "metadata": {},
   "outputs": [],
   "source": [
    "resultado_2012 = os.path.join(inputs, 'Base_de_dados_dos_municipios.xls')\n",
    "geocodes_BR = pd.read_excel (cities_file)\n",
    "geocodes_BR = geocodes_BR[['UF', 'Codmundv', 'NomeMunic']]"
   ]
  },
  {
   "cell_type": "markdown",
   "metadata": {},
   "source": [
    "### infodengue - Rio de Janeiro"
   ]
  },
  {
   "cell_type": "code",
   "execution_count": 34,
   "metadata": {},
   "outputs": [
    {
     "name": "stdout",
     "output_type": "stream",
     "text": [
      "Success!\n"
     ]
    }
   ],
   "source": [
    "municipality= 'Rio de Janeiro'.upper()\n",
    "geocode_row = geocodes_BR.loc[geocodes_BR['NomeMunic'] == municipality]\n",
    "geocode = list(geocode_row.iloc[:,1])[0]\n",
    "url = 'https://info.dengue.mat.br/api/alertcity/?geocode=3304557&disease=dengue&format=csv&ew_start=47&ey_start=2010&ew_end=53&ey_end=2012'\n",
    "r = requests.get(url)\n",
    "if r:\n",
    "    print('Success!')\n",
    "else:\n",
    "    print('An error has occurred.')"
   ]
  },
  {
   "cell_type": "code",
   "execution_count": 35,
   "metadata": {},
   "outputs": [
    {
     "data": {
      "text/plain": [
       "{'X-Frame-Options': 'SAMEORIGIN', 'Content-Encoding': 'gzip', 'Content-Language': 'pt-br', 'Content-Type': 'text/plain', 'Date': 'Sun, 07 Jul 2019 21:58:45 GMT', 'Server': 'nginx/1.4.6 (Ubuntu)', 'Vary': 'Accept-Language, Cookie, Accept-Encoding', 'Connection': 'keep-alive', 'Content-Length': '28093'}"
      ]
     },
     "execution_count": 35,
     "metadata": {},
     "output_type": "execute_result"
    }
   ],
   "source": [
    "r.headers"
   ]
  },
  {
   "cell_type": "code",
   "execution_count": 36,
   "metadata": {},
   "outputs": [],
   "source": [
    "r = r.text.split('\\n')"
   ]
  },
  {
   "cell_type": "code",
   "execution_count": 37,
   "metadata": {},
   "outputs": [],
   "source": [
    "count = 0\n",
    "for row in r:\n",
    "    split_row = row.split(',')\n",
    "    r[count] = split_row\n",
    "    count += 1\n",
    "headers = r.pop(0)"
   ]
  },
  {
   "cell_type": "code",
   "execution_count": 38,
   "metadata": {},
   "outputs": [
    {
     "data": {
      "text/html": [
       "<div>\n",
       "<style scoped>\n",
       "    .dataframe tbody tr th:only-of-type {\n",
       "        vertical-align: middle;\n",
       "    }\n",
       "\n",
       "    .dataframe tbody tr th {\n",
       "        vertical-align: top;\n",
       "    }\n",
       "\n",
       "    .dataframe thead th {\n",
       "        text-align: right;\n",
       "    }\n",
       "</style>\n",
       "<table border=\"1\" class=\"dataframe\">\n",
       "  <thead>\n",
       "    <tr style=\"text-align: right;\">\n",
       "      <th></th>\n",
       "      <th>se</th>\n",
       "      <th>data</th>\n",
       "      <th>tweets</th>\n",
       "      <th>casos</th>\n",
       "    </tr>\n",
       "  </thead>\n",
       "  <tbody>\n",
       "    <tr>\n",
       "      <th>0</th>\n",
       "      <td>201112</td>\n",
       "      <td>2011-03-20</td>\n",
       "      <td></td>\n",
       "      <td>530</td>\n",
       "    </tr>\n",
       "    <tr>\n",
       "      <th>1</th>\n",
       "      <td>201135</td>\n",
       "      <td>2011-08-28</td>\n",
       "      <td></td>\n",
       "      <td>12</td>\n",
       "    </tr>\n",
       "    <tr>\n",
       "      <th>2</th>\n",
       "      <td>201206</td>\n",
       "      <td>2012-02-05</td>\n",
       "      <td></td>\n",
       "      <td>128</td>\n",
       "    </tr>\n",
       "    <tr>\n",
       "      <th>3</th>\n",
       "      <td>201230</td>\n",
       "      <td>2012-07-22</td>\n",
       "      <td></td>\n",
       "      <td>33</td>\n",
       "    </tr>\n",
       "    <tr>\n",
       "      <th>4</th>\n",
       "      <td>201104</td>\n",
       "      <td>2011-01-23</td>\n",
       "      <td></td>\n",
       "      <td>56</td>\n",
       "    </tr>\n",
       "  </tbody>\n",
       "</table>\n",
       "</div>"
      ],
      "text/plain": [
       "       se        data tweets casos\n",
       "0  201112  2011-03-20          530\n",
       "1  201135  2011-08-28           12\n",
       "2  201206  2012-02-05          128\n",
       "3  201230  2012-07-22           33\n",
       "4  201104  2011-01-23           56"
      ]
     },
     "execution_count": 38,
     "metadata": {},
     "output_type": "execute_result"
    }
   ],
   "source": [
    "infodengue = pd.DataFrame(r, columns=headers)\n",
    "infodengue = infodengue.iloc[:,2:6]\n",
    "infodengue.head()"
   ]
  },
  {
   "cell_type": "code",
   "execution_count": 39,
   "metadata": {},
   "outputs": [
    {
     "data": {
      "text/plain": [
       "(1101, 4)"
      ]
     },
     "execution_count": 39,
     "metadata": {},
     "output_type": "execute_result"
    }
   ],
   "source": [
    "infodengue.shape"
   ]
  },
  {
   "cell_type": "code",
   "execution_count": 40,
   "metadata": {},
   "outputs": [],
   "source": [
    "infodengue['casos'] = infodengue['casos'].fillna(0).astype(int)"
   ]
  },
  {
   "cell_type": "code",
   "execution_count": 41,
   "metadata": {},
   "outputs": [],
   "source": [
    "infodengue = infodengue.groupby(['se']).sum()\n",
    "infodengue = infodengue.reset_index()"
   ]
  },
  {
   "cell_type": "code",
   "execution_count": 42,
   "metadata": {},
   "outputs": [
    {
     "data": {
      "text/html": [
       "<div>\n",
       "<style scoped>\n",
       "    .dataframe tbody tr th:only-of-type {\n",
       "        vertical-align: middle;\n",
       "    }\n",
       "\n",
       "    .dataframe tbody tr th {\n",
       "        vertical-align: top;\n",
       "    }\n",
       "\n",
       "    .dataframe thead th {\n",
       "        text-align: right;\n",
       "    }\n",
       "</style>\n",
       "<table border=\"1\" class=\"dataframe\">\n",
       "  <thead>\n",
       "    <tr style=\"text-align: right;\">\n",
       "      <th></th>\n",
       "      <th>se</th>\n",
       "      <th>casos</th>\n",
       "    </tr>\n",
       "  </thead>\n",
       "  <tbody>\n",
       "    <tr>\n",
       "      <th>0</th>\n",
       "      <td>201047</td>\n",
       "      <td>74</td>\n",
       "    </tr>\n",
       "    <tr>\n",
       "      <th>1</th>\n",
       "      <td>201048</td>\n",
       "      <td>93</td>\n",
       "    </tr>\n",
       "    <tr>\n",
       "      <th>2</th>\n",
       "      <td>201049</td>\n",
       "      <td>149</td>\n",
       "    </tr>\n",
       "    <tr>\n",
       "      <th>3</th>\n",
       "      <td>201050</td>\n",
       "      <td>195</td>\n",
       "    </tr>\n",
       "    <tr>\n",
       "      <th>4</th>\n",
       "      <td>201051</td>\n",
       "      <td>155</td>\n",
       "    </tr>\n",
       "  </tbody>\n",
       "</table>\n",
       "</div>"
      ],
      "text/plain": [
       "       se  casos\n",
       "0  201047     74\n",
       "1  201048     93\n",
       "2  201049    149\n",
       "3  201050    195\n",
       "4  201051    155"
      ]
     },
     "execution_count": 42,
     "metadata": {},
     "output_type": "execute_result"
    }
   ],
   "source": [
    "infodengue.head()"
   ]
  },
  {
   "cell_type": "raw",
   "metadata": {},
   "source": [
    "infodengue_file = os.path.join(main_inputs, 'infodengue.pkl')\n",
    "pickle.dump(infodengue, open(infodengue_file, 'wb'))"
   ]
  },
  {
   "cell_type": "code",
   "execution_count": null,
   "metadata": {},
   "outputs": [],
   "source": [
    "# check epidemiologic week consistency\n",
    "df_week_pairs = list(zip(list(infodengue['se']), list(infodengue['data'])))\n",
    "const_week_pairs = list(zip(ep_week_lst, dates))"
   ]
  },
  {
   "cell_type": "code",
   "execution_count": null,
   "metadata": {},
   "outputs": [],
   "source": [
    "consistent = True\n",
    "for i in df_week_pairs: \n",
    "    if i not in const_week_pairs and i != (None, None):\n",
    "        consistent = False\n",
    "        print('Please, check the epidemic weeks construction again')\n",
    "        break\n",
    "if consistent: print('Weeks were correctly built')"
   ]
  },
  {
   "cell_type": "code",
   "execution_count": 185,
   "metadata": {},
   "outputs": [],
   "source": [
    "infodengue = infodengue.groupby(['se']).sum()\n",
    "infodengue = infodengue.reset_index()"
   ]
  },
  {
   "cell_type": "code",
   "execution_count": 186,
   "metadata": {},
   "outputs": [
    {
     "data": {
      "text/html": [
       "<div>\n",
       "<style scoped>\n",
       "    .dataframe tbody tr th:only-of-type {\n",
       "        vertical-align: middle;\n",
       "    }\n",
       "\n",
       "    .dataframe tbody tr th {\n",
       "        vertical-align: top;\n",
       "    }\n",
       "\n",
       "    .dataframe thead th {\n",
       "        text-align: right;\n",
       "    }\n",
       "</style>\n",
       "<table border=\"1\" class=\"dataframe\">\n",
       "  <thead>\n",
       "    <tr style=\"text-align: right;\">\n",
       "      <th></th>\n",
       "      <th>se</th>\n",
       "      <th>casos</th>\n",
       "    </tr>\n",
       "  </thead>\n",
       "  <tbody>\n",
       "    <tr>\n",
       "      <th>0</th>\n",
       "      <td>201047</td>\n",
       "      <td>74</td>\n",
       "    </tr>\n",
       "    <tr>\n",
       "      <th>1</th>\n",
       "      <td>201048</td>\n",
       "      <td>93</td>\n",
       "    </tr>\n",
       "    <tr>\n",
       "      <th>2</th>\n",
       "      <td>201049</td>\n",
       "      <td>149</td>\n",
       "    </tr>\n",
       "    <tr>\n",
       "      <th>3</th>\n",
       "      <td>201050</td>\n",
       "      <td>195</td>\n",
       "    </tr>\n",
       "    <tr>\n",
       "      <th>4</th>\n",
       "      <td>201051</td>\n",
       "      <td>155</td>\n",
       "    </tr>\n",
       "  </tbody>\n",
       "</table>\n",
       "</div>"
      ],
      "text/plain": [
       "       se  casos\n",
       "0  201047     74\n",
       "1  201048     93\n",
       "2  201049    149\n",
       "3  201050    195\n",
       "4  201051    155"
      ]
     },
     "execution_count": 186,
     "metadata": {},
     "output_type": "execute_result"
    }
   ],
   "source": [
    "infodengue.head()"
   ]
  },
  {
   "cell_type": "markdown",
   "metadata": {},
   "source": [
    "### group tweet data by week, and filter irrelevant columns"
   ]
  },
  {
   "cell_type": "code",
   "execution_count": 187,
   "metadata": {},
   "outputs": [],
   "source": [
    "data = data[['message_nostopwords', 'se']]"
   ]
  },
  {
   "cell_type": "code",
   "execution_count": 188,
   "metadata": {},
   "outputs": [],
   "source": [
    "data = data.groupby(['se'])['message_nostopwords'].apply(lambda x: ' '.join(x))"
   ]
  },
  {
   "cell_type": "code",
   "execution_count": 189,
   "metadata": {},
   "outputs": [],
   "source": [
    "data = pd.DataFrame(data)"
   ]
  },
  {
   "cell_type": "code",
   "execution_count": 190,
   "metadata": {},
   "outputs": [],
   "source": [
    "data_bak = data.copy()"
   ]
  },
  {
   "cell_type": "code",
   "execution_count": 191,
   "metadata": {},
   "outputs": [
    {
     "data": {
      "text/html": [
       "<div>\n",
       "<style scoped>\n",
       "    .dataframe tbody tr th:only-of-type {\n",
       "        vertical-align: middle;\n",
       "    }\n",
       "\n",
       "    .dataframe tbody tr th {\n",
       "        vertical-align: top;\n",
       "    }\n",
       "\n",
       "    .dataframe thead th {\n",
       "        text-align: right;\n",
       "    }\n",
       "</style>\n",
       "<table border=\"1\" class=\"dataframe\">\n",
       "  <thead>\n",
       "    <tr style=\"text-align: right;\">\n",
       "      <th></th>\n",
       "      <th>message_nostopwords</th>\n",
       "    </tr>\n",
       "    <tr>\n",
       "      <th>se</th>\n",
       "      <th></th>\n",
       "    </tr>\n",
       "  </thead>\n",
       "  <tbody>\n",
       "    <tr>\n",
       "      <th>201002</th>\n",
       "      <td>aqui casa repelente estocado deus livre pegar...</td>\n",
       "    </tr>\n",
       "    <tr>\n",
       "      <th>201006</th>\n",
       "      <td>rt @souintelijente: urgente alerta informar m...</td>\n",
       "    </tr>\n",
       "    <tr>\n",
       "      <th>201010</th>\n",
       "      <td>lol rt @dropsbh: @aakkari praga perto dengue ...</td>\n",
       "    </tr>\n",
       "    <tr>\n",
       "      <th>201015</th>\n",
       "      <td>@gehalls xiii dengue!  @felipeazevedo10 to de...</td>\n",
       "    </tr>\n",
       "    <tr>\n",
       "      <th>201019</th>\n",
       "      <td>campanha combate dengue \"tropa\" trocou branco...</td>\n",
       "    </tr>\n",
       "  </tbody>\n",
       "</table>\n",
       "</div>"
      ],
      "text/plain": [
       "                                      message_nostopwords\n",
       "se                                                       \n",
       "201002   aqui casa repelente estocado deus livre pegar...\n",
       "201006   rt @souintelijente: urgente alerta informar m...\n",
       "201010   lol rt @dropsbh: @aakkari praga perto dengue ...\n",
       "201015   @gehalls xiii dengue!  @felipeazevedo10 to de...\n",
       "201019   campanha combate dengue \"tropa\" trocou branco..."
      ]
     },
     "execution_count": 191,
     "metadata": {},
     "output_type": "execute_result"
    }
   ],
   "source": [
    "data_bak.head()"
   ]
  },
  {
   "cell_type": "code",
   "execution_count": 311,
   "metadata": {},
   "outputs": [],
   "source": [
    "data = data_bak"
   ]
  },
  {
   "cell_type": "markdown",
   "metadata": {},
   "source": [
    "# TF-IDF"
   ]
  },
  {
   "cell_type": "markdown",
   "metadata": {},
   "source": [
    "* https://www.kdnuggets.com/2018/08/wtf-tf-idf.html\n",
    "* using elastic search: https://stackoverflow.com/questions/42220764/elasticsearch-getting-the-tf-idf-of-every-term-in-a-given-document"
   ]
  },
  {
   "cell_type": "markdown",
   "metadata": {},
   "source": [
    "limitar por frequencia relativa\n",
    "\n",
    "tf/total de palavras"
   ]
  },
  {
   "cell_type": "code",
   "execution_count": 192,
   "metadata": {},
   "outputs": [],
   "source": [
    "tfidf = TfidfVectorizer(\n",
    "    analyzer='word')  "
   ]
  },
  {
   "cell_type": "code",
   "execution_count": 193,
   "metadata": {},
   "outputs": [
    {
     "data": {
      "text/plain": [
       "TfidfVectorizer(analyzer='word', binary=False, decode_error='strict',\n",
       "        dtype=<class 'numpy.float64'>, encoding='utf-8', input='content',\n",
       "        lowercase=True, max_df=1.0, max_features=None, min_df=1,\n",
       "        ngram_range=(1, 1), norm='l2', preprocessor=None, smooth_idf=True,\n",
       "        stop_words=None, strip_accents=None, sublinear_tf=False,\n",
       "        token_pattern='(?u)\\\\b\\\\w\\\\w+\\\\b', tokenizer=None, use_idf=True,\n",
       "        vocabulary=None)"
      ]
     },
     "execution_count": 193,
     "metadata": {},
     "output_type": "execute_result"
    }
   ],
   "source": [
    "tfidf.fit(data['message_nostopwords'])"
   ]
  },
  {
   "cell_type": "code",
   "execution_count": 194,
   "metadata": {},
   "outputs": [],
   "source": [
    "idf_counter = Counter()\n",
    "for text in data['message_nostopwords']:\n",
    "    words = set(text.lower().split())\n",
    "    idf_counter.update(words)\n",
    "    \n",
    "idf = {\n",
    "  word: math.log(len(data)/df, 2)\n",
    "  for word, df in idf_counter.items()\n",
    "}"
   ]
  },
  {
   "cell_type": "code",
   "execution_count": 195,
   "metadata": {},
   "outputs": [],
   "source": [
    "counter = Counter()\n",
    "for text in data['message_nostopwords']:\n",
    "    words = text.lower().split()\n",
    "    counter.update(words)"
   ]
  },
  {
   "cell_type": "code",
   "execution_count": 196,
   "metadata": {},
   "outputs": [],
   "source": [
    "tf_top = sorted(counter, key=counter.get)[-500:]"
   ]
  },
  {
   "cell_type": "code",
   "execution_count": 197,
   "metadata": {},
   "outputs": [],
   "source": [
    "idf_top = sorted(idf, key=idf.get)[:50]"
   ]
  },
  {
   "cell_type": "code",
   "execution_count": 198,
   "metadata": {},
   "outputs": [],
   "source": [
    "# nao funciona, pq idf foi zerado\n",
    "def tfidf(text, term):\n",
    "    text = text.lower().split()\n",
    "    \n",
    "    tfidf = 0\n",
    "    tf = 0\n",
    "    for word in text:\n",
    "        if word == term:\n",
    "            tf += 1\n",
    "    tfidf = (1 + math.log(tf, 2)) * idf[term]\n",
    "    #tfidf = idf[term]\n",
    "    return tfidf"
   ]
  },
  {
   "cell_type": "code",
   "execution_count": 199,
   "metadata": {},
   "outputs": [],
   "source": [
    "#usando freq absoluta\n",
    "def abs_tf(text, term):\n",
    "    text = text.lower().split()\n",
    "    \n",
    "    tf = 0\n",
    "    for word in text:\n",
    "        if word == term:\n",
    "            tf += 1\n",
    "    return tf"
   ]
  },
  {
   "cell_type": "raw",
   "metadata": {},
   "source": [
    "for term in idf_top:\n",
    "    data[term] = 0\n",
    "    data[term] = data['message_nostopwords'].apply(lambda text: tfidf(text, term))"
   ]
  },
  {
   "cell_type": "code",
   "execution_count": 200,
   "metadata": {},
   "outputs": [],
   "source": [
    "for term in tf_top:\n",
    "    data[term] = 0\n",
    "    data[term] = data['message_nostopwords'].apply(lambda text: abs_tf(text, term))"
   ]
  },
  {
   "cell_type": "markdown",
   "metadata": {},
   "source": [
    "# pickle files"
   ]
  },
  {
   "cell_type": "code",
   "execution_count": 13,
   "metadata": {},
   "outputs": [],
   "source": [
    "resultado_2012_TFs = os.path.join(main_inputs, 'resultado_2012_TFs.pkl')"
   ]
  },
  {
   "cell_type": "raw",
   "metadata": {},
   "source": [
    "pickle.dump(data, open(resultado_2012_TFs, 'wb'))"
   ]
  },
  {
   "cell_type": "code",
   "execution_count": 14,
   "metadata": {},
   "outputs": [],
   "source": [
    "data = pickle.load(open(resultado_2012_TFs, 'rb'))"
   ]
  },
  {
   "cell_type": "code",
   "execution_count": 15,
   "metadata": {},
   "outputs": [
    {
     "data": {
      "text/plain": [
       "501"
      ]
     },
     "execution_count": 15,
     "metadata": {},
     "output_type": "execute_result"
    }
   ],
   "source": [
    "len(data.columns)"
   ]
  },
  {
   "cell_type": "markdown",
   "metadata": {},
   "source": [
    "# Data split"
   ]
  },
  {
   "cell_type": "code",
   "execution_count": 16,
   "metadata": {},
   "outputs": [],
   "source": [
    "from sklearn.model_selection import train_test_split"
   ]
  },
  {
   "cell_type": "code",
   "execution_count": 57,
   "metadata": {},
   "outputs": [],
   "source": [
    "infodengue = pickle.load(open(infodengue_file, 'rb'))"
   ]
  },
  {
   "cell_type": "code",
   "execution_count": 49,
   "metadata": {},
   "outputs": [],
   "source": [
    "infodengue = infodengue.rename(index=str, columns={\"casos\": \"y\"})"
   ]
  },
  {
   "cell_type": "code",
   "execution_count": 50,
   "metadata": {},
   "outputs": [],
   "source": [
    "data = pd.merge(data, infodengue, on='se', how='inner')"
   ]
  },
  {
   "cell_type": "code",
   "execution_count": 51,
   "metadata": {},
   "outputs": [
    {
     "data": {
      "text/plain": [
       "Index(['un', 'casas', 'sendo', 'parar', 'amanha', ':d', 'pessoal', 'gostosa',\n",
       "       'proliferação', 'pneu',\n",
       "       ...\n",
       "       'água', 'pra', 'ta', 'parada', 'contra', 'casos', 'mosquito', 'não',\n",
       "       'rt', 'dengue'],\n",
       "      dtype='object', length=500)"
      ]
     },
     "execution_count": 51,
     "metadata": {},
     "output_type": "execute_result"
    }
   ],
   "source": [
    "x_variables = data.columns[2:-1]\n",
    "x_variables"
   ]
  },
  {
   "cell_type": "raw",
   "metadata": {},
   "source": [
    "X = pd.merge(X, y, on='se', how='inner')"
   ]
  },
  {
   "cell_type": "code",
   "execution_count": 52,
   "metadata": {},
   "outputs": [],
   "source": [
    "y = data.iloc[:, -1:]"
   ]
  },
  {
   "cell_type": "code",
   "execution_count": 53,
   "metadata": {},
   "outputs": [],
   "source": [
    "X = data.iloc[:, 2:-1]"
   ]
  },
  {
   "cell_type": "code",
   "execution_count": 54,
   "metadata": {},
   "outputs": [
    {
     "data": {
      "text/html": [
       "<div>\n",
       "<style scoped>\n",
       "    .dataframe tbody tr th:only-of-type {\n",
       "        vertical-align: middle;\n",
       "    }\n",
       "\n",
       "    .dataframe tbody tr th {\n",
       "        vertical-align: top;\n",
       "    }\n",
       "\n",
       "    .dataframe thead th {\n",
       "        text-align: right;\n",
       "    }\n",
       "</style>\n",
       "<table border=\"1\" class=\"dataframe\">\n",
       "  <thead>\n",
       "    <tr style=\"text-align: right;\">\n",
       "      <th></th>\n",
       "      <th>un</th>\n",
       "      <th>casas</th>\n",
       "      <th>sendo</th>\n",
       "      <th>parar</th>\n",
       "      <th>amanha</th>\n",
       "      <th>:d</th>\n",
       "      <th>pessoal</th>\n",
       "      <th>gostosa</th>\n",
       "      <th>proliferação</th>\n",
       "      <th>pneu</th>\n",
       "      <th>...</th>\n",
       "      <th>água</th>\n",
       "      <th>pra</th>\n",
       "      <th>ta</th>\n",
       "      <th>parada</th>\n",
       "      <th>contra</th>\n",
       "      <th>casos</th>\n",
       "      <th>mosquito</th>\n",
       "      <th>não</th>\n",
       "      <th>rt</th>\n",
       "      <th>dengue</th>\n",
       "    </tr>\n",
       "  </thead>\n",
       "  <tbody>\n",
       "    <tr>\n",
       "      <th>0</th>\n",
       "      <td>15</td>\n",
       "      <td>10</td>\n",
       "      <td>22</td>\n",
       "      <td>45</td>\n",
       "      <td>14</td>\n",
       "      <td>36</td>\n",
       "      <td>26</td>\n",
       "      <td>0</td>\n",
       "      <td>27</td>\n",
       "      <td>30</td>\n",
       "      <td>...</td>\n",
       "      <td>696</td>\n",
       "      <td>536</td>\n",
       "      <td>313</td>\n",
       "      <td>796</td>\n",
       "      <td>744</td>\n",
       "      <td>213</td>\n",
       "      <td>2809</td>\n",
       "      <td>1632</td>\n",
       "      <td>4405</td>\n",
       "      <td>7574</td>\n",
       "    </tr>\n",
       "    <tr>\n",
       "      <th>1</th>\n",
       "      <td>10</td>\n",
       "      <td>5</td>\n",
       "      <td>18</td>\n",
       "      <td>6</td>\n",
       "      <td>1</td>\n",
       "      <td>3</td>\n",
       "      <td>7</td>\n",
       "      <td>0</td>\n",
       "      <td>13</td>\n",
       "      <td>6</td>\n",
       "      <td>...</td>\n",
       "      <td>131</td>\n",
       "      <td>127</td>\n",
       "      <td>87</td>\n",
       "      <td>115</td>\n",
       "      <td>157</td>\n",
       "      <td>26</td>\n",
       "      <td>265</td>\n",
       "      <td>269</td>\n",
       "      <td>495</td>\n",
       "      <td>1528</td>\n",
       "    </tr>\n",
       "    <tr>\n",
       "      <th>2</th>\n",
       "      <td>8</td>\n",
       "      <td>17</td>\n",
       "      <td>17</td>\n",
       "      <td>68</td>\n",
       "      <td>19</td>\n",
       "      <td>28</td>\n",
       "      <td>29</td>\n",
       "      <td>3</td>\n",
       "      <td>44</td>\n",
       "      <td>24</td>\n",
       "      <td>...</td>\n",
       "      <td>315</td>\n",
       "      <td>363</td>\n",
       "      <td>266</td>\n",
       "      <td>245</td>\n",
       "      <td>495</td>\n",
       "      <td>250</td>\n",
       "      <td>738</td>\n",
       "      <td>815</td>\n",
       "      <td>1489</td>\n",
       "      <td>4832</td>\n",
       "    </tr>\n",
       "    <tr>\n",
       "      <th>3</th>\n",
       "      <td>9</td>\n",
       "      <td>5</td>\n",
       "      <td>15</td>\n",
       "      <td>44</td>\n",
       "      <td>4</td>\n",
       "      <td>10</td>\n",
       "      <td>14</td>\n",
       "      <td>1</td>\n",
       "      <td>16</td>\n",
       "      <td>6</td>\n",
       "      <td>...</td>\n",
       "      <td>599</td>\n",
       "      <td>214</td>\n",
       "      <td>185</td>\n",
       "      <td>670</td>\n",
       "      <td>291</td>\n",
       "      <td>131</td>\n",
       "      <td>662</td>\n",
       "      <td>473</td>\n",
       "      <td>2565</td>\n",
       "      <td>4628</td>\n",
       "    </tr>\n",
       "    <tr>\n",
       "      <th>4</th>\n",
       "      <td>18</td>\n",
       "      <td>52</td>\n",
       "      <td>53</td>\n",
       "      <td>50</td>\n",
       "      <td>58</td>\n",
       "      <td>44</td>\n",
       "      <td>63</td>\n",
       "      <td>319</td>\n",
       "      <td>69</td>\n",
       "      <td>33</td>\n",
       "      <td>...</td>\n",
       "      <td>631</td>\n",
       "      <td>1679</td>\n",
       "      <td>949</td>\n",
       "      <td>710</td>\n",
       "      <td>1347</td>\n",
       "      <td>1269</td>\n",
       "      <td>1825</td>\n",
       "      <td>2671</td>\n",
       "      <td>5392</td>\n",
       "      <td>13926</td>\n",
       "    </tr>\n",
       "  </tbody>\n",
       "</table>\n",
       "<p>5 rows × 500 columns</p>\n",
       "</div>"
      ],
      "text/plain": [
       "   un  casas  sendo  parar  amanha  :d  pessoal  gostosa  proliferação  pneu  \\\n",
       "0  15     10     22     45      14  36       26        0            27    30   \n",
       "1  10      5     18      6       1   3        7        0            13     6   \n",
       "2   8     17     17     68      19  28       29        3            44    24   \n",
       "3   9      5     15     44       4  10       14        1            16     6   \n",
       "4  18     52     53     50      58  44       63      319            69    33   \n",
       "\n",
       "    ...    água   pra   ta  parada  contra  casos  mosquito   não    rt  \\\n",
       "0   ...     696   536  313     796     744    213      2809  1632  4405   \n",
       "1   ...     131   127   87     115     157     26       265   269   495   \n",
       "2   ...     315   363  266     245     495    250       738   815  1489   \n",
       "3   ...     599   214  185     670     291    131       662   473  2565   \n",
       "4   ...     631  1679  949     710    1347   1269      1825  2671  5392   \n",
       "\n",
       "   dengue  \n",
       "0    7574  \n",
       "1    1528  \n",
       "2    4832  \n",
       "3    4628  \n",
       "4   13926  \n",
       "\n",
       "[5 rows x 500 columns]"
      ]
     },
     "execution_count": 54,
     "metadata": {},
     "output_type": "execute_result"
    }
   ],
   "source": [
    "X.head()"
   ]
  },
  {
   "cell_type": "code",
   "execution_count": 55,
   "metadata": {},
   "outputs": [
    {
     "data": {
      "text/html": [
       "<div>\n",
       "<style scoped>\n",
       "    .dataframe tbody tr th:only-of-type {\n",
       "        vertical-align: middle;\n",
       "    }\n",
       "\n",
       "    .dataframe tbody tr th {\n",
       "        vertical-align: top;\n",
       "    }\n",
       "\n",
       "    .dataframe thead th {\n",
       "        text-align: right;\n",
       "    }\n",
       "</style>\n",
       "<table border=\"1\" class=\"dataframe\">\n",
       "  <thead>\n",
       "    <tr style=\"text-align: right;\">\n",
       "      <th></th>\n",
       "      <th>y</th>\n",
       "    </tr>\n",
       "  </thead>\n",
       "  <tbody>\n",
       "    <tr>\n",
       "      <th>0</th>\n",
       "      <td>74</td>\n",
       "    </tr>\n",
       "    <tr>\n",
       "      <th>1</th>\n",
       "      <td>93</td>\n",
       "    </tr>\n",
       "    <tr>\n",
       "      <th>2</th>\n",
       "      <td>195</td>\n",
       "    </tr>\n",
       "    <tr>\n",
       "      <th>3</th>\n",
       "      <td>155</td>\n",
       "    </tr>\n",
       "    <tr>\n",
       "      <th>4</th>\n",
       "      <td>212</td>\n",
       "    </tr>\n",
       "  </tbody>\n",
       "</table>\n",
       "</div>"
      ],
      "text/plain": [
       "     y\n",
       "0   74\n",
       "1   93\n",
       "2  195\n",
       "3  155\n",
       "4  212"
      ]
     },
     "execution_count": 55,
     "metadata": {},
     "output_type": "execute_result"
    }
   ],
   "source": [
    "y.head()"
   ]
  },
  {
   "cell_type": "code",
   "execution_count": 58,
   "metadata": {},
   "outputs": [],
   "source": [
    "X_train, X_test, y_train, y_test = train_test_split(X, y, test_size = 0.3, random_state=0, shuffle=False)"
   ]
  },
  {
   "cell_type": "markdown",
   "metadata": {},
   "source": [
    "# Lasso regression\n",
    "Using Lasso to choose the most relevant terms"
   ]
  },
  {
   "cell_type": "code",
   "execution_count": 59,
   "metadata": {},
   "outputs": [],
   "source": [
    "from sklearn.linear_model import Lasso\n",
    "from sklearn.linear_model import LassoLarsIC"
   ]
  },
  {
   "cell_type": "code",
   "execution_count": null,
   "metadata": {},
   "outputs": [],
   "source": [
    "print_vars(lasso_coef, 0.8)"
   ]
  },
  {
   "cell_type": "code",
   "execution_count": null,
   "metadata": {},
   "outputs": [],
   "source": [
    "for coef in lasso_coef:\n",
    "    if abs(coef) > 0.8"
   ]
  },
  {
   "cell_type": "code",
   "execution_count": 68,
   "metadata": {},
   "outputs": [],
   "source": [
    "def print_vars(coefs, threshold):\n",
    "    for coef in coefs:\n",
    "        if abs(coef) > threshold: print(x_variables[list(coefs).index(coef)])"
   ]
  },
  {
   "cell_type": "markdown",
   "metadata": {},
   "source": [
    "### define lassoIC functions"
   ]
  },
  {
   "cell_type": "code",
   "execution_count": 292,
   "metadata": {},
   "outputs": [],
   "source": [
    "def plot_lassoIC_coef(X, y, criterion):\n",
    "    lassoic = LassoLarsIC(criterion=criterion)\n",
    "    \n",
    "    # Fit the regressor to the data\n",
    "    lassoic.fit(X, y)\n",
    "    \n",
    "    # Compute and print the coefficients\n",
    "    lasso_coef = lassoic.coef_ \n",
    "    #print('lasso coefficients: \\r\\n', lasso_coef)\n",
    "    \n",
    "    # Plot the coefficients\n",
    "    plt.figure(figsize=(16,5))\n",
    "    plt.plot(range(len(lasso_coef)), lasso_coef)\n",
    "    plt.xticks(rotation=60)\n",
    "    plt.xlabel(\"Variable\")\n",
    "    plt.ylabel(\"Lasso coefficient\")\n",
    "    plt.margins(0.02)\n",
    "    plt.show()\n",
    "    return lasso_coef"
   ]
  },
  {
   "cell_type": "code",
   "execution_count": 234,
   "metadata": {},
   "outputs": [],
   "source": [
    "Xs = [data.iloc[:, 1:51], data.iloc[:, 1:-1]]"
   ]
  },
  {
   "cell_type": "markdown",
   "metadata": {},
   "source": [
    "### working with 500 features"
   ]
  },
  {
   "cell_type": "markdown",
   "metadata": {},
   "source": [
    "#### lassoIC (AIC)"
   ]
  },
  {
   "cell_type": "code",
   "execution_count": null,
   "metadata": {},
   "outputs": [],
   "source": [
    "criterion='aic'"
   ]
  },
  {
   "cell_type": "code",
   "execution_count": 291,
   "metadata": {},
   "outputs": [],
   "source": [
    "lassoic = LassoLarsIC(criterion=criterion)\n",
    "lassoic.fit(X, y)"
   ]
  },
  {
   "cell_type": "code",
   "execution_count": 293,
   "metadata": {},
   "outputs": [
    {
     "name": "stderr",
     "output_type": "stream",
     "text": [
      "D:\\Users\\Marcelo\\Anaconda3\\lib\\site-packages\\sklearn\\utils\\validation.py:761: DataConversionWarning: A column-vector y was passed when a 1d array was expected. Please change the shape of y to (n_samples, ), for example using ravel().\n",
      "  y = column_or_1d(y, warn=True)\n"
     ]
    },
    {
     "data": {
      "text/plain": [
       "LassoLarsIC(copy_X=True, criterion='aic', eps=2.220446049250313e-16,\n",
       "      fit_intercept=True, max_iter=500, normalize=True, positive=False,\n",
       "      precompute='auto', verbose=False)"
      ]
     },
     "execution_count": 293,
     "metadata": {},
     "output_type": "execute_result"
    }
   ],
   "source": [
    "lassoic.score(X,y)"
   ]
  },
  {
   "cell_type": "code",
   "execution_count": 282,
   "metadata": {},
   "outputs": [
    {
     "name": "stdout",
     "output_type": "stream",
     "text": [
      "alpha using LassoLarsIC is: 176.25895643390677\n"
     ]
    }
   ],
   "source": [
    "print('alpha using LassoLarsIC is:', lassoic.alpha_)"
   ]
  },
  {
   "cell_type": "code",
   "execution_count": 283,
   "metadata": {
    "scrolled": true
   },
   "outputs": [
    {
     "name": "stderr",
     "output_type": "stream",
     "text": [
      "D:\\Users\\Marcelo\\Anaconda3\\lib\\site-packages\\sklearn\\utils\\validation.py:761: DataConversionWarning: A column-vector y was passed when a 1d array was expected. Please change the shape of y to (n_samples, ), for example using ravel().\n",
      "  y = column_or_1d(y, warn=True)\n"
     ]
    },
    {
     "data": {
      "image/png": "[encoded data removed]",
      "text/plain": [
       "<Figure size 1152x360 with 1 Axes>"
      ]
     },
     "metadata": {
      "needs_background": "light"
     },
     "output_type": "display_data"
    }
   ],
   "source": [
    "lasso_coef_IC = plot_lassoIC_coef(X,y, criterion)"
   ]
  },
  {
   "cell_type": "markdown",
   "metadata": {},
   "source": [
    "#### lassoIC (BIC)"
   ]
  },
  {
   "cell_type": "code",
   "execution_count": null,
   "metadata": {},
   "outputs": [],
   "source": [
    "criterion='bic'"
   ]
  },
  {
   "cell_type": "code",
   "execution_count": 291,
   "metadata": {},
   "outputs": [],
   "source": [
    "lassoic = LassoLarsIC(criterion=criterion)\n",
    "lassoic.fit(X, y)"
   ]
  },
  {
   "cell_type": "code",
   "execution_count": 293,
   "metadata": {},
   "outputs": [
    {
     "name": "stderr",
     "output_type": "stream",
     "text": [
      "D:\\Users\\Marcelo\\Anaconda3\\lib\\site-packages\\sklearn\\utils\\validation.py:761: DataConversionWarning: A column-vector y was passed when a 1d array was expected. Please change the shape of y to (n_samples, ), for example using ravel().\n",
      "  y = column_or_1d(y, warn=True)\n"
     ]
    },
    {
     "data": {
      "text/plain": [
       "LassoLarsIC(copy_X=True, criterion='aic', eps=2.220446049250313e-16,\n",
       "      fit_intercept=True, max_iter=500, normalize=True, positive=False,\n",
       "      precompute='auto', verbose=False)"
      ]
     },
     "execution_count": 293,
     "metadata": {},
     "output_type": "execute_result"
    }
   ],
   "source": [
    "lassoic.score(X,y)"
   ]
  },
  {
   "cell_type": "code",
   "execution_count": 282,
   "metadata": {},
   "outputs": [
    {
     "name": "stdout",
     "output_type": "stream",
     "text": [
      "alpha using LassoLarsIC is: 176.25895643390677\n"
     ]
    }
   ],
   "source": [
    "print('alpha using LassoLarsIC is:', lassoic.alpha_)"
   ]
  },
  {
   "cell_type": "code",
   "execution_count": 283,
   "metadata": {
    "scrolled": true
   },
   "outputs": [
    {
     "name": "stderr",
     "output_type": "stream",
     "text": [
      "D:\\Users\\Marcelo\\Anaconda3\\lib\\site-packages\\sklearn\\utils\\validation.py:761: DataConversionWarning: A column-vector y was passed when a 1d array was expected. Please change the shape of y to (n_samples, ), for example using ravel().\n",
      "  y = column_or_1d(y, warn=True)\n"
     ]
    },
    {
     "data": {
      "image/png": "[encoded data removed]",
      "text/plain": [
       "<Figure size 1152x360 with 1 Axes>"
      ]
     },
     "metadata": {
      "needs_background": "light"
     },
     "output_type": "display_data"
    }
   ],
   "source": [
    "lasso_coef_IC = plot_lassoIC_coef(X,y, criterion)"
   ]
  },
  {
   "cell_type": "code",
   "execution_count": null,
   "metadata": {},
   "outputs": [],
   "source": [
    "print_vars(lasso_coef_IC, 0.8)"
   ]
  },
  {
   "cell_type": "markdown",
   "metadata": {},
   "source": [
    "#### Plot information criteria"
   ]
  },
  {
   "cell_type": "code",
   "execution_count": 70,
   "metadata": {},
   "outputs": [],
   "source": [
    "X = data.iloc[:, 1:-1]\n",
    "X = remove_vars(X, lasso_coef, 1)"
   ]
  },
  {
   "cell_type": "code",
   "execution_count": 100,
   "metadata": {},
   "outputs": [
    {
     "data": {
      "text/plain": [
       "1.0"
      ]
     },
     "execution_count": 100,
     "metadata": {},
     "output_type": "execute_result"
    }
   ],
   "source": [
    "-np.log10(0.1)"
   ]
  },
  {
   "cell_type": "code",
   "execution_count": 107,
   "metadata": {},
   "outputs": [
    {
     "name": "stdout",
     "output_type": "stream",
     "text": [
      "Automatically created module for IPython interactive environment\n"
     ]
    },
    {
     "data": {
      "image/png": "[encoded data removed]",
      "text/plain": [
       "<Figure size 432x288 with 1 Axes>"
      ]
     },
     "metadata": {
      "needs_background": "light"
     },
     "output_type": "display_data"
    }
   ],
   "source": [
    "# https://scikit-learn.org/stable/auto_examples/linear_model/plot_lasso_model_selection.html#sphx-glr-auto-examples-linear-model-plot-lasso-model-selection-py\n",
    "\n",
    "print(__doc__)\n",
    "\n",
    "# Author: Olivier Grisel, Gael Varoquaux, Alexandre Gramfort\n",
    "# License: BSD 3 clause\n",
    "\n",
    "import time\n",
    "\n",
    "import numpy as np\n",
    "import matplotlib.pyplot as plt\n",
    "\n",
    "from sklearn.linear_model import LassoCV, LassoLarsCV, LassoLarsIC\n",
    "from sklearn import datasets\n",
    "\n",
    "#diabetes = datasets.load_diabetes()\n",
    "#X = diabetes.data\n",
    "#y = diabetes.target\n",
    "\n",
    "rng = np.random.RandomState(42)\n",
    "X = np.c_[X, rng.randn(X.shape[0], 14)]  # add some bad features\n",
    "\n",
    "# normalize data as done by Lars to allow for comparison\n",
    "X /= np.sqrt(np.sum(X ** 2, axis=0))\n",
    "\n",
    "# #############################################################################\n",
    "# LassoLarsIC: least angle regression with BIC/AIC criterion\n",
    "\n",
    "model_bic = LassoLarsIC(criterion='bic')\n",
    "t1 = time.time()\n",
    "model_bic.fit(X, y)\n",
    "t_bic = time.time() - t1\n",
    "alpha_bic_ = model_bic.alpha_\n",
    "\n",
    "model_aic = LassoLarsIC(criterion='aic')\n",
    "model_aic.fit(X, y)\n",
    "alpha_aic_ = model_aic.alpha_\n",
    "\n",
    "\n",
    "def plot_ic_criterion(model, name, color):\n",
    "    alpha_ = model.alpha_\n",
    "    alphas_ = model.alphas_\n",
    "    #print('alphas_', alphas_) #print test\n",
    "    criterion_ = model.criterion_\n",
    "    plt.plot(-np.log10(alphas_), criterion_, '--', color=color,\n",
    "             linewidth=3, label='%s criterion' % name)\n",
    "    plt.axvline(-np.log10(alpha_), color=color, linewidth=3,\n",
    "                label='alpha: %s estimate' % name)\n",
    "    plt.xlabel('-log(alpha)')\n",
    "    plt.ylabel('criterion')\n",
    "\n",
    "plt.figure()\n",
    "plot_ic_criterion(model_aic, 'AIC', 'b')\n",
    "plot_ic_criterion(model_bic, 'BIC', 'r')\n",
    "plt.legend()\n",
    "plt.title('Information-criterion for model selection (training time %.3fs)'\n",
    "          % t_bic)\n",
    "\n",
    "plt.show()"
   ]
  },
  {
   "cell_type": "markdown",
   "metadata": {},
   "source": [
    "#### normal lasso"
   ]
  },
  {
   "cell_type": "code",
   "execution_count": 60,
   "metadata": {},
   "outputs": [],
   "source": [
    "def retrieve_lasso_alpha(X_, alpha_space):\n",
    "   # for X in Xs:\n",
    "    lasso_scores = []\n",
    "    lasso_scores_std = []\n",
    "    for alpha in alpha_space:\n",
    "    \n",
    "        # Specify the alpha value to use: lasso.alpha\n",
    "        lasso.alpha = alpha\n",
    "        \n",
    "        # Perform 5-fold CV: lasso_cv_scores\n",
    "        lasso_cv_scores = cross_val_score(lasso, X_, y, cv=5)\n",
    "        \n",
    "        # Append the mean of lasso_cv_scores to lasso_scores\n",
    "        lasso_scores.append(np.mean(lasso_cv_scores))\n",
    "        \n",
    "        # Append the std of lasso_cv_scores to lasso_scores_std\n",
    "        lasso_scores_std.append(np.std(lasso_cv_scores))\n",
    "    print(lasso_scores)\n",
    "    best_alpha = alpha_space[lasso_scores.index(max(lasso_scores))]\n",
    "    print(best_alpha)\n",
    "\n",
    "    return best_alpha"
   ]
  },
  {
   "cell_type": "code",
   "execution_count": 61,
   "metadata": {},
   "outputs": [],
   "source": [
    "def plot_lasso_coef(X, y, alpha):\n",
    "    lasso = Lasso(alpha=alpha, normalize=True)\n",
    "    \n",
    "    # Fit the regressor to the data\n",
    "    lasso.fit(X, y)\n",
    "    \n",
    "    # Compute and print the coefficients\n",
    "    lasso_coef = lasso.coef_ \n",
    "    #print('lasso coefficients: \\r\\n', lasso_coef)\n",
    "    \n",
    "    # Plot the coefficients\n",
    "    plt.figure(figsize=(16,5))\n",
    "    plt.plot(range(len(lasso_coef)), lasso_coef)\n",
    "    plt.xticks(rotation=60)\n",
    "    plt.xlabel(\"Variable\")\n",
    "    plt.ylabel(\"Lasso coefficient\")\n",
    "    plt.margins(0.02)\n",
    "    plt.show()\n",
    "    return lasso_coef"
   ]
  },
  {
   "cell_type": "code",
   "execution_count": 62,
   "metadata": {},
   "outputs": [],
   "source": [
    "alpha_space = np.logspace(-4, 0, 10)\n",
    "alpha_space = np.append(alpha_space,[5,10, 25, 50])"
   ]
  },
  {
   "cell_type": "code",
   "execution_count": 63,
   "metadata": {},
   "outputs": [],
   "source": [
    "lasso = Lasso(normalize=True)"
   ]
  },
  {
   "cell_type": "code",
   "execution_count": 64,
   "metadata": {},
   "outputs": [
    {
     "name": "stdout",
     "output_type": "stream",
     "text": [
      "[-894.1838383932006, -894.0070226327887, -893.507503056517, -892.029000598544, -761.5210043415993, -728.2988785377313, -750.5277987806355, -791.7031992405352, -597.5668527040336, -454.01614676432894, -403.22544701353, -352.43123092542316, -364.00715853972025, -299.832983948217]\n",
      "50.0\n"
     ]
    }
   ],
   "source": [
    "X = data.iloc[:, 2:-1]\n",
    "best_alpha = retrieve_lasso_alpha(X, alpha_space)"
   ]
  },
  {
   "cell_type": "raw",
   "metadata": {},
   "source": [
    "best_alpha = alpha_space[lasso_scores.index(max(lasso_scores))]\n",
    "best_alpha"
   ]
  },
  {
   "cell_type": "code",
   "execution_count": 65,
   "metadata": {},
   "outputs": [],
   "source": [
    "lasso = Lasso(alpha=best_alpha, normalize=True)"
   ]
  },
  {
   "cell_type": "code",
   "execution_count": 66,
   "metadata": {
    "scrolled": false
   },
   "outputs": [
    {
     "data": {
      "image/png": "[encoded data removed]",
      "text/plain": [
       "<Figure size 1152x360 with 1 Axes>"
      ]
     },
     "metadata": {},
     "output_type": "display_data"
    }
   ],
   "source": [
    "lasso_coef = plot_lasso_coef(X,y, best_alpha)"
   ]
  },
  {
   "cell_type": "code",
   "execution_count": 69,
   "metadata": {
    "scrolled": true
   },
   "outputs": [
    {
     "name": "stdout",
     "output_type": "stream",
     "text": [
      "ninguém\n",
      "galera\n",
      "en\n",
      "médica\n",
      "@dengue_ms:\n",
      "tendo\n",
      "soro\n",
      ":(\n"
     ]
    }
   ],
   "source": [
    "print_vars(lasso_coef, 0.8)"
   ]
  },
  {
   "cell_type": "code",
   "execution_count": 257,
   "metadata": {},
   "outputs": [
    {
     "data": {
      "text/plain": [
       "108"
      ]
     },
     "execution_count": 257,
     "metadata": {},
     "output_type": "execute_result"
    }
   ],
   "source": [
    "len(X)"
   ]
  },
  {
   "cell_type": "code",
   "execution_count": 310,
   "metadata": {
    "scrolled": false
   },
   "outputs": [
    {
     "data": {
      "image/png": "[encoded data removed]",
      "text/plain": [
       "<Figure size 1152x360 with 1 Axes>"
      ]
     },
     "metadata": {},
     "output_type": "display_data"
    }
   ],
   "source": [
    "lasso.fit(X_train, y_train)\n",
    "y_pred = lasso.predict(X_test)\n",
    "\n",
    "# Plot the coefficients\n",
    "plt.figure(figsize=(16,5))\n",
    "forecast_interval = range(len(y)-len(y_pred), len(y))\n",
    "plt.plot(forecast_interval, y_pred, 'r')\n",
    "plt.plot(range(len(y)), y, 'b')\n",
    "\n",
    "plt.xticks(np.arange(1, len(X), 5.0), rotation=60)\n",
    "plt.xlabel(\"week\")\n",
    "plt.ylabel(\"y\")\n",
    "plt.margins(0.02)\n",
    "plt.show()"
   ]
  },
  {
   "cell_type": "code",
   "execution_count": 319,
   "metadata": {
    "scrolled": true
   },
   "outputs": [
    {
     "data": {
      "text/plain": [
       "0.7734302440145373"
      ]
     },
     "execution_count": 319,
     "metadata": {},
     "output_type": "execute_result"
    }
   ],
   "source": [
    "lasso.score(X_test,y_test)"
   ]
  },
  {
   "cell_type": "markdown",
   "metadata": {},
   "source": [
    "## feature selection with tree-based models"
   ]
  },
  {
   "cell_type": "markdown",
   "metadata": {},
   "source": [
    "### decision tree"
   ]
  },
  {
   "cell_type": "code",
   "execution_count": 320,
   "metadata": {},
   "outputs": [],
   "source": [
    "from sklearn.tree import DecisionTreeClassifier"
   ]
  },
  {
   "cell_type": "code",
   "execution_count": 339,
   "metadata": {},
   "outputs": [],
   "source": [
    "clf_dt = DecisionTreeClassifier(random_state=0)"
   ]
  },
  {
   "cell_type": "code",
   "execution_count": 340,
   "metadata": {},
   "outputs": [
    {
     "data": {
      "image/png": "[encoded data removed]",
      "text/plain": [
       "<Figure size 1152x360 with 1 Axes>"
      ]
     },
     "metadata": {},
     "output_type": "display_data"
    }
   ],
   "source": [
    "clf_dt.fit(X_train, y_train)\n",
    "y_pred = clf_dt.predict(X_test)\n",
    "\n",
    "# Plot the coefficients\n",
    "plt.figure(figsize=(16,5))\n",
    "forecast_interval = range(len(y)-len(y_pred), len(y))\n",
    "plt.plot(forecast_interval, y_pred, 'r')\n",
    "plt.plot(range(len(y)), y, 'b')\n",
    "\n",
    "plt.xticks(np.arange(1, len(X), 5.0), rotation=60)\n",
    "plt.xlabel(\"week\")\n",
    "plt.ylabel(\"y\")\n",
    "plt.margins(0.02)\n",
    "plt.show()"
   ]
  },
  {
   "cell_type": "code",
   "execution_count": 341,
   "metadata": {},
   "outputs": [],
   "source": [
    "coefs = clf_dt.feature_importances_"
   ]
  },
  {
   "cell_type": "code",
   "execution_count": 344,
   "metadata": {
    "scrolled": true
   },
   "outputs": [
    {
     "name": "stdout",
     "output_type": "stream",
     "text": [
      "deixar\n",
      "morre\n",
      "saiba\n",
      "chega\n",
      "mundo\n",
      "dias\n",
      "\"esse\n",
      "nada\n",
      "dengue:\n",
      "\r\n",
      "total number of variables:  9\n"
     ]
    }
   ],
   "source": [
    "#thresholds: 0.013, 0.018, 0.027\n",
    "count=0\n",
    "num_variables=0\n",
    "for coef in coefs:\n",
    "    count+=1\n",
    "    if abs(coef) > 0.018: \n",
    "        print(x_variables[count])\n",
    "        num_variables +=1\n",
    "print('\\r\\ntotal number of variables: ', num_variables)"
   ]
  },
  {
   "cell_type": "code",
   "execution_count": 345,
   "metadata": {
    "scrolled": true
   },
   "outputs": [
    {
     "data": {
      "text/plain": [
       "0.0"
      ]
     },
     "execution_count": 345,
     "metadata": {},
     "output_type": "execute_result"
    }
   ],
   "source": [
    "clf_dt.score(X_test,y_test)"
   ]
  },
  {
   "cell_type": "markdown",
   "metadata": {},
   "source": [
    "### random forest"
   ]
  },
  {
   "cell_type": "code",
   "execution_count": 333,
   "metadata": {},
   "outputs": [],
   "source": [
    "from sklearn.ensemble import RandomForestRegressor"
   ]
  },
  {
   "cell_type": "code",
   "execution_count": 378,
   "metadata": {},
   "outputs": [],
   "source": [
    "clf_rf = RandomForestRegressor(random_state=0)"
   ]
  },
  {
   "cell_type": "code",
   "execution_count": 379,
   "metadata": {},
   "outputs": [
    {
     "data": {
      "image/png": "[encoded data removed]",
      "text/plain": [
       "<Figure size 1152x360 with 1 Axes>"
      ]
     },
     "metadata": {},
     "output_type": "display_data"
    }
   ],
   "source": [
    "clf_rf.fit(X_train, y_train)\n",
    "y_pred = clf_rf.predict(X_test)\n",
    "\n",
    "# Plot the coefficients\n",
    "plt.figure(figsize=(16,5))\n",
    "forecast_interval = range(len(y)-len(y_pred), len(y))\n",
    "plt.plot(forecast_interval, y_pred, 'r')\n",
    "plt.plot(range(len(y)), y, 'b')\n",
    "\n",
    "plt.xticks(np.arange(1, len(X), 5.0), rotation=60)\n",
    "plt.xlabel(\"week\")\n",
    "plt.ylabel(\"y\")\n",
    "plt.margins(0.02)\n",
    "plt.show()"
   ]
  },
  {
   "cell_type": "code",
   "execution_count": 380,
   "metadata": {},
   "outputs": [],
   "source": [
    "coefs = clf_rf.feature_importances_"
   ]
  },
  {
   "cell_type": "code",
   "execution_count": 381,
   "metadata": {
    "scrolled": false
   },
   "outputs": [
    {
     "name": "stdout",
     "output_type": "stream",
     "text": [
      "participa\n",
      "vcs\n",
      "dessa\n",
      "dengoso\n",
      "paulo\n",
      "dando\n",
      "escrever\n",
      "pai\n",
      "seque-se\n",
      "aí\n",
      "focos\n",
      "diz\n",
      "ter\n",
      "mosquito\n",
      "\r\n",
      "total number of variables:  14\n"
     ]
    }
   ],
   "source": [
    "#thresholds: 0.009, 0.012, 0.013, 0.015, 0.017, 0.018\n",
    "count=0\n",
    "num_variables=0\n",
    "for coef in coefs:\n",
    "    count+=1\n",
    "    if abs(coef) > 0.012: \n",
    "        print(x_variables[count])\n",
    "        num_variables +=1\n",
    "print('\\r\\ntotal number of variables: ', num_variables)"
   ]
  },
  {
   "cell_type": "code",
   "execution_count": 382,
   "metadata": {
    "scrolled": true
   },
   "outputs": [
    {
     "data": {
      "text/plain": [
       "-2.8788349777900324"
      ]
     },
     "execution_count": 382,
     "metadata": {},
     "output_type": "execute_result"
    }
   ],
   "source": [
    "clf_rf.score(X_test,y_test)"
   ]
  },
  {
   "cell_type": "markdown",
   "metadata": {},
   "source": [
    "### working with 50 features"
   ]
  },
  {
   "cell_type": "code",
   "execution_count": 109,
   "metadata": {},
   "outputs": [
    {
     "name": "stdout",
     "output_type": "stream",
     "text": [
      "[-3113.6674023922174, -3112.4755027237993, -3109.237744363657, -3021.7079609410694, -3027.2548110857015, -3155.9691466194263, -4709.632036265898, -10627.618461855514, -19249.816688312283, -14346.439735793694, -7620.634423313006, -2896.362132902329, -624.0827864254367, -312.228075617057]\n",
      "50.0\n"
     ]
    }
   ],
   "source": [
    "X_50 = data.iloc[:, 1:51]\n",
    "best_alpha_50 = retrieve_lasso_alpha(X_50, alpha_space)"
   ]
  },
  {
   "cell_type": "code",
   "execution_count": 673,
   "metadata": {
    "scrolled": true
   },
   "outputs": [
    {
     "data": {
      "image/png": "[encoded data removed]",
      "text/plain": [
       "<Figure size 1152x360 with 1 Axes>"
      ]
     },
     "metadata": {
      "needs_background": "light"
     },
     "output_type": "display_data"
    }
   ],
   "source": [
    "lasso_coef_50 = plot_lasso_coef(X_50,y, best_alpha)"
   ]
  },
  {
   "cell_type": "code",
   "execution_count": 675,
   "metadata": {},
   "outputs": [
    {
     "data": {
      "image/png": "[encoded data removed]",
      "text/plain": [
       "<Figure size 1152x360 with 1 Axes>"
      ]
     },
     "metadata": {
      "needs_background": "light"
     },
     "output_type": "display_data"
    }
   ],
   "source": [
    "lasso.fit(X_50, y)\n",
    "y_pred = lasso.predict(X_50)\n",
    "\n",
    "# Plot the coefficients\n",
    "plt.figure(figsize=(16,5))\n",
    "plt.plot(range(len(y)), y_pred, 'r')\n",
    "plt.plot(range(len(y)), y, 'b')\n",
    "\n",
    "plt.xticks(range(len(X_50)), list(range(50)), rotation=60)\n",
    "plt.xlabel(\"week\")\n",
    "plt.ylabel(\"y\")\n",
    "plt.margins(0.02)\n",
    "plt.show()"
   ]
  },
  {
   "cell_type": "code",
   "execution_count": 245,
   "metadata": {},
   "outputs": [
    {
     "data": {
      "text/plain": [
       "{'alpha': 50.0,\n",
       " 'copy_X': True,\n",
       " 'fit_intercept': True,\n",
       " 'max_iter': 1000,\n",
       " 'normalize': True,\n",
       " 'positive': False,\n",
       " 'precompute': False,\n",
       " 'random_state': None,\n",
       " 'selection': 'cyclic',\n",
       " 'tol': 0.0001,\n",
       " 'warm_start': False}"
      ]
     },
     "execution_count": 245,
     "metadata": {},
     "output_type": "execute_result"
    }
   ],
   "source": [
    "lasso.get_params()"
   ]
  },
  {
   "cell_type": "code",
   "execution_count": 689,
   "metadata": {
    "scrolled": true
   },
   "outputs": [
    {
     "name": "stdout",
     "output_type": "stream",
     "text": [
      "dengue!\n",
      "#dengue\n",
      "casa\n",
      "acho\n",
      "pode\n",
      "hoje\n"
     ]
    }
   ],
   "source": [
    "print_vars(lasso_coef_50, 1)"
   ]
  },
  {
   "cell_type": "markdown",
   "metadata": {},
   "source": [
    "### feature selection of Xs of 500 features"
   ]
  },
  {
   "cell_type": "code",
   "execution_count": 48,
   "metadata": {},
   "outputs": [],
   "source": [
    "def remove_vars(data_features, coefs, threshold):\n",
    "    var_indexes = []\n",
    "    for coef in coefs:\n",
    "        if abs(coef) > threshold: \n",
    "            var_index = list(coefs).index(coef)\n",
    "            var_indexes.append(var_index)\n",
    "    data_features = data_features[data_features.columns[var_indexes]]\n",
    "    return data_features"
   ]
  },
  {
   "cell_type": "code",
   "execution_count": 54,
   "metadata": {},
   "outputs": [],
   "source": [
    "X = remove_vars(X, lasso_coef, 1)"
   ]
  },
  {
   "cell_type": "markdown",
   "metadata": {},
   "source": [
    "# Linear regression - Baseline"
   ]
  },
  {
   "cell_type": "code",
   "execution_count": 55,
   "metadata": {},
   "outputs": [],
   "source": [
    "from sklearn.linear_model import LinearRegression"
   ]
  },
  {
   "cell_type": "code",
   "execution_count": 61,
   "metadata": {},
   "outputs": [],
   "source": [
    "X_full = data.iloc[:, 1:-1]"
   ]
  },
  {
   "cell_type": "code",
   "execution_count": 56,
   "metadata": {},
   "outputs": [],
   "source": [
    "linear = LinearRegression(normalize = True)"
   ]
  },
  {
   "cell_type": "markdown",
   "metadata": {},
   "source": [
    "Ao usar linear regression com features selecionadas pelo lasso, por acaso degenerei o modelo?? confirmar com flavio"
   ]
  },
  {
   "cell_type": "code",
   "execution_count": 58,
   "metadata": {
    "scrolled": true
   },
   "outputs": [
    {
     "data": {
      "image/png": "[encoded data removed]",
      "text/plain": [
       "<Figure size 1152x360 with 1 Axes>"
      ]
     },
     "metadata": {
      "needs_background": "light"
     },
     "output_type": "display_data"
    }
   ],
   "source": [
    "linear.fit(X, y)\n",
    "y_pred = linear.predict(X)\n",
    "\n",
    "# Plot the coefficients\n",
    "plt.figure(figsize=(16,5))\n",
    "plt.plot(range(len(y)), y_pred, 'r')\n",
    "plt.plot(range(len(y)), y, 'b')\n",
    "\n",
    "plt.xticks(range(len(X)), list(range(50)), rotation=60)\n",
    "plt.xlabel(\"week\")\n",
    "plt.ylabel(\"y\")\n",
    "plt.margins(0.02)\n",
    "plt.show()"
   ]
  },
  {
   "cell_type": "code",
   "execution_count": 59,
   "metadata": {},
   "outputs": [
    {
     "data": {
      "text/plain": [
       "0.9845939441444382"
      ]
     },
     "execution_count": 59,
     "metadata": {},
     "output_type": "execute_result"
    }
   ],
   "source": [
    "linear.score(X,y)"
   ]
  },
  {
   "cell_type": "markdown",
   "metadata": {},
   "source": [
    "If I use the full set of features, it overfits!!!!"
   ]
  },
  {
   "cell_type": "code",
   "execution_count": 62,
   "metadata": {},
   "outputs": [
    {
     "data": {
      "image/png": "[encoded data removed]",
      "text/plain": [
       "<Figure size 1152x360 with 1 Axes>"
      ]
     },
     "metadata": {
      "needs_background": "light"
     },
     "output_type": "display_data"
    }
   ],
   "source": [
    "linear.fit(X_full, y)\n",
    "y_pred = linear.predict(X_full)\n",
    "\n",
    "# Plot the coefficients\n",
    "plt.figure(figsize=(16,5))\n",
    "plt.plot(range(len(y)), y_pred, 'r')\n",
    "plt.plot(range(len(y)), y, 'b')\n",
    "\n",
    "plt.xticks(range(len(X)), list(range(50)), rotation=60)\n",
    "plt.xlabel(\"week\")\n",
    "plt.ylabel(\"y\")\n",
    "plt.margins(0.02)\n",
    "plt.show()"
   ]
  },
  {
   "cell_type": "code",
   "execution_count": 64,
   "metadata": {},
   "outputs": [
    {
     "data": {
      "text/plain": [
       "1.0"
      ]
     },
     "execution_count": 64,
     "metadata": {},
     "output_type": "execute_result"
    }
   ],
   "source": [
    "linear.score(X_full,y)"
   ]
  },
  {
   "cell_type": "markdown",
   "metadata": {},
   "source": [
    "# analisar correlacao cruzada, com lag\n",
    "* using heatmaps: https://www.kaggle.com/dedecu/cross-correlation-time-lag-with-pandas\n",
    "* convolution: https://www.youtube.com/watch?v=hBTGuOe9txE\n",
    "* the lag between signals is given by the argmax of the cross-correlation: https://en.wikipedia.org/wiki/Cross-correlation#Time_delay_analysis\n",
    "* A value of -1 means that in1 is 1 lag behind. A value of 2 means that in1 is 2 lag in advanced. Negative values mean that in1 precedes/predicts in2."
   ]
  },
  {
   "cell_type": "code",
   "execution_count": 80,
   "metadata": {},
   "outputs": [],
   "source": [
    "from scipy import signal\n",
    "\n",
    "X_array = X.T.values\n",
    "y_array = [list(y.y) for x in range(len(X_array))]\n",
    "corrs = signal.correlate(X_array, y_array, mode='same')"
   ]
  },
  {
   "cell_type": "code",
   "execution_count": 103,
   "metadata": {},
   "outputs": [
    {
     "name": "stdout",
     "output_type": "stream",
     "text": [
      "feature:  pneu ; lag:  -1\n",
      "feature:  feia ; lag:  -2\n",
      "feature:  mi ; lag:  -2\n",
      "feature:  show ; lag:  -2\n",
      "feature:  notificações ; lag:  -2\n",
      "feature:  mato ; lag:  -1\n",
      "feature:  antes ; lag:  -1\n",
      "feature:  usar ; lag:  -1\n",
      "feature:  mesmo ; lag:  -1\n",
      "feature:  três ; lag:  -1\n",
      "feature:  morrer ; lag:  -1\n",
      "feature:  tempo ; lag:  -1\n",
      "feature:  sp ; lag:  -1\n",
      "feature:  paulo ; lag:  -1\n",
      "feature:  natal ; lag:  -1\n",
      "feature:  saber ; lag:  -1\n",
      "feature:  @minsaude: ; lag:  -1\n",
      "feature:  cidades ; lag:  -1\n"
     ]
    }
   ],
   "source": [
    "count = 0\n",
    "for corr in corrs:\n",
    "    center = int(len(corr)/2)\n",
    "    lag = np.argmax(corr) - center\n",
    "    print('feature: ', X.columns[count], '; lag: ', lag)\n",
    "    count += 1"
   ]
  },
  {
   "cell_type": "markdown",
   "metadata": {},
   "source": [
    "# ML model"
   ]
  },
  {
   "cell_type": "code",
   "execution_count": 46,
   "metadata": {},
   "outputs": [],
   "source": [
    "from sklearn.preprocessing import Imputer\n",
    "from sklearn.pipeline import Pipeline\n",
    "from sklearn.metrics import classification_report\n",
    "from sklearn.model_selection import train_test_split\n",
    "from sklearn.metrics import mean_squared_error"
   ]
  },
  {
   "cell_type": "markdown",
   "metadata": {},
   "source": [
    "### Create train and test sets"
   ]
  },
  {
   "cell_type": "code",
   "execution_count": 43,
   "metadata": {},
   "outputs": [
    {
     "data": {
      "text/plain": [
       "13"
      ]
     },
     "execution_count": 43,
     "metadata": {},
     "output_type": "execute_result"
    }
   ],
   "source": [
    "len(X_test)"
   ]
  },
  {
   "cell_type": "code",
   "execution_count": 44,
   "metadata": {},
   "outputs": [
    {
     "data": {
      "text/plain": [
       "30"
      ]
     },
     "execution_count": 44,
     "metadata": {},
     "output_type": "execute_result"
    }
   ],
   "source": [
    "len(X_train)"
   ]
  },
  {
   "cell_type": "markdown",
   "metadata": {},
   "source": [
    "### random forest"
   ]
  },
  {
   "cell_type": "code",
   "execution_count": 161,
   "metadata": {},
   "outputs": [
    {
     "name": "stderr",
     "output_type": "stream",
     "text": [
      "D:\\Users\\Marcelo\\Anaconda3\\lib\\site-packages\\sklearn\\ensemble\\forest.py:246: FutureWarning: The default value of n_estimators will change from 10 in version 0.20 to 100 in 0.22.\n",
      "  \"10 in version 0.20 to 100 in 0.22.\", FutureWarning)\n",
      "D:\\Users\\Marcelo\\Anaconda3\\lib\\site-packages\\sklearn\\pipeline.py:267: DataConversionWarning: A column-vector y was passed when a 1d array was expected. Please change the shape of y to (n_samples,), for example using ravel().\n",
      "  self._final_estimator.fit(Xt, y, **fit_params)\n"
     ]
    }
   ],
   "source": [
    "from sklearn.ensemble import RandomForestClassifier\n",
    "\n",
    "clf_rf = RandomForestClassifier()\n",
    "steps = [('RandomF', clf_rf)]\n",
    "pipeline = Pipeline(steps)\n",
    "\n",
    "# Fit the pipeline to the train set\n",
    "pipeline.fit(X_train, y_train)\n",
    "\n",
    "# Predict the labels of the test set\n",
    "y_pred = pipeline.predict(X_test)\n",
    "\n",
    "# Loss function\n",
    "error_random_forest = mean_squared_error(y_test,y_pred)"
   ]
  },
  {
   "cell_type": "code",
   "execution_count": 167,
   "metadata": {},
   "outputs": [
    {
     "name": "stderr",
     "output_type": "stream",
     "text": [
      "D:\\Users\\Marcelo\\Anaconda3\\lib\\site-packages\\sklearn\\pipeline.py:267: DataConversionWarning: A column-vector y was passed when a 1d array was expected. Please change the shape of y to (n_samples, ), for example using ravel().\n",
      "  self._final_estimator.fit(Xt, y, **fit_params)\n"
     ]
    }
   ],
   "source": [
    "from sklearn.neighbors import KNeighborsClassifier\n",
    "\n",
    "clf_knn = KNeighborsClassifier(n_neighbors = 3)\n",
    "steps = [('KNN', clf_knn)]\n",
    "pipeline = Pipeline(steps)\n",
    "\n",
    "pipeline.fit(X_train, y_train)\n",
    "\n",
    "y_pred = pipeline.predict(X_test)\n",
    "\n",
    "error_knn =  mean_squared_error(y_test,y_pred)"
   ]
  },
  {
   "cell_type": "code",
   "execution_count": 168,
   "metadata": {},
   "outputs": [
    {
     "name": "stderr",
     "output_type": "stream",
     "text": [
      "D:\\Users\\Marcelo\\Anaconda3\\lib\\site-packages\\sklearn\\utils\\validation.py:761: DataConversionWarning: A column-vector y was passed when a 1d array was expected. Please change the shape of y to (n_samples, ), for example using ravel().\n",
      "  y = column_or_1d(y, warn=True)\n",
      "D:\\Users\\Marcelo\\Anaconda3\\lib\\site-packages\\sklearn\\svm\\base.py:196: FutureWarning: The default value of gamma will change from 'auto' to 'scale' in version 0.22 to account better for unscaled features. Set gamma explicitly to 'auto' or 'scale' to avoid this warning.\n",
      "  \"avoid this warning.\", FutureWarning)\n"
     ]
    }
   ],
   "source": [
    "from sklearn.svm import SVC\n",
    "\n",
    "clf_svc = SVC()\n",
    "steps = [('SVC', clf_svc)]\n",
    "pipeline = Pipeline(steps)\n",
    "\n",
    "pipeline.fit(X_train, y_train)\n",
    "\n",
    "y_pred = pipeline.predict(X_test)\n",
    "\n",
    "error_svc =  mean_squared_error(y_test,y_pred)"
   ]
  },
  {
   "cell_type": "code",
   "execution_count": 170,
   "metadata": {
    "scrolled": true
   },
   "outputs": [
    {
     "data": {
      "text/html": [
       "<div>\n",
       "<style scoped>\n",
       "    .dataframe tbody tr th:only-of-type {\n",
       "        vertical-align: middle;\n",
       "    }\n",
       "\n",
       "    .dataframe tbody tr th {\n",
       "        vertical-align: top;\n",
       "    }\n",
       "\n",
       "    .dataframe thead th {\n",
       "        text-align: right;\n",
       "    }\n",
       "</style>\n",
       "<table border=\"1\" class=\"dataframe\">\n",
       "  <thead>\n",
       "    <tr style=\"text-align: right;\">\n",
       "      <th></th>\n",
       "      <th>Model</th>\n",
       "      <th>Error</th>\n",
       "    </tr>\n",
       "  </thead>\n",
       "  <tbody>\n",
       "    <tr>\n",
       "      <th>1</th>\n",
       "      <td>knn</td>\n",
       "      <td>6.620117e+05</td>\n",
       "    </tr>\n",
       "    <tr>\n",
       "      <th>0</th>\n",
       "      <td>randomforest</td>\n",
       "      <td>1.848979e+06</td>\n",
       "    </tr>\n",
       "    <tr>\n",
       "      <th>2</th>\n",
       "      <td>svc</td>\n",
       "      <td>2.177867e+07</td>\n",
       "    </tr>\n",
       "  </tbody>\n",
       "</table>\n",
       "</div>"
      ],
      "text/plain": [
       "          Model         Error\n",
       "1           knn  6.620117e+05\n",
       "0  randomforest  1.848979e+06\n",
       "2           svc  2.177867e+07"
      ]
     },
     "execution_count": 170,
     "metadata": {},
     "output_type": "execute_result"
    }
   ],
   "source": [
    "models = pd.DataFrame({\n",
    "    'Model': ['randomforest', 'knn', 'svc'],\n",
    "    'Error': [error_random_forest, error_knn, error_svc]})\n",
    "models.sort_values(by='Error')"
   ]
  },
  {
   "cell_type": "markdown",
   "metadata": {},
   "source": [
    "### cross validation"
   ]
  },
  {
   "cell_type": "code",
   "execution_count": 181,
   "metadata": {},
   "outputs": [
    {
     "data": {
      "text/plain": [
       "43"
      ]
     },
     "execution_count": 181,
     "metadata": {},
     "output_type": "execute_result"
    }
   ],
   "source": [
    "len(y)"
   ]
  },
  {
   "cell_type": "code",
   "execution_count": 194,
   "metadata": {},
   "outputs": [
    {
     "name": "stderr",
     "output_type": "stream",
     "text": [
      "D:\\Users\\Marcelo\\Anaconda3\\lib\\site-packages\\sklearn\\model_selection\\_split.py:652: Warning: The least populated class in y has only 1 members, which is too few. The minimum number of members in any class cannot be less than n_splits=2.\n",
      "  % (min_groups, self.n_splits)), Warning)\n",
      "D:\\Users\\Marcelo\\Anaconda3\\lib\\site-packages\\sklearn\\ensemble\\forest.py:246: FutureWarning: The default value of n_estimators will change from 10 in version 0.20 to 100 in 0.22.\n",
      "  \"10 in version 0.20 to 100 in 0.22.\", FutureWarning)\n",
      "D:\\Users\\Marcelo\\Anaconda3\\lib\\site-packages\\sklearn\\model_selection\\_validation.py:528: DataConversionWarning: A column-vector y was passed when a 1d array was expected. Please change the shape of y to (n_samples,), for example using ravel().\n",
      "  estimator.fit(X_train, y_train, **fit_params)\n",
      "D:\\Users\\Marcelo\\Anaconda3\\lib\\site-packages\\sklearn\\ensemble\\forest.py:246: FutureWarning: The default value of n_estimators will change from 10 in version 0.20 to 100 in 0.22.\n",
      "  \"10 in version 0.20 to 100 in 0.22.\", FutureWarning)\n",
      "D:\\Users\\Marcelo\\Anaconda3\\lib\\site-packages\\sklearn\\model_selection\\_validation.py:528: DataConversionWarning: A column-vector y was passed when a 1d array was expected. Please change the shape of y to (n_samples,), for example using ravel().\n",
      "  estimator.fit(X_train, y_train, **fit_params)\n"
     ]
    }
   ],
   "source": [
    "from sklearn.ensemble import RandomForestClassifier\n",
    "\n",
    "clf_rf = RandomForestClassifier()\n",
    "\n",
    "random_forest_cv = cross_val_score(clf_rf, X,y, cv=2)"
   ]
  },
  {
   "cell_type": "code",
   "execution_count": 187,
   "metadata": {},
   "outputs": [
    {
     "data": {
      "text/plain": [
       "array([0.02380952, 0.        ])"
      ]
     },
     "execution_count": 187,
     "metadata": {},
     "output_type": "execute_result"
    }
   ],
   "source": [
    "random_forest_cv"
   ]
  },
  {
   "cell_type": "markdown",
   "metadata": {},
   "source": [
    "# draft"
   ]
  },
  {
   "cell_type": "raw",
   "metadata": {},
   "source": []
  },
  {
   "cell_type": "markdown",
   "metadata": {},
   "source": [
    "# notas\n",
    "scipy signal correlate, para automatizar correlacao com lags em vez de plotar na mao. seria mais interessante se eu pegar 24-36 meses em vez de 1 ano (periodo de comparacao do paper)\n",
    "\n",
    "GLM - generalised linear model\n",
    "\n",
    "usar linear regression como baseline\n",
    "\n",
    "usar hiperparametro de decision tree e random forest para comparar com lasso."
   ]
  },
  {
   "cell_type": "code",
   "execution_count": null,
   "metadata": {},
   "outputs": [],
   "source": [
    "\n"
   ]
  }
 ],
 "metadata": {
  "kernelspec": {
   "display_name": "Python 3",
   "language": "python",
   "name": "python3"
  },
  "language_info": {
   "codemirror_mode": {
    "name": "ipython",
    "version": 3
   },
   "file_extension": ".py",
   "mimetype": "text/x-python",
   "name": "python",
   "nbconvert_exporter": "python",
   "pygments_lexer": "ipython3",
   "version": "3.7.4"
  }
 },
 "nbformat": 4,
 "nbformat_minor": 2
}
