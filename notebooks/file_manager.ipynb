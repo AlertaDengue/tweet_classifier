{
 "cells": [
  {
   "cell_type": "markdown",
   "metadata": {},
   "source": [
    "# file_manager\n",
    "This file manager handles the following tasks:\n",
    "* fixes original dengue.json (parsing issue)\n",
    "* Filters data and converts JSON to MongoDB"
   ]
  },
  {
   "cell_type": "code",
   "execution_count": 1,
   "metadata": {},
   "outputs": [],
   "source": [
    "import pandas as pd\n",
    "import pickle\n",
    "import datetime\n",
    "from datetime import timedelta, date\n",
    "import re\n",
    "\n",
    "import json\n",
    "import ijson\n",
    "import bz2\n",
    "import os\n",
    "from pprint import pprint\n",
    "from IPython.display import clear_output"
   ]
  },
  {
   "cell_type": "markdown",
   "metadata": {},
   "source": [
    "refs for dealing with large json:\n",
    "\n",
    "http://www.aylakhan.tech/?p=27\n",
    "\n",
    "https://stackoverflow.com/questions/10382253/reading-rather-large-json-files-in-python\n",
    "\n",
    "https://stackoverflow.com/questions/2400643/is-there-a-memory-efficient-and-fast-way-to-load-big-json-files-in-python"
   ]
  },
  {
   "cell_type": "markdown",
   "metadata": {},
   "source": [
    "# UFMG complete json of tweets"
   ]
  },
  {
   "cell_type": "code",
   "execution_count": 32,
   "metadata": {},
   "outputs": [],
   "source": [
    "outer_path = r\"D:/pseudo-dropbox/databases/ufmg/\"\n",
    "path = '../../inputs/'\n",
    "file = os.path.join(outer_path,\"dengue.json\")\n",
    "# file_fixed = os.path.join(outer_path,\"dengue_fixed.json.bz2\")\n",
    "file_sample = os.path.join(outer_path,\"dengue_sample.json\")\n",
    "outputs = '../outputs/'"
   ]
  },
  {
   "cell_type": "markdown",
   "metadata": {},
   "source": [
    "# rewrite json sample with corrected parsing\n",
    "Comma was missing from list of objects. So parsing was impossible.\n",
    "\n",
    "JSON file has 7503436 objects."
   ]
  },
  {
   "cell_type": "code",
   "execution_count": 28,
   "metadata": {},
   "outputs": [],
   "source": [
    "def remove_special_char(text):\n",
    "    text = re.sub('[áàãâ]', 'a', text)\n",
    "    text = re.sub('[óòõô]', 'o', text)\n",
    "    text = re.sub('[éèê]', 'e', text)\n",
    "    text = re.sub('[íì]', 'i', text)\n",
    "    text = re.sub('[úù]', 'u', text)\n",
    "    text = re.sub('ç', 'c', text)\n",
    "    text = re.sub('[ÁÀÃÂ]', 'A', text)\n",
    "    text = re.sub('[ÓÒÕÔ]', 'O', text)\n",
    "    text = re.sub('[ÉÈÊ]', 'E', text)\n",
    "    text = re.sub('[ÍÌ]', 'I', text)\n",
    "    text = re.sub('[ÚÙ]', 'U', text)\n",
    "    text = re.sub('Ç', 'C', text)\n",
    "    return text"
   ]
  },
  {
   "cell_type": "code",
   "execution_count": 34,
   "metadata": {},
   "outputs": [],
   "source": [
    "file_len = 7503436\n",
    "f_new = open(file_sample, \"w\")\n",
    "f_new.write(\"[\")\n",
    "f_new.close()\n",
    "\n",
    "with open(file, 'r', encoding=\"utf8\") as f:\n",
    "    count = 0\n",
    "    f_new = open(file_sample, \"a\")\n",
    "    for l in f:\n",
    "        l = l.strip()\n",
    "        l = remove_special_char(l)\n",
    "        l = l.encode('ascii', errors='ignore').decode('ascii')\n",
    "        \n",
    "        if count == 0:\n",
    "            f_new.write(l)\n",
    "        elif count != 0:\n",
    "            f_new.write(\",\"+l)\n",
    "        \n",
    "        count += 1\n",
    "        if count == 20: break\n",
    "\n",
    "f_new.write(\"]\")\n",
    "f_new.close()"
   ]
  },
  {
   "cell_type": "markdown",
   "metadata": {},
   "source": [
    "# see if tweets are ordered by date"
   ]
  },
  {
   "cell_type": "code",
   "execution_count": 35,
   "metadata": {},
   "outputs": [
    {
     "name": "stdout",
     "output_type": "stream",
     "text": [
      "[1290197084000, 1290197105000, 1290197130000, 1290197158000, 1290197178000, 1290197190000, 1290197225000, 1290197238000, 1290197258000, 1290197331000, 1290197358000, 1290197482000, 1290197496000, 1290197599000, 1290197665000, 1290197703000, 1290197863000, 1290197927000, 1290197951000, 1290198007000]\n"
     ]
    },
    {
     "data": {
      "text/plain": [
       "True"
      ]
     },
     "execution_count": 35,
     "metadata": {},
     "output_type": "execute_result"
    }
   ],
   "source": [
    "test_list = []\n",
    "with open(file_sample, 'r') as input_file:\n",
    "    dates = ijson.items(input_file, 'item.created_at.$date')\n",
    "    count = 0\n",
    "    for date in dates:\n",
    "        test_list.append(date)\n",
    "        count += 1\n",
    "        if count == 20: break\n",
    "print(test_list)\n",
    "all(test_list[i] <= test_list[i+1] for i in range(len(test_list)-1))"
   ]
  },
  {
   "cell_type": "markdown",
   "metadata": {},
   "source": [
    "Yes, dates seem to be ordered"
   ]
  },
  {
   "cell_type": "markdown",
   "metadata": {},
   "source": [
    "### Get object structure"
   ]
  },
  {
   "cell_type": "code",
   "execution_count": 36,
   "metadata": {},
   "outputs": [
    {
     "name": "stdout",
     "output_type": "stream",
     "text": [
      "{'_id': 5713104428072960,\n",
      " 'contributors': None,\n",
      " 'control': {'classification': {'c': 'lac',\n",
      "                                'd': 1443198861070,\n",
      "                                'exp_dengue': {'campanha': Decimal('0.254248'),\n",
      "                                               'exp_pessoal': Decimal('0.08588'),\n",
      "                                               'informacao': Decimal('0.420341'),\n",
      "                                               'opiniao': Decimal('0.101521'),\n",
      "                                               'parodia': Decimal('0.13801'),\n",
      "                                               'result': ['3'],\n",
      "                                               'rules': 31},\n",
      "                                'exp_dengue_bin': {'0': Decimal('0.905945'),\n",
      "                                                   '1': Decimal('0.094055'),\n",
      "                                                   'result': [False],\n",
      "                                                   'rules': 11},\n",
      "                                'spam_dengue': {'0': Decimal('0.780842'),\n",
      "                                                '1': Decimal('0.219158'),\n",
      "                                                'result': [False],\n",
      "                                                'rules': 10},\n",
      "                                'v': 1},\n",
      "             'geo': {'d': 1443198862750, 'v': 1},\n",
      "             'lac_exp': {'classes': [Decimal('0.116607'),\n",
      "                                     Decimal('0.136098'),\n",
      "                                     Decimal('0.079566'),\n",
      "                                     Decimal('0.332814'),\n",
      "                                     Decimal('0.334915')],\n",
      "                         'date': {'$date': 1322664623158},\n",
      "                         'pessoal': False,\n",
      "                         'version': 4},\n",
      "             'lang': {'d': 1443198837227, 'lang': 'pt', 'v': 5},\n",
      "             'last': 'UPDATE',\n",
      "             'read': {'d': 1443198836681, 'v': 3},\n",
      "             'terms': {'d': 1443198837230,\n",
      "                       'tags': ['dengue mata'],\n",
      "                       'terms': [],\n",
      "                       'v': 3},\n",
      "             'update': {'d': 1443198862977, 'v': 2}},\n",
      " 'coordinates': None,\n",
      " 'created_at': {'$date': 1290197084000},\n",
      " 'entities': {'entities': [10005],\n",
      "              'hashtags': [],\n",
      "              'urls': [],\n",
      "              'user_mentions': []},\n",
      " 'favorited': False,\n",
      " 'geo': {'coordinates': [Decimal('-9.11889'), Decimal('-37.6951')],\n",
      "         'location': 'Mata Grande, Alagoas, BR',\n",
      "         'type': 'Town'},\n",
      " 'id': 5713104428072960,\n",
      " 'id_inbox': 1,\n",
      " 'id_str': '5713104428072960',\n",
      " 'in_reply_to_screen_name': None,\n",
      " 'in_reply_to_status_id': None,\n",
      " 'in_reply_to_status_id_str': None,\n",
      " 'in_reply_to_user_id': None,\n",
      " 'in_reply_to_user_id_str': None,\n",
      " 'place': None,\n",
      " 'retweet_count': None,\n",
      " 'retweeted': False,\n",
      " 'source': 'web',\n",
      " 'text': 'A dengue mata mas com simples gestos de prevencao podemos nos livrar '\n",
      "         'dela!',\n",
      " 'truncated': False,\n",
      " 'user': {'contributors_enabled': False,\n",
      "          'created_at': {'$date': 1274899902000},\n",
      "          'description': 'Twitter voltado a cidade de Paulo Afonso,uma linda '\n",
      "                         'regiao no  interior da Bahia,conhecida por suas '\n",
      "                         'infinitas belezas naturais...',\n",
      "          'favourites_count': 0,\n",
      "          'follow_request_sent': None,\n",
      "          'followers_count': 167,\n",
      "          'following': None,\n",
      "          'friends_count': 256,\n",
      "          'geo_enabled': False,\n",
      "          'id': 148452542,\n",
      "          'id_str': '148452542',\n",
      "          'lang': 'es',\n",
      "          'listed_count': 1,\n",
      "          'location': 'Paulo Afonso',\n",
      "          'name': 'Paulo Afonso  Bahia',\n",
      "          'notifications': None,\n",
      "          'profile_background_color': 'C0DEED',\n",
      "          'profile_background_image_url': 'http:\\\\/\\\\/a1.twimg.com\\\\/profile_background_images\\\\/105403890\\\\/BXK80371_cachoeiras-de-paulo-afonso-1800.jpg',\n",
      "          'profile_background_tile': False,\n",
      "          'profile_image_url': 'http:\\\\/\\\\/a0.twimg.com\\\\/profile_images\\\\/933226676\\\\/_139B7378-B1BA-45CE-8295-54DDF6676DA2__BOI_20E_20A_20COBRA_normal.jpg',\n",
      "          'profile_link_color': '0084B4',\n",
      "          'profile_sidebar_border_color': 'C0DEED',\n",
      "          'profile_sidebar_fill_color': 'DDEEF6',\n",
      "          'profile_text_color': '333333',\n",
      "          'profile_use_background_image': True,\n",
      "          'protected': False,\n",
      "          'screen_name': 'PauloAfBahia',\n",
      "          'show_all_inline_media': False,\n",
      "          'statuses_count': 58,\n",
      "          'time_zone': 'Brasilia',\n",
      "          'url': None,\n",
      "          'utc_offset': -10800,\n",
      "          'verified': False}}\n"
     ]
    }
   ],
   "source": [
    "with open(file_sample, 'r') as input_file:\n",
    "    items = ijson.items(input_file, 'item')\n",
    "    count = 0\n",
    "    for item in items:\n",
    "        pprint(item)\n",
    "        count += 1\n",
    "        break"
   ]
  },
  {
   "cell_type": "markdown",
   "metadata": {},
   "source": [
    "# save corrected and filtered data to MongoDB"
   ]
  },
  {
   "cell_type": "markdown",
   "metadata": {},
   "source": [
    "# configure MongoDB"
   ]
  },
  {
   "cell_type": "code",
   "execution_count": 4,
   "metadata": {},
   "outputs": [],
   "source": [
    "import pymongo\n",
    "from pymongo import MongoClient\n",
    "import dns\n",
    "client = MongoClient()"
   ]
  },
  {
   "cell_type": "code",
   "execution_count": 6,
   "metadata": {},
   "outputs": [],
   "source": [
    "db = client.twitter_fixed\n",
    "collection_ufmg = db.ufmg_filtered\n",
    "collection_ufmg_errors = db.ufmg_filtered_errors"
   ]
  },
  {
   "cell_type": "markdown",
   "metadata": {},
   "source": [
    "To drop collection: \n",
    "```python\n",
    "collection.drop()\n",
    "```"
   ]
  },
  {
   "cell_type": "markdown",
   "metadata": {},
   "source": [
    "# Filter JSON\n",
    "Get most important features"
   ]
  },
  {
   "cell_type": "code",
   "execution_count": 68,
   "metadata": {},
   "outputs": [],
   "source": [
    "collection_ufmg.drop()\n",
    "collection_ufmg_errors.drop()"
   ]
  },
  {
   "cell_type": "code",
   "execution_count": 69,
   "metadata": {},
   "outputs": [
    {
     "name": "stdout",
     "output_type": "stream",
     "text": [
      "100.0% done\n"
     ]
    }
   ],
   "source": [
    "file_len = 7503436\n",
    "\n",
    "with open(file, 'r', encoding=\"utf8\") as f:\n",
    "    count = 0\n",
    "    for item in f:\n",
    "        item = item.strip()\n",
    "        item = re.sub('\\$', '', item)\n",
    "        item = json.loads(item)\n",
    "        try:\n",
    "            filtered_dict = {}\n",
    "            filtered_dict[\"_id\"] = item[\"_id\"]\n",
    "            if \"date\" in item[\"created_at\"]: \n",
    "                filtered_dict[\"date\"] = item[\"created_at\"][\"date\"]\n",
    "            else: filtered_dict[\"date\"] = item[\"created_at\"]\n",
    "            if \"lang\" in item[\"control\"]:\n",
    "                if \"lang\" in item[\"control\"][\"lang\"]:\n",
    "                    filtered_dict[\"lang\"] = item[\"control\"][\"lang\"][\"lang\"]\n",
    "                else: filtered_dict[\"lang\"] = item[\"control\"][\"lang\"]\n",
    "\n",
    "            filtered_dict[\"text\"] = item[\"text\"]\n",
    "            if \"extended_tweet\" in item: filtered_dict[\"extended_tweet\"] = item[\"extended_tweet\"]\n",
    "            filtered_dict[\"screen_name\"] = item[\"user\"][\"screen_name\"]\n",
    "            filtered_dict[\"user_id\"] = item[\"user\"][\"id\"]\n",
    "            if item[\"coordinates\"]: \n",
    "                coordinates = item[\"coordinates\"][\"coordinates\"]\n",
    "                filtered_dict[\"coordinates\"] = [float(i) for i in coordinates]\n",
    "            if item[\"place\"]: filtered_dict[\"place\"] = item[\"place\"][\"full_name\"]\n",
    "            if item[\"user\"][\"location\"]: filtered_dict[\"location\"] = item[\"user\"][\"location\"]\n",
    "            if \"classification\" in item[\"control\"]: \n",
    "                if \"campanha\"    in item[\"control\"][\"classification\"][\"exp_dengue\"]: filtered_dict[\"class_campanha\"]    = float(item[\"control\"][\"classification\"][\"exp_dengue\"][\"campanha\"])\n",
    "                if \"exp_pessoal\" in item[\"control\"][\"classification\"][\"exp_dengue\"]: filtered_dict[\"class_exp_pessoal\"] = float(item[\"control\"][\"classification\"][\"exp_dengue\"][\"exp_pessoal\"]) \n",
    "                if \"informacao\"  in item[\"control\"][\"classification\"][\"exp_dengue\"]: filtered_dict[\"class_informacao\"]  = float(item[\"control\"][\"classification\"][\"exp_dengue\"][\"informacao\"]) \n",
    "                if \"opiniao\"     in item[\"control\"][\"classification\"][\"exp_dengue\"]: filtered_dict[\"class_opiniao\"]     = float(item[\"control\"][\"classification\"][\"exp_dengue\"][\"opiniao\"]) \n",
    "                if \"parodia\"     in item[\"control\"][\"classification\"][\"exp_dengue\"]: filtered_dict[\"class_parodia\"]     = float(item[\"control\"][\"classification\"][\"exp_dengue\"][\"parodia\"]) \n",
    "            collection_ufmg.insert_one(filtered_dict)\n",
    "        except:\n",
    "            print(count)\n",
    "            print(item)\n",
    "            collection_ufmg_errors.insert_one(item)\n",
    "        \n",
    "        count += 1\n",
    "        if count % (int(file_len/1000)) == 0:\n",
    "            clear_output()\n",
    "            frac = count/file_len*100\n",
    "            print(\"%.1f\" % frac, \"% done\", sep=\"\")"
   ]
  },
  {
   "cell_type": "markdown",
   "metadata": {},
   "source": [
    "Dumping Mongo Database:\n",
    "\n",
    "`mongodump --db DataBaseName --collection collection -o \"path/to/folder\"`\n",
    "\n",
    "Copy the generated dump/DataBaseName folder to the new machine. Then, import using mongorestore:\n",
    "\n",
    "`mongorestore --db DataBaseName /path/to/DataBaseName`\n",
    "* the dump is the bson unzipped file\n",
    "\n",
    "Note that /path/to/DataBaseName should be a directory filled with .json and .bson representations of your data.\n",
    "\n",
    "You can also compress the file on the fly:\n",
    "\n",
    "`mongodump --db somedb --collection somecollection --out \"path/to/folder\" --gzip`"
   ]
  },
  {
   "cell_type": "markdown",
   "metadata": {},
   "source": [
    "# check for specific objects\n",
    "Some tweets have incomplete text. So we need to check if they had extended tweet feature."
   ]
  },
  {
   "cell_type": "code",
   "execution_count": 8,
   "metadata": {},
   "outputs": [
    {
     "name": "stdout",
     "output_type": "stream",
     "text": [
      "91.5% done\n",
      "[{'_id': 699922663909826560, 'favorited': False, 'contributors': None, 'truncated': False, 'text': 'RT @sergueirock: Precisamos bater mais palmas pro Sol. Alem de ser cosmicamente saudavel, e um ato que pode esmagar sem querer alguns mosqu', 'is_quote_status': False, 'in_reply_to_status_id': None, 'user': {'follow_request_sent': None, 'profile_use_background_image': True, 'default_profile_image': False, 'id': 290284050, 'verified': False, 'profile_image_url_https': 'https://pbs.twimg.com/profile_images/666718312903127040/6VPiF1ll_normal.jpg', 'profile_sidebar_fill_color': 'F6F6F6', 'profile_text_color': '333333', 'followers_count': 55, 'profile_sidebar_border_color': 'EEEEEE', 'id_str': '290284050', 'profile_background_color': 'ACDED6', 'listed_count': 0, 'profile_background_image_url_https': 'https://abs.twimg.com/images/themes/theme18/bg.gif', 'utc_offset': -7200, 'statuses_count': 687, 'description': '???', 'friends_count': 44, 'location': None, 'profile_link_color': '038543', 'profile_image_url': 'http://pbs.twimg.com/profile_images/666718312903127040/6VPiF1ll_normal.jpg', 'following': None, 'geo_enabled': False, 'profile_banner_url': 'https://pbs.twimg.com/profile_banners/290284050/1363229352', 'profile_background_image_url': 'http://abs.twimg.com/images/themes/theme18/bg.gif', 'name': 'Giselle', 'lang': 'pt', 'profile_background_tile': False, 'favourites_count': 581, 'screen_name': 'GomesGiselle', 'notifications': None, 'url': None, 'created_at': 'Sat Apr 30 01:31:51 +0000 2011', 'contributors_enabled': False, 'time_zone': 'Brasilia', 'protected': False, 'default_profile': False, 'is_translator': False}, 'filter_level': 'low', 'geo': None, 'id': 699922663909826560, 'favorite_count': 0, 'lang': 'pt', 'retweeted_status': {'contributors': None, 'truncated': False, 'text': 'Precisamos bater mais palmas pro Sol. Alem de ser cosmicamente saudavel, e um ato que pode esmagar sem querer alguns mosquitos aedes.', 'is_quote_status': False, 'in_reply_to_status_id': None, 'id': 699912873900974080, 'favorite_count': 124, 'source': '<a href=\"http://twitter.com/download/android\" rel=\"nofollow\">Twitter for Android</a>', 'retweeted': False, 'coordinates': None, 'entities': {'user_mentions': [], 'symbols': [], 'hashtags': [], 'urls': []}, 'in_reply_to_screen_name': None, 'id_str': '699912873900974080', 'retweet_count': 187, 'in_reply_to_user_id': None, 'favorited': False, 'user': {'follow_request_sent': None, 'profile_use_background_image': True, 'default_profile_image': False, 'id': 20698646, 'verified': False, 'profile_image_url_https': 'https://pbs.twimg.com/profile_images/614579997425172481/DDqhRhE7_normal.jpg', 'profile_sidebar_fill_color': 'DDFFCC', 'profile_text_color': '333333', 'followers_count': 84026, 'profile_sidebar_border_color': 'BDDCAD', 'id_str': '20698646', 'profile_background_color': '9AE4E8', 'listed_count': 1439, 'profile_background_image_url_https': 'https://pbs.twimg.com/profile_background_images/49328646/psy1_animation_3dateliercom.png', 'utc_offset': -7200, 'statuses_count': 4648, 'description': 'Serguei, ex da Janis Joplin e Divino do Rock. (Psicodelias by @tucahernandes. And, sometimes, @phmaster)', 'friends_count': 1364, 'location': ' Saquarema, Rio de Janeiro', 'profile_link_color': '0084B4', 'profile_image_url': 'http://pbs.twimg.com/profile_images/614579997425172481/DDqhRhE7_normal.jpg', 'following': None, 'geo_enabled': False, 'profile_banner_url': 'https://pbs.twimg.com/profile_banners/20698646/1435414984', 'profile_background_image_url': 'http://pbs.twimg.com/profile_background_images/49328646/psy1_animation_3dateliercom.png', 'name': 'Serguei', 'lang': 'pt', 'profile_background_tile': True, 'favourites_count': 19, 'screen_name': 'sergueirock', 'notifications': None, 'url': 'http://facebook.com/sergueirock', 'created_at': 'Thu Feb 12 18:04:29 +0000 2009', 'contributors_enabled': False, 'time_zone': 'Brasilia', 'protected': False, 'default_profile': False, 'is_translator': False}, 'geo': None, 'in_reply_to_user_id_str': None, 'lang': 'pt', 'created_at': 'Wed Feb 17 11:06:47 +0000 2016', 'filter_level': 'low', 'in_reply_to_status_id_str': None, 'place': None}, 'entities': {'user_mentions': [{'id': 20698646, 'indices': [3, 15], 'id_str': '20698646', 'screen_name': 'sergueirock', 'name': 'Serguei'}], 'symbols': [], 'hashtags': [], 'urls': []}, 'in_reply_to_user_id_str': None, 'retweeted': False, 'coordinates': None, 'timestamp_ms': '1455709541667', 'source': '<a href=\"http://www.twitter.com\" rel=\"nofollow\">Twitter for Windows Phone</a>', 'in_reply_to_status_id_str': None, 'in_reply_to_screen_name': None, 'id_str': '699922663909826560', 'place': None, 'retweet_count': 0, 'created_at': {'$date': 1455709541000}, 'in_reply_to_user_id': None, 'control': {'coletas': [{'terms': ['aedes'], 'id': 83}], 'classification': {'c': 'lac', 'd': 1455709542060, 'exp_dengue_bin': {'1': Decimal('0.098096'), '0': Decimal('0.901904'), 'rules': 8, 'result': [False]}, 'v': 1, 'exp_dengue': {'informacao': Decimal('0.338504'), 'rules': 22, 'campanha': Decimal('0.121881'), 'opiniao': Decimal('0.187752'), 'result': ['3'], 'exp_pessoal': Decimal('0.070727'), 'parodia': Decimal('0.281136')}, 'spam_dengue': {'1': 0, '0': 1, 'rules': 4, 'result': [False]}}, 'terms': {'terms': [], 'd': 1455709542057, 'v': 3}, 'read': {'d': 1455709542053, 'v': 3}, 'last': 'UPDATE', 'lang': {'lang': 'pt', 'd': 1455709542055, 'v': 5}, 'geo': {'d': 1455709542066, 'v': 1}, 'update': {'d': 1455709542069, 'v': 2}}}, {'_id': 700284781658054656, 'favorited': False, 'contributors': None, 'truncated': False, 'text': 'RT @SenadoFederal: Pesquisadora da Embrapa defende uso de bioinseticida contra o aedes aegypti. Nova geracao do larvicidas esta em fase fin', 'is_quote_status': False, 'in_reply_to_status_id': None, 'user': {'follow_request_sent': None, 'profile_use_background_image': False, 'default_profile_image': False, 'id': 4861551792, 'verified': False, 'profile_image_url_https': 'https://pbs.twimg.com/profile_images/695434781513818112/kghUQXPt_normal.png', 'profile_sidebar_fill_color': '000000', 'profile_text_color': '000000', 'followers_count': 152, 'profile_sidebar_border_color': '000000', 'id_str': '4861551792', 'profile_background_color': '000000', 'listed_count': 0, 'profile_background_image_url_https': 'https://abs.twimg.com/images/themes/theme1/bg.png', 'utc_offset': None, 'statuses_count': 976, 'description': 'RT de Opinioes.', 'friends_count': 196, 'location': None, 'profile_link_color': 'E81C4F', 'profile_image_url': 'http://pbs.twimg.com/profile_images/695434781513818112/kghUQXPt_normal.png', 'following': None, 'geo_enabled': False, 'profile_background_image_url': 'http://abs.twimg.com/images/themes/theme1/bg.png', 'name': 'RTopiniao', 'lang': 'pt', 'profile_background_tile': False, 'favourites_count': 1595, 'screen_name': 'RTopiniao', 'notifications': None, 'url': None, 'created_at': 'Fri Feb 05 00:39:06 +0000 2016', 'contributors_enabled': False, 'time_zone': None, 'protected': False, 'default_profile': False, 'is_translator': False}, 'filter_level': 'low', 'geo': None, 'id': 700284781658054656, 'favorite_count': 0, 'lang': 'pt', 'retweeted_status': {'contributors': None, 'truncated': False, 'text': 'Pesquisadora da Embrapa defende uso de bioinseticida contra o aedes aegypti. Nova geracao do larvicidas esta em fase final de producao.', 'is_quote_status': False, 'in_reply_to_status_id': None, 'id': 700280883476086784, 'favorite_count': 2, 'source': '<a href=\"http://twitter.com\" rel=\"nofollow\">Twitter Web Client</a>', 'retweeted': False, 'coordinates': None, 'entities': {'user_mentions': [], 'symbols': [], 'hashtags': [], 'urls': []}, 'in_reply_to_screen_name': None, 'id_str': '700280883476086784', 'retweet_count': 7, 'in_reply_to_user_id': None, 'favorited': False, 'user': {'follow_request_sent': None, 'profile_use_background_image': True, 'default_profile_image': False, 'id': 40095953, 'verified': True, 'profile_image_url_https': 'https://pbs.twimg.com/profile_images/661511662713905152/LGi3ijXJ_normal.png', 'profile_sidebar_fill_color': 'E4E9F2', 'profile_text_color': '000000', 'followers_count': 299363, 'profile_sidebar_border_color': '6D86BE', 'id_str': '40095953', 'profile_background_color': 'FFFFFF', 'listed_count': 2001, 'profile_background_image_url_https': 'https://pbs.twimg.com/profile_background_images/403236145/fundo_twitter-noticias.png', 'utc_offset': -7200, 'statuses_count': 44926, 'description': 'Pagina oficial do Senado do Brasil no Twitter. Veja nossa politica de uso das redes sociais http://bit.ly/1SuUcLZ', 'friends_count': 79918, 'location': 'Brasilia', 'profile_link_color': '233661', 'profile_image_url': 'http://pbs.twimg.com/profile_images/661511662713905152/LGi3ijXJ_normal.png', 'following': None, 'geo_enabled': True, 'profile_banner_url': 'https://pbs.twimg.com/profile_banners/40095953/1454514544', 'profile_background_image_url': 'http://pbs.twimg.com/profile_background_images/403236145/fundo_twitter-noticias.png', 'name': 'Senado Federal', 'lang': 'en', 'profile_background_tile': False, 'favourites_count': 1, 'screen_name': 'SenadoFederal', 'notifications': None, 'url': 'http://www.senado.gov.br/noticias', 'created_at': 'Thu May 14 21:55:58 +0000 2009', 'contributors_enabled': False, 'time_zone': 'Brasilia', 'protected': False, 'default_profile': False, 'is_translator': False}, 'geo': None, 'in_reply_to_user_id_str': None, 'lang': 'pt', 'created_at': 'Thu Feb 18 11:29:07 +0000 2016', 'filter_level': 'low', 'in_reply_to_status_id_str': None, 'place': None}, 'entities': {'user_mentions': [{'id': 40095953, 'indices': [3, 17], 'id_str': '40095953', 'screen_name': 'SenadoFederal', 'name': 'Senado Federal'}], 'symbols': [], 'hashtags': [], 'urls': []}, 'in_reply_to_user_id_str': None, 'retweeted': False, 'coordinates': None, 'timestamp_ms': '1455795877266', 'source': '<a href=\"http://twitter.com/download/android\" rel=\"nofollow\">Twitter for Android</a>', 'in_reply_to_status_id_str': None, 'in_reply_to_screen_name': None, 'id_str': '700284781658054656', 'place': None, 'retweet_count': 0, 'created_at': {'$date': 1455795877000}, 'in_reply_to_user_id': None, 'control': {'coletas': [{'terms': ['aegypti', 'aedes'], 'id': 83}], 'classification': {'c': 'lac', 'd': 1455795878512, 'exp_dengue_bin': {'1': Decimal('0.192177'), '0': Decimal('0.807823'), 'rules': 12, 'result': [False]}, 'v': 1, 'exp_dengue': {'informacao': Decimal('0.472925'), 'rules': 36, 'campanha': Decimal('0.057076'), 'opiniao': Decimal('0.108605'), 'result': ['3'], 'exp_pessoal': Decimal('0.145069'), 'parodia': Decimal('0.216326')}, 'spam_dengue': {'1': Decimal('0.454545'), '0': Decimal('0.545455'), 'rules': 6, 'result': [False]}}, 'terms': {'tags': ['aedes'], 'terms': [], 'd': 1455795878509, 'v': 3}, 'read': {'d': 1455795878503, 'v': 3}, 'last': 'UPDATE', 'lang': {'lang': 'pt', 'd': 1455795878507, 'v': 5}, 'geo': {'d': 1455795878517, 'v': 1}, 'update': {'d': 1455795878520, 'v': 2}}}, {'_id': 700288316114132992, 'favorited': False, 'contributors': None, 'truncated': False, 'text': 'RT @JOAQUINTDASILVA: O PAIS DA ZIKA 7X1 NUNCA DECEPCIONA!\\n\\nDOIS VELHO SE BEJANDO NO PALCO E LINDO\\nMULHER DESFILANDO DE BIQUINI E MACHISMO h', 'possibly_sensitive': False, 'is_quote_status': True, 'in_reply_to_status_id': None, 'user': {'follow_request_sent': None, 'profile_use_background_image': True, 'default_profile_image': False, 'id': 135704361, 'verified': False, 'profile_image_url_https': 'https://pbs.twimg.com/profile_images/654300695110283264/YA2erYbo_normal.jpg', 'profile_sidebar_fill_color': '252429', 'profile_text_color': '666666', 'followers_count': 412, 'profile_sidebar_border_color': 'FFFFFF', 'id_str': '135704361', 'profile_background_color': '1A1B1F', 'listed_count': 1, 'profile_background_image_url_https': 'https://pbs.twimg.com/profile_background_images/680216667/5a62fe99026b2c514413c0ffe243ba8c.jpeg', 'utc_offset': -7200, 'statuses_count': 4486, 'description': 'Desembaracado, ativo e dinamico', 'friends_count': 736, 'location': 'Brasil', 'profile_link_color': '2FC2EF', 'profile_image_url': 'http://pbs.twimg.com/profile_images/654300695110283264/YA2erYbo_normal.jpg', 'following': None, 'geo_enabled': False, 'profile_banner_url': 'https://pbs.twimg.com/profile_banners/135704361/1452370552', 'profile_background_image_url': 'http://pbs.twimg.com/profile_background_images/680216667/5a62fe99026b2c514413c0ffe243ba8c.jpeg', 'name': 'eaidudis', 'lang': 'pt', 'profile_background_tile': False, 'favourites_count': 471, 'screen_name': 'EduSperotto', 'notifications': None, 'url': 'http://www.redtube.com/', 'created_at': 'Thu Apr 22 01:56:55 +0000 2010', 'contributors_enabled': False, 'time_zone': 'Brasilia', 'protected': False, 'default_profile': False, 'is_translator': False}, 'filter_level': 'low', 'geo': None, 'id': 700288316114132992, 'favorite_count': 0, 'lang': 'pt', 'retweeted_status': {'contributors': None, 'truncated': False, 'text': 'O PAIS DA ZIKA 7X1 NUNCA DECEPCIONA!\\n\\nDOIS VELHO SE BEJANDO NO PALCO E LINDO\\nMULHER DESFILANDO DE BIQUINI E MACHISMO https://t.co/h132YJ8Gqf', 'is_quote_status': True, 'in_reply_to_status_id': None, 'id': 700277287749623808, 'favorite_count': 221, 'entities': {'user_mentions': [], 'symbols': [], 'hashtags': [], 'urls': [{'url': 'https://t.co/h132YJ8Gqf', 'indices': [117, 140], 'expanded_url': 'https://twitter.com/DiarioSP/status/688080826563694593', 'display_url': 'twitter.com/DiarioSP/statu'}]}, 'quoted_status_id': 688080826563694593, 'retweeted': False, 'coordinates': None, 'quoted_status': {'contributors': None, 'truncated': False, 'text': 'Caetano Veloso e Nando Reis se beijam durante show no Rio de Janeiro https://t.co/6sfPvS9Xc5 https://t.co/hifoV9XpfA', 'is_quote_status': False, 'in_reply_to_status_id': None, 'id': 688080826563694593, 'favorite_count': 0, 'source': '<a href=\"http://www.hootsuite.com\" rel=\"nofollow\">Hootsuite</a>', 'retweeted': False, 'coordinates': None, 'entities': {'user_mentions': [], 'symbols': [], 'hashtags': [], 'urls': [{'url': 'https://t.co/6sfPvS9Xc5', 'indices': [69, 92], 'expanded_url': 'http://ow.ly/X7sdW', 'display_url': 'ow.ly/X7sdW'}], 'media': [{'expanded_url': 'http://twitter.com/DiarioSP/status/688080826563694593/photo/1', 'display_url': 'pic.twitter.com/hifoV9XpfA', 'url': 'https://t.co/hifoV9XpfA', 'media_url_https': 'https://pbs.twimg.com/media/CYyN3awWkAAEILQ.jpg', 'id_str': '688080826295291904', 'sizes': {'small': {'h': 255, 'resize': 'fit', 'w': 340}, 'large': {'h': 465, 'resize': 'fit', 'w': 620}, 'medium': {'h': 450, 'resize': 'fit', 'w': 600}, 'thumb': {'h': 150, 'resize': 'crop', 'w': 150}}, 'indices': [93, 116], 'type': 'photo', 'id': 688080826295291904, 'media_url': 'http://pbs.twimg.com/media/CYyN3awWkAAEILQ.jpg'}]}, 'in_reply_to_screen_name': None, 'id_str': '688080826563694593', 'retweet_count': 0, 'in_reply_to_user_id': None, 'favorited': False, 'user': {'follow_request_sent': None, 'profile_use_background_image': True, 'default_profile_image': False, 'id': 41806159, 'verified': False, 'profile_image_url_https': 'https://pbs.twimg.com/profile_images/3380357445/08f9c2c5735646a72118f4a4fbee812e_normal.jpeg', 'profile_sidebar_fill_color': 'CCC8C9', 'profile_text_color': '050005', 'followers_count': 21894, 'profile_sidebar_border_color': '181A1E', 'id_str': '41806159', 'profile_background_color': 'F2F2F2', 'listed_count': 342, 'profile_background_image_url_https': 'https://pbs.twimg.com/profile_background_images/269380626/Plano_de_Fundo_Original.jpg', 'utc_offset': -7200, 'statuses_count': 34517, 'description': 'Twitter oficial do Jornal Diario de S.Paulo.\\r\\nAcompanhe as principais noticias tambem pelo Facebook: http://www.facebook.com/diariodespaulo', 'friends_count': 3653, 'location': 'Sao Paulo', 'profile_link_color': '000405', 'profile_image_url': 'http://pbs.twimg.com/profile_images/3380357445/08f9c2c5735646a72118f4a4fbee812e_normal.jpeg', 'following': None, 'geo_enabled': True, 'profile_background_image_url': 'http://pbs.twimg.com/profile_background_images/269380626/Plano_de_Fundo_Original.jpg', 'name': 'Diario de S. Paulo', 'lang': 'pt', 'profile_background_tile': False, 'favourites_count': 5, 'screen_name': 'DiarioSP', 'notifications': None, 'url': 'http://www.diariosp.com.br', 'created_at': 'Fri May 22 12:57:53 +0000 2009', 'contributors_enabled': False, 'time_zone': 'Brasilia', 'protected': False, 'default_profile': False, 'is_translator': False}, 'geo': None, 'in_reply_to_user_id_str': None, 'possibly_sensitive': False, 'lang': 'pt', 'created_at': 'Fri Jan 15 19:30:27 +0000 2016', 'filter_level': 'low', 'in_reply_to_status_id_str': None, 'place': None, 'extended_entities': {'media': [{'expanded_url': 'http://twitter.com/DiarioSP/status/688080826563694593/photo/1', 'display_url': 'pic.twitter.com/hifoV9XpfA', 'url': 'https://t.co/hifoV9XpfA', 'media_url_https': 'https://pbs.twimg.com/media/CYyN3awWkAAEILQ.jpg', 'id_str': '688080826295291904', 'sizes': {'small': {'h': 255, 'resize': 'fit', 'w': 340}, 'large': {'h': 465, 'resize': 'fit', 'w': 620}, 'medium': {'h': 450, 'resize': 'fit', 'w': 600}, 'thumb': {'h': 150, 'resize': 'crop', 'w': 150}}, 'indices': [93, 116], 'type': 'photo', 'id': 688080826295291904, 'media_url': 'http://pbs.twimg.com/media/CYyN3awWkAAEILQ.jpg'}]}}, 'source': '<a href=\"http://twitter.com\" rel=\"nofollow\">Twitter Web Client</a>', 'in_reply_to_screen_name': None, 'id_str': '700277287749623808', 'retweet_count': 239, 'in_reply_to_user_id': None, 'favorited': False, 'user': {'follow_request_sent': None, 'profile_use_background_image': True, 'default_profile_image': False, 'id': 464128120, 'verified': False, 'profile_image_url_https': 'https://pbs.twimg.com/profile_images/619185180146839552/NKayZD_G_normal.jpg', 'profile_sidebar_fill_color': 'DDEEF6', 'profile_text_color': '333333', 'followers_count': 135538, 'profile_sidebar_border_color': 'FFFFFF', 'id_str': '464128120', 'profile_background_color': 'C0DEED', 'listed_count': 339, 'profile_background_image_url_https': 'https://pbs.twimg.com/profile_background_images/679378918453977088/468a4QtT.jpg', 'utc_offset': -7200, 'statuses_count': 15773, 'description': 'SOU JOAQUIN TEIXEIRA DA SILVA.\\nAPOSENTADO, HONESTO E HUMILDE.\\nProcuro felicidade, amigos e uma namorada (ninguem e de ferro)\\nSO USO TUITER OBRIGADO DE NADA #PAZ', 'friends_count': 12541, 'location': 'BRAGANCA PAULISTA', 'profile_link_color': '9266CC', 'profile_image_url': 'http://pbs.twimg.com/profile_images/619185180146839552/NKayZD_G_normal.jpg', 'following': None, 'geo_enabled': False, 'profile_banner_url': 'https://pbs.twimg.com/profile_banners/464128120/1450524142', 'profile_background_image_url': 'http://pbs.twimg.com/profile_background_images/679378918453977088/468a4QtT.jpg', 'name': 'JOAQUIN TEIXEIRA', 'lang': 'pt', 'profile_background_tile': True, 'favourites_count': 192976, 'screen_name': 'JOAQUINTDASILVA', 'notifications': None, 'url': 'http://www.orkut.com.br/Main#Profile?rl=mp&uid=6187316474452407315', 'created_at': 'Sat Jan 14 21:46:17 +0000 2012', 'contributors_enabled': False, 'time_zone': 'Brasilia', 'protected': False, 'default_profile': False, 'is_translator': False}, 'geo': None, 'in_reply_to_user_id_str': None, 'possibly_sensitive': True, 'lang': 'pt', 'created_at': 'Thu Feb 18 11:14:50 +0000 2016', 'quoted_status_id_str': '688080826563694593', 'filter_level': 'low', 'in_reply_to_status_id_str': None, 'place': None}, 'entities': {'user_mentions': [{'id': 464128120, 'indices': [3, 19], 'id_str': '464128120', 'screen_name': 'JOAQUINTDASILVA', 'name': 'JOAQUIN TEIXEIRA'}], 'symbols': [], 'hashtags': [], 'urls': [{'url': 'https://t.co/h132YJ8Gqf', 'indices': [139, 140], 'expanded_url': 'https://twitter.com/DiarioSP/status/688080826563694593', 'display_url': 'twitter.com/DiarioSP/statu'}]}, 'in_reply_to_user_id_str': None, 'retweeted': False, 'coordinates': None, 'timestamp_ms': '1455796719946', 'source': '<a href=\"http://twitter.com/download/android\" rel=\"nofollow\">Twitter for Android</a>', 'in_reply_to_status_id_str': None, 'in_reply_to_screen_name': None, 'id_str': '700288316114132992', 'place': None, 'retweet_count': 0, 'created_at': {'$date': 1455796719000}, 'in_reply_to_user_id': None, 'control': {'coletas': [{'terms': ['zika'], 'id': 83}], 'classification': {'c': 'lac', 'd': 1455796720775, 'exp_dengue_bin': {'1': Decimal('0.260439'), '0': Decimal('0.739561'), 'rules': 4, 'result': [False]}, 'v': 1, 'exp_dengue': {'informacao': Decimal('0.333141'), 'rules': 16, 'campanha': Decimal('0.022574'), 'opiniao': Decimal('0.07453899999999999'), 'result': ['3'], 'exp_pessoal': Decimal('0.254486'), 'parodia': Decimal('0.315261')}, 'spam_dengue': {'1': Decimal('0.556047'), '0': Decimal('0.443953'), 'rules': 5, 'result': [False]}}, 'terms': {'terms': [], 'd': 1455796720771, 'v': 3}, 'read': {'d': 1455796720765, 'v': 3}, 'last': 'UPDATE', 'lang': {'lang': 'pt', 'd': 1455796720769, 'v': 5}, 'geo': {'country': 'Brasil', 'type': 'Country', 'location': 'Brazil', 'coordinates': [Decimal('-14.2429'), Decimal('-54.3878')]}, 'update': {'d': 1455796720792, 'v': 2}}}, {'_id': 705010688704552960, 'favorited': False, 'contributors': None, 'truncated': False, 'text': 'RT @Prefeitura_POA: Dois bairros da Capital terao aplicacao de inseticida contra o Aedes Aegypti nessa quarta https://t.co/6Q51dsyJ7C https', 'possibly_sensitive': False, 'is_quote_status': False, 'in_reply_to_status_id': None, 'user': {'follow_request_sent': None, 'profile_use_background_image': True, 'default_profile_image': True, 'id': 2887536058, 'verified': False, 'profile_image_url_https': 'https://abs.twimg.com/sticky/default_profile_images/default_profile_1_normal.png', 'profile_sidebar_fill_color': 'DDEEF6', 'profile_text_color': '333333', 'followers_count': 7, 'profile_sidebar_border_color': 'C0DEED', 'id_str': '2887536058', 'profile_background_color': 'C0DEED', 'listed_count': 2, 'profile_background_image_url_https': 'https://abs.twimg.com/images/themes/theme1/bg.png', 'utc_offset': None, 'statuses_count': 803, 'description': None, 'friends_count': 38, 'location': None, 'profile_link_color': '0084B4', 'profile_image_url': 'http://abs.twimg.com/sticky/default_profile_images/default_profile_1_normal.png', 'following': None, 'geo_enabled': False, 'profile_background_image_url': 'http://abs.twimg.com/images/themes/theme1/bg.png', 'name': 'aline iglesias', 'lang': 'pt', 'profile_background_tile': False, 'favourites_count': 2123, 'screen_name': 'lilibiors', 'notifications': None, 'url': None, 'created_at': 'Sat Nov 22 00:04:40 +0000 2014', 'contributors_enabled': False, 'time_zone': None, 'protected': False, 'default_profile': True, 'is_translator': False}, 'filter_level': 'low', 'geo': None, 'id': 705010688704552960, 'favorite_count': 0, 'lang': 'pt', 'retweeted_status': {'contributors': None, 'truncated': False, 'text': 'Dois bairros da Capital terao aplicacao de inseticida contra o Aedes Aegypti nessa quarta https://t.co/6Q51dsyJ7C https://t.co/2aTarpWm7P', 'is_quote_status': False, 'in_reply_to_status_id': None, 'id': 704994409885114368, 'favorite_count': 5, 'source': '<a href=\"https://about.twitter.com/products/tweetdeck\" rel=\"nofollow\">TweetDeck</a>', 'retweeted': False, 'coordinates': None, 'entities': {'user_mentions': [], 'symbols': [], 'hashtags': [], 'urls': [{'url': 'https://t.co/6Q51dsyJ7C', 'indices': [90, 113], 'expanded_url': 'http://bit.ly/1Rn2fF6', 'display_url': 'bit.ly/1Rn2fF6'}], 'media': [{'expanded_url': 'http://twitter.com/Prefeitura_POA/status/704994409885114368/photo/1', 'display_url': 'pic.twitter.com/2aTarpWm7P', 'url': 'https://t.co/2aTarpWm7P', 'media_url_https': 'https://pbs.twimg.com/media/CcikU_VWoAAUKpk.jpg', 'id_str': '704994022188818432', 'sizes': {'large': {'h': 800, 'resize': 'fit', 'w': 800}, 'small': {'h': 340, 'resize': 'fit', 'w': 340}, 'medium': {'h': 600, 'resize': 'fit', 'w': 600}, 'thumb': {'h': 150, 'resize': 'crop', 'w': 150}}, 'indices': [114, 137], 'type': 'photo', 'id': 704994022188818432, 'media_url': 'http://pbs.twimg.com/media/CcikU_VWoAAUKpk.jpg'}]}, 'in_reply_to_screen_name': None, 'id_str': '704994409885114368', 'retweet_count': 4, 'in_reply_to_user_id': None, 'favorited': False, 'user': {'follow_request_sent': None, 'profile_use_background_image': True, 'default_profile_image': False, 'id': 97251131, 'verified': True, 'profile_image_url_https': 'https://pbs.twimg.com/profile_images/689169518191579137/t959M3qM_normal.jpg', 'profile_sidebar_fill_color': 'DDEEF6', 'profile_text_color': '333333', 'followers_count': 104928, 'profile_sidebar_border_color': 'C0DEED', 'id_str': '97251131', 'profile_background_color': 'C0DEED', 'listed_count': 383, 'profile_background_image_url_https': 'https://pbs.twimg.com/profile_background_images/537389329/fundo2.jpg', 'utc_offset': -10800, 'statuses_count': 45429, 'description': 'Noticias, campanhas e informacoes oficiais da Prefeitura de Porto Alegre. Para solicitar servicos, disque 156 ou acesse nosso site:', 'friends_count': 52, 'location': 'Porto Alegre', 'profile_link_color': '0084B4', 'profile_image_url': 'http://pbs.twimg.com/profile_images/689169518191579137/t959M3qM_normal.jpg', 'following': None, 'geo_enabled': False, 'profile_banner_url': 'https://pbs.twimg.com/profile_banners/97251131/1453145807', 'profile_background_image_url': 'http://pbs.twimg.com/profile_background_images/537389329/fundo2.jpg', 'name': 'Porto Alegre', 'lang': 'pt', 'profile_background_tile': False, 'favourites_count': 298, 'screen_name': 'Prefeitura_POA', 'notifications': None, 'url': 'http://www.portoalegre.rs.gov.br/', 'created_at': 'Wed Dec 16 17:22:48 +0000 2009', 'contributors_enabled': False, 'time_zone': 'Brasilia', 'protected': False, 'default_profile': False, 'is_translator': False}, 'geo': None, 'in_reply_to_user_id_str': None, 'possibly_sensitive': False, 'lang': 'pt', 'created_at': 'Wed Mar 02 11:39:00 +0000 2016', 'filter_level': 'low', 'in_reply_to_status_id_str': None, 'place': None, 'extended_entities': {'media': [{'expanded_url': 'http://twitter.com/Prefeitura_POA/status/704994409885114368/photo/1', 'display_url': 'pic.twitter.com/2aTarpWm7P', 'url': 'https://t.co/2aTarpWm7P', 'media_url_https': 'https://pbs.twimg.com/media/CcikU_VWoAAUKpk.jpg', 'id_str': '704994022188818432', 'sizes': {'large': {'h': 800, 'resize': 'fit', 'w': 800}, 'small': {'h': 340, 'resize': 'fit', 'w': 340}, 'medium': {'h': 600, 'resize': 'fit', 'w': 600}, 'thumb': {'h': 150, 'resize': 'crop', 'w': 150}}, 'indices': [114, 137], 'type': 'photo', 'id': 704994022188818432, 'media_url': 'http://pbs.twimg.com/media/CcikU_VWoAAUKpk.jpg'}]}}, 'entities': {'user_mentions': [{'id': 97251131, 'indices': [3, 18], 'id_str': '97251131', 'screen_name': 'Prefeitura_POA', 'name': 'Porto Alegre'}], 'symbols': [], 'hashtags': [], 'urls': [{'url': 'https://t.co/6Q51dsyJ7C', 'indices': [110, 133], 'expanded_url': 'http://bit.ly/1Rn2fF6', 'display_url': 'bit.ly/1Rn2fF6'}], 'media': [{'source_user_id': 97251131, 'source_status_id_str': '704994409885114368', 'expanded_url': 'http://twitter.com/Prefeitura_POA/status/704994409885114368/photo/1', 'display_url': 'pic.twitter.com/2aTarpWm7P', 'url': 'https://t.co/2aTarpWm7P', 'media_url_https': 'https://pbs.twimg.com/media/CcikU_VWoAAUKpk.jpg', 'source_user_id_str': '97251131', 'source_status_id': 704994409885114368, 'id_str': '704994022188818432', 'sizes': {'large': {'h': 800, 'resize': 'fit', 'w': 800}, 'small': {'h': 340, 'resize': 'fit', 'w': 340}, 'medium': {'h': 600, 'resize': 'fit', 'w': 600}, 'thumb': {'h': 150, 'resize': 'crop', 'w': 150}}, 'indices': [139, 140], 'type': 'photo', 'id': 704994022188818432, 'media_url': 'http://pbs.twimg.com/media/CcikU_VWoAAUKpk.jpg'}]}, 'in_reply_to_user_id_str': None, 'retweeted': False, 'coordinates': None, 'timestamp_ms': '1456922621309', 'source': '<a href=\"http://twitter.com/download/android\" rel=\"nofollow\">Twitter for Android</a>', 'in_reply_to_status_id_str': None, 'in_reply_to_screen_name': None, 'id_str': '705010688704552960', 'extended_entities': {'media': [{'source_user_id': 97251131, 'source_status_id_str': '704994409885114368', 'expanded_url': 'http://twitter.com/Prefeitura_POA/status/704994409885114368/photo/1', 'display_url': 'pic.twitter.com/2aTarpWm7P', 'url': 'https://t.co/2aTarpWm7P', 'media_url_https': 'https://pbs.twimg.com/media/CcikU_VWoAAUKpk.jpg', 'source_user_id_str': '97251131', 'source_status_id': 704994409885114368, 'id_str': '704994022188818432', 'sizes': {'large': {'h': 800, 'resize': 'fit', 'w': 800}, 'small': {'h': 340, 'resize': 'fit', 'w': 340}, 'medium': {'h': 600, 'resize': 'fit', 'w': 600}, 'thumb': {'h': 150, 'resize': 'crop', 'w': 150}}, 'indices': [139, 140], 'type': 'photo', 'id': 704994022188818432, 'media_url': 'http://pbs.twimg.com/media/CcikU_VWoAAUKpk.jpg'}]}, 'place': None, 'retweet_count': 0, 'created_at': {'$date': 1456922621000}, 'in_reply_to_user_id': None, 'control': {'coletas': [{'terms': ['aegypti', 'aedes'], 'id': 83}], 'classification': {'c': 'lac', 'd': 1456922622274, 'exp_dengue_bin': {'1': Decimal('0.093391'), '0': Decimal('0.906609'), 'rules': 15, 'result': [False]}, 'v': 1, 'exp_dengue': {'informacao': Decimal('0.507908'), 'rules': 35, 'campanha': Decimal('0.038704'), 'opiniao': Decimal('0.171208'), 'result': ['3'], 'exp_pessoal': Decimal('0.076664'), 'parodia': Decimal('0.205516')}, 'spam_dengue': {'1': Decimal('0.368421'), '0': Decimal('0.631579'), 'rules': 7, 'result': [False]}}, 'terms': {'tags': ['aedes'], 'terms': [], 'd': 1456922622267, 'v': 3}, 'read': {'d': 1456922622260, 'v': 3}, 'last': 'UPDATE', 'lang': {'lang': 'pt', 'd': 1456922622264, 'v': 5}, 'geo': {'d': 1456922622281, 'v': 1}, 'update': {'d': 1456922622289, 'v': 2}}}, {'_id': 705874950327037952, 'favorited': False, 'contributors': None, 'truncated': False, 'text': 'RT @luscas: daqui duas semanas tem um feriadinho pra nois povo brasileiro q ta cansado de sofre por dengue chico cunha zika lava jato e gre', 'is_quote_status': False, 'in_reply_to_status_id': None, 'user': {'follow_request_sent': None, 'profile_use_background_image': True, 'default_profile_image': False, 'id': 1141293284, 'verified': False, 'profile_image_url_https': 'https://pbs.twimg.com/profile_images/702937285369733120/oN1D4W8z_normal.jpg', 'profile_sidebar_fill_color': 'DDEEF6', 'profile_text_color': '333333', 'followers_count': 542, 'profile_sidebar_border_color': 'FFFFFF', 'id_str': '1141293284', 'profile_background_color': 'FA743E', 'listed_count': 5, 'profile_background_image_url_https': 'https://pbs.twimg.com/profile_background_images/668126790024581121/AL_WNPuT.jpg', 'utc_offset': None, 'statuses_count': 45731, 'description': 'laco quando aperta vira no loving can hurt sometimes segunda opcao', 'friends_count': 169, 'location': 'CG', 'profile_link_color': 'DD2E44', 'profile_image_url': 'http://pbs.twimg.com/profile_images/702937285369733120/oN1D4W8z_normal.jpg', 'following': None, 'geo_enabled': False, 'profile_banner_url': 'https://pbs.twimg.com/profile_banners/1141293284/1449893985', 'profile_background_image_url': 'http://pbs.twimg.com/profile_background_images/668126790024581121/AL_WNPuT.jpg', 'name': 'loh', 'lang': 'pt', 'profile_background_tile': False, 'favourites_count': 206, 'screen_name': 'lohann3_golin', 'notifications': None, 'url': 'http://a-crazydreamer.tumblr.com/', 'created_at': 'Sat Feb 02 02:38:34 +0000 2013', 'contributors_enabled': False, 'time_zone': None, 'protected': False, 'default_profile': False, 'is_translator': False}, 'filter_level': 'low', 'geo': None, 'id': 705874950327037952, 'favorite_count': 0, 'lang': 'pt', 'retweeted_status': {'contributors': None, 'truncated': False, 'text': 'daqui duas semanas tem um feriadinho pra nois povo brasileiro q ta cansado de sofre por dengue chico cunha zika lava jato e greys anatomy', 'is_quote_status': False, 'in_reply_to_status_id': None, 'id': 705873964363595776, 'favorite_count': 286, 'source': '<a href=\"http://twitter.com\" rel=\"nofollow\">Twitter Web Client</a>', 'retweeted': False, 'coordinates': None, 'entities': {'user_mentions': [], 'symbols': [], 'hashtags': [], 'urls': []}, 'in_reply_to_screen_name': None, 'id_str': '705873964363595776', 'retweet_count': 349, 'in_reply_to_user_id': None, 'favorited': False, 'user': {'follow_request_sent': None, 'profile_use_background_image': True, 'default_profile_image': False, 'id': 432983617, 'verified': True, 'profile_image_url_https': 'https://pbs.twimg.com/profile_images/699368987562528769/hgoXnnaQ_normal.jpg', 'profile_sidebar_fill_color': 'DDEEF6', 'profile_text_color': '333333', 'followers_count': 590995, 'profile_sidebar_border_color': 'FFFFFF', 'id_str': '432983617', 'profile_background_color': '000000', 'listed_count': 911, 'profile_background_image_url_https': 'https://pbs.twimg.com/profile_background_images/705842534464020480/H1HnhCnd.jpg', 'utc_offset': -10800, 'statuses_count': 117107, 'description': 'E QUEM NAO GOSTOU O UNFOLLOW TAI PRA ISSO NAO ME IMPORTAM NUMEROS QUERO GNT DE BEM ME SEGUINDO, SENSATA, POSITIVA, RESPEITOSA. Contato luscasconsoli@outlook.com', 'friends_count': 503, 'location': 'MG', 'profile_link_color': '000000', 'profile_image_url': 'http://pbs.twimg.com/profile_images/699368987562528769/hgoXnnaQ_normal.jpg', 'following': None, 'geo_enabled': True, 'profile_banner_url': 'https://pbs.twimg.com/profile_banners/432983617/1457127226', 'profile_background_image_url': 'http://pbs.twimg.com/profile_background_images/705842534464020480/H1HnhCnd.jpg', 'name': 'luscas', 'lang': 'en', 'profile_background_tile': True, 'favourites_count': 68633, 'screen_name': 'luscas', 'notifications': None, 'url': 'http://Instagram.com/luscaspfvr', 'created_at': 'Sat Dec 10 00:48:25 +0000 2011', 'contributors_enabled': False, 'time_zone': 'Brasilia', 'protected': False, 'default_profile': False, 'is_translator': False}, 'geo': None, 'in_reply_to_user_id_str': None, 'lang': 'pt', 'created_at': 'Fri Mar 04 21:54:02 +0000 2016', 'filter_level': 'low', 'in_reply_to_status_id_str': None, 'place': None}, 'entities': {'user_mentions': [{'id': 432983617, 'indices': [3, 10], 'id_str': '432983617', 'screen_name': 'luscas', 'name': 'luscas'}], 'symbols': [], 'hashtags': [], 'urls': []}, 'in_reply_to_user_id_str': None, 'retweeted': False, 'coordinates': None, 'timestamp_ms': '1457128677337', 'source': '<a href=\"https://mobile.twitter.com\" rel=\"nofollow\">Mobile Web (M2)</a>', 'in_reply_to_status_id_str': None, 'in_reply_to_screen_name': None, 'id_str': '705874950327037952', 'place': None, 'retweet_count': 0, 'created_at': {'$date': 1457128677000}, 'in_reply_to_user_id': None, 'control': {'coletas': [{'terms': ['dengue', 'zika'], 'id': 83}], 'classification': {'c': 'lac', 'd': 1457128678160, 'exp_dengue_bin': {'1': Decimal('0.309257'), '0': Decimal('0.690743'), 'rules': 14, 'result': [True]}, 'v': 1, 'exp_dengue': {'informacao': Decimal('0.234642'), 'rules': 39, 'campanha': Decimal('0.044986'), 'opiniao': Decimal('0.18792'), 'result': ['0'], 'exp_pessoal': Decimal('0.36793'), 'parodia': Decimal('0.164522')}, 'spam_dengue': {'1': Decimal('0.495327'), '0': Decimal('0.504673'), 'rules': 11, 'result': [False]}}, 'terms': {'tags': ['dengue'], 'terms': [], 'd': 1457128678150, 'v': 3}, 'read': {'d': 1457128678141, 'v': 3}, 'last': 'UPDATE', 'lang': {'lang': 'pt', 'd': 1457128678146, 'v': 5}, 'geo': {'country': 'Congo', 'type': 'Country', 'location': 'Congo', 'coordinates': [Decimal('-0.228021'), Decimal('15.827659')]}, 'update': {'d': 1457128678177, 'v': 2}}}, {'_id': 707682665151987712, 'favorited': False, 'contributors': None, 'truncated': False, 'text': 'RT @PoliticaNaPauta: Secretaria de Saude realizara caminhada contra a Dengue no Encanto: A Secretaria Municipal de Saude de Encanto... http', 'possibly_sensitive': False, 'is_quote_status': False, 'in_reply_to_status_id': None, 'user': {'follow_request_sent': None, 'profile_use_background_image': True, 'default_profile_image': False, 'id': 3119041025, 'verified': False, 'profile_image_url_https': 'https://pbs.twimg.com/profile_images/674060864690003973/VZjZh5eR_normal.jpg', 'profile_sidebar_fill_color': 'DDEEF6', 'profile_text_color': '333333', 'followers_count': 1855, 'profile_sidebar_border_color': 'C0DEED', 'id_str': '3119041025', 'profile_background_color': 'C0DEED', 'listed_count': 22, 'profile_background_image_url_https': 'https://abs.twimg.com/images/themes/theme1/bg.png', 'utc_offset': None, 'statuses_count': 38088, 'description': None, 'friends_count': 3000, 'location': None, 'profile_link_color': '0084B4', 'profile_image_url': 'http://pbs.twimg.com/profile_images/674060864690003973/VZjZh5eR_normal.jpg', 'following': None, 'geo_enabled': True, 'profile_banner_url': 'https://pbs.twimg.com/profile_banners/3119041025/1449716136', 'profile_background_image_url': 'http://abs.twimg.com/images/themes/theme1/bg.png', 'name': 'Sandra Bullockf15', 'lang': 'pt', 'profile_background_tile': False, 'favourites_count': 38945, 'screen_name': 'sandrabullockf5', 'notifications': None, 'url': None, 'created_at': 'Thu Mar 26 15:54:22 +0000 2015', 'contributors_enabled': False, 'time_zone': None, 'protected': False, 'default_profile': True, 'is_translator': False}, 'filter_level': 'low', 'geo': None, 'id': 707682665151987712, 'favorite_count': 0, 'lang': 'pt', 'retweeted_status': {'contributors': None, 'truncated': False, 'text': 'Secretaria de Saude realizara caminhada contra a Dengue no Encanto: A Secretaria Municipal de Saude de Encanto... https://t.co/6Rep2IFZfa', 'is_quote_status': False, 'in_reply_to_status_id': None, 'id': 707639635334336514, 'favorite_count': 1, 'source': '<a href=\"http://linkis.com\" rel=\"nofollow\">Linkis.com</a>', 'retweeted': False, 'coordinates': None, 'entities': {'user_mentions': [], 'symbols': [], 'hashtags': [], 'urls': [{'url': 'https://t.co/6Rep2IFZfa', 'indices': [114, 137], 'expanded_url': 'http://ln.is/blogspot.com/lbpx5', 'display_url': 'ln.is/blogspot.com/l'}]}, 'in_reply_to_screen_name': None, 'id_str': '707639635334336514', 'retweet_count': 1, 'in_reply_to_user_id': None, 'favorited': False, 'user': {'follow_request_sent': None, 'profile_use_background_image': True, 'default_profile_image': False, 'id': 2331658142, 'verified': False, 'profile_image_url_https': 'https://pbs.twimg.com/profile_images/701447388075057153/05LFfwj0_normal.png', 'profile_sidebar_fill_color': 'C0DFEC', 'profile_text_color': '333333', 'followers_count': 1437, 'profile_sidebar_border_color': 'A8C7F7', 'id_str': '2331658142', 'profile_background_color': '022330', 'listed_count': 7, 'profile_background_image_url_https': 'https://abs.twimg.com/images/themes/theme15/bg.png', 'utc_offset': -10800, 'statuses_count': 528, 'description': 'Curta nossa pagina no facebook https://www.facebook.com/PoliticaNaPauta', 'friends_count': 1671, 'location': None, 'profile_link_color': '0084B4', 'profile_image_url': 'http://pbs.twimg.com/profile_images/701447388075057153/05LFfwj0_normal.png', 'following': None, 'geo_enabled': True, 'profile_banner_url': 'https://pbs.twimg.com/profile_banners/2331658142/1456073040', 'profile_background_image_url': 'http://abs.twimg.com/images/themes/theme15/bg.png', 'name': 'Politica na Pauta', 'lang': 'pt', 'profile_background_tile': False, 'favourites_count': 441, 'screen_name': 'PoliticaNaPauta', 'notifications': None, 'url': 'http://www.politicanapauta.blogspot.com.br', 'created_at': 'Fri Feb 07 10:32:49 +0000 2014', 'contributors_enabled': False, 'time_zone': 'Brasilia', 'protected': False, 'default_profile': False, 'is_translator': False}, 'geo': None, 'in_reply_to_user_id_str': None, 'possibly_sensitive': False, 'lang': 'pt', 'created_at': 'Wed Mar 09 18:50:11 +0000 2016', 'filter_level': 'low', 'in_reply_to_status_id_str': None, 'place': None}, 'entities': {'user_mentions': [{'id': 2331658142, 'indices': [3, 19], 'id_str': '2331658142', 'screen_name': 'PoliticaNaPauta', 'name': 'Politica na Pauta'}], 'symbols': [], 'hashtags': [], 'urls': [{'url': 'https://t.co/6Rep2IFZfa', 'indices': [139, 140], 'expanded_url': 'http://ln.is/blogspot.com/lbpx5', 'display_url': 'ln.is/blogspot.com/l'}]}, 'in_reply_to_user_id_str': None, 'retweeted': False, 'coordinates': None, 'timestamp_ms': '1457559670137', 'source': '<a href=\"http://twitter.com/download/android\" rel=\"nofollow\">Twitter for Android</a>', 'in_reply_to_status_id_str': None, 'in_reply_to_screen_name': None, 'id_str': '707682665151987712', 'place': None, 'retweet_count': 0, 'created_at': {'$date': 1457559670000}, 'in_reply_to_user_id': None, 'control': {'coletas': [{'terms': ['dengue'], 'id': 83}], 'classification': {'c': 'lac', 'd': 1457559671426, 'exp_dengue_bin': {'1': Decimal('0.062235'), '0': Decimal('0.937765'), 'rules': 19, 'result': [False]}, 'v': 1, 'exp_dengue': {'informacao': Decimal('0.690172'), 'rules': 46, 'campanha': Decimal('0.114571'), 'opiniao': Decimal('0.06457400000000001'), 'result': ['3'], 'exp_pessoal': Decimal('0.057239'), 'parodia': Decimal('0.073444')}, 'spam_dengue': {'1': Decimal('0.223569'), '0': Decimal('0.776431'), 'rules': 15, 'result': [False]}}, 'terms': {'tags': ['dengue'], 'terms': [], 'd': 1457559671420, 'v': 3}, 'read': {'d': 1457559671411, 'v': 3}, 'last': 'UPDATE', 'lang': {'lang': 'pt', 'd': 1457559671418, 'v': 5}, 'geo': {'d': 1457559671432, 'v': 1}, 'update': {'d': 1457559671436, 'v': 2}}}, {'_id': 716645598313754625, 'favorited': False, 'contributors': None, 'truncated': False, 'text': 'RT @HambreCero: Cada dos minutos, una persona se contagia de dengue.\\nMas de 5500 casos notificados en una semana \\nhttps://t.co/AkjeByyATH v', 'possibly_sensitive': False, 'is_quote_status': False, 'in_reply_to_status_id': None, 'user': {'follow_request_sent': None, 'profile_use_background_image': True, 'default_profile_image': False, 'id': 310360754, 'verified': False, 'profile_image_url_https': 'https://pbs.twimg.com/profile_images/2331019078/q0fefu3gizc977f20hhb_normal.jpeg', 'profile_sidebar_fill_color': 'DDEEF6', 'profile_text_color': '333333', 'followers_count': 104, 'profile_sidebar_border_color': 'C0DEED', 'id_str': '310360754', 'profile_background_color': 'C0DEED', 'listed_count': 2, 'profile_background_image_url_https': 'https://abs.twimg.com/images/themes/theme1/bg.png', 'utc_offset': -36000, 'statuses_count': 507, 'description': 'Rendirse Jamas!!', 'friends_count': 265, 'location': 'En cualquier lugar del mundo', 'profile_link_color': '0084B4', 'profile_image_url': 'http://pbs.twimg.com/profile_images/2331019078/q0fefu3gizc977f20hhb_normal.jpeg', 'following': None, 'geo_enabled': True, 'profile_banner_url': 'https://pbs.twimg.com/profile_banners/310360754/1366745998', 'profile_background_image_url': 'http://abs.twimg.com/images/themes/theme1/bg.png', 'name': 'hernan blasco', 'lang': 'es', 'profile_background_tile': False, 'favourites_count': 131, 'screen_name': 'hernanblasco', 'notifications': None, 'url': None, 'created_at': 'Fri Jun 03 16:25:00 +0000 2011', 'contributors_enabled': False, 'time_zone': 'Hawaii', 'protected': False, 'default_profile': True, 'is_translator': False}, 'filter_level': 'low', 'geo': None, 'id': 716645598313754625, 'favorite_count': 0, 'lang': 'es', 'retweeted_status': {'contributors': None, 'truncated': False, 'text': 'Cada dos minutos, una persona se contagia de dengue.\\nMas de 5500 casos notificados en una semana \\nhttps://t.co/AkjeByyATH via @LANACION', 'is_quote_status': False, 'in_reply_to_status_id': None, 'id': 715282001415245824, 'favorite_count': 28, 'source': '<a href=\"http://twitter.com\" rel=\"nofollow\">Twitter Web Client</a>', 'retweeted': False, 'coordinates': None, 'entities': {'user_mentions': [{'id': 33989170, 'indices': [126, 135], 'id_str': '33989170', 'screen_name': 'LANACION', 'name': 'LA NACION'}], 'symbols': [], 'hashtags': [], 'urls': [{'url': 'https://t.co/AkjeByyATH', 'indices': [98, 121], 'expanded_url': 'http://www.lanacion.com.ar/1884309', 'display_url': 'lanacion.com.ar/1884309'}]}, 'in_reply_to_screen_name': None, 'id_str': '715282001415245824', 'retweet_count': 88, 'in_reply_to_user_id': None, 'favorited': False, 'user': {'follow_request_sent': None, 'profile_use_background_image': True, 'default_profile_image': False, 'id': 115392153, 'verified': False, 'profile_image_url_https': 'https://pbs.twimg.com/profile_images/968131915/Sofia_1__normal.jpg', 'profile_sidebar_fill_color': 'DDEEF6', 'profile_text_color': '333333', 'followers_count': 265771, 'profile_sidebar_border_color': 'FFFFFF', 'id_str': '115392153', 'profile_background_color': 'EBEBEB', 'listed_count': 945, 'profile_background_image_url_https': 'https://pbs.twimg.com/profile_background_images/630962281564778504/oNoGsFfE.jpg', 'utc_offset': -10800, 'statuses_count': 35640, 'description': 'FOTO Sofia nia de 3 aos, desaparecida en Sudamerica. En INSTAGRAM (juancarr1)\\r\\nSUEO Alcanzar el Hambre Cero en la Argentina, en America Latina y en el mundo', 'friends_count': 15002, 'location': 'America Latina', 'profile_link_color': '001499', 'profile_image_url': 'http://pbs.twimg.com/profile_images/968131915/Sofia_1__normal.jpg', 'following': None, 'geo_enabled': False, 'profile_banner_url': 'https://pbs.twimg.com/profile_banners/115392153/1398135379', 'profile_background_image_url': 'http://pbs.twimg.com/profile_background_images/630962281564778504/oNoGsFfE.jpg', 'name': 'Juan Carr', 'lang': 'es', 'profile_background_tile': False, 'favourites_count': 29, 'screen_name': 'HambreCero', 'notifications': None, 'url': 'http://www.mundoinvisible.com', 'created_at': 'Thu Feb 18 14:23:56 +0000 2010', 'contributors_enabled': False, 'time_zone': 'Buenos Aires', 'protected': False, 'default_profile': False, 'is_translator': False}, 'geo': None, 'in_reply_to_user_id_str': None, 'possibly_sensitive': False, 'lang': 'es', 'created_at': 'Wed Mar 30 20:58:13 +0000 2016', 'filter_level': 'low', 'in_reply_to_status_id_str': None, 'place': None}, 'entities': {'user_mentions': [{'id': 115392153, 'indices': [3, 14], 'id_str': '115392153', 'screen_name': 'HambreCero', 'name': 'Juan Carr'}, {'id': 33989170, 'indices': [139, 140], 'id_str': '33989170', 'screen_name': 'LANACION', 'name': 'LA NACION'}], 'symbols': [], 'hashtags': [], 'urls': [{'url': 'https://t.co/AkjeByyATH', 'indices': [114, 137], 'expanded_url': 'http://www.lanacion.com.ar/1884309', 'display_url': 'lanacion.com.ar/1884309'}]}, 'in_reply_to_user_id_str': None, 'retweeted': False, 'coordinates': None, 'timestamp_ms': '1459696599926', 'source': '<a href=\"http://twitter.com/download/android\" rel=\"nofollow\">Twitter for Android</a>', 'in_reply_to_status_id_str': None, 'in_reply_to_screen_name': None, 'id_str': '716645598313754625', 'place': None, 'retweet_count': 0, 'created_at': {'$date': 1459696599000}, 'in_reply_to_user_id': None, 'control': {'coletas': [{'terms': ['dengue'], 'id': 83}], 'classification': {'c': 'lac', 'd': 1459696600865, 'exp_dengue_bin': {'1': Decimal('0.278067'), '0': Decimal('0.721933'), 'rules': 12, 'result': [False]}, 'v': 1, 'exp_dengue': {'informacao': Decimal('0.559033'), 'rules': 28, 'campanha': Decimal('0.073726'), 'opiniao': Decimal('0.059276'), 'result': ['3'], 'exp_pessoal': Decimal('0.223592'), 'parodia': Decimal('0.084374')}, 'spam_dengue': {'1': Decimal('0.284719'), '0': Decimal('0.7152809999999999'), 'rules': 11, 'result': [False]}}, 'terms': {'tags': ['dengue'], 'terms': [], 'd': 1459696600861, 'v': 3}, 'read': {'d': 1459696600855, 'v': 3}, 'last': 'UPDATE', 'lang': {'lang': 'pt', 'd': 1459696600859, 'v': 5}, 'geo': {'d': 1459696600872, 'v': 1}, 'update': {'d': 1459696601249, 'v': 2}}}, {'_id': 718277523306594305, 'favorited': False, 'contributors': None, 'truncated': False, 'text': 'RT @5hNewsBrasil: Olha o que a pagina da prefeitura de Uberlandia fez pra chamar atencao para a prevencao da Dengue, Chicunguya e Zika http', 'possibly_sensitive': False, 'is_quote_status': False, 'in_reply_to_status_id': None, 'user': {'follow_request_sent': None, 'profile_use_background_image': True, 'default_profile_image': False, 'id': 90020878, 'verified': False, 'profile_image_url_https': 'https://pbs.twimg.com/profile_images/706941851991875584/OBtU4XiP_normal.png', 'profile_sidebar_fill_color': 'FAFAFA', 'profile_text_color': '0808F5', 'followers_count': 1006, 'profile_sidebar_border_color': '000000', 'id_str': '90020878', 'profile_background_color': 'E39ACC', 'listed_count': 14, 'profile_background_image_url_https': 'https://pbs.twimg.com/profile_background_images/576535147052277760/exAXb9C6.jpeg', 'utc_offset': -10800, 'statuses_count': 99487, 'description': 'I founded the International Association for Protection Butterflies from Afghanistan Nala Gata Luna Sven Thoren Athena Hulk ', 'friends_count': 410, 'location': 'Brasil', 'profile_link_color': '9266CC', 'profile_image_url': 'http://pbs.twimg.com/profile_images/706941851991875584/OBtU4XiP_normal.png', 'following': None, 'geo_enabled': True, 'profile_banner_url': 'https://pbs.twimg.com/profile_banners/90020878/1456791001', 'profile_background_image_url': 'http://pbs.twimg.com/profile_background_images/576535147052277760/exAXb9C6.jpeg', 'name': ' Deise ', 'lang': 'pt', 'profile_background_tile': True, 'favourites_count': 1634, 'screen_name': 'DeiseCM_', 'notifications': None, 'url': None, 'created_at': 'Sat Nov 14 21:05:36 +0000 2009', 'contributors_enabled': False, 'time_zone': 'Brasilia', 'protected': False, 'default_profile': False, 'is_translator': False}, 'filter_level': 'low', 'geo': None, 'id': 718277523306594305, 'favorite_count': 0, 'lang': 'pt', 'retweeted_status': {'contributors': None, 'truncated': False, 'text': 'Olha o que a pagina da prefeitura de Uberlandia fez pra chamar atencao para a prevencao da Dengue, Chicunguya e Zika https://t.co/gtEmGaE53f', 'is_quote_status': False, 'in_reply_to_status_id': None, 'id': 718277301759307777, 'favorite_count': 7, 'source': '<a href=\"http://twitter.com/download/iphone\" rel=\"nofollow\">Twitter for iPhone</a>', 'retweeted': False, 'coordinates': None, 'entities': {'user_mentions': [], 'symbols': [], 'hashtags': [], 'urls': [], 'media': [{'expanded_url': 'http://twitter.com/5hNewsBrasil/status/718277301759307777/photo/1', 'display_url': 'pic.twitter.com/gtEmGaE53f', 'url': 'https://t.co/gtEmGaE53f', 'media_url_https': 'https://pbs.twimg.com/media/CffVT7UXEAAddM-.jpg', 'id_str': '718277203906203648', 'sizes': {'large': {'h': 923, 'resize': 'fit', 'w': 639}, 'small': {'h': 491, 'resize': 'fit', 'w': 340}, 'medium': {'h': 867, 'resize': 'fit', 'w': 600}, 'thumb': {'h': 150, 'resize': 'crop', 'w': 150}}, 'indices': [117, 140], 'type': 'photo', 'id': 718277203906203648, 'media_url': 'http://pbs.twimg.com/media/CffVT7UXEAAddM-.jpg'}]}, 'in_reply_to_screen_name': None, 'id_str': '718277301759307777', 'retweet_count': 14, 'in_reply_to_user_id': None, 'favorited': False, 'user': {'follow_request_sent': None, 'profile_use_background_image': True, 'default_profile_image': False, 'id': 423490913, 'verified': False, 'profile_image_url_https': 'https://pbs.twimg.com/profile_images/705869764124659712/sK8GyKBT_normal.jpg', 'profile_sidebar_fill_color': 'EFEFEF', 'profile_text_color': '333333', 'followers_count': 107672, 'profile_sidebar_border_color': 'FFFFFF', 'id_str': '423490913', 'profile_background_color': '696D8F', 'listed_count': 247, 'profile_background_image_url_https': 'https://pbs.twimg.com/profile_background_images/613912090995109888/O-bMQ_uE.png', 'utc_offset': -10800, 'statuses_count': 98207, 'description': 'Melhor e mais atualizada fonte sobre Fifth Harmony no Brasil. http://fb.com/fifthharmonybr', 'friends_count': 1334, 'location': 'Brasil ', 'profile_link_color': 'BC724C', 'profile_image_url': 'http://pbs.twimg.com/profile_images/705869764124659712/sK8GyKBT_normal.jpg', 'following': None, 'geo_enabled': True, 'profile_banner_url': 'https://pbs.twimg.com/profile_banners/423490913/1456545131', 'profile_background_image_url': 'http://pbs.twimg.com/profile_background_images/613912090995109888/O-bMQ_uE.png', 'name': 'Fifth Harmony Brasil', 'lang': 'pt', 'profile_background_tile': False, 'favourites_count': 20159, 'screen_name': '5hNewsBrasil', 'notifications': None, 'url': 'http://fifthharmonybrasil.com/', 'created_at': 'Mon Nov 28 15:36:07 +0000 2011', 'contributors_enabled': False, 'time_zone': 'Brasilia', 'protected': False, 'default_profile': False, 'is_translator': False}, 'geo': None, 'in_reply_to_user_id_str': None, 'possibly_sensitive': False, 'lang': 'pt', 'created_at': 'Fri Apr 08 03:20:28 +0000 2016', 'filter_level': 'low', 'in_reply_to_status_id_str': None, 'place': None, 'extended_entities': {'media': [{'expanded_url': 'http://twitter.com/5hNewsBrasil/status/718277301759307777/photo/1', 'display_url': 'pic.twitter.com/gtEmGaE53f', 'url': 'https://t.co/gtEmGaE53f', 'media_url_https': 'https://pbs.twimg.com/media/CffVT7UXEAAddM-.jpg', 'id_str': '718277203906203648', 'sizes': {'large': {'h': 923, 'resize': 'fit', 'w': 639}, 'small': {'h': 491, 'resize': 'fit', 'w': 340}, 'medium': {'h': 867, 'resize': 'fit', 'w': 600}, 'thumb': {'h': 150, 'resize': 'crop', 'w': 150}}, 'indices': [117, 140], 'type': 'photo', 'id': 718277203906203648, 'media_url': 'http://pbs.twimg.com/media/CffVT7UXEAAddM-.jpg'}, {'expanded_url': 'http://twitter.com/5hNewsBrasil/status/718277301759307777/photo/1', 'display_url': 'pic.twitter.com/gtEmGaE53f', 'url': 'https://t.co/gtEmGaE53f', 'media_url_https': 'https://pbs.twimg.com/media/CffVT76XIAAXDaZ.jpg', 'id_str': '718277204065591296', 'sizes': {'small': {'h': 227, 'resize': 'fit', 'w': 340}, 'large': {'h': 683, 'resize': 'fit', 'w': 1024}, 'medium': {'h': 400, 'resize': 'fit', 'w': 600}, 'thumb': {'h': 150, 'resize': 'crop', 'w': 150}}, 'indices': [117, 140], 'type': 'photo', 'id': 718277204065591296, 'media_url': 'http://pbs.twimg.com/media/CffVT76XIAAXDaZ.jpg'}]}}, 'entities': {'user_mentions': [{'id': 423490913, 'indices': [3, 16], 'id_str': '423490913', 'screen_name': '5hNewsBrasil', 'name': 'Fifth Harmony Brasil'}], 'symbols': [], 'hashtags': [], 'urls': [], 'media': [{'source_user_id': 423490913, 'source_status_id_str': '718277301759307777', 'expanded_url': 'http://twitter.com/5hNewsBrasil/status/718277301759307777/photo/1', 'display_url': 'pic.twitter.com/gtEmGaE53f', 'url': 'https://t.co/gtEmGaE53f', 'media_url_https': 'https://pbs.twimg.com/media/CffVT7UXEAAddM-.jpg', 'source_user_id_str': '423490913', 'source_status_id': 718277301759307777, 'id_str': '718277203906203648', 'sizes': {'large': {'h': 923, 'resize': 'fit', 'w': 639}, 'small': {'h': 491, 'resize': 'fit', 'w': 340}, 'medium': {'h': 867, 'resize': 'fit', 'w': 600}, 'thumb': {'h': 150, 'resize': 'crop', 'w': 150}}, 'indices': [139, 140], 'type': 'photo', 'id': 718277203906203648, 'media_url': 'http://pbs.twimg.com/media/CffVT7UXEAAddM-.jpg'}]}, 'in_reply_to_user_id_str': None, 'retweeted': False, 'coordinates': None, 'timestamp_ms': '1460085681164', 'source': '<a href=\"http://twitter.com\" rel=\"nofollow\">Twitter Web Client</a>', 'in_reply_to_status_id_str': None, 'in_reply_to_screen_name': None, 'id_str': '718277523306594305', 'extended_entities': {'media': [{'source_user_id': 423490913, 'source_status_id_str': '718277301759307777', 'expanded_url': 'http://twitter.com/5hNewsBrasil/status/718277301759307777/photo/1', 'display_url': 'pic.twitter.com/gtEmGaE53f', 'url': 'https://t.co/gtEmGaE53f', 'media_url_https': 'https://pbs.twimg.com/media/CffVT7UXEAAddM-.jpg', 'source_user_id_str': '423490913', 'source_status_id': 718277301759307777, 'id_str': '718277203906203648', 'sizes': {'large': {'h': 923, 'resize': 'fit', 'w': 639}, 'small': {'h': 491, 'resize': 'fit', 'w': 340}, 'medium': {'h': 867, 'resize': 'fit', 'w': 600}, 'thumb': {'h': 150, 'resize': 'crop', 'w': 150}}, 'indices': [139, 140], 'type': 'photo', 'id': 718277203906203648, 'media_url': 'http://pbs.twimg.com/media/CffVT7UXEAAddM-.jpg'}, {'source_user_id': 423490913, 'source_status_id_str': '718277301759307777', 'expanded_url': 'http://twitter.com/5hNewsBrasil/status/718277301759307777/photo/1', 'display_url': 'pic.twitter.com/gtEmGaE53f', 'url': 'https://t.co/gtEmGaE53f', 'media_url_https': 'https://pbs.twimg.com/media/CffVT76XIAAXDaZ.jpg', 'source_user_id_str': '423490913', 'source_status_id': 718277301759307777, 'id_str': '718277204065591296', 'sizes': {'small': {'h': 227, 'resize': 'fit', 'w': 340}, 'large': {'h': 683, 'resize': 'fit', 'w': 1024}, 'medium': {'h': 400, 'resize': 'fit', 'w': 600}, 'thumb': {'h': 150, 'resize': 'crop', 'w': 150}}, 'indices': [139, 140], 'type': 'photo', 'id': 718277204065591296, 'media_url': 'http://pbs.twimg.com/media/CffVT76XIAAXDaZ.jpg'}]}, 'place': None, 'retweet_count': 0, 'created_at': {'$date': 1460085681000}, 'in_reply_to_user_id': None, 'control': {'coletas': [{'terms': ['dengue', 'zika'], 'id': 83}], 'classification': {'c': 'lac', 'd': 1460085682150, 'exp_dengue_bin': {'1': Decimal('0.20229'), '0': Decimal('0.79771'), 'rules': 17, 'result': [False]}, 'v': 1, 'exp_dengue': {'informacao': Decimal('0.347941'), 'rules': 47, 'campanha': Decimal('0.117013'), 'opiniao': Decimal('0.131635'), 'result': ['3'], 'exp_pessoal': Decimal('0.261068'), 'parodia': Decimal('0.142343')}, 'spam_dengue': {'1': Decimal('0.418805'), '0': Decimal('0.581195'), 'rules': 16, 'result': [False]}}, 'terms': {'tags': ['dengue'], 'terms': [], 'd': 1460085682145, 'v': 3}, 'read': {'d': 1460085682138, 'v': 3}, 'last': 'UPDATE', 'lang': {'lang': 'pt', 'd': 1460085682142, 'v': 5}, 'geo': {'country': 'Brasil', 'type': 'Country', 'location': 'Brazil', 'coordinates': [Decimal('-14.2429'), Decimal('-54.3878')]}, 'update': {'d': 1460085682164, 'v': 2}}}, {'_id': 820659778275995649, 'favorited': False, 'contributors': None, 'truncated': False, 'text': 'RT @guikastro_: Se o Drogba nao vier ja pode tacar fogo naquela loja que postou foto da camisa do Corinthians ja com o nome dele, a zika co', 'is_quote_status': False, 'in_reply_to_status_id': None, 'user': {'follow_request_sent': None, 'profile_use_background_image': True, 'id': 333051084, 'verified': False, 'profile_image_url_https': 'https://pbs.twimg.com/profile_images/786190651914321920/Dy758Dpz_normal.jpg', 'profile_sidebar_fill_color': 'E5507E', 'is_translator': False, 'geo_enabled': True, 'profile_text_color': '362720', 'followers_count': 4207, 'protected': False, 'location': 'Campo Grande', 'default_profile_image': False, 'id_str': '333051084', 'utc_offset': -10800, 'statuses_count': 99030, 'description': '10 e Faixa. Corinthiana.  Snap: Kacsoares', 'friends_count': 1271, 'profile_link_color': 'F5ABB5', 'profile_image_url': 'http://pbs.twimg.com/profile_images/786190651914321920/Dy758Dpz_normal.jpg', 'notifications': None, 'profile_background_image_url_https': 'https://abs.twimg.com/images/themes/theme11/bg.gif', 'profile_background_color': 'FF6699', 'profile_banner_url': 'https://pbs.twimg.com/profile_banners/333051084/1463971605', 'profile_background_image_url': 'http://abs.twimg.com/images/themes/theme11/bg.gif', 'screen_name': 'kacs_', 'lang': 'pt', 'profile_background_tile': True, 'favourites_count': 36911, 'name': 'karla', 'url': 'http://Instagram.com/kacs_', 'created_at': 'Sun Jul 10 22:08:36 +0000 2011', 'contributors_enabled': False, 'time_zone': 'Santiago', 'profile_sidebar_border_color': 'CC3366', 'default_profile': False, 'following': None, 'listed_count': 140}, 'filter_level': 'low', 'geo': None, 'id': 820659778275995649, 'favorite_count': 0, 'lang': 'pt', 'retweeted_status': {'contributors': None, 'truncated': False, 'text': 'Se o Drogba nao vier ja pode tacar fogo naquela loja que postou foto da camisa do Corinthians ja com o nome dele, a zika comecou ali', 'is_quote_status': False, 'in_reply_to_status_id': None, 'id': 820646655628296194, 'favorite_count': 4, 'source': '<a href=\"http://twitter.com/download/iphone\" rel=\"nofollow\">Twitter for iPhone</a>', 'retweeted': False, 'coordinates': None, 'entities': {'user_mentions': [], 'symbols': [], 'hashtags': [], 'urls': []}, 'in_reply_to_screen_name': None, 'in_reply_to_user_id': None, 'retweet_count': 4, 'id_str': '820646655628296194', 'favorited': False, 'user': {'follow_request_sent': None, 'profile_use_background_image': True, 'id': 751712272230342656, 'verified': False, 'profile_image_url_https': 'https://pbs.twimg.com/profile_images/820659681647620100/aTLyuQsB_normal.jpg', 'profile_sidebar_fill_color': 'DDEEF6', 'is_translator': False, 'geo_enabled': False, 'profile_text_color': '333333', 'followers_count': 631, 'protected': False, 'location': 'Minas Gerais, Brasil', 'default_profile_image': False, 'id_str': '751712272230342656', 'utc_offset': -28800, 'statuses_count': 1675, 'description': '20 - Batera  Cristao  @Corinthians  @acmilan  @realmadrid  fa de @oficina_g3', 'friends_count': 1157, 'profile_link_color': '1DA1F2', 'profile_image_url': 'http://pbs.twimg.com/profile_images/820659681647620100/aTLyuQsB_normal.jpg', 'notifications': None, 'profile_background_image_url_https': '', 'profile_background_color': 'F5F8FA', 'profile_banner_url': 'https://pbs.twimg.com/profile_banners/751712272230342656/1484198194', 'profile_background_image_url': '', 'screen_name': 'guikastro_', 'lang': 'pt', 'profile_background_tile': False, 'favourites_count': 2476, 'name': 'Guilherme', 'url': 'http://Instagram.com/guikastroo', 'created_at': 'Sat Jul 09 09:39:06 +0000 2016', 'contributors_enabled': False, 'time_zone': 'Pacific Time (US & Canada)', 'profile_sidebar_border_color': 'C0DEED', 'default_profile': True, 'following': None, 'listed_count': 2}, 'geo': None, 'in_reply_to_user_id_str': None, 'lang': 'pt', 'created_at': 'Sun Jan 15 14:59:44 +0000 2017', 'filter_level': 'low', 'in_reply_to_status_id_str': None, 'place': None}, 'entities': {'user_mentions': [{'indices': [3, 14], 'screen_name': 'guikastro_', 'id': 751712272230342656, 'name': 'Guilherme', 'id_str': '751712272230342656'}], 'symbols': [], 'hashtags': [], 'urls': []}, 'in_reply_to_user_id_str': None, 'retweeted': False, 'coordinates': None, 'timestamp_ms': '1484495512919', 'source': '<a href=\"http://twitter.com/download/iphone\" rel=\"nofollow\">Twitter for iPhone</a>', 'in_reply_to_status_id_str': None, 'in_reply_to_screen_name': None, 'in_reply_to_user_id': None, 'place': None, 'retweet_count': 0, 'created_at': {'$date': 1484495512000}, 'id_str': '820659778275995649', 'control': {'coleta': [83], 'classification': {'c': 'lac', 'd': 1517406523985, 'exp_dengue_bin': {'1': Decimal('0.385626'), '0': Decimal('0.614374'), 'rules': 10, 'result': [True]}, 'v': 1, 'exp_dengue': {'informacao': Decimal('0.141508'), 'rules': 21, 'campanha': Decimal('0.110538'), 'opiniao': Decimal('0.102282'), 'result': ['0'], 'exp_pessoal': Decimal('0.394637'), 'parodia': Decimal('0.251035')}, 'spam_dengue': {'1': Decimal('0.535915'), '0': Decimal('0.464085'), 'rules': 13, 'result': [False]}}, 'terms': {'terms': [], 'd': 1517341781941, 'v': 3}, 'read': {'d': 1517341781888, 'v': 3}, 'last': 'UPDATE', 'lang': {'lang': 'pt', 'd': 1517341781901, 'v': 5}, 'geo': {'city': 'Campo Grande', 'country': 'Brasil', 'coordinates': [Decimal('-20.4705301'), Decimal('-54.6243519')], 'state': 'MS', 'location': 'Campo Grande,MS,Brasil', 'type': 'Town'}, 'update': {'d': 1517413444217, 'v': 2}}}, {'_id': 857264195452186625, 'favorited': False, 'contributors': None, 'truncated': False, 'text': 'RT @rafagaglianoo: so vendo vcs viu o r7 com tres mina e zika, ai se fosse uma mina postando qualquer coisa com um cara ceis ja chama de pu', 'is_quote_status': False, 'in_reply_to_status_id': None, 'user': {'follow_request_sent': None, 'profile_use_background_image': True, 'id': 3122012502, 'verified': False, 'profile_image_url_https': 'https://pbs.twimg.com/profile_images/856659006030569478/sW4kHOFx_normal.jpg', 'profile_sidebar_fill_color': 'DDEEF6', 'is_translator': False, 'geo_enabled': True, 'profile_text_color': '333333', 'followers_count': 614, 'protected': False, 'location': 'Osasco, Brasil', 'default_profile_image': False, 'id_str': '3122012502', 'utc_offset': -10800, 'statuses_count': 27572, 'description': '@justinbieber ', 'friends_count': 722, 'profile_link_color': '1DA1F2', 'profile_image_url': 'http://pbs.twimg.com/profile_images/856659006030569478/sW4kHOFx_normal.jpg', 'notifications': None, 'profile_background_image_url_https': 'https://abs.twimg.com/images/themes/theme1/bg.png', 'profile_background_color': 'C0DEED', 'profile_banner_url': 'https://pbs.twimg.com/profile_banners/3122012502/1492890926', 'profile_background_image_url': 'http://abs.twimg.com/images/themes/theme1/bg.png', 'screen_name': 'vamoflaq_', 'lang': 'pt', 'profile_background_tile': False, 'favourites_count': 5086, 'name': 'dimineltro', 'url': None, 'created_at': 'Tue Mar 31 23:25:24 +0000 2015', 'contributors_enabled': False, 'time_zone': 'Atlantic Time (Canada)', 'profile_sidebar_border_color': 'C0DEED', 'default_profile': True, 'following': None, 'listed_count': 1}, 'filter_level': 'low', 'geo': None, 'id': 857264195452186625, 'favorite_count': 0, 'lang': 'pt', 'retweeted_status': {'contributors': None, 'truncated': False, 'text': 'so vendo vcs viu o r7 com tres mina e zika, ai se fosse uma mina postando qualquer coisa com um cara ceis ja chama de puta santa hipocrisia', 'is_quote_status': False, 'in_reply_to_status_id': None, 'id': 857191968996282368, 'favorite_count': 8, 'source': '<a href=\"http://twitter.com/download/iphone\" rel=\"nofollow\">Twitter for iPhone</a>', 'retweeted': False, 'coordinates': None, 'entities': {'user_mentions': [], 'symbols': [], 'hashtags': [], 'urls': []}, 'in_reply_to_screen_name': None, 'in_reply_to_user_id': None, 'retweet_count': 9, 'id_str': '857191968996282368', 'favorited': False, 'user': {'follow_request_sent': None, 'profile_use_background_image': True, 'id': 3318087418, 'verified': False, 'profile_image_url_https': 'https://pbs.twimg.com/profile_images/853948516359688192/Tg9pBNr1_normal.jpg', 'profile_sidebar_fill_color': 'DDEEF6', 'is_translator': False, 'geo_enabled': True, 'profile_text_color': '333333', 'followers_count': 886, 'protected': False, 'location': 'sp ', 'default_profile_image': False, 'id_str': '3318087418', 'utc_offset': None, 'statuses_count': 6322, 'description': 'Se nao me viu no sapatinho mentiu, to sempre na maior.', 'friends_count': 695, 'profile_link_color': '1DA1F2', 'profile_image_url': 'http://pbs.twimg.com/profile_images/853948516359688192/Tg9pBNr1_normal.jpg', 'notifications': None, 'profile_background_image_url_https': 'https://abs.twimg.com/images/themes/theme1/bg.png', 'profile_background_color': 'C0DEED', 'profile_banner_url': 'https://pbs.twimg.com/profile_banners/3318087418/1491601207', 'profile_background_image_url': 'http://abs.twimg.com/images/themes/theme1/bg.png', 'screen_name': 'rafagaglianoo', 'lang': 'pt', 'profile_background_tile': False, 'favourites_count': 1596, 'name': 'gagli ', 'url': 'http://cuidadasuavida.com', 'created_at': 'Wed Jun 10 22:20:43 +0000 2015', 'contributors_enabled': False, 'time_zone': None, 'profile_sidebar_border_color': 'C0DEED', 'default_profile': True, 'following': None, 'listed_count': 0}, 'geo': None, 'in_reply_to_user_id_str': None, 'lang': 'pt', 'created_at': 'Wed Apr 26 11:17:45 +0000 2017', 'filter_level': 'low', 'in_reply_to_status_id_str': None, 'place': None}, 'entities': {'user_mentions': [{'indices': [3, 17], 'screen_name': 'rafagaglianoo', 'id': 3318087418, 'name': 'gagli ', 'id_str': '3318087418'}], 'symbols': [], 'hashtags': [], 'urls': []}, 'in_reply_to_user_id_str': None, 'retweeted': False, 'coordinates': None, 'timestamp_ms': '1493222686051', 'source': '<a href=\"http://twitter.com/download/android\" rel=\"nofollow\">Twitter for Android</a>', 'in_reply_to_status_id_str': None, 'in_reply_to_screen_name': None, 'in_reply_to_user_id': None, 'place': None, 'retweet_count': 0, 'created_at': {'$date': 1493222686000}, 'id_str': '857264195452186625', 'control': {'coleta': [83], 'classification': {'c': 'lac', 'd': 1493222688260, 'exp_dengue_bin': {'1': Decimal('0.451889'), '0': Decimal('0.548111'), 'rules': 12, 'result': [True]}, 'v': 1, 'exp_dengue': {'informacao': Decimal('0.173035'), 'rules': 22, 'campanha': Decimal('0.149215'), 'opiniao': Decimal('0.126638'), 'result': ['0'], 'exp_pessoal': Decimal('0.396271'), 'parodia': Decimal('0.154842')}, 'spam_dengue': {'1': Decimal('0.5005309999999999'), '0': Decimal('0.499469'), 'rules': 13, 'result': [False]}}, 'terms': {'terms': [], 'd': 1493222688257, 'v': 3}, 'read': {'d': 1493222688250, 'v': 3}, 'last': 'UPDATE', 'lang': {'lang': 'pt', 'd': 1493222688254, 'v': 5}, 'geo': {'city': 'Osasco', 'country': 'Brasil', 'coordinates': [Decimal('-23.5324858'), Decimal('-46.79168')], 'state': 'SP', 'location': 'Osasco,SP,Brasil', 'type': 'Town'}, 'update': {'d': 1493222688276, 'v': 2}}}]\n"
     ]
    }
   ],
   "source": [
    "file_len = 7503436\n",
    "cut_tweets = []\n",
    "with bz2.open(file_fixed, 'r') as input_file:\n",
    "    count = 0\n",
    "    count_group = 0\n",
    "    items = ijson.items(input_file, 'item')\n",
    "    \n",
    "    for item in items:\n",
    "        if item[\"_id\"] in [998292557569413120, 857264195452186625, 700288316114132992, 699922663909826560, \\\n",
    "                              996725579813711872, 707682665151987712, 820659778275995649, 716645598313754625, \\\n",
    "                              700284781658054656, 705010688704552960, 705874950327037952, 718277523306594305]:\n",
    "            cut_tweets.append(item)\n",
    "            count_group += 1\n",
    "            if count_group == 10: break\n",
    "        count += 1\n",
    "\n",
    "        if count % (int(file_len/1000)) == 0:\n",
    "            clear_output()\n",
    "            frac = count/file_len*100\n",
    "            print(\"%.1f\" % frac, \"% done\", sep=\"\")\n",
    "print(cut_tweets)"
   ]
  },
  {
   "cell_type": "markdown",
   "metadata": {},
   "source": [
    "#### the samples were stored at '../outputs/tweet_check.json', but not properly formated as JSON. The file shows that those incomplete texts don't have the extended_tweet version neither. What should we do then???"
   ]
  },
  {
   "cell_type": "code",
   "execution_count": null,
   "metadata": {},
   "outputs": [],
   "source": []
  }
 ],
 "metadata": {
  "kernelspec": {
   "display_name": "Python 3",
   "language": "python",
   "name": "python3"
  },
  "language_info": {
   "codemirror_mode": {
    "name": "ipython",
    "version": 3
   },
   "file_extension": ".py",
   "mimetype": "text/x-python",
   "name": "python",
   "nbconvert_exporter": "python",
   "pygments_lexer": "ipython3",
   "version": "3.7.3"
  }
 },
 "nbformat": 4,
 "nbformat_minor": 2
}
