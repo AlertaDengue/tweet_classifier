{
 "cells": [
  {
   "cell_type": "code",
   "execution_count": 69,
   "metadata": {},
   "outputs": [],
   "source": [
    "import os\n",
    "import json\n",
    "import pandas as pd\n",
    "import pickle\n",
    "import string\n",
    "import re\n",
    "from fuzzywuzzy import fuzz \n",
    "from fuzzywuzzy import process \n",
    "\n",
    "from IPython.display import clear_output"
   ]
  },
  {
   "cell_type": "markdown",
   "metadata": {},
   "source": [
    "refs:\n",
    "* https://www.geeksforgeeks.org/fuzzywuzzy-python-library/\n",
    "\n",
    "python levenshtein installation on windows is not straightforward: see this link: \n",
    "* https://stackoverflow.com/questions/13200330/how-to-install-python-levenshtein-on-windows\n",
    "* or simply do: \n",
    "```python\n",
    "conda install -c conda-forge python-levenshtein\n",
    "```"
   ]
  },
  {
   "cell_type": "code",
   "execution_count": 2,
   "metadata": {},
   "outputs": [],
   "source": [
    "path = \"../outputs/\""
   ]
  },
  {
   "cell_type": "markdown",
   "metadata": {},
   "source": [
    "### get tweets"
   ]
  },
  {
   "cell_type": "code",
   "execution_count": 12,
   "metadata": {},
   "outputs": [],
   "source": [
    "main_inputs = \"../../inputs/\"\n",
    "inputs = '../inputs/'"
   ]
  },
  {
   "cell_type": "code",
   "execution_count": 13,
   "metadata": {},
   "outputs": [
    {
     "data": {
      "text/plain": [
       "'../../inputs/'"
      ]
     },
     "execution_count": 13,
     "metadata": {},
     "output_type": "execute_result"
    }
   ],
   "source": [
    "main_inputs"
   ]
  },
  {
   "cell_type": "code",
   "execution_count": 14,
   "metadata": {},
   "outputs": [],
   "source": [
    "data_path  = main_inputs + 'resultado.csv.bz2'\n",
    "data = pd.read_csv(data_path, header = None) "
   ]
  },
  {
   "cell_type": "code",
   "execution_count": 15,
   "metadata": {},
   "outputs": [],
   "source": [
    "data.columns = [\"date\", \"user\", \"message\", \"0\", \"1\", \"2\", \"3\", \"4\", \"class\", \"location\"]"
   ]
  },
  {
   "cell_type": "code",
   "execution_count": 16,
   "metadata": {},
   "outputs": [],
   "source": [
    "data['date'] = pd.to_datetime(data['date'])"
   ]
  },
  {
   "cell_type": "code",
   "execution_count": 17,
   "metadata": {},
   "outputs": [],
   "source": [
    "data = data[data['date'] > '2016-01-01 00:00:01']"
   ]
  },
  {
   "cell_type": "markdown",
   "metadata": {},
   "source": [
    "#### pickle"
   ]
  },
  {
   "cell_type": "raw",
   "metadata": {},
   "source": [
    "result = main_inputs+'resultado_2016-.pkl'\n",
    "pickle.dump(data, open(result, 'wb'))"
   ]
  },
  {
   "cell_type": "code",
   "execution_count": null,
   "metadata": {},
   "outputs": [],
   "source": [
    "data = pickle.load(open(resultado, 'rb'))"
   ]
  },
  {
   "cell_type": "markdown",
   "metadata": {},
   "source": [
    "# Levenshtein distance"
   ]
  },
  {
   "cell_type": "markdown",
   "metadata": {},
   "source": [
    "We are going to use WRatio to measure word distance.\n",
    "* WRatio handles lower and upper case, and also punctuation.\n",
    "* PartialRatio handles punctuation.\n",
    "* Ratio is the simplest option."
   ]
  },
  {
   "cell_type": "markdown",
   "metadata": {},
   "source": [
    "## test"
   ]
  },
  {
   "cell_type": "code",
   "execution_count": 40,
   "metadata": {},
   "outputs": [],
   "source": [
    "test1 = \"xiiii, dores no corpo podem indicar contração do vírus Chikungunya! Mas gás de xisto é ok\"\n",
    "test2 = \"aedes aegypti pode portar 4 tipos distintos de vírus, tal como xikungunya\"\n",
    "test3 = \"Chikungunya Chicungunya Chicungunia Chicungonia Chicongonia xicongonia xicogonia xicara chicon\""
   ]
  },
  {
   "cell_type": "code",
   "execution_count": 46,
   "metadata": {},
   "outputs": [],
   "source": [
    "text = test3.lower().split()\n",
    "distances_dict = {}\n",
    "for word in text:\n",
    "    if word.startswith(\"chi\") or word.startswith(\"xi\"):\n",
    "        if word not in distances_dict.keys():\n",
    "            edit_distance = fuzz.WRatio(word, \"chikungunya\")\n",
    "            if edit_distance > 40:\n",
    "                distances_dict[word] = fuzz.WRatio(word, \"chikungunya\")"
   ]
  },
  {
   "cell_type": "code",
   "execution_count": 47,
   "metadata": {
    "scrolled": true
   },
   "outputs": [
    {
     "data": {
      "text/plain": [
       "{'chikungunya': 100,\n",
       " 'chicungunya': 91,\n",
       " 'chicungunia': 82,\n",
       " 'chicungonia': 73,\n",
       " 'chicongonia': 64,\n",
       " 'xicongonia': 48,\n",
       " 'chicon': 60}"
      ]
     },
     "execution_count": 47,
     "metadata": {},
     "output_type": "execute_result"
    }
   ],
   "source": [
    "distances_dict"
   ]
  },
  {
   "cell_type": "markdown",
   "metadata": {},
   "source": [
    "## with data"
   ]
  },
  {
   "cell_type": "code",
   "execution_count": 36,
   "metadata": {},
   "outputs": [
    {
     "data": {
      "text/html": [
       "<div>\n",
       "<style scoped>\n",
       "    .dataframe tbody tr th:only-of-type {\n",
       "        vertical-align: middle;\n",
       "    }\n",
       "\n",
       "    .dataframe tbody tr th {\n",
       "        vertical-align: top;\n",
       "    }\n",
       "\n",
       "    .dataframe thead th {\n",
       "        text-align: right;\n",
       "    }\n",
       "</style>\n",
       "<table border=\"1\" class=\"dataframe\">\n",
       "  <thead>\n",
       "    <tr style=\"text-align: right;\">\n",
       "      <th></th>\n",
       "      <th>date</th>\n",
       "      <th>user</th>\n",
       "      <th>message</th>\n",
       "      <th>0</th>\n",
       "      <th>1</th>\n",
       "      <th>2</th>\n",
       "      <th>3</th>\n",
       "      <th>4</th>\n",
       "      <th>class</th>\n",
       "      <th>location</th>\n",
       "    </tr>\n",
       "  </thead>\n",
       "  <tbody>\n",
       "    <tr>\n",
       "      <td>6724589</td>\n",
       "      <td>2017-01-01 00:02:07</td>\n",
       "      <td>raulgloger</td>\n",
       "      <td>@victorprusch_ ba nem me fala !! Que zika esse...</td>\n",
       "      <td>0.038131</td>\n",
       "      <td>0.381141</td>\n",
       "      <td>0.000000</td>\n",
       "      <td>0.239816</td>\n",
       "      <td>0.340912</td>\n",
       "      <td>2</td>\n",
       "      <td>{u'd': 1517412736274, u'v': 1}</td>\n",
       "    </tr>\n",
       "    <tr>\n",
       "      <td>6724590</td>\n",
       "      <td>2017-01-01 00:08:51</td>\n",
       "      <td>sete1lagoas8</td>\n",
       "      <td>#ginecologista em Sete Lagoas, Gestantes e Ado...</td>\n",
       "      <td>0.080857</td>\n",
       "      <td>0.030312</td>\n",
       "      <td>0.424166</td>\n",
       "      <td>0.111154</td>\n",
       "      <td>0.353510</td>\n",
       "      <td>4</td>\n",
       "      <td>{u'city': u'Sete Lagoas', u'country': u'Brasil...</td>\n",
       "    </tr>\n",
       "    <tr>\n",
       "      <td>6724591</td>\n",
       "      <td>2017-01-01 00:11:40</td>\n",
       "      <td>MGsites</td>\n",
       "      <td>#ginecologista em Sete Lagoas, Gestantes e Ado...</td>\n",
       "      <td>0.073776</td>\n",
       "      <td>0.027657</td>\n",
       "      <td>0.387017</td>\n",
       "      <td>0.205092</td>\n",
       "      <td>0.306459</td>\n",
       "      <td>4</td>\n",
       "      <td>{u'city': u'Uberlandia', u'country': u'Brasil'...</td>\n",
       "    </tr>\n",
       "    <tr>\n",
       "      <td>6724592</td>\n",
       "      <td>2017-01-01 00:15:03</td>\n",
       "      <td>andrefm</td>\n",
       "      <td>RT @ikmkoji: RT g1 \"Ministério da Saúde divulg...</td>\n",
       "      <td>0.246583</td>\n",
       "      <td>0.149596</td>\n",
       "      <td>0.037452</td>\n",
       "      <td>0.041049</td>\n",
       "      <td>0.525320</td>\n",
       "      <td>3</td>\n",
       "      <td>{u'city': u'Guarulhos', u'country': u'Brasil',...</td>\n",
       "    </tr>\n",
       "    <tr>\n",
       "      <td>6724593</td>\n",
       "      <td>2017-01-01 00:17:27</td>\n",
       "      <td>taeminhoca</td>\n",
       "      <td>RT @thejungguk: meu 2016 foi mais parado que f...</td>\n",
       "      <td>0.550304</td>\n",
       "      <td>0.052972</td>\n",
       "      <td>0.043543</td>\n",
       "      <td>0.117504</td>\n",
       "      <td>0.235677</td>\n",
       "      <td>1</td>\n",
       "      <td>{u'd': 1517412736465, u'v': 1}</td>\n",
       "    </tr>\n",
       "  </tbody>\n",
       "</table>\n",
       "</div>"
      ],
      "text/plain": [
       "                       date          user  \\\n",
       "6724589 2017-01-01 00:02:07    raulgloger   \n",
       "6724590 2017-01-01 00:08:51  sete1lagoas8   \n",
       "6724591 2017-01-01 00:11:40       MGsites   \n",
       "6724592 2017-01-01 00:15:03       andrefm   \n",
       "6724593 2017-01-01 00:17:27    taeminhoca   \n",
       "\n",
       "                                                   message         0  \\\n",
       "6724589  @victorprusch_ ba nem me fala !! Que zika esse...  0.038131   \n",
       "6724590  #ginecologista em Sete Lagoas, Gestantes e Ado...  0.080857   \n",
       "6724591  #ginecologista em Sete Lagoas, Gestantes e Ado...  0.073776   \n",
       "6724592  RT @ikmkoji: RT g1 \"Ministério da Saúde divulg...  0.246583   \n",
       "6724593  RT @thejungguk: meu 2016 foi mais parado que f...  0.550304   \n",
       "\n",
       "                1         2         3         4  class  \\\n",
       "6724589  0.381141  0.000000  0.239816  0.340912      2   \n",
       "6724590  0.030312  0.424166  0.111154  0.353510      4   \n",
       "6724591  0.027657  0.387017  0.205092  0.306459      4   \n",
       "6724592  0.149596  0.037452  0.041049  0.525320      3   \n",
       "6724593  0.052972  0.043543  0.117504  0.235677      1   \n",
       "\n",
       "                                                  location  \n",
       "6724589                     {u'd': 1517412736274, u'v': 1}  \n",
       "6724590  {u'city': u'Sete Lagoas', u'country': u'Brasil...  \n",
       "6724591  {u'city': u'Uberlandia', u'country': u'Brasil'...  \n",
       "6724592  {u'city': u'Guarulhos', u'country': u'Brasil',...  \n",
       "6724593                     {u'd': 1517412736465, u'v': 1}  "
      ]
     },
     "execution_count": 36,
     "metadata": {},
     "output_type": "execute_result"
    }
   ],
   "source": [
    "data.head()"
   ]
  },
  {
   "cell_type": "code",
   "execution_count": 37,
   "metadata": {},
   "outputs": [],
   "source": [
    "texts = list(data['message'])"
   ]
  },
  {
   "cell_type": "code",
   "execution_count": 38,
   "metadata": {},
   "outputs": [
    {
     "data": {
      "text/plain": [
       "247357"
      ]
     },
     "execution_count": 38,
     "metadata": {},
     "output_type": "execute_result"
    }
   ],
   "source": [
    "len(texts)"
   ]
  },
  {
   "cell_type": "markdown",
   "metadata": {},
   "source": [
    "chikungunya\n",
    "* reference: https://portalarquivos2.saude.gov.br/images/pdf/2018/agosto/21/Publicacao-BE-2018-SE-30.pdf\n",
    "* peak year = 2017 \n",
    "* peak week = week 17 = 23-30/4/2017\n",
    "* occurrence timeframe = 1-33 = 1/1 a 20/8"
   ]
  },
  {
   "cell_type": "code",
   "execution_count": 34,
   "metadata": {},
   "outputs": [],
   "source": [
    "data = data[data['date'] > '2017-01-01 00:00:01']\n",
    "data = data[data['date'] < '2017-08-21 00:00:01']"
   ]
  },
  {
   "cell_type": "code",
   "execution_count": 147,
   "metadata": {},
   "outputs": [
    {
     "name": "stdout",
     "output_type": "stream",
     "text": [
      "100 % done\n"
     ]
    }
   ],
   "source": [
    "percentil = int(len(texts)/100)\n",
    "distances_dict = {}\n",
    "count = 0\n",
    "for text in texts:\n",
    "    count += 1\n",
    "    if count % percentil*10 == 0: print(int(count/percentil),'% done')\n",
    "    if count % (percentil-1) == 0: clear_output()\n",
    "    for word in text.lower().split():\n",
    "        if word.startswith(\"chi\") or word.startswith(\"xi\"):\n",
    "            word = word.strip(string.punctuation) \n",
    "            word = re.split('[\\.\\,\\;\\\\\\s\\/\\:\\-\\(\\&\\?\\!\\\"]', word)[0]\n",
    "            word = word.encode('ascii', 'ignore').decode('ascii') # remove emoticons\n",
    "            #print(word)\n",
    "            if word not in distances_dict.keys():\n",
    "                if len(word)>7:\n",
    "                    edit_distance = fuzz.WRatio(word, \"chikungunya\")\n",
    "                    if edit_distance > 55:\n",
    "                        distances_dict[word] = edit_distance\n",
    "    "
   ]
  },
  {
   "cell_type": "code",
   "execution_count": 148,
   "metadata": {},
   "outputs": [],
   "source": [
    "distances = sorted(distances_dict.items(), reverse=True, key=lambda kv: kv[1])"
   ]
  },
  {
   "cell_type": "code",
   "execution_count": 150,
   "metadata": {},
   "outputs": [
    {
     "data": {
      "text/plain": [
       "141"
      ]
     },
     "execution_count": 150,
     "metadata": {},
     "output_type": "execute_result"
    }
   ],
   "source": [
    "len(distances)"
   ]
  },
  {
   "cell_type": "code",
   "execution_count": 149,
   "metadata": {},
   "outputs": [
    {
     "data": {
      "text/plain": [
       "[('chikungunya', 100),\n",
       " ('chickungunya', 96),\n",
       " ('chinkungunya', 96),\n",
       " ('chikungunyua', 96),\n",
       " ('chikungunhya', 96),\n",
       " ('chikunguniya', 96),\n",
       " ('chikunguya', 95),\n",
       " ('chikunguny', 95),\n",
       " ('chikununya', 95),\n",
       " ('chikugunya', 95),\n",
       " ('chikungnya', 95),\n",
       " ('chikungunyada', 92),\n",
       " ('chicungunya', 91),\n",
       " ('chikungunha', 91),\n",
       " ('chikungunia', 91),\n",
       " ('chikongunya', 91),\n",
       " ('chikunguyna', 91),\n",
       " ('chikugungya', 91),\n",
       " ('chinkugunya', 91),\n",
       " ('chinungunya', 91),\n",
       " ('chigungunya', 91),\n",
       " ('chikingunya', 91),\n",
       " ('chikengunya', 91),\n",
       " ('chinkunguya', 91),\n",
       " ('chilungunya', 91),\n",
       " ('chikungua', 90),\n",
       " ('chikungya', 90),\n",
       " ('chikungun', 90),\n",
       " ('chickungunha', 87),\n",
       " ('chickungunia', 87),\n",
       " ('chikanguniya', 87),\n",
       " ('chinkungunha', 87),\n",
       " ('chikunguinha', 87),\n",
       " ('chikinguniya', 87),\n",
       " ('chincungunya', 87),\n",
       " ('chinkongunya', 87),\n",
       " ('chikungoonya', 87),\n",
       " ('chicugunya', 86),\n",
       " ('chikungyia', 86),\n",
       " ('chicungnya', 86),\n",
       " ('chicunguya', 86),\n",
       " ('chikugunia', 86),\n",
       " ('chikunguia', 86),\n",
       " ('chikunguha', 86),\n",
       " ('chigugunya', 86),\n",
       " ('chikugunha', 86),\n",
       " ('chinkungua', 86),\n",
       " ('chikogunya', 86),\n",
       " ('chigunguya', 86),\n",
       " ('chikinguya', 86),\n",
       " ('chikungu', 84),\n",
       " ('chikunya', 84),\n",
       " ('chickenguniya', 83),\n",
       " ('chicungunha', 82),\n",
       " ('chicunuguna', 82),\n",
       " ('chikumgunha', 82),\n",
       " ('chikungulia', 82),\n",
       " ('chicungunia', 82),\n",
       " ('chicongunya', 82),\n",
       " ('chingugunya', 82),\n",
       " ('chigungunha', 82),\n",
       " ('chinkugunia', 82),\n",
       " ('chikungynta', 82),\n",
       " ('chikengunia', 82),\n",
       " ('chikunbunha', 82),\n",
       " ('chigunkunya', 82),\n",
       " ('chinkunkuya', 82),\n",
       " ('chikangunia', 82),\n",
       " ('chinkugunha', 82),\n",
       " ('chikuncunha', 82),\n",
       " ('chingunguya', 82),\n",
       " ('chikumguyna', 82),\n",
       " ('chikcogunya', 82),\n",
       " ('chinkunguia', 82),\n",
       " ('chicungua', 80),\n",
       " ('chickengunia', 78),\n",
       " ('chincungunha', 78),\n",
       " ('chincongunya', 78),\n",
       " ('chiquingunia', 78),\n",
       " ('chicoungunha', 78),\n",
       " ('chicunguinha', 78),\n",
       " ('chicungunhia', 78),\n",
       " ('chichungunia', 78),\n",
       " ('chicugunha', 76),\n",
       " ('chiconguya', 76),\n",
       " ('chicungunh', 76),\n",
       " ('chicunguia', 76),\n",
       " ('chinugunha', 76),\n",
       " ('chicumguya', 76),\n",
       " ('xicungunya', 76),\n",
       " ('chingukuya', 76),\n",
       " ('chigunguia', 76),\n",
       " ('chickumgya', 76),\n",
       " ('chicugunea', 76),\n",
       " ('chikurundunga', 75),\n",
       " ('chicckengunia', 75),\n",
       " ('chicungu', 74),\n",
       " ('chingobunha', 73),\n",
       " ('chinkonkuya', 73),\n",
       " ('chincugunha', 73),\n",
       " ('chicongunha', 73),\n",
       " ('chicugunhga', 73),\n",
       " ('chicuguinha', 73),\n",
       " ('chigongunha', 73),\n",
       " ('chicumgunha', 73),\n",
       " ('chicuncunha', 73),\n",
       " ('chicunhunha', 73),\n",
       " ('chicunyunga', 73),\n",
       " ('chichngunyo', 73),\n",
       " ('xikunguia', 70),\n",
       " ('xicungunha', 67),\n",
       " ('chicogunha', 67),\n",
       " ('chicokunha', 67),\n",
       " ('chincoguia', 67),\n",
       " ('chifuvunha', 67),\n",
       " ('xicungunia', 67),\n",
       " ('xigungunha', 67),\n",
       " ('chicucunha', 67),\n",
       " ('chinucunha', 67),\n",
       " ('chicogunia', 67),\n",
       " ('chiconcuya', 67),\n",
       " ('chinkonkua', 67),\n",
       " ('chiconbunia', 64),\n",
       " ('xincungunha', 64),\n",
       " ('chiconkunha', 64),\n",
       " ('chicongonha', 64),\n",
       " ('chingada', 63),\n",
       " ('chingado', 63),\n",
       " ('chicunha', 63),\n",
       " ('chicungarcha', 61),\n",
       " ('chicubuia', 60),\n",
       " ('xigugunha', 60),\n",
       " ('chingando', 60),\n",
       " ('chihuahua', 60),\n",
       " ('chiquinha', 60),\n",
       " ('xicugunha', 60),\n",
       " ('chicocunha', 57),\n",
       " ('xicuncunha', 57),\n",
       " ('chicogonha', 57),\n",
       " ('xincugunha', 57),\n",
       " ('xicugunnha', 57)]"
      ]
     },
     "execution_count": 149,
     "metadata": {},
     "output_type": "execute_result"
    }
   ],
   "source": [
    "distances"
   ]
  },
  {
   "cell_type": "code",
   "execution_count": null,
   "metadata": {},
   "outputs": [],
   "source": []
  }
 ],
 "metadata": {
  "kernelspec": {
   "display_name": "Python 3",
   "language": "python",
   "name": "python3"
  },
  "language_info": {
   "codemirror_mode": {
    "name": "ipython",
    "version": 3
   },
   "file_extension": ".py",
   "mimetype": "text/x-python",
   "name": "python",
   "nbconvert_exporter": "python",
   "pygments_lexer": "ipython3",
   "version": "3.7.3"
  }
 },
 "nbformat": 4,
 "nbformat_minor": 2
}
